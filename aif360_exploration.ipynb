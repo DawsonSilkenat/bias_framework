{
 "cells": [
  {
   "cell_type": "code",
   "execution_count": 1,
   "metadata": {},
   "outputs": [
    {
     "name": "stderr",
     "output_type": "stream",
     "text": [
      "WARNING:root:No module named 'tensorflow': AdversarialDebiasing will be unavailable. To install, run:\n",
      "pip install 'aif360[AdversarialDebiasing]'\n",
      "WARNING:root:No module named 'tensorflow': AdversarialDebiasing will be unavailable. To install, run:\n",
      "pip install 'aif360[AdversarialDebiasing]'\n",
      "WARNING:root:No module named 'fairlearn': ExponentiatedGradientReduction will be unavailable. To install, run:\n",
      "pip install 'aif360[Reductions]'\n",
      "WARNING:root:No module named 'fairlearn': GridSearchReduction will be unavailable. To install, run:\n",
      "pip install 'aif360[Reductions]'\n",
      "WARNING:root:No module named 'inFairness': SenSeI and SenSR will be unavailable. To install, run:\n",
      "pip install 'aif360[inFairness]'\n",
      "WARNING:root:No module named 'fairlearn': GridSearchReduction will be unavailable. To install, run:\n",
      "pip install 'aif360[Reductions]'\n"
     ]
    }
   ],
   "source": [
    "import pandas as pd\n",
    "from aif360.metrics import ClassificationMetric\n",
    "from aif360.datasets import StandardDataset\n",
    "import numpy as np\n",
    "import random"
   ]
  },
  {
   "cell_type": "code",
   "execution_count": 2,
   "metadata": {},
   "outputs": [],
   "source": [
    "# Fake dataframe for exploration purposes, adapted from https://stackoverflow.com/questions/64506977/calculate-group-fairness-metrics-with-aif360/64543058#64543058 \n",
    "df_testing = pd.DataFrame({\n",
    "    'gender': [0, 0, 0, 0, 0, 0, 1, 1, 1, 1, 1, 1],\n",
    "    'race':   [0, 1, 2, 0, 1, 2, 0, 1, 2, 0, 1, 2],\n",
    "    'experience' : [random.random() for _ in range(12)]\n",
    "})\n",
    "\n",
    "df_true_labels = pd.DataFrame({'income': [0, 0, 0, 0, 1, 1, 0, 1, 0, 1, 1, 1]})\n",
    "df_pred_labels = np.array([[0, 0, 0, 0, 0, 0, 1, 1, 1, 1, 1, 1]], dtype=np.float64)"
   ]
  },
  {
   "cell_type": "code",
   "execution_count": 3,
   "metadata": {},
   "outputs": [],
   "source": [
    "# true_labels = BinaryLabelDataset(df=pd.concat([df_testing, df_true_labels], axis=1))\n",
    "# pred_labels = BinaryLabelDataset(df=pd.concat([df_testing, df_pred_labels], axis=1))\n",
    "\n",
    "dataset_true = StandardDataset(pd.concat([df_testing, df_true_labels], axis=1), \n",
    "                          label_name='income', \n",
    "                          favorable_classes=[1],\n",
    "                          protected_attribute_names=['gender', 'race'], \n",
    "                          privileged_classes=[[1], [1, 2]]\n",
    "                          )\n",
    "\n",
    "dataset_pred = dataset_true.copy()\n",
    "dataset_pred.labels = df_pred_labels"
   ]
  },
  {
   "cell_type": "code",
   "execution_count": 16,
   "metadata": {},
   "outputs": [
    {
     "name": "stdout",
     "output_type": "stream",
     "text": [
      "['gender', 'race']\n",
      "[array([1.]), array([1., 2.])]\n",
      "[array([0.]), array([0.])]\n",
      "<class 'numpy.ndarray'>\n"
     ]
    }
   ],
   "source": [
    "print(dataset_true.protected_attribute_names)\n",
    "print(dataset_true.privileged_protected_attributes)\n",
    "print(dataset_pred.unprivileged_protected_attributes)"
   ]
  },
  {
   "cell_type": "code",
   "execution_count": 21,
   "metadata": {},
   "outputs": [
    {
     "name": "stdout",
     "output_type": "stream",
     "text": [
      "[[0.         0.         0.07249987]\n",
      " [0.         1.         0.82100953]\n",
      " [0.         2.         0.91335378]\n",
      " [0.         0.         0.07736028]\n",
      " [0.         1.         0.60975377]\n",
      " [0.         2.         0.34025462]\n",
      " [1.         0.         0.13092951]\n",
      " [1.         1.         0.82604172]\n",
      " [1.         2.         0.9152109 ]\n",
      " [1.         0.         0.30186319]\n",
      " [1.         1.         0.41480413]\n",
      " [1.         2.         0.77303823]]\n",
      "['gender', 'race', 'experience']\n"
     ]
    }
   ],
   "source": [
    "with dataset_true.temporarily_ignore(\"race\"):\n",
    "    print(dataset_true.features)\n",
    "    print(dataset_true.feature_names)"
   ]
  },
  {
   "cell_type": "markdown",
   "metadata": {},
   "source": [
    "Trying single attribute bias"
   ]
  },
  {
   "cell_type": "code",
   "execution_count": 5,
   "metadata": {},
   "outputs": [
    {
     "data": {
      "text/plain": [
       "'gender'"
      ]
     },
     "execution_count": 5,
     "metadata": {},
     "output_type": "execute_result"
    }
   ],
   "source": [
    "attr = dataset_pred.protected_attribute_names[0]\n",
    "attr"
   ]
  },
  {
   "cell_type": "code",
   "execution_count": 6,
   "metadata": {},
   "outputs": [
    {
     "data": {
      "text/plain": [
       "0"
      ]
     },
     "execution_count": 6,
     "metadata": {},
     "output_type": "execute_result"
    }
   ],
   "source": [
    "idx = dataset_pred.protected_attribute_names.index(attr)\n",
    "idx"
   ]
  },
  {
   "cell_type": "code",
   "execution_count": 7,
   "metadata": {},
   "outputs": [
    {
     "data": {
      "text/plain": [
       "[{'gender': 1.0}]"
      ]
     },
     "execution_count": 7,
     "metadata": {},
     "output_type": "execute_result"
    }
   ],
   "source": [
    "privileged_groups =  [{attr:dataset_pred.privileged_protected_attributes[idx][0]}] \n",
    "privileged_groups"
   ]
  },
  {
   "cell_type": "code",
   "execution_count": 8,
   "metadata": {},
   "outputs": [
    {
     "data": {
      "text/plain": [
       "[{'gender': 0.0}]"
      ]
     },
     "execution_count": 8,
     "metadata": {},
     "output_type": "execute_result"
    }
   ],
   "source": [
    "unprivileged_groups = [{attr:dataset_pred.unprivileged_protected_attributes[idx][0]}]\n",
    "unprivileged_groups"
   ]
  },
  {
   "cell_type": "code",
   "execution_count": 9,
   "metadata": {},
   "outputs": [],
   "source": [
    "class_metric = ClassificationMetric(dataset_true, dataset_pred, unprivileged_groups=unprivileged_groups, privileged_groups=privileged_groups)"
   ]
  },
  {
   "cell_type": "code",
   "execution_count": 10,
   "metadata": {},
   "outputs": [
    {
     "data": {
      "text/plain": [
       "-1.0"
      ]
     },
     "execution_count": 10,
     "metadata": {},
     "output_type": "execute_result"
    }
   ],
   "source": [
    "class_metric.statistical_parity_difference()"
   ]
  },
  {
   "cell_type": "markdown",
   "metadata": {},
   "source": [
    "Trying multiple attribute bias "
   ]
  },
  {
   "cell_type": "code",
   "execution_count": 11,
   "metadata": {},
   "outputs": [
    {
     "data": {
      "text/plain": [
       "[{'gender': array([1.]), 'race': array([1., 2.])}]"
      ]
     },
     "execution_count": 11,
     "metadata": {},
     "output_type": "execute_result"
    }
   ],
   "source": [
    "\n",
    "privileged_groups = [{name : attribute for name, attribute in zip(dataset_true.protected_attribute_names, dataset_true.privileged_protected_attributes)}] \n",
    "privileged_groups"
   ]
  },
  {
   "cell_type": "code",
   "execution_count": 12,
   "metadata": {},
   "outputs": [
    {
     "data": {
      "text/plain": [
       "[{'gender': array([0.]), 'race': array([0.])}]"
      ]
     },
     "execution_count": 12,
     "metadata": {},
     "output_type": "execute_result"
    }
   ],
   "source": [
    "unprivileged_groups = [{name : attribute for name, attribute in zip(dataset_true.protected_attribute_names, dataset_true.unprivileged_protected_attributes)}] \n",
    "unprivileged_groups"
   ]
  },
  {
   "cell_type": "markdown",
   "metadata": {},
   "source": [
    "This causes an exception"
   ]
  },
  {
   "cell_type": "code",
   "execution_count": 13,
   "metadata": {},
   "outputs": [],
   "source": [
    "# class_metric = ClassificationMetric(dataset_pred, dataset_pred, unprivileged_groups=unprivileged_groups, privileged_groups=privileged_groups)\n",
    "# class_metric.statistical_parity_difference()"
   ]
  },
  {
   "cell_type": "code",
   "execution_count": 14,
   "metadata": {},
   "outputs": [
    {
     "data": {
      "text/plain": [
       "               instance weights            features                 labels\n",
       "                                protected attribute                       \n",
       "                                             gender race experience       \n",
       "instance names                                                            \n",
       "0                           1.0                 0.0  0.0   0.072500    0.0\n",
       "1                           1.0                 0.0  1.0   0.821010    0.0\n",
       "2                           1.0                 0.0  2.0   0.913354    0.0\n",
       "3                           1.0                 0.0  0.0   0.077360    0.0\n",
       "4                           1.0                 0.0  1.0   0.609754    1.0\n",
       "5                           1.0                 0.0  2.0   0.340255    1.0\n",
       "6                           1.0                 1.0  0.0   0.130930    0.0\n",
       "7                           1.0                 1.0  1.0   0.826042    1.0\n",
       "8                           1.0                 1.0  2.0   0.915211    0.0\n",
       "9                           1.0                 1.0  0.0   0.301863    1.0\n",
       "10                          1.0                 1.0  1.0   0.414804    1.0\n",
       "11                          1.0                 1.0  2.0   0.773038    1.0"
      ]
     },
     "execution_count": 14,
     "metadata": {},
     "output_type": "execute_result"
    }
   ],
   "source": [
    "dataset_true"
   ]
  }
 ],
 "metadata": {
  "kernelspec": {
   "display_name": "bias_framework-lO12qBfZ",
   "language": "python",
   "name": "python3"
  },
  "language_info": {
   "codemirror_mode": {
    "name": "ipython",
    "version": 3
   },
   "file_extension": ".py",
   "mimetype": "text/x-python",
   "name": "python",
   "nbconvert_exporter": "python",
   "pygments_lexer": "ipython3",
   "version": "3.11.8"
  },
  "orig_nbformat": 4
 },
 "nbformat": 4,
 "nbformat_minor": 2
}
