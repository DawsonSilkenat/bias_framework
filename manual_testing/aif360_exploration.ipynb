{
 "cells": [
  {
   "cell_type": "code",
   "execution_count": 11,
   "metadata": {},
   "outputs": [],
   "source": [
    "import pandas as pd\n",
    "from aif360.metrics import ClassificationMetric\n",
    "from aif360.datasets import StandardDataset, BinaryLabelDataset\n",
    "import numpy as np\n",
    "import random"
   ]
  },
  {
   "cell_type": "code",
   "execution_count": 12,
   "metadata": {},
   "outputs": [],
   "source": [
    "# Fake dataframe for exploration purposes, adapted from https://stackoverflow.com/questions/64506977/calculate-group-fairness-metrics-with-aif360/64543058#64543058 \n",
    "df_testing = pd.DataFrame({\n",
    "    'gender': [0, 0, 0, 0, 0, 0, 1, 1, 1, 1, 1, 1],\n",
    "    'race':   [0, 1, 2, 0, 1, 2, 0, 1, 2, 0, 1, 2],\n",
    "    'experience' : [random.random() for _ in range(12)]\n",
    "})\n",
    "\n",
    "df_true_labels = pd.DataFrame({'income': [0, 0, 0, 0, 1, 1, 0, 1, 0, 1, 1, 1]})\n",
    "df_pred_labels = np.array([[0, 0, 0, 0, 0, 0, 1, 1, 1, 1, 1, 1]], dtype=np.float64)"
   ]
  },
  {
   "cell_type": "code",
   "execution_count": 13,
   "metadata": {},
   "outputs": [],
   "source": [
    "# true_labels = BinaryLabelDataset(df=pd.concat([df_testing, df_true_labels], axis=1))\n",
    "# pred_labels = BinaryLabelDataset(df=pd.concat([df_testing, df_pred_labels], axis=1))\n",
    "\n",
    "dataset_true = StandardDataset(pd.concat([df_testing, df_true_labels], axis=1), \n",
    "                          label_name='income', \n",
    "                          favorable_classes=[1],\n",
    "                          protected_attribute_names=['gender', 'race'], \n",
    "                          privileged_classes=[[1], [1, 2]]\n",
    "                          )\n",
    "\n",
    "dataset_pred = dataset_true.copy()\n",
    "dataset_pred.labels = df_pred_labels"
   ]
  },
  {
   "cell_type": "code",
   "execution_count": 14,
   "metadata": {},
   "outputs": [
    {
     "name": "stdout",
     "output_type": "stream",
     "text": [
      "['gender', 'race']\n",
      "[array([1.]), array([1., 2.])]\n",
      "[array([0.]), array([0.])]\n"
     ]
    }
   ],
   "source": [
    "print(dataset_true.protected_attribute_names)\n",
    "print(dataset_true.privileged_protected_attributes)\n",
    "print(dataset_pred.unprivileged_protected_attributes)"
   ]
  },
  {
   "cell_type": "markdown",
   "metadata": {},
   "source": [
    "Trying single attribute bias"
   ]
  },
  {
   "cell_type": "code",
   "execution_count": 15,
   "metadata": {},
   "outputs": [
    {
     "data": {
      "text/plain": [
       "'gender'"
      ]
     },
     "execution_count": 15,
     "metadata": {},
     "output_type": "execute_result"
    }
   ],
   "source": [
    "attr = dataset_pred.protected_attribute_names[0]\n",
    "attr"
   ]
  },
  {
   "cell_type": "code",
   "execution_count": 16,
   "metadata": {},
   "outputs": [
    {
     "data": {
      "text/plain": [
       "0"
      ]
     },
     "execution_count": 16,
     "metadata": {},
     "output_type": "execute_result"
    }
   ],
   "source": [
    "idx = dataset_pred.protected_attribute_names.index(attr)\n",
    "idx"
   ]
  },
  {
   "cell_type": "code",
   "execution_count": 17,
   "metadata": {},
   "outputs": [
    {
     "data": {
      "text/plain": [
       "[{'gender': 1.0}]"
      ]
     },
     "execution_count": 17,
     "metadata": {},
     "output_type": "execute_result"
    }
   ],
   "source": [
    "privileged_groups =  [{attr:dataset_pred.privileged_protected_attributes[idx][0]}] \n",
    "privileged_groups"
   ]
  },
  {
   "cell_type": "code",
   "execution_count": 18,
   "metadata": {},
   "outputs": [
    {
     "data": {
      "text/plain": [
       "[{'gender': 0.0}]"
      ]
     },
     "execution_count": 18,
     "metadata": {},
     "output_type": "execute_result"
    }
   ],
   "source": [
    "unprivileged_groups = [{attr:dataset_pred.unprivileged_protected_attributes[idx][0]}]\n",
    "unprivileged_groups"
   ]
  },
  {
   "cell_type": "code",
   "execution_count": 19,
   "metadata": {},
   "outputs": [],
   "source": [
    "class_metric = ClassificationMetric(dataset_true, dataset_pred, unprivileged_groups=unprivileged_groups, privileged_groups=privileged_groups)"
   ]
  },
  {
   "cell_type": "code",
   "execution_count": 20,
   "metadata": {},
   "outputs": [
    {
     "data": {
      "text/plain": [
       "-1.0"
      ]
     },
     "execution_count": 20,
     "metadata": {},
     "output_type": "execute_result"
    }
   ],
   "source": [
    "class_metric.statistical_parity_difference()"
   ]
  },
  {
   "cell_type": "markdown",
   "metadata": {},
   "source": [
    "Trying multiple attribute bias "
   ]
  },
  {
   "cell_type": "code",
   "execution_count": 21,
   "metadata": {},
   "outputs": [
    {
     "data": {
      "text/plain": [
       "[{'gender': array([1.]), 'race': array([1., 2.])}]"
      ]
     },
     "execution_count": 21,
     "metadata": {},
     "output_type": "execute_result"
    }
   ],
   "source": [
    "\n",
    "privileged_groups = [{name : attribute for name, attribute in zip(dataset_true.protected_attribute_names, dataset_true.privileged_protected_attributes)}] \n",
    "privileged_groups"
   ]
  },
  {
   "cell_type": "code",
   "execution_count": 22,
   "metadata": {},
   "outputs": [
    {
     "data": {
      "text/plain": [
       "[{'gender': array([0.]), 'race': array([0.])}]"
      ]
     },
     "execution_count": 22,
     "metadata": {},
     "output_type": "execute_result"
    }
   ],
   "source": [
    "unprivileged_groups = [{name : attribute for name, attribute in zip(dataset_true.protected_attribute_names, dataset_true.unprivileged_protected_attributes)}] \n",
    "unprivileged_groups"
   ]
  },
  {
   "cell_type": "markdown",
   "metadata": {},
   "source": [
    "This causes an exception"
   ]
  },
  {
   "cell_type": "code",
   "execution_count": 23,
   "metadata": {},
   "outputs": [
    {
     "ename": "ValueError",
     "evalue": "operands could not be broadcast together with shapes (12,) (2,) ",
     "output_type": "error",
     "traceback": [
      "\u001b[0;31m---------------------------------------------------------------------------\u001b[0m",
      "\u001b[0;31mValueError\u001b[0m                                Traceback (most recent call last)",
      "\u001b[1;32m/Users/daws/Project/bias_framework/testing/aif360_exploration.ipynb Cell 15\u001b[0m line \u001b[0;36m1\n\u001b[0;32m----> <a href='vscode-notebook-cell:/Users/daws/Project/bias_framework/testing/aif360_exploration.ipynb#W2sZmlsZQ%3D%3D?line=0'>1</a>\u001b[0m class_metric \u001b[39m=\u001b[39m ClassificationMetric(dataset_pred, dataset_pred, unprivileged_groups\u001b[39m=\u001b[39;49munprivileged_groups, privileged_groups\u001b[39m=\u001b[39;49mprivileged_groups)\n",
      "File \u001b[0;32m~/.local/share/virtualenvs/bias_framework-lO12qBfZ/lib/python3.11/site-packages/aif360/metrics/classification_metric.py:40\u001b[0m, in \u001b[0;36mClassificationMetric.__init__\u001b[0;34m(self, dataset, classified_dataset, unprivileged_groups, privileged_groups)\u001b[0m\n\u001b[1;32m     37\u001b[0m     \u001b[39mraise\u001b[39;00m \u001b[39mTypeError\u001b[39;00m(\u001b[39m\"\u001b[39m\u001b[39m'\u001b[39m\u001b[39mdataset\u001b[39m\u001b[39m'\u001b[39m\u001b[39m should be a BinaryLabelDataset or a MulticlassLabelDataset\u001b[39m\u001b[39m\"\u001b[39m)\n\u001b[1;32m     39\u001b[0m \u001b[39m# sets self.dataset, self.unprivileged_groups, self.privileged_groups\u001b[39;00m\n\u001b[0;32m---> 40\u001b[0m \u001b[39msuper\u001b[39;49m(ClassificationMetric, \u001b[39mself\u001b[39;49m)\u001b[39m.\u001b[39;49m\u001b[39m__init__\u001b[39;49m(dataset,\n\u001b[1;32m     41\u001b[0m     unprivileged_groups\u001b[39m=\u001b[39;49munprivileged_groups,\n\u001b[1;32m     42\u001b[0m     privileged_groups\u001b[39m=\u001b[39;49mprivileged_groups)\n\u001b[1;32m     44\u001b[0m \u001b[39mif\u001b[39;00m \u001b[39misinstance\u001b[39m(classified_dataset, BinaryLabelDataset) \u001b[39mor\u001b[39;00m \u001b[39misinstance\u001b[39m(classified_dataset, MulticlassLabelDataset) :\n\u001b[1;32m     45\u001b[0m     \u001b[39mself\u001b[39m\u001b[39m.\u001b[39mclassified_dataset \u001b[39m=\u001b[39m classified_dataset\n",
      "File \u001b[0;32m~/.local/share/virtualenvs/bias_framework-lO12qBfZ/lib/python3.11/site-packages/aif360/metrics/binary_label_dataset_metric.py:34\u001b[0m, in \u001b[0;36mBinaryLabelDatasetMetric.__init__\u001b[0;34m(self, dataset, unprivileged_groups, privileged_groups)\u001b[0m\n\u001b[1;32m     31\u001b[0m     \u001b[39mraise\u001b[39;00m \u001b[39mTypeError\u001b[39;00m(\u001b[39m\"\u001b[39m\u001b[39m'\u001b[39m\u001b[39mdataset\u001b[39m\u001b[39m'\u001b[39m\u001b[39m should be a BinaryLabelDataset or a MulticlassLabelDataset\u001b[39m\u001b[39m\"\u001b[39m)\n\u001b[1;32m     33\u001b[0m \u001b[39m# sets self.dataset, self.unprivileged_groups, self.privileged_groups\u001b[39;00m\n\u001b[0;32m---> 34\u001b[0m \u001b[39msuper\u001b[39;49m(BinaryLabelDatasetMetric, \u001b[39mself\u001b[39;49m)\u001b[39m.\u001b[39;49m\u001b[39m__init__\u001b[39;49m(dataset,\n\u001b[1;32m     35\u001b[0m     unprivileged_groups\u001b[39m=\u001b[39;49munprivileged_groups,\n\u001b[1;32m     36\u001b[0m     privileged_groups\u001b[39m=\u001b[39;49mprivileged_groups)\n\u001b[1;32m     38\u001b[0m \u001b[39mif\u001b[39;00m \u001b[39misinstance\u001b[39m(dataset, MulticlassLabelDataset):\n\u001b[1;32m     39\u001b[0m     fav_label_value \u001b[39m=\u001b[39m \u001b[39m1.\u001b[39m\n",
      "File \u001b[0;32m~/.local/share/virtualenvs/bias_framework-lO12qBfZ/lib/python3.11/site-packages/aif360/metrics/dataset_metric.py:48\u001b[0m, in \u001b[0;36mDatasetMetric.__init__\u001b[0;34m(self, dataset, unprivileged_groups, privileged_groups)\u001b[0m\n\u001b[1;32m     45\u001b[0m \u001b[39mif\u001b[39;00m \u001b[39mnot\u001b[39;00m \u001b[39mself\u001b[39m\u001b[39m.\u001b[39mprivileged_groups \u001b[39mor\u001b[39;00m \u001b[39mnot\u001b[39;00m \u001b[39mself\u001b[39m\u001b[39m.\u001b[39munprivileged_groups:\n\u001b[1;32m     46\u001b[0m     \u001b[39mreturn\u001b[39;00m\n\u001b[0;32m---> 48\u001b[0m priv_mask \u001b[39m=\u001b[39m utils\u001b[39m.\u001b[39;49mcompute_boolean_conditioning_vector(\n\u001b[1;32m     49\u001b[0m     \u001b[39mself\u001b[39;49m\u001b[39m.\u001b[39;49mdataset\u001b[39m.\u001b[39;49mprotected_attributes,\n\u001b[1;32m     50\u001b[0m     \u001b[39mself\u001b[39;49m\u001b[39m.\u001b[39;49mdataset\u001b[39m.\u001b[39;49mprotected_attribute_names, \u001b[39mself\u001b[39;49m\u001b[39m.\u001b[39;49mprivileged_groups)\n\u001b[1;32m     51\u001b[0m unpriv_mask \u001b[39m=\u001b[39m utils\u001b[39m.\u001b[39mcompute_boolean_conditioning_vector(\n\u001b[1;32m     52\u001b[0m     \u001b[39mself\u001b[39m\u001b[39m.\u001b[39mdataset\u001b[39m.\u001b[39mprotected_attributes,\n\u001b[1;32m     53\u001b[0m     \u001b[39mself\u001b[39m\u001b[39m.\u001b[39mdataset\u001b[39m.\u001b[39mprotected_attribute_names, \u001b[39mself\u001b[39m\u001b[39m.\u001b[39munprivileged_groups)\n\u001b[1;32m     54\u001b[0m \u001b[39mif\u001b[39;00m np\u001b[39m.\u001b[39many(np\u001b[39m.\u001b[39mlogical_and(priv_mask, unpriv_mask)):\n",
      "File \u001b[0;32m~/.local/share/virtualenvs/bias_framework-lO12qBfZ/lib/python3.11/site-packages/aif360/metrics/utils.py:36\u001b[0m, in \u001b[0;36mcompute_boolean_conditioning_vector\u001b[0;34m(X, feature_names, condition)\u001b[0m\n\u001b[1;32m     34\u001b[0m     \u001b[39mfor\u001b[39;00m name, val \u001b[39min\u001b[39;00m group\u001b[39m.\u001b[39mitems():\n\u001b[1;32m     35\u001b[0m         index \u001b[39m=\u001b[39m feature_names\u001b[39m.\u001b[39mindex(name)\n\u001b[0;32m---> 36\u001b[0m         group_cond \u001b[39m=\u001b[39m np\u001b[39m.\u001b[39mlogical_and(group_cond, X[:, index] \u001b[39m==\u001b[39;49m val)\n\u001b[1;32m     37\u001b[0m     overall_cond \u001b[39m=\u001b[39m np\u001b[39m.\u001b[39mlogical_or(overall_cond, group_cond)\n\u001b[1;32m     39\u001b[0m \u001b[39mreturn\u001b[39;00m overall_cond\n",
      "\u001b[0;31mValueError\u001b[0m: operands could not be broadcast together with shapes (12,) (2,) "
     ]
    }
   ],
   "source": [
    "# class_metric = ClassificationMetric(dataset_pred, dataset_pred, unprivileged_groups=unprivileged_groups, privileged_groups=privileged_groups)\n",
    "# class_metric.statistical_parity_difference()"
   ]
  }
 ],
 "metadata": {
  "kernelspec": {
   "display_name": "bias_framework-lO12qBfZ",
   "language": "python",
   "name": "python3"
  },
  "language_info": {
   "codemirror_mode": {
    "name": "ipython",
    "version": 3
   },
   "file_extension": ".py",
   "mimetype": "text/x-python",
   "name": "python",
   "nbconvert_exporter": "python",
   "pygments_lexer": "ipython3",
   "version": "3.11.8"
  },
  "orig_nbformat": 4
 },
 "nbformat": 4,
 "nbformat_minor": 2
}
