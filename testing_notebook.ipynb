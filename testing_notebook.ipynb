{
 "cells": [
  {
   "cell_type": "code",
   "execution_count": 1,
   "metadata": {},
   "outputs": [
    {
     "name": "stderr",
     "output_type": "stream",
     "text": [
      "WARNING:root:No module named 'tensorflow': AdversarialDebiasing will be unavailable. To install, run:\n",
      "pip install 'aif360[AdversarialDebiasing]'\n",
      "WARNING:root:No module named 'tensorflow': AdversarialDebiasing will be unavailable. To install, run:\n",
      "pip install 'aif360[AdversarialDebiasing]'\n",
      "WARNING:root:No module named 'fairlearn': ExponentiatedGradientReduction will be unavailable. To install, run:\n",
      "pip install 'aif360[Reductions]'\n",
      "WARNING:root:No module named 'fairlearn': GridSearchReduction will be unavailable. To install, run:\n",
      "pip install 'aif360[Reductions]'\n",
      "WARNING:root:No module named 'inFairness': SenSeI and SenSR will be unavailable. To install, run:\n",
      "pip install 'aif360[inFairness]'\n",
      "WARNING:root:No module named 'fairlearn': GridSearchReduction will be unavailable. To install, run:\n",
      "pip install 'aif360[Reductions]'\n"
     ]
    }
   ],
   "source": [
    "from bias_framework import Bias_Framework\n",
    "import pandas as pd\n",
    "from sklearn.ensemble import RandomForestClassifier\n"
   ]
  },
  {
   "cell_type": "markdown",
   "metadata": {},
   "source": [
    "Download data from https://archive.ics.uci.edu/dataset/2/adult and unzip in this directory"
   ]
  },
  {
   "cell_type": "code",
   "execution_count": 2,
   "metadata": {},
   "outputs": [],
   "source": [
    "# Data appears not to include column names, but these can be found in adult.names. fnlwgt isn't a very good name, but it isn't mine\n",
    "df_census_income_train = pd.read_csv(\"./adult/adult.data\", names=[\"age\", \"workclass\", \"fnlwgt\", \"education\", \"education-num\", \"marital-status\", \"occupation\", \"relationship\", \"race\", \"sex\", \"capital-gain\", \"capital-loss\", \"hours-per-week\", \"native-country\", \"income\"])\n",
    "\n",
    "df_census_income_validation = pd.read_csv(\"./adult/adult.test\", skiprows=1, names=[\"age\", \"workclass\", \"fnlwgt\", \"education\", \"education-num\", \"marital-status\", \"occupation\", \"relationship\", \"race\", \"sex\", \"capital-gain\", \"capital-loss\", \"hours-per-week\", \"native-country\", \"income\"])\n",
    "\n"
   ]
  },
  {
   "cell_type": "code",
   "execution_count": 3,
   "metadata": {},
   "outputs": [
    {
     "data": {
      "text/html": [
       "<div>\n",
       "<style scoped>\n",
       "    .dataframe tbody tr th:only-of-type {\n",
       "        vertical-align: middle;\n",
       "    }\n",
       "\n",
       "    .dataframe tbody tr th {\n",
       "        vertical-align: top;\n",
       "    }\n",
       "\n",
       "    .dataframe thead th {\n",
       "        text-align: right;\n",
       "    }\n",
       "</style>\n",
       "<table border=\"1\" class=\"dataframe\">\n",
       "  <thead>\n",
       "    <tr style=\"text-align: right;\">\n",
       "      <th></th>\n",
       "      <th>age</th>\n",
       "      <th>workclass</th>\n",
       "      <th>fnlwgt</th>\n",
       "      <th>education</th>\n",
       "      <th>education-num</th>\n",
       "      <th>marital-status</th>\n",
       "      <th>occupation</th>\n",
       "      <th>relationship</th>\n",
       "      <th>race</th>\n",
       "      <th>sex</th>\n",
       "      <th>capital-gain</th>\n",
       "      <th>capital-loss</th>\n",
       "      <th>hours-per-week</th>\n",
       "      <th>native-country</th>\n",
       "      <th>income</th>\n",
       "    </tr>\n",
       "  </thead>\n",
       "  <tbody>\n",
       "    <tr>\n",
       "      <th>0</th>\n",
       "      <td>39</td>\n",
       "      <td>State-gov</td>\n",
       "      <td>77516</td>\n",
       "      <td>Bachelors</td>\n",
       "      <td>13</td>\n",
       "      <td>Never-married</td>\n",
       "      <td>Adm-clerical</td>\n",
       "      <td>Not-in-family</td>\n",
       "      <td>White</td>\n",
       "      <td>Male</td>\n",
       "      <td>2174</td>\n",
       "      <td>0</td>\n",
       "      <td>40</td>\n",
       "      <td>United-States</td>\n",
       "      <td>&lt;=50K</td>\n",
       "    </tr>\n",
       "    <tr>\n",
       "      <th>1</th>\n",
       "      <td>50</td>\n",
       "      <td>Self-emp-not-inc</td>\n",
       "      <td>83311</td>\n",
       "      <td>Bachelors</td>\n",
       "      <td>13</td>\n",
       "      <td>Married-civ-spouse</td>\n",
       "      <td>Exec-managerial</td>\n",
       "      <td>Husband</td>\n",
       "      <td>White</td>\n",
       "      <td>Male</td>\n",
       "      <td>0</td>\n",
       "      <td>0</td>\n",
       "      <td>13</td>\n",
       "      <td>United-States</td>\n",
       "      <td>&lt;=50K</td>\n",
       "    </tr>\n",
       "    <tr>\n",
       "      <th>2</th>\n",
       "      <td>38</td>\n",
       "      <td>Private</td>\n",
       "      <td>215646</td>\n",
       "      <td>HS-grad</td>\n",
       "      <td>9</td>\n",
       "      <td>Divorced</td>\n",
       "      <td>Handlers-cleaners</td>\n",
       "      <td>Not-in-family</td>\n",
       "      <td>White</td>\n",
       "      <td>Male</td>\n",
       "      <td>0</td>\n",
       "      <td>0</td>\n",
       "      <td>40</td>\n",
       "      <td>United-States</td>\n",
       "      <td>&lt;=50K</td>\n",
       "    </tr>\n",
       "    <tr>\n",
       "      <th>3</th>\n",
       "      <td>53</td>\n",
       "      <td>Private</td>\n",
       "      <td>234721</td>\n",
       "      <td>11th</td>\n",
       "      <td>7</td>\n",
       "      <td>Married-civ-spouse</td>\n",
       "      <td>Handlers-cleaners</td>\n",
       "      <td>Husband</td>\n",
       "      <td>Black</td>\n",
       "      <td>Male</td>\n",
       "      <td>0</td>\n",
       "      <td>0</td>\n",
       "      <td>40</td>\n",
       "      <td>United-States</td>\n",
       "      <td>&lt;=50K</td>\n",
       "    </tr>\n",
       "    <tr>\n",
       "      <th>4</th>\n",
       "      <td>28</td>\n",
       "      <td>Private</td>\n",
       "      <td>338409</td>\n",
       "      <td>Bachelors</td>\n",
       "      <td>13</td>\n",
       "      <td>Married-civ-spouse</td>\n",
       "      <td>Prof-specialty</td>\n",
       "      <td>Wife</td>\n",
       "      <td>Black</td>\n",
       "      <td>Female</td>\n",
       "      <td>0</td>\n",
       "      <td>0</td>\n",
       "      <td>40</td>\n",
       "      <td>Cuba</td>\n",
       "      <td>&lt;=50K</td>\n",
       "    </tr>\n",
       "  </tbody>\n",
       "</table>\n",
       "</div>"
      ],
      "text/plain": [
       "   age          workclass  fnlwgt   education  education-num  \\\n",
       "0   39          State-gov   77516   Bachelors             13   \n",
       "1   50   Self-emp-not-inc   83311   Bachelors             13   \n",
       "2   38            Private  215646     HS-grad              9   \n",
       "3   53            Private  234721        11th              7   \n",
       "4   28            Private  338409   Bachelors             13   \n",
       "\n",
       "        marital-status          occupation    relationship    race      sex  \\\n",
       "0        Never-married        Adm-clerical   Not-in-family   White     Male   \n",
       "1   Married-civ-spouse     Exec-managerial         Husband   White     Male   \n",
       "2             Divorced   Handlers-cleaners   Not-in-family   White     Male   \n",
       "3   Married-civ-spouse   Handlers-cleaners         Husband   Black     Male   \n",
       "4   Married-civ-spouse      Prof-specialty            Wife   Black   Female   \n",
       "\n",
       "   capital-gain  capital-loss  hours-per-week  native-country  income  \n",
       "0          2174             0              40   United-States   <=50K  \n",
       "1             0             0              13   United-States   <=50K  \n",
       "2             0             0              40   United-States   <=50K  \n",
       "3             0             0              40   United-States   <=50K  \n",
       "4             0             0              40            Cuba   <=50K  "
      ]
     },
     "execution_count": 3,
     "metadata": {},
     "output_type": "execute_result"
    }
   ],
   "source": [
    "df_census_income_train.head()"
   ]
  },
  {
   "cell_type": "code",
   "execution_count": 4,
   "metadata": {},
   "outputs": [
    {
     "data": {
      "text/html": [
       "<div>\n",
       "<style scoped>\n",
       "    .dataframe tbody tr th:only-of-type {\n",
       "        vertical-align: middle;\n",
       "    }\n",
       "\n",
       "    .dataframe tbody tr th {\n",
       "        vertical-align: top;\n",
       "    }\n",
       "\n",
       "    .dataframe thead th {\n",
       "        text-align: right;\n",
       "    }\n",
       "</style>\n",
       "<table border=\"1\" class=\"dataframe\">\n",
       "  <thead>\n",
       "    <tr style=\"text-align: right;\">\n",
       "      <th></th>\n",
       "      <th>age</th>\n",
       "      <th>workclass</th>\n",
       "      <th>fnlwgt</th>\n",
       "      <th>education</th>\n",
       "      <th>education-num</th>\n",
       "      <th>marital-status</th>\n",
       "      <th>occupation</th>\n",
       "      <th>relationship</th>\n",
       "      <th>race</th>\n",
       "      <th>sex</th>\n",
       "      <th>capital-gain</th>\n",
       "      <th>capital-loss</th>\n",
       "      <th>hours-per-week</th>\n",
       "      <th>native-country</th>\n",
       "      <th>income</th>\n",
       "    </tr>\n",
       "  </thead>\n",
       "  <tbody>\n",
       "    <tr>\n",
       "      <th>0</th>\n",
       "      <td>25</td>\n",
       "      <td>Private</td>\n",
       "      <td>226802</td>\n",
       "      <td>11th</td>\n",
       "      <td>7</td>\n",
       "      <td>Never-married</td>\n",
       "      <td>Machine-op-inspct</td>\n",
       "      <td>Own-child</td>\n",
       "      <td>Black</td>\n",
       "      <td>Male</td>\n",
       "      <td>0</td>\n",
       "      <td>0</td>\n",
       "      <td>40</td>\n",
       "      <td>United-States</td>\n",
       "      <td>&lt;=50K.</td>\n",
       "    </tr>\n",
       "    <tr>\n",
       "      <th>1</th>\n",
       "      <td>38</td>\n",
       "      <td>Private</td>\n",
       "      <td>89814</td>\n",
       "      <td>HS-grad</td>\n",
       "      <td>9</td>\n",
       "      <td>Married-civ-spouse</td>\n",
       "      <td>Farming-fishing</td>\n",
       "      <td>Husband</td>\n",
       "      <td>White</td>\n",
       "      <td>Male</td>\n",
       "      <td>0</td>\n",
       "      <td>0</td>\n",
       "      <td>50</td>\n",
       "      <td>United-States</td>\n",
       "      <td>&lt;=50K.</td>\n",
       "    </tr>\n",
       "    <tr>\n",
       "      <th>2</th>\n",
       "      <td>28</td>\n",
       "      <td>Local-gov</td>\n",
       "      <td>336951</td>\n",
       "      <td>Assoc-acdm</td>\n",
       "      <td>12</td>\n",
       "      <td>Married-civ-spouse</td>\n",
       "      <td>Protective-serv</td>\n",
       "      <td>Husband</td>\n",
       "      <td>White</td>\n",
       "      <td>Male</td>\n",
       "      <td>0</td>\n",
       "      <td>0</td>\n",
       "      <td>40</td>\n",
       "      <td>United-States</td>\n",
       "      <td>&gt;50K.</td>\n",
       "    </tr>\n",
       "    <tr>\n",
       "      <th>3</th>\n",
       "      <td>44</td>\n",
       "      <td>Private</td>\n",
       "      <td>160323</td>\n",
       "      <td>Some-college</td>\n",
       "      <td>10</td>\n",
       "      <td>Married-civ-spouse</td>\n",
       "      <td>Machine-op-inspct</td>\n",
       "      <td>Husband</td>\n",
       "      <td>Black</td>\n",
       "      <td>Male</td>\n",
       "      <td>7688</td>\n",
       "      <td>0</td>\n",
       "      <td>40</td>\n",
       "      <td>United-States</td>\n",
       "      <td>&gt;50K.</td>\n",
       "    </tr>\n",
       "    <tr>\n",
       "      <th>4</th>\n",
       "      <td>18</td>\n",
       "      <td>?</td>\n",
       "      <td>103497</td>\n",
       "      <td>Some-college</td>\n",
       "      <td>10</td>\n",
       "      <td>Never-married</td>\n",
       "      <td>?</td>\n",
       "      <td>Own-child</td>\n",
       "      <td>White</td>\n",
       "      <td>Female</td>\n",
       "      <td>0</td>\n",
       "      <td>0</td>\n",
       "      <td>30</td>\n",
       "      <td>United-States</td>\n",
       "      <td>&lt;=50K.</td>\n",
       "    </tr>\n",
       "  </tbody>\n",
       "</table>\n",
       "</div>"
      ],
      "text/plain": [
       "   age   workclass  fnlwgt      education  education-num       marital-status  \\\n",
       "0   25     Private  226802           11th              7        Never-married   \n",
       "1   38     Private   89814        HS-grad              9   Married-civ-spouse   \n",
       "2   28   Local-gov  336951     Assoc-acdm             12   Married-civ-spouse   \n",
       "3   44     Private  160323   Some-college             10   Married-civ-spouse   \n",
       "4   18           ?  103497   Some-college             10        Never-married   \n",
       "\n",
       "           occupation relationship    race      sex  capital-gain  \\\n",
       "0   Machine-op-inspct    Own-child   Black     Male             0   \n",
       "1     Farming-fishing      Husband   White     Male             0   \n",
       "2     Protective-serv      Husband   White     Male             0   \n",
       "3   Machine-op-inspct      Husband   Black     Male          7688   \n",
       "4                   ?    Own-child   White   Female             0   \n",
       "\n",
       "   capital-loss  hours-per-week  native-country   income  \n",
       "0             0              40   United-States   <=50K.  \n",
       "1             0              50   United-States   <=50K.  \n",
       "2             0              40   United-States    >50K.  \n",
       "3             0              40   United-States    >50K.  \n",
       "4             0              30   United-States   <=50K.  "
      ]
     },
     "execution_count": 4,
     "metadata": {},
     "output_type": "execute_result"
    }
   ],
   "source": [
    "df_census_income_validation.head()"
   ]
  },
  {
   "cell_type": "code",
   "execution_count": 5,
   "metadata": {},
   "outputs": [
    {
     "name": "stdout",
     "output_type": "stream",
     "text": [
      "<class 'pandas.core.frame.DataFrame'>\n",
      "RangeIndex: 32561 entries, 0 to 32560\n",
      "Data columns (total 15 columns):\n",
      " #   Column          Non-Null Count  Dtype \n",
      "---  ------          --------------  ----- \n",
      " 0   age             32561 non-null  int64 \n",
      " 1   workclass       32561 non-null  object\n",
      " 2   fnlwgt          32561 non-null  int64 \n",
      " 3   education       32561 non-null  object\n",
      " 4   education-num   32561 non-null  int64 \n",
      " 5   marital-status  32561 non-null  object\n",
      " 6   occupation      32561 non-null  object\n",
      " 7   relationship    32561 non-null  object\n",
      " 8   race            32561 non-null  object\n",
      " 9   sex             32561 non-null  object\n",
      " 10  capital-gain    32561 non-null  int64 \n",
      " 11  capital-loss    32561 non-null  int64 \n",
      " 12  hours-per-week  32561 non-null  int64 \n",
      " 13  native-country  32561 non-null  object\n",
      " 14  income          32561 non-null  object\n",
      "dtypes: int64(6), object(9)\n",
      "memory usage: 3.7+ MB\n"
     ]
    }
   ],
   "source": [
    "df_census_income_train.info()"
   ]
  },
  {
   "cell_type": "code",
   "execution_count": 6,
   "metadata": {},
   "outputs": [
    {
     "data": {
      "text/html": [
       "<div>\n",
       "<style scoped>\n",
       "    .dataframe tbody tr th:only-of-type {\n",
       "        vertical-align: middle;\n",
       "    }\n",
       "\n",
       "    .dataframe tbody tr th {\n",
       "        vertical-align: top;\n",
       "    }\n",
       "\n",
       "    .dataframe thead th {\n",
       "        text-align: right;\n",
       "    }\n",
       "</style>\n",
       "<table border=\"1\" class=\"dataframe\">\n",
       "  <thead>\n",
       "    <tr style=\"text-align: right;\">\n",
       "      <th></th>\n",
       "      <th>age</th>\n",
       "      <th>fnlwgt</th>\n",
       "      <th>education-num</th>\n",
       "      <th>capital-gain</th>\n",
       "      <th>capital-loss</th>\n",
       "      <th>hours-per-week</th>\n",
       "    </tr>\n",
       "  </thead>\n",
       "  <tbody>\n",
       "    <tr>\n",
       "      <th>count</th>\n",
       "      <td>32561.000000</td>\n",
       "      <td>3.256100e+04</td>\n",
       "      <td>32561.000000</td>\n",
       "      <td>32561.000000</td>\n",
       "      <td>32561.000000</td>\n",
       "      <td>32561.000000</td>\n",
       "    </tr>\n",
       "    <tr>\n",
       "      <th>mean</th>\n",
       "      <td>38.581647</td>\n",
       "      <td>1.897784e+05</td>\n",
       "      <td>10.080679</td>\n",
       "      <td>1077.648844</td>\n",
       "      <td>87.303830</td>\n",
       "      <td>40.437456</td>\n",
       "    </tr>\n",
       "    <tr>\n",
       "      <th>std</th>\n",
       "      <td>13.640433</td>\n",
       "      <td>1.055500e+05</td>\n",
       "      <td>2.572720</td>\n",
       "      <td>7385.292085</td>\n",
       "      <td>402.960219</td>\n",
       "      <td>12.347429</td>\n",
       "    </tr>\n",
       "    <tr>\n",
       "      <th>min</th>\n",
       "      <td>17.000000</td>\n",
       "      <td>1.228500e+04</td>\n",
       "      <td>1.000000</td>\n",
       "      <td>0.000000</td>\n",
       "      <td>0.000000</td>\n",
       "      <td>1.000000</td>\n",
       "    </tr>\n",
       "    <tr>\n",
       "      <th>25%</th>\n",
       "      <td>28.000000</td>\n",
       "      <td>1.178270e+05</td>\n",
       "      <td>9.000000</td>\n",
       "      <td>0.000000</td>\n",
       "      <td>0.000000</td>\n",
       "      <td>40.000000</td>\n",
       "    </tr>\n",
       "    <tr>\n",
       "      <th>50%</th>\n",
       "      <td>37.000000</td>\n",
       "      <td>1.783560e+05</td>\n",
       "      <td>10.000000</td>\n",
       "      <td>0.000000</td>\n",
       "      <td>0.000000</td>\n",
       "      <td>40.000000</td>\n",
       "    </tr>\n",
       "    <tr>\n",
       "      <th>75%</th>\n",
       "      <td>48.000000</td>\n",
       "      <td>2.370510e+05</td>\n",
       "      <td>12.000000</td>\n",
       "      <td>0.000000</td>\n",
       "      <td>0.000000</td>\n",
       "      <td>45.000000</td>\n",
       "    </tr>\n",
       "    <tr>\n",
       "      <th>max</th>\n",
       "      <td>90.000000</td>\n",
       "      <td>1.484705e+06</td>\n",
       "      <td>16.000000</td>\n",
       "      <td>99999.000000</td>\n",
       "      <td>4356.000000</td>\n",
       "      <td>99.000000</td>\n",
       "    </tr>\n",
       "  </tbody>\n",
       "</table>\n",
       "</div>"
      ],
      "text/plain": [
       "                age        fnlwgt  education-num  capital-gain  capital-loss  \\\n",
       "count  32561.000000  3.256100e+04   32561.000000  32561.000000  32561.000000   \n",
       "mean      38.581647  1.897784e+05      10.080679   1077.648844     87.303830   \n",
       "std       13.640433  1.055500e+05       2.572720   7385.292085    402.960219   \n",
       "min       17.000000  1.228500e+04       1.000000      0.000000      0.000000   \n",
       "25%       28.000000  1.178270e+05       9.000000      0.000000      0.000000   \n",
       "50%       37.000000  1.783560e+05      10.000000      0.000000      0.000000   \n",
       "75%       48.000000  2.370510e+05      12.000000      0.000000      0.000000   \n",
       "max       90.000000  1.484705e+06      16.000000  99999.000000   4356.000000   \n",
       "\n",
       "       hours-per-week  \n",
       "count    32561.000000  \n",
       "mean        40.437456  \n",
       "std         12.347429  \n",
       "min          1.000000  \n",
       "25%         40.000000  \n",
       "50%         40.000000  \n",
       "75%         45.000000  \n",
       "max         99.000000  "
      ]
     },
     "execution_count": 6,
     "metadata": {},
     "output_type": "execute_result"
    }
   ],
   "source": [
    "\n",
    "\n",
    "df_census_income_train.describe()\n",
    "\n"
   ]
  },
  {
   "cell_type": "code",
   "execution_count": 7,
   "metadata": {},
   "outputs": [
    {
     "name": "stdout",
     "output_type": "stream",
     "text": [
      "age, 73 unique values,\n",
      "workclass, 9 unique values,\n",
      "fnlwgt, 21648 unique values,\n",
      "education, 16 unique values,\n",
      "education-num, 16 unique values,\n",
      "marital-status, 7 unique values,\n",
      "occupation, 15 unique values,\n",
      "relationship, 6 unique values,\n",
      "race, 5 unique values,\n",
      "sex, 2 unique values,\n",
      "capital-gain, 119 unique values,\n",
      "capital-loss, 92 unique values,\n",
      "hours-per-week, 94 unique values,\n",
      "native-country, 42 unique values,\n",
      "income, 2 unique values,\n"
     ]
    }
   ],
   "source": [
    "for column in df_census_income_train.columns:\n",
    "    print(column + \",\", df_census_income_train[column].nunique(), \"unique values,\")"
   ]
  },
  {
   "cell_type": "markdown",
   "metadata": {},
   "source": [
    "We will partly adapt https://www.kaggle.com/code/yashhvyass/adult-census-income-logistic-reg-explained-86-2 in order to save dev time. This will be useful to return to for further modelling, but right now I am just going to do the bare minimum to test the bias framework"
   ]
  },
  {
   "cell_type": "code",
   "execution_count": 8,
   "metadata": {},
   "outputs": [],
   "source": [
    "df_census_income_train[\"sex\"] = df_census_income_train[\"sex\"].apply(lambda x: 1 if x.strip().lower() == \"male\" else 0)\n",
    "# According to the graphs in the link provided (and verified below more simply) the dataset is overwhelming white, so group all other races together\n",
    "# This is also useful since it makes it simpler to compare fairness\n",
    "df_census_income_train[\"race\"] = df_census_income_train[\"race\"].apply(lambda x: 1 if x.strip().lower() == \"white\" else 0)\n",
    "# Similar to race\n",
    "df_census_income_train[\"native-country\"] = df_census_income_train[\"native-country\"].apply(lambda x: 1 if x.strip().lower() == \"united-states\" else 0)\n",
    "df_census_income_train[\"income\"] = df_census_income_train[\"income\"].apply(lambda x: 1 if x.strip().lower() == \">50k\" else 0)\n",
    "\n",
    "# Everything we do to the training data we need to do to the validation data\n",
    "df_census_income_validation[\"sex\"] = df_census_income_validation[\"sex\"].apply(lambda x: 1 if x.strip().lower() == \"male\" else 0)\n",
    "df_census_income_validation[\"race\"] = df_census_income_validation[\"race\"].apply(lambda x: 1 if x.strip().lower() == \"white\" else 0)\n",
    "df_census_income_validation[\"native-country\"] = df_census_income_validation[\"native-country\"].apply(lambda x: 1 if x.strip().lower() == \"united-states\" else 0)\n",
    "# Turns out this is ever so slightly different from the training set\n",
    "df_census_income_validation[\"income\"] = df_census_income_validation[\"income\"].apply(lambda x: 1 if x.strip().lower() == \">50k.\" else 0)\n"
   ]
  },
  {
   "cell_type": "code",
   "execution_count": 9,
   "metadata": {},
   "outputs": [
    {
     "data": {
      "text/plain": [
       "race\n",
       "1    27816\n",
       "0     4745\n",
       "Name: count, dtype: int64"
      ]
     },
     "execution_count": 9,
     "metadata": {},
     "output_type": "execute_result"
    }
   ],
   "source": [
    "df_census_income_train[\"race\"].value_counts()"
   ]
  },
  {
   "cell_type": "code",
   "execution_count": 10,
   "metadata": {},
   "outputs": [
    {
     "data": {
      "text/plain": [
       "native-country\n",
       "1    29170\n",
       "0     3391\n",
       "Name: count, dtype: int64"
      ]
     },
     "execution_count": 10,
     "metadata": {},
     "output_type": "execute_result"
    }
   ],
   "source": [
    "df_census_income_train[\"native-country\"].value_counts()"
   ]
  },
  {
   "cell_type": "code",
   "execution_count": 11,
   "metadata": {},
   "outputs": [
    {
     "data": {
      "text/plain": [
       "income\n",
       "0    12435\n",
       "1     3846\n",
       "Name: count, dtype: int64"
      ]
     },
     "execution_count": 11,
     "metadata": {},
     "output_type": "execute_result"
    }
   ],
   "source": [
    "df_census_income_validation[\"income\"].value_counts()"
   ]
  },
  {
   "cell_type": "code",
   "execution_count": 12,
   "metadata": {},
   "outputs": [],
   "source": [
    "# Getting rid of fnlwgt because the discription in the kaggle link does not make it sound useful\n",
    "# Getting rid of education-num since it duplicates education, which we can 1 hot encode\n",
    "df_census_income_train.drop(columns=[\"fnlwgt\", \"education-num\"], inplace=True)\n",
    "df_census_income_validation.drop(columns=[\"fnlwgt\", \"education-num\"], inplace=True)\n"
   ]
  },
  {
   "cell_type": "code",
   "execution_count": 13,
   "metadata": {},
   "outputs": [],
   "source": [
    "df_census_income_train = pd.get_dummies(df_census_income_train, columns=df_census_income_train.select_dtypes(include=['object']).columns.tolist())\n",
    "df_census_income_validation = pd.get_dummies(df_census_income_validation, columns=df_census_income_validation.select_dtypes(include=['object']).columns.tolist())"
   ]
  },
  {
   "cell_type": "code",
   "execution_count": 14,
   "metadata": {},
   "outputs": [
    {
     "data": {
      "text/html": [
       "<div>\n",
       "<style scoped>\n",
       "    .dataframe tbody tr th:only-of-type {\n",
       "        vertical-align: middle;\n",
       "    }\n",
       "\n",
       "    .dataframe tbody tr th {\n",
       "        vertical-align: top;\n",
       "    }\n",
       "\n",
       "    .dataframe thead th {\n",
       "        text-align: right;\n",
       "    }\n",
       "</style>\n",
       "<table border=\"1\" class=\"dataframe\">\n",
       "  <thead>\n",
       "    <tr style=\"text-align: right;\">\n",
       "      <th></th>\n",
       "      <th>age</th>\n",
       "      <th>race</th>\n",
       "      <th>sex</th>\n",
       "      <th>capital-gain</th>\n",
       "      <th>capital-loss</th>\n",
       "      <th>hours-per-week</th>\n",
       "      <th>native-country</th>\n",
       "      <th>income</th>\n",
       "      <th>workclass_ ?</th>\n",
       "      <th>workclass_ Federal-gov</th>\n",
       "      <th>...</th>\n",
       "      <th>occupation_ Protective-serv</th>\n",
       "      <th>occupation_ Sales</th>\n",
       "      <th>occupation_ Tech-support</th>\n",
       "      <th>occupation_ Transport-moving</th>\n",
       "      <th>relationship_ Husband</th>\n",
       "      <th>relationship_ Not-in-family</th>\n",
       "      <th>relationship_ Other-relative</th>\n",
       "      <th>relationship_ Own-child</th>\n",
       "      <th>relationship_ Unmarried</th>\n",
       "      <th>relationship_ Wife</th>\n",
       "    </tr>\n",
       "  </thead>\n",
       "  <tbody>\n",
       "    <tr>\n",
       "      <th>0</th>\n",
       "      <td>39</td>\n",
       "      <td>1</td>\n",
       "      <td>1</td>\n",
       "      <td>2174</td>\n",
       "      <td>0</td>\n",
       "      <td>40</td>\n",
       "      <td>1</td>\n",
       "      <td>0</td>\n",
       "      <td>False</td>\n",
       "      <td>False</td>\n",
       "      <td>...</td>\n",
       "      <td>False</td>\n",
       "      <td>False</td>\n",
       "      <td>False</td>\n",
       "      <td>False</td>\n",
       "      <td>False</td>\n",
       "      <td>True</td>\n",
       "      <td>False</td>\n",
       "      <td>False</td>\n",
       "      <td>False</td>\n",
       "      <td>False</td>\n",
       "    </tr>\n",
       "    <tr>\n",
       "      <th>1</th>\n",
       "      <td>50</td>\n",
       "      <td>1</td>\n",
       "      <td>1</td>\n",
       "      <td>0</td>\n",
       "      <td>0</td>\n",
       "      <td>13</td>\n",
       "      <td>1</td>\n",
       "      <td>0</td>\n",
       "      <td>False</td>\n",
       "      <td>False</td>\n",
       "      <td>...</td>\n",
       "      <td>False</td>\n",
       "      <td>False</td>\n",
       "      <td>False</td>\n",
       "      <td>False</td>\n",
       "      <td>True</td>\n",
       "      <td>False</td>\n",
       "      <td>False</td>\n",
       "      <td>False</td>\n",
       "      <td>False</td>\n",
       "      <td>False</td>\n",
       "    </tr>\n",
       "    <tr>\n",
       "      <th>2</th>\n",
       "      <td>38</td>\n",
       "      <td>1</td>\n",
       "      <td>1</td>\n",
       "      <td>0</td>\n",
       "      <td>0</td>\n",
       "      <td>40</td>\n",
       "      <td>1</td>\n",
       "      <td>0</td>\n",
       "      <td>False</td>\n",
       "      <td>False</td>\n",
       "      <td>...</td>\n",
       "      <td>False</td>\n",
       "      <td>False</td>\n",
       "      <td>False</td>\n",
       "      <td>False</td>\n",
       "      <td>False</td>\n",
       "      <td>True</td>\n",
       "      <td>False</td>\n",
       "      <td>False</td>\n",
       "      <td>False</td>\n",
       "      <td>False</td>\n",
       "    </tr>\n",
       "    <tr>\n",
       "      <th>3</th>\n",
       "      <td>53</td>\n",
       "      <td>0</td>\n",
       "      <td>1</td>\n",
       "      <td>0</td>\n",
       "      <td>0</td>\n",
       "      <td>40</td>\n",
       "      <td>1</td>\n",
       "      <td>0</td>\n",
       "      <td>False</td>\n",
       "      <td>False</td>\n",
       "      <td>...</td>\n",
       "      <td>False</td>\n",
       "      <td>False</td>\n",
       "      <td>False</td>\n",
       "      <td>False</td>\n",
       "      <td>True</td>\n",
       "      <td>False</td>\n",
       "      <td>False</td>\n",
       "      <td>False</td>\n",
       "      <td>False</td>\n",
       "      <td>False</td>\n",
       "    </tr>\n",
       "    <tr>\n",
       "      <th>4</th>\n",
       "      <td>28</td>\n",
       "      <td>0</td>\n",
       "      <td>0</td>\n",
       "      <td>0</td>\n",
       "      <td>0</td>\n",
       "      <td>40</td>\n",
       "      <td>0</td>\n",
       "      <td>0</td>\n",
       "      <td>False</td>\n",
       "      <td>False</td>\n",
       "      <td>...</td>\n",
       "      <td>False</td>\n",
       "      <td>False</td>\n",
       "      <td>False</td>\n",
       "      <td>False</td>\n",
       "      <td>False</td>\n",
       "      <td>False</td>\n",
       "      <td>False</td>\n",
       "      <td>False</td>\n",
       "      <td>False</td>\n",
       "      <td>True</td>\n",
       "    </tr>\n",
       "  </tbody>\n",
       "</table>\n",
       "<p>5 rows × 61 columns</p>\n",
       "</div>"
      ],
      "text/plain": [
       "   age  race  sex  capital-gain  capital-loss  hours-per-week  native-country  \\\n",
       "0   39     1    1          2174             0              40               1   \n",
       "1   50     1    1             0             0              13               1   \n",
       "2   38     1    1             0             0              40               1   \n",
       "3   53     0    1             0             0              40               1   \n",
       "4   28     0    0             0             0              40               0   \n",
       "\n",
       "   income  workclass_ ?  workclass_ Federal-gov  ...  \\\n",
       "0       0         False                   False  ...   \n",
       "1       0         False                   False  ...   \n",
       "2       0         False                   False  ...   \n",
       "3       0         False                   False  ...   \n",
       "4       0         False                   False  ...   \n",
       "\n",
       "   occupation_ Protective-serv  occupation_ Sales  occupation_ Tech-support  \\\n",
       "0                        False              False                     False   \n",
       "1                        False              False                     False   \n",
       "2                        False              False                     False   \n",
       "3                        False              False                     False   \n",
       "4                        False              False                     False   \n",
       "\n",
       "   occupation_ Transport-moving  relationship_ Husband  \\\n",
       "0                         False                  False   \n",
       "1                         False                   True   \n",
       "2                         False                  False   \n",
       "3                         False                   True   \n",
       "4                         False                  False   \n",
       "\n",
       "   relationship_ Not-in-family  relationship_ Other-relative  \\\n",
       "0                         True                         False   \n",
       "1                        False                         False   \n",
       "2                         True                         False   \n",
       "3                        False                         False   \n",
       "4                        False                         False   \n",
       "\n",
       "   relationship_ Own-child  relationship_ Unmarried  relationship_ Wife  \n",
       "0                    False                    False               False  \n",
       "1                    False                    False               False  \n",
       "2                    False                    False               False  \n",
       "3                    False                    False               False  \n",
       "4                    False                    False                True  \n",
       "\n",
       "[5 rows x 61 columns]"
      ]
     },
     "execution_count": 14,
     "metadata": {},
     "output_type": "execute_result"
    }
   ],
   "source": [
    "df_census_income_train.head()"
   ]
  },
  {
   "cell_type": "code",
   "execution_count": 15,
   "metadata": {},
   "outputs": [],
   "source": [
    "# My class assumes that the target variable will be the last column of the dataframe, which is not the case here. Thise cell corrects that\n",
    "df_census_income_train = pd.concat([df_census_income_train.drop(columns=[\"income\"]), df_census_income_train[\"income\"]], axis=1)\n",
    "df_census_income_validation = pd.concat([df_census_income_validation.drop(columns=[\"income\"]), df_census_income_validation[\"income\"]], axis=1)"
   ]
  },
  {
   "cell_type": "code",
   "execution_count": 16,
   "metadata": {},
   "outputs": [
    {
     "data": {
      "text/html": [
       "<div>\n",
       "<style scoped>\n",
       "    .dataframe tbody tr th:only-of-type {\n",
       "        vertical-align: middle;\n",
       "    }\n",
       "\n",
       "    .dataframe tbody tr th {\n",
       "        vertical-align: top;\n",
       "    }\n",
       "\n",
       "    .dataframe thead th {\n",
       "        text-align: right;\n",
       "    }\n",
       "</style>\n",
       "<table border=\"1\" class=\"dataframe\">\n",
       "  <thead>\n",
       "    <tr style=\"text-align: right;\">\n",
       "      <th></th>\n",
       "      <th>age</th>\n",
       "      <th>race</th>\n",
       "      <th>sex</th>\n",
       "      <th>capital-gain</th>\n",
       "      <th>capital-loss</th>\n",
       "      <th>hours-per-week</th>\n",
       "      <th>native-country</th>\n",
       "      <th>workclass_ ?</th>\n",
       "      <th>workclass_ Federal-gov</th>\n",
       "      <th>workclass_ Local-gov</th>\n",
       "      <th>...</th>\n",
       "      <th>occupation_ Sales</th>\n",
       "      <th>occupation_ Tech-support</th>\n",
       "      <th>occupation_ Transport-moving</th>\n",
       "      <th>relationship_ Husband</th>\n",
       "      <th>relationship_ Not-in-family</th>\n",
       "      <th>relationship_ Other-relative</th>\n",
       "      <th>relationship_ Own-child</th>\n",
       "      <th>relationship_ Unmarried</th>\n",
       "      <th>relationship_ Wife</th>\n",
       "      <th>income</th>\n",
       "    </tr>\n",
       "  </thead>\n",
       "  <tbody>\n",
       "    <tr>\n",
       "      <th>0</th>\n",
       "      <td>39</td>\n",
       "      <td>1</td>\n",
       "      <td>1</td>\n",
       "      <td>2174</td>\n",
       "      <td>0</td>\n",
       "      <td>40</td>\n",
       "      <td>1</td>\n",
       "      <td>False</td>\n",
       "      <td>False</td>\n",
       "      <td>False</td>\n",
       "      <td>...</td>\n",
       "      <td>False</td>\n",
       "      <td>False</td>\n",
       "      <td>False</td>\n",
       "      <td>False</td>\n",
       "      <td>True</td>\n",
       "      <td>False</td>\n",
       "      <td>False</td>\n",
       "      <td>False</td>\n",
       "      <td>False</td>\n",
       "      <td>0</td>\n",
       "    </tr>\n",
       "    <tr>\n",
       "      <th>1</th>\n",
       "      <td>50</td>\n",
       "      <td>1</td>\n",
       "      <td>1</td>\n",
       "      <td>0</td>\n",
       "      <td>0</td>\n",
       "      <td>13</td>\n",
       "      <td>1</td>\n",
       "      <td>False</td>\n",
       "      <td>False</td>\n",
       "      <td>False</td>\n",
       "      <td>...</td>\n",
       "      <td>False</td>\n",
       "      <td>False</td>\n",
       "      <td>False</td>\n",
       "      <td>True</td>\n",
       "      <td>False</td>\n",
       "      <td>False</td>\n",
       "      <td>False</td>\n",
       "      <td>False</td>\n",
       "      <td>False</td>\n",
       "      <td>0</td>\n",
       "    </tr>\n",
       "    <tr>\n",
       "      <th>2</th>\n",
       "      <td>38</td>\n",
       "      <td>1</td>\n",
       "      <td>1</td>\n",
       "      <td>0</td>\n",
       "      <td>0</td>\n",
       "      <td>40</td>\n",
       "      <td>1</td>\n",
       "      <td>False</td>\n",
       "      <td>False</td>\n",
       "      <td>False</td>\n",
       "      <td>...</td>\n",
       "      <td>False</td>\n",
       "      <td>False</td>\n",
       "      <td>False</td>\n",
       "      <td>False</td>\n",
       "      <td>True</td>\n",
       "      <td>False</td>\n",
       "      <td>False</td>\n",
       "      <td>False</td>\n",
       "      <td>False</td>\n",
       "      <td>0</td>\n",
       "    </tr>\n",
       "    <tr>\n",
       "      <th>3</th>\n",
       "      <td>53</td>\n",
       "      <td>0</td>\n",
       "      <td>1</td>\n",
       "      <td>0</td>\n",
       "      <td>0</td>\n",
       "      <td>40</td>\n",
       "      <td>1</td>\n",
       "      <td>False</td>\n",
       "      <td>False</td>\n",
       "      <td>False</td>\n",
       "      <td>...</td>\n",
       "      <td>False</td>\n",
       "      <td>False</td>\n",
       "      <td>False</td>\n",
       "      <td>True</td>\n",
       "      <td>False</td>\n",
       "      <td>False</td>\n",
       "      <td>False</td>\n",
       "      <td>False</td>\n",
       "      <td>False</td>\n",
       "      <td>0</td>\n",
       "    </tr>\n",
       "    <tr>\n",
       "      <th>4</th>\n",
       "      <td>28</td>\n",
       "      <td>0</td>\n",
       "      <td>0</td>\n",
       "      <td>0</td>\n",
       "      <td>0</td>\n",
       "      <td>40</td>\n",
       "      <td>0</td>\n",
       "      <td>False</td>\n",
       "      <td>False</td>\n",
       "      <td>False</td>\n",
       "      <td>...</td>\n",
       "      <td>False</td>\n",
       "      <td>False</td>\n",
       "      <td>False</td>\n",
       "      <td>False</td>\n",
       "      <td>False</td>\n",
       "      <td>False</td>\n",
       "      <td>False</td>\n",
       "      <td>False</td>\n",
       "      <td>True</td>\n",
       "      <td>0</td>\n",
       "    </tr>\n",
       "  </tbody>\n",
       "</table>\n",
       "<p>5 rows × 61 columns</p>\n",
       "</div>"
      ],
      "text/plain": [
       "   age  race  sex  capital-gain  capital-loss  hours-per-week  native-country  \\\n",
       "0   39     1    1          2174             0              40               1   \n",
       "1   50     1    1             0             0              13               1   \n",
       "2   38     1    1             0             0              40               1   \n",
       "3   53     0    1             0             0              40               1   \n",
       "4   28     0    0             0             0              40               0   \n",
       "\n",
       "   workclass_ ?  workclass_ Federal-gov  workclass_ Local-gov  ...  \\\n",
       "0         False                   False                 False  ...   \n",
       "1         False                   False                 False  ...   \n",
       "2         False                   False                 False  ...   \n",
       "3         False                   False                 False  ...   \n",
       "4         False                   False                 False  ...   \n",
       "\n",
       "   occupation_ Sales  occupation_ Tech-support  occupation_ Transport-moving  \\\n",
       "0              False                     False                         False   \n",
       "1              False                     False                         False   \n",
       "2              False                     False                         False   \n",
       "3              False                     False                         False   \n",
       "4              False                     False                         False   \n",
       "\n",
       "   relationship_ Husband  relationship_ Not-in-family  \\\n",
       "0                  False                         True   \n",
       "1                   True                        False   \n",
       "2                  False                         True   \n",
       "3                   True                        False   \n",
       "4                  False                        False   \n",
       "\n",
       "   relationship_ Other-relative  relationship_ Own-child  \\\n",
       "0                         False                    False   \n",
       "1                         False                    False   \n",
       "2                         False                    False   \n",
       "3                         False                    False   \n",
       "4                         False                    False   \n",
       "\n",
       "   relationship_ Unmarried  relationship_ Wife  income  \n",
       "0                    False               False       0  \n",
       "1                    False               False       0  \n",
       "2                    False               False       0  \n",
       "3                    False               False       0  \n",
       "4                    False                True       0  \n",
       "\n",
       "[5 rows x 61 columns]"
      ]
     },
     "execution_count": 16,
     "metadata": {},
     "output_type": "execute_result"
    }
   ],
   "source": [
    "df_census_income_train.head()"
   ]
  },
  {
   "cell_type": "code",
   "execution_count": 17,
   "metadata": {},
   "outputs": [],
   "source": [
    "random_forest_classifier = RandomForestClassifier(n_estimators=10, max_depth=20, random_state=0)\n",
    "\n",
    "\n",
    "random_forest_bias = Bias_Framework(random_forest_classifier, df_census_income_train, df_census_income_validation)"
   ]
  },
  {
   "cell_type": "code",
   "execution_count": 18,
   "metadata": {},
   "outputs": [],
   "source": [
    "random_forest_bias.set_privilege_function(lambda x: x[\"sex\"] == 1 or x[\"race\"] == 1)"
   ]
  },
  {
   "cell_type": "code",
   "execution_count": 19,
   "metadata": {},
   "outputs": [
    {
     "name": "stdout",
     "output_type": "stream",
     "text": [
      "10.18684697151184 seconds to run with no debiasing\n"
     ]
    },
    {
     "name": "stderr",
     "output_type": "stream",
     "text": [
      "/Users/daws/.local/share/virtualenvs/bias_framework-lO12qBfZ/lib/python3.11/site-packages/sklearn/metrics/_classification.py:1509: UndefinedMetricWarning: Precision is ill-defined and being set to 0.0 due to no predicted samples. Use `zero_division` parameter to control this behavior.\n",
      "  _warn_prf(average, modifier, f\"{metric.capitalize()} is\", len(result))\n",
      "/Users/daws/.local/share/virtualenvs/bias_framework-lO12qBfZ/lib/python3.11/site-packages/sklearn/metrics/_classification.py:1509: UndefinedMetricWarning: Precision is ill-defined and being set to 0.0 in labels with no predicted samples. Use `zero_division` parameter to control this behavior.\n",
      "  _warn_prf(average, modifier, f\"{metric.capitalize()} is\", len(result))\n",
      "/Users/daws/.local/share/virtualenvs/bias_framework-lO12qBfZ/lib/python3.11/site-packages/sklearn/metrics/_classification.py:1509: UndefinedMetricWarning: Precision is ill-defined and being set to 0.0 due to no predicted samples. Use `zero_division` parameter to control this behavior.\n",
      "  _warn_prf(average, modifier, f\"{metric.capitalize()} is\", len(result))\n",
      "/Users/daws/.local/share/virtualenvs/bias_framework-lO12qBfZ/lib/python3.11/site-packages/sklearn/metrics/_classification.py:1509: UndefinedMetricWarning: Precision is ill-defined and being set to 0.0 in labels with no predicted samples. Use `zero_division` parameter to control this behavior.\n",
      "  _warn_prf(average, modifier, f\"{metric.capitalize()} is\", len(result))\n",
      "/Users/daws/.local/share/virtualenvs/bias_framework-lO12qBfZ/lib/python3.11/site-packages/sklearn/metrics/_classification.py:1509: UndefinedMetricWarning: Precision is ill-defined and being set to 0.0 due to no predicted samples. Use `zero_division` parameter to control this behavior.\n",
      "  _warn_prf(average, modifier, f\"{metric.capitalize()} is\", len(result))\n",
      "/Users/daws/.local/share/virtualenvs/bias_framework-lO12qBfZ/lib/python3.11/site-packages/sklearn/metrics/_classification.py:1509: UndefinedMetricWarning: Precision is ill-defined and being set to 0.0 in labels with no predicted samples. Use `zero_division` parameter to control this behavior.\n",
      "  _warn_prf(average, modifier, f\"{metric.capitalize()} is\", len(result))\n",
      "/Users/daws/.local/share/virtualenvs/bias_framework-lO12qBfZ/lib/python3.11/site-packages/sklearn/metrics/_classification.py:1509: UndefinedMetricWarning: Precision is ill-defined and being set to 0.0 due to no predicted samples. Use `zero_division` parameter to control this behavior.\n",
      "  _warn_prf(average, modifier, f\"{metric.capitalize()} is\", len(result))\n",
      "/Users/daws/.local/share/virtualenvs/bias_framework-lO12qBfZ/lib/python3.11/site-packages/sklearn/metrics/_classification.py:1509: UndefinedMetricWarning: Precision is ill-defined and being set to 0.0 in labels with no predicted samples. Use `zero_division` parameter to control this behavior.\n",
      "  _warn_prf(average, modifier, f\"{metric.capitalize()} is\", len(result))\n",
      "/Users/daws/.local/share/virtualenvs/bias_framework-lO12qBfZ/lib/python3.11/site-packages/sklearn/metrics/_classification.py:1509: UndefinedMetricWarning: Precision is ill-defined and being set to 0.0 due to no predicted samples. Use `zero_division` parameter to control this behavior.\n",
      "  _warn_prf(average, modifier, f\"{metric.capitalize()} is\", len(result))\n",
      "/Users/daws/.local/share/virtualenvs/bias_framework-lO12qBfZ/lib/python3.11/site-packages/sklearn/metrics/_classification.py:1509: UndefinedMetricWarning: Precision is ill-defined and being set to 0.0 in labels with no predicted samples. Use `zero_division` parameter to control this behavior.\n",
      "  _warn_prf(average, modifier, f\"{metric.capitalize()} is\", len(result))\n",
      "/Users/daws/.local/share/virtualenvs/bias_framework-lO12qBfZ/lib/python3.11/site-packages/sklearn/metrics/_classification.py:1509: UndefinedMetricWarning: Precision is ill-defined and being set to 0.0 due to no predicted samples. Use `zero_division` parameter to control this behavior.\n",
      "  _warn_prf(average, modifier, f\"{metric.capitalize()} is\", len(result))\n",
      "/Users/daws/.local/share/virtualenvs/bias_framework-lO12qBfZ/lib/python3.11/site-packages/sklearn/metrics/_classification.py:1509: UndefinedMetricWarning: Precision is ill-defined and being set to 0.0 in labels with no predicted samples. Use `zero_division` parameter to control this behavior.\n",
      "  _warn_prf(average, modifier, f\"{metric.capitalize()} is\", len(result))\n",
      "/Users/daws/.local/share/virtualenvs/bias_framework-lO12qBfZ/lib/python3.11/site-packages/sklearn/metrics/_classification.py:1509: UndefinedMetricWarning: Precision is ill-defined and being set to 0.0 due to no predicted samples. Use `zero_division` parameter to control this behavior.\n",
      "  _warn_prf(average, modifier, f\"{metric.capitalize()} is\", len(result))\n",
      "/Users/daws/.local/share/virtualenvs/bias_framework-lO12qBfZ/lib/python3.11/site-packages/sklearn/metrics/_classification.py:1509: UndefinedMetricWarning: Precision is ill-defined and being set to 0.0 in labels with no predicted samples. Use `zero_division` parameter to control this behavior.\n",
      "  _warn_prf(average, modifier, f\"{metric.capitalize()} is\", len(result))\n",
      "/Users/daws/.local/share/virtualenvs/bias_framework-lO12qBfZ/lib/python3.11/site-packages/sklearn/metrics/_classification.py:1509: UndefinedMetricWarning: Precision is ill-defined and being set to 0.0 due to no predicted samples. Use `zero_division` parameter to control this behavior.\n",
      "  _warn_prf(average, modifier, f\"{metric.capitalize()} is\", len(result))\n",
      "/Users/daws/.local/share/virtualenvs/bias_framework-lO12qBfZ/lib/python3.11/site-packages/sklearn/metrics/_classification.py:1509: UndefinedMetricWarning: Precision is ill-defined and being set to 0.0 in labels with no predicted samples. Use `zero_division` parameter to control this behavior.\n",
      "  _warn_prf(average, modifier, f\"{metric.capitalize()} is\", len(result))\n",
      "/Users/daws/.local/share/virtualenvs/bias_framework-lO12qBfZ/lib/python3.11/site-packages/sklearn/metrics/_classification.py:1509: UndefinedMetricWarning: Precision is ill-defined and being set to 0.0 due to no predicted samples. Use `zero_division` parameter to control this behavior.\n",
      "  _warn_prf(average, modifier, f\"{metric.capitalize()} is\", len(result))\n",
      "/Users/daws/.local/share/virtualenvs/bias_framework-lO12qBfZ/lib/python3.11/site-packages/sklearn/metrics/_classification.py:1509: UndefinedMetricWarning: Precision is ill-defined and being set to 0.0 in labels with no predicted samples. Use `zero_division` parameter to control this behavior.\n",
      "  _warn_prf(average, modifier, f\"{metric.capitalize()} is\", len(result))\n",
      "/Users/daws/.local/share/virtualenvs/bias_framework-lO12qBfZ/lib/python3.11/site-packages/sklearn/metrics/_classification.py:1509: UndefinedMetricWarning: Precision is ill-defined and being set to 0.0 due to no predicted samples. Use `zero_division` parameter to control this behavior.\n",
      "  _warn_prf(average, modifier, f\"{metric.capitalize()} is\", len(result))\n",
      "/Users/daws/.local/share/virtualenvs/bias_framework-lO12qBfZ/lib/python3.11/site-packages/sklearn/metrics/_classification.py:1509: UndefinedMetricWarning: Precision is ill-defined and being set to 0.0 in labels with no predicted samples. Use `zero_division` parameter to control this behavior.\n",
      "  _warn_prf(average, modifier, f\"{metric.capitalize()} is\", len(result))\n",
      "/Users/daws/.local/share/virtualenvs/bias_framework-lO12qBfZ/lib/python3.11/site-packages/sklearn/metrics/_classification.py:1509: UndefinedMetricWarning: Precision is ill-defined and being set to 0.0 due to no predicted samples. Use `zero_division` parameter to control this behavior.\n",
      "  _warn_prf(average, modifier, f\"{metric.capitalize()} is\", len(result))\n",
      "/Users/daws/.local/share/virtualenvs/bias_framework-lO12qBfZ/lib/python3.11/site-packages/sklearn/metrics/_classification.py:1509: UndefinedMetricWarning: Precision is ill-defined and being set to 0.0 in labels with no predicted samples. Use `zero_division` parameter to control this behavior.\n",
      "  _warn_prf(average, modifier, f\"{metric.capitalize()} is\", len(result))\n",
      "/Users/daws/.local/share/virtualenvs/bias_framework-lO12qBfZ/lib/python3.11/site-packages/sklearn/metrics/_classification.py:1509: UndefinedMetricWarning: Precision is ill-defined and being set to 0.0 due to no predicted samples. Use `zero_division` parameter to control this behavior.\n",
      "  _warn_prf(average, modifier, f\"{metric.capitalize()} is\", len(result))\n",
      "/Users/daws/.local/share/virtualenvs/bias_framework-lO12qBfZ/lib/python3.11/site-packages/sklearn/metrics/_classification.py:1509: UndefinedMetricWarning: Precision is ill-defined and being set to 0.0 in labels with no predicted samples. Use `zero_division` parameter to control this behavior.\n",
      "  _warn_prf(average, modifier, f\"{metric.capitalize()} is\", len(result))\n",
      "/Users/daws/.local/share/virtualenvs/bias_framework-lO12qBfZ/lib/python3.11/site-packages/sklearn/metrics/_classification.py:1509: UndefinedMetricWarning: Precision is ill-defined and being set to 0.0 due to no predicted samples. Use `zero_division` parameter to control this behavior.\n",
      "  _warn_prf(average, modifier, f\"{metric.capitalize()} is\", len(result))\n",
      "/Users/daws/.local/share/virtualenvs/bias_framework-lO12qBfZ/lib/python3.11/site-packages/sklearn/metrics/_classification.py:1509: UndefinedMetricWarning: Precision is ill-defined and being set to 0.0 in labels with no predicted samples. Use `zero_division` parameter to control this behavior.\n",
      "  _warn_prf(average, modifier, f\"{metric.capitalize()} is\", len(result))\n",
      "/Users/daws/.local/share/virtualenvs/bias_framework-lO12qBfZ/lib/python3.11/site-packages/sklearn/metrics/_classification.py:1509: UndefinedMetricWarning: Precision is ill-defined and being set to 0.0 due to no predicted samples. Use `zero_division` parameter to control this behavior.\n",
      "  _warn_prf(average, modifier, f\"{metric.capitalize()} is\", len(result))\n",
      "/Users/daws/.local/share/virtualenvs/bias_framework-lO12qBfZ/lib/python3.11/site-packages/sklearn/metrics/_classification.py:1509: UndefinedMetricWarning: Precision is ill-defined and being set to 0.0 in labels with no predicted samples. Use `zero_division` parameter to control this behavior.\n",
      "  _warn_prf(average, modifier, f\"{metric.capitalize()} is\", len(result))\n",
      "/Users/daws/.local/share/virtualenvs/bias_framework-lO12qBfZ/lib/python3.11/site-packages/sklearn/metrics/_classification.py:1509: UndefinedMetricWarning: Precision is ill-defined and being set to 0.0 due to no predicted samples. Use `zero_division` parameter to control this behavior.\n",
      "  _warn_prf(average, modifier, f\"{metric.capitalize()} is\", len(result))\n",
      "/Users/daws/.local/share/virtualenvs/bias_framework-lO12qBfZ/lib/python3.11/site-packages/sklearn/metrics/_classification.py:1509: UndefinedMetricWarning: Precision is ill-defined and being set to 0.0 in labels with no predicted samples. Use `zero_division` parameter to control this behavior.\n",
      "  _warn_prf(average, modifier, f\"{metric.capitalize()} is\", len(result))\n",
      "/Users/daws/.local/share/virtualenvs/bias_framework-lO12qBfZ/lib/python3.11/site-packages/sklearn/metrics/_classification.py:1509: UndefinedMetricWarning: Precision is ill-defined and being set to 0.0 due to no predicted samples. Use `zero_division` parameter to control this behavior.\n",
      "  _warn_prf(average, modifier, f\"{metric.capitalize()} is\", len(result))\n",
      "/Users/daws/.local/share/virtualenvs/bias_framework-lO12qBfZ/lib/python3.11/site-packages/sklearn/metrics/_classification.py:1509: UndefinedMetricWarning: Precision is ill-defined and being set to 0.0 in labels with no predicted samples. Use `zero_division` parameter to control this behavior.\n",
      "  _warn_prf(average, modifier, f\"{metric.capitalize()} is\", len(result))\n",
      "/Users/daws/.local/share/virtualenvs/bias_framework-lO12qBfZ/lib/python3.11/site-packages/sklearn/metrics/_classification.py:1509: UndefinedMetricWarning: Precision is ill-defined and being set to 0.0 due to no predicted samples. Use `zero_division` parameter to control this behavior.\n",
      "  _warn_prf(average, modifier, f\"{metric.capitalize()} is\", len(result))\n",
      "/Users/daws/.local/share/virtualenvs/bias_framework-lO12qBfZ/lib/python3.11/site-packages/sklearn/metrics/_classification.py:1509: UndefinedMetricWarning: Precision is ill-defined and being set to 0.0 in labels with no predicted samples. Use `zero_division` parameter to control this behavior.\n",
      "  _warn_prf(average, modifier, f\"{metric.capitalize()} is\", len(result))\n",
      "/Users/daws/.local/share/virtualenvs/bias_framework-lO12qBfZ/lib/python3.11/site-packages/sklearn/metrics/_classification.py:1509: UndefinedMetricWarning: Precision is ill-defined and being set to 0.0 due to no predicted samples. Use `zero_division` parameter to control this behavior.\n",
      "  _warn_prf(average, modifier, f\"{metric.capitalize()} is\", len(result))\n",
      "/Users/daws/.local/share/virtualenvs/bias_framework-lO12qBfZ/lib/python3.11/site-packages/sklearn/metrics/_classification.py:1509: UndefinedMetricWarning: Precision is ill-defined and being set to 0.0 in labels with no predicted samples. Use `zero_division` parameter to control this behavior.\n",
      "  _warn_prf(average, modifier, f\"{metric.capitalize()} is\", len(result))\n",
      "/Users/daws/.local/share/virtualenvs/bias_framework-lO12qBfZ/lib/python3.11/site-packages/sklearn/metrics/_classification.py:1509: UndefinedMetricWarning: Precision is ill-defined and being set to 0.0 due to no predicted samples. Use `zero_division` parameter to control this behavior.\n",
      "  _warn_prf(average, modifier, f\"{metric.capitalize()} is\", len(result))\n",
      "/Users/daws/.local/share/virtualenvs/bias_framework-lO12qBfZ/lib/python3.11/site-packages/sklearn/metrics/_classification.py:1509: UndefinedMetricWarning: Precision is ill-defined and being set to 0.0 in labels with no predicted samples. Use `zero_division` parameter to control this behavior.\n",
      "  _warn_prf(average, modifier, f\"{metric.capitalize()} is\", len(result))\n",
      "/Users/daws/.local/share/virtualenvs/bias_framework-lO12qBfZ/lib/python3.11/site-packages/sklearn/metrics/_classification.py:1509: UndefinedMetricWarning: Precision is ill-defined and being set to 0.0 due to no predicted samples. Use `zero_division` parameter to control this behavior.\n",
      "  _warn_prf(average, modifier, f\"{metric.capitalize()} is\", len(result))\n",
      "/Users/daws/.local/share/virtualenvs/bias_framework-lO12qBfZ/lib/python3.11/site-packages/sklearn/metrics/_classification.py:1509: UndefinedMetricWarning: Precision is ill-defined and being set to 0.0 in labels with no predicted samples. Use `zero_division` parameter to control this behavior.\n",
      "  _warn_prf(average, modifier, f\"{metric.capitalize()} is\", len(result))\n",
      "/Users/daws/.local/share/virtualenvs/bias_framework-lO12qBfZ/lib/python3.11/site-packages/sklearn/metrics/_classification.py:1509: UndefinedMetricWarning: Precision is ill-defined and being set to 0.0 due to no predicted samples. Use `zero_division` parameter to control this behavior.\n",
      "  _warn_prf(average, modifier, f\"{metric.capitalize()} is\", len(result))\n",
      "/Users/daws/.local/share/virtualenvs/bias_framework-lO12qBfZ/lib/python3.11/site-packages/sklearn/metrics/_classification.py:1509: UndefinedMetricWarning: Precision is ill-defined and being set to 0.0 in labels with no predicted samples. Use `zero_division` parameter to control this behavior.\n",
      "  _warn_prf(average, modifier, f\"{metric.capitalize()} is\", len(result))\n",
      "/Users/daws/.local/share/virtualenvs/bias_framework-lO12qBfZ/lib/python3.11/site-packages/sklearn/metrics/_classification.py:1509: UndefinedMetricWarning: Precision is ill-defined and being set to 0.0 due to no predicted samples. Use `zero_division` parameter to control this behavior.\n",
      "  _warn_prf(average, modifier, f\"{metric.capitalize()} is\", len(result))\n",
      "/Users/daws/.local/share/virtualenvs/bias_framework-lO12qBfZ/lib/python3.11/site-packages/sklearn/metrics/_classification.py:1509: UndefinedMetricWarning: Precision is ill-defined and being set to 0.0 in labels with no predicted samples. Use `zero_division` parameter to control this behavior.\n",
      "  _warn_prf(average, modifier, f\"{metric.capitalize()} is\", len(result))\n",
      "/Users/daws/.local/share/virtualenvs/bias_framework-lO12qBfZ/lib/python3.11/site-packages/sklearn/metrics/_classification.py:1509: UndefinedMetricWarning: Precision is ill-defined and being set to 0.0 due to no predicted samples. Use `zero_division` parameter to control this behavior.\n",
      "  _warn_prf(average, modifier, f\"{metric.capitalize()} is\", len(result))\n",
      "/Users/daws/.local/share/virtualenvs/bias_framework-lO12qBfZ/lib/python3.11/site-packages/sklearn/metrics/_classification.py:1509: UndefinedMetricWarning: Precision is ill-defined and being set to 0.0 in labels with no predicted samples. Use `zero_division` parameter to control this behavior.\n",
      "  _warn_prf(average, modifier, f\"{metric.capitalize()} is\", len(result))\n",
      "/Users/daws/.local/share/virtualenvs/bias_framework-lO12qBfZ/lib/python3.11/site-packages/sklearn/metrics/_classification.py:1509: UndefinedMetricWarning: Precision is ill-defined and being set to 0.0 due to no predicted samples. Use `zero_division` parameter to control this behavior.\n",
      "  _warn_prf(average, modifier, f\"{metric.capitalize()} is\", len(result))\n",
      "/Users/daws/.local/share/virtualenvs/bias_framework-lO12qBfZ/lib/python3.11/site-packages/sklearn/metrics/_classification.py:1509: UndefinedMetricWarning: Precision is ill-defined and being set to 0.0 in labels with no predicted samples. Use `zero_division` parameter to control this behavior.\n",
      "  _warn_prf(average, modifier, f\"{metric.capitalize()} is\", len(result))\n",
      "/Users/daws/.local/share/virtualenvs/bias_framework-lO12qBfZ/lib/python3.11/site-packages/sklearn/metrics/_classification.py:1509: UndefinedMetricWarning: Precision is ill-defined and being set to 0.0 due to no predicted samples. Use `zero_division` parameter to control this behavior.\n",
      "  _warn_prf(average, modifier, f\"{metric.capitalize()} is\", len(result))\n",
      "/Users/daws/.local/share/virtualenvs/bias_framework-lO12qBfZ/lib/python3.11/site-packages/sklearn/metrics/_classification.py:1509: UndefinedMetricWarning: Precision is ill-defined and being set to 0.0 in labels with no predicted samples. Use `zero_division` parameter to control this behavior.\n",
      "  _warn_prf(average, modifier, f\"{metric.capitalize()} is\", len(result))\n",
      "/Users/daws/.local/share/virtualenvs/bias_framework-lO12qBfZ/lib/python3.11/site-packages/sklearn/metrics/_classification.py:1509: UndefinedMetricWarning: Precision is ill-defined and being set to 0.0 due to no predicted samples. Use `zero_division` parameter to control this behavior.\n",
      "  _warn_prf(average, modifier, f\"{metric.capitalize()} is\", len(result))\n",
      "/Users/daws/.local/share/virtualenvs/bias_framework-lO12qBfZ/lib/python3.11/site-packages/sklearn/metrics/_classification.py:1509: UndefinedMetricWarning: Precision is ill-defined and being set to 0.0 in labels with no predicted samples. Use `zero_division` parameter to control this behavior.\n",
      "  _warn_prf(average, modifier, f\"{metric.capitalize()} is\", len(result))\n",
      "/Users/daws/.local/share/virtualenvs/bias_framework-lO12qBfZ/lib/python3.11/site-packages/sklearn/metrics/_classification.py:1509: UndefinedMetricWarning: Precision is ill-defined and being set to 0.0 due to no predicted samples. Use `zero_division` parameter to control this behavior.\n",
      "  _warn_prf(average, modifier, f\"{metric.capitalize()} is\", len(result))\n",
      "/Users/daws/.local/share/virtualenvs/bias_framework-lO12qBfZ/lib/python3.11/site-packages/sklearn/metrics/_classification.py:1509: UndefinedMetricWarning: Precision is ill-defined and being set to 0.0 in labels with no predicted samples. Use `zero_division` parameter to control this behavior.\n",
      "  _warn_prf(average, modifier, f\"{metric.capitalize()} is\", len(result))\n",
      "/Users/daws/.local/share/virtualenvs/bias_framework-lO12qBfZ/lib/python3.11/site-packages/sklearn/metrics/_classification.py:1509: UndefinedMetricWarning: Precision is ill-defined and being set to 0.0 due to no predicted samples. Use `zero_division` parameter to control this behavior.\n",
      "  _warn_prf(average, modifier, f\"{metric.capitalize()} is\", len(result))\n",
      "/Users/daws/.local/share/virtualenvs/bias_framework-lO12qBfZ/lib/python3.11/site-packages/sklearn/metrics/_classification.py:1509: UndefinedMetricWarning: Precision is ill-defined and being set to 0.0 in labels with no predicted samples. Use `zero_division` parameter to control this behavior.\n",
      "  _warn_prf(average, modifier, f\"{metric.capitalize()} is\", len(result))\n",
      "/Users/daws/.local/share/virtualenvs/bias_framework-lO12qBfZ/lib/python3.11/site-packages/sklearn/metrics/_classification.py:1509: UndefinedMetricWarning: Precision is ill-defined and being set to 0.0 due to no predicted samples. Use `zero_division` parameter to control this behavior.\n",
      "  _warn_prf(average, modifier, f\"{metric.capitalize()} is\", len(result))\n",
      "/Users/daws/.local/share/virtualenvs/bias_framework-lO12qBfZ/lib/python3.11/site-packages/sklearn/metrics/_classification.py:1509: UndefinedMetricWarning: Precision is ill-defined and being set to 0.0 in labels with no predicted samples. Use `zero_division` parameter to control this behavior.\n",
      "  _warn_prf(average, modifier, f\"{metric.capitalize()} is\", len(result))\n",
      "/Users/daws/.local/share/virtualenvs/bias_framework-lO12qBfZ/lib/python3.11/site-packages/sklearn/metrics/_classification.py:1509: UndefinedMetricWarning: Precision is ill-defined and being set to 0.0 due to no predicted samples. Use `zero_division` parameter to control this behavior.\n",
      "  _warn_prf(average, modifier, f\"{metric.capitalize()} is\", len(result))\n",
      "/Users/daws/.local/share/virtualenvs/bias_framework-lO12qBfZ/lib/python3.11/site-packages/sklearn/metrics/_classification.py:1509: UndefinedMetricWarning: Precision is ill-defined and being set to 0.0 in labels with no predicted samples. Use `zero_division` parameter to control this behavior.\n",
      "  _warn_prf(average, modifier, f\"{metric.capitalize()} is\", len(result))\n",
      "/Users/daws/.local/share/virtualenvs/bias_framework-lO12qBfZ/lib/python3.11/site-packages/sklearn/metrics/_classification.py:1509: UndefinedMetricWarning: Precision is ill-defined and being set to 0.0 due to no predicted samples. Use `zero_division` parameter to control this behavior.\n",
      "  _warn_prf(average, modifier, f\"{metric.capitalize()} is\", len(result))\n",
      "/Users/daws/.local/share/virtualenvs/bias_framework-lO12qBfZ/lib/python3.11/site-packages/sklearn/metrics/_classification.py:1509: UndefinedMetricWarning: Precision is ill-defined and being set to 0.0 in labels with no predicted samples. Use `zero_division` parameter to control this behavior.\n",
      "  _warn_prf(average, modifier, f\"{metric.capitalize()} is\", len(result))\n",
      "/Users/daws/.local/share/virtualenvs/bias_framework-lO12qBfZ/lib/python3.11/site-packages/sklearn/metrics/_classification.py:1509: UndefinedMetricWarning: Precision is ill-defined and being set to 0.0 due to no predicted samples. Use `zero_division` parameter to control this behavior.\n",
      "  _warn_prf(average, modifier, f\"{metric.capitalize()} is\", len(result))\n",
      "/Users/daws/.local/share/virtualenvs/bias_framework-lO12qBfZ/lib/python3.11/site-packages/sklearn/metrics/_classification.py:1509: UndefinedMetricWarning: Precision is ill-defined and being set to 0.0 in labels with no predicted samples. Use `zero_division` parameter to control this behavior.\n",
      "  _warn_prf(average, modifier, f\"{metric.capitalize()} is\", len(result))\n",
      "/Users/daws/.local/share/virtualenvs/bias_framework-lO12qBfZ/lib/python3.11/site-packages/sklearn/metrics/_classification.py:1509: UndefinedMetricWarning: Precision is ill-defined and being set to 0.0 due to no predicted samples. Use `zero_division` parameter to control this behavior.\n",
      "  _warn_prf(average, modifier, f\"{metric.capitalize()} is\", len(result))\n",
      "/Users/daws/.local/share/virtualenvs/bias_framework-lO12qBfZ/lib/python3.11/site-packages/sklearn/metrics/_classification.py:1509: UndefinedMetricWarning: Precision is ill-defined and being set to 0.0 in labels with no predicted samples. Use `zero_division` parameter to control this behavior.\n",
      "  _warn_prf(average, modifier, f\"{metric.capitalize()} is\", len(result))\n",
      "/Users/daws/.local/share/virtualenvs/bias_framework-lO12qBfZ/lib/python3.11/site-packages/sklearn/metrics/_classification.py:1509: UndefinedMetricWarning: Precision is ill-defined and being set to 0.0 due to no predicted samples. Use `zero_division` parameter to control this behavior.\n",
      "  _warn_prf(average, modifier, f\"{metric.capitalize()} is\", len(result))\n",
      "/Users/daws/.local/share/virtualenvs/bias_framework-lO12qBfZ/lib/python3.11/site-packages/sklearn/metrics/_classification.py:1509: UndefinedMetricWarning: Precision is ill-defined and being set to 0.0 in labels with no predicted samples. Use `zero_division` parameter to control this behavior.\n",
      "  _warn_prf(average, modifier, f\"{metric.capitalize()} is\", len(result))\n",
      "/Users/daws/.local/share/virtualenvs/bias_framework-lO12qBfZ/lib/python3.11/site-packages/sklearn/metrics/_classification.py:1509: UndefinedMetricWarning: Precision is ill-defined and being set to 0.0 due to no predicted samples. Use `zero_division` parameter to control this behavior.\n",
      "  _warn_prf(average, modifier, f\"{metric.capitalize()} is\", len(result))\n",
      "/Users/daws/.local/share/virtualenvs/bias_framework-lO12qBfZ/lib/python3.11/site-packages/sklearn/metrics/_classification.py:1509: UndefinedMetricWarning: Precision is ill-defined and being set to 0.0 in labels with no predicted samples. Use `zero_division` parameter to control this behavior.\n",
      "  _warn_prf(average, modifier, f\"{metric.capitalize()} is\", len(result))\n",
      "/Users/daws/.local/share/virtualenvs/bias_framework-lO12qBfZ/lib/python3.11/site-packages/sklearn/metrics/_classification.py:1509: UndefinedMetricWarning: Precision is ill-defined and being set to 0.0 due to no predicted samples. Use `zero_division` parameter to control this behavior.\n",
      "  _warn_prf(average, modifier, f\"{metric.capitalize()} is\", len(result))\n",
      "/Users/daws/.local/share/virtualenvs/bias_framework-lO12qBfZ/lib/python3.11/site-packages/sklearn/metrics/_classification.py:1509: UndefinedMetricWarning: Precision is ill-defined and being set to 0.0 in labels with no predicted samples. Use `zero_division` parameter to control this behavior.\n",
      "  _warn_prf(average, modifier, f\"{metric.capitalize()} is\", len(result))\n",
      "/Users/daws/.local/share/virtualenvs/bias_framework-lO12qBfZ/lib/python3.11/site-packages/sklearn/metrics/_classification.py:1509: UndefinedMetricWarning: Precision is ill-defined and being set to 0.0 due to no predicted samples. Use `zero_division` parameter to control this behavior.\n",
      "  _warn_prf(average, modifier, f\"{metric.capitalize()} is\", len(result))\n",
      "/Users/daws/.local/share/virtualenvs/bias_framework-lO12qBfZ/lib/python3.11/site-packages/sklearn/metrics/_classification.py:1509: UndefinedMetricWarning: Precision is ill-defined and being set to 0.0 in labels with no predicted samples. Use `zero_division` parameter to control this behavior.\n",
      "  _warn_prf(average, modifier, f\"{metric.capitalize()} is\", len(result))\n",
      "/Users/daws/.local/share/virtualenvs/bias_framework-lO12qBfZ/lib/python3.11/site-packages/sklearn/metrics/_classification.py:1509: UndefinedMetricWarning: Precision is ill-defined and being set to 0.0 due to no predicted samples. Use `zero_division` parameter to control this behavior.\n",
      "  _warn_prf(average, modifier, f\"{metric.capitalize()} is\", len(result))\n",
      "/Users/daws/.local/share/virtualenvs/bias_framework-lO12qBfZ/lib/python3.11/site-packages/sklearn/metrics/_classification.py:1509: UndefinedMetricWarning: Precision is ill-defined and being set to 0.0 in labels with no predicted samples. Use `zero_division` parameter to control this behavior.\n",
      "  _warn_prf(average, modifier, f\"{metric.capitalize()} is\", len(result))\n",
      "/Users/daws/.local/share/virtualenvs/bias_framework-lO12qBfZ/lib/python3.11/site-packages/sklearn/metrics/_classification.py:1509: UndefinedMetricWarning: Precision is ill-defined and being set to 0.0 due to no predicted samples. Use `zero_division` parameter to control this behavior.\n",
      "  _warn_prf(average, modifier, f\"{metric.capitalize()} is\", len(result))\n",
      "/Users/daws/.local/share/virtualenvs/bias_framework-lO12qBfZ/lib/python3.11/site-packages/sklearn/metrics/_classification.py:1509: UndefinedMetricWarning: Precision is ill-defined and being set to 0.0 in labels with no predicted samples. Use `zero_division` parameter to control this behavior.\n",
      "  _warn_prf(average, modifier, f\"{metric.capitalize()} is\", len(result))\n",
      "/Users/daws/.local/share/virtualenvs/bias_framework-lO12qBfZ/lib/python3.11/site-packages/sklearn/metrics/_classification.py:1509: UndefinedMetricWarning: Precision is ill-defined and being set to 0.0 due to no predicted samples. Use `zero_division` parameter to control this behavior.\n",
      "  _warn_prf(average, modifier, f\"{metric.capitalize()} is\", len(result))\n",
      "/Users/daws/.local/share/virtualenvs/bias_framework-lO12qBfZ/lib/python3.11/site-packages/sklearn/metrics/_classification.py:1509: UndefinedMetricWarning: Precision is ill-defined and being set to 0.0 in labels with no predicted samples. Use `zero_division` parameter to control this behavior.\n",
      "  _warn_prf(average, modifier, f\"{metric.capitalize()} is\", len(result))\n",
      "/Users/daws/.local/share/virtualenvs/bias_framework-lO12qBfZ/lib/python3.11/site-packages/sklearn/metrics/_classification.py:1509: UndefinedMetricWarning: Precision is ill-defined and being set to 0.0 due to no predicted samples. Use `zero_division` parameter to control this behavior.\n",
      "  _warn_prf(average, modifier, f\"{metric.capitalize()} is\", len(result))\n",
      "/Users/daws/.local/share/virtualenvs/bias_framework-lO12qBfZ/lib/python3.11/site-packages/sklearn/metrics/_classification.py:1509: UndefinedMetricWarning: Precision is ill-defined and being set to 0.0 in labels with no predicted samples. Use `zero_division` parameter to control this behavior.\n",
      "  _warn_prf(average, modifier, f\"{metric.capitalize()} is\", len(result))\n",
      "/Users/daws/.local/share/virtualenvs/bias_framework-lO12qBfZ/lib/python3.11/site-packages/sklearn/metrics/_classification.py:1509: UndefinedMetricWarning: Precision is ill-defined and being set to 0.0 due to no predicted samples. Use `zero_division` parameter to control this behavior.\n",
      "  _warn_prf(average, modifier, f\"{metric.capitalize()} is\", len(result))\n",
      "/Users/daws/.local/share/virtualenvs/bias_framework-lO12qBfZ/lib/python3.11/site-packages/sklearn/metrics/_classification.py:1509: UndefinedMetricWarning: Precision is ill-defined and being set to 0.0 in labels with no predicted samples. Use `zero_division` parameter to control this behavior.\n",
      "  _warn_prf(average, modifier, f\"{metric.capitalize()} is\", len(result))\n",
      "/Users/daws/.local/share/virtualenvs/bias_framework-lO12qBfZ/lib/python3.11/site-packages/sklearn/metrics/_classification.py:1509: UndefinedMetricWarning: Precision is ill-defined and being set to 0.0 due to no predicted samples. Use `zero_division` parameter to control this behavior.\n",
      "  _warn_prf(average, modifier, f\"{metric.capitalize()} is\", len(result))\n",
      "/Users/daws/.local/share/virtualenvs/bias_framework-lO12qBfZ/lib/python3.11/site-packages/sklearn/metrics/_classification.py:1509: UndefinedMetricWarning: Precision is ill-defined and being set to 0.0 in labels with no predicted samples. Use `zero_division` parameter to control this behavior.\n",
      "  _warn_prf(average, modifier, f\"{metric.capitalize()} is\", len(result))\n",
      "/Users/daws/.local/share/virtualenvs/bias_framework-lO12qBfZ/lib/python3.11/site-packages/sklearn/metrics/_classification.py:1509: UndefinedMetricWarning: Precision is ill-defined and being set to 0.0 due to no predicted samples. Use `zero_division` parameter to control this behavior.\n",
      "  _warn_prf(average, modifier, f\"{metric.capitalize()} is\", len(result))\n",
      "/Users/daws/.local/share/virtualenvs/bias_framework-lO12qBfZ/lib/python3.11/site-packages/sklearn/metrics/_classification.py:1509: UndefinedMetricWarning: Precision is ill-defined and being set to 0.0 in labels with no predicted samples. Use `zero_division` parameter to control this behavior.\n",
      "  _warn_prf(average, modifier, f\"{metric.capitalize()} is\", len(result))\n",
      "/Users/daws/.local/share/virtualenvs/bias_framework-lO12qBfZ/lib/python3.11/site-packages/sklearn/metrics/_classification.py:1509: UndefinedMetricWarning: Precision is ill-defined and being set to 0.0 due to no predicted samples. Use `zero_division` parameter to control this behavior.\n",
      "  _warn_prf(average, modifier, f\"{metric.capitalize()} is\", len(result))\n",
      "/Users/daws/.local/share/virtualenvs/bias_framework-lO12qBfZ/lib/python3.11/site-packages/sklearn/metrics/_classification.py:1509: UndefinedMetricWarning: Precision is ill-defined and being set to 0.0 in labels with no predicted samples. Use `zero_division` parameter to control this behavior.\n",
      "  _warn_prf(average, modifier, f\"{metric.capitalize()} is\", len(result))\n",
      "/Users/daws/.local/share/virtualenvs/bias_framework-lO12qBfZ/lib/python3.11/site-packages/sklearn/metrics/_classification.py:1509: UndefinedMetricWarning: Precision is ill-defined and being set to 0.0 due to no predicted samples. Use `zero_division` parameter to control this behavior.\n",
      "  _warn_prf(average, modifier, f\"{metric.capitalize()} is\", len(result))\n",
      "/Users/daws/.local/share/virtualenvs/bias_framework-lO12qBfZ/lib/python3.11/site-packages/sklearn/metrics/_classification.py:1509: UndefinedMetricWarning: Precision is ill-defined and being set to 0.0 in labels with no predicted samples. Use `zero_division` parameter to control this behavior.\n",
      "  _warn_prf(average, modifier, f\"{metric.capitalize()} is\", len(result))\n",
      "/Users/daws/.local/share/virtualenvs/bias_framework-lO12qBfZ/lib/python3.11/site-packages/sklearn/metrics/_classification.py:1509: UndefinedMetricWarning: Precision is ill-defined and being set to 0.0 due to no predicted samples. Use `zero_division` parameter to control this behavior.\n",
      "  _warn_prf(average, modifier, f\"{metric.capitalize()} is\", len(result))\n",
      "/Users/daws/.local/share/virtualenvs/bias_framework-lO12qBfZ/lib/python3.11/site-packages/sklearn/metrics/_classification.py:1509: UndefinedMetricWarning: Precision is ill-defined and being set to 0.0 in labels with no predicted samples. Use `zero_division` parameter to control this behavior.\n",
      "  _warn_prf(average, modifier, f\"{metric.capitalize()} is\", len(result))\n",
      "/Users/daws/.local/share/virtualenvs/bias_framework-lO12qBfZ/lib/python3.11/site-packages/sklearn/metrics/_classification.py:1509: UndefinedMetricWarning: Precision is ill-defined and being set to 0.0 due to no predicted samples. Use `zero_division` parameter to control this behavior.\n",
      "  _warn_prf(average, modifier, f\"{metric.capitalize()} is\", len(result))\n",
      "/Users/daws/.local/share/virtualenvs/bias_framework-lO12qBfZ/lib/python3.11/site-packages/sklearn/metrics/_classification.py:1509: UndefinedMetricWarning: Precision is ill-defined and being set to 0.0 in labels with no predicted samples. Use `zero_division` parameter to control this behavior.\n",
      "  _warn_prf(average, modifier, f\"{metric.capitalize()} is\", len(result))\n",
      "/Users/daws/.local/share/virtualenvs/bias_framework-lO12qBfZ/lib/python3.11/site-packages/sklearn/metrics/_classification.py:1509: UndefinedMetricWarning: Precision is ill-defined and being set to 0.0 due to no predicted samples. Use `zero_division` parameter to control this behavior.\n",
      "  _warn_prf(average, modifier, f\"{metric.capitalize()} is\", len(result))\n",
      "/Users/daws/.local/share/virtualenvs/bias_framework-lO12qBfZ/lib/python3.11/site-packages/sklearn/metrics/_classification.py:1509: UndefinedMetricWarning: Precision is ill-defined and being set to 0.0 in labels with no predicted samples. Use `zero_division` parameter to control this behavior.\n",
      "  _warn_prf(average, modifier, f\"{metric.capitalize()} is\", len(result))\n",
      "/Users/daws/.local/share/virtualenvs/bias_framework-lO12qBfZ/lib/python3.11/site-packages/sklearn/metrics/_classification.py:1509: UndefinedMetricWarning: Precision is ill-defined and being set to 0.0 due to no predicted samples. Use `zero_division` parameter to control this behavior.\n",
      "  _warn_prf(average, modifier, f\"{metric.capitalize()} is\", len(result))\n",
      "/Users/daws/.local/share/virtualenvs/bias_framework-lO12qBfZ/lib/python3.11/site-packages/sklearn/metrics/_classification.py:1509: UndefinedMetricWarning: Precision is ill-defined and being set to 0.0 in labels with no predicted samples. Use `zero_division` parameter to control this behavior.\n",
      "  _warn_prf(average, modifier, f\"{metric.capitalize()} is\", len(result))\n"
     ]
    },
    {
     "name": "stdout",
     "output_type": "stream",
     "text": [
      "53.146589279174805 seconds to get fairea baseline\n"
     ]
    },
    {
     "name": "stderr",
     "output_type": "stream",
     "text": [
      "/Users/daws/.local/share/virtualenvs/bias_framework-lO12qBfZ/lib/python3.11/site-packages/sklearn/base.py:486: UserWarning: X has feature names, but RandomForestClassifier was fitted without feature names\n",
      "  warnings.warn(\n"
     ]
    },
    {
     "name": "stdout",
     "output_type": "stream",
     "text": [
      "10.954272031784058 seconds to run reweighing\n"
     ]
    }
   ],
   "source": [
    "random_forest_bias.run_framework()\n",
    "\n"
   ]
  },
  {
   "cell_type": "code",
   "execution_count": 20,
   "metadata": {},
   "outputs": [],
   "source": [
    "test = random_forest_bias.get_raw_data()"
   ]
  },
  {
   "cell_type": "code",
   "execution_count": 21,
   "metadata": {},
   "outputs": [
    {
     "data": {
      "text/plain": [
       "{'value': 0.8563423622627602,\n",
       " 'standard deviation': 0.0030091027744873202,\n",
       " 'confidence interval': (0.8504446291989854, 0.8622400953265349),\n",
       " 'skew': 0.38323457395952387,\n",
       " 'kurtosis': -0.3085486849627008,\n",
       " 'quartiles': array([0.8502549 , 0.8543087 , 0.85565997, 0.85823967, 0.86475032])}"
      ]
     },
     "execution_count": 21,
     "metadata": {},
     "output_type": "execute_result"
    }
   ],
   "source": [
    "test[\"reweighing\"][\"error\"][\"accuracy\"]"
   ]
  },
  {
   "cell_type": "code",
   "execution_count": 22,
   "metadata": {},
   "outputs": [
    {
     "name": "stdout",
     "output_type": "stream",
     "text": [
      "statistical parity difference 0.022358012831628277\n",
      "average odds difference 0.05721237282468238\n",
      "equal opportunity difference 0.10183487529498654\n",
      "error rate difference -0.002838587829241762\n",
      "accuracy 0.00041705054972052125\n",
      "recall positive class 0.023808668962436386\n",
      "recall negative class -0.0065780098579595325\n",
      "recall macro average 0.008615329552238316\n",
      "precision positive class -0.012515466076342019\n",
      "precision negative class 0.005020453708311501\n",
      "precision macro average -0.0037475061840153145\n",
      "f1 score positive class 0.010302766459343804\n",
      "f1 score negative class -0.0003929442253569615\n",
      "f1 score macro average 0.004954911116993643\n",
      "Matthews correlation coefficient 0.0060414759320943645\n"
     ]
    }
   ],
   "source": [
    "for key in test[\"no debiasing\"][\"fairness\"].keys():\n",
    "    print(key, test[\"no debiasing\"][\"fairness\"][key][\"value\"] - test[\"reweighing\"][\"fairness\"][key][\"value\"])\n",
    "for key in test[\"no debiasing\"][\"error\"].keys():\n",
    "    print(key, test[\"no debiasing\"][\"error\"][key][\"value\"] - test[\"reweighing\"][\"error\"][key][\"value\"])"
   ]
  },
  {
   "cell_type": "code",
   "execution_count": 23,
   "metadata": {},
   "outputs": [
    {
     "data": {
      "application/vnd.plotly.v1+json": {
       "config": {
        "plotlyServerURL": "https://plot.ly"
       },
       "data": [
        {
         "error_x": {
          "array": [
           -0.016680904291617893
          ],
          "type": "data"
         },
         "error_y": {
          "array": [
           -0.005897733063774724
          ],
          "type": "data"
         },
         "marker": {
          "color": "#E15F99"
         },
         "mode": "markers",
         "name": "reweighing outcome",
         "showlegend": true,
         "type": "scatter",
         "x": [
          0.12583032584191028
         ],
         "y": [
          0.8563423622627602
         ]
        },
        {
         "line": {
          "color": "#2E91E5"
         },
         "mode": "lines+markers+text",
         "name": "fairea baseline",
         "showlegend": true,
         "text": [
          "F_0",
          "F_10",
          "F_20",
          "F_30",
          "F_40",
          "F_50",
          "F_60",
          "F_70",
          "F_80",
          "F_90",
          "F_100"
         ],
         "textposition": "bottom right",
         "type": "scatter",
         "x": [
          0.14654586414179724,
          0.132205405658669,
          0.11634117142021375,
          0.10202507436452991,
          0.087352494836588,
          0.0731057375606408,
          0.0585936106654375,
          0.04454815744386095,
          0.02953972123273534,
          0.014259858602921902,
          0
         ],
         "y": [
          0.8567041336527241,
          0.8475069098949696,
          0.8380246913580247,
          0.8286137215158773,
          0.8197678275290214,
          0.8104010810146798,
          0.8003857256925251,
          0.7919255573981943,
          0.7824335114550703,
          0.7730471101283706,
          0.7637737239727288
         ]
        }
       ],
       "layout": {
        "template": {
         "data": {
          "bar": [
           {
            "error_x": {
             "color": "#2a3f5f"
            },
            "error_y": {
             "color": "#2a3f5f"
            },
            "marker": {
             "line": {
              "color": "#E5ECF6",
              "width": 0.5
             },
             "pattern": {
              "fillmode": "overlay",
              "size": 10,
              "solidity": 0.2
             }
            },
            "type": "bar"
           }
          ],
          "barpolar": [
           {
            "marker": {
             "line": {
              "color": "#E5ECF6",
              "width": 0.5
             },
             "pattern": {
              "fillmode": "overlay",
              "size": 10,
              "solidity": 0.2
             }
            },
            "type": "barpolar"
           }
          ],
          "carpet": [
           {
            "aaxis": {
             "endlinecolor": "#2a3f5f",
             "gridcolor": "white",
             "linecolor": "white",
             "minorgridcolor": "white",
             "startlinecolor": "#2a3f5f"
            },
            "baxis": {
             "endlinecolor": "#2a3f5f",
             "gridcolor": "white",
             "linecolor": "white",
             "minorgridcolor": "white",
             "startlinecolor": "#2a3f5f"
            },
            "type": "carpet"
           }
          ],
          "choropleth": [
           {
            "colorbar": {
             "outlinewidth": 0,
             "ticks": ""
            },
            "type": "choropleth"
           }
          ],
          "contour": [
           {
            "colorbar": {
             "outlinewidth": 0,
             "ticks": ""
            },
            "colorscale": [
             [
              0,
              "#0d0887"
             ],
             [
              0.1111111111111111,
              "#46039f"
             ],
             [
              0.2222222222222222,
              "#7201a8"
             ],
             [
              0.3333333333333333,
              "#9c179e"
             ],
             [
              0.4444444444444444,
              "#bd3786"
             ],
             [
              0.5555555555555556,
              "#d8576b"
             ],
             [
              0.6666666666666666,
              "#ed7953"
             ],
             [
              0.7777777777777778,
              "#fb9f3a"
             ],
             [
              0.8888888888888888,
              "#fdca26"
             ],
             [
              1,
              "#f0f921"
             ]
            ],
            "type": "contour"
           }
          ],
          "contourcarpet": [
           {
            "colorbar": {
             "outlinewidth": 0,
             "ticks": ""
            },
            "type": "contourcarpet"
           }
          ],
          "heatmap": [
           {
            "colorbar": {
             "outlinewidth": 0,
             "ticks": ""
            },
            "colorscale": [
             [
              0,
              "#0d0887"
             ],
             [
              0.1111111111111111,
              "#46039f"
             ],
             [
              0.2222222222222222,
              "#7201a8"
             ],
             [
              0.3333333333333333,
              "#9c179e"
             ],
             [
              0.4444444444444444,
              "#bd3786"
             ],
             [
              0.5555555555555556,
              "#d8576b"
             ],
             [
              0.6666666666666666,
              "#ed7953"
             ],
             [
              0.7777777777777778,
              "#fb9f3a"
             ],
             [
              0.8888888888888888,
              "#fdca26"
             ],
             [
              1,
              "#f0f921"
             ]
            ],
            "type": "heatmap"
           }
          ],
          "heatmapgl": [
           {
            "colorbar": {
             "outlinewidth": 0,
             "ticks": ""
            },
            "colorscale": [
             [
              0,
              "#0d0887"
             ],
             [
              0.1111111111111111,
              "#46039f"
             ],
             [
              0.2222222222222222,
              "#7201a8"
             ],
             [
              0.3333333333333333,
              "#9c179e"
             ],
             [
              0.4444444444444444,
              "#bd3786"
             ],
             [
              0.5555555555555556,
              "#d8576b"
             ],
             [
              0.6666666666666666,
              "#ed7953"
             ],
             [
              0.7777777777777778,
              "#fb9f3a"
             ],
             [
              0.8888888888888888,
              "#fdca26"
             ],
             [
              1,
              "#f0f921"
             ]
            ],
            "type": "heatmapgl"
           }
          ],
          "histogram": [
           {
            "marker": {
             "pattern": {
              "fillmode": "overlay",
              "size": 10,
              "solidity": 0.2
             }
            },
            "type": "histogram"
           }
          ],
          "histogram2d": [
           {
            "colorbar": {
             "outlinewidth": 0,
             "ticks": ""
            },
            "colorscale": [
             [
              0,
              "#0d0887"
             ],
             [
              0.1111111111111111,
              "#46039f"
             ],
             [
              0.2222222222222222,
              "#7201a8"
             ],
             [
              0.3333333333333333,
              "#9c179e"
             ],
             [
              0.4444444444444444,
              "#bd3786"
             ],
             [
              0.5555555555555556,
              "#d8576b"
             ],
             [
              0.6666666666666666,
              "#ed7953"
             ],
             [
              0.7777777777777778,
              "#fb9f3a"
             ],
             [
              0.8888888888888888,
              "#fdca26"
             ],
             [
              1,
              "#f0f921"
             ]
            ],
            "type": "histogram2d"
           }
          ],
          "histogram2dcontour": [
           {
            "colorbar": {
             "outlinewidth": 0,
             "ticks": ""
            },
            "colorscale": [
             [
              0,
              "#0d0887"
             ],
             [
              0.1111111111111111,
              "#46039f"
             ],
             [
              0.2222222222222222,
              "#7201a8"
             ],
             [
              0.3333333333333333,
              "#9c179e"
             ],
             [
              0.4444444444444444,
              "#bd3786"
             ],
             [
              0.5555555555555556,
              "#d8576b"
             ],
             [
              0.6666666666666666,
              "#ed7953"
             ],
             [
              0.7777777777777778,
              "#fb9f3a"
             ],
             [
              0.8888888888888888,
              "#fdca26"
             ],
             [
              1,
              "#f0f921"
             ]
            ],
            "type": "histogram2dcontour"
           }
          ],
          "mesh3d": [
           {
            "colorbar": {
             "outlinewidth": 0,
             "ticks": ""
            },
            "type": "mesh3d"
           }
          ],
          "parcoords": [
           {
            "line": {
             "colorbar": {
              "outlinewidth": 0,
              "ticks": ""
             }
            },
            "type": "parcoords"
           }
          ],
          "pie": [
           {
            "automargin": true,
            "type": "pie"
           }
          ],
          "scatter": [
           {
            "fillpattern": {
             "fillmode": "overlay",
             "size": 10,
             "solidity": 0.2
            },
            "type": "scatter"
           }
          ],
          "scatter3d": [
           {
            "line": {
             "colorbar": {
              "outlinewidth": 0,
              "ticks": ""
             }
            },
            "marker": {
             "colorbar": {
              "outlinewidth": 0,
              "ticks": ""
             }
            },
            "type": "scatter3d"
           }
          ],
          "scattercarpet": [
           {
            "marker": {
             "colorbar": {
              "outlinewidth": 0,
              "ticks": ""
             }
            },
            "type": "scattercarpet"
           }
          ],
          "scattergeo": [
           {
            "marker": {
             "colorbar": {
              "outlinewidth": 0,
              "ticks": ""
             }
            },
            "type": "scattergeo"
           }
          ],
          "scattergl": [
           {
            "marker": {
             "colorbar": {
              "outlinewidth": 0,
              "ticks": ""
             }
            },
            "type": "scattergl"
           }
          ],
          "scattermapbox": [
           {
            "marker": {
             "colorbar": {
              "outlinewidth": 0,
              "ticks": ""
             }
            },
            "type": "scattermapbox"
           }
          ],
          "scatterpolar": [
           {
            "marker": {
             "colorbar": {
              "outlinewidth": 0,
              "ticks": ""
             }
            },
            "type": "scatterpolar"
           }
          ],
          "scatterpolargl": [
           {
            "marker": {
             "colorbar": {
              "outlinewidth": 0,
              "ticks": ""
             }
            },
            "type": "scatterpolargl"
           }
          ],
          "scatterternary": [
           {
            "marker": {
             "colorbar": {
              "outlinewidth": 0,
              "ticks": ""
             }
            },
            "type": "scatterternary"
           }
          ],
          "surface": [
           {
            "colorbar": {
             "outlinewidth": 0,
             "ticks": ""
            },
            "colorscale": [
             [
              0,
              "#0d0887"
             ],
             [
              0.1111111111111111,
              "#46039f"
             ],
             [
              0.2222222222222222,
              "#7201a8"
             ],
             [
              0.3333333333333333,
              "#9c179e"
             ],
             [
              0.4444444444444444,
              "#bd3786"
             ],
             [
              0.5555555555555556,
              "#d8576b"
             ],
             [
              0.6666666666666666,
              "#ed7953"
             ],
             [
              0.7777777777777778,
              "#fb9f3a"
             ],
             [
              0.8888888888888888,
              "#fdca26"
             ],
             [
              1,
              "#f0f921"
             ]
            ],
            "type": "surface"
           }
          ],
          "table": [
           {
            "cells": {
             "fill": {
              "color": "#EBF0F8"
             },
             "line": {
              "color": "white"
             }
            },
            "header": {
             "fill": {
              "color": "#C8D4E3"
             },
             "line": {
              "color": "white"
             }
            },
            "type": "table"
           }
          ]
         },
         "layout": {
          "annotationdefaults": {
           "arrowcolor": "#2a3f5f",
           "arrowhead": 0,
           "arrowwidth": 1
          },
          "autotypenumbers": "strict",
          "coloraxis": {
           "colorbar": {
            "outlinewidth": 0,
            "ticks": ""
           }
          },
          "colorscale": {
           "diverging": [
            [
             0,
             "#8e0152"
            ],
            [
             0.1,
             "#c51b7d"
            ],
            [
             0.2,
             "#de77ae"
            ],
            [
             0.3,
             "#f1b6da"
            ],
            [
             0.4,
             "#fde0ef"
            ],
            [
             0.5,
             "#f7f7f7"
            ],
            [
             0.6,
             "#e6f5d0"
            ],
            [
             0.7,
             "#b8e186"
            ],
            [
             0.8,
             "#7fbc41"
            ],
            [
             0.9,
             "#4d9221"
            ],
            [
             1,
             "#276419"
            ]
           ],
           "sequential": [
            [
             0,
             "#0d0887"
            ],
            [
             0.1111111111111111,
             "#46039f"
            ],
            [
             0.2222222222222222,
             "#7201a8"
            ],
            [
             0.3333333333333333,
             "#9c179e"
            ],
            [
             0.4444444444444444,
             "#bd3786"
            ],
            [
             0.5555555555555556,
             "#d8576b"
            ],
            [
             0.6666666666666666,
             "#ed7953"
            ],
            [
             0.7777777777777778,
             "#fb9f3a"
            ],
            [
             0.8888888888888888,
             "#fdca26"
            ],
            [
             1,
             "#f0f921"
            ]
           ],
           "sequentialminus": [
            [
             0,
             "#0d0887"
            ],
            [
             0.1111111111111111,
             "#46039f"
            ],
            [
             0.2222222222222222,
             "#7201a8"
            ],
            [
             0.3333333333333333,
             "#9c179e"
            ],
            [
             0.4444444444444444,
             "#bd3786"
            ],
            [
             0.5555555555555556,
             "#d8576b"
            ],
            [
             0.6666666666666666,
             "#ed7953"
            ],
            [
             0.7777777777777778,
             "#fb9f3a"
            ],
            [
             0.8888888888888888,
             "#fdca26"
            ],
            [
             1,
             "#f0f921"
            ]
           ]
          },
          "colorway": [
           "#636efa",
           "#EF553B",
           "#00cc96",
           "#ab63fa",
           "#FFA15A",
           "#19d3f3",
           "#FF6692",
           "#B6E880",
           "#FF97FF",
           "#FECB52"
          ],
          "font": {
           "color": "#2a3f5f"
          },
          "geo": {
           "bgcolor": "white",
           "lakecolor": "white",
           "landcolor": "#E5ECF6",
           "showlakes": true,
           "showland": true,
           "subunitcolor": "white"
          },
          "hoverlabel": {
           "align": "left"
          },
          "hovermode": "closest",
          "mapbox": {
           "style": "light"
          },
          "paper_bgcolor": "white",
          "plot_bgcolor": "#E5ECF6",
          "polar": {
           "angularaxis": {
            "gridcolor": "white",
            "linecolor": "white",
            "ticks": ""
           },
           "bgcolor": "#E5ECF6",
           "radialaxis": {
            "gridcolor": "white",
            "linecolor": "white",
            "ticks": ""
           }
          },
          "scene": {
           "xaxis": {
            "backgroundcolor": "#E5ECF6",
            "gridcolor": "white",
            "gridwidth": 2,
            "linecolor": "white",
            "showbackground": true,
            "ticks": "",
            "zerolinecolor": "white"
           },
           "yaxis": {
            "backgroundcolor": "#E5ECF6",
            "gridcolor": "white",
            "gridwidth": 2,
            "linecolor": "white",
            "showbackground": true,
            "ticks": "",
            "zerolinecolor": "white"
           },
           "zaxis": {
            "backgroundcolor": "#E5ECF6",
            "gridcolor": "white",
            "gridwidth": 2,
            "linecolor": "white",
            "showbackground": true,
            "ticks": "",
            "zerolinecolor": "white"
           }
          },
          "shapedefaults": {
           "line": {
            "color": "#2a3f5f"
           }
          },
          "ternary": {
           "aaxis": {
            "gridcolor": "white",
            "linecolor": "white",
            "ticks": ""
           },
           "baxis": {
            "gridcolor": "white",
            "linecolor": "white",
            "ticks": ""
           },
           "bgcolor": "#E5ECF6",
           "caxis": {
            "gridcolor": "white",
            "linecolor": "white",
            "ticks": ""
           }
          },
          "title": {
           "x": 0.05
          },
          "xaxis": {
           "automargin": true,
           "gridcolor": "white",
           "linecolor": "white",
           "ticks": "",
           "title": {
            "standoff": 15
           },
           "zerolinecolor": "white",
           "zerolinewidth": 2
          },
          "yaxis": {
           "automargin": true,
           "gridcolor": "white",
           "linecolor": "white",
           "ticks": "",
           "title": {
            "standoff": 15
           },
           "zerolinecolor": "white",
           "zerolinewidth": 2
          }
         }
        },
        "title": {
         "text": "Debias Methodologies impact on accuracy and statistical parity difference"
        },
        "xaxis": {
         "dtick": 0.1,
         "tick0": 0,
         "title": {
          "text": "Bias (statistical parity difference)"
         }
        },
        "yaxis": {
         "dtick": 0.1,
         "tick0": 0,
         "title": {
          "text": "Error (accuracy)"
         }
        }
       }
      }
     },
     "metadata": {},
     "output_type": "display_data"
    }
   ],
   "source": [
    "random_forest_bias.show_fairea_graph(\"accuracy\", \"statistical parity difference\")"
   ]
  },
  {
   "cell_type": "code",
   "execution_count": 24,
   "metadata": {},
   "outputs": [
    {
     "data": {
      "application/vnd.plotly.v1+json": {
       "config": {
        "plotlyServerURL": "https://plot.ly"
       },
       "data": [
        {
         "error_x": {
          "array": [
           -0.016680904291617893
          ],
          "type": "data"
         },
         "error_y": {
          "array": [
           -0.005897733063774724
          ],
          "type": "data"
         },
         "marker": {
          "color": "#E15F99"
         },
         "mode": "markers",
         "name": "reweighing outcome",
         "showlegend": true,
         "type": "scatter",
         "x": [
          0.12583032584191028
         ],
         "xaxis": "x",
         "y": [
          0.8563423622627602
         ],
         "yaxis": "y"
        },
        {
         "line": {
          "color": "#2E91E5"
         },
         "mode": "lines+markers+text",
         "name": "fairea baseline",
         "showlegend": true,
         "text": [
          "F_0",
          "F_10",
          "F_20",
          "F_30",
          "F_40",
          "F_50",
          "F_60",
          "F_70",
          "F_80",
          "F_90",
          "F_100"
         ],
         "textposition": "bottom right",
         "type": "scatter",
         "x": [
          0.14654586414179724,
          0.132205405658669,
          0.11634117142021375,
          0.10202507436452991,
          0.087352494836588,
          0.0731057375606408,
          0.0585936106654375,
          0.04454815744386095,
          0.02953972123273534,
          0.014259858602921902,
          0
         ],
         "xaxis": "x",
         "y": [
          0.8567041336527241,
          0.8475069098949696,
          0.8380246913580247,
          0.8286137215158773,
          0.8197678275290214,
          0.8104010810146798,
          0.8003857256925251,
          0.7919255573981943,
          0.7824335114550703,
          0.7730471101283706,
          0.7637737239727288
         ],
         "yaxis": "y"
        },
        {
         "error_x": {
          "array": [
           -0.048477818922541396
          ],
          "type": "data"
         },
         "error_y": {
          "array": [
           -0.005897733063774724
          ],
          "type": "data"
         },
         "marker": {
          "color": "#E15F99"
         },
         "mode": "markers",
         "name": "reweighing outcome",
         "showlegend": false,
         "type": "scatter",
         "x": [
          0.05865154575243114
         ],
         "xaxis": "x2",
         "y": [
          0.8563423622627602
         ],
         "yaxis": "y2"
        },
        {
         "line": {
          "color": "#2E91E5"
         },
         "mode": "lines+markers+text",
         "name": "fairea baseline",
         "showlegend": false,
         "text": [
          "F_0",
          "F_10",
          "F_20",
          "F_30",
          "F_40",
          "F_50",
          "F_60",
          "F_70",
          "F_80",
          "F_90",
          "F_100"
         ],
         "textposition": "bottom right",
         "type": "scatter",
         "x": [
          0.11094685670233473,
          0.10032698520591321,
          0.08654486913923433,
          0.07583556864250657,
          0.06321312166819198,
          0.05415353494621203,
          0.044060364281984066,
          0.03624507043731449,
          0.023554998886799353,
          0.014925982941340711,
          0
         ],
         "xaxis": "x2",
         "y": [
          0.8567041336527241,
          0.8475069098949696,
          0.8380246913580247,
          0.8286137215158773,
          0.8197678275290214,
          0.8104010810146798,
          0.8003857256925251,
          0.7919255573981943,
          0.7824335114550703,
          0.7730471101283706,
          0.7637737239727288
         ],
         "yaxis": "y2"
        },
        {
         "error_x": {
          "array": [
           -0.09597828498684816
          ],
          "type": "data"
         },
         "error_y": {
          "array": [
           -0.005897733063774724
          ],
          "type": "data"
         },
         "marker": {
          "color": "#E15F99"
         },
         "mode": "markers",
         "name": "reweighing outcome",
         "showlegend": false,
         "type": "scatter",
         "x": [
          0.08546507785707007
         ],
         "xaxis": "x3",
         "y": [
          0.8563423622627602
         ],
         "yaxis": "y3"
        },
        {
         "line": {
          "color": "#2E91E5"
         },
         "mode": "lines+markers+text",
         "name": "fairea baseline",
         "showlegend": false,
         "text": [
          "F_0",
          "F_10",
          "F_20",
          "F_30",
          "F_40",
          "F_50",
          "F_60",
          "F_70",
          "F_80",
          "F_90",
          "F_100"
         ],
         "textposition": "bottom right",
         "type": "scatter",
         "x": [
          0.17788636046349293,
          0.1608097165991903,
          0.13847424263576713,
          0.12106868630462098,
          0.10022392852156918,
          0.08640067011028897,
          0.07013276560100518,
          0.05907510819489041,
          0.03801228535529806,
          0.025357112941504955,
          0
         ],
         "xaxis": "x3",
         "y": [
          0.8567041336527241,
          0.8475069098949696,
          0.8380246913580247,
          0.8286137215158773,
          0.8197678275290214,
          0.8104010810146798,
          0.8003857256925251,
          0.7919255573981943,
          0.7824335114550703,
          0.7730471101283706,
          0.7637737239727288
         ],
         "yaxis": "y3"
        },
        {
         "error_x": {
          "array": [
           -0.017020825316428526
          ],
          "type": "data"
         },
         "error_y": {
          "array": [
           -0.005897733063774724
          ],
          "type": "data"
         },
         "marker": {
          "color": "#E15F99"
         },
         "mode": "markers",
         "name": "reweighing outcome",
         "showlegend": false,
         "type": "scatter",
         "x": [
          0.08862401761162954
         ],
         "xaxis": "x4",
         "y": [
          0.8563423622627602
         ],
         "yaxis": "y4"
        },
        {
         "line": {
          "color": "#2E91E5"
         },
         "mode": "lines+markers+text",
         "name": "fairea baseline",
         "showlegend": false,
         "text": [
          "F_0",
          "F_10",
          "F_20",
          "F_30",
          "F_40",
          "F_50",
          "F_60",
          "F_70",
          "F_80",
          "F_90",
          "F_100"
         ],
         "textposition": "bottom right",
         "type": "scatter",
         "x": [
          0.08602877581231137,
          0.09496448484280559,
          0.10342111281501247,
          0.11254385956025835,
          0.12145485132792444,
          0.1299737125027384,
          0.13939142905262944,
          0.14743691013320404,
          0.1567287103436661,
          0.16568090050412124,
          0.17393512145889978
         ],
         "xaxis": "x4",
         "y": [
          0.8567041336527241,
          0.8475069098949696,
          0.8380246913580247,
          0.8286137215158773,
          0.8197678275290214,
          0.8104010810146798,
          0.8003857256925251,
          0.7919255573981943,
          0.7824335114550703,
          0.7730471101283706,
          0.7637737239727288
         ],
         "yaxis": "y4"
        },
        {
         "error_x": {
          "array": [
           -0.016680904291617893
          ],
          "type": "data"
         },
         "error_y": {
          "array": [
           -0.015200518251803796
          ],
          "type": "data"
         },
         "marker": {
          "color": "#E15F99"
         },
         "mode": "markers",
         "name": "reweighing outcome",
         "showlegend": false,
         "type": "scatter",
         "x": [
          0.12583032584191028
         ],
         "xaxis": "x5",
         "y": [
          0.5728695889853195
         ],
         "yaxis": "y5"
        },
        {
         "line": {
          "color": "#2E91E5"
         },
         "mode": "lines+markers+text",
         "name": "fairea baseline",
         "showlegend": false,
         "text": [
          "F_0",
          "F_10",
          "F_20",
          "F_30",
          "F_40",
          "F_50",
          "F_60",
          "F_70",
          "F_80",
          "F_90",
          "F_100"
         ],
         "textposition": "bottom right",
         "type": "scatter",
         "x": [
          0.14654586414179724,
          0.132205405658669,
          0.11634117142021375,
          0.10202507436452991,
          0.087352494836588,
          0.0731057375606408,
          0.0585936106654375,
          0.04454815744386095,
          0.02953972123273534,
          0.014259858602921902,
          0
         ],
         "xaxis": "x5",
         "y": [
          0.5954238169526781,
          0.5360530421216849,
          0.47600104004160165,
          0.4163078523140925,
          0.3577171086843475,
          0.2983775351014041,
          0.23681227249089964,
          0.1791367654706188,
          0.118798751950078,
          0.05973998959958399,
          0
         ],
         "yaxis": "y5"
        },
        {
         "error_x": {
          "array": [
           -0.048477818922541396
          ],
          "type": "data"
         },
         "error_y": {
          "array": [
           -0.015200518251803796
          ],
          "type": "data"
         },
         "marker": {
          "color": "#E15F99"
         },
         "mode": "markers",
         "name": "reweighing outcome",
         "showlegend": false,
         "type": "scatter",
         "x": [
          0.05865154575243114
         ],
         "xaxis": "x6",
         "y": [
          0.5728695889853195
         ],
         "yaxis": "y6"
        },
        {
         "line": {
          "color": "#2E91E5"
         },
         "mode": "lines+markers+text",
         "name": "fairea baseline",
         "showlegend": false,
         "text": [
          "F_0",
          "F_10",
          "F_20",
          "F_30",
          "F_40",
          "F_50",
          "F_60",
          "F_70",
          "F_80",
          "F_90",
          "F_100"
         ],
         "textposition": "bottom right",
         "type": "scatter",
         "x": [
          0.11094685670233473,
          0.10032698520591321,
          0.08654486913923433,
          0.07583556864250657,
          0.06321312166819198,
          0.05415353494621203,
          0.044060364281984066,
          0.03624507043731449,
          0.023554998886799353,
          0.014925982941340711,
          0
         ],
         "xaxis": "x6",
         "y": [
          0.5954238169526781,
          0.5360530421216849,
          0.47600104004160165,
          0.4163078523140925,
          0.3577171086843475,
          0.2983775351014041,
          0.23681227249089964,
          0.1791367654706188,
          0.118798751950078,
          0.05973998959958399,
          0
         ],
         "yaxis": "y6"
        },
        {
         "error_x": {
          "array": [
           -0.09597828498684816
          ],
          "type": "data"
         },
         "error_y": {
          "array": [
           -0.015200518251803796
          ],
          "type": "data"
         },
         "marker": {
          "color": "#E15F99"
         },
         "mode": "markers",
         "name": "reweighing outcome",
         "showlegend": false,
         "type": "scatter",
         "x": [
          0.08546507785707007
         ],
         "xaxis": "x7",
         "y": [
          0.5728695889853195
         ],
         "yaxis": "y7"
        },
        {
         "line": {
          "color": "#2E91E5"
         },
         "mode": "lines+markers+text",
         "name": "fairea baseline",
         "showlegend": false,
         "text": [
          "F_0",
          "F_10",
          "F_20",
          "F_30",
          "F_40",
          "F_50",
          "F_60",
          "F_70",
          "F_80",
          "F_90",
          "F_100"
         ],
         "textposition": "bottom right",
         "type": "scatter",
         "x": [
          0.17788636046349293,
          0.1608097165991903,
          0.13847424263576713,
          0.12106868630462098,
          0.10022392852156918,
          0.08640067011028897,
          0.07013276560100518,
          0.05907510819489041,
          0.03801228535529806,
          0.025357112941504955,
          0
         ],
         "xaxis": "x7",
         "y": [
          0.5954238169526781,
          0.5360530421216849,
          0.47600104004160165,
          0.4163078523140925,
          0.3577171086843475,
          0.2983775351014041,
          0.23681227249089964,
          0.1791367654706188,
          0.118798751950078,
          0.05973998959958399,
          0
         ],
         "yaxis": "y7"
        },
        {
         "error_x": {
          "array": [
           -0.017020825316428526
          ],
          "type": "data"
         },
         "error_y": {
          "array": [
           -0.015200518251803796
          ],
          "type": "data"
         },
         "marker": {
          "color": "#E15F99"
         },
         "mode": "markers",
         "name": "reweighing outcome",
         "showlegend": false,
         "type": "scatter",
         "x": [
          0.08862401761162954
         ],
         "xaxis": "x8",
         "y": [
          0.5728695889853195
         ],
         "yaxis": "y8"
        },
        {
         "line": {
          "color": "#2E91E5"
         },
         "mode": "lines+markers+text",
         "name": "fairea baseline",
         "showlegend": false,
         "text": [
          "F_0",
          "F_10",
          "F_20",
          "F_30",
          "F_40",
          "F_50",
          "F_60",
          "F_70",
          "F_80",
          "F_90",
          "F_100"
         ],
         "textposition": "bottom right",
         "type": "scatter",
         "x": [
          0.08602877581231137,
          0.09496448484280559,
          0.10342111281501247,
          0.11254385956025835,
          0.12145485132792444,
          0.1299737125027384,
          0.13939142905262944,
          0.14743691013320404,
          0.1567287103436661,
          0.16568090050412124,
          0.17393512145889978
         ],
         "xaxis": "x8",
         "y": [
          0.5954238169526781,
          0.5360530421216849,
          0.47600104004160165,
          0.4163078523140925,
          0.3577171086843475,
          0.2983775351014041,
          0.23681227249089964,
          0.1791367654706188,
          0.118798751950078,
          0.05973998959958399,
          0
         ],
         "yaxis": "y8"
        },
        {
         "error_x": {
          "array": [
           -0.016680904291617893
          ],
          "type": "data"
         },
         "error_y": {
          "array": [
           -0.0040540040028599345
          ],
          "type": "data"
         },
         "marker": {
          "color": "#E15F99"
         },
         "mode": "markers",
         "name": "reweighing outcome",
         "showlegend": false,
         "type": "scatter",
         "x": [
          0.12583032584191028
         ],
         "xaxis": "x9",
         "y": [
          0.9438685215432924
         ],
         "yaxis": "y9"
        },
        {
         "line": {
          "color": "#2E91E5"
         },
         "mode": "lines+markers+text",
         "name": "fairea baseline",
         "showlegend": false,
         "text": [
          "F_0",
          "F_10",
          "F_20",
          "F_30",
          "F_40",
          "F_50",
          "F_60",
          "F_70",
          "F_80",
          "F_90",
          "F_100"
         ],
         "textposition": "bottom right",
         "type": "scatter",
         "x": [
          0.14654586414179724,
          0.132205405658669,
          0.11634117142021375,
          0.10202507436452991,
          0.087352494836588,
          0.0731057375606408,
          0.0585936106654375,
          0.04454815744386095,
          0.02953972123273534,
          0.014259858602921902,
          0
         ],
         "xaxis": "x9",
         "y": [
          0.9375150784077203,
          0.9438359469240047,
          0.9499943707277845,
          0.9561351025331725,
          0.9626747084841173,
          0.9687639726578205,
          0.9746924004825093,
          0.9814539605950944,
          0.9876879774829113,
          0.9936646562123039,
          1
         ],
         "yaxis": "y9"
        },
        {
         "error_x": {
          "array": [
           -0.048477818922541396
          ],
          "type": "data"
         },
         "error_y": {
          "array": [
           -0.0040540040028599345
          ],
          "type": "data"
         },
         "marker": {
          "color": "#E15F99"
         },
         "mode": "markers",
         "name": "reweighing outcome",
         "showlegend": false,
         "type": "scatter",
         "x": [
          0.05865154575243114
         ],
         "xaxis": "x10",
         "y": [
          0.9438685215432924
         ],
         "yaxis": "y10"
        },
        {
         "line": {
          "color": "#2E91E5"
         },
         "mode": "lines+markers+text",
         "name": "fairea baseline",
         "showlegend": false,
         "text": [
          "F_0",
          "F_10",
          "F_20",
          "F_30",
          "F_40",
          "F_50",
          "F_60",
          "F_70",
          "F_80",
          "F_90",
          "F_100"
         ],
         "textposition": "bottom right",
         "type": "scatter",
         "x": [
          0.11094685670233473,
          0.10032698520591321,
          0.08654486913923433,
          0.07583556864250657,
          0.06321312166819198,
          0.05415353494621203,
          0.044060364281984066,
          0.03624507043731449,
          0.023554998886799353,
          0.014925982941340711,
          0
         ],
         "xaxis": "x10",
         "y": [
          0.9375150784077203,
          0.9438359469240047,
          0.9499943707277845,
          0.9561351025331725,
          0.9626747084841173,
          0.9687639726578205,
          0.9746924004825093,
          0.9814539605950944,
          0.9876879774829113,
          0.9936646562123039,
          1
         ],
         "yaxis": "y10"
        },
        {
         "error_x": {
          "array": [
           -0.09597828498684816
          ],
          "type": "data"
         },
         "error_y": {
          "array": [
           -0.0040540040028599345
          ],
          "type": "data"
         },
         "marker": {
          "color": "#E15F99"
         },
         "mode": "markers",
         "name": "reweighing outcome",
         "showlegend": false,
         "type": "scatter",
         "x": [
          0.08546507785707007
         ],
         "xaxis": "x11",
         "y": [
          0.9438685215432924
         ],
         "yaxis": "y11"
        },
        {
         "line": {
          "color": "#2E91E5"
         },
         "mode": "lines+markers+text",
         "name": "fairea baseline",
         "showlegend": false,
         "text": [
          "F_0",
          "F_10",
          "F_20",
          "F_30",
          "F_40",
          "F_50",
          "F_60",
          "F_70",
          "F_80",
          "F_90",
          "F_100"
         ],
         "textposition": "bottom right",
         "type": "scatter",
         "x": [
          0.17788636046349293,
          0.1608097165991903,
          0.13847424263576713,
          0.12106868630462098,
          0.10022392852156918,
          0.08640067011028897,
          0.07013276560100518,
          0.05907510819489041,
          0.03801228535529806,
          0.025357112941504955,
          0
         ],
         "xaxis": "x11",
         "y": [
          0.9375150784077203,
          0.9438359469240047,
          0.9499943707277845,
          0.9561351025331725,
          0.9626747084841173,
          0.9687639726578205,
          0.9746924004825093,
          0.9814539605950944,
          0.9876879774829113,
          0.9936646562123039,
          1
         ],
         "yaxis": "y11"
        },
        {
         "error_x": {
          "array": [
           -0.017020825316428526
          ],
          "type": "data"
         },
         "error_y": {
          "array": [
           -0.0040540040028599345
          ],
          "type": "data"
         },
         "marker": {
          "color": "#E15F99"
         },
         "mode": "markers",
         "name": "reweighing outcome",
         "showlegend": false,
         "type": "scatter",
         "x": [
          0.08862401761162954
         ],
         "xaxis": "x12",
         "y": [
          0.9438685215432924
         ],
         "yaxis": "y12"
        },
        {
         "line": {
          "color": "#2E91E5"
         },
         "mode": "lines+markers+text",
         "name": "fairea baseline",
         "showlegend": false,
         "text": [
          "F_0",
          "F_10",
          "F_20",
          "F_30",
          "F_40",
          "F_50",
          "F_60",
          "F_70",
          "F_80",
          "F_90",
          "F_100"
         ],
         "textposition": "bottom right",
         "type": "scatter",
         "x": [
          0.08602877581231137,
          0.09496448484280559,
          0.10342111281501247,
          0.11254385956025835,
          0.12145485132792444,
          0.1299737125027384,
          0.13939142905262944,
          0.14743691013320404,
          0.1567287103436661,
          0.16568090050412124,
          0.17393512145889978
         ],
         "xaxis": "x12",
         "y": [
          0.9375150784077203,
          0.9438359469240047,
          0.9499943707277845,
          0.9561351025331725,
          0.9626747084841173,
          0.9687639726578205,
          0.9746924004825093,
          0.9814539605950944,
          0.9876879774829113,
          0.9936646562123039,
          1
         ],
         "yaxis": "y12"
        },
        {
         "error_x": {
          "array": [
           -0.016680904291617893
          ],
          "type": "data"
         },
         "error_y": {
          "array": [
           -0.007981120881773829
          ],
          "type": "data"
         },
         "marker": {
          "color": "#E15F99"
         },
         "mode": "markers",
         "name": "reweighing outcome",
         "showlegend": false,
         "type": "scatter",
         "x": [
          0.12583032584191028
         ],
         "xaxis": "x13",
         "y": [
          0.758369055264306
         ],
         "yaxis": "y13"
        },
        {
         "line": {
          "color": "#2E91E5"
         },
         "mode": "lines+markers+text",
         "name": "fairea baseline",
         "showlegend": false,
         "text": [
          "F_0",
          "F_10",
          "F_20",
          "F_30",
          "F_40",
          "F_50",
          "F_60",
          "F_70",
          "F_80",
          "F_90",
          "F_100"
         ],
         "textposition": "bottom right",
         "type": "scatter",
         "x": [
          0.14654586414179724,
          0.132205405658669,
          0.11634117142021375,
          0.10202507436452991,
          0.087352494836588,
          0.0731057375606408,
          0.0585936106654375,
          0.04454815744386095,
          0.02953972123273534,
          0.014259858602921902,
          0
         ],
         "xaxis": "x13",
         "y": [
          0.7664694476801993,
          0.7399444945228447,
          0.712997705384693,
          0.6862214774236325,
          0.6601959085842324,
          0.6335707538796125,
          0.6057523364867043,
          0.5802953630328566,
          0.5532433647164946,
          0.5267023229059439,
          0.5
         ],
         "yaxis": "y13"
        },
        {
         "error_x": {
          "array": [
           -0.048477818922541396
          ],
          "type": "data"
         },
         "error_y": {
          "array": [
           -0.007981120881773829
          ],
          "type": "data"
         },
         "marker": {
          "color": "#E15F99"
         },
         "mode": "markers",
         "name": "reweighing outcome",
         "showlegend": false,
         "type": "scatter",
         "x": [
          0.05865154575243114
         ],
         "xaxis": "x14",
         "y": [
          0.758369055264306
         ],
         "yaxis": "y14"
        },
        {
         "line": {
          "color": "#2E91E5"
         },
         "mode": "lines+markers+text",
         "name": "fairea baseline",
         "showlegend": false,
         "text": [
          "F_0",
          "F_10",
          "F_20",
          "F_30",
          "F_40",
          "F_50",
          "F_60",
          "F_70",
          "F_80",
          "F_90",
          "F_100"
         ],
         "textposition": "bottom right",
         "type": "scatter",
         "x": [
          0.11094685670233473,
          0.10032698520591321,
          0.08654486913923433,
          0.07583556864250657,
          0.06321312166819198,
          0.05415353494621203,
          0.044060364281984066,
          0.03624507043731449,
          0.023554998886799353,
          0.014925982941340711,
          0
         ],
         "xaxis": "x14",
         "y": [
          0.7664694476801993,
          0.7399444945228447,
          0.712997705384693,
          0.6862214774236325,
          0.6601959085842324,
          0.6335707538796125,
          0.6057523364867043,
          0.5802953630328566,
          0.5532433647164946,
          0.5267023229059439,
          0.5
         ],
         "yaxis": "y14"
        },
        {
         "error_x": {
          "array": [
           -0.09597828498684816
          ],
          "type": "data"
         },
         "error_y": {
          "array": [
           -0.007981120881773829
          ],
          "type": "data"
         },
         "marker": {
          "color": "#E15F99"
         },
         "mode": "markers",
         "name": "reweighing outcome",
         "showlegend": false,
         "type": "scatter",
         "x": [
          0.08546507785707007
         ],
         "xaxis": "x15",
         "y": [
          0.758369055264306
         ],
         "yaxis": "y15"
        },
        {
         "line": {
          "color": "#2E91E5"
         },
         "mode": "lines+markers+text",
         "name": "fairea baseline",
         "showlegend": false,
         "text": [
          "F_0",
          "F_10",
          "F_20",
          "F_30",
          "F_40",
          "F_50",
          "F_60",
          "F_70",
          "F_80",
          "F_90",
          "F_100"
         ],
         "textposition": "bottom right",
         "type": "scatter",
         "x": [
          0.17788636046349293,
          0.1608097165991903,
          0.13847424263576713,
          0.12106868630462098,
          0.10022392852156918,
          0.08640067011028897,
          0.07013276560100518,
          0.05907510819489041,
          0.03801228535529806,
          0.025357112941504955,
          0
         ],
         "xaxis": "x15",
         "y": [
          0.7664694476801993,
          0.7399444945228447,
          0.712997705384693,
          0.6862214774236325,
          0.6601959085842324,
          0.6335707538796125,
          0.6057523364867043,
          0.5802953630328566,
          0.5532433647164946,
          0.5267023229059439,
          0.5
         ],
         "yaxis": "y15"
        },
        {
         "error_x": {
          "array": [
           -0.017020825316428526
          ],
          "type": "data"
         },
         "error_y": {
          "array": [
           -0.007981120881773829
          ],
          "type": "data"
         },
         "marker": {
          "color": "#E15F99"
         },
         "mode": "markers",
         "name": "reweighing outcome",
         "showlegend": false,
         "type": "scatter",
         "x": [
          0.08862401761162954
         ],
         "xaxis": "x16",
         "y": [
          0.758369055264306
         ],
         "yaxis": "y16"
        },
        {
         "line": {
          "color": "#2E91E5"
         },
         "mode": "lines+markers+text",
         "name": "fairea baseline",
         "showlegend": false,
         "text": [
          "F_0",
          "F_10",
          "F_20",
          "F_30",
          "F_40",
          "F_50",
          "F_60",
          "F_70",
          "F_80",
          "F_90",
          "F_100"
         ],
         "textposition": "bottom right",
         "type": "scatter",
         "x": [
          0.08602877581231137,
          0.09496448484280559,
          0.10342111281501247,
          0.11254385956025835,
          0.12145485132792444,
          0.1299737125027384,
          0.13939142905262944,
          0.14743691013320404,
          0.1567287103436661,
          0.16568090050412124,
          0.17393512145889978
         ],
         "xaxis": "x16",
         "y": [
          0.7664694476801993,
          0.7399444945228447,
          0.712997705384693,
          0.6862214774236325,
          0.6601959085842324,
          0.6335707538796125,
          0.6057523364867043,
          0.5802953630328566,
          0.5532433647164946,
          0.5267023229059439,
          0.5
         ],
         "yaxis": "y16"
        },
        {
         "error_x": {
          "array": [
           -0.016680904291617893
          ],
          "type": "data"
         },
         "error_y": {
          "array": [
           -0.01478638050614478
          ],
          "type": "data"
         },
         "marker": {
          "color": "#E15F99"
         },
         "mode": "markers",
         "name": "reweighing outcome",
         "showlegend": false,
         "type": "scatter",
         "x": [
          0.12583032584191028
         ],
         "xaxis": "x17",
         "y": [
          0.759102052331216
         ],
         "yaxis": "y17"
        },
        {
         "line": {
          "color": "#2E91E5"
         },
         "mode": "lines+markers+text",
         "name": "fairea baseline",
         "showlegend": false,
         "text": [
          "F_0",
          "F_10",
          "F_20",
          "F_30",
          "F_40",
          "F_50",
          "F_60",
          "F_70",
          "F_80",
          "F_90",
          "F_100"
         ],
         "textposition": "bottom right",
         "type": "scatter",
         "x": [
          0.14654586414179724,
          0.132205405658669,
          0.11634117142021375,
          0.10202507436452991,
          0.087352494836588,
          0.0731057375606408,
          0.0585936106654375,
          0.04454815744386095,
          0.02953972123273534,
          0.014259858602921902,
          0
         ],
         "xaxis": "x17",
         "y": [
          0.7466579719595697,
          0.7469599132092022,
          0.7464472404653496,
          0.7459001078718288,
          0.7477394610714909,
          0.7470904862034918,
          0.7431988339095568,
          0.7492993059909403,
          0.7490645432455797,
          0.7448040802781661,
          0
         ],
         "yaxis": "y17"
        },
        {
         "error_x": {
          "array": [
           -0.048477818922541396
          ],
          "type": "data"
         },
         "error_y": {
          "array": [
           -0.01478638050614478
          ],
          "type": "data"
         },
         "marker": {
          "color": "#E15F99"
         },
         "mode": "markers",
         "name": "reweighing outcome",
         "showlegend": false,
         "type": "scatter",
         "x": [
          0.05865154575243114
         ],
         "xaxis": "x18",
         "y": [
          0.759102052331216
         ],
         "yaxis": "y18"
        },
        {
         "line": {
          "color": "#2E91E5"
         },
         "mode": "lines+markers+text",
         "name": "fairea baseline",
         "showlegend": false,
         "text": [
          "F_0",
          "F_10",
          "F_20",
          "F_30",
          "F_40",
          "F_50",
          "F_60",
          "F_70",
          "F_80",
          "F_90",
          "F_100"
         ],
         "textposition": "bottom right",
         "type": "scatter",
         "x": [
          0.11094685670233473,
          0.10032698520591321,
          0.08654486913923433,
          0.07583556864250657,
          0.06321312166819198,
          0.05415353494621203,
          0.044060364281984066,
          0.03624507043731449,
          0.023554998886799353,
          0.014925982941340711,
          0
         ],
         "xaxis": "x18",
         "y": [
          0.7466579719595697,
          0.7469599132092022,
          0.7464472404653496,
          0.7459001078718288,
          0.7477394610714909,
          0.7470904862034918,
          0.7431988339095568,
          0.7492993059909403,
          0.7490645432455797,
          0.7448040802781661,
          0
         ],
         "yaxis": "y18"
        },
        {
         "error_x": {
          "array": [
           -0.09597828498684816
          ],
          "type": "data"
         },
         "error_y": {
          "array": [
           -0.01478638050614478
          ],
          "type": "data"
         },
         "marker": {
          "color": "#E15F99"
         },
         "mode": "markers",
         "name": "reweighing outcome",
         "showlegend": false,
         "type": "scatter",
         "x": [
          0.08546507785707007
         ],
         "xaxis": "x19",
         "y": [
          0.759102052331216
         ],
         "yaxis": "y19"
        },
        {
         "line": {
          "color": "#2E91E5"
         },
         "mode": "lines+markers+text",
         "name": "fairea baseline",
         "showlegend": false,
         "text": [
          "F_0",
          "F_10",
          "F_20",
          "F_30",
          "F_40",
          "F_50",
          "F_60",
          "F_70",
          "F_80",
          "F_90",
          "F_100"
         ],
         "textposition": "bottom right",
         "type": "scatter",
         "x": [
          0.17788636046349293,
          0.1608097165991903,
          0.13847424263576713,
          0.12106868630462098,
          0.10022392852156918,
          0.08640067011028897,
          0.07013276560100518,
          0.05907510819489041,
          0.03801228535529806,
          0.025357112941504955,
          0
         ],
         "xaxis": "x19",
         "y": [
          0.7466579719595697,
          0.7469599132092022,
          0.7464472404653496,
          0.7459001078718288,
          0.7477394610714909,
          0.7470904862034918,
          0.7431988339095568,
          0.7492993059909403,
          0.7490645432455797,
          0.7448040802781661,
          0
         ],
         "yaxis": "y19"
        },
        {
         "error_x": {
          "array": [
           -0.017020825316428526
          ],
          "type": "data"
         },
         "error_y": {
          "array": [
           -0.01478638050614478
          ],
          "type": "data"
         },
         "marker": {
          "color": "#E15F99"
         },
         "mode": "markers",
         "name": "reweighing outcome",
         "showlegend": false,
         "type": "scatter",
         "x": [
          0.08862401761162954
         ],
         "xaxis": "x20",
         "y": [
          0.759102052331216
         ],
         "yaxis": "y20"
        },
        {
         "line": {
          "color": "#2E91E5"
         },
         "mode": "lines+markers+text",
         "name": "fairea baseline",
         "showlegend": false,
         "text": [
          "F_0",
          "F_10",
          "F_20",
          "F_30",
          "F_40",
          "F_50",
          "F_60",
          "F_70",
          "F_80",
          "F_90",
          "F_100"
         ],
         "textposition": "bottom right",
         "type": "scatter",
         "x": [
          0.08602877581231137,
          0.09496448484280559,
          0.10342111281501247,
          0.11254385956025835,
          0.12145485132792444,
          0.1299737125027384,
          0.13939142905262944,
          0.14743691013320404,
          0.1567287103436661,
          0.16568090050412124,
          0.17393512145889978
         ],
         "xaxis": "x20",
         "y": [
          0.7466579719595697,
          0.7469599132092022,
          0.7464472404653496,
          0.7459001078718288,
          0.7477394610714909,
          0.7470904862034918,
          0.7431988339095568,
          0.7492993059909403,
          0.7490645432455797,
          0.7448040802781661,
          0
         ],
         "yaxis": "y20"
        },
        {
         "error_x": {
          "array": [
           -0.016680904291617893
          ],
          "type": "data"
         },
         "error_y": {
          "array": [
           -0.006090634207650325
          ],
          "type": "data"
         },
         "marker": {
          "color": "#E15F99"
         },
         "mode": "markers",
         "name": "reweighing outcome",
         "showlegend": false,
         "type": "scatter",
         "x": [
          0.12583032584191028
         ],
         "xaxis": "x21",
         "y": [
          0.8774064453804672
         ],
         "yaxis": "y21"
        },
        {
         "line": {
          "color": "#2E91E5"
         },
         "mode": "lines+markers+text",
         "name": "fairea baseline",
         "showlegend": false,
         "text": [
          "F_0",
          "F_10",
          "F_20",
          "F_30",
          "F_40",
          "F_50",
          "F_60",
          "F_70",
          "F_80",
          "F_90",
          "F_100"
         ],
         "textposition": "bottom right",
         "type": "scatter",
         "x": [
          0.14654586414179724,
          0.132205405658669,
          0.11634117142021375,
          0.10202507436452991,
          0.087352494836588,
          0.0731057375606408,
          0.0585936106654375,
          0.04454815744386095,
          0.02953972123273534,
          0.014259858602921902,
          0
         ],
         "xaxis": "x21",
         "y": [
          0.8822461026184351,
          0.8680322221253917,
          0.8542659662020512,
          0.841178003015557,
          0.8289462691254053,
          0.816995040601536,
          0.8050417170180877,
          0.7944834436869541,
          0.7837351264177143,
          0.77359568415657,
          0.7637737239727288
         ],
         "yaxis": "y21"
        },
        {
         "error_x": {
          "array": [
           -0.048477818922541396
          ],
          "type": "data"
         },
         "error_y": {
          "array": [
           -0.006090634207650325
          ],
          "type": "data"
         },
         "marker": {
          "color": "#E15F99"
         },
         "mode": "markers",
         "name": "reweighing outcome",
         "showlegend": false,
         "type": "scatter",
         "x": [
          0.05865154575243114
         ],
         "xaxis": "x22",
         "y": [
          0.8774064453804672
         ],
         "yaxis": "y22"
        },
        {
         "line": {
          "color": "#2E91E5"
         },
         "mode": "lines+markers+text",
         "name": "fairea baseline",
         "showlegend": false,
         "text": [
          "F_0",
          "F_10",
          "F_20",
          "F_30",
          "F_40",
          "F_50",
          "F_60",
          "F_70",
          "F_80",
          "F_90",
          "F_100"
         ],
         "textposition": "bottom right",
         "type": "scatter",
         "x": [
          0.11094685670233473,
          0.10032698520591321,
          0.08654486913923433,
          0.07583556864250657,
          0.06321312166819198,
          0.05415353494621203,
          0.044060364281984066,
          0.03624507043731449,
          0.023554998886799353,
          0.014925982941340711,
          0
         ],
         "xaxis": "x22",
         "y": [
          0.8822461026184351,
          0.8680322221253917,
          0.8542659662020512,
          0.841178003015557,
          0.8289462691254053,
          0.816995040601536,
          0.8050417170180877,
          0.7944834436869541,
          0.7837351264177143,
          0.77359568415657,
          0.7637737239727288
         ],
         "yaxis": "y22"
        },
        {
         "error_x": {
          "array": [
           -0.09597828498684816
          ],
          "type": "data"
         },
         "error_y": {
          "array": [
           -0.006090634207650325
          ],
          "type": "data"
         },
         "marker": {
          "color": "#E15F99"
         },
         "mode": "markers",
         "name": "reweighing outcome",
         "showlegend": false,
         "type": "scatter",
         "x": [
          0.08546507785707007
         ],
         "xaxis": "x23",
         "y": [
          0.8774064453804672
         ],
         "yaxis": "y23"
        },
        {
         "line": {
          "color": "#2E91E5"
         },
         "mode": "lines+markers+text",
         "name": "fairea baseline",
         "showlegend": false,
         "text": [
          "F_0",
          "F_10",
          "F_20",
          "F_30",
          "F_40",
          "F_50",
          "F_60",
          "F_70",
          "F_80",
          "F_90",
          "F_100"
         ],
         "textposition": "bottom right",
         "type": "scatter",
         "x": [
          0.17788636046349293,
          0.1608097165991903,
          0.13847424263576713,
          0.12106868630462098,
          0.10022392852156918,
          0.08640067011028897,
          0.07013276560100518,
          0.05907510819489041,
          0.03801228535529806,
          0.025357112941504955,
          0
         ],
         "xaxis": "x23",
         "y": [
          0.8822461026184351,
          0.8680322221253917,
          0.8542659662020512,
          0.841178003015557,
          0.8289462691254053,
          0.816995040601536,
          0.8050417170180877,
          0.7944834436869541,
          0.7837351264177143,
          0.77359568415657,
          0.7637737239727288
         ],
         "yaxis": "y23"
        },
        {
         "error_x": {
          "array": [
           -0.017020825316428526
          ],
          "type": "data"
         },
         "error_y": {
          "array": [
           -0.006090634207650325
          ],
          "type": "data"
         },
         "marker": {
          "color": "#E15F99"
         },
         "mode": "markers",
         "name": "reweighing outcome",
         "showlegend": false,
         "type": "scatter",
         "x": [
          0.08862401761162954
         ],
         "xaxis": "x24",
         "y": [
          0.8774064453804672
         ],
         "yaxis": "y24"
        },
        {
         "line": {
          "color": "#2E91E5"
         },
         "mode": "lines+markers+text",
         "name": "fairea baseline",
         "showlegend": false,
         "text": [
          "F_0",
          "F_10",
          "F_20",
          "F_30",
          "F_40",
          "F_50",
          "F_60",
          "F_70",
          "F_80",
          "F_90",
          "F_100"
         ],
         "textposition": "bottom right",
         "type": "scatter",
         "x": [
          0.08602877581231137,
          0.09496448484280559,
          0.10342111281501247,
          0.11254385956025835,
          0.12145485132792444,
          0.1299737125027384,
          0.13939142905262944,
          0.14743691013320404,
          0.1567287103436661,
          0.16568090050412124,
          0.17393512145889978
         ],
         "xaxis": "x24",
         "y": [
          0.8822461026184351,
          0.8680322221253917,
          0.8542659662020512,
          0.841178003015557,
          0.8289462691254053,
          0.816995040601536,
          0.8050417170180877,
          0.7944834436869541,
          0.7837351264177143,
          0.77359568415657,
          0.7637737239727288
         ],
         "yaxis": "y24"
        },
        {
         "error_x": {
          "array": [
           -0.016680904291617893
          ],
          "type": "data"
         },
         "error_y": {
          "array": [
           -0.008165415553762267
          ],
          "type": "data"
         },
         "marker": {
          "color": "#E15F99"
         },
         "mode": "markers",
         "name": "reweighing outcome",
         "showlegend": false,
         "type": "scatter",
         "x": [
          0.12583032584191028
         ],
         "xaxis": "x25",
         "y": [
          0.8182542488558415
         ],
         "yaxis": "y25"
        },
        {
         "line": {
          "color": "#2E91E5"
         },
         "mode": "lines+markers+text",
         "name": "fairea baseline",
         "showlegend": false,
         "text": [
          "F_0",
          "F_10",
          "F_20",
          "F_30",
          "F_40",
          "F_50",
          "F_60",
          "F_70",
          "F_80",
          "F_90",
          "F_100"
         ],
         "textposition": "bottom right",
         "type": "scatter",
         "x": [
          0.14654586414179724,
          0.132205405658669,
          0.11634117142021375,
          0.10202507436452991,
          0.087352494836588,
          0.0731057375606408,
          0.0585936106654375,
          0.04454815744386095,
          0.02953972123273534,
          0.014259858602921902,
          0
         ],
         "xaxis": "x25",
         "y": [
          0.8144520372890023,
          0.807496067667297,
          0.8003566033337005,
          0.7935390554436929,
          0.788342865098448,
          0.7820427634025138,
          0.7741202754638224,
          0.7718913748389471,
          0.766399834831647,
          0.759199882217368,
          0.3818868619863644
         ],
         "yaxis": "y25"
        },
        {
         "error_x": {
          "array": [
           -0.048477818922541396
          ],
          "type": "data"
         },
         "error_y": {
          "array": [
           -0.008165415553762267
          ],
          "type": "data"
         },
         "marker": {
          "color": "#E15F99"
         },
         "mode": "markers",
         "name": "reweighing outcome",
         "showlegend": false,
         "type": "scatter",
         "x": [
          0.05865154575243114
         ],
         "xaxis": "x26",
         "y": [
          0.8182542488558415
         ],
         "yaxis": "y26"
        },
        {
         "line": {
          "color": "#2E91E5"
         },
         "mode": "lines+markers+text",
         "name": "fairea baseline",
         "showlegend": false,
         "text": [
          "F_0",
          "F_10",
          "F_20",
          "F_30",
          "F_40",
          "F_50",
          "F_60",
          "F_70",
          "F_80",
          "F_90",
          "F_100"
         ],
         "textposition": "bottom right",
         "type": "scatter",
         "x": [
          0.11094685670233473,
          0.10032698520591321,
          0.08654486913923433,
          0.07583556864250657,
          0.06321312166819198,
          0.05415353494621203,
          0.044060364281984066,
          0.03624507043731449,
          0.023554998886799353,
          0.014925982941340711,
          0
         ],
         "xaxis": "x26",
         "y": [
          0.8144520372890023,
          0.807496067667297,
          0.8003566033337005,
          0.7935390554436929,
          0.788342865098448,
          0.7820427634025138,
          0.7741202754638224,
          0.7718913748389471,
          0.766399834831647,
          0.759199882217368,
          0.3818868619863644
         ],
         "yaxis": "y26"
        },
        {
         "error_x": {
          "array": [
           -0.09597828498684816
          ],
          "type": "data"
         },
         "error_y": {
          "array": [
           -0.008165415553762267
          ],
          "type": "data"
         },
         "marker": {
          "color": "#E15F99"
         },
         "mode": "markers",
         "name": "reweighing outcome",
         "showlegend": false,
         "type": "scatter",
         "x": [
          0.08546507785707007
         ],
         "xaxis": "x27",
         "y": [
          0.8182542488558415
         ],
         "yaxis": "y27"
        },
        {
         "line": {
          "color": "#2E91E5"
         },
         "mode": "lines+markers+text",
         "name": "fairea baseline",
         "showlegend": false,
         "text": [
          "F_0",
          "F_10",
          "F_20",
          "F_30",
          "F_40",
          "F_50",
          "F_60",
          "F_70",
          "F_80",
          "F_90",
          "F_100"
         ],
         "textposition": "bottom right",
         "type": "scatter",
         "x": [
          0.17788636046349293,
          0.1608097165991903,
          0.13847424263576713,
          0.12106868630462098,
          0.10022392852156918,
          0.08640067011028897,
          0.07013276560100518,
          0.05907510819489041,
          0.03801228535529806,
          0.025357112941504955,
          0
         ],
         "xaxis": "x27",
         "y": [
          0.8144520372890023,
          0.807496067667297,
          0.8003566033337005,
          0.7935390554436929,
          0.788342865098448,
          0.7820427634025138,
          0.7741202754638224,
          0.7718913748389471,
          0.766399834831647,
          0.759199882217368,
          0.3818868619863644
         ],
         "yaxis": "y27"
        },
        {
         "error_x": {
          "array": [
           -0.017020825316428526
          ],
          "type": "data"
         },
         "error_y": {
          "array": [
           -0.008165415553762267
          ],
          "type": "data"
         },
         "marker": {
          "color": "#E15F99"
         },
         "mode": "markers",
         "name": "reweighing outcome",
         "showlegend": false,
         "type": "scatter",
         "x": [
          0.08862401761162954
         ],
         "xaxis": "x28",
         "y": [
          0.8182542488558415
         ],
         "yaxis": "y28"
        },
        {
         "line": {
          "color": "#2E91E5"
         },
         "mode": "lines+markers+text",
         "name": "fairea baseline",
         "showlegend": false,
         "text": [
          "F_0",
          "F_10",
          "F_20",
          "F_30",
          "F_40",
          "F_50",
          "F_60",
          "F_70",
          "F_80",
          "F_90",
          "F_100"
         ],
         "textposition": "bottom right",
         "type": "scatter",
         "x": [
          0.08602877581231137,
          0.09496448484280559,
          0.10342111281501247,
          0.11254385956025835,
          0.12145485132792444,
          0.1299737125027384,
          0.13939142905262944,
          0.14743691013320404,
          0.1567287103436661,
          0.16568090050412124,
          0.17393512145889978
         ],
         "xaxis": "x28",
         "y": [
          0.8144520372890023,
          0.807496067667297,
          0.8003566033337005,
          0.7935390554436929,
          0.788342865098448,
          0.7820427634025138,
          0.7741202754638224,
          0.7718913748389471,
          0.766399834831647,
          0.759199882217368,
          0.3818868619863644
         ],
         "yaxis": "y28"
        },
        {
         "error_x": {
          "array": [
           -0.016680904291617893
          ],
          "type": "data"
         },
         "error_y": {
          "array": [
           -0.012486431633494388
          ],
          "type": "data"
         },
         "marker": {
          "color": "#E15F99"
         },
         "mode": "markers",
         "name": "reweighing outcome",
         "showlegend": false,
         "type": "scatter",
         "x": [
          0.12583032584191028
         ],
         "xaxis": "x29",
         "y": [
          0.6529330165250634
         ],
         "yaxis": "y29"
        },
        {
         "line": {
          "color": "#2E91E5"
         },
         "mode": "lines+markers+text",
         "name": "fairea baseline",
         "showlegend": false,
         "text": [
          "F_0",
          "F_10",
          "F_20",
          "F_30",
          "F_40",
          "F_50",
          "F_60",
          "F_70",
          "F_80",
          "F_90",
          "F_100"
         ],
         "textposition": "bottom right",
         "type": "scatter",
         "x": [
          0.14654586414179724,
          0.132205405658669,
          0.11634117142021375,
          0.10202507436452991,
          0.087352494836588,
          0.0731057375606408,
          0.0585936106654375,
          0.04454815744386095,
          0.02953972123273534,
          0.014259858602921902,
          0
         ],
         "xaxis": "x29",
         "y": [
          0.6625198900622017,
          0.6241670551005644,
          0.581299989464668,
          0.5343529207639601,
          0.4839100144573731,
          0.42641787853473884,
          0.35915113661440623,
          0.28911856126180907,
          0.20504626541699567,
          0.11059116389278795,
          0
         ],
         "yaxis": "y29"
        },
        {
         "error_x": {
          "array": [
           -0.048477818922541396
          ],
          "type": "data"
         },
         "error_y": {
          "array": [
           -0.012486431633494388
          ],
          "type": "data"
         },
         "marker": {
          "color": "#E15F99"
         },
         "mode": "markers",
         "name": "reweighing outcome",
         "showlegend": false,
         "type": "scatter",
         "x": [
          0.05865154575243114
         ],
         "xaxis": "x30",
         "y": [
          0.6529330165250634
         ],
         "yaxis": "y30"
        },
        {
         "line": {
          "color": "#2E91E5"
         },
         "mode": "lines+markers+text",
         "name": "fairea baseline",
         "showlegend": false,
         "text": [
          "F_0",
          "F_10",
          "F_20",
          "F_30",
          "F_40",
          "F_50",
          "F_60",
          "F_70",
          "F_80",
          "F_90",
          "F_100"
         ],
         "textposition": "bottom right",
         "type": "scatter",
         "x": [
          0.11094685670233473,
          0.10032698520591321,
          0.08654486913923433,
          0.07583556864250657,
          0.06321312166819198,
          0.05415353494621203,
          0.044060364281984066,
          0.03624507043731449,
          0.023554998886799353,
          0.014925982941340711,
          0
         ],
         "xaxis": "x30",
         "y": [
          0.6625198900622017,
          0.6241670551005644,
          0.581299989464668,
          0.5343529207639601,
          0.4839100144573731,
          0.42641787853473884,
          0.35915113661440623,
          0.28911856126180907,
          0.20504626541699567,
          0.11059116389278795,
          0
         ],
         "yaxis": "y30"
        },
        {
         "error_x": {
          "array": [
           -0.09597828498684816
          ],
          "type": "data"
         },
         "error_y": {
          "array": [
           -0.012486431633494388
          ],
          "type": "data"
         },
         "marker": {
          "color": "#E15F99"
         },
         "mode": "markers",
         "name": "reweighing outcome",
         "showlegend": false,
         "type": "scatter",
         "x": [
          0.08546507785707007
         ],
         "xaxis": "x31",
         "y": [
          0.6529330165250634
         ],
         "yaxis": "y31"
        },
        {
         "line": {
          "color": "#2E91E5"
         },
         "mode": "lines+markers+text",
         "name": "fairea baseline",
         "showlegend": false,
         "text": [
          "F_0",
          "F_10",
          "F_20",
          "F_30",
          "F_40",
          "F_50",
          "F_60",
          "F_70",
          "F_80",
          "F_90",
          "F_100"
         ],
         "textposition": "bottom right",
         "type": "scatter",
         "x": [
          0.17788636046349293,
          0.1608097165991903,
          0.13847424263576713,
          0.12106868630462098,
          0.10022392852156918,
          0.08640067011028897,
          0.07013276560100518,
          0.05907510819489041,
          0.03801228535529806,
          0.025357112941504955,
          0
         ],
         "xaxis": "x31",
         "y": [
          0.6625198900622017,
          0.6241670551005644,
          0.581299989464668,
          0.5343529207639601,
          0.4839100144573731,
          0.42641787853473884,
          0.35915113661440623,
          0.28911856126180907,
          0.20504626541699567,
          0.11059116389278795,
          0
         ],
         "yaxis": "y31"
        },
        {
         "error_x": {
          "array": [
           -0.017020825316428526
          ],
          "type": "data"
         },
         "error_y": {
          "array": [
           -0.012486431633494388
          ],
          "type": "data"
         },
         "marker": {
          "color": "#E15F99"
         },
         "mode": "markers",
         "name": "reweighing outcome",
         "showlegend": false,
         "type": "scatter",
         "x": [
          0.08862401761162954
         ],
         "xaxis": "x32",
         "y": [
          0.6529330165250634
         ],
         "yaxis": "y32"
        },
        {
         "line": {
          "color": "#2E91E5"
         },
         "mode": "lines+markers+text",
         "name": "fairea baseline",
         "showlegend": false,
         "text": [
          "F_0",
          "F_10",
          "F_20",
          "F_30",
          "F_40",
          "F_50",
          "F_60",
          "F_70",
          "F_80",
          "F_90",
          "F_100"
         ],
         "textposition": "bottom right",
         "type": "scatter",
         "x": [
          0.08602877581231137,
          0.09496448484280559,
          0.10342111281501247,
          0.11254385956025835,
          0.12145485132792444,
          0.1299737125027384,
          0.13939142905262944,
          0.14743691013320404,
          0.1567287103436661,
          0.16568090050412124,
          0.17393512145889978
         ],
         "xaxis": "x32",
         "y": [
          0.6625198900622017,
          0.6241670551005644,
          0.581299989464668,
          0.5343529207639601,
          0.4839100144573731,
          0.42641787853473884,
          0.35915113661440623,
          0.28911856126180907,
          0.20504626541699567,
          0.11059116389278795,
          0
         ],
         "yaxis": "y32"
        },
        {
         "error_x": {
          "array": [
           -0.016680904291617893
          ],
          "type": "data"
         },
         "error_y": {
          "array": [
           -0.004031968964078536
          ],
          "type": "data"
         },
         "marker": {
          "color": "#E15F99"
         },
         "mode": "markers",
         "name": "reweighing outcome",
         "showlegend": false,
         "type": "scatter",
         "x": [
          0.12583032584191028
         ],
         "xaxis": "x33",
         "y": [
          0.9094214559259176
         ],
         "yaxis": "y33"
        },
        {
         "line": {
          "color": "#2E91E5"
         },
         "mode": "lines+markers+text",
         "name": "fairea baseline",
         "showlegend": false,
         "text": [
          "F_0",
          "F_10",
          "F_20",
          "F_30",
          "F_40",
          "F_50",
          "F_60",
          "F_70",
          "F_80",
          "F_90",
          "F_100"
         ],
         "textposition": "bottom right",
         "type": "scatter",
         "x": [
          0.14654586414179724,
          0.132205405658669,
          0.11634117142021375,
          0.10202507436452991,
          0.087352494836588,
          0.0731057375606408,
          0.0585936106654375,
          0.04454815744386095,
          0.02953972123273534,
          0.014259858602921902,
          0
         ],
         "xaxis": "x33",
         "y": [
          0.9090412881593823,
          0.9043480893056226,
          0.899590219509981,
          0.894979513057173,
          0.8908191546878867,
          0.886429574827523,
          0.8817806362691099,
          0.8781261016810764,
          0.8739701250966561,
          0.8699278907265462,
          0.8660676974508985
         ],
         "yaxis": "y33"
        },
        {
         "error_x": {
          "array": [
           -0.048477818922541396
          ],
          "type": "data"
         },
         "error_y": {
          "array": [
           -0.004031968964078536
          ],
          "type": "data"
         },
         "marker": {
          "color": "#E15F99"
         },
         "mode": "markers",
         "name": "reweighing outcome",
         "showlegend": false,
         "type": "scatter",
         "x": [
          0.05865154575243114
         ],
         "xaxis": "x34",
         "y": [
          0.9094214559259176
         ],
         "yaxis": "y34"
        },
        {
         "line": {
          "color": "#2E91E5"
         },
         "mode": "lines+markers+text",
         "name": "fairea baseline",
         "showlegend": false,
         "text": [
          "F_0",
          "F_10",
          "F_20",
          "F_30",
          "F_40",
          "F_50",
          "F_60",
          "F_70",
          "F_80",
          "F_90",
          "F_100"
         ],
         "textposition": "bottom right",
         "type": "scatter",
         "x": [
          0.11094685670233473,
          0.10032698520591321,
          0.08654486913923433,
          0.07583556864250657,
          0.06321312166819198,
          0.05415353494621203,
          0.044060364281984066,
          0.03624507043731449,
          0.023554998886799353,
          0.014925982941340711,
          0
         ],
         "xaxis": "x34",
         "y": [
          0.9090412881593823,
          0.9043480893056226,
          0.899590219509981,
          0.894979513057173,
          0.8908191546878867,
          0.886429574827523,
          0.8817806362691099,
          0.8781261016810764,
          0.8739701250966561,
          0.8699278907265462,
          0.8660676974508985
         ],
         "yaxis": "y34"
        },
        {
         "error_x": {
          "array": [
           -0.09597828498684816
          ],
          "type": "data"
         },
         "error_y": {
          "array": [
           -0.004031968964078536
          ],
          "type": "data"
         },
         "marker": {
          "color": "#E15F99"
         },
         "mode": "markers",
         "name": "reweighing outcome",
         "showlegend": false,
         "type": "scatter",
         "x": [
          0.08546507785707007
         ],
         "xaxis": "x35",
         "y": [
          0.9094214559259176
         ],
         "yaxis": "y35"
        },
        {
         "line": {
          "color": "#2E91E5"
         },
         "mode": "lines+markers+text",
         "name": "fairea baseline",
         "showlegend": false,
         "text": [
          "F_0",
          "F_10",
          "F_20",
          "F_30",
          "F_40",
          "F_50",
          "F_60",
          "F_70",
          "F_80",
          "F_90",
          "F_100"
         ],
         "textposition": "bottom right",
         "type": "scatter",
         "x": [
          0.17788636046349293,
          0.1608097165991903,
          0.13847424263576713,
          0.12106868630462098,
          0.10022392852156918,
          0.08640067011028897,
          0.07013276560100518,
          0.05907510819489041,
          0.03801228535529806,
          0.025357112941504955,
          0
         ],
         "xaxis": "x35",
         "y": [
          0.9090412881593823,
          0.9043480893056226,
          0.899590219509981,
          0.894979513057173,
          0.8908191546878867,
          0.886429574827523,
          0.8817806362691099,
          0.8781261016810764,
          0.8739701250966561,
          0.8699278907265462,
          0.8660676974508985
         ],
         "yaxis": "y35"
        },
        {
         "error_x": {
          "array": [
           -0.017020825316428526
          ],
          "type": "data"
         },
         "error_y": {
          "array": [
           -0.004031968964078536
          ],
          "type": "data"
         },
         "marker": {
          "color": "#E15F99"
         },
         "mode": "markers",
         "name": "reweighing outcome",
         "showlegend": false,
         "type": "scatter",
         "x": [
          0.08862401761162954
         ],
         "xaxis": "x36",
         "y": [
          0.9094214559259176
         ],
         "yaxis": "y36"
        },
        {
         "line": {
          "color": "#2E91E5"
         },
         "mode": "lines+markers+text",
         "name": "fairea baseline",
         "showlegend": false,
         "text": [
          "F_0",
          "F_10",
          "F_20",
          "F_30",
          "F_40",
          "F_50",
          "F_60",
          "F_70",
          "F_80",
          "F_90",
          "F_100"
         ],
         "textposition": "bottom right",
         "type": "scatter",
         "x": [
          0.08602877581231137,
          0.09496448484280559,
          0.10342111281501247,
          0.11254385956025835,
          0.12145485132792444,
          0.1299737125027384,
          0.13939142905262944,
          0.14743691013320404,
          0.1567287103436661,
          0.16568090050412124,
          0.17393512145889978
         ],
         "xaxis": "x36",
         "y": [
          0.9090412881593823,
          0.9043480893056226,
          0.899590219509981,
          0.894979513057173,
          0.8908191546878867,
          0.886429574827523,
          0.8817806362691099,
          0.8781261016810764,
          0.8739701250966561,
          0.8699278907265462,
          0.8660676974508985
         ],
         "yaxis": "y36"
        },
        {
         "error_x": {
          "array": [
           -0.016680904291617893
          ],
          "type": "data"
         },
         "error_y": {
          "array": [
           -0.007837009103926262
          ],
          "type": "data"
         },
         "marker": {
          "color": "#E15F99"
         },
         "mode": "markers",
         "name": "reweighing outcome",
         "showlegend": false,
         "type": "scatter",
         "x": [
          0.12583032584191028
         ],
         "xaxis": "x37",
         "y": [
          0.7811772362254904
         ],
         "yaxis": "y37"
        },
        {
         "line": {
          "color": "#2E91E5"
         },
         "mode": "lines+markers+text",
         "name": "fairea baseline",
         "showlegend": false,
         "text": [
          "F_0",
          "F_10",
          "F_20",
          "F_30",
          "F_40",
          "F_50",
          "F_60",
          "F_70",
          "F_80",
          "F_90",
          "F_100"
         ],
         "textposition": "bottom right",
         "type": "scatter",
         "x": [
          0.14654586414179724,
          0.132205405658669,
          0.11634117142021375,
          0.10202507436452991,
          0.087352494836588,
          0.0731057375606408,
          0.0585936106654375,
          0.04454815744386095,
          0.02953972123273534,
          0.014259858602921902,
          0
         ],
         "xaxis": "x37",
         "y": [
          0.7857805891107921,
          0.7642575722030935,
          0.7404451044873244,
          0.7146662169105666,
          0.6873645845726299,
          0.6564237266811308,
          0.620465886441758,
          0.5836223314714428,
          0.5395081952568259,
          0.49025952730966715,
          0.43303384872544926
         ],
         "yaxis": "y37"
        },
        {
         "error_x": {
          "array": [
           -0.048477818922541396
          ],
          "type": "data"
         },
         "error_y": {
          "array": [
           -0.007837009103926262
          ],
          "type": "data"
         },
         "marker": {
          "color": "#E15F99"
         },
         "mode": "markers",
         "name": "reweighing outcome",
         "showlegend": false,
         "type": "scatter",
         "x": [
          0.05865154575243114
         ],
         "xaxis": "x38",
         "y": [
          0.7811772362254904
         ],
         "yaxis": "y38"
        },
        {
         "line": {
          "color": "#2E91E5"
         },
         "mode": "lines+markers+text",
         "name": "fairea baseline",
         "showlegend": false,
         "text": [
          "F_0",
          "F_10",
          "F_20",
          "F_30",
          "F_40",
          "F_50",
          "F_60",
          "F_70",
          "F_80",
          "F_90",
          "F_100"
         ],
         "textposition": "bottom right",
         "type": "scatter",
         "x": [
          0.11094685670233473,
          0.10032698520591321,
          0.08654486913923433,
          0.07583556864250657,
          0.06321312166819198,
          0.05415353494621203,
          0.044060364281984066,
          0.03624507043731449,
          0.023554998886799353,
          0.014925982941340711,
          0
         ],
         "xaxis": "x38",
         "y": [
          0.7857805891107921,
          0.7642575722030935,
          0.7404451044873244,
          0.7146662169105666,
          0.6873645845726299,
          0.6564237266811308,
          0.620465886441758,
          0.5836223314714428,
          0.5395081952568259,
          0.49025952730966715,
          0.43303384872544926
         ],
         "yaxis": "y38"
        },
        {
         "error_x": {
          "array": [
           -0.09597828498684816
          ],
          "type": "data"
         },
         "error_y": {
          "array": [
           -0.007837009103926262
          ],
          "type": "data"
         },
         "marker": {
          "color": "#E15F99"
         },
         "mode": "markers",
         "name": "reweighing outcome",
         "showlegend": false,
         "type": "scatter",
         "x": [
          0.08546507785707007
         ],
         "xaxis": "x39",
         "y": [
          0.7811772362254904
         ],
         "yaxis": "y39"
        },
        {
         "line": {
          "color": "#2E91E5"
         },
         "mode": "lines+markers+text",
         "name": "fairea baseline",
         "showlegend": false,
         "text": [
          "F_0",
          "F_10",
          "F_20",
          "F_30",
          "F_40",
          "F_50",
          "F_60",
          "F_70",
          "F_80",
          "F_90",
          "F_100"
         ],
         "textposition": "bottom right",
         "type": "scatter",
         "x": [
          0.17788636046349293,
          0.1608097165991903,
          0.13847424263576713,
          0.12106868630462098,
          0.10022392852156918,
          0.08640067011028897,
          0.07013276560100518,
          0.05907510819489041,
          0.03801228535529806,
          0.025357112941504955,
          0
         ],
         "xaxis": "x39",
         "y": [
          0.7857805891107921,
          0.7642575722030935,
          0.7404451044873244,
          0.7146662169105666,
          0.6873645845726299,
          0.6564237266811308,
          0.620465886441758,
          0.5836223314714428,
          0.5395081952568259,
          0.49025952730966715,
          0.43303384872544926
         ],
         "yaxis": "y39"
        },
        {
         "error_x": {
          "array": [
           -0.017020825316428526
          ],
          "type": "data"
         },
         "error_y": {
          "array": [
           -0.007837009103926262
          ],
          "type": "data"
         },
         "marker": {
          "color": "#E15F99"
         },
         "mode": "markers",
         "name": "reweighing outcome",
         "showlegend": false,
         "type": "scatter",
         "x": [
          0.08862401761162954
         ],
         "xaxis": "x40",
         "y": [
          0.7811772362254904
         ],
         "yaxis": "y40"
        },
        {
         "line": {
          "color": "#2E91E5"
         },
         "mode": "lines+markers+text",
         "name": "fairea baseline",
         "showlegend": false,
         "text": [
          "F_0",
          "F_10",
          "F_20",
          "F_30",
          "F_40",
          "F_50",
          "F_60",
          "F_70",
          "F_80",
          "F_90",
          "F_100"
         ],
         "textposition": "bottom right",
         "type": "scatter",
         "x": [
          0.08602877581231137,
          0.09496448484280559,
          0.10342111281501247,
          0.11254385956025835,
          0.12145485132792444,
          0.1299737125027384,
          0.13939142905262944,
          0.14743691013320404,
          0.1567287103436661,
          0.16568090050412124,
          0.17393512145889978
         ],
         "xaxis": "x40",
         "y": [
          0.7857805891107921,
          0.7642575722030935,
          0.7404451044873244,
          0.7146662169105666,
          0.6873645845726299,
          0.6564237266811308,
          0.620465886441758,
          0.5836223314714428,
          0.5395081952568259,
          0.49025952730966715,
          0.43303384872544926
         ],
         "yaxis": "y40"
        },
        {
         "error_x": {
          "array": [
           -0.016680904291617893
          ],
          "type": "data"
         },
         "error_y": {
          "array": [
           -0.015083458196988309
          ],
          "type": "data"
         },
         "marker": {
          "color": "#E15F99"
         },
         "mode": "markers",
         "name": "reweighing outcome",
         "showlegend": false,
         "type": "scatter",
         "x": [
          0.12583032584191028
         ],
         "xaxis": "x41",
         "y": [
          0.5734967053522869
         ],
         "yaxis": "y41"
        },
        {
         "line": {
          "color": "#2E91E5"
         },
         "mode": "lines+markers+text",
         "name": "fairea baseline",
         "showlegend": false,
         "text": [
          "F_0",
          "F_10",
          "F_20",
          "F_30",
          "F_40",
          "F_50",
          "F_60",
          "F_70",
          "F_80",
          "F_90",
          "F_100"
         ],
         "textposition": "bottom right",
         "type": "scatter",
         "x": [
          0.14654586414179724,
          0.132205405658669,
          0.11634117142021375,
          0.10202507436452991,
          0.087352494836588,
          0.0731057375606408,
          0.0585936106654375,
          0.04454815744386095,
          0.02953972123273534,
          0.014259858602921902,
          0
         ],
         "xaxis": "x41",
         "y": [
          0.5789364756113189,
          0.5432555116710023,
          0.5058640810617314,
          0.4675980042344382,
          0.4298375516832635,
          0.3881787862228982,
          0.340508339488559,
          0.2954901608320039,
          0.2381623477093814,
          0.16634377883827786,
          0
         ],
         "yaxis": "y41"
        },
        {
         "error_x": {
          "array": [
           -0.048477818922541396
          ],
          "type": "data"
         },
         "error_y": {
          "array": [
           -0.015083458196988309
          ],
          "type": "data"
         },
         "marker": {
          "color": "#E15F99"
         },
         "mode": "markers",
         "name": "reweighing outcome",
         "showlegend": false,
         "type": "scatter",
         "x": [
          0.05865154575243114
         ],
         "xaxis": "x42",
         "y": [
          0.5734967053522869
         ],
         "yaxis": "y42"
        },
        {
         "line": {
          "color": "#2E91E5"
         },
         "mode": "lines+markers+text",
         "name": "fairea baseline",
         "showlegend": false,
         "text": [
          "F_0",
          "F_10",
          "F_20",
          "F_30",
          "F_40",
          "F_50",
          "F_60",
          "F_70",
          "F_80",
          "F_90",
          "F_100"
         ],
         "textposition": "bottom right",
         "type": "scatter",
         "x": [
          0.11094685670233473,
          0.10032698520591321,
          0.08654486913923433,
          0.07583556864250657,
          0.06321312166819198,
          0.05415353494621203,
          0.044060364281984066,
          0.03624507043731449,
          0.023554998886799353,
          0.014925982941340711,
          0
         ],
         "xaxis": "x42",
         "y": [
          0.5789364756113189,
          0.5432555116710023,
          0.5058640810617314,
          0.4675980042344382,
          0.4298375516832635,
          0.3881787862228982,
          0.340508339488559,
          0.2954901608320039,
          0.2381623477093814,
          0.16634377883827786,
          0
         ],
         "yaxis": "y42"
        },
        {
         "error_x": {
          "array": [
           -0.09597828498684816
          ],
          "type": "data"
         },
         "error_y": {
          "array": [
           -0.015083458196988309
          ],
          "type": "data"
         },
         "marker": {
          "color": "#E15F99"
         },
         "mode": "markers",
         "name": "reweighing outcome",
         "showlegend": false,
         "type": "scatter",
         "x": [
          0.08546507785707007
         ],
         "xaxis": "x43",
         "y": [
          0.5734967053522869
         ],
         "yaxis": "y43"
        },
        {
         "line": {
          "color": "#2E91E5"
         },
         "mode": "lines+markers+text",
         "name": "fairea baseline",
         "showlegend": false,
         "text": [
          "F_0",
          "F_10",
          "F_20",
          "F_30",
          "F_40",
          "F_50",
          "F_60",
          "F_70",
          "F_80",
          "F_90",
          "F_100"
         ],
         "textposition": "bottom right",
         "type": "scatter",
         "x": [
          0.17788636046349293,
          0.1608097165991903,
          0.13847424263576713,
          0.12106868630462098,
          0.10022392852156918,
          0.08640067011028897,
          0.07013276560100518,
          0.05907510819489041,
          0.03801228535529806,
          0.025357112941504955,
          0
         ],
         "xaxis": "x43",
         "y": [
          0.5789364756113189,
          0.5432555116710023,
          0.5058640810617314,
          0.4675980042344382,
          0.4298375516832635,
          0.3881787862228982,
          0.340508339488559,
          0.2954901608320039,
          0.2381623477093814,
          0.16634377883827786,
          0
         ],
         "yaxis": "y43"
        },
        {
         "error_x": {
          "array": [
           -0.017020825316428526
          ],
          "type": "data"
         },
         "error_y": {
          "array": [
           -0.015083458196988309
          ],
          "type": "data"
         },
         "marker": {
          "color": "#E15F99"
         },
         "mode": "markers",
         "name": "reweighing outcome",
         "showlegend": false,
         "type": "scatter",
         "x": [
          0.08862401761162954
         ],
         "xaxis": "x44",
         "y": [
          0.5734967053522869
         ],
         "yaxis": "y44"
        },
        {
         "line": {
          "color": "#2E91E5"
         },
         "mode": "lines+markers+text",
         "name": "fairea baseline",
         "showlegend": false,
         "text": [
          "F_0",
          "F_10",
          "F_20",
          "F_30",
          "F_40",
          "F_50",
          "F_60",
          "F_70",
          "F_80",
          "F_90",
          "F_100"
         ],
         "textposition": "bottom right",
         "type": "scatter",
         "x": [
          0.08602877581231137,
          0.09496448484280559,
          0.10342111281501247,
          0.11254385956025835,
          0.12145485132792444,
          0.1299737125027384,
          0.13939142905262944,
          0.14743691013320404,
          0.1567287103436661,
          0.16568090050412124,
          0.17393512145889978
         ],
         "xaxis": "x44",
         "y": [
          0.5789364756113189,
          0.5432555116710023,
          0.5058640810617314,
          0.4675980042344382,
          0.4298375516832635,
          0.3881787862228982,
          0.340508339488559,
          0.2954901608320039,
          0.2381623477093814,
          0.16634377883827786,
          0
         ],
         "yaxis": "y44"
        }
       ],
       "layout": {
        "height": 3200,
        "template": {
         "data": {
          "bar": [
           {
            "error_x": {
             "color": "#2a3f5f"
            },
            "error_y": {
             "color": "#2a3f5f"
            },
            "marker": {
             "line": {
              "color": "#E5ECF6",
              "width": 0.5
             },
             "pattern": {
              "fillmode": "overlay",
              "size": 10,
              "solidity": 0.2
             }
            },
            "type": "bar"
           }
          ],
          "barpolar": [
           {
            "marker": {
             "line": {
              "color": "#E5ECF6",
              "width": 0.5
             },
             "pattern": {
              "fillmode": "overlay",
              "size": 10,
              "solidity": 0.2
             }
            },
            "type": "barpolar"
           }
          ],
          "carpet": [
           {
            "aaxis": {
             "endlinecolor": "#2a3f5f",
             "gridcolor": "white",
             "linecolor": "white",
             "minorgridcolor": "white",
             "startlinecolor": "#2a3f5f"
            },
            "baxis": {
             "endlinecolor": "#2a3f5f",
             "gridcolor": "white",
             "linecolor": "white",
             "minorgridcolor": "white",
             "startlinecolor": "#2a3f5f"
            },
            "type": "carpet"
           }
          ],
          "choropleth": [
           {
            "colorbar": {
             "outlinewidth": 0,
             "ticks": ""
            },
            "type": "choropleth"
           }
          ],
          "contour": [
           {
            "colorbar": {
             "outlinewidth": 0,
             "ticks": ""
            },
            "colorscale": [
             [
              0,
              "#0d0887"
             ],
             [
              0.1111111111111111,
              "#46039f"
             ],
             [
              0.2222222222222222,
              "#7201a8"
             ],
             [
              0.3333333333333333,
              "#9c179e"
             ],
             [
              0.4444444444444444,
              "#bd3786"
             ],
             [
              0.5555555555555556,
              "#d8576b"
             ],
             [
              0.6666666666666666,
              "#ed7953"
             ],
             [
              0.7777777777777778,
              "#fb9f3a"
             ],
             [
              0.8888888888888888,
              "#fdca26"
             ],
             [
              1,
              "#f0f921"
             ]
            ],
            "type": "contour"
           }
          ],
          "contourcarpet": [
           {
            "colorbar": {
             "outlinewidth": 0,
             "ticks": ""
            },
            "type": "contourcarpet"
           }
          ],
          "heatmap": [
           {
            "colorbar": {
             "outlinewidth": 0,
             "ticks": ""
            },
            "colorscale": [
             [
              0,
              "#0d0887"
             ],
             [
              0.1111111111111111,
              "#46039f"
             ],
             [
              0.2222222222222222,
              "#7201a8"
             ],
             [
              0.3333333333333333,
              "#9c179e"
             ],
             [
              0.4444444444444444,
              "#bd3786"
             ],
             [
              0.5555555555555556,
              "#d8576b"
             ],
             [
              0.6666666666666666,
              "#ed7953"
             ],
             [
              0.7777777777777778,
              "#fb9f3a"
             ],
             [
              0.8888888888888888,
              "#fdca26"
             ],
             [
              1,
              "#f0f921"
             ]
            ],
            "type": "heatmap"
           }
          ],
          "heatmapgl": [
           {
            "colorbar": {
             "outlinewidth": 0,
             "ticks": ""
            },
            "colorscale": [
             [
              0,
              "#0d0887"
             ],
             [
              0.1111111111111111,
              "#46039f"
             ],
             [
              0.2222222222222222,
              "#7201a8"
             ],
             [
              0.3333333333333333,
              "#9c179e"
             ],
             [
              0.4444444444444444,
              "#bd3786"
             ],
             [
              0.5555555555555556,
              "#d8576b"
             ],
             [
              0.6666666666666666,
              "#ed7953"
             ],
             [
              0.7777777777777778,
              "#fb9f3a"
             ],
             [
              0.8888888888888888,
              "#fdca26"
             ],
             [
              1,
              "#f0f921"
             ]
            ],
            "type": "heatmapgl"
           }
          ],
          "histogram": [
           {
            "marker": {
             "pattern": {
              "fillmode": "overlay",
              "size": 10,
              "solidity": 0.2
             }
            },
            "type": "histogram"
           }
          ],
          "histogram2d": [
           {
            "colorbar": {
             "outlinewidth": 0,
             "ticks": ""
            },
            "colorscale": [
             [
              0,
              "#0d0887"
             ],
             [
              0.1111111111111111,
              "#46039f"
             ],
             [
              0.2222222222222222,
              "#7201a8"
             ],
             [
              0.3333333333333333,
              "#9c179e"
             ],
             [
              0.4444444444444444,
              "#bd3786"
             ],
             [
              0.5555555555555556,
              "#d8576b"
             ],
             [
              0.6666666666666666,
              "#ed7953"
             ],
             [
              0.7777777777777778,
              "#fb9f3a"
             ],
             [
              0.8888888888888888,
              "#fdca26"
             ],
             [
              1,
              "#f0f921"
             ]
            ],
            "type": "histogram2d"
           }
          ],
          "histogram2dcontour": [
           {
            "colorbar": {
             "outlinewidth": 0,
             "ticks": ""
            },
            "colorscale": [
             [
              0,
              "#0d0887"
             ],
             [
              0.1111111111111111,
              "#46039f"
             ],
             [
              0.2222222222222222,
              "#7201a8"
             ],
             [
              0.3333333333333333,
              "#9c179e"
             ],
             [
              0.4444444444444444,
              "#bd3786"
             ],
             [
              0.5555555555555556,
              "#d8576b"
             ],
             [
              0.6666666666666666,
              "#ed7953"
             ],
             [
              0.7777777777777778,
              "#fb9f3a"
             ],
             [
              0.8888888888888888,
              "#fdca26"
             ],
             [
              1,
              "#f0f921"
             ]
            ],
            "type": "histogram2dcontour"
           }
          ],
          "mesh3d": [
           {
            "colorbar": {
             "outlinewidth": 0,
             "ticks": ""
            },
            "type": "mesh3d"
           }
          ],
          "parcoords": [
           {
            "line": {
             "colorbar": {
              "outlinewidth": 0,
              "ticks": ""
             }
            },
            "type": "parcoords"
           }
          ],
          "pie": [
           {
            "automargin": true,
            "type": "pie"
           }
          ],
          "scatter": [
           {
            "fillpattern": {
             "fillmode": "overlay",
             "size": 10,
             "solidity": 0.2
            },
            "type": "scatter"
           }
          ],
          "scatter3d": [
           {
            "line": {
             "colorbar": {
              "outlinewidth": 0,
              "ticks": ""
             }
            },
            "marker": {
             "colorbar": {
              "outlinewidth": 0,
              "ticks": ""
             }
            },
            "type": "scatter3d"
           }
          ],
          "scattercarpet": [
           {
            "marker": {
             "colorbar": {
              "outlinewidth": 0,
              "ticks": ""
             }
            },
            "type": "scattercarpet"
           }
          ],
          "scattergeo": [
           {
            "marker": {
             "colorbar": {
              "outlinewidth": 0,
              "ticks": ""
             }
            },
            "type": "scattergeo"
           }
          ],
          "scattergl": [
           {
            "marker": {
             "colorbar": {
              "outlinewidth": 0,
              "ticks": ""
             }
            },
            "type": "scattergl"
           }
          ],
          "scattermapbox": [
           {
            "marker": {
             "colorbar": {
              "outlinewidth": 0,
              "ticks": ""
             }
            },
            "type": "scattermapbox"
           }
          ],
          "scatterpolar": [
           {
            "marker": {
             "colorbar": {
              "outlinewidth": 0,
              "ticks": ""
             }
            },
            "type": "scatterpolar"
           }
          ],
          "scatterpolargl": [
           {
            "marker": {
             "colorbar": {
              "outlinewidth": 0,
              "ticks": ""
             }
            },
            "type": "scatterpolargl"
           }
          ],
          "scatterternary": [
           {
            "marker": {
             "colorbar": {
              "outlinewidth": 0,
              "ticks": ""
             }
            },
            "type": "scatterternary"
           }
          ],
          "surface": [
           {
            "colorbar": {
             "outlinewidth": 0,
             "ticks": ""
            },
            "colorscale": [
             [
              0,
              "#0d0887"
             ],
             [
              0.1111111111111111,
              "#46039f"
             ],
             [
              0.2222222222222222,
              "#7201a8"
             ],
             [
              0.3333333333333333,
              "#9c179e"
             ],
             [
              0.4444444444444444,
              "#bd3786"
             ],
             [
              0.5555555555555556,
              "#d8576b"
             ],
             [
              0.6666666666666666,
              "#ed7953"
             ],
             [
              0.7777777777777778,
              "#fb9f3a"
             ],
             [
              0.8888888888888888,
              "#fdca26"
             ],
             [
              1,
              "#f0f921"
             ]
            ],
            "type": "surface"
           }
          ],
          "table": [
           {
            "cells": {
             "fill": {
              "color": "#EBF0F8"
             },
             "line": {
              "color": "white"
             }
            },
            "header": {
             "fill": {
              "color": "#C8D4E3"
             },
             "line": {
              "color": "white"
             }
            },
            "type": "table"
           }
          ]
         },
         "layout": {
          "annotationdefaults": {
           "arrowcolor": "#2a3f5f",
           "arrowhead": 0,
           "arrowwidth": 1
          },
          "autotypenumbers": "strict",
          "coloraxis": {
           "colorbar": {
            "outlinewidth": 0,
            "ticks": ""
           }
          },
          "colorscale": {
           "diverging": [
            [
             0,
             "#8e0152"
            ],
            [
             0.1,
             "#c51b7d"
            ],
            [
             0.2,
             "#de77ae"
            ],
            [
             0.3,
             "#f1b6da"
            ],
            [
             0.4,
             "#fde0ef"
            ],
            [
             0.5,
             "#f7f7f7"
            ],
            [
             0.6,
             "#e6f5d0"
            ],
            [
             0.7,
             "#b8e186"
            ],
            [
             0.8,
             "#7fbc41"
            ],
            [
             0.9,
             "#4d9221"
            ],
            [
             1,
             "#276419"
            ]
           ],
           "sequential": [
            [
             0,
             "#0d0887"
            ],
            [
             0.1111111111111111,
             "#46039f"
            ],
            [
             0.2222222222222222,
             "#7201a8"
            ],
            [
             0.3333333333333333,
             "#9c179e"
            ],
            [
             0.4444444444444444,
             "#bd3786"
            ],
            [
             0.5555555555555556,
             "#d8576b"
            ],
            [
             0.6666666666666666,
             "#ed7953"
            ],
            [
             0.7777777777777778,
             "#fb9f3a"
            ],
            [
             0.8888888888888888,
             "#fdca26"
            ],
            [
             1,
             "#f0f921"
            ]
           ],
           "sequentialminus": [
            [
             0,
             "#0d0887"
            ],
            [
             0.1111111111111111,
             "#46039f"
            ],
            [
             0.2222222222222222,
             "#7201a8"
            ],
            [
             0.3333333333333333,
             "#9c179e"
            ],
            [
             0.4444444444444444,
             "#bd3786"
            ],
            [
             0.5555555555555556,
             "#d8576b"
            ],
            [
             0.6666666666666666,
             "#ed7953"
            ],
            [
             0.7777777777777778,
             "#fb9f3a"
            ],
            [
             0.8888888888888888,
             "#fdca26"
            ],
            [
             1,
             "#f0f921"
            ]
           ]
          },
          "colorway": [
           "#636efa",
           "#EF553B",
           "#00cc96",
           "#ab63fa",
           "#FFA15A",
           "#19d3f3",
           "#FF6692",
           "#B6E880",
           "#FF97FF",
           "#FECB52"
          ],
          "font": {
           "color": "#2a3f5f"
          },
          "geo": {
           "bgcolor": "white",
           "lakecolor": "white",
           "landcolor": "#E5ECF6",
           "showlakes": true,
           "showland": true,
           "subunitcolor": "white"
          },
          "hoverlabel": {
           "align": "left"
          },
          "hovermode": "closest",
          "mapbox": {
           "style": "light"
          },
          "paper_bgcolor": "white",
          "plot_bgcolor": "#E5ECF6",
          "polar": {
           "angularaxis": {
            "gridcolor": "white",
            "linecolor": "white",
            "ticks": ""
           },
           "bgcolor": "#E5ECF6",
           "radialaxis": {
            "gridcolor": "white",
            "linecolor": "white",
            "ticks": ""
           }
          },
          "scene": {
           "xaxis": {
            "backgroundcolor": "#E5ECF6",
            "gridcolor": "white",
            "gridwidth": 2,
            "linecolor": "white",
            "showbackground": true,
            "ticks": "",
            "zerolinecolor": "white"
           },
           "yaxis": {
            "backgroundcolor": "#E5ECF6",
            "gridcolor": "white",
            "gridwidth": 2,
            "linecolor": "white",
            "showbackground": true,
            "ticks": "",
            "zerolinecolor": "white"
           },
           "zaxis": {
            "backgroundcolor": "#E5ECF6",
            "gridcolor": "white",
            "gridwidth": 2,
            "linecolor": "white",
            "showbackground": true,
            "ticks": "",
            "zerolinecolor": "white"
           }
          },
          "shapedefaults": {
           "line": {
            "color": "#2a3f5f"
           }
          },
          "ternary": {
           "aaxis": {
            "gridcolor": "white",
            "linecolor": "white",
            "ticks": ""
           },
           "baxis": {
            "gridcolor": "white",
            "linecolor": "white",
            "ticks": ""
           },
           "bgcolor": "#E5ECF6",
           "caxis": {
            "gridcolor": "white",
            "linecolor": "white",
            "ticks": ""
           }
          },
          "title": {
           "x": 0.05
          },
          "xaxis": {
           "automargin": true,
           "gridcolor": "white",
           "linecolor": "white",
           "ticks": "",
           "title": {
            "standoff": 15
           },
           "zerolinecolor": "white",
           "zerolinewidth": 2
          },
          "yaxis": {
           "automargin": true,
           "gridcolor": "white",
           "linecolor": "white",
           "ticks": "",
           "title": {
            "standoff": 15
           },
           "zerolinecolor": "white",
           "zerolinewidth": 2
          }
         }
        },
        "width": 2200,
        "xaxis": {
         "anchor": "y",
         "domain": [
          0,
          0.2125
         ],
         "dtick": 0.1,
         "tick0": 0
        },
        "xaxis10": {
         "anchor": "y10",
         "domain": [
          0.2625,
          0.475
         ],
         "dtick": 0.1,
         "tick0": 0
        },
        "xaxis11": {
         "anchor": "y11",
         "domain": [
          0.525,
          0.7375
         ],
         "dtick": 0.1,
         "tick0": 0
        },
        "xaxis12": {
         "anchor": "y12",
         "domain": [
          0.7875,
          1
         ],
         "dtick": 0.1,
         "tick0": 0
        },
        "xaxis13": {
         "anchor": "y13",
         "domain": [
          0,
          0.2125
         ],
         "dtick": 0.1,
         "tick0": 0
        },
        "xaxis14": {
         "anchor": "y14",
         "domain": [
          0.2625,
          0.475
         ],
         "dtick": 0.1,
         "tick0": 0
        },
        "xaxis15": {
         "anchor": "y15",
         "domain": [
          0.525,
          0.7375
         ],
         "dtick": 0.1,
         "tick0": 0
        },
        "xaxis16": {
         "anchor": "y16",
         "domain": [
          0.7875,
          1
         ],
         "dtick": 0.1,
         "tick0": 0
        },
        "xaxis17": {
         "anchor": "y17",
         "domain": [
          0,
          0.2125
         ],
         "dtick": 0.1,
         "tick0": 0
        },
        "xaxis18": {
         "anchor": "y18",
         "domain": [
          0.2625,
          0.475
         ],
         "dtick": 0.1,
         "tick0": 0
        },
        "xaxis19": {
         "anchor": "y19",
         "domain": [
          0.525,
          0.7375
         ],
         "dtick": 0.1,
         "tick0": 0
        },
        "xaxis2": {
         "anchor": "y2",
         "domain": [
          0.2625,
          0.475
         ],
         "dtick": 0.1,
         "tick0": 0
        },
        "xaxis20": {
         "anchor": "y20",
         "domain": [
          0.7875,
          1
         ],
         "dtick": 0.1,
         "tick0": 0
        },
        "xaxis21": {
         "anchor": "y21",
         "domain": [
          0,
          0.2125
         ],
         "dtick": 0.1,
         "tick0": 0
        },
        "xaxis22": {
         "anchor": "y22",
         "domain": [
          0.2625,
          0.475
         ],
         "dtick": 0.1,
         "tick0": 0
        },
        "xaxis23": {
         "anchor": "y23",
         "domain": [
          0.525,
          0.7375
         ],
         "dtick": 0.1,
         "tick0": 0
        },
        "xaxis24": {
         "anchor": "y24",
         "domain": [
          0.7875,
          1
         ],
         "dtick": 0.1,
         "tick0": 0
        },
        "xaxis25": {
         "anchor": "y25",
         "domain": [
          0,
          0.2125
         ],
         "dtick": 0.1,
         "tick0": 0
        },
        "xaxis26": {
         "anchor": "y26",
         "domain": [
          0.2625,
          0.475
         ],
         "dtick": 0.1,
         "tick0": 0
        },
        "xaxis27": {
         "anchor": "y27",
         "domain": [
          0.525,
          0.7375
         ],
         "dtick": 0.1,
         "tick0": 0
        },
        "xaxis28": {
         "anchor": "y28",
         "domain": [
          0.7875,
          1
         ],
         "dtick": 0.1,
         "tick0": 0
        },
        "xaxis29": {
         "anchor": "y29",
         "domain": [
          0,
          0.2125
         ],
         "dtick": 0.1,
         "tick0": 0
        },
        "xaxis3": {
         "anchor": "y3",
         "domain": [
          0.525,
          0.7375
         ],
         "dtick": 0.1,
         "tick0": 0
        },
        "xaxis30": {
         "anchor": "y30",
         "domain": [
          0.2625,
          0.475
         ],
         "dtick": 0.1,
         "tick0": 0
        },
        "xaxis31": {
         "anchor": "y31",
         "domain": [
          0.525,
          0.7375
         ],
         "dtick": 0.1,
         "tick0": 0
        },
        "xaxis32": {
         "anchor": "y32",
         "domain": [
          0.7875,
          1
         ],
         "dtick": 0.1,
         "tick0": 0
        },
        "xaxis33": {
         "anchor": "y33",
         "domain": [
          0,
          0.2125
         ],
         "dtick": 0.1,
         "tick0": 0
        },
        "xaxis34": {
         "anchor": "y34",
         "domain": [
          0.2625,
          0.475
         ],
         "dtick": 0.1,
         "tick0": 0
        },
        "xaxis35": {
         "anchor": "y35",
         "domain": [
          0.525,
          0.7375
         ],
         "dtick": 0.1,
         "tick0": 0
        },
        "xaxis36": {
         "anchor": "y36",
         "domain": [
          0.7875,
          1
         ],
         "dtick": 0.1,
         "tick0": 0
        },
        "xaxis37": {
         "anchor": "y37",
         "domain": [
          0,
          0.2125
         ],
         "dtick": 0.1,
         "tick0": 0
        },
        "xaxis38": {
         "anchor": "y38",
         "domain": [
          0.2625,
          0.475
         ],
         "dtick": 0.1,
         "tick0": 0
        },
        "xaxis39": {
         "anchor": "y39",
         "domain": [
          0.525,
          0.7375
         ],
         "dtick": 0.1,
         "tick0": 0
        },
        "xaxis4": {
         "anchor": "y4",
         "domain": [
          0.7875,
          1
         ],
         "dtick": 0.1,
         "tick0": 0
        },
        "xaxis40": {
         "anchor": "y40",
         "domain": [
          0.7875,
          1
         ],
         "dtick": 0.1,
         "tick0": 0
        },
        "xaxis41": {
         "anchor": "y41",
         "domain": [
          0,
          0.2125
         ],
         "dtick": 0.1,
         "tick0": 0,
         "title": {
          "text": "Bias (statistical parity difference)"
         }
        },
        "xaxis42": {
         "anchor": "y42",
         "domain": [
          0.2625,
          0.475
         ],
         "dtick": 0.1,
         "tick0": 0,
         "title": {
          "text": "Bias (average odds difference)"
         }
        },
        "xaxis43": {
         "anchor": "y43",
         "domain": [
          0.525,
          0.7375
         ],
         "dtick": 0.1,
         "tick0": 0,
         "title": {
          "text": "Bias (equal opportunity difference)"
         }
        },
        "xaxis44": {
         "anchor": "y44",
         "domain": [
          0.7875,
          1
         ],
         "dtick": 0.1,
         "tick0": 0,
         "title": {
          "text": "Bias (error rate difference)"
         }
        },
        "xaxis5": {
         "anchor": "y5",
         "domain": [
          0,
          0.2125
         ],
         "dtick": 0.1,
         "tick0": 0
        },
        "xaxis6": {
         "anchor": "y6",
         "domain": [
          0.2625,
          0.475
         ],
         "dtick": 0.1,
         "tick0": 0
        },
        "xaxis7": {
         "anchor": "y7",
         "domain": [
          0.525,
          0.7375
         ],
         "dtick": 0.1,
         "tick0": 0
        },
        "xaxis8": {
         "anchor": "y8",
         "domain": [
          0.7875,
          1
         ],
         "dtick": 0.1,
         "tick0": 0
        },
        "xaxis9": {
         "anchor": "y9",
         "domain": [
          0,
          0.2125
         ],
         "dtick": 0.1,
         "tick0": 0
        },
        "yaxis": {
         "anchor": "x",
         "domain": [
          0.9338842975206612,
          1
         ],
         "dtick": 0.1,
         "tick0": 0,
         "title": {
          "text": "Error (accuracy)"
         }
        },
        "yaxis10": {
         "anchor": "x10",
         "domain": [
          0.7471074380165289,
          0.8132231404958677
         ],
         "dtick": 0.1,
         "tick0": 0
        },
        "yaxis11": {
         "anchor": "x11",
         "domain": [
          0.7471074380165289,
          0.8132231404958677
         ],
         "dtick": 0.1,
         "tick0": 0
        },
        "yaxis12": {
         "anchor": "x12",
         "domain": [
          0.7471074380165289,
          0.8132231404958677
         ],
         "dtick": 0.1,
         "tick0": 0
        },
        "yaxis13": {
         "anchor": "x13",
         "domain": [
          0.6537190082644628,
          0.7198347107438017
         ],
         "dtick": 0.1,
         "tick0": 0,
         "title": {
          "text": "Error (recall macro average)"
         }
        },
        "yaxis14": {
         "anchor": "x14",
         "domain": [
          0.6537190082644628,
          0.7198347107438017
         ],
         "dtick": 0.1,
         "tick0": 0
        },
        "yaxis15": {
         "anchor": "x15",
         "domain": [
          0.6537190082644628,
          0.7198347107438017
         ],
         "dtick": 0.1,
         "tick0": 0
        },
        "yaxis16": {
         "anchor": "x16",
         "domain": [
          0.6537190082644628,
          0.7198347107438017
         ],
         "dtick": 0.1,
         "tick0": 0
        },
        "yaxis17": {
         "anchor": "x17",
         "domain": [
          0.5603305785123966,
          0.6264462809917355
         ],
         "dtick": 0.1,
         "tick0": 0,
         "title": {
          "text": "Error (precision positive class)"
         }
        },
        "yaxis18": {
         "anchor": "x18",
         "domain": [
          0.5603305785123966,
          0.6264462809917355
         ],
         "dtick": 0.1,
         "tick0": 0
        },
        "yaxis19": {
         "anchor": "x19",
         "domain": [
          0.5603305785123966,
          0.6264462809917355
         ],
         "dtick": 0.1,
         "tick0": 0
        },
        "yaxis2": {
         "anchor": "x2",
         "domain": [
          0.9338842975206612,
          1
         ],
         "dtick": 0.1,
         "tick0": 0
        },
        "yaxis20": {
         "anchor": "x20",
         "domain": [
          0.5603305785123966,
          0.6264462809917355
         ],
         "dtick": 0.1,
         "tick0": 0
        },
        "yaxis21": {
         "anchor": "x21",
         "domain": [
          0.4669421487603306,
          0.5330578512396694
         ],
         "dtick": 0.1,
         "tick0": 0,
         "title": {
          "text": "Error (precision negative class)"
         }
        },
        "yaxis22": {
         "anchor": "x22",
         "domain": [
          0.4669421487603306,
          0.5330578512396694
         ],
         "dtick": 0.1,
         "tick0": 0
        },
        "yaxis23": {
         "anchor": "x23",
         "domain": [
          0.4669421487603306,
          0.5330578512396694
         ],
         "dtick": 0.1,
         "tick0": 0
        },
        "yaxis24": {
         "anchor": "x24",
         "domain": [
          0.4669421487603306,
          0.5330578512396694
         ],
         "dtick": 0.1,
         "tick0": 0
        },
        "yaxis25": {
         "anchor": "x25",
         "domain": [
          0.37355371900826445,
          0.4396694214876033
         ],
         "dtick": 0.1,
         "tick0": 0,
         "title": {
          "text": "Error (precision macro average)"
         }
        },
        "yaxis26": {
         "anchor": "x26",
         "domain": [
          0.37355371900826445,
          0.4396694214876033
         ],
         "dtick": 0.1,
         "tick0": 0
        },
        "yaxis27": {
         "anchor": "x27",
         "domain": [
          0.37355371900826445,
          0.4396694214876033
         ],
         "dtick": 0.1,
         "tick0": 0
        },
        "yaxis28": {
         "anchor": "x28",
         "domain": [
          0.37355371900826445,
          0.4396694214876033
         ],
         "dtick": 0.1,
         "tick0": 0
        },
        "yaxis29": {
         "anchor": "x29",
         "domain": [
          0.2801652892561983,
          0.34628099173553717
         ],
         "dtick": 0.1,
         "tick0": 0,
         "title": {
          "text": "Error (f1 score positive class)"
         }
        },
        "yaxis3": {
         "anchor": "x3",
         "domain": [
          0.9338842975206612,
          1
         ],
         "dtick": 0.1,
         "tick0": 0
        },
        "yaxis30": {
         "anchor": "x30",
         "domain": [
          0.2801652892561983,
          0.34628099173553717
         ],
         "dtick": 0.1,
         "tick0": 0
        },
        "yaxis31": {
         "anchor": "x31",
         "domain": [
          0.2801652892561983,
          0.34628099173553717
         ],
         "dtick": 0.1,
         "tick0": 0
        },
        "yaxis32": {
         "anchor": "x32",
         "domain": [
          0.2801652892561983,
          0.34628099173553717
         ],
         "dtick": 0.1,
         "tick0": 0
        },
        "yaxis33": {
         "anchor": "x33",
         "domain": [
          0.18677685950413223,
          0.2528925619834711
         ],
         "dtick": 0.1,
         "tick0": 0,
         "title": {
          "text": "Error (f1 score negative class)"
         }
        },
        "yaxis34": {
         "anchor": "x34",
         "domain": [
          0.18677685950413223,
          0.2528925619834711
         ],
         "dtick": 0.1,
         "tick0": 0
        },
        "yaxis35": {
         "anchor": "x35",
         "domain": [
          0.18677685950413223,
          0.2528925619834711
         ],
         "dtick": 0.1,
         "tick0": 0
        },
        "yaxis36": {
         "anchor": "x36",
         "domain": [
          0.18677685950413223,
          0.2528925619834711
         ],
         "dtick": 0.1,
         "tick0": 0
        },
        "yaxis37": {
         "anchor": "x37",
         "domain": [
          0.09338842975206611,
          0.15950413223140497
         ],
         "dtick": 0.1,
         "tick0": 0,
         "title": {
          "text": "Error (f1 score macro average)"
         }
        },
        "yaxis38": {
         "anchor": "x38",
         "domain": [
          0.09338842975206611,
          0.15950413223140497
         ],
         "dtick": 0.1,
         "tick0": 0
        },
        "yaxis39": {
         "anchor": "x39",
         "domain": [
          0.09338842975206611,
          0.15950413223140497
         ],
         "dtick": 0.1,
         "tick0": 0
        },
        "yaxis4": {
         "anchor": "x4",
         "domain": [
          0.9338842975206612,
          1
         ],
         "dtick": 0.1,
         "tick0": 0
        },
        "yaxis40": {
         "anchor": "x40",
         "domain": [
          0.09338842975206611,
          0.15950413223140497
         ],
         "dtick": 0.1,
         "tick0": 0
        },
        "yaxis41": {
         "anchor": "x41",
         "domain": [
          0,
          0.06611570247933884
         ],
         "dtick": 0.1,
         "tick0": 0,
         "title": {
          "text": "Error (Matthews correlation coefficient)"
         }
        },
        "yaxis42": {
         "anchor": "x42",
         "domain": [
          0,
          0.06611570247933884
         ],
         "dtick": 0.1,
         "tick0": 0
        },
        "yaxis43": {
         "anchor": "x43",
         "domain": [
          0,
          0.06611570247933884
         ],
         "dtick": 0.1,
         "tick0": 0
        },
        "yaxis44": {
         "anchor": "x44",
         "domain": [
          0,
          0.06611570247933884
         ],
         "dtick": 0.1,
         "tick0": 0
        },
        "yaxis5": {
         "anchor": "x5",
         "domain": [
          0.8404958677685951,
          0.9066115702479339
         ],
         "dtick": 0.1,
         "tick0": 0,
         "title": {
          "text": "Error (recall positive class)"
         }
        },
        "yaxis6": {
         "anchor": "x6",
         "domain": [
          0.8404958677685951,
          0.9066115702479339
         ],
         "dtick": 0.1,
         "tick0": 0
        },
        "yaxis7": {
         "anchor": "x7",
         "domain": [
          0.8404958677685951,
          0.9066115702479339
         ],
         "dtick": 0.1,
         "tick0": 0
        },
        "yaxis8": {
         "anchor": "x8",
         "domain": [
          0.8404958677685951,
          0.9066115702479339
         ],
         "dtick": 0.1,
         "tick0": 0
        },
        "yaxis9": {
         "anchor": "x9",
         "domain": [
          0.7471074380165289,
          0.8132231404958677
         ],
         "dtick": 0.1,
         "tick0": 0,
         "title": {
          "text": "Error (recall negative class)"
         }
        }
       }
      }
     },
     "metadata": {},
     "output_type": "display_data"
    }
   ],
   "source": [
    "random_forest_bias.show_all_fairea_graphs()"
   ]
  },
  {
   "cell_type": "code",
   "execution_count": null,
   "metadata": {},
   "outputs": [],
   "source": [
    "\n",
    "\n"
   ]
  }
 ],
 "metadata": {
  "kernelspec": {
   "display_name": "bias_framework-lO12qBfZ",
   "language": "python",
   "name": "python3"
  },
  "language_info": {
   "codemirror_mode": {
    "name": "ipython",
    "version": 3
   },
   "file_extension": ".py",
   "mimetype": "text/x-python",
   "name": "python",
   "nbconvert_exporter": "python",
   "pygments_lexer": "ipython3",
   "version": "3.11.8"
  },
  "orig_nbformat": 4
 },
 "nbformat": 4,
 "nbformat_minor": 2
}
