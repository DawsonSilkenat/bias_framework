{
 "cells": [
  {
   "cell_type": "code",
   "execution_count": 1,
   "metadata": {},
   "outputs": [
    {
     "name": "stderr",
     "output_type": "stream",
     "text": [
      "WARNING:root:No module named 'tensorflow': AdversarialDebiasing will be unavailable. To install, run:\n",
      "pip install 'aif360[AdversarialDebiasing]'\n",
      "WARNING:root:No module named 'tensorflow': AdversarialDebiasing will be unavailable. To install, run:\n",
      "pip install 'aif360[AdversarialDebiasing]'\n",
      "WARNING:root:No module named 'fairlearn': ExponentiatedGradientReduction will be unavailable. To install, run:\n",
      "pip install 'aif360[Reductions]'\n",
      "WARNING:root:No module named 'fairlearn': GridSearchReduction will be unavailable. To install, run:\n",
      "pip install 'aif360[Reductions]'\n",
      "WARNING:root:No module named 'inFairness': SenSeI and SenSR will be unavailable. To install, run:\n",
      "pip install 'aif360[inFairness]'\n",
      "WARNING:root:No module named 'fairlearn': GridSearchReduction will be unavailable. To install, run:\n",
      "pip install 'aif360[Reductions]'\n"
     ]
    }
   ],
   "source": [
    "from bias_framework import Bias_Framework\n",
    "import pandas as pd\n",
    "from sklearn.ensemble import RandomForestClassifier\n"
   ]
  },
  {
   "cell_type": "markdown",
   "metadata": {},
   "source": [
    "If not done already, download data from https://archive.ics.uci.edu/dataset/2/adult "
   ]
  },
  {
   "cell_type": "code",
   "execution_count": 2,
   "metadata": {},
   "outputs": [],
   "source": [
    "# Data appears not to include column names, but these can be found in adult.names. fnlwgt isn't a very good name, but it isn't mine\n",
    "df_census_income_train = pd.read_csv(\"./adult/adult.data\", names=[\"age\", \"workclass\", \"fnlwgt\", \"education\", \"education-num\", \"marital-status\", \"occupation\", \"relationship\", \"race\", \"sex\", \"capital-gain\", \"capital-loss\", \"hours-per-week\", \"native-country\", \"income\"])\n",
    "\n",
    "df_census_income_validation = pd.read_csv(\"./adult/adult.test\", skiprows=1, names=[\"age\", \"workclass\", \"fnlwgt\", \"education\", \"education-num\", \"marital-status\", \"occupation\", \"relationship\", \"race\", \"sex\", \"capital-gain\", \"capital-loss\", \"hours-per-week\", \"native-country\", \"income\"])\n",
    "\n"
   ]
  },
  {
   "cell_type": "code",
   "execution_count": 3,
   "metadata": {},
   "outputs": [
    {
     "data": {
      "text/html": [
       "<div>\n",
       "<style scoped>\n",
       "    .dataframe tbody tr th:only-of-type {\n",
       "        vertical-align: middle;\n",
       "    }\n",
       "\n",
       "    .dataframe tbody tr th {\n",
       "        vertical-align: top;\n",
       "    }\n",
       "\n",
       "    .dataframe thead th {\n",
       "        text-align: right;\n",
       "    }\n",
       "</style>\n",
       "<table border=\"1\" class=\"dataframe\">\n",
       "  <thead>\n",
       "    <tr style=\"text-align: right;\">\n",
       "      <th></th>\n",
       "      <th>age</th>\n",
       "      <th>workclass</th>\n",
       "      <th>fnlwgt</th>\n",
       "      <th>education</th>\n",
       "      <th>education-num</th>\n",
       "      <th>marital-status</th>\n",
       "      <th>occupation</th>\n",
       "      <th>relationship</th>\n",
       "      <th>race</th>\n",
       "      <th>sex</th>\n",
       "      <th>capital-gain</th>\n",
       "      <th>capital-loss</th>\n",
       "      <th>hours-per-week</th>\n",
       "      <th>native-country</th>\n",
       "      <th>income</th>\n",
       "    </tr>\n",
       "  </thead>\n",
       "  <tbody>\n",
       "    <tr>\n",
       "      <th>0</th>\n",
       "      <td>39</td>\n",
       "      <td>State-gov</td>\n",
       "      <td>77516</td>\n",
       "      <td>Bachelors</td>\n",
       "      <td>13</td>\n",
       "      <td>Never-married</td>\n",
       "      <td>Adm-clerical</td>\n",
       "      <td>Not-in-family</td>\n",
       "      <td>White</td>\n",
       "      <td>Male</td>\n",
       "      <td>2174</td>\n",
       "      <td>0</td>\n",
       "      <td>40</td>\n",
       "      <td>United-States</td>\n",
       "      <td>&lt;=50K</td>\n",
       "    </tr>\n",
       "    <tr>\n",
       "      <th>1</th>\n",
       "      <td>50</td>\n",
       "      <td>Self-emp-not-inc</td>\n",
       "      <td>83311</td>\n",
       "      <td>Bachelors</td>\n",
       "      <td>13</td>\n",
       "      <td>Married-civ-spouse</td>\n",
       "      <td>Exec-managerial</td>\n",
       "      <td>Husband</td>\n",
       "      <td>White</td>\n",
       "      <td>Male</td>\n",
       "      <td>0</td>\n",
       "      <td>0</td>\n",
       "      <td>13</td>\n",
       "      <td>United-States</td>\n",
       "      <td>&lt;=50K</td>\n",
       "    </tr>\n",
       "    <tr>\n",
       "      <th>2</th>\n",
       "      <td>38</td>\n",
       "      <td>Private</td>\n",
       "      <td>215646</td>\n",
       "      <td>HS-grad</td>\n",
       "      <td>9</td>\n",
       "      <td>Divorced</td>\n",
       "      <td>Handlers-cleaners</td>\n",
       "      <td>Not-in-family</td>\n",
       "      <td>White</td>\n",
       "      <td>Male</td>\n",
       "      <td>0</td>\n",
       "      <td>0</td>\n",
       "      <td>40</td>\n",
       "      <td>United-States</td>\n",
       "      <td>&lt;=50K</td>\n",
       "    </tr>\n",
       "    <tr>\n",
       "      <th>3</th>\n",
       "      <td>53</td>\n",
       "      <td>Private</td>\n",
       "      <td>234721</td>\n",
       "      <td>11th</td>\n",
       "      <td>7</td>\n",
       "      <td>Married-civ-spouse</td>\n",
       "      <td>Handlers-cleaners</td>\n",
       "      <td>Husband</td>\n",
       "      <td>Black</td>\n",
       "      <td>Male</td>\n",
       "      <td>0</td>\n",
       "      <td>0</td>\n",
       "      <td>40</td>\n",
       "      <td>United-States</td>\n",
       "      <td>&lt;=50K</td>\n",
       "    </tr>\n",
       "    <tr>\n",
       "      <th>4</th>\n",
       "      <td>28</td>\n",
       "      <td>Private</td>\n",
       "      <td>338409</td>\n",
       "      <td>Bachelors</td>\n",
       "      <td>13</td>\n",
       "      <td>Married-civ-spouse</td>\n",
       "      <td>Prof-specialty</td>\n",
       "      <td>Wife</td>\n",
       "      <td>Black</td>\n",
       "      <td>Female</td>\n",
       "      <td>0</td>\n",
       "      <td>0</td>\n",
       "      <td>40</td>\n",
       "      <td>Cuba</td>\n",
       "      <td>&lt;=50K</td>\n",
       "    </tr>\n",
       "  </tbody>\n",
       "</table>\n",
       "</div>"
      ],
      "text/plain": [
       "   age          workclass  fnlwgt   education  education-num  \\\n",
       "0   39          State-gov   77516   Bachelors             13   \n",
       "1   50   Self-emp-not-inc   83311   Bachelors             13   \n",
       "2   38            Private  215646     HS-grad              9   \n",
       "3   53            Private  234721        11th              7   \n",
       "4   28            Private  338409   Bachelors             13   \n",
       "\n",
       "        marital-status          occupation    relationship    race      sex  \\\n",
       "0        Never-married        Adm-clerical   Not-in-family   White     Male   \n",
       "1   Married-civ-spouse     Exec-managerial         Husband   White     Male   \n",
       "2             Divorced   Handlers-cleaners   Not-in-family   White     Male   \n",
       "3   Married-civ-spouse   Handlers-cleaners         Husband   Black     Male   \n",
       "4   Married-civ-spouse      Prof-specialty            Wife   Black   Female   \n",
       "\n",
       "   capital-gain  capital-loss  hours-per-week  native-country  income  \n",
       "0          2174             0              40   United-States   <=50K  \n",
       "1             0             0              13   United-States   <=50K  \n",
       "2             0             0              40   United-States   <=50K  \n",
       "3             0             0              40   United-States   <=50K  \n",
       "4             0             0              40            Cuba   <=50K  "
      ]
     },
     "execution_count": 3,
     "metadata": {},
     "output_type": "execute_result"
    }
   ],
   "source": [
    "df_census_income_train.head()"
   ]
  },
  {
   "cell_type": "code",
   "execution_count": 4,
   "metadata": {},
   "outputs": [
    {
     "data": {
      "text/html": [
       "<div>\n",
       "<style scoped>\n",
       "    .dataframe tbody tr th:only-of-type {\n",
       "        vertical-align: middle;\n",
       "    }\n",
       "\n",
       "    .dataframe tbody tr th {\n",
       "        vertical-align: top;\n",
       "    }\n",
       "\n",
       "    .dataframe thead th {\n",
       "        text-align: right;\n",
       "    }\n",
       "</style>\n",
       "<table border=\"1\" class=\"dataframe\">\n",
       "  <thead>\n",
       "    <tr style=\"text-align: right;\">\n",
       "      <th></th>\n",
       "      <th>age</th>\n",
       "      <th>workclass</th>\n",
       "      <th>fnlwgt</th>\n",
       "      <th>education</th>\n",
       "      <th>education-num</th>\n",
       "      <th>marital-status</th>\n",
       "      <th>occupation</th>\n",
       "      <th>relationship</th>\n",
       "      <th>race</th>\n",
       "      <th>sex</th>\n",
       "      <th>capital-gain</th>\n",
       "      <th>capital-loss</th>\n",
       "      <th>hours-per-week</th>\n",
       "      <th>native-country</th>\n",
       "      <th>income</th>\n",
       "    </tr>\n",
       "  </thead>\n",
       "  <tbody>\n",
       "    <tr>\n",
       "      <th>0</th>\n",
       "      <td>25</td>\n",
       "      <td>Private</td>\n",
       "      <td>226802</td>\n",
       "      <td>11th</td>\n",
       "      <td>7</td>\n",
       "      <td>Never-married</td>\n",
       "      <td>Machine-op-inspct</td>\n",
       "      <td>Own-child</td>\n",
       "      <td>Black</td>\n",
       "      <td>Male</td>\n",
       "      <td>0</td>\n",
       "      <td>0</td>\n",
       "      <td>40</td>\n",
       "      <td>United-States</td>\n",
       "      <td>&lt;=50K.</td>\n",
       "    </tr>\n",
       "    <tr>\n",
       "      <th>1</th>\n",
       "      <td>38</td>\n",
       "      <td>Private</td>\n",
       "      <td>89814</td>\n",
       "      <td>HS-grad</td>\n",
       "      <td>9</td>\n",
       "      <td>Married-civ-spouse</td>\n",
       "      <td>Farming-fishing</td>\n",
       "      <td>Husband</td>\n",
       "      <td>White</td>\n",
       "      <td>Male</td>\n",
       "      <td>0</td>\n",
       "      <td>0</td>\n",
       "      <td>50</td>\n",
       "      <td>United-States</td>\n",
       "      <td>&lt;=50K.</td>\n",
       "    </tr>\n",
       "    <tr>\n",
       "      <th>2</th>\n",
       "      <td>28</td>\n",
       "      <td>Local-gov</td>\n",
       "      <td>336951</td>\n",
       "      <td>Assoc-acdm</td>\n",
       "      <td>12</td>\n",
       "      <td>Married-civ-spouse</td>\n",
       "      <td>Protective-serv</td>\n",
       "      <td>Husband</td>\n",
       "      <td>White</td>\n",
       "      <td>Male</td>\n",
       "      <td>0</td>\n",
       "      <td>0</td>\n",
       "      <td>40</td>\n",
       "      <td>United-States</td>\n",
       "      <td>&gt;50K.</td>\n",
       "    </tr>\n",
       "    <tr>\n",
       "      <th>3</th>\n",
       "      <td>44</td>\n",
       "      <td>Private</td>\n",
       "      <td>160323</td>\n",
       "      <td>Some-college</td>\n",
       "      <td>10</td>\n",
       "      <td>Married-civ-spouse</td>\n",
       "      <td>Machine-op-inspct</td>\n",
       "      <td>Husband</td>\n",
       "      <td>Black</td>\n",
       "      <td>Male</td>\n",
       "      <td>7688</td>\n",
       "      <td>0</td>\n",
       "      <td>40</td>\n",
       "      <td>United-States</td>\n",
       "      <td>&gt;50K.</td>\n",
       "    </tr>\n",
       "    <tr>\n",
       "      <th>4</th>\n",
       "      <td>18</td>\n",
       "      <td>?</td>\n",
       "      <td>103497</td>\n",
       "      <td>Some-college</td>\n",
       "      <td>10</td>\n",
       "      <td>Never-married</td>\n",
       "      <td>?</td>\n",
       "      <td>Own-child</td>\n",
       "      <td>White</td>\n",
       "      <td>Female</td>\n",
       "      <td>0</td>\n",
       "      <td>0</td>\n",
       "      <td>30</td>\n",
       "      <td>United-States</td>\n",
       "      <td>&lt;=50K.</td>\n",
       "    </tr>\n",
       "  </tbody>\n",
       "</table>\n",
       "</div>"
      ],
      "text/plain": [
       "   age   workclass  fnlwgt      education  education-num       marital-status  \\\n",
       "0   25     Private  226802           11th              7        Never-married   \n",
       "1   38     Private   89814        HS-grad              9   Married-civ-spouse   \n",
       "2   28   Local-gov  336951     Assoc-acdm             12   Married-civ-spouse   \n",
       "3   44     Private  160323   Some-college             10   Married-civ-spouse   \n",
       "4   18           ?  103497   Some-college             10        Never-married   \n",
       "\n",
       "           occupation relationship    race      sex  capital-gain  \\\n",
       "0   Machine-op-inspct    Own-child   Black     Male             0   \n",
       "1     Farming-fishing      Husband   White     Male             0   \n",
       "2     Protective-serv      Husband   White     Male             0   \n",
       "3   Machine-op-inspct      Husband   Black     Male          7688   \n",
       "4                   ?    Own-child   White   Female             0   \n",
       "\n",
       "   capital-loss  hours-per-week  native-country   income  \n",
       "0             0              40   United-States   <=50K.  \n",
       "1             0              50   United-States   <=50K.  \n",
       "2             0              40   United-States    >50K.  \n",
       "3             0              40   United-States    >50K.  \n",
       "4             0              30   United-States   <=50K.  "
      ]
     },
     "execution_count": 4,
     "metadata": {},
     "output_type": "execute_result"
    }
   ],
   "source": [
    "df_census_income_validation.head()"
   ]
  },
  {
   "cell_type": "code",
   "execution_count": 5,
   "metadata": {},
   "outputs": [
    {
     "name": "stdout",
     "output_type": "stream",
     "text": [
      "<class 'pandas.core.frame.DataFrame'>\n",
      "RangeIndex: 32561 entries, 0 to 32560\n",
      "Data columns (total 15 columns):\n",
      " #   Column          Non-Null Count  Dtype \n",
      "---  ------          --------------  ----- \n",
      " 0   age             32561 non-null  int64 \n",
      " 1   workclass       32561 non-null  object\n",
      " 2   fnlwgt          32561 non-null  int64 \n",
      " 3   education       32561 non-null  object\n",
      " 4   education-num   32561 non-null  int64 \n",
      " 5   marital-status  32561 non-null  object\n",
      " 6   occupation      32561 non-null  object\n",
      " 7   relationship    32561 non-null  object\n",
      " 8   race            32561 non-null  object\n",
      " 9   sex             32561 non-null  object\n",
      " 10  capital-gain    32561 non-null  int64 \n",
      " 11  capital-loss    32561 non-null  int64 \n",
      " 12  hours-per-week  32561 non-null  int64 \n",
      " 13  native-country  32561 non-null  object\n",
      " 14  income          32561 non-null  object\n",
      "dtypes: int64(6), object(9)\n",
      "memory usage: 3.7+ MB\n"
     ]
    }
   ],
   "source": [
    "df_census_income_train.info()"
   ]
  },
  {
   "cell_type": "code",
   "execution_count": 6,
   "metadata": {},
   "outputs": [
    {
     "data": {
      "text/html": [
       "<div>\n",
       "<style scoped>\n",
       "    .dataframe tbody tr th:only-of-type {\n",
       "        vertical-align: middle;\n",
       "    }\n",
       "\n",
       "    .dataframe tbody tr th {\n",
       "        vertical-align: top;\n",
       "    }\n",
       "\n",
       "    .dataframe thead th {\n",
       "        text-align: right;\n",
       "    }\n",
       "</style>\n",
       "<table border=\"1\" class=\"dataframe\">\n",
       "  <thead>\n",
       "    <tr style=\"text-align: right;\">\n",
       "      <th></th>\n",
       "      <th>age</th>\n",
       "      <th>fnlwgt</th>\n",
       "      <th>education-num</th>\n",
       "      <th>capital-gain</th>\n",
       "      <th>capital-loss</th>\n",
       "      <th>hours-per-week</th>\n",
       "    </tr>\n",
       "  </thead>\n",
       "  <tbody>\n",
       "    <tr>\n",
       "      <th>count</th>\n",
       "      <td>32561.000000</td>\n",
       "      <td>3.256100e+04</td>\n",
       "      <td>32561.000000</td>\n",
       "      <td>32561.000000</td>\n",
       "      <td>32561.000000</td>\n",
       "      <td>32561.000000</td>\n",
       "    </tr>\n",
       "    <tr>\n",
       "      <th>mean</th>\n",
       "      <td>38.581647</td>\n",
       "      <td>1.897784e+05</td>\n",
       "      <td>10.080679</td>\n",
       "      <td>1077.648844</td>\n",
       "      <td>87.303830</td>\n",
       "      <td>40.437456</td>\n",
       "    </tr>\n",
       "    <tr>\n",
       "      <th>std</th>\n",
       "      <td>13.640433</td>\n",
       "      <td>1.055500e+05</td>\n",
       "      <td>2.572720</td>\n",
       "      <td>7385.292085</td>\n",
       "      <td>402.960219</td>\n",
       "      <td>12.347429</td>\n",
       "    </tr>\n",
       "    <tr>\n",
       "      <th>min</th>\n",
       "      <td>17.000000</td>\n",
       "      <td>1.228500e+04</td>\n",
       "      <td>1.000000</td>\n",
       "      <td>0.000000</td>\n",
       "      <td>0.000000</td>\n",
       "      <td>1.000000</td>\n",
       "    </tr>\n",
       "    <tr>\n",
       "      <th>25%</th>\n",
       "      <td>28.000000</td>\n",
       "      <td>1.178270e+05</td>\n",
       "      <td>9.000000</td>\n",
       "      <td>0.000000</td>\n",
       "      <td>0.000000</td>\n",
       "      <td>40.000000</td>\n",
       "    </tr>\n",
       "    <tr>\n",
       "      <th>50%</th>\n",
       "      <td>37.000000</td>\n",
       "      <td>1.783560e+05</td>\n",
       "      <td>10.000000</td>\n",
       "      <td>0.000000</td>\n",
       "      <td>0.000000</td>\n",
       "      <td>40.000000</td>\n",
       "    </tr>\n",
       "    <tr>\n",
       "      <th>75%</th>\n",
       "      <td>48.000000</td>\n",
       "      <td>2.370510e+05</td>\n",
       "      <td>12.000000</td>\n",
       "      <td>0.000000</td>\n",
       "      <td>0.000000</td>\n",
       "      <td>45.000000</td>\n",
       "    </tr>\n",
       "    <tr>\n",
       "      <th>max</th>\n",
       "      <td>90.000000</td>\n",
       "      <td>1.484705e+06</td>\n",
       "      <td>16.000000</td>\n",
       "      <td>99999.000000</td>\n",
       "      <td>4356.000000</td>\n",
       "      <td>99.000000</td>\n",
       "    </tr>\n",
       "  </tbody>\n",
       "</table>\n",
       "</div>"
      ],
      "text/plain": [
       "                age        fnlwgt  education-num  capital-gain  capital-loss  \\\n",
       "count  32561.000000  3.256100e+04   32561.000000  32561.000000  32561.000000   \n",
       "mean      38.581647  1.897784e+05      10.080679   1077.648844     87.303830   \n",
       "std       13.640433  1.055500e+05       2.572720   7385.292085    402.960219   \n",
       "min       17.000000  1.228500e+04       1.000000      0.000000      0.000000   \n",
       "25%       28.000000  1.178270e+05       9.000000      0.000000      0.000000   \n",
       "50%       37.000000  1.783560e+05      10.000000      0.000000      0.000000   \n",
       "75%       48.000000  2.370510e+05      12.000000      0.000000      0.000000   \n",
       "max       90.000000  1.484705e+06      16.000000  99999.000000   4356.000000   \n",
       "\n",
       "       hours-per-week  \n",
       "count    32561.000000  \n",
       "mean        40.437456  \n",
       "std         12.347429  \n",
       "min          1.000000  \n",
       "25%         40.000000  \n",
       "50%         40.000000  \n",
       "75%         45.000000  \n",
       "max         99.000000  "
      ]
     },
     "execution_count": 6,
     "metadata": {},
     "output_type": "execute_result"
    }
   ],
   "source": [
    "\n",
    "\n",
    "df_census_income_train.describe()\n",
    "\n"
   ]
  },
  {
   "cell_type": "code",
   "execution_count": 7,
   "metadata": {},
   "outputs": [
    {
     "name": "stdout",
     "output_type": "stream",
     "text": [
      "age, 73 unique values,\n",
      "workclass, 9 unique values,\n",
      "fnlwgt, 21648 unique values,\n",
      "education, 16 unique values,\n",
      "education-num, 16 unique values,\n",
      "marital-status, 7 unique values,\n",
      "occupation, 15 unique values,\n",
      "relationship, 6 unique values,\n",
      "race, 5 unique values,\n",
      "sex, 2 unique values,\n",
      "capital-gain, 119 unique values,\n",
      "capital-loss, 92 unique values,\n",
      "hours-per-week, 94 unique values,\n",
      "native-country, 42 unique values,\n",
      "income, 2 unique values,\n"
     ]
    }
   ],
   "source": [
    "for column in df_census_income_train.columns:\n",
    "    print(column + \",\", df_census_income_train[column].nunique(), \"unique values,\")"
   ]
  },
  {
   "cell_type": "markdown",
   "metadata": {},
   "source": [
    "We will partly adapt https://www.kaggle.com/code/yashhvyass/adult-census-income-logistic-reg-explained-86-2 in order to save dev time. This will be useful to return to for further modelling, but right now I am just going to do the bare minimum to test the bias framework"
   ]
  },
  {
   "cell_type": "code",
   "execution_count": 8,
   "metadata": {},
   "outputs": [],
   "source": [
    "df_census_income_train[\"sex\"] = df_census_income_train[\"sex\"].apply(lambda x: 1 if x.strip().lower() == \"male\" else 0)\n",
    "# According to the graphs in the link provided (and verified below more simply) the dataset is overwhelming white, so group all other races together\n",
    "# This is also useful since it makes it simpler to compare fairness\n",
    "df_census_income_train[\"race\"] = df_census_income_train[\"race\"].apply(lambda x: 1 if x.strip().lower() == \"white\" else 0)\n",
    "# Similar to race\n",
    "df_census_income_train[\"native-country\"] = df_census_income_train[\"native-country\"].apply(lambda x: 1 if x.strip().lower() == \"united-states\" else 0)\n",
    "df_census_income_train[\"income\"] = df_census_income_train[\"income\"].apply(lambda x: 1 if x.strip().lower() == \">50k\" else 0)\n",
    "\n",
    "# Everything we do to the training data we need to do to the validation data\n",
    "df_census_income_validation[\"sex\"] = df_census_income_validation[\"sex\"].apply(lambda x: 1 if x.strip().lower() == \"male\" else 0)\n",
    "df_census_income_validation[\"race\"] = df_census_income_validation[\"race\"].apply(lambda x: 1 if x.strip().lower() == \"white\" else 0)\n",
    "df_census_income_validation[\"native-country\"] = df_census_income_validation[\"native-country\"].apply(lambda x: 1 if x.strip().lower() == \"united-states\" else 0)\n",
    "# Turns out this is ever so slightly different from the training set\n",
    "df_census_income_validation[\"income\"] = df_census_income_validation[\"income\"].apply(lambda x: 1 if x.strip().lower() == \">50k.\" else 0)\n"
   ]
  },
  {
   "cell_type": "code",
   "execution_count": 9,
   "metadata": {},
   "outputs": [
    {
     "data": {
      "text/plain": [
       "race\n",
       "1    27816\n",
       "0     4745\n",
       "Name: count, dtype: int64"
      ]
     },
     "execution_count": 9,
     "metadata": {},
     "output_type": "execute_result"
    }
   ],
   "source": [
    "df_census_income_train[\"race\"].value_counts()"
   ]
  },
  {
   "cell_type": "code",
   "execution_count": 10,
   "metadata": {},
   "outputs": [
    {
     "data": {
      "text/plain": [
       "native-country\n",
       "1    29170\n",
       "0     3391\n",
       "Name: count, dtype: int64"
      ]
     },
     "execution_count": 10,
     "metadata": {},
     "output_type": "execute_result"
    }
   ],
   "source": [
    "df_census_income_train[\"native-country\"].value_counts()"
   ]
  },
  {
   "cell_type": "code",
   "execution_count": 11,
   "metadata": {},
   "outputs": [
    {
     "data": {
      "text/plain": [
       "income\n",
       "0    24720\n",
       "1     7841\n",
       "Name: count, dtype: int64"
      ]
     },
     "execution_count": 11,
     "metadata": {},
     "output_type": "execute_result"
    }
   ],
   "source": [
    "df_census_income_train[\"income\"].value_counts()"
   ]
  },
  {
   "cell_type": "code",
   "execution_count": 12,
   "metadata": {},
   "outputs": [
    {
     "name": "stdout",
     "output_type": "stream",
     "text": [
      "Training data percent belonging to class 0:\n",
      "0.7591904425539756\n",
      "Validation data percent belonging to class 0:\n",
      "0.7637737239727289\n"
     ]
    }
   ],
   "source": [
    "print(\"Training data percent belonging to class 0:\")\n",
    "print(len(df_census_income_train[df_census_income_train[\"income\"] == 0]) / len(df_census_income_train))\n",
    "print(\"Validation data percent belonging to class 0:\")\n",
    "print(len(df_census_income_validation[df_census_income_validation[\"income\"] == 0]) / len(df_census_income_validation))"
   ]
  },
  {
   "cell_type": "code",
   "execution_count": 13,
   "metadata": {},
   "outputs": [
    {
     "name": "stdout",
     "output_type": "stream",
     "text": [
      "Training data size 32561\n",
      "Validation data size 16281\n"
     ]
    }
   ],
   "source": [
    "print(\"Training data size\", len(df_census_income_train))\n",
    "print(\"Validation data size\", len(df_census_income_validation))"
   ]
  },
  {
   "cell_type": "code",
   "execution_count": 14,
   "metadata": {},
   "outputs": [],
   "source": [
    "# Getting rid of fnlwgt because the discription in the kaggle link does not make it sound useful\n",
    "# Getting rid of education-num since it duplicates education, which we can 1 hot encode\n",
    "df_census_income_train.drop(columns=[\"fnlwgt\", \"education-num\"], inplace=True)\n",
    "df_census_income_validation.drop(columns=[\"fnlwgt\", \"education-num\"], inplace=True)\n"
   ]
  },
  {
   "cell_type": "code",
   "execution_count": 15,
   "metadata": {},
   "outputs": [],
   "source": [
    "df_census_income_train = pd.get_dummies(df_census_income_train, columns=df_census_income_train.select_dtypes(include=['object']).columns.tolist())\n",
    "df_census_income_validation = pd.get_dummies(df_census_income_validation, columns=df_census_income_validation.select_dtypes(include=['object']).columns.tolist())"
   ]
  },
  {
   "cell_type": "code",
   "execution_count": 16,
   "metadata": {},
   "outputs": [
    {
     "data": {
      "text/html": [
       "<div>\n",
       "<style scoped>\n",
       "    .dataframe tbody tr th:only-of-type {\n",
       "        vertical-align: middle;\n",
       "    }\n",
       "\n",
       "    .dataframe tbody tr th {\n",
       "        vertical-align: top;\n",
       "    }\n",
       "\n",
       "    .dataframe thead th {\n",
       "        text-align: right;\n",
       "    }\n",
       "</style>\n",
       "<table border=\"1\" class=\"dataframe\">\n",
       "  <thead>\n",
       "    <tr style=\"text-align: right;\">\n",
       "      <th></th>\n",
       "      <th>age</th>\n",
       "      <th>race</th>\n",
       "      <th>sex</th>\n",
       "      <th>capital-gain</th>\n",
       "      <th>capital-loss</th>\n",
       "      <th>hours-per-week</th>\n",
       "      <th>native-country</th>\n",
       "      <th>income</th>\n",
       "      <th>workclass_ ?</th>\n",
       "      <th>workclass_ Federal-gov</th>\n",
       "      <th>...</th>\n",
       "      <th>occupation_ Protective-serv</th>\n",
       "      <th>occupation_ Sales</th>\n",
       "      <th>occupation_ Tech-support</th>\n",
       "      <th>occupation_ Transport-moving</th>\n",
       "      <th>relationship_ Husband</th>\n",
       "      <th>relationship_ Not-in-family</th>\n",
       "      <th>relationship_ Other-relative</th>\n",
       "      <th>relationship_ Own-child</th>\n",
       "      <th>relationship_ Unmarried</th>\n",
       "      <th>relationship_ Wife</th>\n",
       "    </tr>\n",
       "  </thead>\n",
       "  <tbody>\n",
       "    <tr>\n",
       "      <th>0</th>\n",
       "      <td>39</td>\n",
       "      <td>1</td>\n",
       "      <td>1</td>\n",
       "      <td>2174</td>\n",
       "      <td>0</td>\n",
       "      <td>40</td>\n",
       "      <td>1</td>\n",
       "      <td>0</td>\n",
       "      <td>False</td>\n",
       "      <td>False</td>\n",
       "      <td>...</td>\n",
       "      <td>False</td>\n",
       "      <td>False</td>\n",
       "      <td>False</td>\n",
       "      <td>False</td>\n",
       "      <td>False</td>\n",
       "      <td>True</td>\n",
       "      <td>False</td>\n",
       "      <td>False</td>\n",
       "      <td>False</td>\n",
       "      <td>False</td>\n",
       "    </tr>\n",
       "    <tr>\n",
       "      <th>1</th>\n",
       "      <td>50</td>\n",
       "      <td>1</td>\n",
       "      <td>1</td>\n",
       "      <td>0</td>\n",
       "      <td>0</td>\n",
       "      <td>13</td>\n",
       "      <td>1</td>\n",
       "      <td>0</td>\n",
       "      <td>False</td>\n",
       "      <td>False</td>\n",
       "      <td>...</td>\n",
       "      <td>False</td>\n",
       "      <td>False</td>\n",
       "      <td>False</td>\n",
       "      <td>False</td>\n",
       "      <td>True</td>\n",
       "      <td>False</td>\n",
       "      <td>False</td>\n",
       "      <td>False</td>\n",
       "      <td>False</td>\n",
       "      <td>False</td>\n",
       "    </tr>\n",
       "    <tr>\n",
       "      <th>2</th>\n",
       "      <td>38</td>\n",
       "      <td>1</td>\n",
       "      <td>1</td>\n",
       "      <td>0</td>\n",
       "      <td>0</td>\n",
       "      <td>40</td>\n",
       "      <td>1</td>\n",
       "      <td>0</td>\n",
       "      <td>False</td>\n",
       "      <td>False</td>\n",
       "      <td>...</td>\n",
       "      <td>False</td>\n",
       "      <td>False</td>\n",
       "      <td>False</td>\n",
       "      <td>False</td>\n",
       "      <td>False</td>\n",
       "      <td>True</td>\n",
       "      <td>False</td>\n",
       "      <td>False</td>\n",
       "      <td>False</td>\n",
       "      <td>False</td>\n",
       "    </tr>\n",
       "    <tr>\n",
       "      <th>3</th>\n",
       "      <td>53</td>\n",
       "      <td>0</td>\n",
       "      <td>1</td>\n",
       "      <td>0</td>\n",
       "      <td>0</td>\n",
       "      <td>40</td>\n",
       "      <td>1</td>\n",
       "      <td>0</td>\n",
       "      <td>False</td>\n",
       "      <td>False</td>\n",
       "      <td>...</td>\n",
       "      <td>False</td>\n",
       "      <td>False</td>\n",
       "      <td>False</td>\n",
       "      <td>False</td>\n",
       "      <td>True</td>\n",
       "      <td>False</td>\n",
       "      <td>False</td>\n",
       "      <td>False</td>\n",
       "      <td>False</td>\n",
       "      <td>False</td>\n",
       "    </tr>\n",
       "    <tr>\n",
       "      <th>4</th>\n",
       "      <td>28</td>\n",
       "      <td>0</td>\n",
       "      <td>0</td>\n",
       "      <td>0</td>\n",
       "      <td>0</td>\n",
       "      <td>40</td>\n",
       "      <td>0</td>\n",
       "      <td>0</td>\n",
       "      <td>False</td>\n",
       "      <td>False</td>\n",
       "      <td>...</td>\n",
       "      <td>False</td>\n",
       "      <td>False</td>\n",
       "      <td>False</td>\n",
       "      <td>False</td>\n",
       "      <td>False</td>\n",
       "      <td>False</td>\n",
       "      <td>False</td>\n",
       "      <td>False</td>\n",
       "      <td>False</td>\n",
       "      <td>True</td>\n",
       "    </tr>\n",
       "  </tbody>\n",
       "</table>\n",
       "<p>5 rows × 61 columns</p>\n",
       "</div>"
      ],
      "text/plain": [
       "   age  race  sex  capital-gain  capital-loss  hours-per-week  native-country  \\\n",
       "0   39     1    1          2174             0              40               1   \n",
       "1   50     1    1             0             0              13               1   \n",
       "2   38     1    1             0             0              40               1   \n",
       "3   53     0    1             0             0              40               1   \n",
       "4   28     0    0             0             0              40               0   \n",
       "\n",
       "   income  workclass_ ?  workclass_ Federal-gov  ...  \\\n",
       "0       0         False                   False  ...   \n",
       "1       0         False                   False  ...   \n",
       "2       0         False                   False  ...   \n",
       "3       0         False                   False  ...   \n",
       "4       0         False                   False  ...   \n",
       "\n",
       "   occupation_ Protective-serv  occupation_ Sales  occupation_ Tech-support  \\\n",
       "0                        False              False                     False   \n",
       "1                        False              False                     False   \n",
       "2                        False              False                     False   \n",
       "3                        False              False                     False   \n",
       "4                        False              False                     False   \n",
       "\n",
       "   occupation_ Transport-moving  relationship_ Husband  \\\n",
       "0                         False                  False   \n",
       "1                         False                   True   \n",
       "2                         False                  False   \n",
       "3                         False                   True   \n",
       "4                         False                  False   \n",
       "\n",
       "   relationship_ Not-in-family  relationship_ Other-relative  \\\n",
       "0                         True                         False   \n",
       "1                        False                         False   \n",
       "2                         True                         False   \n",
       "3                        False                         False   \n",
       "4                        False                         False   \n",
       "\n",
       "   relationship_ Own-child  relationship_ Unmarried  relationship_ Wife  \n",
       "0                    False                    False               False  \n",
       "1                    False                    False               False  \n",
       "2                    False                    False               False  \n",
       "3                    False                    False               False  \n",
       "4                    False                    False                True  \n",
       "\n",
       "[5 rows x 61 columns]"
      ]
     },
     "execution_count": 16,
     "metadata": {},
     "output_type": "execute_result"
    }
   ],
   "source": [
    "df_census_income_train.head()"
   ]
  },
  {
   "cell_type": "code",
   "execution_count": 17,
   "metadata": {},
   "outputs": [],
   "source": [
    "df_census_income_train_x = df_census_income_train.drop(columns=[\"income\"])\n",
    "df_census_income_train_y = df_census_income_train[\"income\"]\n",
    "\n",
    "df_census_income_validation_x = df_census_income_validation.drop(columns=[\"income\"])\n",
    "df_census_income_validation_y = df_census_income_validation[\"income\"]\n",
    "\n"
   ]
  },
  {
   "cell_type": "code",
   "execution_count": 18,
   "metadata": {},
   "outputs": [
    {
     "data": {
      "text/html": [
       "<div>\n",
       "<style scoped>\n",
       "    .dataframe tbody tr th:only-of-type {\n",
       "        vertical-align: middle;\n",
       "    }\n",
       "\n",
       "    .dataframe tbody tr th {\n",
       "        vertical-align: top;\n",
       "    }\n",
       "\n",
       "    .dataframe thead th {\n",
       "        text-align: right;\n",
       "    }\n",
       "</style>\n",
       "<table border=\"1\" class=\"dataframe\">\n",
       "  <thead>\n",
       "    <tr style=\"text-align: right;\">\n",
       "      <th></th>\n",
       "      <th>age</th>\n",
       "      <th>race</th>\n",
       "      <th>sex</th>\n",
       "      <th>capital-gain</th>\n",
       "      <th>capital-loss</th>\n",
       "      <th>hours-per-week</th>\n",
       "      <th>native-country</th>\n",
       "      <th>income</th>\n",
       "      <th>workclass_ ?</th>\n",
       "      <th>workclass_ Federal-gov</th>\n",
       "      <th>...</th>\n",
       "      <th>occupation_ Protective-serv</th>\n",
       "      <th>occupation_ Sales</th>\n",
       "      <th>occupation_ Tech-support</th>\n",
       "      <th>occupation_ Transport-moving</th>\n",
       "      <th>relationship_ Husband</th>\n",
       "      <th>relationship_ Not-in-family</th>\n",
       "      <th>relationship_ Other-relative</th>\n",
       "      <th>relationship_ Own-child</th>\n",
       "      <th>relationship_ Unmarried</th>\n",
       "      <th>relationship_ Wife</th>\n",
       "    </tr>\n",
       "  </thead>\n",
       "  <tbody>\n",
       "    <tr>\n",
       "      <th>0</th>\n",
       "      <td>39</td>\n",
       "      <td>1</td>\n",
       "      <td>1</td>\n",
       "      <td>2174</td>\n",
       "      <td>0</td>\n",
       "      <td>40</td>\n",
       "      <td>1</td>\n",
       "      <td>0</td>\n",
       "      <td>False</td>\n",
       "      <td>False</td>\n",
       "      <td>...</td>\n",
       "      <td>False</td>\n",
       "      <td>False</td>\n",
       "      <td>False</td>\n",
       "      <td>False</td>\n",
       "      <td>False</td>\n",
       "      <td>True</td>\n",
       "      <td>False</td>\n",
       "      <td>False</td>\n",
       "      <td>False</td>\n",
       "      <td>False</td>\n",
       "    </tr>\n",
       "    <tr>\n",
       "      <th>1</th>\n",
       "      <td>50</td>\n",
       "      <td>1</td>\n",
       "      <td>1</td>\n",
       "      <td>0</td>\n",
       "      <td>0</td>\n",
       "      <td>13</td>\n",
       "      <td>1</td>\n",
       "      <td>0</td>\n",
       "      <td>False</td>\n",
       "      <td>False</td>\n",
       "      <td>...</td>\n",
       "      <td>False</td>\n",
       "      <td>False</td>\n",
       "      <td>False</td>\n",
       "      <td>False</td>\n",
       "      <td>True</td>\n",
       "      <td>False</td>\n",
       "      <td>False</td>\n",
       "      <td>False</td>\n",
       "      <td>False</td>\n",
       "      <td>False</td>\n",
       "    </tr>\n",
       "    <tr>\n",
       "      <th>2</th>\n",
       "      <td>38</td>\n",
       "      <td>1</td>\n",
       "      <td>1</td>\n",
       "      <td>0</td>\n",
       "      <td>0</td>\n",
       "      <td>40</td>\n",
       "      <td>1</td>\n",
       "      <td>0</td>\n",
       "      <td>False</td>\n",
       "      <td>False</td>\n",
       "      <td>...</td>\n",
       "      <td>False</td>\n",
       "      <td>False</td>\n",
       "      <td>False</td>\n",
       "      <td>False</td>\n",
       "      <td>False</td>\n",
       "      <td>True</td>\n",
       "      <td>False</td>\n",
       "      <td>False</td>\n",
       "      <td>False</td>\n",
       "      <td>False</td>\n",
       "    </tr>\n",
       "    <tr>\n",
       "      <th>3</th>\n",
       "      <td>53</td>\n",
       "      <td>0</td>\n",
       "      <td>1</td>\n",
       "      <td>0</td>\n",
       "      <td>0</td>\n",
       "      <td>40</td>\n",
       "      <td>1</td>\n",
       "      <td>0</td>\n",
       "      <td>False</td>\n",
       "      <td>False</td>\n",
       "      <td>...</td>\n",
       "      <td>False</td>\n",
       "      <td>False</td>\n",
       "      <td>False</td>\n",
       "      <td>False</td>\n",
       "      <td>True</td>\n",
       "      <td>False</td>\n",
       "      <td>False</td>\n",
       "      <td>False</td>\n",
       "      <td>False</td>\n",
       "      <td>False</td>\n",
       "    </tr>\n",
       "    <tr>\n",
       "      <th>4</th>\n",
       "      <td>28</td>\n",
       "      <td>0</td>\n",
       "      <td>0</td>\n",
       "      <td>0</td>\n",
       "      <td>0</td>\n",
       "      <td>40</td>\n",
       "      <td>0</td>\n",
       "      <td>0</td>\n",
       "      <td>False</td>\n",
       "      <td>False</td>\n",
       "      <td>...</td>\n",
       "      <td>False</td>\n",
       "      <td>False</td>\n",
       "      <td>False</td>\n",
       "      <td>False</td>\n",
       "      <td>False</td>\n",
       "      <td>False</td>\n",
       "      <td>False</td>\n",
       "      <td>False</td>\n",
       "      <td>False</td>\n",
       "      <td>True</td>\n",
       "    </tr>\n",
       "  </tbody>\n",
       "</table>\n",
       "<p>5 rows × 61 columns</p>\n",
       "</div>"
      ],
      "text/plain": [
       "   age  race  sex  capital-gain  capital-loss  hours-per-week  native-country  \\\n",
       "0   39     1    1          2174             0              40               1   \n",
       "1   50     1    1             0             0              13               1   \n",
       "2   38     1    1             0             0              40               1   \n",
       "3   53     0    1             0             0              40               1   \n",
       "4   28     0    0             0             0              40               0   \n",
       "\n",
       "   income  workclass_ ?  workclass_ Federal-gov  ...  \\\n",
       "0       0         False                   False  ...   \n",
       "1       0         False                   False  ...   \n",
       "2       0         False                   False  ...   \n",
       "3       0         False                   False  ...   \n",
       "4       0         False                   False  ...   \n",
       "\n",
       "   occupation_ Protective-serv  occupation_ Sales  occupation_ Tech-support  \\\n",
       "0                        False              False                     False   \n",
       "1                        False              False                     False   \n",
       "2                        False              False                     False   \n",
       "3                        False              False                     False   \n",
       "4                        False              False                     False   \n",
       "\n",
       "   occupation_ Transport-moving  relationship_ Husband  \\\n",
       "0                         False                  False   \n",
       "1                         False                   True   \n",
       "2                         False                  False   \n",
       "3                         False                   True   \n",
       "4                         False                  False   \n",
       "\n",
       "   relationship_ Not-in-family  relationship_ Other-relative  \\\n",
       "0                         True                         False   \n",
       "1                        False                         False   \n",
       "2                         True                         False   \n",
       "3                        False                         False   \n",
       "4                        False                         False   \n",
       "\n",
       "   relationship_ Own-child  relationship_ Unmarried  relationship_ Wife  \n",
       "0                    False                    False               False  \n",
       "1                    False                    False               False  \n",
       "2                    False                    False               False  \n",
       "3                    False                    False               False  \n",
       "4                    False                    False                True  \n",
       "\n",
       "[5 rows x 61 columns]"
      ]
     },
     "execution_count": 18,
     "metadata": {},
     "output_type": "execute_result"
    }
   ],
   "source": [
    "df_census_income_train.head()"
   ]
  },
  {
   "cell_type": "code",
   "execution_count": 19,
   "metadata": {},
   "outputs": [],
   "source": [
    "random_forest_classifier = RandomForestClassifier(n_estimators=10, max_depth=20, random_state=0)\n",
    "\n",
    "\n",
    "random_forest_bias = Bias_Framework(random_forest_classifier, df_census_income_train_x, df_census_income_validation_x, df_census_income_train_y, df_census_income_validation_y)"
   ]
  },
  {
   "cell_type": "code",
   "execution_count": 20,
   "metadata": {},
   "outputs": [],
   "source": [
    "random_forest_bias.set_privilege_function(lambda x: x[\"sex\"] == 1 or x[\"race\"] == 1)"
   ]
  },
  {
   "cell_type": "code",
   "execution_count": 21,
   "metadata": {},
   "outputs": [
    {
     "name": "stdout",
     "output_type": "stream",
     "text": [
      "5.57862401008606 seconds to run with no debiasing\n",
      "23.813679218292236 seconds to get fairea baseline\n",
      "7.152557373046875e-07 seconds to run learning fair representation\n",
      "5.3587236404418945 seconds to run reweighing\n",
      "0.0 seconds to run reject option classification\n",
      "14.906226873397827 seconds to run calibrated equal odds\n",
      "4.980932950973511 seconds to run equal odds\n"
     ]
    }
   ],
   "source": [
    "random_forest_bias.run_framework()\n",
    "\n"
   ]
  },
  {
   "cell_type": "code",
   "execution_count": 22,
   "metadata": {},
   "outputs": [
    {
     "data": {
      "application/vnd.plotly.v1+json": {
       "config": {
        "plotlyServerURL": "https://plot.ly"
       },
       "data": [
        {
         "error_x": {
          "array": [
           -0.014669125690659417
          ],
          "type": "data"
         },
         "error_y": {
          "array": [
           -0.005270224000120782
          ],
          "type": "data"
         },
         "marker": {
          "color": "#E15F99"
         },
         "mode": "markers",
         "name": "reweighing outcome",
         "showlegend": true,
         "type": "scatter",
         "x": [
          0.12499537772027708
         ],
         "y": [
          0.8607364412505373
         ]
        },
        {
         "error_x": {
          "array": [
           -0.0058110928811675455
          ],
          "type": "data"
         },
         "error_y": {
          "array": [
           -0.004957473626694853
          ],
          "type": "data"
         },
         "marker": {
          "color": "#1CA71C"
         },
         "mode": "markers",
         "name": "calibrated equal odds using fpr cost outcome",
         "showlegend": true,
         "type": "scatter",
         "x": [
          0.18629912946334568
         ],
         "y": [
          0.86242552668755
         ]
        },
        {
         "error_x": {
          "array": [
           -0.015798763472345344
          ],
          "type": "data"
         },
         "error_y": {
          "array": [
           -0.0058497717361177815
          ],
          "type": "data"
         },
         "marker": {
          "color": "#FB0D0D"
         },
         "mode": "markers",
         "name": "calibrated equal odds using fnr cost outcome",
         "showlegend": true,
         "type": "scatter",
         "x": [
          0.1305233025677107
         ],
         "y": [
          0.8634236226276026
         ]
        },
        {
         "error_x": {
          "array": [
           -0.006067306794178967
          ],
          "type": "data"
         },
         "error_y": {
          "array": [
           -0.0047694124972306184
          ],
          "type": "data"
         },
         "marker": {
          "color": "#DA16FF"
         },
         "mode": "markers",
         "name": "calibrated equal odds using weighted cost outcome",
         "showlegend": true,
         "type": "scatter",
         "x": [
          0.18611984863480757
         ],
         "y": [
          0.8632553282967877
         ]
        },
        {
         "error_x": {
          "array": [
           -0.01593644325685055
          ],
          "type": "data"
         },
         "error_y": {
          "array": [
           -0.0057792125319097165
          ],
          "type": "data"
         },
         "marker": {
          "color": "#222A2A"
         },
         "mode": "markers",
         "name": "equal odds outcome",
         "showlegend": true,
         "type": "scatter",
         "x": [
          0.10850568277284957
         ],
         "y": [
          0.862795282845034
         ]
        },
        {
         "line": {
          "color": "#2E91E5"
         },
         "mode": "lines+markers+text",
         "name": "fairea baseline",
         "showlegend": true,
         "text": [
          "F_0",
          "F_10",
          "F_20",
          "F_30",
          "F_40",
          "F_50",
          "F_60",
          "F_70",
          "F_80",
          "F_90",
          "F_100"
         ],
         "textposition": "bottom right",
         "type": "scatter",
         "x": [
          0.13153366316698556,
          0.11865561466447005,
          0.10478255925418929,
          0.09185034906058193,
          0.07936776663277154,
          0.06552709097609065,
          0.052922554518159644,
          0.04006550536855555,
          0.02595754795230033,
          0.013092827447697897,
          0
         ],
         "y": [
          0.8639518457097229,
          0.8540237086174067,
          0.8437159879614274,
          0.8340028253792764,
          0.8244211043547693,
          0.8135274246053682,
          0.8032270745040232,
          0.7934488053559364,
          0.7838351452613476,
          0.7737583686505742,
          0.7637737239727288
         ]
        }
       ],
       "layout": {
        "template": {
         "data": {
          "bar": [
           {
            "error_x": {
             "color": "#2a3f5f"
            },
            "error_y": {
             "color": "#2a3f5f"
            },
            "marker": {
             "line": {
              "color": "#E5ECF6",
              "width": 0.5
             },
             "pattern": {
              "fillmode": "overlay",
              "size": 10,
              "solidity": 0.2
             }
            },
            "type": "bar"
           }
          ],
          "barpolar": [
           {
            "marker": {
             "line": {
              "color": "#E5ECF6",
              "width": 0.5
             },
             "pattern": {
              "fillmode": "overlay",
              "size": 10,
              "solidity": 0.2
             }
            },
            "type": "barpolar"
           }
          ],
          "carpet": [
           {
            "aaxis": {
             "endlinecolor": "#2a3f5f",
             "gridcolor": "white",
             "linecolor": "white",
             "minorgridcolor": "white",
             "startlinecolor": "#2a3f5f"
            },
            "baxis": {
             "endlinecolor": "#2a3f5f",
             "gridcolor": "white",
             "linecolor": "white",
             "minorgridcolor": "white",
             "startlinecolor": "#2a3f5f"
            },
            "type": "carpet"
           }
          ],
          "choropleth": [
           {
            "colorbar": {
             "outlinewidth": 0,
             "ticks": ""
            },
            "type": "choropleth"
           }
          ],
          "contour": [
           {
            "colorbar": {
             "outlinewidth": 0,
             "ticks": ""
            },
            "colorscale": [
             [
              0,
              "#0d0887"
             ],
             [
              0.1111111111111111,
              "#46039f"
             ],
             [
              0.2222222222222222,
              "#7201a8"
             ],
             [
              0.3333333333333333,
              "#9c179e"
             ],
             [
              0.4444444444444444,
              "#bd3786"
             ],
             [
              0.5555555555555556,
              "#d8576b"
             ],
             [
              0.6666666666666666,
              "#ed7953"
             ],
             [
              0.7777777777777778,
              "#fb9f3a"
             ],
             [
              0.8888888888888888,
              "#fdca26"
             ],
             [
              1,
              "#f0f921"
             ]
            ],
            "type": "contour"
           }
          ],
          "contourcarpet": [
           {
            "colorbar": {
             "outlinewidth": 0,
             "ticks": ""
            },
            "type": "contourcarpet"
           }
          ],
          "heatmap": [
           {
            "colorbar": {
             "outlinewidth": 0,
             "ticks": ""
            },
            "colorscale": [
             [
              0,
              "#0d0887"
             ],
             [
              0.1111111111111111,
              "#46039f"
             ],
             [
              0.2222222222222222,
              "#7201a8"
             ],
             [
              0.3333333333333333,
              "#9c179e"
             ],
             [
              0.4444444444444444,
              "#bd3786"
             ],
             [
              0.5555555555555556,
              "#d8576b"
             ],
             [
              0.6666666666666666,
              "#ed7953"
             ],
             [
              0.7777777777777778,
              "#fb9f3a"
             ],
             [
              0.8888888888888888,
              "#fdca26"
             ],
             [
              1,
              "#f0f921"
             ]
            ],
            "type": "heatmap"
           }
          ],
          "heatmapgl": [
           {
            "colorbar": {
             "outlinewidth": 0,
             "ticks": ""
            },
            "colorscale": [
             [
              0,
              "#0d0887"
             ],
             [
              0.1111111111111111,
              "#46039f"
             ],
             [
              0.2222222222222222,
              "#7201a8"
             ],
             [
              0.3333333333333333,
              "#9c179e"
             ],
             [
              0.4444444444444444,
              "#bd3786"
             ],
             [
              0.5555555555555556,
              "#d8576b"
             ],
             [
              0.6666666666666666,
              "#ed7953"
             ],
             [
              0.7777777777777778,
              "#fb9f3a"
             ],
             [
              0.8888888888888888,
              "#fdca26"
             ],
             [
              1,
              "#f0f921"
             ]
            ],
            "type": "heatmapgl"
           }
          ],
          "histogram": [
           {
            "marker": {
             "pattern": {
              "fillmode": "overlay",
              "size": 10,
              "solidity": 0.2
             }
            },
            "type": "histogram"
           }
          ],
          "histogram2d": [
           {
            "colorbar": {
             "outlinewidth": 0,
             "ticks": ""
            },
            "colorscale": [
             [
              0,
              "#0d0887"
             ],
             [
              0.1111111111111111,
              "#46039f"
             ],
             [
              0.2222222222222222,
              "#7201a8"
             ],
             [
              0.3333333333333333,
              "#9c179e"
             ],
             [
              0.4444444444444444,
              "#bd3786"
             ],
             [
              0.5555555555555556,
              "#d8576b"
             ],
             [
              0.6666666666666666,
              "#ed7953"
             ],
             [
              0.7777777777777778,
              "#fb9f3a"
             ],
             [
              0.8888888888888888,
              "#fdca26"
             ],
             [
              1,
              "#f0f921"
             ]
            ],
            "type": "histogram2d"
           }
          ],
          "histogram2dcontour": [
           {
            "colorbar": {
             "outlinewidth": 0,
             "ticks": ""
            },
            "colorscale": [
             [
              0,
              "#0d0887"
             ],
             [
              0.1111111111111111,
              "#46039f"
             ],
             [
              0.2222222222222222,
              "#7201a8"
             ],
             [
              0.3333333333333333,
              "#9c179e"
             ],
             [
              0.4444444444444444,
              "#bd3786"
             ],
             [
              0.5555555555555556,
              "#d8576b"
             ],
             [
              0.6666666666666666,
              "#ed7953"
             ],
             [
              0.7777777777777778,
              "#fb9f3a"
             ],
             [
              0.8888888888888888,
              "#fdca26"
             ],
             [
              1,
              "#f0f921"
             ]
            ],
            "type": "histogram2dcontour"
           }
          ],
          "mesh3d": [
           {
            "colorbar": {
             "outlinewidth": 0,
             "ticks": ""
            },
            "type": "mesh3d"
           }
          ],
          "parcoords": [
           {
            "line": {
             "colorbar": {
              "outlinewidth": 0,
              "ticks": ""
             }
            },
            "type": "parcoords"
           }
          ],
          "pie": [
           {
            "automargin": true,
            "type": "pie"
           }
          ],
          "scatter": [
           {
            "fillpattern": {
             "fillmode": "overlay",
             "size": 10,
             "solidity": 0.2
            },
            "type": "scatter"
           }
          ],
          "scatter3d": [
           {
            "line": {
             "colorbar": {
              "outlinewidth": 0,
              "ticks": ""
             }
            },
            "marker": {
             "colorbar": {
              "outlinewidth": 0,
              "ticks": ""
             }
            },
            "type": "scatter3d"
           }
          ],
          "scattercarpet": [
           {
            "marker": {
             "colorbar": {
              "outlinewidth": 0,
              "ticks": ""
             }
            },
            "type": "scattercarpet"
           }
          ],
          "scattergeo": [
           {
            "marker": {
             "colorbar": {
              "outlinewidth": 0,
              "ticks": ""
             }
            },
            "type": "scattergeo"
           }
          ],
          "scattergl": [
           {
            "marker": {
             "colorbar": {
              "outlinewidth": 0,
              "ticks": ""
             }
            },
            "type": "scattergl"
           }
          ],
          "scattermapbox": [
           {
            "marker": {
             "colorbar": {
              "outlinewidth": 0,
              "ticks": ""
             }
            },
            "type": "scattermapbox"
           }
          ],
          "scatterpolar": [
           {
            "marker": {
             "colorbar": {
              "outlinewidth": 0,
              "ticks": ""
             }
            },
            "type": "scatterpolar"
           }
          ],
          "scatterpolargl": [
           {
            "marker": {
             "colorbar": {
              "outlinewidth": 0,
              "ticks": ""
             }
            },
            "type": "scatterpolargl"
           }
          ],
          "scatterternary": [
           {
            "marker": {
             "colorbar": {
              "outlinewidth": 0,
              "ticks": ""
             }
            },
            "type": "scatterternary"
           }
          ],
          "surface": [
           {
            "colorbar": {
             "outlinewidth": 0,
             "ticks": ""
            },
            "colorscale": [
             [
              0,
              "#0d0887"
             ],
             [
              0.1111111111111111,
              "#46039f"
             ],
             [
              0.2222222222222222,
              "#7201a8"
             ],
             [
              0.3333333333333333,
              "#9c179e"
             ],
             [
              0.4444444444444444,
              "#bd3786"
             ],
             [
              0.5555555555555556,
              "#d8576b"
             ],
             [
              0.6666666666666666,
              "#ed7953"
             ],
             [
              0.7777777777777778,
              "#fb9f3a"
             ],
             [
              0.8888888888888888,
              "#fdca26"
             ],
             [
              1,
              "#f0f921"
             ]
            ],
            "type": "surface"
           }
          ],
          "table": [
           {
            "cells": {
             "fill": {
              "color": "#EBF0F8"
             },
             "line": {
              "color": "white"
             }
            },
            "header": {
             "fill": {
              "color": "#C8D4E3"
             },
             "line": {
              "color": "white"
             }
            },
            "type": "table"
           }
          ]
         },
         "layout": {
          "annotationdefaults": {
           "arrowcolor": "#2a3f5f",
           "arrowhead": 0,
           "arrowwidth": 1
          },
          "autotypenumbers": "strict",
          "coloraxis": {
           "colorbar": {
            "outlinewidth": 0,
            "ticks": ""
           }
          },
          "colorscale": {
           "diverging": [
            [
             0,
             "#8e0152"
            ],
            [
             0.1,
             "#c51b7d"
            ],
            [
             0.2,
             "#de77ae"
            ],
            [
             0.3,
             "#f1b6da"
            ],
            [
             0.4,
             "#fde0ef"
            ],
            [
             0.5,
             "#f7f7f7"
            ],
            [
             0.6,
             "#e6f5d0"
            ],
            [
             0.7,
             "#b8e186"
            ],
            [
             0.8,
             "#7fbc41"
            ],
            [
             0.9,
             "#4d9221"
            ],
            [
             1,
             "#276419"
            ]
           ],
           "sequential": [
            [
             0,
             "#0d0887"
            ],
            [
             0.1111111111111111,
             "#46039f"
            ],
            [
             0.2222222222222222,
             "#7201a8"
            ],
            [
             0.3333333333333333,
             "#9c179e"
            ],
            [
             0.4444444444444444,
             "#bd3786"
            ],
            [
             0.5555555555555556,
             "#d8576b"
            ],
            [
             0.6666666666666666,
             "#ed7953"
            ],
            [
             0.7777777777777778,
             "#fb9f3a"
            ],
            [
             0.8888888888888888,
             "#fdca26"
            ],
            [
             1,
             "#f0f921"
            ]
           ],
           "sequentialminus": [
            [
             0,
             "#0d0887"
            ],
            [
             0.1111111111111111,
             "#46039f"
            ],
            [
             0.2222222222222222,
             "#7201a8"
            ],
            [
             0.3333333333333333,
             "#9c179e"
            ],
            [
             0.4444444444444444,
             "#bd3786"
            ],
            [
             0.5555555555555556,
             "#d8576b"
            ],
            [
             0.6666666666666666,
             "#ed7953"
            ],
            [
             0.7777777777777778,
             "#fb9f3a"
            ],
            [
             0.8888888888888888,
             "#fdca26"
            ],
            [
             1,
             "#f0f921"
            ]
           ]
          },
          "colorway": [
           "#636efa",
           "#EF553B",
           "#00cc96",
           "#ab63fa",
           "#FFA15A",
           "#19d3f3",
           "#FF6692",
           "#B6E880",
           "#FF97FF",
           "#FECB52"
          ],
          "font": {
           "color": "#2a3f5f"
          },
          "geo": {
           "bgcolor": "white",
           "lakecolor": "white",
           "landcolor": "#E5ECF6",
           "showlakes": true,
           "showland": true,
           "subunitcolor": "white"
          },
          "hoverlabel": {
           "align": "left"
          },
          "hovermode": "closest",
          "mapbox": {
           "style": "light"
          },
          "paper_bgcolor": "white",
          "plot_bgcolor": "#E5ECF6",
          "polar": {
           "angularaxis": {
            "gridcolor": "white",
            "linecolor": "white",
            "ticks": ""
           },
           "bgcolor": "#E5ECF6",
           "radialaxis": {
            "gridcolor": "white",
            "linecolor": "white",
            "ticks": ""
           }
          },
          "scene": {
           "xaxis": {
            "backgroundcolor": "#E5ECF6",
            "gridcolor": "white",
            "gridwidth": 2,
            "linecolor": "white",
            "showbackground": true,
            "ticks": "",
            "zerolinecolor": "white"
           },
           "yaxis": {
            "backgroundcolor": "#E5ECF6",
            "gridcolor": "white",
            "gridwidth": 2,
            "linecolor": "white",
            "showbackground": true,
            "ticks": "",
            "zerolinecolor": "white"
           },
           "zaxis": {
            "backgroundcolor": "#E5ECF6",
            "gridcolor": "white",
            "gridwidth": 2,
            "linecolor": "white",
            "showbackground": true,
            "ticks": "",
            "zerolinecolor": "white"
           }
          },
          "shapedefaults": {
           "line": {
            "color": "#2a3f5f"
           }
          },
          "ternary": {
           "aaxis": {
            "gridcolor": "white",
            "linecolor": "white",
            "ticks": ""
           },
           "baxis": {
            "gridcolor": "white",
            "linecolor": "white",
            "ticks": ""
           },
           "bgcolor": "#E5ECF6",
           "caxis": {
            "gridcolor": "white",
            "linecolor": "white",
            "ticks": ""
           }
          },
          "title": {
           "x": 0.05
          },
          "xaxis": {
           "automargin": true,
           "gridcolor": "white",
           "linecolor": "white",
           "ticks": "",
           "title": {
            "standoff": 15
           },
           "zerolinecolor": "white",
           "zerolinewidth": 2
          },
          "yaxis": {
           "automargin": true,
           "gridcolor": "white",
           "linecolor": "white",
           "ticks": "",
           "title": {
            "standoff": 15
           },
           "zerolinecolor": "white",
           "zerolinewidth": 2
          }
         }
        },
        "title": {
         "text": "Debias Methodologies impact on accuracy and statistical parity difference"
        },
        "xaxis": {
         "dtick": 0.1,
         "tick0": 0,
         "title": {
          "text": "Bias (statistical parity difference)"
         }
        },
        "yaxis": {
         "dtick": 0.1,
         "tick0": 0,
         "title": {
          "text": "Error (accuracy)"
         }
        }
       }
      }
     },
     "metadata": {},
     "output_type": "display_data"
    }
   ],
   "source": [
    "random_forest_bias.show_fairea_graph(\"accuracy\", \"statistical parity difference\")"
   ]
  },
  {
   "cell_type": "code",
   "execution_count": 23,
   "metadata": {},
   "outputs": [
    {
     "data": {
      "application/vnd.plotly.v1+json": {
       "config": {
        "plotlyServerURL": "https://plot.ly"
       },
       "data": [
        {
         "error_x": {
          "array": [
           -0.014669125690659417
          ],
          "type": "data"
         },
         "error_y": {
          "array": [
           -0.005270224000120782
          ],
          "type": "data"
         },
         "marker": {
          "color": "#E15F99"
         },
         "mode": "markers",
         "name": "reweighing outcome",
         "showlegend": true,
         "type": "scatter",
         "x": [
          0.12499537772027708
         ],
         "xaxis": "x",
         "y": [
          0.8607364412505373
         ],
         "yaxis": "y"
        },
        {
         "error_x": {
          "array": [
           -0.0058110928811675455
          ],
          "type": "data"
         },
         "error_y": {
          "array": [
           -0.004957473626694853
          ],
          "type": "data"
         },
         "marker": {
          "color": "#1CA71C"
         },
         "mode": "markers",
         "name": "calibrated equal odds using fpr cost outcome",
         "showlegend": true,
         "type": "scatter",
         "x": [
          0.18629912946334568
         ],
         "xaxis": "x",
         "y": [
          0.86242552668755
         ],
         "yaxis": "y"
        },
        {
         "error_x": {
          "array": [
           -0.015798763472345344
          ],
          "type": "data"
         },
         "error_y": {
          "array": [
           -0.0058497717361177815
          ],
          "type": "data"
         },
         "marker": {
          "color": "#FB0D0D"
         },
         "mode": "markers",
         "name": "calibrated equal odds using fnr cost outcome",
         "showlegend": true,
         "type": "scatter",
         "x": [
          0.1305233025677107
         ],
         "xaxis": "x",
         "y": [
          0.8634236226276026
         ],
         "yaxis": "y"
        },
        {
         "error_x": {
          "array": [
           -0.006067306794178967
          ],
          "type": "data"
         },
         "error_y": {
          "array": [
           -0.0047694124972306184
          ],
          "type": "data"
         },
         "marker": {
          "color": "#DA16FF"
         },
         "mode": "markers",
         "name": "calibrated equal odds using weighted cost outcome",
         "showlegend": true,
         "type": "scatter",
         "x": [
          0.18611984863480757
         ],
         "xaxis": "x",
         "y": [
          0.8632553282967877
         ],
         "yaxis": "y"
        },
        {
         "error_x": {
          "array": [
           -0.01593644325685055
          ],
          "type": "data"
         },
         "error_y": {
          "array": [
           -0.0057792125319097165
          ],
          "type": "data"
         },
         "marker": {
          "color": "#222A2A"
         },
         "mode": "markers",
         "name": "equal odds outcome",
         "showlegend": true,
         "type": "scatter",
         "x": [
          0.10850568277284957
         ],
         "xaxis": "x",
         "y": [
          0.862795282845034
         ],
         "yaxis": "y"
        },
        {
         "line": {
          "color": "#2E91E5"
         },
         "mode": "lines+markers+text",
         "name": "fairea baseline",
         "showlegend": true,
         "text": [
          "F_0",
          "F_10",
          "F_20",
          "F_30",
          "F_40",
          "F_50",
          "F_60",
          "F_70",
          "F_80",
          "F_90",
          "F_100"
         ],
         "textposition": "bottom right",
         "type": "scatter",
         "x": [
          0.13153366316698556,
          0.11865561466447005,
          0.10478255925418929,
          0.09185034906058193,
          0.07936776663277154,
          0.06552709097609065,
          0.052922554518159644,
          0.04006550536855555,
          0.02595754795230033,
          0.013092827447697897,
          0
         ],
         "xaxis": "x",
         "y": [
          0.8639518457097229,
          0.8540237086174067,
          0.8437159879614274,
          0.8340028253792764,
          0.8244211043547693,
          0.8135274246053682,
          0.8032270745040232,
          0.7934488053559364,
          0.7838351452613476,
          0.7737583686505742,
          0.7637737239727288
         ],
         "yaxis": "y"
        },
        {
         "error_x": {
          "array": [
           -0.05119168246872774
          ],
          "type": "data"
         },
         "error_y": {
          "array": [
           -0.005270224000120782
          ],
          "type": "data"
         },
         "marker": {
          "color": "#E15F99"
         },
         "mode": "markers",
         "name": "reweighing outcome",
         "showlegend": false,
         "type": "scatter",
         "x": [
          0.05342657562783528
         ],
         "xaxis": "x2",
         "y": [
          0.8607364412505373
         ],
         "yaxis": "y2"
        },
        {
         "error_x": {
          "array": [
           -0.007515199373606174
          ],
          "type": "data"
         },
         "error_y": {
          "array": [
           -0.004957473626694853
          ],
          "type": "data"
         },
         "marker": {
          "color": "#1CA71C"
         },
         "mode": "markers",
         "name": "calibrated equal odds using fpr cost outcome",
         "showlegend": false,
         "type": "scatter",
         "x": [
          0.3215720657854554
         ],
         "xaxis": "x2",
         "y": [
          0.86242552668755
         ],
         "yaxis": "y2"
        },
        {
         "error_x": {
          "array": [
           -0.05750649047104506
          ],
          "type": "data"
         },
         "error_y": {
          "array": [
           -0.0058497717361177815
          ],
          "type": "data"
         },
         "marker": {
          "color": "#FB0D0D"
         },
         "mode": "markers",
         "name": "calibrated equal odds using fnr cost outcome",
         "showlegend": false,
         "type": "scatter",
         "x": [
          0.06632829996391733
         ],
         "xaxis": "x2",
         "y": [
          0.8634236226276026
         ],
         "yaxis": "y2"
        },
        {
         "error_x": {
          "array": [
           -0.0081686742075181
          ],
          "type": "data"
         },
         "error_y": {
          "array": [
           -0.0047694124972306184
          ],
          "type": "data"
         },
         "marker": {
          "color": "#DA16FF"
         },
         "mode": "markers",
         "name": "calibrated equal odds using weighted cost outcome",
         "showlegend": false,
         "type": "scatter",
         "x": [
          0.32217538473254104
         ],
         "xaxis": "x2",
         "y": [
          0.8632553282967877
         ],
         "yaxis": "y2"
        },
        {
         "error_x": {
          "array": [
           -0.05116030035124883
          ],
          "type": "data"
         },
         "error_y": {
          "array": [
           -0.0057792125319097165
          ],
          "type": "data"
         },
         "marker": {
          "color": "#222A2A"
         },
         "mode": "markers",
         "name": "equal odds outcome",
         "showlegend": false,
         "type": "scatter",
         "x": [
          0.04713176194826316
         ],
         "xaxis": "x2",
         "y": [
          0.862795282845034
         ],
         "yaxis": "y2"
        },
        {
         "line": {
          "color": "#2E91E5"
         },
         "mode": "lines+markers+text",
         "name": "fairea baseline",
         "showlegend": false,
         "text": [
          "F_0",
          "F_10",
          "F_20",
          "F_30",
          "F_40",
          "F_50",
          "F_60",
          "F_70",
          "F_80",
          "F_90",
          "F_100"
         ],
         "textposition": "bottom right",
         "type": "scatter",
         "x": [
          0.0685830084977357,
          0.06369214478216093,
          0.05425564155486756,
          0.047239814974495246,
          0.039782283016360095,
          0.0326926823253849,
          0.03263965157390147,
          0.026984230604227673,
          0.019297769082038327,
          0.011059326583565933,
          0
         ],
         "xaxis": "x2",
         "y": [
          0.8639518457097229,
          0.8540237086174067,
          0.8437159879614274,
          0.8340028253792764,
          0.8244211043547693,
          0.8135274246053682,
          0.8032270745040232,
          0.7934488053559364,
          0.7838351452613476,
          0.7737583686505742,
          0.7637737239727288
         ],
         "yaxis": "y2"
        },
        {
         "error_x": {
          "array": [
           -0.1014136852908333
          ],
          "type": "data"
         },
         "error_y": {
          "array": [
           -0.005270224000120782
          ],
          "type": "data"
         },
         "marker": {
          "color": "#E15F99"
         },
         "mode": "markers",
         "name": "reweighing outcome",
         "showlegend": false,
         "type": "scatter",
         "x": [
          0.07628445237040411
         ],
         "xaxis": "x3",
         "y": [
          0.8607364412505373
         ],
         "yaxis": "y3"
        },
        {
         "error_x": {
          "array": [
           -0.014474828632257575
          ],
          "type": "data"
         },
         "error_y": {
          "array": [
           -0.004957473626694853
          ],
          "type": "data"
         },
         "marker": {
          "color": "#1CA71C"
         },
         "mode": "markers",
         "name": "calibrated equal odds using fpr cost outcome",
         "showlegend": false,
         "type": "scatter",
         "x": [
          0.5896589324327605
         ],
         "xaxis": "x3",
         "y": [
          0.86242552668755
         ],
         "yaxis": "y3"
        },
        {
         "error_x": {
          "array": [
           -0.11537876468176798
          ],
          "type": "data"
         },
         "error_y": {
          "array": [
           -0.0058497717361177815
          ],
          "type": "data"
         },
         "marker": {
          "color": "#FB0D0D"
         },
         "mode": "markers",
         "name": "calibrated equal odds using fnr cost outcome",
         "showlegend": false,
         "type": "scatter",
         "x": [
          0.1001192439079641
         ],
         "xaxis": "x3",
         "y": [
          0.8634236226276026
         ],
         "yaxis": "y3"
        },
        {
         "error_x": {
          "array": [
           -0.015375522322629398
          ],
          "type": "data"
         },
         "error_y": {
          "array": [
           -0.0047694124972306184
          ],
          "type": "data"
         },
         "marker": {
          "color": "#DA16FF"
         },
         "mode": "markers",
         "name": "calibrated equal odds using weighted cost outcome",
         "showlegend": false,
         "type": "scatter",
         "x": [
          0.5911256890019798
         ],
         "xaxis": "x3",
         "y": [
          0.8632553282967877
         ],
         "yaxis": "y3"
        },
        {
         "error_x": {
          "array": [
           -0.10168023853468197
          ],
          "type": "data"
         },
         "error_y": {
          "array": [
           -0.0057792125319097165
          ],
          "type": "data"
         },
         "marker": {
          "color": "#222A2A"
         },
         "mode": "markers",
         "name": "equal odds outcome",
         "showlegend": false,
         "type": "scatter",
         "x": [
          0.08342364473014083
         ],
         "xaxis": "x3",
         "y": [
          0.862795282845034
         ],
         "yaxis": "y3"
        },
        {
         "line": {
          "color": "#2E91E5"
         },
         "mode": "lines+markers+text",
         "name": "fairea baseline",
         "showlegend": false,
         "text": [
          "F_0",
          "F_10",
          "F_20",
          "F_30",
          "F_40",
          "F_50",
          "F_60",
          "F_70",
          "F_80",
          "F_90",
          "F_100"
         ],
         "textposition": "bottom right",
         "type": "scatter",
         "x": [
          0.10440457908697472,
          0.09803769370375542,
          0.08252631578947367,
          0.07163758201870724,
          0.05932360742705571,
          0.04852882870305738,
          0.051689515566103586,
          0.04384629345246404,
          0.03196481920982829,
          0.018721485411140586,
          0
         ],
         "xaxis": "x3",
         "y": [
          0.8639518457097229,
          0.8540237086174067,
          0.8437159879614274,
          0.8340028253792764,
          0.8244211043547693,
          0.8135274246053682,
          0.8032270745040232,
          0.7934488053559364,
          0.7838351452613476,
          0.7737583686505742,
          0.7637737239727288
         ],
         "yaxis": "y3"
        },
        {
         "error_x": {
          "array": [
           -0.012954617921213399
          ],
          "type": "data"
         },
         "error_y": {
          "array": [
           -0.005270224000120782
          ],
          "type": "data"
         },
         "marker": {
          "color": "#E15F99"
         },
         "mode": "markers",
         "name": "reweighing outcome",
         "showlegend": false,
         "type": "scatter",
         "x": [
          0.08512966543149375
         ],
         "xaxis": "x4",
         "y": [
          0.8607364412505373
         ],
         "yaxis": "y4"
        },
        {
         "error_x": {
          "array": [
           -0.01673170986549556
          ],
          "type": "data"
         },
         "error_y": {
          "array": [
           -0.004957473626694853
          ],
          "type": "data"
         },
         "marker": {
          "color": "#1CA71C"
         },
         "mode": "markers",
         "name": "calibrated equal odds using fpr cost outcome",
         "showlegend": false,
         "type": "scatter",
         "x": [
          0.06786599402009061
         ],
         "xaxis": "x4",
         "y": [
          0.86242552668755
         ],
         "yaxis": "y4"
        },
        {
         "error_x": {
          "array": [
           -0.01484884783771774
          ],
          "type": "data"
         },
         "error_y": {
          "array": [
           -0.0058497717361177815
          ],
          "type": "data"
         },
         "marker": {
          "color": "#FB0D0D"
         },
         "mode": "markers",
         "name": "calibrated equal odds using fnr cost outcome",
         "showlegend": false,
         "type": "scatter",
         "x": [
          0.08550626235703675
         ],
         "xaxis": "x4",
         "y": [
          0.8634236226276026
         ],
         "yaxis": "y4"
        },
        {
         "error_x": {
          "array": [
           -0.018091225193089536
          ],
          "type": "data"
         },
         "error_y": {
          "array": [
           -0.0047694124972306184
          ],
          "type": "data"
         },
         "marker": {
          "color": "#DA16FF"
         },
         "mode": "markers",
         "name": "calibrated equal odds using weighted cost outcome",
         "showlegend": false,
         "type": "scatter",
         "x": [
          0.06829081163739964
         ],
         "xaxis": "x4",
         "y": [
          0.8632553282967877
         ],
         "yaxis": "y4"
        },
        {
         "error_x": {
          "array": [
           -0.017161535511095935
          ],
          "type": "data"
         },
         "error_y": {
          "array": [
           -0.0057792125319097165
          ],
          "type": "data"
         },
         "marker": {
          "color": "#222A2A"
         },
         "mode": "markers",
         "name": "equal odds outcome",
         "showlegend": false,
         "type": "scatter",
         "x": [
          0.06484613527683707
         ],
         "xaxis": "x4",
         "y": [
          0.862795282845034
         ],
         "yaxis": "y4"
        },
        {
         "line": {
          "color": "#2E91E5"
         },
         "mode": "lines+markers+text",
         "name": "fairea baseline",
         "showlegend": false,
         "text": [
          "F_0",
          "F_10",
          "F_20",
          "F_30",
          "F_40",
          "F_50",
          "F_60",
          "F_70",
          "F_80",
          "F_90",
          "F_100"
         ],
         "textposition": "bottom right",
         "type": "scatter",
         "x": [
          0.08447361056413193,
          0.09287042020233229,
          0.10241481794777955,
          0.1114273380347503,
          0.12097984274861938,
          0.13016040704528734,
          0.1386660871150868,
          0.1470059289013044,
          0.15651007545989506,
          0.16525117799240463,
          0.17393512145889978
         ],
         "xaxis": "x4",
         "y": [
          0.8639518457097229,
          0.8540237086174067,
          0.8437159879614274,
          0.8340028253792764,
          0.8244211043547693,
          0.8135274246053682,
          0.8032270745040232,
          0.7934488053559364,
          0.7838351452613476,
          0.7737583686505742,
          0.7637737239727288
         ],
         "yaxis": "y4"
        },
        {
         "error_x": {
          "array": [
           -0.014669125690659417
          ],
          "type": "data"
         },
         "error_y": {
          "array": [
           -0.016887308196438022
          ],
          "type": "data"
         },
         "marker": {
          "color": "#E15F99"
         },
         "mode": "markers",
         "name": "reweighing outcome",
         "showlegend": false,
         "type": "scatter",
         "x": [
          0.12499537772027708
         ],
         "xaxis": "x5",
         "y": [
          0.5826584680301297
         ],
         "yaxis": "y5"
        },
        {
         "error_x": {
          "array": [
           -0.0058110928811675455
          ],
          "type": "data"
         },
         "error_y": {
          "array": [
           -0.014323388077757127
          ],
          "type": "data"
         },
         "marker": {
          "color": "#1CA71C"
         },
         "mode": "markers",
         "name": "calibrated equal odds using fpr cost outcome",
         "showlegend": false,
         "type": "scatter",
         "x": [
          0.18629912946334568
         ],
         "xaxis": "x5",
         "y": [
          0.5779396604427244
         ],
         "yaxis": "y5"
        },
        {
         "error_x": {
          "array": [
           -0.015798763472345344
          ],
          "type": "data"
         },
         "error_y": {
          "array": [
           -0.016643783540469692
          ],
          "type": "data"
         },
         "marker": {
          "color": "#FB0D0D"
         },
         "mode": "markers",
         "name": "calibrated equal odds using fnr cost outcome",
         "showlegend": false,
         "type": "scatter",
         "x": [
          0.1305233025677107
         ],
         "xaxis": "x5",
         "y": [
          0.585934371032171
         ],
         "yaxis": "y5"
        },
        {
         "error_x": {
          "array": [
           -0.006067306794178967
          ],
          "type": "data"
         },
         "error_y": {
          "array": [
           -0.015001666170879502
          ],
          "type": "data"
         },
         "marker": {
          "color": "#DA16FF"
         },
         "mode": "markers",
         "name": "calibrated equal odds using weighted cost outcome",
         "showlegend": false,
         "type": "scatter",
         "x": [
          0.18611984863480757
         ],
         "xaxis": "x5",
         "y": [
          0.5795104787641233
         ],
         "yaxis": "y5"
        },
        {
         "error_x": {
          "array": [
           -0.01593644325685055
          ],
          "type": "data"
         },
         "error_y": {
          "array": [
           -0.015685417376255728
          ],
          "type": "data"
         },
         "marker": {
          "color": "#222A2A"
         },
         "mode": "markers",
         "name": "equal odds outcome",
         "showlegend": false,
         "type": "scatter",
         "x": [
          0.10850568277284957
         ],
         "xaxis": "x5",
         "y": [
          0.5901610698185249
         ],
         "yaxis": "y5"
        },
        {
         "line": {
          "color": "#2E91E5"
         },
         "mode": "lines+markers+text",
         "name": "fairea baseline",
         "showlegend": false,
         "text": [
          "F_0",
          "F_10",
          "F_20",
          "F_30",
          "F_40",
          "F_50",
          "F_60",
          "F_70",
          "F_80",
          "F_90",
          "F_100"
         ],
         "textposition": "bottom right",
         "type": "scatter",
         "x": [
          0.13153366316698556,
          0.11865561466447005,
          0.10478255925418929,
          0.09185034906058193,
          0.07936776663277154,
          0.06552709097609065,
          0.052922554518159644,
          0.04006550536855555,
          0.02595754795230033,
          0.013092827447697897,
          0
         ],
         "xaxis": "x5",
         "y": [
          0.5891835673426938,
          0.5308372334893396,
          0.4703692147685908,
          0.41232969318772755,
          0.35484659386375456,
          0.2945917836713469,
          0.23362974518980756,
          0.17535621424856995,
          0.11817992719708786,
          0.0588507540301612,
          0
         ],
         "yaxis": "y5"
        },
        {
         "error_x": {
          "array": [
           -0.05119168246872774
          ],
          "type": "data"
         },
         "error_y": {
          "array": [
           -0.016887308196438022
          ],
          "type": "data"
         },
         "marker": {
          "color": "#E15F99"
         },
         "mode": "markers",
         "name": "reweighing outcome",
         "showlegend": false,
         "type": "scatter",
         "x": [
          0.05342657562783528
         ],
         "xaxis": "x6",
         "y": [
          0.5826584680301297
         ],
         "yaxis": "y6"
        },
        {
         "error_x": {
          "array": [
           -0.007515199373606174
          ],
          "type": "data"
         },
         "error_y": {
          "array": [
           -0.014323388077757127
          ],
          "type": "data"
         },
         "marker": {
          "color": "#1CA71C"
         },
         "mode": "markers",
         "name": "calibrated equal odds using fpr cost outcome",
         "showlegend": false,
         "type": "scatter",
         "x": [
          0.3215720657854554
         ],
         "xaxis": "x6",
         "y": [
          0.5779396604427244
         ],
         "yaxis": "y6"
        },
        {
         "error_x": {
          "array": [
           -0.05750649047104506
          ],
          "type": "data"
         },
         "error_y": {
          "array": [
           -0.016643783540469692
          ],
          "type": "data"
         },
         "marker": {
          "color": "#FB0D0D"
         },
         "mode": "markers",
         "name": "calibrated equal odds using fnr cost outcome",
         "showlegend": false,
         "type": "scatter",
         "x": [
          0.06632829996391733
         ],
         "xaxis": "x6",
         "y": [
          0.585934371032171
         ],
         "yaxis": "y6"
        },
        {
         "error_x": {
          "array": [
           -0.0081686742075181
          ],
          "type": "data"
         },
         "error_y": {
          "array": [
           -0.015001666170879502
          ],
          "type": "data"
         },
         "marker": {
          "color": "#DA16FF"
         },
         "mode": "markers",
         "name": "calibrated equal odds using weighted cost outcome",
         "showlegend": false,
         "type": "scatter",
         "x": [
          0.32217538473254104
         ],
         "xaxis": "x6",
         "y": [
          0.5795104787641233
         ],
         "yaxis": "y6"
        },
        {
         "error_x": {
          "array": [
           -0.05116030035124883
          ],
          "type": "data"
         },
         "error_y": {
          "array": [
           -0.015685417376255728
          ],
          "type": "data"
         },
         "marker": {
          "color": "#222A2A"
         },
         "mode": "markers",
         "name": "equal odds outcome",
         "showlegend": false,
         "type": "scatter",
         "x": [
          0.04713176194826316
         ],
         "xaxis": "x6",
         "y": [
          0.5901610698185249
         ],
         "yaxis": "y6"
        },
        {
         "line": {
          "color": "#2E91E5"
         },
         "mode": "lines+markers+text",
         "name": "fairea baseline",
         "showlegend": false,
         "text": [
          "F_0",
          "F_10",
          "F_20",
          "F_30",
          "F_40",
          "F_50",
          "F_60",
          "F_70",
          "F_80",
          "F_90",
          "F_100"
         ],
         "textposition": "bottom right",
         "type": "scatter",
         "x": [
          0.0685830084977357,
          0.06369214478216093,
          0.05425564155486756,
          0.047239814974495246,
          0.039782283016360095,
          0.0326926823253849,
          0.03263965157390147,
          0.026984230604227673,
          0.019297769082038327,
          0.011059326583565933,
          0
         ],
         "xaxis": "x6",
         "y": [
          0.5891835673426938,
          0.5308372334893396,
          0.4703692147685908,
          0.41232969318772755,
          0.35484659386375456,
          0.2945917836713469,
          0.23362974518980756,
          0.17535621424856995,
          0.11817992719708786,
          0.0588507540301612,
          0
         ],
         "yaxis": "y6"
        },
        {
         "error_x": {
          "array": [
           -0.1014136852908333
          ],
          "type": "data"
         },
         "error_y": {
          "array": [
           -0.016887308196438022
          ],
          "type": "data"
         },
         "marker": {
          "color": "#E15F99"
         },
         "mode": "markers",
         "name": "reweighing outcome",
         "showlegend": false,
         "type": "scatter",
         "x": [
          0.07628445237040411
         ],
         "xaxis": "x7",
         "y": [
          0.5826584680301297
         ],
         "yaxis": "y7"
        },
        {
         "error_x": {
          "array": [
           -0.014474828632257575
          ],
          "type": "data"
         },
         "error_y": {
          "array": [
           -0.014323388077757127
          ],
          "type": "data"
         },
         "marker": {
          "color": "#1CA71C"
         },
         "mode": "markers",
         "name": "calibrated equal odds using fpr cost outcome",
         "showlegend": false,
         "type": "scatter",
         "x": [
          0.5896589324327605
         ],
         "xaxis": "x7",
         "y": [
          0.5779396604427244
         ],
         "yaxis": "y7"
        },
        {
         "error_x": {
          "array": [
           -0.11537876468176798
          ],
          "type": "data"
         },
         "error_y": {
          "array": [
           -0.016643783540469692
          ],
          "type": "data"
         },
         "marker": {
          "color": "#FB0D0D"
         },
         "mode": "markers",
         "name": "calibrated equal odds using fnr cost outcome",
         "showlegend": false,
         "type": "scatter",
         "x": [
          0.1001192439079641
         ],
         "xaxis": "x7",
         "y": [
          0.585934371032171
         ],
         "yaxis": "y7"
        },
        {
         "error_x": {
          "array": [
           -0.015375522322629398
          ],
          "type": "data"
         },
         "error_y": {
          "array": [
           -0.015001666170879502
          ],
          "type": "data"
         },
         "marker": {
          "color": "#DA16FF"
         },
         "mode": "markers",
         "name": "calibrated equal odds using weighted cost outcome",
         "showlegend": false,
         "type": "scatter",
         "x": [
          0.5911256890019798
         ],
         "xaxis": "x7",
         "y": [
          0.5795104787641233
         ],
         "yaxis": "y7"
        },
        {
         "error_x": {
          "array": [
           -0.10168023853468197
          ],
          "type": "data"
         },
         "error_y": {
          "array": [
           -0.015685417376255728
          ],
          "type": "data"
         },
         "marker": {
          "color": "#222A2A"
         },
         "mode": "markers",
         "name": "equal odds outcome",
         "showlegend": false,
         "type": "scatter",
         "x": [
          0.08342364473014083
         ],
         "xaxis": "x7",
         "y": [
          0.5901610698185249
         ],
         "yaxis": "y7"
        },
        {
         "line": {
          "color": "#2E91E5"
         },
         "mode": "lines+markers+text",
         "name": "fairea baseline",
         "showlegend": false,
         "text": [
          "F_0",
          "F_10",
          "F_20",
          "F_30",
          "F_40",
          "F_50",
          "F_60",
          "F_70",
          "F_80",
          "F_90",
          "F_100"
         ],
         "textposition": "bottom right",
         "type": "scatter",
         "x": [
          0.10440457908697472,
          0.09803769370375542,
          0.08252631578947367,
          0.07163758201870724,
          0.05932360742705571,
          0.04852882870305738,
          0.051689515566103586,
          0.04384629345246404,
          0.03196481920982829,
          0.018721485411140586,
          0
         ],
         "xaxis": "x7",
         "y": [
          0.5891835673426938,
          0.5308372334893396,
          0.4703692147685908,
          0.41232969318772755,
          0.35484659386375456,
          0.2945917836713469,
          0.23362974518980756,
          0.17535621424856995,
          0.11817992719708786,
          0.0588507540301612,
          0
         ],
         "yaxis": "y7"
        },
        {
         "error_x": {
          "array": [
           -0.012954617921213399
          ],
          "type": "data"
         },
         "error_y": {
          "array": [
           -0.016887308196438022
          ],
          "type": "data"
         },
         "marker": {
          "color": "#E15F99"
         },
         "mode": "markers",
         "name": "reweighing outcome",
         "showlegend": false,
         "type": "scatter",
         "x": [
          0.08512966543149375
         ],
         "xaxis": "x8",
         "y": [
          0.5826584680301297
         ],
         "yaxis": "y8"
        },
        {
         "error_x": {
          "array": [
           -0.01673170986549556
          ],
          "type": "data"
         },
         "error_y": {
          "array": [
           -0.014323388077757127
          ],
          "type": "data"
         },
         "marker": {
          "color": "#1CA71C"
         },
         "mode": "markers",
         "name": "calibrated equal odds using fpr cost outcome",
         "showlegend": false,
         "type": "scatter",
         "x": [
          0.06786599402009061
         ],
         "xaxis": "x8",
         "y": [
          0.5779396604427244
         ],
         "yaxis": "y8"
        },
        {
         "error_x": {
          "array": [
           -0.01484884783771774
          ],
          "type": "data"
         },
         "error_y": {
          "array": [
           -0.016643783540469692
          ],
          "type": "data"
         },
         "marker": {
          "color": "#FB0D0D"
         },
         "mode": "markers",
         "name": "calibrated equal odds using fnr cost outcome",
         "showlegend": false,
         "type": "scatter",
         "x": [
          0.08550626235703675
         ],
         "xaxis": "x8",
         "y": [
          0.585934371032171
         ],
         "yaxis": "y8"
        },
        {
         "error_x": {
          "array": [
           -0.018091225193089536
          ],
          "type": "data"
         },
         "error_y": {
          "array": [
           -0.015001666170879502
          ],
          "type": "data"
         },
         "marker": {
          "color": "#DA16FF"
         },
         "mode": "markers",
         "name": "calibrated equal odds using weighted cost outcome",
         "showlegend": false,
         "type": "scatter",
         "x": [
          0.06829081163739964
         ],
         "xaxis": "x8",
         "y": [
          0.5795104787641233
         ],
         "yaxis": "y8"
        },
        {
         "error_x": {
          "array": [
           -0.017161535511095935
          ],
          "type": "data"
         },
         "error_y": {
          "array": [
           -0.015685417376255728
          ],
          "type": "data"
         },
         "marker": {
          "color": "#222A2A"
         },
         "mode": "markers",
         "name": "equal odds outcome",
         "showlegend": false,
         "type": "scatter",
         "x": [
          0.06484613527683707
         ],
         "xaxis": "x8",
         "y": [
          0.5901610698185249
         ],
         "yaxis": "y8"
        },
        {
         "line": {
          "color": "#2E91E5"
         },
         "mode": "lines+markers+text",
         "name": "fairea baseline",
         "showlegend": false,
         "text": [
          "F_0",
          "F_10",
          "F_20",
          "F_30",
          "F_40",
          "F_50",
          "F_60",
          "F_70",
          "F_80",
          "F_90",
          "F_100"
         ],
         "textposition": "bottom right",
         "type": "scatter",
         "x": [
          0.08447361056413193,
          0.09287042020233229,
          0.10241481794777955,
          0.1114273380347503,
          0.12097984274861938,
          0.13016040704528734,
          0.1386660871150868,
          0.1470059289013044,
          0.15651007545989506,
          0.16525117799240463,
          0.17393512145889978
         ],
         "xaxis": "x8",
         "y": [
          0.5891835673426938,
          0.5308372334893396,
          0.4703692147685908,
          0.41232969318772755,
          0.35484659386375456,
          0.2945917836713469,
          0.23362974518980756,
          0.17535621424856995,
          0.11817992719708786,
          0.0588507540301612,
          0
         ],
         "yaxis": "y8"
        },
        {
         "error_x": {
          "array": [
           -0.014669125690659417
          ],
          "type": "data"
         },
         "error_y": {
          "array": [
           -0.004113098586574493
          ],
          "type": "data"
         },
         "marker": {
          "color": "#E15F99"
         },
         "mode": "markers",
         "name": "reweighing outcome",
         "showlegend": false,
         "type": "scatter",
         "x": [
          0.12499537772027708
         ],
         "xaxis": "x9",
         "y": [
          0.9468802717553626
         ],
         "yaxis": "y9"
        },
        {
         "error_x": {
          "array": [
           -0.0058110928811675455
          ],
          "type": "data"
         },
         "error_y": {
          "array": [
           -0.003559321343243105
          ],
          "type": "data"
         },
         "marker": {
          "color": "#1CA71C"
         },
         "mode": "markers",
         "name": "calibrated equal odds using fpr cost outcome",
         "showlegend": false,
         "type": "scatter",
         "x": [
          0.18629912946334568
         ],
         "xaxis": "x9",
         "y": [
          0.9506354971888734
         ],
         "yaxis": "y9"
        },
        {
         "error_x": {
          "array": [
           -0.015798763472345344
          ],
          "type": "data"
         },
         "error_y": {
          "array": [
           -0.0036429466616745287
          ],
          "type": "data"
         },
         "marker": {
          "color": "#FB0D0D"
         },
         "mode": "markers",
         "name": "calibrated equal odds using fnr cost outcome",
         "showlegend": false,
         "type": "scatter",
         "x": [
          0.1305233025677107
         ],
         "xaxis": "x9",
         "y": [
          0.9492070805695227
         ],
         "yaxis": "y9"
        },
        {
         "error_x": {
          "array": [
           -0.006067306794178967
          ],
          "type": "data"
         },
         "error_y": {
          "array": [
           -0.0038735726023299
          ],
          "type": "data"
         },
         "marker": {
          "color": "#DA16FF"
         },
         "mode": "markers",
         "name": "calibrated equal odds using weighted cost outcome",
         "showlegend": false,
         "type": "scatter",
         "x": [
          0.18611984863480757
         ],
         "xaxis": "x9",
         "y": [
          0.9508882555332084
         ],
         "yaxis": "y9"
        },
        {
         "error_x": {
          "array": [
           -0.01593644325685055
          ],
          "type": "data"
         },
         "error_y": {
          "array": [
           -0.0033056860947885403
          ],
          "type": "data"
         },
         "marker": {
          "color": "#222A2A"
         },
         "mode": "markers",
         "name": "equal odds outcome",
         "showlegend": false,
         "type": "scatter",
         "x": [
          0.10850568277284957
         ],
         "xaxis": "x9",
         "y": [
          0.9470605001495882
         ],
         "yaxis": "y9"
        },
        {
         "line": {
          "color": "#2E91E5"
         },
         "mode": "lines+markers+text",
         "name": "fairea baseline",
         "showlegend": false,
         "text": [
          "F_0",
          "F_10",
          "F_20",
          "F_30",
          "F_40",
          "F_50",
          "F_60",
          "F_70",
          "F_80",
          "F_90",
          "F_100"
         ],
         "textposition": "bottom right",
         "type": "scatter",
         "x": [
          0.13153366316698556,
          0.11865561466447005,
          0.10478255925418929,
          0.09185034906058193,
          0.07936776663277154,
          0.06552709097609065,
          0.052922554518159644,
          0.04006550536855555,
          0.02595754795230033,
          0.013092827447697897,
          0
         ],
         "xaxis": "x9",
         "y": [
          0.9489344591877763,
          0.9539815038198632,
          0.9591877764374749,
          0.964421391234419,
          0.9696550060313629,
          0.9740281463610776,
          0.9793968636911943,
          0.984617611580217,
          0.9897145154804986,
          0.9948709288299158,
          1
         ],
         "yaxis": "y9"
        },
        {
         "error_x": {
          "array": [
           -0.05119168246872774
          ],
          "type": "data"
         },
         "error_y": {
          "array": [
           -0.004113098586574493
          ],
          "type": "data"
         },
         "marker": {
          "color": "#E15F99"
         },
         "mode": "markers",
         "name": "reweighing outcome",
         "showlegend": false,
         "type": "scatter",
         "x": [
          0.05342657562783528
         ],
         "xaxis": "x10",
         "y": [
          0.9468802717553626
         ],
         "yaxis": "y10"
        },
        {
         "error_x": {
          "array": [
           -0.007515199373606174
          ],
          "type": "data"
         },
         "error_y": {
          "array": [
           -0.003559321343243105
          ],
          "type": "data"
         },
         "marker": {
          "color": "#1CA71C"
         },
         "mode": "markers",
         "name": "calibrated equal odds using fpr cost outcome",
         "showlegend": false,
         "type": "scatter",
         "x": [
          0.3215720657854554
         ],
         "xaxis": "x10",
         "y": [
          0.9506354971888734
         ],
         "yaxis": "y10"
        },
        {
         "error_x": {
          "array": [
           -0.05750649047104506
          ],
          "type": "data"
         },
         "error_y": {
          "array": [
           -0.0036429466616745287
          ],
          "type": "data"
         },
         "marker": {
          "color": "#FB0D0D"
         },
         "mode": "markers",
         "name": "calibrated equal odds using fnr cost outcome",
         "showlegend": false,
         "type": "scatter",
         "x": [
          0.06632829996391733
         ],
         "xaxis": "x10",
         "y": [
          0.9492070805695227
         ],
         "yaxis": "y10"
        },
        {
         "error_x": {
          "array": [
           -0.0081686742075181
          ],
          "type": "data"
         },
         "error_y": {
          "array": [
           -0.0038735726023299
          ],
          "type": "data"
         },
         "marker": {
          "color": "#DA16FF"
         },
         "mode": "markers",
         "name": "calibrated equal odds using weighted cost outcome",
         "showlegend": false,
         "type": "scatter",
         "x": [
          0.32217538473254104
         ],
         "xaxis": "x10",
         "y": [
          0.9508882555332084
         ],
         "yaxis": "y10"
        },
        {
         "error_x": {
          "array": [
           -0.05116030035124883
          ],
          "type": "data"
         },
         "error_y": {
          "array": [
           -0.0033056860947885403
          ],
          "type": "data"
         },
         "marker": {
          "color": "#222A2A"
         },
         "mode": "markers",
         "name": "equal odds outcome",
         "showlegend": false,
         "type": "scatter",
         "x": [
          0.04713176194826316
         ],
         "xaxis": "x10",
         "y": [
          0.9470605001495882
         ],
         "yaxis": "y10"
        },
        {
         "line": {
          "color": "#2E91E5"
         },
         "mode": "lines+markers+text",
         "name": "fairea baseline",
         "showlegend": false,
         "text": [
          "F_0",
          "F_10",
          "F_20",
          "F_30",
          "F_40",
          "F_50",
          "F_60",
          "F_70",
          "F_80",
          "F_90",
          "F_100"
         ],
         "textposition": "bottom right",
         "type": "scatter",
         "x": [
          0.0685830084977357,
          0.06369214478216093,
          0.05425564155486756,
          0.047239814974495246,
          0.039782283016360095,
          0.0326926823253849,
          0.03263965157390147,
          0.026984230604227673,
          0.019297769082038327,
          0.011059326583565933,
          0
         ],
         "xaxis": "x10",
         "y": [
          0.9489344591877763,
          0.9539815038198632,
          0.9591877764374749,
          0.964421391234419,
          0.9696550060313629,
          0.9740281463610776,
          0.9793968636911943,
          0.984617611580217,
          0.9897145154804986,
          0.9948709288299158,
          1
         ],
         "yaxis": "y10"
        },
        {
         "error_x": {
          "array": [
           -0.1014136852908333
          ],
          "type": "data"
         },
         "error_y": {
          "array": [
           -0.004113098586574493
          ],
          "type": "data"
         },
         "marker": {
          "color": "#E15F99"
         },
         "mode": "markers",
         "name": "reweighing outcome",
         "showlegend": false,
         "type": "scatter",
         "x": [
          0.07628445237040411
         ],
         "xaxis": "x11",
         "y": [
          0.9468802717553626
         ],
         "yaxis": "y11"
        },
        {
         "error_x": {
          "array": [
           -0.014474828632257575
          ],
          "type": "data"
         },
         "error_y": {
          "array": [
           -0.003559321343243105
          ],
          "type": "data"
         },
         "marker": {
          "color": "#1CA71C"
         },
         "mode": "markers",
         "name": "calibrated equal odds using fpr cost outcome",
         "showlegend": false,
         "type": "scatter",
         "x": [
          0.5896589324327605
         ],
         "xaxis": "x11",
         "y": [
          0.9506354971888734
         ],
         "yaxis": "y11"
        },
        {
         "error_x": {
          "array": [
           -0.11537876468176798
          ],
          "type": "data"
         },
         "error_y": {
          "array": [
           -0.0036429466616745287
          ],
          "type": "data"
         },
         "marker": {
          "color": "#FB0D0D"
         },
         "mode": "markers",
         "name": "calibrated equal odds using fnr cost outcome",
         "showlegend": false,
         "type": "scatter",
         "x": [
          0.1001192439079641
         ],
         "xaxis": "x11",
         "y": [
          0.9492070805695227
         ],
         "yaxis": "y11"
        },
        {
         "error_x": {
          "array": [
           -0.015375522322629398
          ],
          "type": "data"
         },
         "error_y": {
          "array": [
           -0.0038735726023299
          ],
          "type": "data"
         },
         "marker": {
          "color": "#DA16FF"
         },
         "mode": "markers",
         "name": "calibrated equal odds using weighted cost outcome",
         "showlegend": false,
         "type": "scatter",
         "x": [
          0.5911256890019798
         ],
         "xaxis": "x11",
         "y": [
          0.9508882555332084
         ],
         "yaxis": "y11"
        },
        {
         "error_x": {
          "array": [
           -0.10168023853468197
          ],
          "type": "data"
         },
         "error_y": {
          "array": [
           -0.0033056860947885403
          ],
          "type": "data"
         },
         "marker": {
          "color": "#222A2A"
         },
         "mode": "markers",
         "name": "equal odds outcome",
         "showlegend": false,
         "type": "scatter",
         "x": [
          0.08342364473014083
         ],
         "xaxis": "x11",
         "y": [
          0.9470605001495882
         ],
         "yaxis": "y11"
        },
        {
         "line": {
          "color": "#2E91E5"
         },
         "mode": "lines+markers+text",
         "name": "fairea baseline",
         "showlegend": false,
         "text": [
          "F_0",
          "F_10",
          "F_20",
          "F_30",
          "F_40",
          "F_50",
          "F_60",
          "F_70",
          "F_80",
          "F_90",
          "F_100"
         ],
         "textposition": "bottom right",
         "type": "scatter",
         "x": [
          0.10440457908697472,
          0.09803769370375542,
          0.08252631578947367,
          0.07163758201870724,
          0.05932360742705571,
          0.04852882870305738,
          0.051689515566103586,
          0.04384629345246404,
          0.03196481920982829,
          0.018721485411140586,
          0
         ],
         "xaxis": "x11",
         "y": [
          0.9489344591877763,
          0.9539815038198632,
          0.9591877764374749,
          0.964421391234419,
          0.9696550060313629,
          0.9740281463610776,
          0.9793968636911943,
          0.984617611580217,
          0.9897145154804986,
          0.9948709288299158,
          1
         ],
         "yaxis": "y11"
        },
        {
         "error_x": {
          "array": [
           -0.012954617921213399
          ],
          "type": "data"
         },
         "error_y": {
          "array": [
           -0.004113098586574493
          ],
          "type": "data"
         },
         "marker": {
          "color": "#E15F99"
         },
         "mode": "markers",
         "name": "reweighing outcome",
         "showlegend": false,
         "type": "scatter",
         "x": [
          0.08512966543149375
         ],
         "xaxis": "x12",
         "y": [
          0.9468802717553626
         ],
         "yaxis": "y12"
        },
        {
         "error_x": {
          "array": [
           -0.01673170986549556
          ],
          "type": "data"
         },
         "error_y": {
          "array": [
           -0.003559321343243105
          ],
          "type": "data"
         },
         "marker": {
          "color": "#1CA71C"
         },
         "mode": "markers",
         "name": "calibrated equal odds using fpr cost outcome",
         "showlegend": false,
         "type": "scatter",
         "x": [
          0.06786599402009061
         ],
         "xaxis": "x12",
         "y": [
          0.9506354971888734
         ],
         "yaxis": "y12"
        },
        {
         "error_x": {
          "array": [
           -0.01484884783771774
          ],
          "type": "data"
         },
         "error_y": {
          "array": [
           -0.0036429466616745287
          ],
          "type": "data"
         },
         "marker": {
          "color": "#FB0D0D"
         },
         "mode": "markers",
         "name": "calibrated equal odds using fnr cost outcome",
         "showlegend": false,
         "type": "scatter",
         "x": [
          0.08550626235703675
         ],
         "xaxis": "x12",
         "y": [
          0.9492070805695227
         ],
         "yaxis": "y12"
        },
        {
         "error_x": {
          "array": [
           -0.018091225193089536
          ],
          "type": "data"
         },
         "error_y": {
          "array": [
           -0.0038735726023299
          ],
          "type": "data"
         },
         "marker": {
          "color": "#DA16FF"
         },
         "mode": "markers",
         "name": "calibrated equal odds using weighted cost outcome",
         "showlegend": false,
         "type": "scatter",
         "x": [
          0.06829081163739964
         ],
         "xaxis": "x12",
         "y": [
          0.9508882555332084
         ],
         "yaxis": "y12"
        },
        {
         "error_x": {
          "array": [
           -0.017161535511095935
          ],
          "type": "data"
         },
         "error_y": {
          "array": [
           -0.0033056860947885403
          ],
          "type": "data"
         },
         "marker": {
          "color": "#222A2A"
         },
         "mode": "markers",
         "name": "equal odds outcome",
         "showlegend": false,
         "type": "scatter",
         "x": [
          0.06484613527683707
         ],
         "xaxis": "x12",
         "y": [
          0.9470605001495882
         ],
         "yaxis": "y12"
        },
        {
         "line": {
          "color": "#2E91E5"
         },
         "mode": "lines+markers+text",
         "name": "fairea baseline",
         "showlegend": false,
         "text": [
          "F_0",
          "F_10",
          "F_20",
          "F_30",
          "F_40",
          "F_50",
          "F_60",
          "F_70",
          "F_80",
          "F_90",
          "F_100"
         ],
         "textposition": "bottom right",
         "type": "scatter",
         "x": [
          0.08447361056413193,
          0.09287042020233229,
          0.10241481794777955,
          0.1114273380347503,
          0.12097984274861938,
          0.13016040704528734,
          0.1386660871150868,
          0.1470059289013044,
          0.15651007545989506,
          0.16525117799240463,
          0.17393512145889978
         ],
         "xaxis": "x12",
         "y": [
          0.9489344591877763,
          0.9539815038198632,
          0.9591877764374749,
          0.964421391234419,
          0.9696550060313629,
          0.9740281463610776,
          0.9793968636911943,
          0.984617611580217,
          0.9897145154804986,
          0.9948709288299158,
          1
         ],
         "yaxis": "y12"
        },
        {
         "error_x": {
          "array": [
           -0.014669125690659417
          ],
          "type": "data"
         },
         "error_y": {
          "array": [
           -0.008790420679187672
          ],
          "type": "data"
         },
         "marker": {
          "color": "#E15F99"
         },
         "mode": "markers",
         "name": "reweighing outcome",
         "showlegend": false,
         "type": "scatter",
         "x": [
          0.12499537772027708
         ],
         "xaxis": "x13",
         "y": [
          0.7647693698927464
         ],
         "yaxis": "y13"
        },
        {
         "error_x": {
          "array": [
           -0.0058110928811675455
          ],
          "type": "data"
         },
         "error_y": {
          "array": [
           -0.007303115672532612
          ],
          "type": "data"
         },
         "marker": {
          "color": "#1CA71C"
         },
         "mode": "markers",
         "name": "calibrated equal odds using fpr cost outcome",
         "showlegend": false,
         "type": "scatter",
         "x": [
          0.18629912946334568
         ],
         "xaxis": "x13",
         "y": [
          0.764287578815799
         ],
         "yaxis": "y13"
        },
        {
         "error_x": {
          "array": [
           -0.015798763472345344
          ],
          "type": "data"
         },
         "error_y": {
          "array": [
           -0.008622544834948842
          ],
          "type": "data"
         },
         "marker": {
          "color": "#FB0D0D"
         },
         "mode": "markers",
         "name": "calibrated equal odds using fnr cost outcome",
         "showlegend": false,
         "type": "scatter",
         "x": [
          0.1305233025677107
         ],
         "xaxis": "x13",
         "y": [
          0.7675707258008468
         ],
         "yaxis": "y13"
        },
        {
         "error_x": {
          "array": [
           -0.006067306794178967
          ],
          "type": "data"
         },
         "error_y": {
          "array": [
           -0.007538124240132338
          ],
          "type": "data"
         },
         "marker": {
          "color": "#DA16FF"
         },
         "mode": "markers",
         "name": "calibrated equal odds using weighted cost outcome",
         "showlegend": false,
         "type": "scatter",
         "x": [
          0.18611984863480757
         ],
         "xaxis": "x13",
         "y": [
          0.7651993671486659
         ],
         "yaxis": "y13"
        },
        {
         "error_x": {
          "array": [
           -0.01593644325685055
          ],
          "type": "data"
         },
         "error_y": {
          "array": [
           -0.008244625895690527
          ],
          "type": "data"
         },
         "marker": {
          "color": "#222A2A"
         },
         "mode": "markers",
         "name": "equal odds outcome",
         "showlegend": false,
         "type": "scatter",
         "x": [
          0.10850568277284957
         ],
         "xaxis": "x13",
         "y": [
          0.7686107849840562
         ],
         "yaxis": "y13"
        },
        {
         "line": {
          "color": "#2E91E5"
         },
         "mode": "lines+markers+text",
         "name": "fairea baseline",
         "showlegend": false,
         "text": [
          "F_0",
          "F_10",
          "F_20",
          "F_30",
          "F_40",
          "F_50",
          "F_60",
          "F_70",
          "F_80",
          "F_90",
          "F_100"
         ],
         "textposition": "bottom right",
         "type": "scatter",
         "x": [
          0.13153366316698556,
          0.11865561466447005,
          0.10478255925418929,
          0.09185034906058193,
          0.07936776663277154,
          0.06552709097609065,
          0.052922554518159644,
          0.04006550536855555,
          0.02595754795230033,
          0.013092827447697897,
          0
         ],
         "xaxis": "x13",
         "y": [
          0.7690590132652351,
          0.7424093686546014,
          0.7147784956030329,
          0.6883755422110732,
          0.6622507999475588,
          0.6343099650162122,
          0.6065133044405008,
          0.5799869129143935,
          0.5539472213387931,
          0.5268608414300384,
          0.5
         ],
         "yaxis": "y13"
        },
        {
         "error_x": {
          "array": [
           -0.05119168246872774
          ],
          "type": "data"
         },
         "error_y": {
          "array": [
           -0.008790420679187672
          ],
          "type": "data"
         },
         "marker": {
          "color": "#E15F99"
         },
         "mode": "markers",
         "name": "reweighing outcome",
         "showlegend": false,
         "type": "scatter",
         "x": [
          0.05342657562783528
         ],
         "xaxis": "x14",
         "y": [
          0.7647693698927464
         ],
         "yaxis": "y14"
        },
        {
         "error_x": {
          "array": [
           -0.007515199373606174
          ],
          "type": "data"
         },
         "error_y": {
          "array": [
           -0.007303115672532612
          ],
          "type": "data"
         },
         "marker": {
          "color": "#1CA71C"
         },
         "mode": "markers",
         "name": "calibrated equal odds using fpr cost outcome",
         "showlegend": false,
         "type": "scatter",
         "x": [
          0.3215720657854554
         ],
         "xaxis": "x14",
         "y": [
          0.764287578815799
         ],
         "yaxis": "y14"
        },
        {
         "error_x": {
          "array": [
           -0.05750649047104506
          ],
          "type": "data"
         },
         "error_y": {
          "array": [
           -0.008622544834948842
          ],
          "type": "data"
         },
         "marker": {
          "color": "#FB0D0D"
         },
         "mode": "markers",
         "name": "calibrated equal odds using fnr cost outcome",
         "showlegend": false,
         "type": "scatter",
         "x": [
          0.06632829996391733
         ],
         "xaxis": "x14",
         "y": [
          0.7675707258008468
         ],
         "yaxis": "y14"
        },
        {
         "error_x": {
          "array": [
           -0.0081686742075181
          ],
          "type": "data"
         },
         "error_y": {
          "array": [
           -0.007538124240132338
          ],
          "type": "data"
         },
         "marker": {
          "color": "#DA16FF"
         },
         "mode": "markers",
         "name": "calibrated equal odds using weighted cost outcome",
         "showlegend": false,
         "type": "scatter",
         "x": [
          0.32217538473254104
         ],
         "xaxis": "x14",
         "y": [
          0.7651993671486659
         ],
         "yaxis": "y14"
        },
        {
         "error_x": {
          "array": [
           -0.05116030035124883
          ],
          "type": "data"
         },
         "error_y": {
          "array": [
           -0.008244625895690527
          ],
          "type": "data"
         },
         "marker": {
          "color": "#222A2A"
         },
         "mode": "markers",
         "name": "equal odds outcome",
         "showlegend": false,
         "type": "scatter",
         "x": [
          0.04713176194826316
         ],
         "xaxis": "x14",
         "y": [
          0.7686107849840562
         ],
         "yaxis": "y14"
        },
        {
         "line": {
          "color": "#2E91E5"
         },
         "mode": "lines+markers+text",
         "name": "fairea baseline",
         "showlegend": false,
         "text": [
          "F_0",
          "F_10",
          "F_20",
          "F_30",
          "F_40",
          "F_50",
          "F_60",
          "F_70",
          "F_80",
          "F_90",
          "F_100"
         ],
         "textposition": "bottom right",
         "type": "scatter",
         "x": [
          0.0685830084977357,
          0.06369214478216093,
          0.05425564155486756,
          0.047239814974495246,
          0.039782283016360095,
          0.0326926823253849,
          0.03263965157390147,
          0.026984230604227673,
          0.019297769082038327,
          0.011059326583565933,
          0
         ],
         "xaxis": "x14",
         "y": [
          0.7690590132652351,
          0.7424093686546014,
          0.7147784956030329,
          0.6883755422110732,
          0.6622507999475588,
          0.6343099650162122,
          0.6065133044405008,
          0.5799869129143935,
          0.5539472213387931,
          0.5268608414300384,
          0.5
         ],
         "yaxis": "y14"
        },
        {
         "error_x": {
          "array": [
           -0.1014136852908333
          ],
          "type": "data"
         },
         "error_y": {
          "array": [
           -0.008790420679187672
          ],
          "type": "data"
         },
         "marker": {
          "color": "#E15F99"
         },
         "mode": "markers",
         "name": "reweighing outcome",
         "showlegend": false,
         "type": "scatter",
         "x": [
          0.07628445237040411
         ],
         "xaxis": "x15",
         "y": [
          0.7647693698927464
         ],
         "yaxis": "y15"
        },
        {
         "error_x": {
          "array": [
           -0.014474828632257575
          ],
          "type": "data"
         },
         "error_y": {
          "array": [
           -0.007303115672532612
          ],
          "type": "data"
         },
         "marker": {
          "color": "#1CA71C"
         },
         "mode": "markers",
         "name": "calibrated equal odds using fpr cost outcome",
         "showlegend": false,
         "type": "scatter",
         "x": [
          0.5896589324327605
         ],
         "xaxis": "x15",
         "y": [
          0.764287578815799
         ],
         "yaxis": "y15"
        },
        {
         "error_x": {
          "array": [
           -0.11537876468176798
          ],
          "type": "data"
         },
         "error_y": {
          "array": [
           -0.008622544834948842
          ],
          "type": "data"
         },
         "marker": {
          "color": "#FB0D0D"
         },
         "mode": "markers",
         "name": "calibrated equal odds using fnr cost outcome",
         "showlegend": false,
         "type": "scatter",
         "x": [
          0.1001192439079641
         ],
         "xaxis": "x15",
         "y": [
          0.7675707258008468
         ],
         "yaxis": "y15"
        },
        {
         "error_x": {
          "array": [
           -0.015375522322629398
          ],
          "type": "data"
         },
         "error_y": {
          "array": [
           -0.007538124240132338
          ],
          "type": "data"
         },
         "marker": {
          "color": "#DA16FF"
         },
         "mode": "markers",
         "name": "calibrated equal odds using weighted cost outcome",
         "showlegend": false,
         "type": "scatter",
         "x": [
          0.5911256890019798
         ],
         "xaxis": "x15",
         "y": [
          0.7651993671486659
         ],
         "yaxis": "y15"
        },
        {
         "error_x": {
          "array": [
           -0.10168023853468197
          ],
          "type": "data"
         },
         "error_y": {
          "array": [
           -0.008244625895690527
          ],
          "type": "data"
         },
         "marker": {
          "color": "#222A2A"
         },
         "mode": "markers",
         "name": "equal odds outcome",
         "showlegend": false,
         "type": "scatter",
         "x": [
          0.08342364473014083
         ],
         "xaxis": "x15",
         "y": [
          0.7686107849840562
         ],
         "yaxis": "y15"
        },
        {
         "line": {
          "color": "#2E91E5"
         },
         "mode": "lines+markers+text",
         "name": "fairea baseline",
         "showlegend": false,
         "text": [
          "F_0",
          "F_10",
          "F_20",
          "F_30",
          "F_40",
          "F_50",
          "F_60",
          "F_70",
          "F_80",
          "F_90",
          "F_100"
         ],
         "textposition": "bottom right",
         "type": "scatter",
         "x": [
          0.10440457908697472,
          0.09803769370375542,
          0.08252631578947367,
          0.07163758201870724,
          0.05932360742705571,
          0.04852882870305738,
          0.051689515566103586,
          0.04384629345246404,
          0.03196481920982829,
          0.018721485411140586,
          0
         ],
         "xaxis": "x15",
         "y": [
          0.7690590132652351,
          0.7424093686546014,
          0.7147784956030329,
          0.6883755422110732,
          0.6622507999475588,
          0.6343099650162122,
          0.6065133044405008,
          0.5799869129143935,
          0.5539472213387931,
          0.5268608414300384,
          0.5
         ],
         "yaxis": "y15"
        },
        {
         "error_x": {
          "array": [
           -0.012954617921213399
          ],
          "type": "data"
         },
         "error_y": {
          "array": [
           -0.008790420679187672
          ],
          "type": "data"
         },
         "marker": {
          "color": "#E15F99"
         },
         "mode": "markers",
         "name": "reweighing outcome",
         "showlegend": false,
         "type": "scatter",
         "x": [
          0.08512966543149375
         ],
         "xaxis": "x16",
         "y": [
          0.7647693698927464
         ],
         "yaxis": "y16"
        },
        {
         "error_x": {
          "array": [
           -0.01673170986549556
          ],
          "type": "data"
         },
         "error_y": {
          "array": [
           -0.007303115672532612
          ],
          "type": "data"
         },
         "marker": {
          "color": "#1CA71C"
         },
         "mode": "markers",
         "name": "calibrated equal odds using fpr cost outcome",
         "showlegend": false,
         "type": "scatter",
         "x": [
          0.06786599402009061
         ],
         "xaxis": "x16",
         "y": [
          0.764287578815799
         ],
         "yaxis": "y16"
        },
        {
         "error_x": {
          "array": [
           -0.01484884783771774
          ],
          "type": "data"
         },
         "error_y": {
          "array": [
           -0.008622544834948842
          ],
          "type": "data"
         },
         "marker": {
          "color": "#FB0D0D"
         },
         "mode": "markers",
         "name": "calibrated equal odds using fnr cost outcome",
         "showlegend": false,
         "type": "scatter",
         "x": [
          0.08550626235703675
         ],
         "xaxis": "x16",
         "y": [
          0.7675707258008468
         ],
         "yaxis": "y16"
        },
        {
         "error_x": {
          "array": [
           -0.018091225193089536
          ],
          "type": "data"
         },
         "error_y": {
          "array": [
           -0.007538124240132338
          ],
          "type": "data"
         },
         "marker": {
          "color": "#DA16FF"
         },
         "mode": "markers",
         "name": "calibrated equal odds using weighted cost outcome",
         "showlegend": false,
         "type": "scatter",
         "x": [
          0.06829081163739964
         ],
         "xaxis": "x16",
         "y": [
          0.7651993671486659
         ],
         "yaxis": "y16"
        },
        {
         "error_x": {
          "array": [
           -0.017161535511095935
          ],
          "type": "data"
         },
         "error_y": {
          "array": [
           -0.008244625895690527
          ],
          "type": "data"
         },
         "marker": {
          "color": "#222A2A"
         },
         "mode": "markers",
         "name": "equal odds outcome",
         "showlegend": false,
         "type": "scatter",
         "x": [
          0.06484613527683707
         ],
         "xaxis": "x16",
         "y": [
          0.7686107849840562
         ],
         "yaxis": "y16"
        },
        {
         "line": {
          "color": "#2E91E5"
         },
         "mode": "lines+markers+text",
         "name": "fairea baseline",
         "showlegend": false,
         "text": [
          "F_0",
          "F_10",
          "F_20",
          "F_30",
          "F_40",
          "F_50",
          "F_60",
          "F_70",
          "F_80",
          "F_90",
          "F_100"
         ],
         "textposition": "bottom right",
         "type": "scatter",
         "x": [
          0.08447361056413193,
          0.09287042020233229,
          0.10241481794777955,
          0.1114273380347503,
          0.12097984274861938,
          0.13016040704528734,
          0.1386660871150868,
          0.1470059289013044,
          0.15651007545989506,
          0.16525117799240463,
          0.17393512145889978
         ],
         "xaxis": "x16",
         "y": [
          0.7690590132652351,
          0.7424093686546014,
          0.7147784956030329,
          0.6883755422110732,
          0.6622507999475588,
          0.6343099650162122,
          0.6065133044405008,
          0.5799869129143935,
          0.5539472213387931,
          0.5268608414300384,
          0.5
         ],
         "yaxis": "y16"
        },
        {
         "error_x": {
          "array": [
           -0.014669125690659417
          ],
          "type": "data"
         },
         "error_y": {
          "array": [
           -0.017005555020220497
          ],
          "type": "data"
         },
         "marker": {
          "color": "#E15F99"
         },
         "mode": "markers",
         "name": "reweighing outcome",
         "showlegend": false,
         "type": "scatter",
         "x": [
          0.12499537772027708
         ],
         "xaxis": "x17",
         "y": [
          0.7726170287604233
         ],
         "yaxis": "y17"
        },
        {
         "error_x": {
          "array": [
           -0.0058110928811675455
          ],
          "type": "data"
         },
         "error_y": {
          "array": [
           -0.013790345391033187
          ],
          "type": "data"
         },
         "marker": {
          "color": "#1CA71C"
         },
         "mode": "markers",
         "name": "calibrated equal odds using fpr cost outcome",
         "showlegend": false,
         "type": "scatter",
         "x": [
          0.18629912946334568
         ],
         "xaxis": "x17",
         "y": [
          0.7840263804979353
         ],
         "yaxis": "y17"
        },
        {
         "error_x": {
          "array": [
           -0.015798763472345344
          ],
          "type": "data"
         },
         "error_y": {
          "array": [
           -0.013672003752571715
          ],
          "type": "data"
         },
         "marker": {
          "color": "#FB0D0D"
         },
         "mode": "markers",
         "name": "calibrated equal odds using fnr cost outcome",
         "showlegend": false,
         "type": "scatter",
         "x": [
          0.1305233025677107
         ],
         "xaxis": "x17",
         "y": [
          0.7809947380851539
         ],
         "yaxis": "y17"
        },
        {
         "error_x": {
          "array": [
           -0.006067306794178967
          ],
          "type": "data"
         },
         "error_y": {
          "array": [
           -0.015623196547865259
          ],
          "type": "data"
         },
         "marker": {
          "color": "#DA16FF"
         },
         "mode": "markers",
         "name": "calibrated equal odds using weighted cost outcome",
         "showlegend": false,
         "type": "scatter",
         "x": [
          0.18611984863480757
         ],
         "xaxis": "x17",
         "y": [
          0.7846802294378064
         ],
         "yaxis": "y17"
        },
        {
         "error_x": {
          "array": [
           -0.01593644325685055
          ],
          "type": "data"
         },
         "error_y": {
          "array": [
           -0.013400769964713732
          ],
          "type": "data"
         },
         "marker": {
          "color": "#222A2A"
         },
         "mode": "markers",
         "name": "equal odds outcome",
         "showlegend": false,
         "type": "scatter",
         "x": [
          0.10850568277284957
         ],
         "xaxis": "x17",
         "y": [
          0.7750248808933482
         ],
         "yaxis": "y17"
        },
        {
         "line": {
          "color": "#2E91E5"
         },
         "mode": "lines+markers+text",
         "name": "fairea baseline",
         "showlegend": false,
         "text": [
          "F_0",
          "F_10",
          "F_20",
          "F_30",
          "F_40",
          "F_50",
          "F_60",
          "F_70",
          "F_80",
          "F_90",
          "F_100"
         ],
         "textposition": "bottom right",
         "type": "scatter",
         "x": [
          0.13153366316698556,
          0.11865561466447005,
          0.10478255925418929,
          0.09185034906058193,
          0.07936776663277154,
          0.06552709097609065,
          0.052922554518159644,
          0.04006550536855555,
          0.02595754795230033,
          0.013092827447697897,
          0
         ],
         "xaxis": "x17",
         "y": [
          0.7811099620820408,
          0.781074667943182,
          0.7809159724118144,
          0.781879792895792,
          0.7834081126541951,
          0.7781747263209123,
          0.778185896824194,
          0.7790975704203756,
          0.7804995143681144,
          0.7804087118662586,
          0
         ],
         "yaxis": "y17"
        },
        {
         "error_x": {
          "array": [
           -0.05119168246872774
          ],
          "type": "data"
         },
         "error_y": {
          "array": [
           -0.017005555020220497
          ],
          "type": "data"
         },
         "marker": {
          "color": "#E15F99"
         },
         "mode": "markers",
         "name": "reweighing outcome",
         "showlegend": false,
         "type": "scatter",
         "x": [
          0.05342657562783528
         ],
         "xaxis": "x18",
         "y": [
          0.7726170287604233
         ],
         "yaxis": "y18"
        },
        {
         "error_x": {
          "array": [
           -0.007515199373606174
          ],
          "type": "data"
         },
         "error_y": {
          "array": [
           -0.013790345391033187
          ],
          "type": "data"
         },
         "marker": {
          "color": "#1CA71C"
         },
         "mode": "markers",
         "name": "calibrated equal odds using fpr cost outcome",
         "showlegend": false,
         "type": "scatter",
         "x": [
          0.3215720657854554
         ],
         "xaxis": "x18",
         "y": [
          0.7840263804979353
         ],
         "yaxis": "y18"
        },
        {
         "error_x": {
          "array": [
           -0.05750649047104506
          ],
          "type": "data"
         },
         "error_y": {
          "array": [
           -0.013672003752571715
          ],
          "type": "data"
         },
         "marker": {
          "color": "#FB0D0D"
         },
         "mode": "markers",
         "name": "calibrated equal odds using fnr cost outcome",
         "showlegend": false,
         "type": "scatter",
         "x": [
          0.06632829996391733
         ],
         "xaxis": "x18",
         "y": [
          0.7809947380851539
         ],
         "yaxis": "y18"
        },
        {
         "error_x": {
          "array": [
           -0.0081686742075181
          ],
          "type": "data"
         },
         "error_y": {
          "array": [
           -0.015623196547865259
          ],
          "type": "data"
         },
         "marker": {
          "color": "#DA16FF"
         },
         "mode": "markers",
         "name": "calibrated equal odds using weighted cost outcome",
         "showlegend": false,
         "type": "scatter",
         "x": [
          0.32217538473254104
         ],
         "xaxis": "x18",
         "y": [
          0.7846802294378064
         ],
         "yaxis": "y18"
        },
        {
         "error_x": {
          "array": [
           -0.05116030035124883
          ],
          "type": "data"
         },
         "error_y": {
          "array": [
           -0.013400769964713732
          ],
          "type": "data"
         },
         "marker": {
          "color": "#222A2A"
         },
         "mode": "markers",
         "name": "equal odds outcome",
         "showlegend": false,
         "type": "scatter",
         "x": [
          0.04713176194826316
         ],
         "xaxis": "x18",
         "y": [
          0.7750248808933482
         ],
         "yaxis": "y18"
        },
        {
         "line": {
          "color": "#2E91E5"
         },
         "mode": "lines+markers+text",
         "name": "fairea baseline",
         "showlegend": false,
         "text": [
          "F_0",
          "F_10",
          "F_20",
          "F_30",
          "F_40",
          "F_50",
          "F_60",
          "F_70",
          "F_80",
          "F_90",
          "F_100"
         ],
         "textposition": "bottom right",
         "type": "scatter",
         "x": [
          0.0685830084977357,
          0.06369214478216093,
          0.05425564155486756,
          0.047239814974495246,
          0.039782283016360095,
          0.0326926823253849,
          0.03263965157390147,
          0.026984230604227673,
          0.019297769082038327,
          0.011059326583565933,
          0
         ],
         "xaxis": "x18",
         "y": [
          0.7811099620820408,
          0.781074667943182,
          0.7809159724118144,
          0.781879792895792,
          0.7834081126541951,
          0.7781747263209123,
          0.778185896824194,
          0.7790975704203756,
          0.7804995143681144,
          0.7804087118662586,
          0
         ],
         "yaxis": "y18"
        },
        {
         "error_x": {
          "array": [
           -0.1014136852908333
          ],
          "type": "data"
         },
         "error_y": {
          "array": [
           -0.017005555020220497
          ],
          "type": "data"
         },
         "marker": {
          "color": "#E15F99"
         },
         "mode": "markers",
         "name": "reweighing outcome",
         "showlegend": false,
         "type": "scatter",
         "x": [
          0.07628445237040411
         ],
         "xaxis": "x19",
         "y": [
          0.7726170287604233
         ],
         "yaxis": "y19"
        },
        {
         "error_x": {
          "array": [
           -0.014474828632257575
          ],
          "type": "data"
         },
         "error_y": {
          "array": [
           -0.013790345391033187
          ],
          "type": "data"
         },
         "marker": {
          "color": "#1CA71C"
         },
         "mode": "markers",
         "name": "calibrated equal odds using fpr cost outcome",
         "showlegend": false,
         "type": "scatter",
         "x": [
          0.5896589324327605
         ],
         "xaxis": "x19",
         "y": [
          0.7840263804979353
         ],
         "yaxis": "y19"
        },
        {
         "error_x": {
          "array": [
           -0.11537876468176798
          ],
          "type": "data"
         },
         "error_y": {
          "array": [
           -0.013672003752571715
          ],
          "type": "data"
         },
         "marker": {
          "color": "#FB0D0D"
         },
         "mode": "markers",
         "name": "calibrated equal odds using fnr cost outcome",
         "showlegend": false,
         "type": "scatter",
         "x": [
          0.1001192439079641
         ],
         "xaxis": "x19",
         "y": [
          0.7809947380851539
         ],
         "yaxis": "y19"
        },
        {
         "error_x": {
          "array": [
           -0.015375522322629398
          ],
          "type": "data"
         },
         "error_y": {
          "array": [
           -0.015623196547865259
          ],
          "type": "data"
         },
         "marker": {
          "color": "#DA16FF"
         },
         "mode": "markers",
         "name": "calibrated equal odds using weighted cost outcome",
         "showlegend": false,
         "type": "scatter",
         "x": [
          0.5911256890019798
         ],
         "xaxis": "x19",
         "y": [
          0.7846802294378064
         ],
         "yaxis": "y19"
        },
        {
         "error_x": {
          "array": [
           -0.10168023853468197
          ],
          "type": "data"
         },
         "error_y": {
          "array": [
           -0.013400769964713732
          ],
          "type": "data"
         },
         "marker": {
          "color": "#222A2A"
         },
         "mode": "markers",
         "name": "equal odds outcome",
         "showlegend": false,
         "type": "scatter",
         "x": [
          0.08342364473014083
         ],
         "xaxis": "x19",
         "y": [
          0.7750248808933482
         ],
         "yaxis": "y19"
        },
        {
         "line": {
          "color": "#2E91E5"
         },
         "mode": "lines+markers+text",
         "name": "fairea baseline",
         "showlegend": false,
         "text": [
          "F_0",
          "F_10",
          "F_20",
          "F_30",
          "F_40",
          "F_50",
          "F_60",
          "F_70",
          "F_80",
          "F_90",
          "F_100"
         ],
         "textposition": "bottom right",
         "type": "scatter",
         "x": [
          0.10440457908697472,
          0.09803769370375542,
          0.08252631578947367,
          0.07163758201870724,
          0.05932360742705571,
          0.04852882870305738,
          0.051689515566103586,
          0.04384629345246404,
          0.03196481920982829,
          0.018721485411140586,
          0
         ],
         "xaxis": "x19",
         "y": [
          0.7811099620820408,
          0.781074667943182,
          0.7809159724118144,
          0.781879792895792,
          0.7834081126541951,
          0.7781747263209123,
          0.778185896824194,
          0.7790975704203756,
          0.7804995143681144,
          0.7804087118662586,
          0
         ],
         "yaxis": "y19"
        },
        {
         "error_x": {
          "array": [
           -0.012954617921213399
          ],
          "type": "data"
         },
         "error_y": {
          "array": [
           -0.017005555020220497
          ],
          "type": "data"
         },
         "marker": {
          "color": "#E15F99"
         },
         "mode": "markers",
         "name": "reweighing outcome",
         "showlegend": false,
         "type": "scatter",
         "x": [
          0.08512966543149375
         ],
         "xaxis": "x20",
         "y": [
          0.7726170287604233
         ],
         "yaxis": "y20"
        },
        {
         "error_x": {
          "array": [
           -0.01673170986549556
          ],
          "type": "data"
         },
         "error_y": {
          "array": [
           -0.013790345391033187
          ],
          "type": "data"
         },
         "marker": {
          "color": "#1CA71C"
         },
         "mode": "markers",
         "name": "calibrated equal odds using fpr cost outcome",
         "showlegend": false,
         "type": "scatter",
         "x": [
          0.06786599402009061
         ],
         "xaxis": "x20",
         "y": [
          0.7840263804979353
         ],
         "yaxis": "y20"
        },
        {
         "error_x": {
          "array": [
           -0.01484884783771774
          ],
          "type": "data"
         },
         "error_y": {
          "array": [
           -0.013672003752571715
          ],
          "type": "data"
         },
         "marker": {
          "color": "#FB0D0D"
         },
         "mode": "markers",
         "name": "calibrated equal odds using fnr cost outcome",
         "showlegend": false,
         "type": "scatter",
         "x": [
          0.08550626235703675
         ],
         "xaxis": "x20",
         "y": [
          0.7809947380851539
         ],
         "yaxis": "y20"
        },
        {
         "error_x": {
          "array": [
           -0.018091225193089536
          ],
          "type": "data"
         },
         "error_y": {
          "array": [
           -0.015623196547865259
          ],
          "type": "data"
         },
         "marker": {
          "color": "#DA16FF"
         },
         "mode": "markers",
         "name": "calibrated equal odds using weighted cost outcome",
         "showlegend": false,
         "type": "scatter",
         "x": [
          0.06829081163739964
         ],
         "xaxis": "x20",
         "y": [
          0.7846802294378064
         ],
         "yaxis": "y20"
        },
        {
         "error_x": {
          "array": [
           -0.017161535511095935
          ],
          "type": "data"
         },
         "error_y": {
          "array": [
           -0.013400769964713732
          ],
          "type": "data"
         },
         "marker": {
          "color": "#222A2A"
         },
         "mode": "markers",
         "name": "equal odds outcome",
         "showlegend": false,
         "type": "scatter",
         "x": [
          0.06484613527683707
         ],
         "xaxis": "x20",
         "y": [
          0.7750248808933482
         ],
         "yaxis": "y20"
        },
        {
         "line": {
          "color": "#2E91E5"
         },
         "mode": "lines+markers+text",
         "name": "fairea baseline",
         "showlegend": false,
         "text": [
          "F_0",
          "F_10",
          "F_20",
          "F_30",
          "F_40",
          "F_50",
          "F_60",
          "F_70",
          "F_80",
          "F_90",
          "F_100"
         ],
         "textposition": "bottom right",
         "type": "scatter",
         "x": [
          0.08447361056413193,
          0.09287042020233229,
          0.10241481794777955,
          0.1114273380347503,
          0.12097984274861938,
          0.13016040704528734,
          0.1386660871150868,
          0.1470059289013044,
          0.15651007545989506,
          0.16525117799240463,
          0.17393512145889978
         ],
         "xaxis": "x20",
         "y": [
          0.7811099620820408,
          0.781074667943182,
          0.7809159724118144,
          0.781879792895792,
          0.7834081126541951,
          0.7781747263209123,
          0.778185896824194,
          0.7790975704203756,
          0.7804995143681144,
          0.7804087118662586,
          0
         ],
         "yaxis": "y20"
        },
        {
         "error_x": {
          "array": [
           -0.014669125690659417
          ],
          "type": "data"
         },
         "error_y": {
          "array": [
           -0.005230024934693045
          ],
          "type": "data"
         },
         "marker": {
          "color": "#E15F99"
         },
         "mode": "markers",
         "name": "reweighing outcome",
         "showlegend": false,
         "type": "scatter",
         "x": [
          0.12499537772027708
         ],
         "xaxis": "x21",
         "y": [
          0.8798650442084799
         ],
         "yaxis": "y21"
        },
        {
         "error_x": {
          "array": [
           -0.0058110928811675455
          ],
          "type": "data"
         },
         "error_y": {
          "array": [
           -0.005284167359875802
          ],
          "type": "data"
         },
         "marker": {
          "color": "#1CA71C"
         },
         "mode": "markers",
         "name": "calibrated equal odds using fpr cost outcome",
         "showlegend": false,
         "type": "scatter",
         "x": [
          0.18629912946334568
         ],
         "xaxis": "x21",
         "y": [
          0.8789945067006486
         ],
         "yaxis": "y21"
        },
        {
         "error_x": {
          "array": [
           -0.015798763472345344
          ],
          "type": "data"
         },
         "error_y": {
          "array": [
           -0.006011651430477993
          ],
          "type": "data"
         },
         "marker": {
          "color": "#FB0D0D"
         },
         "mode": "markers",
         "name": "calibrated equal odds using fnr cost outcome",
         "showlegend": false,
         "type": "scatter",
         "x": [
          0.1305233025677107
         ],
         "xaxis": "x21",
         "y": [
          0.8811706968215224
         ],
         "yaxis": "y21"
        },
        {
         "error_x": {
          "array": [
           -0.006067306794178967
          ],
          "type": "data"
         },
         "error_y": {
          "array": [
           -0.005294777312494503
          ],
          "type": "data"
         },
         "marker": {
          "color": "#DA16FF"
         },
         "mode": "markers",
         "name": "calibrated equal odds using weighted cost outcome",
         "showlegend": false,
         "type": "scatter",
         "x": [
          0.18611984863480757
         ],
         "xaxis": "x21",
         "y": [
          0.8798399322761109
         ],
         "yaxis": "y21"
        },
        {
         "error_x": {
          "array": [
           -0.01593644325685055
          ],
          "type": "data"
         },
         "error_y": {
          "array": [
           -0.006245041402902385
          ],
          "type": "data"
         },
         "marker": {
          "color": "#222A2A"
         },
         "mode": "markers",
         "name": "equal odds outcome",
         "showlegend": false,
         "type": "scatter",
         "x": [
          0.10850568277284957
         ],
         "xaxis": "x21",
         "y": [
          0.8820267424817818
         ],
         "yaxis": "y21"
        },
        {
         "line": {
          "color": "#2E91E5"
         },
         "mode": "lines+markers+text",
         "name": "fairea baseline",
         "showlegend": false,
         "text": [
          "F_0",
          "F_10",
          "F_20",
          "F_30",
          "F_40",
          "F_50",
          "F_60",
          "F_70",
          "F_80",
          "F_90",
          "F_100"
         ],
         "textposition": "bottom right",
         "type": "scatter",
         "x": [
          0.13153366316698556,
          0.11865561466447005,
          0.10478255925418929,
          0.09185034906058193,
          0.07936776663277154,
          0.06552709097609065,
          0.052922554518159644,
          0.04006550536855555,
          0.02595754795230033,
          0.013092827447697897,
          0
         ],
         "xaxis": "x21",
         "y": [
          0.8819133034379673,
          0.8679760750570739,
          0.8541341890692842,
          0.8414224436628674,
          0.8293384797851661,
          0.8170007806038805,
          0.8051436165412952,
          0.7942590597120405,
          0.7839634872444948,
          0.773642646749517,
          0.7637737239727288
         ],
         "yaxis": "y21"
        },
        {
         "error_x": {
          "array": [
           -0.05119168246872774
          ],
          "type": "data"
         },
         "error_y": {
          "array": [
           -0.005230024934693045
          ],
          "type": "data"
         },
         "marker": {
          "color": "#E15F99"
         },
         "mode": "markers",
         "name": "reweighing outcome",
         "showlegend": false,
         "type": "scatter",
         "x": [
          0.05342657562783528
         ],
         "xaxis": "x22",
         "y": [
          0.8798650442084799
         ],
         "yaxis": "y22"
        },
        {
         "error_x": {
          "array": [
           -0.007515199373606174
          ],
          "type": "data"
         },
         "error_y": {
          "array": [
           -0.005284167359875802
          ],
          "type": "data"
         },
         "marker": {
          "color": "#1CA71C"
         },
         "mode": "markers",
         "name": "calibrated equal odds using fpr cost outcome",
         "showlegend": false,
         "type": "scatter",
         "x": [
          0.3215720657854554
         ],
         "xaxis": "x22",
         "y": [
          0.8789945067006486
         ],
         "yaxis": "y22"
        },
        {
         "error_x": {
          "array": [
           -0.05750649047104506
          ],
          "type": "data"
         },
         "error_y": {
          "array": [
           -0.006011651430477993
          ],
          "type": "data"
         },
         "marker": {
          "color": "#FB0D0D"
         },
         "mode": "markers",
         "name": "calibrated equal odds using fnr cost outcome",
         "showlegend": false,
         "type": "scatter",
         "x": [
          0.06632829996391733
         ],
         "xaxis": "x22",
         "y": [
          0.8811706968215224
         ],
         "yaxis": "y22"
        },
        {
         "error_x": {
          "array": [
           -0.0081686742075181
          ],
          "type": "data"
         },
         "error_y": {
          "array": [
           -0.005294777312494503
          ],
          "type": "data"
         },
         "marker": {
          "color": "#DA16FF"
         },
         "mode": "markers",
         "name": "calibrated equal odds using weighted cost outcome",
         "showlegend": false,
         "type": "scatter",
         "x": [
          0.32217538473254104
         ],
         "xaxis": "x22",
         "y": [
          0.8798399322761109
         ],
         "yaxis": "y22"
        },
        {
         "error_x": {
          "array": [
           -0.05116030035124883
          ],
          "type": "data"
         },
         "error_y": {
          "array": [
           -0.006245041402902385
          ],
          "type": "data"
         },
         "marker": {
          "color": "#222A2A"
         },
         "mode": "markers",
         "name": "equal odds outcome",
         "showlegend": false,
         "type": "scatter",
         "x": [
          0.04713176194826316
         ],
         "xaxis": "x22",
         "y": [
          0.8820267424817818
         ],
         "yaxis": "y22"
        },
        {
         "line": {
          "color": "#2E91E5"
         },
         "mode": "lines+markers+text",
         "name": "fairea baseline",
         "showlegend": false,
         "text": [
          "F_0",
          "F_10",
          "F_20",
          "F_30",
          "F_40",
          "F_50",
          "F_60",
          "F_70",
          "F_80",
          "F_90",
          "F_100"
         ],
         "textposition": "bottom right",
         "type": "scatter",
         "x": [
          0.0685830084977357,
          0.06369214478216093,
          0.05425564155486756,
          0.047239814974495246,
          0.039782283016360095,
          0.0326926823253849,
          0.03263965157390147,
          0.026984230604227673,
          0.019297769082038327,
          0.011059326583565933,
          0
         ],
         "xaxis": "x22",
         "y": [
          0.8819133034379673,
          0.8679760750570739,
          0.8541341890692842,
          0.8414224436628674,
          0.8293384797851661,
          0.8170007806038805,
          0.8051436165412952,
          0.7942590597120405,
          0.7839634872444948,
          0.773642646749517,
          0.7637737239727288
         ],
         "yaxis": "y22"
        },
        {
         "error_x": {
          "array": [
           -0.1014136852908333
          ],
          "type": "data"
         },
         "error_y": {
          "array": [
           -0.005230024934693045
          ],
          "type": "data"
         },
         "marker": {
          "color": "#E15F99"
         },
         "mode": "markers",
         "name": "reweighing outcome",
         "showlegend": false,
         "type": "scatter",
         "x": [
          0.07628445237040411
         ],
         "xaxis": "x23",
         "y": [
          0.8798650442084799
         ],
         "yaxis": "y23"
        },
        {
         "error_x": {
          "array": [
           -0.014474828632257575
          ],
          "type": "data"
         },
         "error_y": {
          "array": [
           -0.005284167359875802
          ],
          "type": "data"
         },
         "marker": {
          "color": "#1CA71C"
         },
         "mode": "markers",
         "name": "calibrated equal odds using fpr cost outcome",
         "showlegend": false,
         "type": "scatter",
         "x": [
          0.5896589324327605
         ],
         "xaxis": "x23",
         "y": [
          0.8789945067006486
         ],
         "yaxis": "y23"
        },
        {
         "error_x": {
          "array": [
           -0.11537876468176798
          ],
          "type": "data"
         },
         "error_y": {
          "array": [
           -0.006011651430477993
          ],
          "type": "data"
         },
         "marker": {
          "color": "#FB0D0D"
         },
         "mode": "markers",
         "name": "calibrated equal odds using fnr cost outcome",
         "showlegend": false,
         "type": "scatter",
         "x": [
          0.1001192439079641
         ],
         "xaxis": "x23",
         "y": [
          0.8811706968215224
         ],
         "yaxis": "y23"
        },
        {
         "error_x": {
          "array": [
           -0.015375522322629398
          ],
          "type": "data"
         },
         "error_y": {
          "array": [
           -0.005294777312494503
          ],
          "type": "data"
         },
         "marker": {
          "color": "#DA16FF"
         },
         "mode": "markers",
         "name": "calibrated equal odds using weighted cost outcome",
         "showlegend": false,
         "type": "scatter",
         "x": [
          0.5911256890019798
         ],
         "xaxis": "x23",
         "y": [
          0.8798399322761109
         ],
         "yaxis": "y23"
        },
        {
         "error_x": {
          "array": [
           -0.10168023853468197
          ],
          "type": "data"
         },
         "error_y": {
          "array": [
           -0.006245041402902385
          ],
          "type": "data"
         },
         "marker": {
          "color": "#222A2A"
         },
         "mode": "markers",
         "name": "equal odds outcome",
         "showlegend": false,
         "type": "scatter",
         "x": [
          0.08342364473014083
         ],
         "xaxis": "x23",
         "y": [
          0.8820267424817818
         ],
         "yaxis": "y23"
        },
        {
         "line": {
          "color": "#2E91E5"
         },
         "mode": "lines+markers+text",
         "name": "fairea baseline",
         "showlegend": false,
         "text": [
          "F_0",
          "F_10",
          "F_20",
          "F_30",
          "F_40",
          "F_50",
          "F_60",
          "F_70",
          "F_80",
          "F_90",
          "F_100"
         ],
         "textposition": "bottom right",
         "type": "scatter",
         "x": [
          0.10440457908697472,
          0.09803769370375542,
          0.08252631578947367,
          0.07163758201870724,
          0.05932360742705571,
          0.04852882870305738,
          0.051689515566103586,
          0.04384629345246404,
          0.03196481920982829,
          0.018721485411140586,
          0
         ],
         "xaxis": "x23",
         "y": [
          0.8819133034379673,
          0.8679760750570739,
          0.8541341890692842,
          0.8414224436628674,
          0.8293384797851661,
          0.8170007806038805,
          0.8051436165412952,
          0.7942590597120405,
          0.7839634872444948,
          0.773642646749517,
          0.7637737239727288
         ],
         "yaxis": "y23"
        },
        {
         "error_x": {
          "array": [
           -0.012954617921213399
          ],
          "type": "data"
         },
         "error_y": {
          "array": [
           -0.005230024934693045
          ],
          "type": "data"
         },
         "marker": {
          "color": "#E15F99"
         },
         "mode": "markers",
         "name": "reweighing outcome",
         "showlegend": false,
         "type": "scatter",
         "x": [
          0.08512966543149375
         ],
         "xaxis": "x24",
         "y": [
          0.8798650442084799
         ],
         "yaxis": "y24"
        },
        {
         "error_x": {
          "array": [
           -0.01673170986549556
          ],
          "type": "data"
         },
         "error_y": {
          "array": [
           -0.005284167359875802
          ],
          "type": "data"
         },
         "marker": {
          "color": "#1CA71C"
         },
         "mode": "markers",
         "name": "calibrated equal odds using fpr cost outcome",
         "showlegend": false,
         "type": "scatter",
         "x": [
          0.06786599402009061
         ],
         "xaxis": "x24",
         "y": [
          0.8789945067006486
         ],
         "yaxis": "y24"
        },
        {
         "error_x": {
          "array": [
           -0.01484884783771774
          ],
          "type": "data"
         },
         "error_y": {
          "array": [
           -0.006011651430477993
          ],
          "type": "data"
         },
         "marker": {
          "color": "#FB0D0D"
         },
         "mode": "markers",
         "name": "calibrated equal odds using fnr cost outcome",
         "showlegend": false,
         "type": "scatter",
         "x": [
          0.08550626235703675
         ],
         "xaxis": "x24",
         "y": [
          0.8811706968215224
         ],
         "yaxis": "y24"
        },
        {
         "error_x": {
          "array": [
           -0.018091225193089536
          ],
          "type": "data"
         },
         "error_y": {
          "array": [
           -0.005294777312494503
          ],
          "type": "data"
         },
         "marker": {
          "color": "#DA16FF"
         },
         "mode": "markers",
         "name": "calibrated equal odds using weighted cost outcome",
         "showlegend": false,
         "type": "scatter",
         "x": [
          0.06829081163739964
         ],
         "xaxis": "x24",
         "y": [
          0.8798399322761109
         ],
         "yaxis": "y24"
        },
        {
         "error_x": {
          "array": [
           -0.017161535511095935
          ],
          "type": "data"
         },
         "error_y": {
          "array": [
           -0.006245041402902385
          ],
          "type": "data"
         },
         "marker": {
          "color": "#222A2A"
         },
         "mode": "markers",
         "name": "equal odds outcome",
         "showlegend": false,
         "type": "scatter",
         "x": [
          0.06484613527683707
         ],
         "xaxis": "x24",
         "y": [
          0.8820267424817818
         ],
         "yaxis": "y24"
        },
        {
         "line": {
          "color": "#2E91E5"
         },
         "mode": "lines+markers+text",
         "name": "fairea baseline",
         "showlegend": false,
         "text": [
          "F_0",
          "F_10",
          "F_20",
          "F_30",
          "F_40",
          "F_50",
          "F_60",
          "F_70",
          "F_80",
          "F_90",
          "F_100"
         ],
         "textposition": "bottom right",
         "type": "scatter",
         "x": [
          0.08447361056413193,
          0.09287042020233229,
          0.10241481794777955,
          0.1114273380347503,
          0.12097984274861938,
          0.13016040704528734,
          0.1386660871150868,
          0.1470059289013044,
          0.15651007545989506,
          0.16525117799240463,
          0.17393512145889978
         ],
         "xaxis": "x24",
         "y": [
          0.8819133034379673,
          0.8679760750570739,
          0.8541341890692842,
          0.8414224436628674,
          0.8293384797851661,
          0.8170007806038805,
          0.8051436165412952,
          0.7942590597120405,
          0.7839634872444948,
          0.773642646749517,
          0.7637737239727288
         ],
         "yaxis": "y24"
        },
        {
         "error_x": {
          "array": [
           -0.014669125690659417
          ],
          "type": "data"
         },
         "error_y": {
          "array": [
           -0.008978089432364667
          ],
          "type": "data"
         },
         "marker": {
          "color": "#E15F99"
         },
         "mode": "markers",
         "name": "reweighing outcome",
         "showlegend": false,
         "type": "scatter",
         "x": [
          0.12499537772027708
         ],
         "xaxis": "x25",
         "y": [
          0.8262410364844519
         ],
         "yaxis": "y25"
        },
        {
         "error_x": {
          "array": [
           -0.0058110928811675455
          ],
          "type": "data"
         },
         "error_y": {
          "array": [
           -0.007287676431501744
          ],
          "type": "data"
         },
         "marker": {
          "color": "#1CA71C"
         },
         "mode": "markers",
         "name": "calibrated equal odds using fpr cost outcome",
         "showlegend": false,
         "type": "scatter",
         "x": [
          0.18629912946334568
         ],
         "xaxis": "x25",
         "y": [
          0.8315104435992918
         ],
         "yaxis": "y25"
        },
        {
         "error_x": {
          "array": [
           -0.015798763472345344
          ],
          "type": "data"
         },
         "error_y": {
          "array": [
           -0.007873696877627068
          ],
          "type": "data"
         },
         "marker": {
          "color": "#FB0D0D"
         },
         "mode": "markers",
         "name": "calibrated equal odds using fnr cost outcome",
         "showlegend": false,
         "type": "scatter",
         "x": [
          0.1305233025677107
         ],
         "xaxis": "x25",
         "y": [
          0.8310827174533381
         ],
         "yaxis": "y25"
        },
        {
         "error_x": {
          "array": [
           -0.006067306794178967
          ],
          "type": "data"
         },
         "error_y": {
          "array": [
           -0.007827728947601087
          ],
          "type": "data"
         },
         "marker": {
          "color": "#DA16FF"
         },
         "mode": "markers",
         "name": "calibrated equal odds using weighted cost outcome",
         "showlegend": false,
         "type": "scatter",
         "x": [
          0.18611984863480757
         ],
         "xaxis": "x25",
         "y": [
          0.8322600808569587
         ],
         "yaxis": "y25"
        },
        {
         "error_x": {
          "array": [
           -0.01593644325685055
          ],
          "type": "data"
         },
         "error_y": {
          "array": [
           -0.007477352066678433
          ],
          "type": "data"
         },
         "marker": {
          "color": "#222A2A"
         },
         "mode": "markers",
         "name": "equal odds outcome",
         "showlegend": false,
         "type": "scatter",
         "x": [
          0.10850568277284957
         ],
         "xaxis": "x25",
         "y": [
          0.8285258116875651
         ],
         "yaxis": "y25"
        },
        {
         "line": {
          "color": "#2E91E5"
         },
         "mode": "lines+markers+text",
         "name": "fairea baseline",
         "showlegend": false,
         "text": [
          "F_0",
          "F_10",
          "F_20",
          "F_30",
          "F_40",
          "F_50",
          "F_60",
          "F_70",
          "F_80",
          "F_90",
          "F_100"
         ],
         "textposition": "bottom right",
         "type": "scatter",
         "x": [
          0.13153366316698556,
          0.11865561466447005,
          0.10478255925418929,
          0.09185034906058193,
          0.07936776663277154,
          0.06552709097609065,
          0.052922554518159644,
          0.04006550536855555,
          0.02595754795230033,
          0.013092827447697897,
          0
         ],
         "xaxis": "x25",
         "y": [
          0.8315116327600037,
          0.8245253715001281,
          0.8175250807405493,
          0.8116511182793296,
          0.8063732962196805,
          0.7975877534623966,
          0.7916647566827446,
          0.786678315066208,
          0.7822315008063047,
          0.7770256793078878,
          0.3818868619863644
         ],
         "yaxis": "y25"
        },
        {
         "error_x": {
          "array": [
           -0.05119168246872774
          ],
          "type": "data"
         },
         "error_y": {
          "array": [
           -0.008978089432364667
          ],
          "type": "data"
         },
         "marker": {
          "color": "#E15F99"
         },
         "mode": "markers",
         "name": "reweighing outcome",
         "showlegend": false,
         "type": "scatter",
         "x": [
          0.05342657562783528
         ],
         "xaxis": "x26",
         "y": [
          0.8262410364844519
         ],
         "yaxis": "y26"
        },
        {
         "error_x": {
          "array": [
           -0.007515199373606174
          ],
          "type": "data"
         },
         "error_y": {
          "array": [
           -0.007287676431501744
          ],
          "type": "data"
         },
         "marker": {
          "color": "#1CA71C"
         },
         "mode": "markers",
         "name": "calibrated equal odds using fpr cost outcome",
         "showlegend": false,
         "type": "scatter",
         "x": [
          0.3215720657854554
         ],
         "xaxis": "x26",
         "y": [
          0.8315104435992918
         ],
         "yaxis": "y26"
        },
        {
         "error_x": {
          "array": [
           -0.05750649047104506
          ],
          "type": "data"
         },
         "error_y": {
          "array": [
           -0.007873696877627068
          ],
          "type": "data"
         },
         "marker": {
          "color": "#FB0D0D"
         },
         "mode": "markers",
         "name": "calibrated equal odds using fnr cost outcome",
         "showlegend": false,
         "type": "scatter",
         "x": [
          0.06632829996391733
         ],
         "xaxis": "x26",
         "y": [
          0.8310827174533381
         ],
         "yaxis": "y26"
        },
        {
         "error_x": {
          "array": [
           -0.0081686742075181
          ],
          "type": "data"
         },
         "error_y": {
          "array": [
           -0.007827728947601087
          ],
          "type": "data"
         },
         "marker": {
          "color": "#DA16FF"
         },
         "mode": "markers",
         "name": "calibrated equal odds using weighted cost outcome",
         "showlegend": false,
         "type": "scatter",
         "x": [
          0.32217538473254104
         ],
         "xaxis": "x26",
         "y": [
          0.8322600808569587
         ],
         "yaxis": "y26"
        },
        {
         "error_x": {
          "array": [
           -0.05116030035124883
          ],
          "type": "data"
         },
         "error_y": {
          "array": [
           -0.007477352066678433
          ],
          "type": "data"
         },
         "marker": {
          "color": "#222A2A"
         },
         "mode": "markers",
         "name": "equal odds outcome",
         "showlegend": false,
         "type": "scatter",
         "x": [
          0.04713176194826316
         ],
         "xaxis": "x26",
         "y": [
          0.8285258116875651
         ],
         "yaxis": "y26"
        },
        {
         "line": {
          "color": "#2E91E5"
         },
         "mode": "lines+markers+text",
         "name": "fairea baseline",
         "showlegend": false,
         "text": [
          "F_0",
          "F_10",
          "F_20",
          "F_30",
          "F_40",
          "F_50",
          "F_60",
          "F_70",
          "F_80",
          "F_90",
          "F_100"
         ],
         "textposition": "bottom right",
         "type": "scatter",
         "x": [
          0.0685830084977357,
          0.06369214478216093,
          0.05425564155486756,
          0.047239814974495246,
          0.039782283016360095,
          0.0326926823253849,
          0.03263965157390147,
          0.026984230604227673,
          0.019297769082038327,
          0.011059326583565933,
          0
         ],
         "xaxis": "x26",
         "y": [
          0.8315116327600037,
          0.8245253715001281,
          0.8175250807405493,
          0.8116511182793296,
          0.8063732962196805,
          0.7975877534623966,
          0.7916647566827446,
          0.786678315066208,
          0.7822315008063047,
          0.7770256793078878,
          0.3818868619863644
         ],
         "yaxis": "y26"
        },
        {
         "error_x": {
          "array": [
           -0.1014136852908333
          ],
          "type": "data"
         },
         "error_y": {
          "array": [
           -0.008978089432364667
          ],
          "type": "data"
         },
         "marker": {
          "color": "#E15F99"
         },
         "mode": "markers",
         "name": "reweighing outcome",
         "showlegend": false,
         "type": "scatter",
         "x": [
          0.07628445237040411
         ],
         "xaxis": "x27",
         "y": [
          0.8262410364844519
         ],
         "yaxis": "y27"
        },
        {
         "error_x": {
          "array": [
           -0.014474828632257575
          ],
          "type": "data"
         },
         "error_y": {
          "array": [
           -0.007287676431501744
          ],
          "type": "data"
         },
         "marker": {
          "color": "#1CA71C"
         },
         "mode": "markers",
         "name": "calibrated equal odds using fpr cost outcome",
         "showlegend": false,
         "type": "scatter",
         "x": [
          0.5896589324327605
         ],
         "xaxis": "x27",
         "y": [
          0.8315104435992918
         ],
         "yaxis": "y27"
        },
        {
         "error_x": {
          "array": [
           -0.11537876468176798
          ],
          "type": "data"
         },
         "error_y": {
          "array": [
           -0.007873696877627068
          ],
          "type": "data"
         },
         "marker": {
          "color": "#FB0D0D"
         },
         "mode": "markers",
         "name": "calibrated equal odds using fnr cost outcome",
         "showlegend": false,
         "type": "scatter",
         "x": [
          0.1001192439079641
         ],
         "xaxis": "x27",
         "y": [
          0.8310827174533381
         ],
         "yaxis": "y27"
        },
        {
         "error_x": {
          "array": [
           -0.015375522322629398
          ],
          "type": "data"
         },
         "error_y": {
          "array": [
           -0.007827728947601087
          ],
          "type": "data"
         },
         "marker": {
          "color": "#DA16FF"
         },
         "mode": "markers",
         "name": "calibrated equal odds using weighted cost outcome",
         "showlegend": false,
         "type": "scatter",
         "x": [
          0.5911256890019798
         ],
         "xaxis": "x27",
         "y": [
          0.8322600808569587
         ],
         "yaxis": "y27"
        },
        {
         "error_x": {
          "array": [
           -0.10168023853468197
          ],
          "type": "data"
         },
         "error_y": {
          "array": [
           -0.007477352066678433
          ],
          "type": "data"
         },
         "marker": {
          "color": "#222A2A"
         },
         "mode": "markers",
         "name": "equal odds outcome",
         "showlegend": false,
         "type": "scatter",
         "x": [
          0.08342364473014083
         ],
         "xaxis": "x27",
         "y": [
          0.8285258116875651
         ],
         "yaxis": "y27"
        },
        {
         "line": {
          "color": "#2E91E5"
         },
         "mode": "lines+markers+text",
         "name": "fairea baseline",
         "showlegend": false,
         "text": [
          "F_0",
          "F_10",
          "F_20",
          "F_30",
          "F_40",
          "F_50",
          "F_60",
          "F_70",
          "F_80",
          "F_90",
          "F_100"
         ],
         "textposition": "bottom right",
         "type": "scatter",
         "x": [
          0.10440457908697472,
          0.09803769370375542,
          0.08252631578947367,
          0.07163758201870724,
          0.05932360742705571,
          0.04852882870305738,
          0.051689515566103586,
          0.04384629345246404,
          0.03196481920982829,
          0.018721485411140586,
          0
         ],
         "xaxis": "x27",
         "y": [
          0.8315116327600037,
          0.8245253715001281,
          0.8175250807405493,
          0.8116511182793296,
          0.8063732962196805,
          0.7975877534623966,
          0.7916647566827446,
          0.786678315066208,
          0.7822315008063047,
          0.7770256793078878,
          0.3818868619863644
         ],
         "yaxis": "y27"
        },
        {
         "error_x": {
          "array": [
           -0.012954617921213399
          ],
          "type": "data"
         },
         "error_y": {
          "array": [
           -0.008978089432364667
          ],
          "type": "data"
         },
         "marker": {
          "color": "#E15F99"
         },
         "mode": "markers",
         "name": "reweighing outcome",
         "showlegend": false,
         "type": "scatter",
         "x": [
          0.08512966543149375
         ],
         "xaxis": "x28",
         "y": [
          0.8262410364844519
         ],
         "yaxis": "y28"
        },
        {
         "error_x": {
          "array": [
           -0.01673170986549556
          ],
          "type": "data"
         },
         "error_y": {
          "array": [
           -0.007287676431501744
          ],
          "type": "data"
         },
         "marker": {
          "color": "#1CA71C"
         },
         "mode": "markers",
         "name": "calibrated equal odds using fpr cost outcome",
         "showlegend": false,
         "type": "scatter",
         "x": [
          0.06786599402009061
         ],
         "xaxis": "x28",
         "y": [
          0.8315104435992918
         ],
         "yaxis": "y28"
        },
        {
         "error_x": {
          "array": [
           -0.01484884783771774
          ],
          "type": "data"
         },
         "error_y": {
          "array": [
           -0.007873696877627068
          ],
          "type": "data"
         },
         "marker": {
          "color": "#FB0D0D"
         },
         "mode": "markers",
         "name": "calibrated equal odds using fnr cost outcome",
         "showlegend": false,
         "type": "scatter",
         "x": [
          0.08550626235703675
         ],
         "xaxis": "x28",
         "y": [
          0.8310827174533381
         ],
         "yaxis": "y28"
        },
        {
         "error_x": {
          "array": [
           -0.018091225193089536
          ],
          "type": "data"
         },
         "error_y": {
          "array": [
           -0.007827728947601087
          ],
          "type": "data"
         },
         "marker": {
          "color": "#DA16FF"
         },
         "mode": "markers",
         "name": "calibrated equal odds using weighted cost outcome",
         "showlegend": false,
         "type": "scatter",
         "x": [
          0.06829081163739964
         ],
         "xaxis": "x28",
         "y": [
          0.8322600808569587
         ],
         "yaxis": "y28"
        },
        {
         "error_x": {
          "array": [
           -0.017161535511095935
          ],
          "type": "data"
         },
         "error_y": {
          "array": [
           -0.007477352066678433
          ],
          "type": "data"
         },
         "marker": {
          "color": "#222A2A"
         },
         "mode": "markers",
         "name": "equal odds outcome",
         "showlegend": false,
         "type": "scatter",
         "x": [
          0.06484613527683707
         ],
         "xaxis": "x28",
         "y": [
          0.8285258116875651
         ],
         "yaxis": "y28"
        },
        {
         "line": {
          "color": "#2E91E5"
         },
         "mode": "lines+markers+text",
         "name": "fairea baseline",
         "showlegend": false,
         "text": [
          "F_0",
          "F_10",
          "F_20",
          "F_30",
          "F_40",
          "F_50",
          "F_60",
          "F_70",
          "F_80",
          "F_90",
          "F_100"
         ],
         "textposition": "bottom right",
         "type": "scatter",
         "x": [
          0.08447361056413193,
          0.09287042020233229,
          0.10241481794777955,
          0.1114273380347503,
          0.12097984274861938,
          0.13016040704528734,
          0.1386660871150868,
          0.1470059289013044,
          0.15651007545989506,
          0.16525117799240463,
          0.17393512145889978
         ],
         "xaxis": "x28",
         "y": [
          0.8315116327600037,
          0.8245253715001281,
          0.8175250807405493,
          0.8116511182793296,
          0.8063732962196805,
          0.7975877534623966,
          0.7916647566827446,
          0.786678315066208,
          0.7822315008063047,
          0.7770256793078878,
          0.3818868619863644
         ],
         "yaxis": "y28"
        },
        {
         "error_x": {
          "array": [
           -0.014669125690659417
          ],
          "type": "data"
         },
         "error_y": {
          "array": [
           -0.01463211506586648
          ],
          "type": "data"
         },
         "marker": {
          "color": "#E15F99"
         },
         "mode": "markers",
         "name": "reweighing outcome",
         "showlegend": false,
         "type": "scatter",
         "x": [
          0.12499537772027708
         ],
         "xaxis": "x29",
         "y": [
          0.6642906204826555
         ],
         "yaxis": "y29"
        },
        {
         "error_x": {
          "array": [
           -0.0058110928811675455
          ],
          "type": "data"
         },
         "error_y": {
          "array": [
           -0.011788610294312218
          ],
          "type": "data"
         },
         "marker": {
          "color": "#1CA71C"
         },
         "mode": "markers",
         "name": "calibrated equal odds using fpr cost outcome",
         "showlegend": false,
         "type": "scatter",
         "x": [
          0.18629912946334568
         ],
         "xaxis": "x29",
         "y": [
          0.6653612712372285
         ],
         "yaxis": "y29"
        },
        {
         "error_x": {
          "array": [
           -0.015798763472345344
          ],
          "type": "data"
         },
         "error_y": {
          "array": [
           -0.0134980465964466
          ],
          "type": "data"
         },
         "marker": {
          "color": "#FB0D0D"
         },
         "mode": "markers",
         "name": "calibrated equal odds using fnr cost outcome",
         "showlegend": false,
         "type": "scatter",
         "x": [
          0.1305233025677107
         ],
         "xaxis": "x29",
         "y": [
          0.6695146110242622
         ],
         "yaxis": "y29"
        },
        {
         "error_x": {
          "array": [
           -0.006067306794178967
          ],
          "type": "data"
         },
         "error_y": {
          "array": [
           -0.01230315957037642
          ],
          "type": "data"
         },
         "marker": {
          "color": "#DA16FF"
         },
         "mode": "markers",
         "name": "calibrated equal odds using weighted cost outcome",
         "showlegend": false,
         "type": "scatter",
         "x": [
          0.18611984863480757
         ],
         "xaxis": "x29",
         "y": [
          0.6666297701290236
         ],
         "yaxis": "y29"
        },
        {
         "error_x": {
          "array": [
           -0.01593644325685055
          ],
          "type": "data"
         },
         "error_y": {
          "array": [
           -0.01287875084017398
          ],
          "type": "data"
         },
         "marker": {
          "color": "#222A2A"
         },
         "mode": "markers",
         "name": "equal odds outcome",
         "showlegend": false,
         "type": "scatter",
         "x": [
          0.10850568277284957
         ],
         "xaxis": "x29",
         "y": [
          0.6700484252717156
         ],
         "yaxis": "y29"
        },
        {
         "line": {
          "color": "#2E91E5"
         },
         "mode": "lines+markers+text",
         "name": "fairea baseline",
         "showlegend": false,
         "text": [
          "F_0",
          "F_10",
          "F_20",
          "F_30",
          "F_40",
          "F_50",
          "F_60",
          "F_70",
          "F_80",
          "F_90",
          "F_100"
         ],
         "textposition": "bottom right",
         "type": "scatter",
         "x": [
          0.13153366316698556,
          0.11865561466447005,
          0.10478255925418929,
          0.09185034906058193,
          0.07936776663277154,
          0.06552709097609065,
          0.052922554518159644,
          0.04006550536855555,
          0.02595754795230033,
          0.013092827447697897,
          0
         ],
         "xaxis": "x29",
         "y": [
          0.6717059433822439,
          0.6320864058707465,
          0.5870952565854328,
          0.5399156387883233,
          0.4884258965282055,
          0.42735980679073443,
          0.3593482098847355,
          0.2862407409820835,
          0.20524725832018528,
          0.10942838141935214,
          0
         ],
         "yaxis": "y29"
        },
        {
         "error_x": {
          "array": [
           -0.05119168246872774
          ],
          "type": "data"
         },
         "error_y": {
          "array": [
           -0.01463211506586648
          ],
          "type": "data"
         },
         "marker": {
          "color": "#E15F99"
         },
         "mode": "markers",
         "name": "reweighing outcome",
         "showlegend": false,
         "type": "scatter",
         "x": [
          0.05342657562783528
         ],
         "xaxis": "x30",
         "y": [
          0.6642906204826555
         ],
         "yaxis": "y30"
        },
        {
         "error_x": {
          "array": [
           -0.007515199373606174
          ],
          "type": "data"
         },
         "error_y": {
          "array": [
           -0.011788610294312218
          ],
          "type": "data"
         },
         "marker": {
          "color": "#1CA71C"
         },
         "mode": "markers",
         "name": "calibrated equal odds using fpr cost outcome",
         "showlegend": false,
         "type": "scatter",
         "x": [
          0.3215720657854554
         ],
         "xaxis": "x30",
         "y": [
          0.6653612712372285
         ],
         "yaxis": "y30"
        },
        {
         "error_x": {
          "array": [
           -0.05750649047104506
          ],
          "type": "data"
         },
         "error_y": {
          "array": [
           -0.0134980465964466
          ],
          "type": "data"
         },
         "marker": {
          "color": "#FB0D0D"
         },
         "mode": "markers",
         "name": "calibrated equal odds using fnr cost outcome",
         "showlegend": false,
         "type": "scatter",
         "x": [
          0.06632829996391733
         ],
         "xaxis": "x30",
         "y": [
          0.6695146110242622
         ],
         "yaxis": "y30"
        },
        {
         "error_x": {
          "array": [
           -0.0081686742075181
          ],
          "type": "data"
         },
         "error_y": {
          "array": [
           -0.01230315957037642
          ],
          "type": "data"
         },
         "marker": {
          "color": "#DA16FF"
         },
         "mode": "markers",
         "name": "calibrated equal odds using weighted cost outcome",
         "showlegend": false,
         "type": "scatter",
         "x": [
          0.32217538473254104
         ],
         "xaxis": "x30",
         "y": [
          0.6666297701290236
         ],
         "yaxis": "y30"
        },
        {
         "error_x": {
          "array": [
           -0.05116030035124883
          ],
          "type": "data"
         },
         "error_y": {
          "array": [
           -0.01287875084017398
          ],
          "type": "data"
         },
         "marker": {
          "color": "#222A2A"
         },
         "mode": "markers",
         "name": "equal odds outcome",
         "showlegend": false,
         "type": "scatter",
         "x": [
          0.04713176194826316
         ],
         "xaxis": "x30",
         "y": [
          0.6700484252717156
         ],
         "yaxis": "y30"
        },
        {
         "line": {
          "color": "#2E91E5"
         },
         "mode": "lines+markers+text",
         "name": "fairea baseline",
         "showlegend": false,
         "text": [
          "F_0",
          "F_10",
          "F_20",
          "F_30",
          "F_40",
          "F_50",
          "F_60",
          "F_70",
          "F_80",
          "F_90",
          "F_100"
         ],
         "textposition": "bottom right",
         "type": "scatter",
         "x": [
          0.0685830084977357,
          0.06369214478216093,
          0.05425564155486756,
          0.047239814974495246,
          0.039782283016360095,
          0.0326926823253849,
          0.03263965157390147,
          0.026984230604227673,
          0.019297769082038327,
          0.011059326583565933,
          0
         ],
         "xaxis": "x30",
         "y": [
          0.6717059433822439,
          0.6320864058707465,
          0.5870952565854328,
          0.5399156387883233,
          0.4884258965282055,
          0.42735980679073443,
          0.3593482098847355,
          0.2862407409820835,
          0.20524725832018528,
          0.10942838141935214,
          0
         ],
         "yaxis": "y30"
        },
        {
         "error_x": {
          "array": [
           -0.1014136852908333
          ],
          "type": "data"
         },
         "error_y": {
          "array": [
           -0.01463211506586648
          ],
          "type": "data"
         },
         "marker": {
          "color": "#E15F99"
         },
         "mode": "markers",
         "name": "reweighing outcome",
         "showlegend": false,
         "type": "scatter",
         "x": [
          0.07628445237040411
         ],
         "xaxis": "x31",
         "y": [
          0.6642906204826555
         ],
         "yaxis": "y31"
        },
        {
         "error_x": {
          "array": [
           -0.014474828632257575
          ],
          "type": "data"
         },
         "error_y": {
          "array": [
           -0.011788610294312218
          ],
          "type": "data"
         },
         "marker": {
          "color": "#1CA71C"
         },
         "mode": "markers",
         "name": "calibrated equal odds using fpr cost outcome",
         "showlegend": false,
         "type": "scatter",
         "x": [
          0.5896589324327605
         ],
         "xaxis": "x31",
         "y": [
          0.6653612712372285
         ],
         "yaxis": "y31"
        },
        {
         "error_x": {
          "array": [
           -0.11537876468176798
          ],
          "type": "data"
         },
         "error_y": {
          "array": [
           -0.0134980465964466
          ],
          "type": "data"
         },
         "marker": {
          "color": "#FB0D0D"
         },
         "mode": "markers",
         "name": "calibrated equal odds using fnr cost outcome",
         "showlegend": false,
         "type": "scatter",
         "x": [
          0.1001192439079641
         ],
         "xaxis": "x31",
         "y": [
          0.6695146110242622
         ],
         "yaxis": "y31"
        },
        {
         "error_x": {
          "array": [
           -0.015375522322629398
          ],
          "type": "data"
         },
         "error_y": {
          "array": [
           -0.01230315957037642
          ],
          "type": "data"
         },
         "marker": {
          "color": "#DA16FF"
         },
         "mode": "markers",
         "name": "calibrated equal odds using weighted cost outcome",
         "showlegend": false,
         "type": "scatter",
         "x": [
          0.5911256890019798
         ],
         "xaxis": "x31",
         "y": [
          0.6666297701290236
         ],
         "yaxis": "y31"
        },
        {
         "error_x": {
          "array": [
           -0.10168023853468197
          ],
          "type": "data"
         },
         "error_y": {
          "array": [
           -0.01287875084017398
          ],
          "type": "data"
         },
         "marker": {
          "color": "#222A2A"
         },
         "mode": "markers",
         "name": "equal odds outcome",
         "showlegend": false,
         "type": "scatter",
         "x": [
          0.08342364473014083
         ],
         "xaxis": "x31",
         "y": [
          0.6700484252717156
         ],
         "yaxis": "y31"
        },
        {
         "line": {
          "color": "#2E91E5"
         },
         "mode": "lines+markers+text",
         "name": "fairea baseline",
         "showlegend": false,
         "text": [
          "F_0",
          "F_10",
          "F_20",
          "F_30",
          "F_40",
          "F_50",
          "F_60",
          "F_70",
          "F_80",
          "F_90",
          "F_100"
         ],
         "textposition": "bottom right",
         "type": "scatter",
         "x": [
          0.10440457908697472,
          0.09803769370375542,
          0.08252631578947367,
          0.07163758201870724,
          0.05932360742705571,
          0.04852882870305738,
          0.051689515566103586,
          0.04384629345246404,
          0.03196481920982829,
          0.018721485411140586,
          0
         ],
         "xaxis": "x31",
         "y": [
          0.6717059433822439,
          0.6320864058707465,
          0.5870952565854328,
          0.5399156387883233,
          0.4884258965282055,
          0.42735980679073443,
          0.3593482098847355,
          0.2862407409820835,
          0.20524725832018528,
          0.10942838141935214,
          0
         ],
         "yaxis": "y31"
        },
        {
         "error_x": {
          "array": [
           -0.012954617921213399
          ],
          "type": "data"
         },
         "error_y": {
          "array": [
           -0.01463211506586648
          ],
          "type": "data"
         },
         "marker": {
          "color": "#E15F99"
         },
         "mode": "markers",
         "name": "reweighing outcome",
         "showlegend": false,
         "type": "scatter",
         "x": [
          0.08512966543149375
         ],
         "xaxis": "x32",
         "y": [
          0.6642906204826555
         ],
         "yaxis": "y32"
        },
        {
         "error_x": {
          "array": [
           -0.01673170986549556
          ],
          "type": "data"
         },
         "error_y": {
          "array": [
           -0.011788610294312218
          ],
          "type": "data"
         },
         "marker": {
          "color": "#1CA71C"
         },
         "mode": "markers",
         "name": "calibrated equal odds using fpr cost outcome",
         "showlegend": false,
         "type": "scatter",
         "x": [
          0.06786599402009061
         ],
         "xaxis": "x32",
         "y": [
          0.6653612712372285
         ],
         "yaxis": "y32"
        },
        {
         "error_x": {
          "array": [
           -0.01484884783771774
          ],
          "type": "data"
         },
         "error_y": {
          "array": [
           -0.0134980465964466
          ],
          "type": "data"
         },
         "marker": {
          "color": "#FB0D0D"
         },
         "mode": "markers",
         "name": "calibrated equal odds using fnr cost outcome",
         "showlegend": false,
         "type": "scatter",
         "x": [
          0.08550626235703675
         ],
         "xaxis": "x32",
         "y": [
          0.6695146110242622
         ],
         "yaxis": "y32"
        },
        {
         "error_x": {
          "array": [
           -0.018091225193089536
          ],
          "type": "data"
         },
         "error_y": {
          "array": [
           -0.01230315957037642
          ],
          "type": "data"
         },
         "marker": {
          "color": "#DA16FF"
         },
         "mode": "markers",
         "name": "calibrated equal odds using weighted cost outcome",
         "showlegend": false,
         "type": "scatter",
         "x": [
          0.06829081163739964
         ],
         "xaxis": "x32",
         "y": [
          0.6666297701290236
         ],
         "yaxis": "y32"
        },
        {
         "error_x": {
          "array": [
           -0.017161535511095935
          ],
          "type": "data"
         },
         "error_y": {
          "array": [
           -0.01287875084017398
          ],
          "type": "data"
         },
         "marker": {
          "color": "#222A2A"
         },
         "mode": "markers",
         "name": "equal odds outcome",
         "showlegend": false,
         "type": "scatter",
         "x": [
          0.06484613527683707
         ],
         "xaxis": "x32",
         "y": [
          0.6700484252717156
         ],
         "yaxis": "y32"
        },
        {
         "line": {
          "color": "#2E91E5"
         },
         "mode": "lines+markers+text",
         "name": "fairea baseline",
         "showlegend": false,
         "text": [
          "F_0",
          "F_10",
          "F_20",
          "F_30",
          "F_40",
          "F_50",
          "F_60",
          "F_70",
          "F_80",
          "F_90",
          "F_100"
         ],
         "textposition": "bottom right",
         "type": "scatter",
         "x": [
          0.08447361056413193,
          0.09287042020233229,
          0.10241481794777955,
          0.1114273380347503,
          0.12097984274861938,
          0.13016040704528734,
          0.1386660871150868,
          0.1470059289013044,
          0.15651007545989506,
          0.16525117799240463,
          0.17393512145889978
         ],
         "xaxis": "x32",
         "y": [
          0.6717059433822439,
          0.6320864058707465,
          0.5870952565854328,
          0.5399156387883233,
          0.4884258965282055,
          0.42735980679073443,
          0.3593482098847355,
          0.2862407409820835,
          0.20524725832018528,
          0.10942838141935214,
          0
         ],
         "yaxis": "y32"
        },
        {
         "error_x": {
          "array": [
           -0.014669125690659417
          ],
          "type": "data"
         },
         "error_y": {
          "array": [
           -0.00345576808400061
          ],
          "type": "data"
         },
         "marker": {
          "color": "#E15F99"
         },
         "mode": "markers",
         "name": "reweighing outcome",
         "showlegend": false,
         "type": "scatter",
         "x": [
          0.12499537772027708
         ],
         "xaxis": "x33",
         "y": [
          0.9121403172697766
         ],
         "yaxis": "y33"
        },
        {
         "error_x": {
          "array": [
           -0.0058110928811675455
          ],
          "type": "data"
         },
         "error_y": {
          "array": [
           -0.003390255268262865
          ],
          "type": "data"
         },
         "marker": {
          "color": "#1CA71C"
         },
         "mode": "markers",
         "name": "calibrated equal odds using fpr cost outcome",
         "showlegend": false,
         "type": "scatter",
         "x": [
          0.18629912946334568
         ],
         "xaxis": "x33",
         "y": [
          0.9134096188259346
         ],
         "yaxis": "y33"
        },
        {
         "error_x": {
          "array": [
           -0.015798763472345344
          ],
          "type": "data"
         },
         "error_y": {
          "array": [
           -0.003949912444660697
          ],
          "type": "data"
         },
         "marker": {
          "color": "#FB0D0D"
         },
         "mode": "markers",
         "name": "calibrated equal odds using fnr cost outcome",
         "showlegend": false,
         "type": "scatter",
         "x": [
          0.1305233025677107
         ],
         "xaxis": "x33",
         "y": [
          0.9139214180006019
         ],
         "yaxis": "y33"
        },
        {
         "error_x": {
          "array": [
           -0.006067306794178967
          ],
          "type": "data"
         },
         "error_y": {
          "array": [
           -0.0032094535734297214
          ],
          "type": "data"
         },
         "marker": {
          "color": "#DA16FF"
         },
         "mode": "markers",
         "name": "calibrated equal odds using weighted cost outcome",
         "showlegend": false,
         "type": "scatter",
         "x": [
          0.18611984863480757
         ],
         "xaxis": "x33",
         "y": [
          0.9139819985661023
         ],
         "yaxis": "y33"
        },
        {
         "error_x": {
          "array": [
           -0.01593644325685055
          ],
          "type": "data"
         },
         "error_y": {
          "array": [
           -0.003961479950802982
          ],
          "type": "data"
         },
         "marker": {
          "color": "#222A2A"
         },
         "mode": "markers",
         "name": "equal odds outcome",
         "showlegend": false,
         "type": "scatter",
         "x": [
          0.10850568277284957
         ],
         "xaxis": "x33",
         "y": [
          0.9133843760759498
         ],
         "yaxis": "y33"
        },
        {
         "line": {
          "color": "#2E91E5"
         },
         "mode": "lines+markers+text",
         "name": "fairea baseline",
         "showlegend": false,
         "text": [
          "F_0",
          "F_10",
          "F_20",
          "F_30",
          "F_40",
          "F_50",
          "F_60",
          "F_70",
          "F_80",
          "F_90",
          "F_100"
         ],
         "textposition": "bottom right",
         "type": "scatter",
         "x": [
          0.13153366316698556,
          0.11865561466447005,
          0.10478255925418929,
          0.09185034906058193,
          0.07936776663277154,
          0.06552709097609065,
          0.052922554518159644,
          0.04006550536855555,
          0.02595754795230033,
          0.013092827447697897,
          0
         ],
         "xaxis": "x33",
         "y": [
          0.914197172186713,
          0.9089486260164346,
          0.903617372725874,
          0.8987327113101401,
          0.8940238894764652,
          0.8886301135301197,
          0.883762268481464,
          0.8792525551993681,
          0.8749048034578242,
          0.8704195640288899,
          0.8660676974508985
         ],
         "yaxis": "y33"
        },
        {
         "error_x": {
          "array": [
           -0.05119168246872774
          ],
          "type": "data"
         },
         "error_y": {
          "array": [
           -0.00345576808400061
          ],
          "type": "data"
         },
         "marker": {
          "color": "#E15F99"
         },
         "mode": "markers",
         "name": "reweighing outcome",
         "showlegend": false,
         "type": "scatter",
         "x": [
          0.05342657562783528
         ],
         "xaxis": "x34",
         "y": [
          0.9121403172697766
         ],
         "yaxis": "y34"
        },
        {
         "error_x": {
          "array": [
           -0.007515199373606174
          ],
          "type": "data"
         },
         "error_y": {
          "array": [
           -0.003390255268262865
          ],
          "type": "data"
         },
         "marker": {
          "color": "#1CA71C"
         },
         "mode": "markers",
         "name": "calibrated equal odds using fpr cost outcome",
         "showlegend": false,
         "type": "scatter",
         "x": [
          0.3215720657854554
         ],
         "xaxis": "x34",
         "y": [
          0.9134096188259346
         ],
         "yaxis": "y34"
        },
        {
         "error_x": {
          "array": [
           -0.05750649047104506
          ],
          "type": "data"
         },
         "error_y": {
          "array": [
           -0.003949912444660697
          ],
          "type": "data"
         },
         "marker": {
          "color": "#FB0D0D"
         },
         "mode": "markers",
         "name": "calibrated equal odds using fnr cost outcome",
         "showlegend": false,
         "type": "scatter",
         "x": [
          0.06632829996391733
         ],
         "xaxis": "x34",
         "y": [
          0.9139214180006019
         ],
         "yaxis": "y34"
        },
        {
         "error_x": {
          "array": [
           -0.0081686742075181
          ],
          "type": "data"
         },
         "error_y": {
          "array": [
           -0.0032094535734297214
          ],
          "type": "data"
         },
         "marker": {
          "color": "#DA16FF"
         },
         "mode": "markers",
         "name": "calibrated equal odds using weighted cost outcome",
         "showlegend": false,
         "type": "scatter",
         "x": [
          0.32217538473254104
         ],
         "xaxis": "x34",
         "y": [
          0.9139819985661023
         ],
         "yaxis": "y34"
        },
        {
         "error_x": {
          "array": [
           -0.05116030035124883
          ],
          "type": "data"
         },
         "error_y": {
          "array": [
           -0.003961479950802982
          ],
          "type": "data"
         },
         "marker": {
          "color": "#222A2A"
         },
         "mode": "markers",
         "name": "equal odds outcome",
         "showlegend": false,
         "type": "scatter",
         "x": [
          0.04713176194826316
         ],
         "xaxis": "x34",
         "y": [
          0.9133843760759498
         ],
         "yaxis": "y34"
        },
        {
         "line": {
          "color": "#2E91E5"
         },
         "mode": "lines+markers+text",
         "name": "fairea baseline",
         "showlegend": false,
         "text": [
          "F_0",
          "F_10",
          "F_20",
          "F_30",
          "F_40",
          "F_50",
          "F_60",
          "F_70",
          "F_80",
          "F_90",
          "F_100"
         ],
         "textposition": "bottom right",
         "type": "scatter",
         "x": [
          0.0685830084977357,
          0.06369214478216093,
          0.05425564155486756,
          0.047239814974495246,
          0.039782283016360095,
          0.0326926823253849,
          0.03263965157390147,
          0.026984230604227673,
          0.019297769082038327,
          0.011059326583565933,
          0
         ],
         "xaxis": "x34",
         "y": [
          0.914197172186713,
          0.9089486260164346,
          0.903617372725874,
          0.8987327113101401,
          0.8940238894764652,
          0.8886301135301197,
          0.883762268481464,
          0.8792525551993681,
          0.8749048034578242,
          0.8704195640288899,
          0.8660676974508985
         ],
         "yaxis": "y34"
        },
        {
         "error_x": {
          "array": [
           -0.1014136852908333
          ],
          "type": "data"
         },
         "error_y": {
          "array": [
           -0.00345576808400061
          ],
          "type": "data"
         },
         "marker": {
          "color": "#E15F99"
         },
         "mode": "markers",
         "name": "reweighing outcome",
         "showlegend": false,
         "type": "scatter",
         "x": [
          0.07628445237040411
         ],
         "xaxis": "x35",
         "y": [
          0.9121403172697766
         ],
         "yaxis": "y35"
        },
        {
         "error_x": {
          "array": [
           -0.014474828632257575
          ],
          "type": "data"
         },
         "error_y": {
          "array": [
           -0.003390255268262865
          ],
          "type": "data"
         },
         "marker": {
          "color": "#1CA71C"
         },
         "mode": "markers",
         "name": "calibrated equal odds using fpr cost outcome",
         "showlegend": false,
         "type": "scatter",
         "x": [
          0.5896589324327605
         ],
         "xaxis": "x35",
         "y": [
          0.9134096188259346
         ],
         "yaxis": "y35"
        },
        {
         "error_x": {
          "array": [
           -0.11537876468176798
          ],
          "type": "data"
         },
         "error_y": {
          "array": [
           -0.003949912444660697
          ],
          "type": "data"
         },
         "marker": {
          "color": "#FB0D0D"
         },
         "mode": "markers",
         "name": "calibrated equal odds using fnr cost outcome",
         "showlegend": false,
         "type": "scatter",
         "x": [
          0.1001192439079641
         ],
         "xaxis": "x35",
         "y": [
          0.9139214180006019
         ],
         "yaxis": "y35"
        },
        {
         "error_x": {
          "array": [
           -0.015375522322629398
          ],
          "type": "data"
         },
         "error_y": {
          "array": [
           -0.0032094535734297214
          ],
          "type": "data"
         },
         "marker": {
          "color": "#DA16FF"
         },
         "mode": "markers",
         "name": "calibrated equal odds using weighted cost outcome",
         "showlegend": false,
         "type": "scatter",
         "x": [
          0.5911256890019798
         ],
         "xaxis": "x35",
         "y": [
          0.9139819985661023
         ],
         "yaxis": "y35"
        },
        {
         "error_x": {
          "array": [
           -0.10168023853468197
          ],
          "type": "data"
         },
         "error_y": {
          "array": [
           -0.003961479950802982
          ],
          "type": "data"
         },
         "marker": {
          "color": "#222A2A"
         },
         "mode": "markers",
         "name": "equal odds outcome",
         "showlegend": false,
         "type": "scatter",
         "x": [
          0.08342364473014083
         ],
         "xaxis": "x35",
         "y": [
          0.9133843760759498
         ],
         "yaxis": "y35"
        },
        {
         "line": {
          "color": "#2E91E5"
         },
         "mode": "lines+markers+text",
         "name": "fairea baseline",
         "showlegend": false,
         "text": [
          "F_0",
          "F_10",
          "F_20",
          "F_30",
          "F_40",
          "F_50",
          "F_60",
          "F_70",
          "F_80",
          "F_90",
          "F_100"
         ],
         "textposition": "bottom right",
         "type": "scatter",
         "x": [
          0.10440457908697472,
          0.09803769370375542,
          0.08252631578947367,
          0.07163758201870724,
          0.05932360742705571,
          0.04852882870305738,
          0.051689515566103586,
          0.04384629345246404,
          0.03196481920982829,
          0.018721485411140586,
          0
         ],
         "xaxis": "x35",
         "y": [
          0.914197172186713,
          0.9089486260164346,
          0.903617372725874,
          0.8987327113101401,
          0.8940238894764652,
          0.8886301135301197,
          0.883762268481464,
          0.8792525551993681,
          0.8749048034578242,
          0.8704195640288899,
          0.8660676974508985
         ],
         "yaxis": "y35"
        },
        {
         "error_x": {
          "array": [
           -0.012954617921213399
          ],
          "type": "data"
         },
         "error_y": {
          "array": [
           -0.00345576808400061
          ],
          "type": "data"
         },
         "marker": {
          "color": "#E15F99"
         },
         "mode": "markers",
         "name": "reweighing outcome",
         "showlegend": false,
         "type": "scatter",
         "x": [
          0.08512966543149375
         ],
         "xaxis": "x36",
         "y": [
          0.9121403172697766
         ],
         "yaxis": "y36"
        },
        {
         "error_x": {
          "array": [
           -0.01673170986549556
          ],
          "type": "data"
         },
         "error_y": {
          "array": [
           -0.003390255268262865
          ],
          "type": "data"
         },
         "marker": {
          "color": "#1CA71C"
         },
         "mode": "markers",
         "name": "calibrated equal odds using fpr cost outcome",
         "showlegend": false,
         "type": "scatter",
         "x": [
          0.06786599402009061
         ],
         "xaxis": "x36",
         "y": [
          0.9134096188259346
         ],
         "yaxis": "y36"
        },
        {
         "error_x": {
          "array": [
           -0.01484884783771774
          ],
          "type": "data"
         },
         "error_y": {
          "array": [
           -0.003949912444660697
          ],
          "type": "data"
         },
         "marker": {
          "color": "#FB0D0D"
         },
         "mode": "markers",
         "name": "calibrated equal odds using fnr cost outcome",
         "showlegend": false,
         "type": "scatter",
         "x": [
          0.08550626235703675
         ],
         "xaxis": "x36",
         "y": [
          0.9139214180006019
         ],
         "yaxis": "y36"
        },
        {
         "error_x": {
          "array": [
           -0.018091225193089536
          ],
          "type": "data"
         },
         "error_y": {
          "array": [
           -0.0032094535734297214
          ],
          "type": "data"
         },
         "marker": {
          "color": "#DA16FF"
         },
         "mode": "markers",
         "name": "calibrated equal odds using weighted cost outcome",
         "showlegend": false,
         "type": "scatter",
         "x": [
          0.06829081163739964
         ],
         "xaxis": "x36",
         "y": [
          0.9139819985661023
         ],
         "yaxis": "y36"
        },
        {
         "error_x": {
          "array": [
           -0.017161535511095935
          ],
          "type": "data"
         },
         "error_y": {
          "array": [
           -0.003961479950802982
          ],
          "type": "data"
         },
         "marker": {
          "color": "#222A2A"
         },
         "mode": "markers",
         "name": "equal odds outcome",
         "showlegend": false,
         "type": "scatter",
         "x": [
          0.06484613527683707
         ],
         "xaxis": "x36",
         "y": [
          0.9133843760759498
         ],
         "yaxis": "y36"
        },
        {
         "line": {
          "color": "#2E91E5"
         },
         "mode": "lines+markers+text",
         "name": "fairea baseline",
         "showlegend": false,
         "text": [
          "F_0",
          "F_10",
          "F_20",
          "F_30",
          "F_40",
          "F_50",
          "F_60",
          "F_70",
          "F_80",
          "F_90",
          "F_100"
         ],
         "textposition": "bottom right",
         "type": "scatter",
         "x": [
          0.08447361056413193,
          0.09287042020233229,
          0.10241481794777955,
          0.1114273380347503,
          0.12097984274861938,
          0.13016040704528734,
          0.1386660871150868,
          0.1470059289013044,
          0.15651007545989506,
          0.16525117799240463,
          0.17393512145889978
         ],
         "xaxis": "x36",
         "y": [
          0.914197172186713,
          0.9089486260164346,
          0.903617372725874,
          0.8987327113101401,
          0.8940238894764652,
          0.8886301135301197,
          0.883762268481464,
          0.8792525551993681,
          0.8749048034578242,
          0.8704195640288899,
          0.8660676974508985
         ],
         "yaxis": "y36"
        },
        {
         "error_x": {
          "array": [
           -0.014669125690659417
          ],
          "type": "data"
         },
         "error_y": {
          "array": [
           -0.008571358725543154
          ],
          "type": "data"
         },
         "marker": {
          "color": "#E15F99"
         },
         "mode": "markers",
         "name": "reweighing outcome",
         "showlegend": false,
         "type": "scatter",
         "x": [
          0.12499537772027708
         ],
         "xaxis": "x37",
         "y": [
          0.7882154688762161
         ],
         "yaxis": "y37"
        },
        {
         "error_x": {
          "array": [
           -0.0058110928811675455
          ],
          "type": "data"
         },
         "error_y": {
          "array": [
           -0.0070709205917428575
          ],
          "type": "data"
         },
         "marker": {
          "color": "#1CA71C"
         },
         "mode": "markers",
         "name": "calibrated equal odds using fpr cost outcome",
         "showlegend": false,
         "type": "scatter",
         "x": [
          0.18629912946334568
         ],
         "xaxis": "x37",
         "y": [
          0.7893854450315816
         ],
         "yaxis": "y37"
        },
        {
         "error_x": {
          "array": [
           -0.015798763472345344
          ],
          "type": "data"
         },
         "error_y": {
          "array": [
           -0.008280131222414333
          ],
          "type": "data"
         },
         "marker": {
          "color": "#FB0D0D"
         },
         "mode": "markers",
         "name": "calibrated equal odds using fnr cost outcome",
         "showlegend": false,
         "type": "scatter",
         "x": [
          0.1305233025677107
         ],
         "xaxis": "x37",
         "y": [
          0.7917180145124323
         ],
         "yaxis": "y37"
        },
        {
         "error_x": {
          "array": [
           -0.006067306794178967
          ],
          "type": "data"
         },
         "error_y": {
          "array": [
           -0.007252402635355093
          ],
          "type": "data"
         },
         "marker": {
          "color": "#DA16FF"
         },
         "mode": "markers",
         "name": "calibrated equal odds using weighted cost outcome",
         "showlegend": false,
         "type": "scatter",
         "x": [
          0.18611984863480757
         ],
         "xaxis": "x37",
         "y": [
          0.790305884347563
         ],
         "yaxis": "y37"
        },
        {
         "error_x": {
          "array": [
           -0.01593644325685055
          ],
          "type": "data"
         },
         "error_y": {
          "array": [
           -0.007915428806947955
          ],
          "type": "data"
         },
         "marker": {
          "color": "#222A2A"
         },
         "mode": "markers",
         "name": "equal odds outcome",
         "showlegend": false,
         "type": "scatter",
         "x": [
          0.10850568277284957
         ],
         "xaxis": "x37",
         "y": [
          0.7917164006738326
         ],
         "yaxis": "y37"
        },
        {
         "line": {
          "color": "#2E91E5"
         },
         "mode": "lines+markers+text",
         "name": "fairea baseline",
         "showlegend": false,
         "text": [
          "F_0",
          "F_10",
          "F_20",
          "F_30",
          "F_40",
          "F_50",
          "F_60",
          "F_70",
          "F_80",
          "F_90",
          "F_100"
         ],
         "textposition": "bottom right",
         "type": "scatter",
         "x": [
          0.13153366316698556,
          0.11865561466447005,
          0.10478255925418929,
          0.09185034906058193,
          0.07936776663277154,
          0.06552709097609065,
          0.052922554518159644,
          0.04006550536855555,
          0.02595754795230033,
          0.013092827447697897,
          0
         ],
         "xaxis": "x37",
         "y": [
          0.7929515577844785,
          0.7705175159435903,
          0.7453563146556534,
          0.7193241750492315,
          0.6912248930023354,
          0.6579949601604272,
          0.6215552391830997,
          0.5827466480907258,
          0.5400760308890047,
          0.48992397272412097,
          0.43303384872544926
         ],
         "yaxis": "y37"
        },
        {
         "error_x": {
          "array": [
           -0.05119168246872774
          ],
          "type": "data"
         },
         "error_y": {
          "array": [
           -0.008571358725543154
          ],
          "type": "data"
         },
         "marker": {
          "color": "#E15F99"
         },
         "mode": "markers",
         "name": "reweighing outcome",
         "showlegend": false,
         "type": "scatter",
         "x": [
          0.05342657562783528
         ],
         "xaxis": "x38",
         "y": [
          0.7882154688762161
         ],
         "yaxis": "y38"
        },
        {
         "error_x": {
          "array": [
           -0.007515199373606174
          ],
          "type": "data"
         },
         "error_y": {
          "array": [
           -0.0070709205917428575
          ],
          "type": "data"
         },
         "marker": {
          "color": "#1CA71C"
         },
         "mode": "markers",
         "name": "calibrated equal odds using fpr cost outcome",
         "showlegend": false,
         "type": "scatter",
         "x": [
          0.3215720657854554
         ],
         "xaxis": "x38",
         "y": [
          0.7893854450315816
         ],
         "yaxis": "y38"
        },
        {
         "error_x": {
          "array": [
           -0.05750649047104506
          ],
          "type": "data"
         },
         "error_y": {
          "array": [
           -0.008280131222414333
          ],
          "type": "data"
         },
         "marker": {
          "color": "#FB0D0D"
         },
         "mode": "markers",
         "name": "calibrated equal odds using fnr cost outcome",
         "showlegend": false,
         "type": "scatter",
         "x": [
          0.06632829996391733
         ],
         "xaxis": "x38",
         "y": [
          0.7917180145124323
         ],
         "yaxis": "y38"
        },
        {
         "error_x": {
          "array": [
           -0.0081686742075181
          ],
          "type": "data"
         },
         "error_y": {
          "array": [
           -0.007252402635355093
          ],
          "type": "data"
         },
         "marker": {
          "color": "#DA16FF"
         },
         "mode": "markers",
         "name": "calibrated equal odds using weighted cost outcome",
         "showlegend": false,
         "type": "scatter",
         "x": [
          0.32217538473254104
         ],
         "xaxis": "x38",
         "y": [
          0.790305884347563
         ],
         "yaxis": "y38"
        },
        {
         "error_x": {
          "array": [
           -0.05116030035124883
          ],
          "type": "data"
         },
         "error_y": {
          "array": [
           -0.007915428806947955
          ],
          "type": "data"
         },
         "marker": {
          "color": "#222A2A"
         },
         "mode": "markers",
         "name": "equal odds outcome",
         "showlegend": false,
         "type": "scatter",
         "x": [
          0.04713176194826316
         ],
         "xaxis": "x38",
         "y": [
          0.7917164006738326
         ],
         "yaxis": "y38"
        },
        {
         "line": {
          "color": "#2E91E5"
         },
         "mode": "lines+markers+text",
         "name": "fairea baseline",
         "showlegend": false,
         "text": [
          "F_0",
          "F_10",
          "F_20",
          "F_30",
          "F_40",
          "F_50",
          "F_60",
          "F_70",
          "F_80",
          "F_90",
          "F_100"
         ],
         "textposition": "bottom right",
         "type": "scatter",
         "x": [
          0.0685830084977357,
          0.06369214478216093,
          0.05425564155486756,
          0.047239814974495246,
          0.039782283016360095,
          0.0326926823253849,
          0.03263965157390147,
          0.026984230604227673,
          0.019297769082038327,
          0.011059326583565933,
          0
         ],
         "xaxis": "x38",
         "y": [
          0.7929515577844785,
          0.7705175159435903,
          0.7453563146556534,
          0.7193241750492315,
          0.6912248930023354,
          0.6579949601604272,
          0.6215552391830997,
          0.5827466480907258,
          0.5400760308890047,
          0.48992397272412097,
          0.43303384872544926
         ],
         "yaxis": "y38"
        },
        {
         "error_x": {
          "array": [
           -0.1014136852908333
          ],
          "type": "data"
         },
         "error_y": {
          "array": [
           -0.008571358725543154
          ],
          "type": "data"
         },
         "marker": {
          "color": "#E15F99"
         },
         "mode": "markers",
         "name": "reweighing outcome",
         "showlegend": false,
         "type": "scatter",
         "x": [
          0.07628445237040411
         ],
         "xaxis": "x39",
         "y": [
          0.7882154688762161
         ],
         "yaxis": "y39"
        },
        {
         "error_x": {
          "array": [
           -0.014474828632257575
          ],
          "type": "data"
         },
         "error_y": {
          "array": [
           -0.0070709205917428575
          ],
          "type": "data"
         },
         "marker": {
          "color": "#1CA71C"
         },
         "mode": "markers",
         "name": "calibrated equal odds using fpr cost outcome",
         "showlegend": false,
         "type": "scatter",
         "x": [
          0.5896589324327605
         ],
         "xaxis": "x39",
         "y": [
          0.7893854450315816
         ],
         "yaxis": "y39"
        },
        {
         "error_x": {
          "array": [
           -0.11537876468176798
          ],
          "type": "data"
         },
         "error_y": {
          "array": [
           -0.008280131222414333
          ],
          "type": "data"
         },
         "marker": {
          "color": "#FB0D0D"
         },
         "mode": "markers",
         "name": "calibrated equal odds using fnr cost outcome",
         "showlegend": false,
         "type": "scatter",
         "x": [
          0.1001192439079641
         ],
         "xaxis": "x39",
         "y": [
          0.7917180145124323
         ],
         "yaxis": "y39"
        },
        {
         "error_x": {
          "array": [
           -0.015375522322629398
          ],
          "type": "data"
         },
         "error_y": {
          "array": [
           -0.007252402635355093
          ],
          "type": "data"
         },
         "marker": {
          "color": "#DA16FF"
         },
         "mode": "markers",
         "name": "calibrated equal odds using weighted cost outcome",
         "showlegend": false,
         "type": "scatter",
         "x": [
          0.5911256890019798
         ],
         "xaxis": "x39",
         "y": [
          0.790305884347563
         ],
         "yaxis": "y39"
        },
        {
         "error_x": {
          "array": [
           -0.10168023853468197
          ],
          "type": "data"
         },
         "error_y": {
          "array": [
           -0.007915428806947955
          ],
          "type": "data"
         },
         "marker": {
          "color": "#222A2A"
         },
         "mode": "markers",
         "name": "equal odds outcome",
         "showlegend": false,
         "type": "scatter",
         "x": [
          0.08342364473014083
         ],
         "xaxis": "x39",
         "y": [
          0.7917164006738326
         ],
         "yaxis": "y39"
        },
        {
         "line": {
          "color": "#2E91E5"
         },
         "mode": "lines+markers+text",
         "name": "fairea baseline",
         "showlegend": false,
         "text": [
          "F_0",
          "F_10",
          "F_20",
          "F_30",
          "F_40",
          "F_50",
          "F_60",
          "F_70",
          "F_80",
          "F_90",
          "F_100"
         ],
         "textposition": "bottom right",
         "type": "scatter",
         "x": [
          0.10440457908697472,
          0.09803769370375542,
          0.08252631578947367,
          0.07163758201870724,
          0.05932360742705571,
          0.04852882870305738,
          0.051689515566103586,
          0.04384629345246404,
          0.03196481920982829,
          0.018721485411140586,
          0
         ],
         "xaxis": "x39",
         "y": [
          0.7929515577844785,
          0.7705175159435903,
          0.7453563146556534,
          0.7193241750492315,
          0.6912248930023354,
          0.6579949601604272,
          0.6215552391830997,
          0.5827466480907258,
          0.5400760308890047,
          0.48992397272412097,
          0.43303384872544926
         ],
         "yaxis": "y39"
        },
        {
         "error_x": {
          "array": [
           -0.012954617921213399
          ],
          "type": "data"
         },
         "error_y": {
          "array": [
           -0.008571358725543154
          ],
          "type": "data"
         },
         "marker": {
          "color": "#E15F99"
         },
         "mode": "markers",
         "name": "reweighing outcome",
         "showlegend": false,
         "type": "scatter",
         "x": [
          0.08512966543149375
         ],
         "xaxis": "x40",
         "y": [
          0.7882154688762161
         ],
         "yaxis": "y40"
        },
        {
         "error_x": {
          "array": [
           -0.01673170986549556
          ],
          "type": "data"
         },
         "error_y": {
          "array": [
           -0.0070709205917428575
          ],
          "type": "data"
         },
         "marker": {
          "color": "#1CA71C"
         },
         "mode": "markers",
         "name": "calibrated equal odds using fpr cost outcome",
         "showlegend": false,
         "type": "scatter",
         "x": [
          0.06786599402009061
         ],
         "xaxis": "x40",
         "y": [
          0.7893854450315816
         ],
         "yaxis": "y40"
        },
        {
         "error_x": {
          "array": [
           -0.01484884783771774
          ],
          "type": "data"
         },
         "error_y": {
          "array": [
           -0.008280131222414333
          ],
          "type": "data"
         },
         "marker": {
          "color": "#FB0D0D"
         },
         "mode": "markers",
         "name": "calibrated equal odds using fnr cost outcome",
         "showlegend": false,
         "type": "scatter",
         "x": [
          0.08550626235703675
         ],
         "xaxis": "x40",
         "y": [
          0.7917180145124323
         ],
         "yaxis": "y40"
        },
        {
         "error_x": {
          "array": [
           -0.018091225193089536
          ],
          "type": "data"
         },
         "error_y": {
          "array": [
           -0.007252402635355093
          ],
          "type": "data"
         },
         "marker": {
          "color": "#DA16FF"
         },
         "mode": "markers",
         "name": "calibrated equal odds using weighted cost outcome",
         "showlegend": false,
         "type": "scatter",
         "x": [
          0.06829081163739964
         ],
         "xaxis": "x40",
         "y": [
          0.790305884347563
         ],
         "yaxis": "y40"
        },
        {
         "error_x": {
          "array": [
           -0.017161535511095935
          ],
          "type": "data"
         },
         "error_y": {
          "array": [
           -0.007915428806947955
          ],
          "type": "data"
         },
         "marker": {
          "color": "#222A2A"
         },
         "mode": "markers",
         "name": "equal odds outcome",
         "showlegend": false,
         "type": "scatter",
         "x": [
          0.06484613527683707
         ],
         "xaxis": "x40",
         "y": [
          0.7917164006738326
         ],
         "yaxis": "y40"
        },
        {
         "line": {
          "color": "#2E91E5"
         },
         "mode": "lines+markers+text",
         "name": "fairea baseline",
         "showlegend": false,
         "text": [
          "F_0",
          "F_10",
          "F_20",
          "F_30",
          "F_40",
          "F_50",
          "F_60",
          "F_70",
          "F_80",
          "F_90",
          "F_100"
         ],
         "textposition": "bottom right",
         "type": "scatter",
         "x": [
          0.08447361056413193,
          0.09287042020233229,
          0.10241481794777955,
          0.1114273380347503,
          0.12097984274861938,
          0.13016040704528734,
          0.1386660871150868,
          0.1470059289013044,
          0.15651007545989506,
          0.16525117799240463,
          0.17393512145889978
         ],
         "xaxis": "x40",
         "y": [
          0.7929515577844785,
          0.7705175159435903,
          0.7453563146556534,
          0.7193241750492315,
          0.6912248930023354,
          0.6579949601604272,
          0.6215552391830997,
          0.5827466480907258,
          0.5400760308890047,
          0.48992397272412097,
          0.43303384872544926
         ],
         "yaxis": "y40"
        },
        {
         "error_x": {
          "array": [
           -0.014669125690659417
          ],
          "type": "data"
         },
         "error_y": {
          "array": [
           -0.01671695646667959
          ],
          "type": "data"
         },
         "marker": {
          "color": "#E15F99"
         },
         "mode": "markers",
         "name": "reweighing outcome",
         "showlegend": false,
         "type": "scatter",
         "x": [
          0.12499537772027708
         ],
         "xaxis": "x41",
         "y": [
          0.5877956643830798
         ],
         "yaxis": "y41"
        },
        {
         "error_x": {
          "array": [
           -0.0058110928811675455
          ],
          "type": "data"
         },
         "error_y": {
          "array": [
           -0.013512656635746856
          ],
          "type": "data"
         },
         "marker": {
          "color": "#1CA71C"
         },
         "mode": "markers",
         "name": "calibrated equal odds using fpr cost outcome",
         "showlegend": false,
         "type": "scatter",
         "x": [
          0.18629912946334568
         ],
         "xaxis": "x41",
         "y": [
          0.5919856425597415
         ],
         "yaxis": "y41"
        },
        {
         "error_x": {
          "array": [
           -0.015798763472345344
          ],
          "type": "data"
         },
         "error_y": {
          "array": [
           -0.0156536264512408
          ],
          "type": "data"
         },
         "marker": {
          "color": "#FB0D0D"
         },
         "mode": "markers",
         "name": "calibrated equal odds using fnr cost outcome",
         "showlegend": false,
         "type": "scatter",
         "x": [
          0.1305233025677107
         ],
         "xaxis": "x41",
         "y": [
          0.5952663104336503
         ],
         "yaxis": "y41"
        },
        {
         "error_x": {
          "array": [
           -0.006067306794178967
          ],
          "type": "data"
         },
         "error_y": {
          "array": [
           -0.013980038148015184
          ],
          "type": "data"
         },
         "marker": {
          "color": "#DA16FF"
         },
         "mode": "markers",
         "name": "calibrated equal odds using weighted cost outcome",
         "showlegend": false,
         "type": "scatter",
         "x": [
          0.18611984863480757
         ],
         "xaxis": "x41",
         "y": [
          0.5936741279379202
         ],
         "yaxis": "y41"
        },
        {
         "error_x": {
          "array": [
           -0.01593644325685055
          ],
          "type": "data"
         },
         "error_y": {
          "array": [
           -0.015030126758064033
          ],
          "type": "data"
         },
         "marker": {
          "color": "#222A2A"
         },
         "mode": "markers",
         "name": "equal odds outcome",
         "showlegend": false,
         "type": "scatter",
         "x": [
          0.10850568277284957
         ],
         "xaxis": "x41",
         "y": [
          0.5941161716165024
         ],
         "yaxis": "y41"
        },
        {
         "line": {
          "color": "#2E91E5"
         },
         "mode": "lines+markers+text",
         "name": "fairea baseline",
         "showlegend": false,
         "text": [
          "F_0",
          "F_10",
          "F_20",
          "F_30",
          "F_40",
          "F_50",
          "F_60",
          "F_70",
          "F_80",
          "F_90",
          "F_100"
         ],
         "textposition": "bottom right",
         "type": "scatter",
         "x": [
          0.13153366316698556,
          0.11865561466447005,
          0.10478255925418929,
          0.09185034906058193,
          0.07936776663277154,
          0.06552709097609065,
          0.052922554518159644,
          0.04006550536855555,
          0.02595754795230033,
          0.013092827447697897,
          0
         ],
         "xaxis": "x41",
         "y": [
          0.5973146333260341,
          0.56095506285642,
          0.5222895396660925,
          0.48458869223921724,
          0.4459021644505174,
          0.3998314245133483,
          0.35249996974595754,
          0.30282705322051995,
          0.24674687586430377,
          0.17246684254216935,
          0
         ],
         "yaxis": "y41"
        },
        {
         "error_x": {
          "array": [
           -0.05119168246872774
          ],
          "type": "data"
         },
         "error_y": {
          "array": [
           -0.01671695646667959
          ],
          "type": "data"
         },
         "marker": {
          "color": "#E15F99"
         },
         "mode": "markers",
         "name": "reweighing outcome",
         "showlegend": false,
         "type": "scatter",
         "x": [
          0.05342657562783528
         ],
         "xaxis": "x42",
         "y": [
          0.5877956643830798
         ],
         "yaxis": "y42"
        },
        {
         "error_x": {
          "array": [
           -0.007515199373606174
          ],
          "type": "data"
         },
         "error_y": {
          "array": [
           -0.013512656635746856
          ],
          "type": "data"
         },
         "marker": {
          "color": "#1CA71C"
         },
         "mode": "markers",
         "name": "calibrated equal odds using fpr cost outcome",
         "showlegend": false,
         "type": "scatter",
         "x": [
          0.3215720657854554
         ],
         "xaxis": "x42",
         "y": [
          0.5919856425597415
         ],
         "yaxis": "y42"
        },
        {
         "error_x": {
          "array": [
           -0.05750649047104506
          ],
          "type": "data"
         },
         "error_y": {
          "array": [
           -0.0156536264512408
          ],
          "type": "data"
         },
         "marker": {
          "color": "#FB0D0D"
         },
         "mode": "markers",
         "name": "calibrated equal odds using fnr cost outcome",
         "showlegend": false,
         "type": "scatter",
         "x": [
          0.06632829996391733
         ],
         "xaxis": "x42",
         "y": [
          0.5952663104336503
         ],
         "yaxis": "y42"
        },
        {
         "error_x": {
          "array": [
           -0.0081686742075181
          ],
          "type": "data"
         },
         "error_y": {
          "array": [
           -0.013980038148015184
          ],
          "type": "data"
         },
         "marker": {
          "color": "#DA16FF"
         },
         "mode": "markers",
         "name": "calibrated equal odds using weighted cost outcome",
         "showlegend": false,
         "type": "scatter",
         "x": [
          0.32217538473254104
         ],
         "xaxis": "x42",
         "y": [
          0.5936741279379202
         ],
         "yaxis": "y42"
        },
        {
         "error_x": {
          "array": [
           -0.05116030035124883
          ],
          "type": "data"
         },
         "error_y": {
          "array": [
           -0.015030126758064033
          ],
          "type": "data"
         },
         "marker": {
          "color": "#222A2A"
         },
         "mode": "markers",
         "name": "equal odds outcome",
         "showlegend": false,
         "type": "scatter",
         "x": [
          0.04713176194826316
         ],
         "xaxis": "x42",
         "y": [
          0.5941161716165024
         ],
         "yaxis": "y42"
        },
        {
         "line": {
          "color": "#2E91E5"
         },
         "mode": "lines+markers+text",
         "name": "fairea baseline",
         "showlegend": false,
         "text": [
          "F_0",
          "F_10",
          "F_20",
          "F_30",
          "F_40",
          "F_50",
          "F_60",
          "F_70",
          "F_80",
          "F_90",
          "F_100"
         ],
         "textposition": "bottom right",
         "type": "scatter",
         "x": [
          0.0685830084977357,
          0.06369214478216093,
          0.05425564155486756,
          0.047239814974495246,
          0.039782283016360095,
          0.0326926823253849,
          0.03263965157390147,
          0.026984230604227673,
          0.019297769082038327,
          0.011059326583565933,
          0
         ],
         "xaxis": "x42",
         "y": [
          0.5973146333260341,
          0.56095506285642,
          0.5222895396660925,
          0.48458869223921724,
          0.4459021644505174,
          0.3998314245133483,
          0.35249996974595754,
          0.30282705322051995,
          0.24674687586430377,
          0.17246684254216935,
          0
         ],
         "yaxis": "y42"
        },
        {
         "error_x": {
          "array": [
           -0.1014136852908333
          ],
          "type": "data"
         },
         "error_y": {
          "array": [
           -0.01671695646667959
          ],
          "type": "data"
         },
         "marker": {
          "color": "#E15F99"
         },
         "mode": "markers",
         "name": "reweighing outcome",
         "showlegend": false,
         "type": "scatter",
         "x": [
          0.07628445237040411
         ],
         "xaxis": "x43",
         "y": [
          0.5877956643830798
         ],
         "yaxis": "y43"
        },
        {
         "error_x": {
          "array": [
           -0.014474828632257575
          ],
          "type": "data"
         },
         "error_y": {
          "array": [
           -0.013512656635746856
          ],
          "type": "data"
         },
         "marker": {
          "color": "#1CA71C"
         },
         "mode": "markers",
         "name": "calibrated equal odds using fpr cost outcome",
         "showlegend": false,
         "type": "scatter",
         "x": [
          0.5896589324327605
         ],
         "xaxis": "x43",
         "y": [
          0.5919856425597415
         ],
         "yaxis": "y43"
        },
        {
         "error_x": {
          "array": [
           -0.11537876468176798
          ],
          "type": "data"
         },
         "error_y": {
          "array": [
           -0.0156536264512408
          ],
          "type": "data"
         },
         "marker": {
          "color": "#FB0D0D"
         },
         "mode": "markers",
         "name": "calibrated equal odds using fnr cost outcome",
         "showlegend": false,
         "type": "scatter",
         "x": [
          0.1001192439079641
         ],
         "xaxis": "x43",
         "y": [
          0.5952663104336503
         ],
         "yaxis": "y43"
        },
        {
         "error_x": {
          "array": [
           -0.015375522322629398
          ],
          "type": "data"
         },
         "error_y": {
          "array": [
           -0.013980038148015184
          ],
          "type": "data"
         },
         "marker": {
          "color": "#DA16FF"
         },
         "mode": "markers",
         "name": "calibrated equal odds using weighted cost outcome",
         "showlegend": false,
         "type": "scatter",
         "x": [
          0.5911256890019798
         ],
         "xaxis": "x43",
         "y": [
          0.5936741279379202
         ],
         "yaxis": "y43"
        },
        {
         "error_x": {
          "array": [
           -0.10168023853468197
          ],
          "type": "data"
         },
         "error_y": {
          "array": [
           -0.015030126758064033
          ],
          "type": "data"
         },
         "marker": {
          "color": "#222A2A"
         },
         "mode": "markers",
         "name": "equal odds outcome",
         "showlegend": false,
         "type": "scatter",
         "x": [
          0.08342364473014083
         ],
         "xaxis": "x43",
         "y": [
          0.5941161716165024
         ],
         "yaxis": "y43"
        },
        {
         "line": {
          "color": "#2E91E5"
         },
         "mode": "lines+markers+text",
         "name": "fairea baseline",
         "showlegend": false,
         "text": [
          "F_0",
          "F_10",
          "F_20",
          "F_30",
          "F_40",
          "F_50",
          "F_60",
          "F_70",
          "F_80",
          "F_90",
          "F_100"
         ],
         "textposition": "bottom right",
         "type": "scatter",
         "x": [
          0.10440457908697472,
          0.09803769370375542,
          0.08252631578947367,
          0.07163758201870724,
          0.05932360742705571,
          0.04852882870305738,
          0.051689515566103586,
          0.04384629345246404,
          0.03196481920982829,
          0.018721485411140586,
          0
         ],
         "xaxis": "x43",
         "y": [
          0.5973146333260341,
          0.56095506285642,
          0.5222895396660925,
          0.48458869223921724,
          0.4459021644505174,
          0.3998314245133483,
          0.35249996974595754,
          0.30282705322051995,
          0.24674687586430377,
          0.17246684254216935,
          0
         ],
         "yaxis": "y43"
        },
        {
         "error_x": {
          "array": [
           -0.012954617921213399
          ],
          "type": "data"
         },
         "error_y": {
          "array": [
           -0.01671695646667959
          ],
          "type": "data"
         },
         "marker": {
          "color": "#E15F99"
         },
         "mode": "markers",
         "name": "reweighing outcome",
         "showlegend": false,
         "type": "scatter",
         "x": [
          0.08512966543149375
         ],
         "xaxis": "x44",
         "y": [
          0.5877956643830798
         ],
         "yaxis": "y44"
        },
        {
         "error_x": {
          "array": [
           -0.01673170986549556
          ],
          "type": "data"
         },
         "error_y": {
          "array": [
           -0.013512656635746856
          ],
          "type": "data"
         },
         "marker": {
          "color": "#1CA71C"
         },
         "mode": "markers",
         "name": "calibrated equal odds using fpr cost outcome",
         "showlegend": false,
         "type": "scatter",
         "x": [
          0.06786599402009061
         ],
         "xaxis": "x44",
         "y": [
          0.5919856425597415
         ],
         "yaxis": "y44"
        },
        {
         "error_x": {
          "array": [
           -0.01484884783771774
          ],
          "type": "data"
         },
         "error_y": {
          "array": [
           -0.0156536264512408
          ],
          "type": "data"
         },
         "marker": {
          "color": "#FB0D0D"
         },
         "mode": "markers",
         "name": "calibrated equal odds using fnr cost outcome",
         "showlegend": false,
         "type": "scatter",
         "x": [
          0.08550626235703675
         ],
         "xaxis": "x44",
         "y": [
          0.5952663104336503
         ],
         "yaxis": "y44"
        },
        {
         "error_x": {
          "array": [
           -0.018091225193089536
          ],
          "type": "data"
         },
         "error_y": {
          "array": [
           -0.013980038148015184
          ],
          "type": "data"
         },
         "marker": {
          "color": "#DA16FF"
         },
         "mode": "markers",
         "name": "calibrated equal odds using weighted cost outcome",
         "showlegend": false,
         "type": "scatter",
         "x": [
          0.06829081163739964
         ],
         "xaxis": "x44",
         "y": [
          0.5936741279379202
         ],
         "yaxis": "y44"
        },
        {
         "error_x": {
          "array": [
           -0.017161535511095935
          ],
          "type": "data"
         },
         "error_y": {
          "array": [
           -0.015030126758064033
          ],
          "type": "data"
         },
         "marker": {
          "color": "#222A2A"
         },
         "mode": "markers",
         "name": "equal odds outcome",
         "showlegend": false,
         "type": "scatter",
         "x": [
          0.06484613527683707
         ],
         "xaxis": "x44",
         "y": [
          0.5941161716165024
         ],
         "yaxis": "y44"
        },
        {
         "line": {
          "color": "#2E91E5"
         },
         "mode": "lines+markers+text",
         "name": "fairea baseline",
         "showlegend": false,
         "text": [
          "F_0",
          "F_10",
          "F_20",
          "F_30",
          "F_40",
          "F_50",
          "F_60",
          "F_70",
          "F_80",
          "F_90",
          "F_100"
         ],
         "textposition": "bottom right",
         "type": "scatter",
         "x": [
          0.08447361056413193,
          0.09287042020233229,
          0.10241481794777955,
          0.1114273380347503,
          0.12097984274861938,
          0.13016040704528734,
          0.1386660871150868,
          0.1470059289013044,
          0.15651007545989506,
          0.16525117799240463,
          0.17393512145889978
         ],
         "xaxis": "x44",
         "y": [
          0.5973146333260341,
          0.56095506285642,
          0.5222895396660925,
          0.48458869223921724,
          0.4459021644505174,
          0.3998314245133483,
          0.35249996974595754,
          0.30282705322051995,
          0.24674687586430377,
          0.17246684254216935,
          0
         ],
         "yaxis": "y44"
        }
       ],
       "layout": {
        "height": 3200,
        "template": {
         "data": {
          "bar": [
           {
            "error_x": {
             "color": "#2a3f5f"
            },
            "error_y": {
             "color": "#2a3f5f"
            },
            "marker": {
             "line": {
              "color": "#E5ECF6",
              "width": 0.5
             },
             "pattern": {
              "fillmode": "overlay",
              "size": 10,
              "solidity": 0.2
             }
            },
            "type": "bar"
           }
          ],
          "barpolar": [
           {
            "marker": {
             "line": {
              "color": "#E5ECF6",
              "width": 0.5
             },
             "pattern": {
              "fillmode": "overlay",
              "size": 10,
              "solidity": 0.2
             }
            },
            "type": "barpolar"
           }
          ],
          "carpet": [
           {
            "aaxis": {
             "endlinecolor": "#2a3f5f",
             "gridcolor": "white",
             "linecolor": "white",
             "minorgridcolor": "white",
             "startlinecolor": "#2a3f5f"
            },
            "baxis": {
             "endlinecolor": "#2a3f5f",
             "gridcolor": "white",
             "linecolor": "white",
             "minorgridcolor": "white",
             "startlinecolor": "#2a3f5f"
            },
            "type": "carpet"
           }
          ],
          "choropleth": [
           {
            "colorbar": {
             "outlinewidth": 0,
             "ticks": ""
            },
            "type": "choropleth"
           }
          ],
          "contour": [
           {
            "colorbar": {
             "outlinewidth": 0,
             "ticks": ""
            },
            "colorscale": [
             [
              0,
              "#0d0887"
             ],
             [
              0.1111111111111111,
              "#46039f"
             ],
             [
              0.2222222222222222,
              "#7201a8"
             ],
             [
              0.3333333333333333,
              "#9c179e"
             ],
             [
              0.4444444444444444,
              "#bd3786"
             ],
             [
              0.5555555555555556,
              "#d8576b"
             ],
             [
              0.6666666666666666,
              "#ed7953"
             ],
             [
              0.7777777777777778,
              "#fb9f3a"
             ],
             [
              0.8888888888888888,
              "#fdca26"
             ],
             [
              1,
              "#f0f921"
             ]
            ],
            "type": "contour"
           }
          ],
          "contourcarpet": [
           {
            "colorbar": {
             "outlinewidth": 0,
             "ticks": ""
            },
            "type": "contourcarpet"
           }
          ],
          "heatmap": [
           {
            "colorbar": {
             "outlinewidth": 0,
             "ticks": ""
            },
            "colorscale": [
             [
              0,
              "#0d0887"
             ],
             [
              0.1111111111111111,
              "#46039f"
             ],
             [
              0.2222222222222222,
              "#7201a8"
             ],
             [
              0.3333333333333333,
              "#9c179e"
             ],
             [
              0.4444444444444444,
              "#bd3786"
             ],
             [
              0.5555555555555556,
              "#d8576b"
             ],
             [
              0.6666666666666666,
              "#ed7953"
             ],
             [
              0.7777777777777778,
              "#fb9f3a"
             ],
             [
              0.8888888888888888,
              "#fdca26"
             ],
             [
              1,
              "#f0f921"
             ]
            ],
            "type": "heatmap"
           }
          ],
          "heatmapgl": [
           {
            "colorbar": {
             "outlinewidth": 0,
             "ticks": ""
            },
            "colorscale": [
             [
              0,
              "#0d0887"
             ],
             [
              0.1111111111111111,
              "#46039f"
             ],
             [
              0.2222222222222222,
              "#7201a8"
             ],
             [
              0.3333333333333333,
              "#9c179e"
             ],
             [
              0.4444444444444444,
              "#bd3786"
             ],
             [
              0.5555555555555556,
              "#d8576b"
             ],
             [
              0.6666666666666666,
              "#ed7953"
             ],
             [
              0.7777777777777778,
              "#fb9f3a"
             ],
             [
              0.8888888888888888,
              "#fdca26"
             ],
             [
              1,
              "#f0f921"
             ]
            ],
            "type": "heatmapgl"
           }
          ],
          "histogram": [
           {
            "marker": {
             "pattern": {
              "fillmode": "overlay",
              "size": 10,
              "solidity": 0.2
             }
            },
            "type": "histogram"
           }
          ],
          "histogram2d": [
           {
            "colorbar": {
             "outlinewidth": 0,
             "ticks": ""
            },
            "colorscale": [
             [
              0,
              "#0d0887"
             ],
             [
              0.1111111111111111,
              "#46039f"
             ],
             [
              0.2222222222222222,
              "#7201a8"
             ],
             [
              0.3333333333333333,
              "#9c179e"
             ],
             [
              0.4444444444444444,
              "#bd3786"
             ],
             [
              0.5555555555555556,
              "#d8576b"
             ],
             [
              0.6666666666666666,
              "#ed7953"
             ],
             [
              0.7777777777777778,
              "#fb9f3a"
             ],
             [
              0.8888888888888888,
              "#fdca26"
             ],
             [
              1,
              "#f0f921"
             ]
            ],
            "type": "histogram2d"
           }
          ],
          "histogram2dcontour": [
           {
            "colorbar": {
             "outlinewidth": 0,
             "ticks": ""
            },
            "colorscale": [
             [
              0,
              "#0d0887"
             ],
             [
              0.1111111111111111,
              "#46039f"
             ],
             [
              0.2222222222222222,
              "#7201a8"
             ],
             [
              0.3333333333333333,
              "#9c179e"
             ],
             [
              0.4444444444444444,
              "#bd3786"
             ],
             [
              0.5555555555555556,
              "#d8576b"
             ],
             [
              0.6666666666666666,
              "#ed7953"
             ],
             [
              0.7777777777777778,
              "#fb9f3a"
             ],
             [
              0.8888888888888888,
              "#fdca26"
             ],
             [
              1,
              "#f0f921"
             ]
            ],
            "type": "histogram2dcontour"
           }
          ],
          "mesh3d": [
           {
            "colorbar": {
             "outlinewidth": 0,
             "ticks": ""
            },
            "type": "mesh3d"
           }
          ],
          "parcoords": [
           {
            "line": {
             "colorbar": {
              "outlinewidth": 0,
              "ticks": ""
             }
            },
            "type": "parcoords"
           }
          ],
          "pie": [
           {
            "automargin": true,
            "type": "pie"
           }
          ],
          "scatter": [
           {
            "fillpattern": {
             "fillmode": "overlay",
             "size": 10,
             "solidity": 0.2
            },
            "type": "scatter"
           }
          ],
          "scatter3d": [
           {
            "line": {
             "colorbar": {
              "outlinewidth": 0,
              "ticks": ""
             }
            },
            "marker": {
             "colorbar": {
              "outlinewidth": 0,
              "ticks": ""
             }
            },
            "type": "scatter3d"
           }
          ],
          "scattercarpet": [
           {
            "marker": {
             "colorbar": {
              "outlinewidth": 0,
              "ticks": ""
             }
            },
            "type": "scattercarpet"
           }
          ],
          "scattergeo": [
           {
            "marker": {
             "colorbar": {
              "outlinewidth": 0,
              "ticks": ""
             }
            },
            "type": "scattergeo"
           }
          ],
          "scattergl": [
           {
            "marker": {
             "colorbar": {
              "outlinewidth": 0,
              "ticks": ""
             }
            },
            "type": "scattergl"
           }
          ],
          "scattermapbox": [
           {
            "marker": {
             "colorbar": {
              "outlinewidth": 0,
              "ticks": ""
             }
            },
            "type": "scattermapbox"
           }
          ],
          "scatterpolar": [
           {
            "marker": {
             "colorbar": {
              "outlinewidth": 0,
              "ticks": ""
             }
            },
            "type": "scatterpolar"
           }
          ],
          "scatterpolargl": [
           {
            "marker": {
             "colorbar": {
              "outlinewidth": 0,
              "ticks": ""
             }
            },
            "type": "scatterpolargl"
           }
          ],
          "scatterternary": [
           {
            "marker": {
             "colorbar": {
              "outlinewidth": 0,
              "ticks": ""
             }
            },
            "type": "scatterternary"
           }
          ],
          "surface": [
           {
            "colorbar": {
             "outlinewidth": 0,
             "ticks": ""
            },
            "colorscale": [
             [
              0,
              "#0d0887"
             ],
             [
              0.1111111111111111,
              "#46039f"
             ],
             [
              0.2222222222222222,
              "#7201a8"
             ],
             [
              0.3333333333333333,
              "#9c179e"
             ],
             [
              0.4444444444444444,
              "#bd3786"
             ],
             [
              0.5555555555555556,
              "#d8576b"
             ],
             [
              0.6666666666666666,
              "#ed7953"
             ],
             [
              0.7777777777777778,
              "#fb9f3a"
             ],
             [
              0.8888888888888888,
              "#fdca26"
             ],
             [
              1,
              "#f0f921"
             ]
            ],
            "type": "surface"
           }
          ],
          "table": [
           {
            "cells": {
             "fill": {
              "color": "#EBF0F8"
             },
             "line": {
              "color": "white"
             }
            },
            "header": {
             "fill": {
              "color": "#C8D4E3"
             },
             "line": {
              "color": "white"
             }
            },
            "type": "table"
           }
          ]
         },
         "layout": {
          "annotationdefaults": {
           "arrowcolor": "#2a3f5f",
           "arrowhead": 0,
           "arrowwidth": 1
          },
          "autotypenumbers": "strict",
          "coloraxis": {
           "colorbar": {
            "outlinewidth": 0,
            "ticks": ""
           }
          },
          "colorscale": {
           "diverging": [
            [
             0,
             "#8e0152"
            ],
            [
             0.1,
             "#c51b7d"
            ],
            [
             0.2,
             "#de77ae"
            ],
            [
             0.3,
             "#f1b6da"
            ],
            [
             0.4,
             "#fde0ef"
            ],
            [
             0.5,
             "#f7f7f7"
            ],
            [
             0.6,
             "#e6f5d0"
            ],
            [
             0.7,
             "#b8e186"
            ],
            [
             0.8,
             "#7fbc41"
            ],
            [
             0.9,
             "#4d9221"
            ],
            [
             1,
             "#276419"
            ]
           ],
           "sequential": [
            [
             0,
             "#0d0887"
            ],
            [
             0.1111111111111111,
             "#46039f"
            ],
            [
             0.2222222222222222,
             "#7201a8"
            ],
            [
             0.3333333333333333,
             "#9c179e"
            ],
            [
             0.4444444444444444,
             "#bd3786"
            ],
            [
             0.5555555555555556,
             "#d8576b"
            ],
            [
             0.6666666666666666,
             "#ed7953"
            ],
            [
             0.7777777777777778,
             "#fb9f3a"
            ],
            [
             0.8888888888888888,
             "#fdca26"
            ],
            [
             1,
             "#f0f921"
            ]
           ],
           "sequentialminus": [
            [
             0,
             "#0d0887"
            ],
            [
             0.1111111111111111,
             "#46039f"
            ],
            [
             0.2222222222222222,
             "#7201a8"
            ],
            [
             0.3333333333333333,
             "#9c179e"
            ],
            [
             0.4444444444444444,
             "#bd3786"
            ],
            [
             0.5555555555555556,
             "#d8576b"
            ],
            [
             0.6666666666666666,
             "#ed7953"
            ],
            [
             0.7777777777777778,
             "#fb9f3a"
            ],
            [
             0.8888888888888888,
             "#fdca26"
            ],
            [
             1,
             "#f0f921"
            ]
           ]
          },
          "colorway": [
           "#636efa",
           "#EF553B",
           "#00cc96",
           "#ab63fa",
           "#FFA15A",
           "#19d3f3",
           "#FF6692",
           "#B6E880",
           "#FF97FF",
           "#FECB52"
          ],
          "font": {
           "color": "#2a3f5f"
          },
          "geo": {
           "bgcolor": "white",
           "lakecolor": "white",
           "landcolor": "#E5ECF6",
           "showlakes": true,
           "showland": true,
           "subunitcolor": "white"
          },
          "hoverlabel": {
           "align": "left"
          },
          "hovermode": "closest",
          "mapbox": {
           "style": "light"
          },
          "paper_bgcolor": "white",
          "plot_bgcolor": "#E5ECF6",
          "polar": {
           "angularaxis": {
            "gridcolor": "white",
            "linecolor": "white",
            "ticks": ""
           },
           "bgcolor": "#E5ECF6",
           "radialaxis": {
            "gridcolor": "white",
            "linecolor": "white",
            "ticks": ""
           }
          },
          "scene": {
           "xaxis": {
            "backgroundcolor": "#E5ECF6",
            "gridcolor": "white",
            "gridwidth": 2,
            "linecolor": "white",
            "showbackground": true,
            "ticks": "",
            "zerolinecolor": "white"
           },
           "yaxis": {
            "backgroundcolor": "#E5ECF6",
            "gridcolor": "white",
            "gridwidth": 2,
            "linecolor": "white",
            "showbackground": true,
            "ticks": "",
            "zerolinecolor": "white"
           },
           "zaxis": {
            "backgroundcolor": "#E5ECF6",
            "gridcolor": "white",
            "gridwidth": 2,
            "linecolor": "white",
            "showbackground": true,
            "ticks": "",
            "zerolinecolor": "white"
           }
          },
          "shapedefaults": {
           "line": {
            "color": "#2a3f5f"
           }
          },
          "ternary": {
           "aaxis": {
            "gridcolor": "white",
            "linecolor": "white",
            "ticks": ""
           },
           "baxis": {
            "gridcolor": "white",
            "linecolor": "white",
            "ticks": ""
           },
           "bgcolor": "#E5ECF6",
           "caxis": {
            "gridcolor": "white",
            "linecolor": "white",
            "ticks": ""
           }
          },
          "title": {
           "x": 0.05
          },
          "xaxis": {
           "automargin": true,
           "gridcolor": "white",
           "linecolor": "white",
           "ticks": "",
           "title": {
            "standoff": 15
           },
           "zerolinecolor": "white",
           "zerolinewidth": 2
          },
          "yaxis": {
           "automargin": true,
           "gridcolor": "white",
           "linecolor": "white",
           "ticks": "",
           "title": {
            "standoff": 15
           },
           "zerolinecolor": "white",
           "zerolinewidth": 2
          }
         }
        },
        "width": 2200,
        "xaxis": {
         "anchor": "y",
         "domain": [
          0,
          0.2125
         ],
         "dtick": 0.1,
         "tick0": 0
        },
        "xaxis10": {
         "anchor": "y10",
         "domain": [
          0.2625,
          0.475
         ],
         "dtick": 0.1,
         "tick0": 0
        },
        "xaxis11": {
         "anchor": "y11",
         "domain": [
          0.525,
          0.7375
         ],
         "dtick": 0.1,
         "tick0": 0
        },
        "xaxis12": {
         "anchor": "y12",
         "domain": [
          0.7875,
          1
         ],
         "dtick": 0.1,
         "tick0": 0
        },
        "xaxis13": {
         "anchor": "y13",
         "domain": [
          0,
          0.2125
         ],
         "dtick": 0.1,
         "tick0": 0
        },
        "xaxis14": {
         "anchor": "y14",
         "domain": [
          0.2625,
          0.475
         ],
         "dtick": 0.1,
         "tick0": 0
        },
        "xaxis15": {
         "anchor": "y15",
         "domain": [
          0.525,
          0.7375
         ],
         "dtick": 0.1,
         "tick0": 0
        },
        "xaxis16": {
         "anchor": "y16",
         "domain": [
          0.7875,
          1
         ],
         "dtick": 0.1,
         "tick0": 0
        },
        "xaxis17": {
         "anchor": "y17",
         "domain": [
          0,
          0.2125
         ],
         "dtick": 0.1,
         "tick0": 0
        },
        "xaxis18": {
         "anchor": "y18",
         "domain": [
          0.2625,
          0.475
         ],
         "dtick": 0.1,
         "tick0": 0
        },
        "xaxis19": {
         "anchor": "y19",
         "domain": [
          0.525,
          0.7375
         ],
         "dtick": 0.1,
         "tick0": 0
        },
        "xaxis2": {
         "anchor": "y2",
         "domain": [
          0.2625,
          0.475
         ],
         "dtick": 0.1,
         "tick0": 0
        },
        "xaxis20": {
         "anchor": "y20",
         "domain": [
          0.7875,
          1
         ],
         "dtick": 0.1,
         "tick0": 0
        },
        "xaxis21": {
         "anchor": "y21",
         "domain": [
          0,
          0.2125
         ],
         "dtick": 0.1,
         "tick0": 0
        },
        "xaxis22": {
         "anchor": "y22",
         "domain": [
          0.2625,
          0.475
         ],
         "dtick": 0.1,
         "tick0": 0
        },
        "xaxis23": {
         "anchor": "y23",
         "domain": [
          0.525,
          0.7375
         ],
         "dtick": 0.1,
         "tick0": 0
        },
        "xaxis24": {
         "anchor": "y24",
         "domain": [
          0.7875,
          1
         ],
         "dtick": 0.1,
         "tick0": 0
        },
        "xaxis25": {
         "anchor": "y25",
         "domain": [
          0,
          0.2125
         ],
         "dtick": 0.1,
         "tick0": 0
        },
        "xaxis26": {
         "anchor": "y26",
         "domain": [
          0.2625,
          0.475
         ],
         "dtick": 0.1,
         "tick0": 0
        },
        "xaxis27": {
         "anchor": "y27",
         "domain": [
          0.525,
          0.7375
         ],
         "dtick": 0.1,
         "tick0": 0
        },
        "xaxis28": {
         "anchor": "y28",
         "domain": [
          0.7875,
          1
         ],
         "dtick": 0.1,
         "tick0": 0
        },
        "xaxis29": {
         "anchor": "y29",
         "domain": [
          0,
          0.2125
         ],
         "dtick": 0.1,
         "tick0": 0
        },
        "xaxis3": {
         "anchor": "y3",
         "domain": [
          0.525,
          0.7375
         ],
         "dtick": 0.1,
         "tick0": 0
        },
        "xaxis30": {
         "anchor": "y30",
         "domain": [
          0.2625,
          0.475
         ],
         "dtick": 0.1,
         "tick0": 0
        },
        "xaxis31": {
         "anchor": "y31",
         "domain": [
          0.525,
          0.7375
         ],
         "dtick": 0.1,
         "tick0": 0
        },
        "xaxis32": {
         "anchor": "y32",
         "domain": [
          0.7875,
          1
         ],
         "dtick": 0.1,
         "tick0": 0
        },
        "xaxis33": {
         "anchor": "y33",
         "domain": [
          0,
          0.2125
         ],
         "dtick": 0.1,
         "tick0": 0
        },
        "xaxis34": {
         "anchor": "y34",
         "domain": [
          0.2625,
          0.475
         ],
         "dtick": 0.1,
         "tick0": 0
        },
        "xaxis35": {
         "anchor": "y35",
         "domain": [
          0.525,
          0.7375
         ],
         "dtick": 0.1,
         "tick0": 0
        },
        "xaxis36": {
         "anchor": "y36",
         "domain": [
          0.7875,
          1
         ],
         "dtick": 0.1,
         "tick0": 0
        },
        "xaxis37": {
         "anchor": "y37",
         "domain": [
          0,
          0.2125
         ],
         "dtick": 0.1,
         "tick0": 0
        },
        "xaxis38": {
         "anchor": "y38",
         "domain": [
          0.2625,
          0.475
         ],
         "dtick": 0.1,
         "tick0": 0
        },
        "xaxis39": {
         "anchor": "y39",
         "domain": [
          0.525,
          0.7375
         ],
         "dtick": 0.1,
         "tick0": 0
        },
        "xaxis4": {
         "anchor": "y4",
         "domain": [
          0.7875,
          1
         ],
         "dtick": 0.1,
         "tick0": 0
        },
        "xaxis40": {
         "anchor": "y40",
         "domain": [
          0.7875,
          1
         ],
         "dtick": 0.1,
         "tick0": 0
        },
        "xaxis41": {
         "anchor": "y41",
         "domain": [
          0,
          0.2125
         ],
         "dtick": 0.1,
         "tick0": 0,
         "title": {
          "text": "Bias (statistical parity difference)"
         }
        },
        "xaxis42": {
         "anchor": "y42",
         "domain": [
          0.2625,
          0.475
         ],
         "dtick": 0.1,
         "tick0": 0,
         "title": {
          "text": "Bias (average odds difference)"
         }
        },
        "xaxis43": {
         "anchor": "y43",
         "domain": [
          0.525,
          0.7375
         ],
         "dtick": 0.1,
         "tick0": 0,
         "title": {
          "text": "Bias (equal opportunity difference)"
         }
        },
        "xaxis44": {
         "anchor": "y44",
         "domain": [
          0.7875,
          1
         ],
         "dtick": 0.1,
         "tick0": 0,
         "title": {
          "text": "Bias (error rate difference)"
         }
        },
        "xaxis5": {
         "anchor": "y5",
         "domain": [
          0,
          0.2125
         ],
         "dtick": 0.1,
         "tick0": 0
        },
        "xaxis6": {
         "anchor": "y6",
         "domain": [
          0.2625,
          0.475
         ],
         "dtick": 0.1,
         "tick0": 0
        },
        "xaxis7": {
         "anchor": "y7",
         "domain": [
          0.525,
          0.7375
         ],
         "dtick": 0.1,
         "tick0": 0
        },
        "xaxis8": {
         "anchor": "y8",
         "domain": [
          0.7875,
          1
         ],
         "dtick": 0.1,
         "tick0": 0
        },
        "xaxis9": {
         "anchor": "y9",
         "domain": [
          0,
          0.2125
         ],
         "dtick": 0.1,
         "tick0": 0
        },
        "yaxis": {
         "anchor": "x",
         "domain": [
          0.9338842975206612,
          1
         ],
         "dtick": 0.1,
         "tick0": 0,
         "title": {
          "text": "Performance (accuracy)"
         }
        },
        "yaxis10": {
         "anchor": "x10",
         "domain": [
          0.7471074380165289,
          0.8132231404958677
         ],
         "dtick": 0.1,
         "tick0": 0
        },
        "yaxis11": {
         "anchor": "x11",
         "domain": [
          0.7471074380165289,
          0.8132231404958677
         ],
         "dtick": 0.1,
         "tick0": 0
        },
        "yaxis12": {
         "anchor": "x12",
         "domain": [
          0.7471074380165289,
          0.8132231404958677
         ],
         "dtick": 0.1,
         "tick0": 0
        },
        "yaxis13": {
         "anchor": "x13",
         "domain": [
          0.6537190082644628,
          0.7198347107438017
         ],
         "dtick": 0.1,
         "tick0": 0,
         "title": {
          "text": "Performance (recall macro average)"
         }
        },
        "yaxis14": {
         "anchor": "x14",
         "domain": [
          0.6537190082644628,
          0.7198347107438017
         ],
         "dtick": 0.1,
         "tick0": 0
        },
        "yaxis15": {
         "anchor": "x15",
         "domain": [
          0.6537190082644628,
          0.7198347107438017
         ],
         "dtick": 0.1,
         "tick0": 0
        },
        "yaxis16": {
         "anchor": "x16",
         "domain": [
          0.6537190082644628,
          0.7198347107438017
         ],
         "dtick": 0.1,
         "tick0": 0
        },
        "yaxis17": {
         "anchor": "x17",
         "domain": [
          0.5603305785123966,
          0.6264462809917355
         ],
         "dtick": 0.1,
         "tick0": 0,
         "title": {
          "text": "Performance (precision positive class)"
         }
        },
        "yaxis18": {
         "anchor": "x18",
         "domain": [
          0.5603305785123966,
          0.6264462809917355
         ],
         "dtick": 0.1,
         "tick0": 0
        },
        "yaxis19": {
         "anchor": "x19",
         "domain": [
          0.5603305785123966,
          0.6264462809917355
         ],
         "dtick": 0.1,
         "tick0": 0
        },
        "yaxis2": {
         "anchor": "x2",
         "domain": [
          0.9338842975206612,
          1
         ],
         "dtick": 0.1,
         "tick0": 0
        },
        "yaxis20": {
         "anchor": "x20",
         "domain": [
          0.5603305785123966,
          0.6264462809917355
         ],
         "dtick": 0.1,
         "tick0": 0
        },
        "yaxis21": {
         "anchor": "x21",
         "domain": [
          0.4669421487603306,
          0.5330578512396694
         ],
         "dtick": 0.1,
         "tick0": 0,
         "title": {
          "text": "Performance (precision negative class)"
         }
        },
        "yaxis22": {
         "anchor": "x22",
         "domain": [
          0.4669421487603306,
          0.5330578512396694
         ],
         "dtick": 0.1,
         "tick0": 0
        },
        "yaxis23": {
         "anchor": "x23",
         "domain": [
          0.4669421487603306,
          0.5330578512396694
         ],
         "dtick": 0.1,
         "tick0": 0
        },
        "yaxis24": {
         "anchor": "x24",
         "domain": [
          0.4669421487603306,
          0.5330578512396694
         ],
         "dtick": 0.1,
         "tick0": 0
        },
        "yaxis25": {
         "anchor": "x25",
         "domain": [
          0.37355371900826445,
          0.4396694214876033
         ],
         "dtick": 0.1,
         "tick0": 0,
         "title": {
          "text": "Performance (precision macro average)"
         }
        },
        "yaxis26": {
         "anchor": "x26",
         "domain": [
          0.37355371900826445,
          0.4396694214876033
         ],
         "dtick": 0.1,
         "tick0": 0
        },
        "yaxis27": {
         "anchor": "x27",
         "domain": [
          0.37355371900826445,
          0.4396694214876033
         ],
         "dtick": 0.1,
         "tick0": 0
        },
        "yaxis28": {
         "anchor": "x28",
         "domain": [
          0.37355371900826445,
          0.4396694214876033
         ],
         "dtick": 0.1,
         "tick0": 0
        },
        "yaxis29": {
         "anchor": "x29",
         "domain": [
          0.2801652892561983,
          0.34628099173553717
         ],
         "dtick": 0.1,
         "tick0": 0,
         "title": {
          "text": "Performance (f1 score positive class)"
         }
        },
        "yaxis3": {
         "anchor": "x3",
         "domain": [
          0.9338842975206612,
          1
         ],
         "dtick": 0.1,
         "tick0": 0
        },
        "yaxis30": {
         "anchor": "x30",
         "domain": [
          0.2801652892561983,
          0.34628099173553717
         ],
         "dtick": 0.1,
         "tick0": 0
        },
        "yaxis31": {
         "anchor": "x31",
         "domain": [
          0.2801652892561983,
          0.34628099173553717
         ],
         "dtick": 0.1,
         "tick0": 0
        },
        "yaxis32": {
         "anchor": "x32",
         "domain": [
          0.2801652892561983,
          0.34628099173553717
         ],
         "dtick": 0.1,
         "tick0": 0
        },
        "yaxis33": {
         "anchor": "x33",
         "domain": [
          0.18677685950413223,
          0.2528925619834711
         ],
         "dtick": 0.1,
         "tick0": 0,
         "title": {
          "text": "Performance (f1 score negative class)"
         }
        },
        "yaxis34": {
         "anchor": "x34",
         "domain": [
          0.18677685950413223,
          0.2528925619834711
         ],
         "dtick": 0.1,
         "tick0": 0
        },
        "yaxis35": {
         "anchor": "x35",
         "domain": [
          0.18677685950413223,
          0.2528925619834711
         ],
         "dtick": 0.1,
         "tick0": 0
        },
        "yaxis36": {
         "anchor": "x36",
         "domain": [
          0.18677685950413223,
          0.2528925619834711
         ],
         "dtick": 0.1,
         "tick0": 0
        },
        "yaxis37": {
         "anchor": "x37",
         "domain": [
          0.09338842975206611,
          0.15950413223140497
         ],
         "dtick": 0.1,
         "tick0": 0,
         "title": {
          "text": "Performance (f1 score macro average)"
         }
        },
        "yaxis38": {
         "anchor": "x38",
         "domain": [
          0.09338842975206611,
          0.15950413223140497
         ],
         "dtick": 0.1,
         "tick0": 0
        },
        "yaxis39": {
         "anchor": "x39",
         "domain": [
          0.09338842975206611,
          0.15950413223140497
         ],
         "dtick": 0.1,
         "tick0": 0
        },
        "yaxis4": {
         "anchor": "x4",
         "domain": [
          0.9338842975206612,
          1
         ],
         "dtick": 0.1,
         "tick0": 0
        },
        "yaxis40": {
         "anchor": "x40",
         "domain": [
          0.09338842975206611,
          0.15950413223140497
         ],
         "dtick": 0.1,
         "tick0": 0
        },
        "yaxis41": {
         "anchor": "x41",
         "domain": [
          0,
          0.06611570247933884
         ],
         "dtick": 0.1,
         "tick0": 0,
         "title": {
          "text": "Performance (Matthews correlation coefficient)"
         }
        },
        "yaxis42": {
         "anchor": "x42",
         "domain": [
          0,
          0.06611570247933884
         ],
         "dtick": 0.1,
         "tick0": 0
        },
        "yaxis43": {
         "anchor": "x43",
         "domain": [
          0,
          0.06611570247933884
         ],
         "dtick": 0.1,
         "tick0": 0
        },
        "yaxis44": {
         "anchor": "x44",
         "domain": [
          0,
          0.06611570247933884
         ],
         "dtick": 0.1,
         "tick0": 0
        },
        "yaxis5": {
         "anchor": "x5",
         "domain": [
          0.8404958677685951,
          0.9066115702479339
         ],
         "dtick": 0.1,
         "tick0": 0,
         "title": {
          "text": "Performance (recall positive class)"
         }
        },
        "yaxis6": {
         "anchor": "x6",
         "domain": [
          0.8404958677685951,
          0.9066115702479339
         ],
         "dtick": 0.1,
         "tick0": 0
        },
        "yaxis7": {
         "anchor": "x7",
         "domain": [
          0.8404958677685951,
          0.9066115702479339
         ],
         "dtick": 0.1,
         "tick0": 0
        },
        "yaxis8": {
         "anchor": "x8",
         "domain": [
          0.8404958677685951,
          0.9066115702479339
         ],
         "dtick": 0.1,
         "tick0": 0
        },
        "yaxis9": {
         "anchor": "x9",
         "domain": [
          0.7471074380165289,
          0.8132231404958677
         ],
         "dtick": 0.1,
         "tick0": 0,
         "title": {
          "text": "Performance (recall negative class)"
         }
        }
       }
      }
     },
     "metadata": {},
     "output_type": "display_data"
    }
   ],
   "source": [
    "random_forest_bias.show_all_fairea_graphs()"
   ]
  },
  {
   "cell_type": "code",
   "execution_count": 24,
   "metadata": {},
   "outputs": [
    {
     "data": {
      "application/vnd.plotly.v1+json": {
       "config": {
        "plotlyServerURL": "https://plot.ly"
       },
       "data": [
        {
         "error_x": {
          "array": [
           -0.1014136852908333
          ],
          "type": "data"
         },
         "error_y": {
          "array": [
           -0.005270224000120782
          ],
          "type": "data"
         },
         "marker": {
          "color": "#E15F99"
         },
         "mode": "markers",
         "name": "reweighing outcome",
         "showlegend": true,
         "type": "scatter",
         "x": [
          0.07628445237040411
         ],
         "y": [
          0.8607364412505373
         ]
        },
        {
         "error_x": {
          "array": [
           -0.014474828632257575
          ],
          "type": "data"
         },
         "error_y": {
          "array": [
           -0.004957473626694853
          ],
          "type": "data"
         },
         "marker": {
          "color": "#1CA71C"
         },
         "mode": "markers",
         "name": "calibrated equal odds using fpr cost outcome",
         "showlegend": true,
         "type": "scatter",
         "x": [
          0.5896589324327605
         ],
         "y": [
          0.86242552668755
         ]
        },
        {
         "error_x": {
          "array": [
           -0.11537876468176798
          ],
          "type": "data"
         },
         "error_y": {
          "array": [
           -0.0058497717361177815
          ],
          "type": "data"
         },
         "marker": {
          "color": "#FB0D0D"
         },
         "mode": "markers",
         "name": "calibrated equal odds using fnr cost outcome",
         "showlegend": true,
         "type": "scatter",
         "x": [
          0.1001192439079641
         ],
         "y": [
          0.8634236226276026
         ]
        },
        {
         "error_x": {
          "array": [
           -0.015375522322629398
          ],
          "type": "data"
         },
         "error_y": {
          "array": [
           -0.0047694124972306184
          ],
          "type": "data"
         },
         "marker": {
          "color": "#DA16FF"
         },
         "mode": "markers",
         "name": "calibrated equal odds using weighted cost outcome",
         "showlegend": true,
         "type": "scatter",
         "x": [
          0.5911256890019798
         ],
         "y": [
          0.8632553282967877
         ]
        },
        {
         "error_x": {
          "array": [
           -0.10168023853468197
          ],
          "type": "data"
         },
         "error_y": {
          "array": [
           -0.0057792125319097165
          ],
          "type": "data"
         },
         "marker": {
          "color": "#222A2A"
         },
         "mode": "markers",
         "name": "equal odds outcome",
         "showlegend": true,
         "type": "scatter",
         "x": [
          0.08342364473014083
         ],
         "y": [
          0.862795282845034
         ]
        },
        {
         "line": {
          "color": "#2E91E5"
         },
         "mode": "lines+markers+text",
         "name": "fairea baseline",
         "showlegend": true,
         "text": [
          "F_0",
          "F_10",
          "F_20",
          "F_30",
          "F_40",
          "F_50",
          "F_60",
          "F_70",
          "F_80",
          "F_90",
          "F_100"
         ],
         "textposition": "bottom right",
         "type": "scatter",
         "x": [
          0.10440457908697472,
          0.09803769370375542,
          0.08252631578947367,
          0.07163758201870724,
          0.05932360742705571,
          0.04852882870305738,
          0.051689515566103586,
          0.04384629345246404,
          0.03196481920982829,
          0.018721485411140586,
          0
         ],
         "y": [
          0.8639518457097229,
          0.8540237086174067,
          0.8437159879614274,
          0.8340028253792764,
          0.8244211043547693,
          0.8135274246053682,
          0.8032270745040232,
          0.7934488053559364,
          0.7838351452613476,
          0.7737583686505742,
          0.7637737239727288
         ]
        }
       ],
       "layout": {
        "template": {
         "data": {
          "bar": [
           {
            "error_x": {
             "color": "#2a3f5f"
            },
            "error_y": {
             "color": "#2a3f5f"
            },
            "marker": {
             "line": {
              "color": "#E5ECF6",
              "width": 0.5
             },
             "pattern": {
              "fillmode": "overlay",
              "size": 10,
              "solidity": 0.2
             }
            },
            "type": "bar"
           }
          ],
          "barpolar": [
           {
            "marker": {
             "line": {
              "color": "#E5ECF6",
              "width": 0.5
             },
             "pattern": {
              "fillmode": "overlay",
              "size": 10,
              "solidity": 0.2
             }
            },
            "type": "barpolar"
           }
          ],
          "carpet": [
           {
            "aaxis": {
             "endlinecolor": "#2a3f5f",
             "gridcolor": "white",
             "linecolor": "white",
             "minorgridcolor": "white",
             "startlinecolor": "#2a3f5f"
            },
            "baxis": {
             "endlinecolor": "#2a3f5f",
             "gridcolor": "white",
             "linecolor": "white",
             "minorgridcolor": "white",
             "startlinecolor": "#2a3f5f"
            },
            "type": "carpet"
           }
          ],
          "choropleth": [
           {
            "colorbar": {
             "outlinewidth": 0,
             "ticks": ""
            },
            "type": "choropleth"
           }
          ],
          "contour": [
           {
            "colorbar": {
             "outlinewidth": 0,
             "ticks": ""
            },
            "colorscale": [
             [
              0,
              "#0d0887"
             ],
             [
              0.1111111111111111,
              "#46039f"
             ],
             [
              0.2222222222222222,
              "#7201a8"
             ],
             [
              0.3333333333333333,
              "#9c179e"
             ],
             [
              0.4444444444444444,
              "#bd3786"
             ],
             [
              0.5555555555555556,
              "#d8576b"
             ],
             [
              0.6666666666666666,
              "#ed7953"
             ],
             [
              0.7777777777777778,
              "#fb9f3a"
             ],
             [
              0.8888888888888888,
              "#fdca26"
             ],
             [
              1,
              "#f0f921"
             ]
            ],
            "type": "contour"
           }
          ],
          "contourcarpet": [
           {
            "colorbar": {
             "outlinewidth": 0,
             "ticks": ""
            },
            "type": "contourcarpet"
           }
          ],
          "heatmap": [
           {
            "colorbar": {
             "outlinewidth": 0,
             "ticks": ""
            },
            "colorscale": [
             [
              0,
              "#0d0887"
             ],
             [
              0.1111111111111111,
              "#46039f"
             ],
             [
              0.2222222222222222,
              "#7201a8"
             ],
             [
              0.3333333333333333,
              "#9c179e"
             ],
             [
              0.4444444444444444,
              "#bd3786"
             ],
             [
              0.5555555555555556,
              "#d8576b"
             ],
             [
              0.6666666666666666,
              "#ed7953"
             ],
             [
              0.7777777777777778,
              "#fb9f3a"
             ],
             [
              0.8888888888888888,
              "#fdca26"
             ],
             [
              1,
              "#f0f921"
             ]
            ],
            "type": "heatmap"
           }
          ],
          "heatmapgl": [
           {
            "colorbar": {
             "outlinewidth": 0,
             "ticks": ""
            },
            "colorscale": [
             [
              0,
              "#0d0887"
             ],
             [
              0.1111111111111111,
              "#46039f"
             ],
             [
              0.2222222222222222,
              "#7201a8"
             ],
             [
              0.3333333333333333,
              "#9c179e"
             ],
             [
              0.4444444444444444,
              "#bd3786"
             ],
             [
              0.5555555555555556,
              "#d8576b"
             ],
             [
              0.6666666666666666,
              "#ed7953"
             ],
             [
              0.7777777777777778,
              "#fb9f3a"
             ],
             [
              0.8888888888888888,
              "#fdca26"
             ],
             [
              1,
              "#f0f921"
             ]
            ],
            "type": "heatmapgl"
           }
          ],
          "histogram": [
           {
            "marker": {
             "pattern": {
              "fillmode": "overlay",
              "size": 10,
              "solidity": 0.2
             }
            },
            "type": "histogram"
           }
          ],
          "histogram2d": [
           {
            "colorbar": {
             "outlinewidth": 0,
             "ticks": ""
            },
            "colorscale": [
             [
              0,
              "#0d0887"
             ],
             [
              0.1111111111111111,
              "#46039f"
             ],
             [
              0.2222222222222222,
              "#7201a8"
             ],
             [
              0.3333333333333333,
              "#9c179e"
             ],
             [
              0.4444444444444444,
              "#bd3786"
             ],
             [
              0.5555555555555556,
              "#d8576b"
             ],
             [
              0.6666666666666666,
              "#ed7953"
             ],
             [
              0.7777777777777778,
              "#fb9f3a"
             ],
             [
              0.8888888888888888,
              "#fdca26"
             ],
             [
              1,
              "#f0f921"
             ]
            ],
            "type": "histogram2d"
           }
          ],
          "histogram2dcontour": [
           {
            "colorbar": {
             "outlinewidth": 0,
             "ticks": ""
            },
            "colorscale": [
             [
              0,
              "#0d0887"
             ],
             [
              0.1111111111111111,
              "#46039f"
             ],
             [
              0.2222222222222222,
              "#7201a8"
             ],
             [
              0.3333333333333333,
              "#9c179e"
             ],
             [
              0.4444444444444444,
              "#bd3786"
             ],
             [
              0.5555555555555556,
              "#d8576b"
             ],
             [
              0.6666666666666666,
              "#ed7953"
             ],
             [
              0.7777777777777778,
              "#fb9f3a"
             ],
             [
              0.8888888888888888,
              "#fdca26"
             ],
             [
              1,
              "#f0f921"
             ]
            ],
            "type": "histogram2dcontour"
           }
          ],
          "mesh3d": [
           {
            "colorbar": {
             "outlinewidth": 0,
             "ticks": ""
            },
            "type": "mesh3d"
           }
          ],
          "parcoords": [
           {
            "line": {
             "colorbar": {
              "outlinewidth": 0,
              "ticks": ""
             }
            },
            "type": "parcoords"
           }
          ],
          "pie": [
           {
            "automargin": true,
            "type": "pie"
           }
          ],
          "scatter": [
           {
            "fillpattern": {
             "fillmode": "overlay",
             "size": 10,
             "solidity": 0.2
            },
            "type": "scatter"
           }
          ],
          "scatter3d": [
           {
            "line": {
             "colorbar": {
              "outlinewidth": 0,
              "ticks": ""
             }
            },
            "marker": {
             "colorbar": {
              "outlinewidth": 0,
              "ticks": ""
             }
            },
            "type": "scatter3d"
           }
          ],
          "scattercarpet": [
           {
            "marker": {
             "colorbar": {
              "outlinewidth": 0,
              "ticks": ""
             }
            },
            "type": "scattercarpet"
           }
          ],
          "scattergeo": [
           {
            "marker": {
             "colorbar": {
              "outlinewidth": 0,
              "ticks": ""
             }
            },
            "type": "scattergeo"
           }
          ],
          "scattergl": [
           {
            "marker": {
             "colorbar": {
              "outlinewidth": 0,
              "ticks": ""
             }
            },
            "type": "scattergl"
           }
          ],
          "scattermapbox": [
           {
            "marker": {
             "colorbar": {
              "outlinewidth": 0,
              "ticks": ""
             }
            },
            "type": "scattermapbox"
           }
          ],
          "scatterpolar": [
           {
            "marker": {
             "colorbar": {
              "outlinewidth": 0,
              "ticks": ""
             }
            },
            "type": "scatterpolar"
           }
          ],
          "scatterpolargl": [
           {
            "marker": {
             "colorbar": {
              "outlinewidth": 0,
              "ticks": ""
             }
            },
            "type": "scatterpolargl"
           }
          ],
          "scatterternary": [
           {
            "marker": {
             "colorbar": {
              "outlinewidth": 0,
              "ticks": ""
             }
            },
            "type": "scatterternary"
           }
          ],
          "surface": [
           {
            "colorbar": {
             "outlinewidth": 0,
             "ticks": ""
            },
            "colorscale": [
             [
              0,
              "#0d0887"
             ],
             [
              0.1111111111111111,
              "#46039f"
             ],
             [
              0.2222222222222222,
              "#7201a8"
             ],
             [
              0.3333333333333333,
              "#9c179e"
             ],
             [
              0.4444444444444444,
              "#bd3786"
             ],
             [
              0.5555555555555556,
              "#d8576b"
             ],
             [
              0.6666666666666666,
              "#ed7953"
             ],
             [
              0.7777777777777778,
              "#fb9f3a"
             ],
             [
              0.8888888888888888,
              "#fdca26"
             ],
             [
              1,
              "#f0f921"
             ]
            ],
            "type": "surface"
           }
          ],
          "table": [
           {
            "cells": {
             "fill": {
              "color": "#EBF0F8"
             },
             "line": {
              "color": "white"
             }
            },
            "header": {
             "fill": {
              "color": "#C8D4E3"
             },
             "line": {
              "color": "white"
             }
            },
            "type": "table"
           }
          ]
         },
         "layout": {
          "annotationdefaults": {
           "arrowcolor": "#2a3f5f",
           "arrowhead": 0,
           "arrowwidth": 1
          },
          "autotypenumbers": "strict",
          "coloraxis": {
           "colorbar": {
            "outlinewidth": 0,
            "ticks": ""
           }
          },
          "colorscale": {
           "diverging": [
            [
             0,
             "#8e0152"
            ],
            [
             0.1,
             "#c51b7d"
            ],
            [
             0.2,
             "#de77ae"
            ],
            [
             0.3,
             "#f1b6da"
            ],
            [
             0.4,
             "#fde0ef"
            ],
            [
             0.5,
             "#f7f7f7"
            ],
            [
             0.6,
             "#e6f5d0"
            ],
            [
             0.7,
             "#b8e186"
            ],
            [
             0.8,
             "#7fbc41"
            ],
            [
             0.9,
             "#4d9221"
            ],
            [
             1,
             "#276419"
            ]
           ],
           "sequential": [
            [
             0,
             "#0d0887"
            ],
            [
             0.1111111111111111,
             "#46039f"
            ],
            [
             0.2222222222222222,
             "#7201a8"
            ],
            [
             0.3333333333333333,
             "#9c179e"
            ],
            [
             0.4444444444444444,
             "#bd3786"
            ],
            [
             0.5555555555555556,
             "#d8576b"
            ],
            [
             0.6666666666666666,
             "#ed7953"
            ],
            [
             0.7777777777777778,
             "#fb9f3a"
            ],
            [
             0.8888888888888888,
             "#fdca26"
            ],
            [
             1,
             "#f0f921"
            ]
           ],
           "sequentialminus": [
            [
             0,
             "#0d0887"
            ],
            [
             0.1111111111111111,
             "#46039f"
            ],
            [
             0.2222222222222222,
             "#7201a8"
            ],
            [
             0.3333333333333333,
             "#9c179e"
            ],
            [
             0.4444444444444444,
             "#bd3786"
            ],
            [
             0.5555555555555556,
             "#d8576b"
            ],
            [
             0.6666666666666666,
             "#ed7953"
            ],
            [
             0.7777777777777778,
             "#fb9f3a"
            ],
            [
             0.8888888888888888,
             "#fdca26"
            ],
            [
             1,
             "#f0f921"
            ]
           ]
          },
          "colorway": [
           "#636efa",
           "#EF553B",
           "#00cc96",
           "#ab63fa",
           "#FFA15A",
           "#19d3f3",
           "#FF6692",
           "#B6E880",
           "#FF97FF",
           "#FECB52"
          ],
          "font": {
           "color": "#2a3f5f"
          },
          "geo": {
           "bgcolor": "white",
           "lakecolor": "white",
           "landcolor": "#E5ECF6",
           "showlakes": true,
           "showland": true,
           "subunitcolor": "white"
          },
          "hoverlabel": {
           "align": "left"
          },
          "hovermode": "closest",
          "mapbox": {
           "style": "light"
          },
          "paper_bgcolor": "white",
          "plot_bgcolor": "#E5ECF6",
          "polar": {
           "angularaxis": {
            "gridcolor": "white",
            "linecolor": "white",
            "ticks": ""
           },
           "bgcolor": "#E5ECF6",
           "radialaxis": {
            "gridcolor": "white",
            "linecolor": "white",
            "ticks": ""
           }
          },
          "scene": {
           "xaxis": {
            "backgroundcolor": "#E5ECF6",
            "gridcolor": "white",
            "gridwidth": 2,
            "linecolor": "white",
            "showbackground": true,
            "ticks": "",
            "zerolinecolor": "white"
           },
           "yaxis": {
            "backgroundcolor": "#E5ECF6",
            "gridcolor": "white",
            "gridwidth": 2,
            "linecolor": "white",
            "showbackground": true,
            "ticks": "",
            "zerolinecolor": "white"
           },
           "zaxis": {
            "backgroundcolor": "#E5ECF6",
            "gridcolor": "white",
            "gridwidth": 2,
            "linecolor": "white",
            "showbackground": true,
            "ticks": "",
            "zerolinecolor": "white"
           }
          },
          "shapedefaults": {
           "line": {
            "color": "#2a3f5f"
           }
          },
          "ternary": {
           "aaxis": {
            "gridcolor": "white",
            "linecolor": "white",
            "ticks": ""
           },
           "baxis": {
            "gridcolor": "white",
            "linecolor": "white",
            "ticks": ""
           },
           "bgcolor": "#E5ECF6",
           "caxis": {
            "gridcolor": "white",
            "linecolor": "white",
            "ticks": ""
           }
          },
          "title": {
           "x": 0.05
          },
          "xaxis": {
           "automargin": true,
           "gridcolor": "white",
           "linecolor": "white",
           "ticks": "",
           "title": {
            "standoff": 15
           },
           "zerolinecolor": "white",
           "zerolinewidth": 2
          },
          "yaxis": {
           "automargin": true,
           "gridcolor": "white",
           "linecolor": "white",
           "ticks": "",
           "title": {
            "standoff": 15
           },
           "zerolinecolor": "white",
           "zerolinewidth": 2
          }
         }
        },
        "title": {
         "text": "Debias Methodologies impact on accuracy and equal opportunity difference"
        },
        "xaxis": {
         "dtick": 0.1,
         "tick0": 0,
         "title": {
          "text": "Bias (equal opportunity difference)"
         }
        },
        "yaxis": {
         "dtick": 0.1,
         "tick0": 0,
         "title": {
          "text": "Error (accuracy)"
         }
        }
       }
      }
     },
     "metadata": {},
     "output_type": "display_data"
    }
   ],
   "source": [
    "\n",
    "random_forest_bias.show_fairea_graph(\"accuracy\", \"equal opportunity difference\")\n"
   ]
  },
  {
   "cell_type": "code",
   "execution_count": 25,
   "metadata": {},
   "outputs": [],
   "source": [
    "graph_1 = random_forest_bias.get_FaireaGraphsObject()"
   ]
  },
  {
   "cell_type": "code",
   "execution_count": 26,
   "metadata": {},
   "outputs": [],
   "source": [
    "graph_2 = random_forest_bias.get_FaireaGraphsObject()"
   ]
  },
  {
   "cell_type": "code",
   "execution_count": 27,
   "metadata": {},
   "outputs": [],
   "source": [
    "graph_3 = graph_1 + graph_2"
   ]
  },
  {
   "cell_type": "code",
   "execution_count": 28,
   "metadata": {},
   "outputs": [
    {
     "data": {
      "application/vnd.plotly.v1+json": {
       "config": {
        "plotlyServerURL": "https://plot.ly"
       },
       "data": [
        {
         "error_x": {
          "array": [
           -0.014669125690659417
          ],
          "type": "data"
         },
         "error_y": {
          "array": [
           -0.005270224000120782
          ],
          "type": "data"
         },
         "marker": {
          "color": "#1CA71C"
         },
         "mode": "markers",
         "name": "reweighing outcome",
         "showlegend": true,
         "type": "scatter",
         "x": [
          0.12499537772027708
         ],
         "xaxis": "x",
         "y": [
          0.8607364412505373
         ],
         "yaxis": "y"
        },
        {
         "error_x": {
          "array": [
           -0.0058110928811675455
          ],
          "type": "data"
         },
         "error_y": {
          "array": [
           -0.004957473626694853
          ],
          "type": "data"
         },
         "marker": {
          "color": "#FB0D0D"
         },
         "mode": "markers",
         "name": "calibrated equal odds using fpr cost outcome",
         "showlegend": true,
         "type": "scatter",
         "x": [
          0.18629912946334568
         ],
         "xaxis": "x",
         "y": [
          0.86242552668755
         ],
         "yaxis": "y"
        },
        {
         "error_x": {
          "array": [
           -0.015798763472345344
          ],
          "type": "data"
         },
         "error_y": {
          "array": [
           -0.0058497717361177815
          ],
          "type": "data"
         },
         "marker": {
          "color": "#DA16FF"
         },
         "mode": "markers",
         "name": "calibrated equal odds using fnr cost outcome",
         "showlegend": true,
         "type": "scatter",
         "x": [
          0.1305233025677107
         ],
         "xaxis": "x",
         "y": [
          0.8634236226276026
         ],
         "yaxis": "y"
        },
        {
         "error_x": {
          "array": [
           -0.006067306794178967
          ],
          "type": "data"
         },
         "error_y": {
          "array": [
           -0.0047694124972306184
          ],
          "type": "data"
         },
         "marker": {
          "color": "#222A2A"
         },
         "mode": "markers",
         "name": "calibrated equal odds using weighted cost outcome",
         "showlegend": true,
         "type": "scatter",
         "x": [
          0.18611984863480757
         ],
         "xaxis": "x",
         "y": [
          0.8632553282967877
         ],
         "yaxis": "y"
        },
        {
         "error_x": {
          "array": [
           -0.01593644325685055
          ],
          "type": "data"
         },
         "error_y": {
          "array": [
           -0.0057792125319097165
          ],
          "type": "data"
         },
         "marker": {
          "color": "#B68100"
         },
         "mode": "markers",
         "name": "equal odds outcome",
         "showlegend": true,
         "type": "scatter",
         "x": [
          0.10850568277284957
         ],
         "xaxis": "x",
         "y": [
          0.862795282845034
         ],
         "yaxis": "y"
        },
        {
         "error_x": {
          "array": [
           -0.01452861216709151
          ],
          "type": "data"
         },
         "error_y": {
          "array": [
           -0.005377424021798416
          ],
          "type": "data"
         },
         "marker": {
          "color": "#750D86"
         },
         "mode": "markers",
         "name": "no debiasing1 outcome",
         "showlegend": true,
         "type": "scatter",
         "x": [
          0.13198511125782697
         ],
         "xaxis": "x",
         "y": [
          0.8641035562926109
         ],
         "yaxis": "y"
        },
        {
         "error_x": {
          "array": [
           -0.014669125690659417
          ],
          "type": "data"
         },
         "error_y": {
          "array": [
           -0.005270224000120782
          ],
          "type": "data"
         },
         "marker": {
          "color": "#EB663B"
         },
         "mode": "markers",
         "name": "reweighing1 outcome",
         "showlegend": true,
         "type": "scatter",
         "x": [
          0.12499537772027708
         ],
         "xaxis": "x",
         "y": [
          0.8607364412505373
         ],
         "yaxis": "y"
        },
        {
         "error_x": {
          "array": [
           -0.0058110928811675455
          ],
          "type": "data"
         },
         "error_y": {
          "array": [
           -0.004957473626694853
          ],
          "type": "data"
         },
         "marker": {
          "color": "#511CFB"
         },
         "mode": "markers",
         "name": "calibrated equal odds using fpr cost1 outcome",
         "showlegend": true,
         "type": "scatter",
         "x": [
          0.18629912946334568
         ],
         "xaxis": "x",
         "y": [
          0.86242552668755
         ],
         "yaxis": "y"
        },
        {
         "error_x": {
          "array": [
           -0.015798763472345344
          ],
          "type": "data"
         },
         "error_y": {
          "array": [
           -0.0058497717361177815
          ],
          "type": "data"
         },
         "marker": {
          "color": "#00A08B"
         },
         "mode": "markers",
         "name": "calibrated equal odds using fnr cost1 outcome",
         "showlegend": true,
         "type": "scatter",
         "x": [
          0.1305233025677107
         ],
         "xaxis": "x",
         "y": [
          0.8634236226276026
         ],
         "yaxis": "y"
        },
        {
         "error_x": {
          "array": [
           -0.006067306794178967
          ],
          "type": "data"
         },
         "error_y": {
          "array": [
           -0.0047694124972306184
          ],
          "type": "data"
         },
         "marker": {
          "color": "#FB00D1"
         },
         "mode": "markers",
         "name": "calibrated equal odds using weighted cost1 outcome",
         "showlegend": true,
         "type": "scatter",
         "x": [
          0.18611984863480757
         ],
         "xaxis": "x",
         "y": [
          0.8632553282967877
         ],
         "yaxis": "y"
        },
        {
         "error_x": {
          "array": [
           -0.01593644325685055
          ],
          "type": "data"
         },
         "error_y": {
          "array": [
           -0.0057792125319097165
          ],
          "type": "data"
         },
         "marker": {
          "color": "#FC0080"
         },
         "mode": "markers",
         "name": "equal odds1 outcome",
         "showlegend": true,
         "type": "scatter",
         "x": [
          0.10850568277284957
         ],
         "xaxis": "x",
         "y": [
          0.862795282845034
         ],
         "yaxis": "y"
        },
        {
         "line": {
          "color": "#2E91E5"
         },
         "mode": "lines+markers+text",
         "name": "fairea baseline",
         "showlegend": true,
         "text": [
          "F_0",
          "F_10",
          "F_20",
          "F_30",
          "F_40",
          "F_50",
          "F_60",
          "F_70",
          "F_80",
          "F_90",
          "F_100"
         ],
         "textposition": "bottom right",
         "type": "scatter",
         "x": [
          0.13153366316698556,
          0.11865561466447005,
          0.10478255925418929,
          0.09185034906058193,
          0.07936776663277154,
          0.06552709097609065,
          0.052922554518159644,
          0.04006550536855555,
          0.02595754795230033,
          0.013092827447697897,
          0
         ],
         "xaxis": "x",
         "y": [
          0.8639518457097229,
          0.8540237086174067,
          0.8437159879614274,
          0.8340028253792764,
          0.8244211043547693,
          0.8135274246053682,
          0.8032270745040232,
          0.7934488053559364,
          0.7838351452613476,
          0.7737583686505742,
          0.7637737239727288
         ],
         "yaxis": "y"
        },
        {
         "line": {
          "color": "#E15F99"
         },
         "mode": "lines+markers+text",
         "name": "fairea baseline",
         "showlegend": true,
         "text": [
          "F_0",
          "F_10",
          "F_20",
          "F_30",
          "F_40",
          "F_50",
          "F_60",
          "F_70",
          "F_80",
          "F_90",
          "F_100"
         ],
         "textposition": "bottom right",
         "type": "scatter",
         "x": [
          0.13153366316698556,
          0.11865561466447005,
          0.10478255925418929,
          0.09185034906058193,
          0.07936776663277154,
          0.06552709097609065,
          0.052922554518159644,
          0.04006550536855555,
          0.02595754795230033,
          0.013092827447697897,
          0
         ],
         "xaxis": "x",
         "y": [
          0.8639518457097229,
          0.8540237086174067,
          0.8437159879614274,
          0.8340028253792764,
          0.8244211043547693,
          0.8135274246053682,
          0.8032270745040232,
          0.7934488053559364,
          0.7838351452613476,
          0.7737583686505742,
          0.7637737239727288
         ],
         "yaxis": "y"
        },
        {
         "error_x": {
          "array": [
           -0.05119168246872774
          ],
          "type": "data"
         },
         "error_y": {
          "array": [
           -0.005270224000120782
          ],
          "type": "data"
         },
         "marker": {
          "color": "#1CA71C"
         },
         "mode": "markers",
         "name": "reweighing outcome",
         "showlegend": false,
         "type": "scatter",
         "x": [
          0.05342657562783528
         ],
         "xaxis": "x2",
         "y": [
          0.8607364412505373
         ],
         "yaxis": "y2"
        },
        {
         "error_x": {
          "array": [
           -0.007515199373606174
          ],
          "type": "data"
         },
         "error_y": {
          "array": [
           -0.004957473626694853
          ],
          "type": "data"
         },
         "marker": {
          "color": "#FB0D0D"
         },
         "mode": "markers",
         "name": "calibrated equal odds using fpr cost outcome",
         "showlegend": false,
         "type": "scatter",
         "x": [
          0.3215720657854554
         ],
         "xaxis": "x2",
         "y": [
          0.86242552668755
         ],
         "yaxis": "y2"
        },
        {
         "error_x": {
          "array": [
           -0.05750649047104506
          ],
          "type": "data"
         },
         "error_y": {
          "array": [
           -0.0058497717361177815
          ],
          "type": "data"
         },
         "marker": {
          "color": "#DA16FF"
         },
         "mode": "markers",
         "name": "calibrated equal odds using fnr cost outcome",
         "showlegend": false,
         "type": "scatter",
         "x": [
          0.06632829996391733
         ],
         "xaxis": "x2",
         "y": [
          0.8634236226276026
         ],
         "yaxis": "y2"
        },
        {
         "error_x": {
          "array": [
           -0.0081686742075181
          ],
          "type": "data"
         },
         "error_y": {
          "array": [
           -0.0047694124972306184
          ],
          "type": "data"
         },
         "marker": {
          "color": "#222A2A"
         },
         "mode": "markers",
         "name": "calibrated equal odds using weighted cost outcome",
         "showlegend": false,
         "type": "scatter",
         "x": [
          0.32217538473254104
         ],
         "xaxis": "x2",
         "y": [
          0.8632553282967877
         ],
         "yaxis": "y2"
        },
        {
         "error_x": {
          "array": [
           -0.05116030035124883
          ],
          "type": "data"
         },
         "error_y": {
          "array": [
           -0.0057792125319097165
          ],
          "type": "data"
         },
         "marker": {
          "color": "#B68100"
         },
         "mode": "markers",
         "name": "equal odds outcome",
         "showlegend": false,
         "type": "scatter",
         "x": [
          0.04713176194826316
         ],
         "xaxis": "x2",
         "y": [
          0.862795282845034
         ],
         "yaxis": "y2"
        },
        {
         "error_x": {
          "array": [
           -0.054902255237186975
          ],
          "type": "data"
         },
         "error_y": {
          "array": [
           -0.005377424021798416
          ],
          "type": "data"
         },
         "marker": {
          "color": "#750D86"
         },
         "mode": "markers",
         "name": "no debiasing1 outcome",
         "showlegend": false,
         "type": "scatter",
         "x": [
          0.06987733249735525
         ],
         "xaxis": "x2",
         "y": [
          0.8641035562926109
         ],
         "yaxis": "y2"
        },
        {
         "error_x": {
          "array": [
           -0.05119168246872774
          ],
          "type": "data"
         },
         "error_y": {
          "array": [
           -0.005270224000120782
          ],
          "type": "data"
         },
         "marker": {
          "color": "#EB663B"
         },
         "mode": "markers",
         "name": "reweighing1 outcome",
         "showlegend": false,
         "type": "scatter",
         "x": [
          0.05342657562783528
         ],
         "xaxis": "x2",
         "y": [
          0.8607364412505373
         ],
         "yaxis": "y2"
        },
        {
         "error_x": {
          "array": [
           -0.007515199373606174
          ],
          "type": "data"
         },
         "error_y": {
          "array": [
           -0.004957473626694853
          ],
          "type": "data"
         },
         "marker": {
          "color": "#511CFB"
         },
         "mode": "markers",
         "name": "calibrated equal odds using fpr cost1 outcome",
         "showlegend": false,
         "type": "scatter",
         "x": [
          0.3215720657854554
         ],
         "xaxis": "x2",
         "y": [
          0.86242552668755
         ],
         "yaxis": "y2"
        },
        {
         "error_x": {
          "array": [
           -0.05750649047104506
          ],
          "type": "data"
         },
         "error_y": {
          "array": [
           -0.0058497717361177815
          ],
          "type": "data"
         },
         "marker": {
          "color": "#00A08B"
         },
         "mode": "markers",
         "name": "calibrated equal odds using fnr cost1 outcome",
         "showlegend": false,
         "type": "scatter",
         "x": [
          0.06632829996391733
         ],
         "xaxis": "x2",
         "y": [
          0.8634236226276026
         ],
         "yaxis": "y2"
        },
        {
         "error_x": {
          "array": [
           -0.0081686742075181
          ],
          "type": "data"
         },
         "error_y": {
          "array": [
           -0.0047694124972306184
          ],
          "type": "data"
         },
         "marker": {
          "color": "#FB00D1"
         },
         "mode": "markers",
         "name": "calibrated equal odds using weighted cost1 outcome",
         "showlegend": false,
         "type": "scatter",
         "x": [
          0.32217538473254104
         ],
         "xaxis": "x2",
         "y": [
          0.8632553282967877
         ],
         "yaxis": "y2"
        },
        {
         "error_x": {
          "array": [
           -0.05116030035124883
          ],
          "type": "data"
         },
         "error_y": {
          "array": [
           -0.0057792125319097165
          ],
          "type": "data"
         },
         "marker": {
          "color": "#FC0080"
         },
         "mode": "markers",
         "name": "equal odds1 outcome",
         "showlegend": false,
         "type": "scatter",
         "x": [
          0.04713176194826316
         ],
         "xaxis": "x2",
         "y": [
          0.862795282845034
         ],
         "yaxis": "y2"
        },
        {
         "line": {
          "color": "#2E91E5"
         },
         "mode": "lines+markers+text",
         "name": "fairea baseline",
         "showlegend": false,
         "text": [
          "F_0",
          "F_10",
          "F_20",
          "F_30",
          "F_40",
          "F_50",
          "F_60",
          "F_70",
          "F_80",
          "F_90",
          "F_100"
         ],
         "textposition": "bottom right",
         "type": "scatter",
         "x": [
          0.0685830084977357,
          0.06369214478216093,
          0.05425564155486756,
          0.047239814974495246,
          0.039782283016360095,
          0.0326926823253849,
          0.03263965157390147,
          0.026984230604227673,
          0.019297769082038327,
          0.011059326583565933,
          0
         ],
         "xaxis": "x2",
         "y": [
          0.8639518457097229,
          0.8540237086174067,
          0.8437159879614274,
          0.8340028253792764,
          0.8244211043547693,
          0.8135274246053682,
          0.8032270745040232,
          0.7934488053559364,
          0.7838351452613476,
          0.7737583686505742,
          0.7637737239727288
         ],
         "yaxis": "y2"
        },
        {
         "line": {
          "color": "#E15F99"
         },
         "mode": "lines+markers+text",
         "name": "fairea baseline",
         "showlegend": false,
         "text": [
          "F_0",
          "F_10",
          "F_20",
          "F_30",
          "F_40",
          "F_50",
          "F_60",
          "F_70",
          "F_80",
          "F_90",
          "F_100"
         ],
         "textposition": "bottom right",
         "type": "scatter",
         "x": [
          0.0685830084977357,
          0.06369214478216093,
          0.05425564155486756,
          0.047239814974495246,
          0.039782283016360095,
          0.0326926823253849,
          0.03263965157390147,
          0.026984230604227673,
          0.019297769082038327,
          0.011059326583565933,
          0
         ],
         "xaxis": "x2",
         "y": [
          0.8639518457097229,
          0.8540237086174067,
          0.8437159879614274,
          0.8340028253792764,
          0.8244211043547693,
          0.8135274246053682,
          0.8032270745040232,
          0.7934488053559364,
          0.7838351452613476,
          0.7737583686505742,
          0.7637737239727288
         ],
         "yaxis": "y2"
        },
        {
         "error_x": {
          "array": [
           -0.1014136852908333
          ],
          "type": "data"
         },
         "error_y": {
          "array": [
           -0.005270224000120782
          ],
          "type": "data"
         },
         "marker": {
          "color": "#1CA71C"
         },
         "mode": "markers",
         "name": "reweighing outcome",
         "showlegend": false,
         "type": "scatter",
         "x": [
          0.07628445237040411
         ],
         "xaxis": "x3",
         "y": [
          0.8607364412505373
         ],
         "yaxis": "y3"
        },
        {
         "error_x": {
          "array": [
           -0.014474828632257575
          ],
          "type": "data"
         },
         "error_y": {
          "array": [
           -0.004957473626694853
          ],
          "type": "data"
         },
         "marker": {
          "color": "#FB0D0D"
         },
         "mode": "markers",
         "name": "calibrated equal odds using fpr cost outcome",
         "showlegend": false,
         "type": "scatter",
         "x": [
          0.5896589324327605
         ],
         "xaxis": "x3",
         "y": [
          0.86242552668755
         ],
         "yaxis": "y3"
        },
        {
         "error_x": {
          "array": [
           -0.11537876468176798
          ],
          "type": "data"
         },
         "error_y": {
          "array": [
           -0.0058497717361177815
          ],
          "type": "data"
         },
         "marker": {
          "color": "#DA16FF"
         },
         "mode": "markers",
         "name": "calibrated equal odds using fnr cost outcome",
         "showlegend": false,
         "type": "scatter",
         "x": [
          0.1001192439079641
         ],
         "xaxis": "x3",
         "y": [
          0.8634236226276026
         ],
         "yaxis": "y3"
        },
        {
         "error_x": {
          "array": [
           -0.015375522322629398
          ],
          "type": "data"
         },
         "error_y": {
          "array": [
           -0.0047694124972306184
          ],
          "type": "data"
         },
         "marker": {
          "color": "#222A2A"
         },
         "mode": "markers",
         "name": "calibrated equal odds using weighted cost outcome",
         "showlegend": false,
         "type": "scatter",
         "x": [
          0.5911256890019798
         ],
         "xaxis": "x3",
         "y": [
          0.8632553282967877
         ],
         "yaxis": "y3"
        },
        {
         "error_x": {
          "array": [
           -0.10168023853468197
          ],
          "type": "data"
         },
         "error_y": {
          "array": [
           -0.0057792125319097165
          ],
          "type": "data"
         },
         "marker": {
          "color": "#B68100"
         },
         "mode": "markers",
         "name": "equal odds outcome",
         "showlegend": false,
         "type": "scatter",
         "x": [
          0.08342364473014083
         ],
         "xaxis": "x3",
         "y": [
          0.862795282845034
         ],
         "yaxis": "y3"
        },
        {
         "error_x": {
          "array": [
           -0.10947160334109615
          ],
          "type": "data"
         },
         "error_y": {
          "array": [
           -0.005377424021798416
          ],
          "type": "data"
         },
         "marker": {
          "color": "#750D86"
         },
         "mode": "markers",
         "name": "no debiasing1 outcome",
         "showlegend": false,
         "type": "scatter",
         "x": [
          0.10654127028663493
         ],
         "xaxis": "x3",
         "y": [
          0.8641035562926109
         ],
         "yaxis": "y3"
        },
        {
         "error_x": {
          "array": [
           -0.1014136852908333
          ],
          "type": "data"
         },
         "error_y": {
          "array": [
           -0.005270224000120782
          ],
          "type": "data"
         },
         "marker": {
          "color": "#EB663B"
         },
         "mode": "markers",
         "name": "reweighing1 outcome",
         "showlegend": false,
         "type": "scatter",
         "x": [
          0.07628445237040411
         ],
         "xaxis": "x3",
         "y": [
          0.8607364412505373
         ],
         "yaxis": "y3"
        },
        {
         "error_x": {
          "array": [
           -0.014474828632257575
          ],
          "type": "data"
         },
         "error_y": {
          "array": [
           -0.004957473626694853
          ],
          "type": "data"
         },
         "marker": {
          "color": "#511CFB"
         },
         "mode": "markers",
         "name": "calibrated equal odds using fpr cost1 outcome",
         "showlegend": false,
         "type": "scatter",
         "x": [
          0.5896589324327605
         ],
         "xaxis": "x3",
         "y": [
          0.86242552668755
         ],
         "yaxis": "y3"
        },
        {
         "error_x": {
          "array": [
           -0.11537876468176798
          ],
          "type": "data"
         },
         "error_y": {
          "array": [
           -0.0058497717361177815
          ],
          "type": "data"
         },
         "marker": {
          "color": "#00A08B"
         },
         "mode": "markers",
         "name": "calibrated equal odds using fnr cost1 outcome",
         "showlegend": false,
         "type": "scatter",
         "x": [
          0.1001192439079641
         ],
         "xaxis": "x3",
         "y": [
          0.8634236226276026
         ],
         "yaxis": "y3"
        },
        {
         "error_x": {
          "array": [
           -0.015375522322629398
          ],
          "type": "data"
         },
         "error_y": {
          "array": [
           -0.0047694124972306184
          ],
          "type": "data"
         },
         "marker": {
          "color": "#FB00D1"
         },
         "mode": "markers",
         "name": "calibrated equal odds using weighted cost1 outcome",
         "showlegend": false,
         "type": "scatter",
         "x": [
          0.5911256890019798
         ],
         "xaxis": "x3",
         "y": [
          0.8632553282967877
         ],
         "yaxis": "y3"
        },
        {
         "error_x": {
          "array": [
           -0.10168023853468197
          ],
          "type": "data"
         },
         "error_y": {
          "array": [
           -0.0057792125319097165
          ],
          "type": "data"
         },
         "marker": {
          "color": "#FC0080"
         },
         "mode": "markers",
         "name": "equal odds1 outcome",
         "showlegend": false,
         "type": "scatter",
         "x": [
          0.08342364473014083
         ],
         "xaxis": "x3",
         "y": [
          0.862795282845034
         ],
         "yaxis": "y3"
        },
        {
         "line": {
          "color": "#2E91E5"
         },
         "mode": "lines+markers+text",
         "name": "fairea baseline",
         "showlegend": false,
         "text": [
          "F_0",
          "F_10",
          "F_20",
          "F_30",
          "F_40",
          "F_50",
          "F_60",
          "F_70",
          "F_80",
          "F_90",
          "F_100"
         ],
         "textposition": "bottom right",
         "type": "scatter",
         "x": [
          0.10440457908697472,
          0.09803769370375542,
          0.08252631578947367,
          0.07163758201870724,
          0.05932360742705571,
          0.04852882870305738,
          0.051689515566103586,
          0.04384629345246404,
          0.03196481920982829,
          0.018721485411140586,
          0
         ],
         "xaxis": "x3",
         "y": [
          0.8639518457097229,
          0.8540237086174067,
          0.8437159879614274,
          0.8340028253792764,
          0.8244211043547693,
          0.8135274246053682,
          0.8032270745040232,
          0.7934488053559364,
          0.7838351452613476,
          0.7737583686505742,
          0.7637737239727288
         ],
         "yaxis": "y3"
        },
        {
         "line": {
          "color": "#E15F99"
         },
         "mode": "lines+markers+text",
         "name": "fairea baseline",
         "showlegend": false,
         "text": [
          "F_0",
          "F_10",
          "F_20",
          "F_30",
          "F_40",
          "F_50",
          "F_60",
          "F_70",
          "F_80",
          "F_90",
          "F_100"
         ],
         "textposition": "bottom right",
         "type": "scatter",
         "x": [
          0.10440457908697472,
          0.09803769370375542,
          0.08252631578947367,
          0.07163758201870724,
          0.05932360742705571,
          0.04852882870305738,
          0.051689515566103586,
          0.04384629345246404,
          0.03196481920982829,
          0.018721485411140586,
          0
         ],
         "xaxis": "x3",
         "y": [
          0.8639518457097229,
          0.8540237086174067,
          0.8437159879614274,
          0.8340028253792764,
          0.8244211043547693,
          0.8135274246053682,
          0.8032270745040232,
          0.7934488053559364,
          0.7838351452613476,
          0.7737583686505742,
          0.7637737239727288
         ],
         "yaxis": "y3"
        },
        {
         "error_x": {
          "array": [
           -0.012954617921213399
          ],
          "type": "data"
         },
         "error_y": {
          "array": [
           -0.005270224000120782
          ],
          "type": "data"
         },
         "marker": {
          "color": "#1CA71C"
         },
         "mode": "markers",
         "name": "reweighing outcome",
         "showlegend": false,
         "type": "scatter",
         "x": [
          0.08512966543149375
         ],
         "xaxis": "x4",
         "y": [
          0.8607364412505373
         ],
         "yaxis": "y4"
        },
        {
         "error_x": {
          "array": [
           -0.01673170986549556
          ],
          "type": "data"
         },
         "error_y": {
          "array": [
           -0.004957473626694853
          ],
          "type": "data"
         },
         "marker": {
          "color": "#FB0D0D"
         },
         "mode": "markers",
         "name": "calibrated equal odds using fpr cost outcome",
         "showlegend": false,
         "type": "scatter",
         "x": [
          0.06786599402009061
         ],
         "xaxis": "x4",
         "y": [
          0.86242552668755
         ],
         "yaxis": "y4"
        },
        {
         "error_x": {
          "array": [
           -0.01484884783771774
          ],
          "type": "data"
         },
         "error_y": {
          "array": [
           -0.0058497717361177815
          ],
          "type": "data"
         },
         "marker": {
          "color": "#DA16FF"
         },
         "mode": "markers",
         "name": "calibrated equal odds using fnr cost outcome",
         "showlegend": false,
         "type": "scatter",
         "x": [
          0.08550626235703675
         ],
         "xaxis": "x4",
         "y": [
          0.8634236226276026
         ],
         "yaxis": "y4"
        },
        {
         "error_x": {
          "array": [
           -0.018091225193089536
          ],
          "type": "data"
         },
         "error_y": {
          "array": [
           -0.0047694124972306184
          ],
          "type": "data"
         },
         "marker": {
          "color": "#222A2A"
         },
         "mode": "markers",
         "name": "calibrated equal odds using weighted cost outcome",
         "showlegend": false,
         "type": "scatter",
         "x": [
          0.06829081163739964
         ],
         "xaxis": "x4",
         "y": [
          0.8632553282967877
         ],
         "yaxis": "y4"
        },
        {
         "error_x": {
          "array": [
           -0.017161535511095935
          ],
          "type": "data"
         },
         "error_y": {
          "array": [
           -0.0057792125319097165
          ],
          "type": "data"
         },
         "marker": {
          "color": "#B68100"
         },
         "mode": "markers",
         "name": "equal odds outcome",
         "showlegend": false,
         "type": "scatter",
         "x": [
          0.06484613527683707
         ],
         "xaxis": "x4",
         "y": [
          0.862795282845034
         ],
         "yaxis": "y4"
        },
        {
         "error_x": {
          "array": [
           -0.015400651985634853
          ],
          "type": "data"
         },
         "error_y": {
          "array": [
           -0.005377424021798416
          ],
          "type": "data"
         },
         "marker": {
          "color": "#750D86"
         },
         "mode": "markers",
         "name": "no debiasing1 outcome",
         "showlegend": false,
         "type": "scatter",
         "x": [
          0.08496780546821205
         ],
         "xaxis": "x4",
         "y": [
          0.8641035562926109
         ],
         "yaxis": "y4"
        },
        {
         "error_x": {
          "array": [
           -0.012954617921213399
          ],
          "type": "data"
         },
         "error_y": {
          "array": [
           -0.005270224000120782
          ],
          "type": "data"
         },
         "marker": {
          "color": "#EB663B"
         },
         "mode": "markers",
         "name": "reweighing1 outcome",
         "showlegend": false,
         "type": "scatter",
         "x": [
          0.08512966543149375
         ],
         "xaxis": "x4",
         "y": [
          0.8607364412505373
         ],
         "yaxis": "y4"
        },
        {
         "error_x": {
          "array": [
           -0.01673170986549556
          ],
          "type": "data"
         },
         "error_y": {
          "array": [
           -0.004957473626694853
          ],
          "type": "data"
         },
         "marker": {
          "color": "#511CFB"
         },
         "mode": "markers",
         "name": "calibrated equal odds using fpr cost1 outcome",
         "showlegend": false,
         "type": "scatter",
         "x": [
          0.06786599402009061
         ],
         "xaxis": "x4",
         "y": [
          0.86242552668755
         ],
         "yaxis": "y4"
        },
        {
         "error_x": {
          "array": [
           -0.01484884783771774
          ],
          "type": "data"
         },
         "error_y": {
          "array": [
           -0.0058497717361177815
          ],
          "type": "data"
         },
         "marker": {
          "color": "#00A08B"
         },
         "mode": "markers",
         "name": "calibrated equal odds using fnr cost1 outcome",
         "showlegend": false,
         "type": "scatter",
         "x": [
          0.08550626235703675
         ],
         "xaxis": "x4",
         "y": [
          0.8634236226276026
         ],
         "yaxis": "y4"
        },
        {
         "error_x": {
          "array": [
           -0.018091225193089536
          ],
          "type": "data"
         },
         "error_y": {
          "array": [
           -0.0047694124972306184
          ],
          "type": "data"
         },
         "marker": {
          "color": "#FB00D1"
         },
         "mode": "markers",
         "name": "calibrated equal odds using weighted cost1 outcome",
         "showlegend": false,
         "type": "scatter",
         "x": [
          0.06829081163739964
         ],
         "xaxis": "x4",
         "y": [
          0.8632553282967877
         ],
         "yaxis": "y4"
        },
        {
         "error_x": {
          "array": [
           -0.017161535511095935
          ],
          "type": "data"
         },
         "error_y": {
          "array": [
           -0.0057792125319097165
          ],
          "type": "data"
         },
         "marker": {
          "color": "#FC0080"
         },
         "mode": "markers",
         "name": "equal odds1 outcome",
         "showlegend": false,
         "type": "scatter",
         "x": [
          0.06484613527683707
         ],
         "xaxis": "x4",
         "y": [
          0.862795282845034
         ],
         "yaxis": "y4"
        },
        {
         "line": {
          "color": "#2E91E5"
         },
         "mode": "lines+markers+text",
         "name": "fairea baseline",
         "showlegend": false,
         "text": [
          "F_0",
          "F_10",
          "F_20",
          "F_30",
          "F_40",
          "F_50",
          "F_60",
          "F_70",
          "F_80",
          "F_90",
          "F_100"
         ],
         "textposition": "bottom right",
         "type": "scatter",
         "x": [
          0.08447361056413193,
          0.09287042020233229,
          0.10241481794777955,
          0.1114273380347503,
          0.12097984274861938,
          0.13016040704528734,
          0.1386660871150868,
          0.1470059289013044,
          0.15651007545989506,
          0.16525117799240463,
          0.17393512145889978
         ],
         "xaxis": "x4",
         "y": [
          0.8639518457097229,
          0.8540237086174067,
          0.8437159879614274,
          0.8340028253792764,
          0.8244211043547693,
          0.8135274246053682,
          0.8032270745040232,
          0.7934488053559364,
          0.7838351452613476,
          0.7737583686505742,
          0.7637737239727288
         ],
         "yaxis": "y4"
        },
        {
         "line": {
          "color": "#E15F99"
         },
         "mode": "lines+markers+text",
         "name": "fairea baseline",
         "showlegend": false,
         "text": [
          "F_0",
          "F_10",
          "F_20",
          "F_30",
          "F_40",
          "F_50",
          "F_60",
          "F_70",
          "F_80",
          "F_90",
          "F_100"
         ],
         "textposition": "bottom right",
         "type": "scatter",
         "x": [
          0.08447361056413193,
          0.09287042020233229,
          0.10241481794777955,
          0.1114273380347503,
          0.12097984274861938,
          0.13016040704528734,
          0.1386660871150868,
          0.1470059289013044,
          0.15651007545989506,
          0.16525117799240463,
          0.17393512145889978
         ],
         "xaxis": "x4",
         "y": [
          0.8639518457097229,
          0.8540237086174067,
          0.8437159879614274,
          0.8340028253792764,
          0.8244211043547693,
          0.8135274246053682,
          0.8032270745040232,
          0.7934488053559364,
          0.7838351452613476,
          0.7737583686505742,
          0.7637737239727288
         ],
         "yaxis": "y4"
        },
        {
         "error_x": {
          "array": [
           -0.014669125690659417
          ],
          "type": "data"
         },
         "error_y": {
          "array": [
           -0.016887308196438022
          ],
          "type": "data"
         },
         "marker": {
          "color": "#1CA71C"
         },
         "mode": "markers",
         "name": "reweighing outcome",
         "showlegend": false,
         "type": "scatter",
         "x": [
          0.12499537772027708
         ],
         "xaxis": "x5",
         "y": [
          0.5826584680301297
         ],
         "yaxis": "y5"
        },
        {
         "error_x": {
          "array": [
           -0.0058110928811675455
          ],
          "type": "data"
         },
         "error_y": {
          "array": [
           -0.014323388077757127
          ],
          "type": "data"
         },
         "marker": {
          "color": "#FB0D0D"
         },
         "mode": "markers",
         "name": "calibrated equal odds using fpr cost outcome",
         "showlegend": false,
         "type": "scatter",
         "x": [
          0.18629912946334568
         ],
         "xaxis": "x5",
         "y": [
          0.5779396604427244
         ],
         "yaxis": "y5"
        },
        {
         "error_x": {
          "array": [
           -0.015798763472345344
          ],
          "type": "data"
         },
         "error_y": {
          "array": [
           -0.016643783540469692
          ],
          "type": "data"
         },
         "marker": {
          "color": "#DA16FF"
         },
         "mode": "markers",
         "name": "calibrated equal odds using fnr cost outcome",
         "showlegend": false,
         "type": "scatter",
         "x": [
          0.1305233025677107
         ],
         "xaxis": "x5",
         "y": [
          0.585934371032171
         ],
         "yaxis": "y5"
        },
        {
         "error_x": {
          "array": [
           -0.006067306794178967
          ],
          "type": "data"
         },
         "error_y": {
          "array": [
           -0.015001666170879502
          ],
          "type": "data"
         },
         "marker": {
          "color": "#222A2A"
         },
         "mode": "markers",
         "name": "calibrated equal odds using weighted cost outcome",
         "showlegend": false,
         "type": "scatter",
         "x": [
          0.18611984863480757
         ],
         "xaxis": "x5",
         "y": [
          0.5795104787641233
         ],
         "yaxis": "y5"
        },
        {
         "error_x": {
          "array": [
           -0.01593644325685055
          ],
          "type": "data"
         },
         "error_y": {
          "array": [
           -0.015685417376255728
          ],
          "type": "data"
         },
         "marker": {
          "color": "#B68100"
         },
         "mode": "markers",
         "name": "equal odds outcome",
         "showlegend": false,
         "type": "scatter",
         "x": [
          0.10850568277284957
         ],
         "xaxis": "x5",
         "y": [
          0.5901610698185249
         ],
         "yaxis": "y5"
        },
        {
         "error_x": {
          "array": [
           -0.01452861216709151
          ],
          "type": "data"
         },
         "error_y": {
          "array": [
           -0.014445501466973654
          ],
          "type": "data"
         },
         "marker": {
          "color": "#750D86"
         },
         "mode": "markers",
         "name": "no debiasing1 outcome",
         "showlegend": false,
         "type": "scatter",
         "x": [
          0.13198511125782697
         ],
         "xaxis": "x5",
         "y": [
          0.5889171868018228
         ],
         "yaxis": "y5"
        },
        {
         "error_x": {
          "array": [
           -0.014669125690659417
          ],
          "type": "data"
         },
         "error_y": {
          "array": [
           -0.016887308196438022
          ],
          "type": "data"
         },
         "marker": {
          "color": "#EB663B"
         },
         "mode": "markers",
         "name": "reweighing1 outcome",
         "showlegend": false,
         "type": "scatter",
         "x": [
          0.12499537772027708
         ],
         "xaxis": "x5",
         "y": [
          0.5826584680301297
         ],
         "yaxis": "y5"
        },
        {
         "error_x": {
          "array": [
           -0.0058110928811675455
          ],
          "type": "data"
         },
         "error_y": {
          "array": [
           -0.014323388077757127
          ],
          "type": "data"
         },
         "marker": {
          "color": "#511CFB"
         },
         "mode": "markers",
         "name": "calibrated equal odds using fpr cost1 outcome",
         "showlegend": false,
         "type": "scatter",
         "x": [
          0.18629912946334568
         ],
         "xaxis": "x5",
         "y": [
          0.5779396604427244
         ],
         "yaxis": "y5"
        },
        {
         "error_x": {
          "array": [
           -0.015798763472345344
          ],
          "type": "data"
         },
         "error_y": {
          "array": [
           -0.016643783540469692
          ],
          "type": "data"
         },
         "marker": {
          "color": "#00A08B"
         },
         "mode": "markers",
         "name": "calibrated equal odds using fnr cost1 outcome",
         "showlegend": false,
         "type": "scatter",
         "x": [
          0.1305233025677107
         ],
         "xaxis": "x5",
         "y": [
          0.585934371032171
         ],
         "yaxis": "y5"
        },
        {
         "error_x": {
          "array": [
           -0.006067306794178967
          ],
          "type": "data"
         },
         "error_y": {
          "array": [
           -0.015001666170879502
          ],
          "type": "data"
         },
         "marker": {
          "color": "#FB00D1"
         },
         "mode": "markers",
         "name": "calibrated equal odds using weighted cost1 outcome",
         "showlegend": false,
         "type": "scatter",
         "x": [
          0.18611984863480757
         ],
         "xaxis": "x5",
         "y": [
          0.5795104787641233
         ],
         "yaxis": "y5"
        },
        {
         "error_x": {
          "array": [
           -0.01593644325685055
          ],
          "type": "data"
         },
         "error_y": {
          "array": [
           -0.015685417376255728
          ],
          "type": "data"
         },
         "marker": {
          "color": "#FC0080"
         },
         "mode": "markers",
         "name": "equal odds1 outcome",
         "showlegend": false,
         "type": "scatter",
         "x": [
          0.10850568277284957
         ],
         "xaxis": "x5",
         "y": [
          0.5901610698185249
         ],
         "yaxis": "y5"
        },
        {
         "line": {
          "color": "#2E91E5"
         },
         "mode": "lines+markers+text",
         "name": "fairea baseline",
         "showlegend": false,
         "text": [
          "F_0",
          "F_10",
          "F_20",
          "F_30",
          "F_40",
          "F_50",
          "F_60",
          "F_70",
          "F_80",
          "F_90",
          "F_100"
         ],
         "textposition": "bottom right",
         "type": "scatter",
         "x": [
          0.13153366316698556,
          0.11865561466447005,
          0.10478255925418929,
          0.09185034906058193,
          0.07936776663277154,
          0.06552709097609065,
          0.052922554518159644,
          0.04006550536855555,
          0.02595754795230033,
          0.013092827447697897,
          0
         ],
         "xaxis": "x5",
         "y": [
          0.5891835673426938,
          0.5308372334893396,
          0.4703692147685908,
          0.41232969318772755,
          0.35484659386375456,
          0.2945917836713469,
          0.23362974518980756,
          0.17535621424856995,
          0.11817992719708786,
          0.0588507540301612,
          0
         ],
         "yaxis": "y5"
        },
        {
         "line": {
          "color": "#E15F99"
         },
         "mode": "lines+markers+text",
         "name": "fairea baseline",
         "showlegend": false,
         "text": [
          "F_0",
          "F_10",
          "F_20",
          "F_30",
          "F_40",
          "F_50",
          "F_60",
          "F_70",
          "F_80",
          "F_90",
          "F_100"
         ],
         "textposition": "bottom right",
         "type": "scatter",
         "x": [
          0.13153366316698556,
          0.11865561466447005,
          0.10478255925418929,
          0.09185034906058193,
          0.07936776663277154,
          0.06552709097609065,
          0.052922554518159644,
          0.04006550536855555,
          0.02595754795230033,
          0.013092827447697897,
          0
         ],
         "xaxis": "x5",
         "y": [
          0.5891835673426938,
          0.5308372334893396,
          0.4703692147685908,
          0.41232969318772755,
          0.35484659386375456,
          0.2945917836713469,
          0.23362974518980756,
          0.17535621424856995,
          0.11817992719708786,
          0.0588507540301612,
          0
         ],
         "yaxis": "y5"
        },
        {
         "error_x": {
          "array": [
           -0.05119168246872774
          ],
          "type": "data"
         },
         "error_y": {
          "array": [
           -0.016887308196438022
          ],
          "type": "data"
         },
         "marker": {
          "color": "#1CA71C"
         },
         "mode": "markers",
         "name": "reweighing outcome",
         "showlegend": false,
         "type": "scatter",
         "x": [
          0.05342657562783528
         ],
         "xaxis": "x6",
         "y": [
          0.5826584680301297
         ],
         "yaxis": "y6"
        },
        {
         "error_x": {
          "array": [
           -0.007515199373606174
          ],
          "type": "data"
         },
         "error_y": {
          "array": [
           -0.014323388077757127
          ],
          "type": "data"
         },
         "marker": {
          "color": "#FB0D0D"
         },
         "mode": "markers",
         "name": "calibrated equal odds using fpr cost outcome",
         "showlegend": false,
         "type": "scatter",
         "x": [
          0.3215720657854554
         ],
         "xaxis": "x6",
         "y": [
          0.5779396604427244
         ],
         "yaxis": "y6"
        },
        {
         "error_x": {
          "array": [
           -0.05750649047104506
          ],
          "type": "data"
         },
         "error_y": {
          "array": [
           -0.016643783540469692
          ],
          "type": "data"
         },
         "marker": {
          "color": "#DA16FF"
         },
         "mode": "markers",
         "name": "calibrated equal odds using fnr cost outcome",
         "showlegend": false,
         "type": "scatter",
         "x": [
          0.06632829996391733
         ],
         "xaxis": "x6",
         "y": [
          0.585934371032171
         ],
         "yaxis": "y6"
        },
        {
         "error_x": {
          "array": [
           -0.0081686742075181
          ],
          "type": "data"
         },
         "error_y": {
          "array": [
           -0.015001666170879502
          ],
          "type": "data"
         },
         "marker": {
          "color": "#222A2A"
         },
         "mode": "markers",
         "name": "calibrated equal odds using weighted cost outcome",
         "showlegend": false,
         "type": "scatter",
         "x": [
          0.32217538473254104
         ],
         "xaxis": "x6",
         "y": [
          0.5795104787641233
         ],
         "yaxis": "y6"
        },
        {
         "error_x": {
          "array": [
           -0.05116030035124883
          ],
          "type": "data"
         },
         "error_y": {
          "array": [
           -0.015685417376255728
          ],
          "type": "data"
         },
         "marker": {
          "color": "#B68100"
         },
         "mode": "markers",
         "name": "equal odds outcome",
         "showlegend": false,
         "type": "scatter",
         "x": [
          0.04713176194826316
         ],
         "xaxis": "x6",
         "y": [
          0.5901610698185249
         ],
         "yaxis": "y6"
        },
        {
         "error_x": {
          "array": [
           -0.054902255237186975
          ],
          "type": "data"
         },
         "error_y": {
          "array": [
           -0.014445501466973654
          ],
          "type": "data"
         },
         "marker": {
          "color": "#750D86"
         },
         "mode": "markers",
         "name": "no debiasing1 outcome",
         "showlegend": false,
         "type": "scatter",
         "x": [
          0.06987733249735525
         ],
         "xaxis": "x6",
         "y": [
          0.5889171868018228
         ],
         "yaxis": "y6"
        },
        {
         "error_x": {
          "array": [
           -0.05119168246872774
          ],
          "type": "data"
         },
         "error_y": {
          "array": [
           -0.016887308196438022
          ],
          "type": "data"
         },
         "marker": {
          "color": "#EB663B"
         },
         "mode": "markers",
         "name": "reweighing1 outcome",
         "showlegend": false,
         "type": "scatter",
         "x": [
          0.05342657562783528
         ],
         "xaxis": "x6",
         "y": [
          0.5826584680301297
         ],
         "yaxis": "y6"
        },
        {
         "error_x": {
          "array": [
           -0.007515199373606174
          ],
          "type": "data"
         },
         "error_y": {
          "array": [
           -0.014323388077757127
          ],
          "type": "data"
         },
         "marker": {
          "color": "#511CFB"
         },
         "mode": "markers",
         "name": "calibrated equal odds using fpr cost1 outcome",
         "showlegend": false,
         "type": "scatter",
         "x": [
          0.3215720657854554
         ],
         "xaxis": "x6",
         "y": [
          0.5779396604427244
         ],
         "yaxis": "y6"
        },
        {
         "error_x": {
          "array": [
           -0.05750649047104506
          ],
          "type": "data"
         },
         "error_y": {
          "array": [
           -0.016643783540469692
          ],
          "type": "data"
         },
         "marker": {
          "color": "#00A08B"
         },
         "mode": "markers",
         "name": "calibrated equal odds using fnr cost1 outcome",
         "showlegend": false,
         "type": "scatter",
         "x": [
          0.06632829996391733
         ],
         "xaxis": "x6",
         "y": [
          0.585934371032171
         ],
         "yaxis": "y6"
        },
        {
         "error_x": {
          "array": [
           -0.0081686742075181
          ],
          "type": "data"
         },
         "error_y": {
          "array": [
           -0.015001666170879502
          ],
          "type": "data"
         },
         "marker": {
          "color": "#FB00D1"
         },
         "mode": "markers",
         "name": "calibrated equal odds using weighted cost1 outcome",
         "showlegend": false,
         "type": "scatter",
         "x": [
          0.32217538473254104
         ],
         "xaxis": "x6",
         "y": [
          0.5795104787641233
         ],
         "yaxis": "y6"
        },
        {
         "error_x": {
          "array": [
           -0.05116030035124883
          ],
          "type": "data"
         },
         "error_y": {
          "array": [
           -0.015685417376255728
          ],
          "type": "data"
         },
         "marker": {
          "color": "#FC0080"
         },
         "mode": "markers",
         "name": "equal odds1 outcome",
         "showlegend": false,
         "type": "scatter",
         "x": [
          0.04713176194826316
         ],
         "xaxis": "x6",
         "y": [
          0.5901610698185249
         ],
         "yaxis": "y6"
        },
        {
         "line": {
          "color": "#2E91E5"
         },
         "mode": "lines+markers+text",
         "name": "fairea baseline",
         "showlegend": false,
         "text": [
          "F_0",
          "F_10",
          "F_20",
          "F_30",
          "F_40",
          "F_50",
          "F_60",
          "F_70",
          "F_80",
          "F_90",
          "F_100"
         ],
         "textposition": "bottom right",
         "type": "scatter",
         "x": [
          0.0685830084977357,
          0.06369214478216093,
          0.05425564155486756,
          0.047239814974495246,
          0.039782283016360095,
          0.0326926823253849,
          0.03263965157390147,
          0.026984230604227673,
          0.019297769082038327,
          0.011059326583565933,
          0
         ],
         "xaxis": "x6",
         "y": [
          0.5891835673426938,
          0.5308372334893396,
          0.4703692147685908,
          0.41232969318772755,
          0.35484659386375456,
          0.2945917836713469,
          0.23362974518980756,
          0.17535621424856995,
          0.11817992719708786,
          0.0588507540301612,
          0
         ],
         "yaxis": "y6"
        },
        {
         "line": {
          "color": "#E15F99"
         },
         "mode": "lines+markers+text",
         "name": "fairea baseline",
         "showlegend": false,
         "text": [
          "F_0",
          "F_10",
          "F_20",
          "F_30",
          "F_40",
          "F_50",
          "F_60",
          "F_70",
          "F_80",
          "F_90",
          "F_100"
         ],
         "textposition": "bottom right",
         "type": "scatter",
         "x": [
          0.0685830084977357,
          0.06369214478216093,
          0.05425564155486756,
          0.047239814974495246,
          0.039782283016360095,
          0.0326926823253849,
          0.03263965157390147,
          0.026984230604227673,
          0.019297769082038327,
          0.011059326583565933,
          0
         ],
         "xaxis": "x6",
         "y": [
          0.5891835673426938,
          0.5308372334893396,
          0.4703692147685908,
          0.41232969318772755,
          0.35484659386375456,
          0.2945917836713469,
          0.23362974518980756,
          0.17535621424856995,
          0.11817992719708786,
          0.0588507540301612,
          0
         ],
         "yaxis": "y6"
        },
        {
         "error_x": {
          "array": [
           -0.1014136852908333
          ],
          "type": "data"
         },
         "error_y": {
          "array": [
           -0.016887308196438022
          ],
          "type": "data"
         },
         "marker": {
          "color": "#1CA71C"
         },
         "mode": "markers",
         "name": "reweighing outcome",
         "showlegend": false,
         "type": "scatter",
         "x": [
          0.07628445237040411
         ],
         "xaxis": "x7",
         "y": [
          0.5826584680301297
         ],
         "yaxis": "y7"
        },
        {
         "error_x": {
          "array": [
           -0.014474828632257575
          ],
          "type": "data"
         },
         "error_y": {
          "array": [
           -0.014323388077757127
          ],
          "type": "data"
         },
         "marker": {
          "color": "#FB0D0D"
         },
         "mode": "markers",
         "name": "calibrated equal odds using fpr cost outcome",
         "showlegend": false,
         "type": "scatter",
         "x": [
          0.5896589324327605
         ],
         "xaxis": "x7",
         "y": [
          0.5779396604427244
         ],
         "yaxis": "y7"
        },
        {
         "error_x": {
          "array": [
           -0.11537876468176798
          ],
          "type": "data"
         },
         "error_y": {
          "array": [
           -0.016643783540469692
          ],
          "type": "data"
         },
         "marker": {
          "color": "#DA16FF"
         },
         "mode": "markers",
         "name": "calibrated equal odds using fnr cost outcome",
         "showlegend": false,
         "type": "scatter",
         "x": [
          0.1001192439079641
         ],
         "xaxis": "x7",
         "y": [
          0.585934371032171
         ],
         "yaxis": "y7"
        },
        {
         "error_x": {
          "array": [
           -0.015375522322629398
          ],
          "type": "data"
         },
         "error_y": {
          "array": [
           -0.015001666170879502
          ],
          "type": "data"
         },
         "marker": {
          "color": "#222A2A"
         },
         "mode": "markers",
         "name": "calibrated equal odds using weighted cost outcome",
         "showlegend": false,
         "type": "scatter",
         "x": [
          0.5911256890019798
         ],
         "xaxis": "x7",
         "y": [
          0.5795104787641233
         ],
         "yaxis": "y7"
        },
        {
         "error_x": {
          "array": [
           -0.10168023853468197
          ],
          "type": "data"
         },
         "error_y": {
          "array": [
           -0.015685417376255728
          ],
          "type": "data"
         },
         "marker": {
          "color": "#B68100"
         },
         "mode": "markers",
         "name": "equal odds outcome",
         "showlegend": false,
         "type": "scatter",
         "x": [
          0.08342364473014083
         ],
         "xaxis": "x7",
         "y": [
          0.5901610698185249
         ],
         "yaxis": "y7"
        },
        {
         "error_x": {
          "array": [
           -0.10947160334109615
          ],
          "type": "data"
         },
         "error_y": {
          "array": [
           -0.014445501466973654
          ],
          "type": "data"
         },
         "marker": {
          "color": "#750D86"
         },
         "mode": "markers",
         "name": "no debiasing1 outcome",
         "showlegend": false,
         "type": "scatter",
         "x": [
          0.10654127028663493
         ],
         "xaxis": "x7",
         "y": [
          0.5889171868018228
         ],
         "yaxis": "y7"
        },
        {
         "error_x": {
          "array": [
           -0.1014136852908333
          ],
          "type": "data"
         },
         "error_y": {
          "array": [
           -0.016887308196438022
          ],
          "type": "data"
         },
         "marker": {
          "color": "#EB663B"
         },
         "mode": "markers",
         "name": "reweighing1 outcome",
         "showlegend": false,
         "type": "scatter",
         "x": [
          0.07628445237040411
         ],
         "xaxis": "x7",
         "y": [
          0.5826584680301297
         ],
         "yaxis": "y7"
        },
        {
         "error_x": {
          "array": [
           -0.014474828632257575
          ],
          "type": "data"
         },
         "error_y": {
          "array": [
           -0.014323388077757127
          ],
          "type": "data"
         },
         "marker": {
          "color": "#511CFB"
         },
         "mode": "markers",
         "name": "calibrated equal odds using fpr cost1 outcome",
         "showlegend": false,
         "type": "scatter",
         "x": [
          0.5896589324327605
         ],
         "xaxis": "x7",
         "y": [
          0.5779396604427244
         ],
         "yaxis": "y7"
        },
        {
         "error_x": {
          "array": [
           -0.11537876468176798
          ],
          "type": "data"
         },
         "error_y": {
          "array": [
           -0.016643783540469692
          ],
          "type": "data"
         },
         "marker": {
          "color": "#00A08B"
         },
         "mode": "markers",
         "name": "calibrated equal odds using fnr cost1 outcome",
         "showlegend": false,
         "type": "scatter",
         "x": [
          0.1001192439079641
         ],
         "xaxis": "x7",
         "y": [
          0.585934371032171
         ],
         "yaxis": "y7"
        },
        {
         "error_x": {
          "array": [
           -0.015375522322629398
          ],
          "type": "data"
         },
         "error_y": {
          "array": [
           -0.015001666170879502
          ],
          "type": "data"
         },
         "marker": {
          "color": "#FB00D1"
         },
         "mode": "markers",
         "name": "calibrated equal odds using weighted cost1 outcome",
         "showlegend": false,
         "type": "scatter",
         "x": [
          0.5911256890019798
         ],
         "xaxis": "x7",
         "y": [
          0.5795104787641233
         ],
         "yaxis": "y7"
        },
        {
         "error_x": {
          "array": [
           -0.10168023853468197
          ],
          "type": "data"
         },
         "error_y": {
          "array": [
           -0.015685417376255728
          ],
          "type": "data"
         },
         "marker": {
          "color": "#FC0080"
         },
         "mode": "markers",
         "name": "equal odds1 outcome",
         "showlegend": false,
         "type": "scatter",
         "x": [
          0.08342364473014083
         ],
         "xaxis": "x7",
         "y": [
          0.5901610698185249
         ],
         "yaxis": "y7"
        },
        {
         "line": {
          "color": "#2E91E5"
         },
         "mode": "lines+markers+text",
         "name": "fairea baseline",
         "showlegend": false,
         "text": [
          "F_0",
          "F_10",
          "F_20",
          "F_30",
          "F_40",
          "F_50",
          "F_60",
          "F_70",
          "F_80",
          "F_90",
          "F_100"
         ],
         "textposition": "bottom right",
         "type": "scatter",
         "x": [
          0.10440457908697472,
          0.09803769370375542,
          0.08252631578947367,
          0.07163758201870724,
          0.05932360742705571,
          0.04852882870305738,
          0.051689515566103586,
          0.04384629345246404,
          0.03196481920982829,
          0.018721485411140586,
          0
         ],
         "xaxis": "x7",
         "y": [
          0.5891835673426938,
          0.5308372334893396,
          0.4703692147685908,
          0.41232969318772755,
          0.35484659386375456,
          0.2945917836713469,
          0.23362974518980756,
          0.17535621424856995,
          0.11817992719708786,
          0.0588507540301612,
          0
         ],
         "yaxis": "y7"
        },
        {
         "line": {
          "color": "#E15F99"
         },
         "mode": "lines+markers+text",
         "name": "fairea baseline",
         "showlegend": false,
         "text": [
          "F_0",
          "F_10",
          "F_20",
          "F_30",
          "F_40",
          "F_50",
          "F_60",
          "F_70",
          "F_80",
          "F_90",
          "F_100"
         ],
         "textposition": "bottom right",
         "type": "scatter",
         "x": [
          0.10440457908697472,
          0.09803769370375542,
          0.08252631578947367,
          0.07163758201870724,
          0.05932360742705571,
          0.04852882870305738,
          0.051689515566103586,
          0.04384629345246404,
          0.03196481920982829,
          0.018721485411140586,
          0
         ],
         "xaxis": "x7",
         "y": [
          0.5891835673426938,
          0.5308372334893396,
          0.4703692147685908,
          0.41232969318772755,
          0.35484659386375456,
          0.2945917836713469,
          0.23362974518980756,
          0.17535621424856995,
          0.11817992719708786,
          0.0588507540301612,
          0
         ],
         "yaxis": "y7"
        },
        {
         "error_x": {
          "array": [
           -0.012954617921213399
          ],
          "type": "data"
         },
         "error_y": {
          "array": [
           -0.016887308196438022
          ],
          "type": "data"
         },
         "marker": {
          "color": "#1CA71C"
         },
         "mode": "markers",
         "name": "reweighing outcome",
         "showlegend": false,
         "type": "scatter",
         "x": [
          0.08512966543149375
         ],
         "xaxis": "x8",
         "y": [
          0.5826584680301297
         ],
         "yaxis": "y8"
        },
        {
         "error_x": {
          "array": [
           -0.01673170986549556
          ],
          "type": "data"
         },
         "error_y": {
          "array": [
           -0.014323388077757127
          ],
          "type": "data"
         },
         "marker": {
          "color": "#FB0D0D"
         },
         "mode": "markers",
         "name": "calibrated equal odds using fpr cost outcome",
         "showlegend": false,
         "type": "scatter",
         "x": [
          0.06786599402009061
         ],
         "xaxis": "x8",
         "y": [
          0.5779396604427244
         ],
         "yaxis": "y8"
        },
        {
         "error_x": {
          "array": [
           -0.01484884783771774
          ],
          "type": "data"
         },
         "error_y": {
          "array": [
           -0.016643783540469692
          ],
          "type": "data"
         },
         "marker": {
          "color": "#DA16FF"
         },
         "mode": "markers",
         "name": "calibrated equal odds using fnr cost outcome",
         "showlegend": false,
         "type": "scatter",
         "x": [
          0.08550626235703675
         ],
         "xaxis": "x8",
         "y": [
          0.585934371032171
         ],
         "yaxis": "y8"
        },
        {
         "error_x": {
          "array": [
           -0.018091225193089536
          ],
          "type": "data"
         },
         "error_y": {
          "array": [
           -0.015001666170879502
          ],
          "type": "data"
         },
         "marker": {
          "color": "#222A2A"
         },
         "mode": "markers",
         "name": "calibrated equal odds using weighted cost outcome",
         "showlegend": false,
         "type": "scatter",
         "x": [
          0.06829081163739964
         ],
         "xaxis": "x8",
         "y": [
          0.5795104787641233
         ],
         "yaxis": "y8"
        },
        {
         "error_x": {
          "array": [
           -0.017161535511095935
          ],
          "type": "data"
         },
         "error_y": {
          "array": [
           -0.015685417376255728
          ],
          "type": "data"
         },
         "marker": {
          "color": "#B68100"
         },
         "mode": "markers",
         "name": "equal odds outcome",
         "showlegend": false,
         "type": "scatter",
         "x": [
          0.06484613527683707
         ],
         "xaxis": "x8",
         "y": [
          0.5901610698185249
         ],
         "yaxis": "y8"
        },
        {
         "error_x": {
          "array": [
           -0.015400651985634853
          ],
          "type": "data"
         },
         "error_y": {
          "array": [
           -0.014445501466973654
          ],
          "type": "data"
         },
         "marker": {
          "color": "#750D86"
         },
         "mode": "markers",
         "name": "no debiasing1 outcome",
         "showlegend": false,
         "type": "scatter",
         "x": [
          0.08496780546821205
         ],
         "xaxis": "x8",
         "y": [
          0.5889171868018228
         ],
         "yaxis": "y8"
        },
        {
         "error_x": {
          "array": [
           -0.012954617921213399
          ],
          "type": "data"
         },
         "error_y": {
          "array": [
           -0.016887308196438022
          ],
          "type": "data"
         },
         "marker": {
          "color": "#EB663B"
         },
         "mode": "markers",
         "name": "reweighing1 outcome",
         "showlegend": false,
         "type": "scatter",
         "x": [
          0.08512966543149375
         ],
         "xaxis": "x8",
         "y": [
          0.5826584680301297
         ],
         "yaxis": "y8"
        },
        {
         "error_x": {
          "array": [
           -0.01673170986549556
          ],
          "type": "data"
         },
         "error_y": {
          "array": [
           -0.014323388077757127
          ],
          "type": "data"
         },
         "marker": {
          "color": "#511CFB"
         },
         "mode": "markers",
         "name": "calibrated equal odds using fpr cost1 outcome",
         "showlegend": false,
         "type": "scatter",
         "x": [
          0.06786599402009061
         ],
         "xaxis": "x8",
         "y": [
          0.5779396604427244
         ],
         "yaxis": "y8"
        },
        {
         "error_x": {
          "array": [
           -0.01484884783771774
          ],
          "type": "data"
         },
         "error_y": {
          "array": [
           -0.016643783540469692
          ],
          "type": "data"
         },
         "marker": {
          "color": "#00A08B"
         },
         "mode": "markers",
         "name": "calibrated equal odds using fnr cost1 outcome",
         "showlegend": false,
         "type": "scatter",
         "x": [
          0.08550626235703675
         ],
         "xaxis": "x8",
         "y": [
          0.585934371032171
         ],
         "yaxis": "y8"
        },
        {
         "error_x": {
          "array": [
           -0.018091225193089536
          ],
          "type": "data"
         },
         "error_y": {
          "array": [
           -0.015001666170879502
          ],
          "type": "data"
         },
         "marker": {
          "color": "#FB00D1"
         },
         "mode": "markers",
         "name": "calibrated equal odds using weighted cost1 outcome",
         "showlegend": false,
         "type": "scatter",
         "x": [
          0.06829081163739964
         ],
         "xaxis": "x8",
         "y": [
          0.5795104787641233
         ],
         "yaxis": "y8"
        },
        {
         "error_x": {
          "array": [
           -0.017161535511095935
          ],
          "type": "data"
         },
         "error_y": {
          "array": [
           -0.015685417376255728
          ],
          "type": "data"
         },
         "marker": {
          "color": "#FC0080"
         },
         "mode": "markers",
         "name": "equal odds1 outcome",
         "showlegend": false,
         "type": "scatter",
         "x": [
          0.06484613527683707
         ],
         "xaxis": "x8",
         "y": [
          0.5901610698185249
         ],
         "yaxis": "y8"
        },
        {
         "line": {
          "color": "#2E91E5"
         },
         "mode": "lines+markers+text",
         "name": "fairea baseline",
         "showlegend": false,
         "text": [
          "F_0",
          "F_10",
          "F_20",
          "F_30",
          "F_40",
          "F_50",
          "F_60",
          "F_70",
          "F_80",
          "F_90",
          "F_100"
         ],
         "textposition": "bottom right",
         "type": "scatter",
         "x": [
          0.08447361056413193,
          0.09287042020233229,
          0.10241481794777955,
          0.1114273380347503,
          0.12097984274861938,
          0.13016040704528734,
          0.1386660871150868,
          0.1470059289013044,
          0.15651007545989506,
          0.16525117799240463,
          0.17393512145889978
         ],
         "xaxis": "x8",
         "y": [
          0.5891835673426938,
          0.5308372334893396,
          0.4703692147685908,
          0.41232969318772755,
          0.35484659386375456,
          0.2945917836713469,
          0.23362974518980756,
          0.17535621424856995,
          0.11817992719708786,
          0.0588507540301612,
          0
         ],
         "yaxis": "y8"
        },
        {
         "line": {
          "color": "#E15F99"
         },
         "mode": "lines+markers+text",
         "name": "fairea baseline",
         "showlegend": false,
         "text": [
          "F_0",
          "F_10",
          "F_20",
          "F_30",
          "F_40",
          "F_50",
          "F_60",
          "F_70",
          "F_80",
          "F_90",
          "F_100"
         ],
         "textposition": "bottom right",
         "type": "scatter",
         "x": [
          0.08447361056413193,
          0.09287042020233229,
          0.10241481794777955,
          0.1114273380347503,
          0.12097984274861938,
          0.13016040704528734,
          0.1386660871150868,
          0.1470059289013044,
          0.15651007545989506,
          0.16525117799240463,
          0.17393512145889978
         ],
         "xaxis": "x8",
         "y": [
          0.5891835673426938,
          0.5308372334893396,
          0.4703692147685908,
          0.41232969318772755,
          0.35484659386375456,
          0.2945917836713469,
          0.23362974518980756,
          0.17535621424856995,
          0.11817992719708786,
          0.0588507540301612,
          0
         ],
         "yaxis": "y8"
        },
        {
         "error_x": {
          "array": [
           -0.014669125690659417
          ],
          "type": "data"
         },
         "error_y": {
          "array": [
           -0.004113098586574493
          ],
          "type": "data"
         },
         "marker": {
          "color": "#1CA71C"
         },
         "mode": "markers",
         "name": "reweighing outcome",
         "showlegend": false,
         "type": "scatter",
         "x": [
          0.12499537772027708
         ],
         "xaxis": "x9",
         "y": [
          0.9468802717553626
         ],
         "yaxis": "y9"
        },
        {
         "error_x": {
          "array": [
           -0.0058110928811675455
          ],
          "type": "data"
         },
         "error_y": {
          "array": [
           -0.003559321343243105
          ],
          "type": "data"
         },
         "marker": {
          "color": "#FB0D0D"
         },
         "mode": "markers",
         "name": "calibrated equal odds using fpr cost outcome",
         "showlegend": false,
         "type": "scatter",
         "x": [
          0.18629912946334568
         ],
         "xaxis": "x9",
         "y": [
          0.9506354971888734
         ],
         "yaxis": "y9"
        },
        {
         "error_x": {
          "array": [
           -0.015798763472345344
          ],
          "type": "data"
         },
         "error_y": {
          "array": [
           -0.0036429466616745287
          ],
          "type": "data"
         },
         "marker": {
          "color": "#DA16FF"
         },
         "mode": "markers",
         "name": "calibrated equal odds using fnr cost outcome",
         "showlegend": false,
         "type": "scatter",
         "x": [
          0.1305233025677107
         ],
         "xaxis": "x9",
         "y": [
          0.9492070805695227
         ],
         "yaxis": "y9"
        },
        {
         "error_x": {
          "array": [
           -0.006067306794178967
          ],
          "type": "data"
         },
         "error_y": {
          "array": [
           -0.0038735726023299
          ],
          "type": "data"
         },
         "marker": {
          "color": "#222A2A"
         },
         "mode": "markers",
         "name": "calibrated equal odds using weighted cost outcome",
         "showlegend": false,
         "type": "scatter",
         "x": [
          0.18611984863480757
         ],
         "xaxis": "x9",
         "y": [
          0.9508882555332084
         ],
         "yaxis": "y9"
        },
        {
         "error_x": {
          "array": [
           -0.01593644325685055
          ],
          "type": "data"
         },
         "error_y": {
          "array": [
           -0.0033056860947885403
          ],
          "type": "data"
         },
         "marker": {
          "color": "#B68100"
         },
         "mode": "markers",
         "name": "equal odds outcome",
         "showlegend": false,
         "type": "scatter",
         "x": [
          0.10850568277284957
         ],
         "xaxis": "x9",
         "y": [
          0.9470605001495882
         ],
         "yaxis": "y9"
        },
        {
         "error_x": {
          "array": [
           -0.01452861216709151
          ],
          "type": "data"
         },
         "error_y": {
          "array": [
           -0.0035859535575107904
          ],
          "type": "data"
         },
         "marker": {
          "color": "#750D86"
         },
         "mode": "markers",
         "name": "no debiasing1 outcome",
         "showlegend": false,
         "type": "scatter",
         "x": [
          0.13198511125782697
         ],
         "xaxis": "x9",
         "y": [
          0.9491470975260049
         ],
         "yaxis": "y9"
        },
        {
         "error_x": {
          "array": [
           -0.014669125690659417
          ],
          "type": "data"
         },
         "error_y": {
          "array": [
           -0.004113098586574493
          ],
          "type": "data"
         },
         "marker": {
          "color": "#EB663B"
         },
         "mode": "markers",
         "name": "reweighing1 outcome",
         "showlegend": false,
         "type": "scatter",
         "x": [
          0.12499537772027708
         ],
         "xaxis": "x9",
         "y": [
          0.9468802717553626
         ],
         "yaxis": "y9"
        },
        {
         "error_x": {
          "array": [
           -0.0058110928811675455
          ],
          "type": "data"
         },
         "error_y": {
          "array": [
           -0.003559321343243105
          ],
          "type": "data"
         },
         "marker": {
          "color": "#511CFB"
         },
         "mode": "markers",
         "name": "calibrated equal odds using fpr cost1 outcome",
         "showlegend": false,
         "type": "scatter",
         "x": [
          0.18629912946334568
         ],
         "xaxis": "x9",
         "y": [
          0.9506354971888734
         ],
         "yaxis": "y9"
        },
        {
         "error_x": {
          "array": [
           -0.015798763472345344
          ],
          "type": "data"
         },
         "error_y": {
          "array": [
           -0.0036429466616745287
          ],
          "type": "data"
         },
         "marker": {
          "color": "#00A08B"
         },
         "mode": "markers",
         "name": "calibrated equal odds using fnr cost1 outcome",
         "showlegend": false,
         "type": "scatter",
         "x": [
          0.1305233025677107
         ],
         "xaxis": "x9",
         "y": [
          0.9492070805695227
         ],
         "yaxis": "y9"
        },
        {
         "error_x": {
          "array": [
           -0.006067306794178967
          ],
          "type": "data"
         },
         "error_y": {
          "array": [
           -0.0038735726023299
          ],
          "type": "data"
         },
         "marker": {
          "color": "#FB00D1"
         },
         "mode": "markers",
         "name": "calibrated equal odds using weighted cost1 outcome",
         "showlegend": false,
         "type": "scatter",
         "x": [
          0.18611984863480757
         ],
         "xaxis": "x9",
         "y": [
          0.9508882555332084
         ],
         "yaxis": "y9"
        },
        {
         "error_x": {
          "array": [
           -0.01593644325685055
          ],
          "type": "data"
         },
         "error_y": {
          "array": [
           -0.0033056860947885403
          ],
          "type": "data"
         },
         "marker": {
          "color": "#FC0080"
         },
         "mode": "markers",
         "name": "equal odds1 outcome",
         "showlegend": false,
         "type": "scatter",
         "x": [
          0.10850568277284957
         ],
         "xaxis": "x9",
         "y": [
          0.9470605001495882
         ],
         "yaxis": "y9"
        },
        {
         "line": {
          "color": "#2E91E5"
         },
         "mode": "lines+markers+text",
         "name": "fairea baseline",
         "showlegend": false,
         "text": [
          "F_0",
          "F_10",
          "F_20",
          "F_30",
          "F_40",
          "F_50",
          "F_60",
          "F_70",
          "F_80",
          "F_90",
          "F_100"
         ],
         "textposition": "bottom right",
         "type": "scatter",
         "x": [
          0.13153366316698556,
          0.11865561466447005,
          0.10478255925418929,
          0.09185034906058193,
          0.07936776663277154,
          0.06552709097609065,
          0.052922554518159644,
          0.04006550536855555,
          0.02595754795230033,
          0.013092827447697897,
          0
         ],
         "xaxis": "x9",
         "y": [
          0.9489344591877763,
          0.9539815038198632,
          0.9591877764374749,
          0.964421391234419,
          0.9696550060313629,
          0.9740281463610776,
          0.9793968636911943,
          0.984617611580217,
          0.9897145154804986,
          0.9948709288299158,
          1
         ],
         "yaxis": "y9"
        },
        {
         "line": {
          "color": "#E15F99"
         },
         "mode": "lines+markers+text",
         "name": "fairea baseline",
         "showlegend": false,
         "text": [
          "F_0",
          "F_10",
          "F_20",
          "F_30",
          "F_40",
          "F_50",
          "F_60",
          "F_70",
          "F_80",
          "F_90",
          "F_100"
         ],
         "textposition": "bottom right",
         "type": "scatter",
         "x": [
          0.13153366316698556,
          0.11865561466447005,
          0.10478255925418929,
          0.09185034906058193,
          0.07936776663277154,
          0.06552709097609065,
          0.052922554518159644,
          0.04006550536855555,
          0.02595754795230033,
          0.013092827447697897,
          0
         ],
         "xaxis": "x9",
         "y": [
          0.9489344591877763,
          0.9539815038198632,
          0.9591877764374749,
          0.964421391234419,
          0.9696550060313629,
          0.9740281463610776,
          0.9793968636911943,
          0.984617611580217,
          0.9897145154804986,
          0.9948709288299158,
          1
         ],
         "yaxis": "y9"
        },
        {
         "error_x": {
          "array": [
           -0.05119168246872774
          ],
          "type": "data"
         },
         "error_y": {
          "array": [
           -0.004113098586574493
          ],
          "type": "data"
         },
         "marker": {
          "color": "#1CA71C"
         },
         "mode": "markers",
         "name": "reweighing outcome",
         "showlegend": false,
         "type": "scatter",
         "x": [
          0.05342657562783528
         ],
         "xaxis": "x10",
         "y": [
          0.9468802717553626
         ],
         "yaxis": "y10"
        },
        {
         "error_x": {
          "array": [
           -0.007515199373606174
          ],
          "type": "data"
         },
         "error_y": {
          "array": [
           -0.003559321343243105
          ],
          "type": "data"
         },
         "marker": {
          "color": "#FB0D0D"
         },
         "mode": "markers",
         "name": "calibrated equal odds using fpr cost outcome",
         "showlegend": false,
         "type": "scatter",
         "x": [
          0.3215720657854554
         ],
         "xaxis": "x10",
         "y": [
          0.9506354971888734
         ],
         "yaxis": "y10"
        },
        {
         "error_x": {
          "array": [
           -0.05750649047104506
          ],
          "type": "data"
         },
         "error_y": {
          "array": [
           -0.0036429466616745287
          ],
          "type": "data"
         },
         "marker": {
          "color": "#DA16FF"
         },
         "mode": "markers",
         "name": "calibrated equal odds using fnr cost outcome",
         "showlegend": false,
         "type": "scatter",
         "x": [
          0.06632829996391733
         ],
         "xaxis": "x10",
         "y": [
          0.9492070805695227
         ],
         "yaxis": "y10"
        },
        {
         "error_x": {
          "array": [
           -0.0081686742075181
          ],
          "type": "data"
         },
         "error_y": {
          "array": [
           -0.0038735726023299
          ],
          "type": "data"
         },
         "marker": {
          "color": "#222A2A"
         },
         "mode": "markers",
         "name": "calibrated equal odds using weighted cost outcome",
         "showlegend": false,
         "type": "scatter",
         "x": [
          0.32217538473254104
         ],
         "xaxis": "x10",
         "y": [
          0.9508882555332084
         ],
         "yaxis": "y10"
        },
        {
         "error_x": {
          "array": [
           -0.05116030035124883
          ],
          "type": "data"
         },
         "error_y": {
          "array": [
           -0.0033056860947885403
          ],
          "type": "data"
         },
         "marker": {
          "color": "#B68100"
         },
         "mode": "markers",
         "name": "equal odds outcome",
         "showlegend": false,
         "type": "scatter",
         "x": [
          0.04713176194826316
         ],
         "xaxis": "x10",
         "y": [
          0.9470605001495882
         ],
         "yaxis": "y10"
        },
        {
         "error_x": {
          "array": [
           -0.054902255237186975
          ],
          "type": "data"
         },
         "error_y": {
          "array": [
           -0.0035859535575107904
          ],
          "type": "data"
         },
         "marker": {
          "color": "#750D86"
         },
         "mode": "markers",
         "name": "no debiasing1 outcome",
         "showlegend": false,
         "type": "scatter",
         "x": [
          0.06987733249735525
         ],
         "xaxis": "x10",
         "y": [
          0.9491470975260049
         ],
         "yaxis": "y10"
        },
        {
         "error_x": {
          "array": [
           -0.05119168246872774
          ],
          "type": "data"
         },
         "error_y": {
          "array": [
           -0.004113098586574493
          ],
          "type": "data"
         },
         "marker": {
          "color": "#EB663B"
         },
         "mode": "markers",
         "name": "reweighing1 outcome",
         "showlegend": false,
         "type": "scatter",
         "x": [
          0.05342657562783528
         ],
         "xaxis": "x10",
         "y": [
          0.9468802717553626
         ],
         "yaxis": "y10"
        },
        {
         "error_x": {
          "array": [
           -0.007515199373606174
          ],
          "type": "data"
         },
         "error_y": {
          "array": [
           -0.003559321343243105
          ],
          "type": "data"
         },
         "marker": {
          "color": "#511CFB"
         },
         "mode": "markers",
         "name": "calibrated equal odds using fpr cost1 outcome",
         "showlegend": false,
         "type": "scatter",
         "x": [
          0.3215720657854554
         ],
         "xaxis": "x10",
         "y": [
          0.9506354971888734
         ],
         "yaxis": "y10"
        },
        {
         "error_x": {
          "array": [
           -0.05750649047104506
          ],
          "type": "data"
         },
         "error_y": {
          "array": [
           -0.0036429466616745287
          ],
          "type": "data"
         },
         "marker": {
          "color": "#00A08B"
         },
         "mode": "markers",
         "name": "calibrated equal odds using fnr cost1 outcome",
         "showlegend": false,
         "type": "scatter",
         "x": [
          0.06632829996391733
         ],
         "xaxis": "x10",
         "y": [
          0.9492070805695227
         ],
         "yaxis": "y10"
        },
        {
         "error_x": {
          "array": [
           -0.0081686742075181
          ],
          "type": "data"
         },
         "error_y": {
          "array": [
           -0.0038735726023299
          ],
          "type": "data"
         },
         "marker": {
          "color": "#FB00D1"
         },
         "mode": "markers",
         "name": "calibrated equal odds using weighted cost1 outcome",
         "showlegend": false,
         "type": "scatter",
         "x": [
          0.32217538473254104
         ],
         "xaxis": "x10",
         "y": [
          0.9508882555332084
         ],
         "yaxis": "y10"
        },
        {
         "error_x": {
          "array": [
           -0.05116030035124883
          ],
          "type": "data"
         },
         "error_y": {
          "array": [
           -0.0033056860947885403
          ],
          "type": "data"
         },
         "marker": {
          "color": "#FC0080"
         },
         "mode": "markers",
         "name": "equal odds1 outcome",
         "showlegend": false,
         "type": "scatter",
         "x": [
          0.04713176194826316
         ],
         "xaxis": "x10",
         "y": [
          0.9470605001495882
         ],
         "yaxis": "y10"
        },
        {
         "line": {
          "color": "#2E91E5"
         },
         "mode": "lines+markers+text",
         "name": "fairea baseline",
         "showlegend": false,
         "text": [
          "F_0",
          "F_10",
          "F_20",
          "F_30",
          "F_40",
          "F_50",
          "F_60",
          "F_70",
          "F_80",
          "F_90",
          "F_100"
         ],
         "textposition": "bottom right",
         "type": "scatter",
         "x": [
          0.0685830084977357,
          0.06369214478216093,
          0.05425564155486756,
          0.047239814974495246,
          0.039782283016360095,
          0.0326926823253849,
          0.03263965157390147,
          0.026984230604227673,
          0.019297769082038327,
          0.011059326583565933,
          0
         ],
         "xaxis": "x10",
         "y": [
          0.9489344591877763,
          0.9539815038198632,
          0.9591877764374749,
          0.964421391234419,
          0.9696550060313629,
          0.9740281463610776,
          0.9793968636911943,
          0.984617611580217,
          0.9897145154804986,
          0.9948709288299158,
          1
         ],
         "yaxis": "y10"
        },
        {
         "line": {
          "color": "#E15F99"
         },
         "mode": "lines+markers+text",
         "name": "fairea baseline",
         "showlegend": false,
         "text": [
          "F_0",
          "F_10",
          "F_20",
          "F_30",
          "F_40",
          "F_50",
          "F_60",
          "F_70",
          "F_80",
          "F_90",
          "F_100"
         ],
         "textposition": "bottom right",
         "type": "scatter",
         "x": [
          0.0685830084977357,
          0.06369214478216093,
          0.05425564155486756,
          0.047239814974495246,
          0.039782283016360095,
          0.0326926823253849,
          0.03263965157390147,
          0.026984230604227673,
          0.019297769082038327,
          0.011059326583565933,
          0
         ],
         "xaxis": "x10",
         "y": [
          0.9489344591877763,
          0.9539815038198632,
          0.9591877764374749,
          0.964421391234419,
          0.9696550060313629,
          0.9740281463610776,
          0.9793968636911943,
          0.984617611580217,
          0.9897145154804986,
          0.9948709288299158,
          1
         ],
         "yaxis": "y10"
        },
        {
         "error_x": {
          "array": [
           -0.1014136852908333
          ],
          "type": "data"
         },
         "error_y": {
          "array": [
           -0.004113098586574493
          ],
          "type": "data"
         },
         "marker": {
          "color": "#1CA71C"
         },
         "mode": "markers",
         "name": "reweighing outcome",
         "showlegend": false,
         "type": "scatter",
         "x": [
          0.07628445237040411
         ],
         "xaxis": "x11",
         "y": [
          0.9468802717553626
         ],
         "yaxis": "y11"
        },
        {
         "error_x": {
          "array": [
           -0.014474828632257575
          ],
          "type": "data"
         },
         "error_y": {
          "array": [
           -0.003559321343243105
          ],
          "type": "data"
         },
         "marker": {
          "color": "#FB0D0D"
         },
         "mode": "markers",
         "name": "calibrated equal odds using fpr cost outcome",
         "showlegend": false,
         "type": "scatter",
         "x": [
          0.5896589324327605
         ],
         "xaxis": "x11",
         "y": [
          0.9506354971888734
         ],
         "yaxis": "y11"
        },
        {
         "error_x": {
          "array": [
           -0.11537876468176798
          ],
          "type": "data"
         },
         "error_y": {
          "array": [
           -0.0036429466616745287
          ],
          "type": "data"
         },
         "marker": {
          "color": "#DA16FF"
         },
         "mode": "markers",
         "name": "calibrated equal odds using fnr cost outcome",
         "showlegend": false,
         "type": "scatter",
         "x": [
          0.1001192439079641
         ],
         "xaxis": "x11",
         "y": [
          0.9492070805695227
         ],
         "yaxis": "y11"
        },
        {
         "error_x": {
          "array": [
           -0.015375522322629398
          ],
          "type": "data"
         },
         "error_y": {
          "array": [
           -0.0038735726023299
          ],
          "type": "data"
         },
         "marker": {
          "color": "#222A2A"
         },
         "mode": "markers",
         "name": "calibrated equal odds using weighted cost outcome",
         "showlegend": false,
         "type": "scatter",
         "x": [
          0.5911256890019798
         ],
         "xaxis": "x11",
         "y": [
          0.9508882555332084
         ],
         "yaxis": "y11"
        },
        {
         "error_x": {
          "array": [
           -0.10168023853468197
          ],
          "type": "data"
         },
         "error_y": {
          "array": [
           -0.0033056860947885403
          ],
          "type": "data"
         },
         "marker": {
          "color": "#B68100"
         },
         "mode": "markers",
         "name": "equal odds outcome",
         "showlegend": false,
         "type": "scatter",
         "x": [
          0.08342364473014083
         ],
         "xaxis": "x11",
         "y": [
          0.9470605001495882
         ],
         "yaxis": "y11"
        },
        {
         "error_x": {
          "array": [
           -0.10947160334109615
          ],
          "type": "data"
         },
         "error_y": {
          "array": [
           -0.0035859535575107904
          ],
          "type": "data"
         },
         "marker": {
          "color": "#750D86"
         },
         "mode": "markers",
         "name": "no debiasing1 outcome",
         "showlegend": false,
         "type": "scatter",
         "x": [
          0.10654127028663493
         ],
         "xaxis": "x11",
         "y": [
          0.9491470975260049
         ],
         "yaxis": "y11"
        },
        {
         "error_x": {
          "array": [
           -0.1014136852908333
          ],
          "type": "data"
         },
         "error_y": {
          "array": [
           -0.004113098586574493
          ],
          "type": "data"
         },
         "marker": {
          "color": "#EB663B"
         },
         "mode": "markers",
         "name": "reweighing1 outcome",
         "showlegend": false,
         "type": "scatter",
         "x": [
          0.07628445237040411
         ],
         "xaxis": "x11",
         "y": [
          0.9468802717553626
         ],
         "yaxis": "y11"
        },
        {
         "error_x": {
          "array": [
           -0.014474828632257575
          ],
          "type": "data"
         },
         "error_y": {
          "array": [
           -0.003559321343243105
          ],
          "type": "data"
         },
         "marker": {
          "color": "#511CFB"
         },
         "mode": "markers",
         "name": "calibrated equal odds using fpr cost1 outcome",
         "showlegend": false,
         "type": "scatter",
         "x": [
          0.5896589324327605
         ],
         "xaxis": "x11",
         "y": [
          0.9506354971888734
         ],
         "yaxis": "y11"
        },
        {
         "error_x": {
          "array": [
           -0.11537876468176798
          ],
          "type": "data"
         },
         "error_y": {
          "array": [
           -0.0036429466616745287
          ],
          "type": "data"
         },
         "marker": {
          "color": "#00A08B"
         },
         "mode": "markers",
         "name": "calibrated equal odds using fnr cost1 outcome",
         "showlegend": false,
         "type": "scatter",
         "x": [
          0.1001192439079641
         ],
         "xaxis": "x11",
         "y": [
          0.9492070805695227
         ],
         "yaxis": "y11"
        },
        {
         "error_x": {
          "array": [
           -0.015375522322629398
          ],
          "type": "data"
         },
         "error_y": {
          "array": [
           -0.0038735726023299
          ],
          "type": "data"
         },
         "marker": {
          "color": "#FB00D1"
         },
         "mode": "markers",
         "name": "calibrated equal odds using weighted cost1 outcome",
         "showlegend": false,
         "type": "scatter",
         "x": [
          0.5911256890019798
         ],
         "xaxis": "x11",
         "y": [
          0.9508882555332084
         ],
         "yaxis": "y11"
        },
        {
         "error_x": {
          "array": [
           -0.10168023853468197
          ],
          "type": "data"
         },
         "error_y": {
          "array": [
           -0.0033056860947885403
          ],
          "type": "data"
         },
         "marker": {
          "color": "#FC0080"
         },
         "mode": "markers",
         "name": "equal odds1 outcome",
         "showlegend": false,
         "type": "scatter",
         "x": [
          0.08342364473014083
         ],
         "xaxis": "x11",
         "y": [
          0.9470605001495882
         ],
         "yaxis": "y11"
        },
        {
         "line": {
          "color": "#2E91E5"
         },
         "mode": "lines+markers+text",
         "name": "fairea baseline",
         "showlegend": false,
         "text": [
          "F_0",
          "F_10",
          "F_20",
          "F_30",
          "F_40",
          "F_50",
          "F_60",
          "F_70",
          "F_80",
          "F_90",
          "F_100"
         ],
         "textposition": "bottom right",
         "type": "scatter",
         "x": [
          0.10440457908697472,
          0.09803769370375542,
          0.08252631578947367,
          0.07163758201870724,
          0.05932360742705571,
          0.04852882870305738,
          0.051689515566103586,
          0.04384629345246404,
          0.03196481920982829,
          0.018721485411140586,
          0
         ],
         "xaxis": "x11",
         "y": [
          0.9489344591877763,
          0.9539815038198632,
          0.9591877764374749,
          0.964421391234419,
          0.9696550060313629,
          0.9740281463610776,
          0.9793968636911943,
          0.984617611580217,
          0.9897145154804986,
          0.9948709288299158,
          1
         ],
         "yaxis": "y11"
        },
        {
         "line": {
          "color": "#E15F99"
         },
         "mode": "lines+markers+text",
         "name": "fairea baseline",
         "showlegend": false,
         "text": [
          "F_0",
          "F_10",
          "F_20",
          "F_30",
          "F_40",
          "F_50",
          "F_60",
          "F_70",
          "F_80",
          "F_90",
          "F_100"
         ],
         "textposition": "bottom right",
         "type": "scatter",
         "x": [
          0.10440457908697472,
          0.09803769370375542,
          0.08252631578947367,
          0.07163758201870724,
          0.05932360742705571,
          0.04852882870305738,
          0.051689515566103586,
          0.04384629345246404,
          0.03196481920982829,
          0.018721485411140586,
          0
         ],
         "xaxis": "x11",
         "y": [
          0.9489344591877763,
          0.9539815038198632,
          0.9591877764374749,
          0.964421391234419,
          0.9696550060313629,
          0.9740281463610776,
          0.9793968636911943,
          0.984617611580217,
          0.9897145154804986,
          0.9948709288299158,
          1
         ],
         "yaxis": "y11"
        },
        {
         "error_x": {
          "array": [
           -0.012954617921213399
          ],
          "type": "data"
         },
         "error_y": {
          "array": [
           -0.004113098586574493
          ],
          "type": "data"
         },
         "marker": {
          "color": "#1CA71C"
         },
         "mode": "markers",
         "name": "reweighing outcome",
         "showlegend": false,
         "type": "scatter",
         "x": [
          0.08512966543149375
         ],
         "xaxis": "x12",
         "y": [
          0.9468802717553626
         ],
         "yaxis": "y12"
        },
        {
         "error_x": {
          "array": [
           -0.01673170986549556
          ],
          "type": "data"
         },
         "error_y": {
          "array": [
           -0.003559321343243105
          ],
          "type": "data"
         },
         "marker": {
          "color": "#FB0D0D"
         },
         "mode": "markers",
         "name": "calibrated equal odds using fpr cost outcome",
         "showlegend": false,
         "type": "scatter",
         "x": [
          0.06786599402009061
         ],
         "xaxis": "x12",
         "y": [
          0.9506354971888734
         ],
         "yaxis": "y12"
        },
        {
         "error_x": {
          "array": [
           -0.01484884783771774
          ],
          "type": "data"
         },
         "error_y": {
          "array": [
           -0.0036429466616745287
          ],
          "type": "data"
         },
         "marker": {
          "color": "#DA16FF"
         },
         "mode": "markers",
         "name": "calibrated equal odds using fnr cost outcome",
         "showlegend": false,
         "type": "scatter",
         "x": [
          0.08550626235703675
         ],
         "xaxis": "x12",
         "y": [
          0.9492070805695227
         ],
         "yaxis": "y12"
        },
        {
         "error_x": {
          "array": [
           -0.018091225193089536
          ],
          "type": "data"
         },
         "error_y": {
          "array": [
           -0.0038735726023299
          ],
          "type": "data"
         },
         "marker": {
          "color": "#222A2A"
         },
         "mode": "markers",
         "name": "calibrated equal odds using weighted cost outcome",
         "showlegend": false,
         "type": "scatter",
         "x": [
          0.06829081163739964
         ],
         "xaxis": "x12",
         "y": [
          0.9508882555332084
         ],
         "yaxis": "y12"
        },
        {
         "error_x": {
          "array": [
           -0.017161535511095935
          ],
          "type": "data"
         },
         "error_y": {
          "array": [
           -0.0033056860947885403
          ],
          "type": "data"
         },
         "marker": {
          "color": "#B68100"
         },
         "mode": "markers",
         "name": "equal odds outcome",
         "showlegend": false,
         "type": "scatter",
         "x": [
          0.06484613527683707
         ],
         "xaxis": "x12",
         "y": [
          0.9470605001495882
         ],
         "yaxis": "y12"
        },
        {
         "error_x": {
          "array": [
           -0.015400651985634853
          ],
          "type": "data"
         },
         "error_y": {
          "array": [
           -0.0035859535575107904
          ],
          "type": "data"
         },
         "marker": {
          "color": "#750D86"
         },
         "mode": "markers",
         "name": "no debiasing1 outcome",
         "showlegend": false,
         "type": "scatter",
         "x": [
          0.08496780546821205
         ],
         "xaxis": "x12",
         "y": [
          0.9491470975260049
         ],
         "yaxis": "y12"
        },
        {
         "error_x": {
          "array": [
           -0.012954617921213399
          ],
          "type": "data"
         },
         "error_y": {
          "array": [
           -0.004113098586574493
          ],
          "type": "data"
         },
         "marker": {
          "color": "#EB663B"
         },
         "mode": "markers",
         "name": "reweighing1 outcome",
         "showlegend": false,
         "type": "scatter",
         "x": [
          0.08512966543149375
         ],
         "xaxis": "x12",
         "y": [
          0.9468802717553626
         ],
         "yaxis": "y12"
        },
        {
         "error_x": {
          "array": [
           -0.01673170986549556
          ],
          "type": "data"
         },
         "error_y": {
          "array": [
           -0.003559321343243105
          ],
          "type": "data"
         },
         "marker": {
          "color": "#511CFB"
         },
         "mode": "markers",
         "name": "calibrated equal odds using fpr cost1 outcome",
         "showlegend": false,
         "type": "scatter",
         "x": [
          0.06786599402009061
         ],
         "xaxis": "x12",
         "y": [
          0.9506354971888734
         ],
         "yaxis": "y12"
        },
        {
         "error_x": {
          "array": [
           -0.01484884783771774
          ],
          "type": "data"
         },
         "error_y": {
          "array": [
           -0.0036429466616745287
          ],
          "type": "data"
         },
         "marker": {
          "color": "#00A08B"
         },
         "mode": "markers",
         "name": "calibrated equal odds using fnr cost1 outcome",
         "showlegend": false,
         "type": "scatter",
         "x": [
          0.08550626235703675
         ],
         "xaxis": "x12",
         "y": [
          0.9492070805695227
         ],
         "yaxis": "y12"
        },
        {
         "error_x": {
          "array": [
           -0.018091225193089536
          ],
          "type": "data"
         },
         "error_y": {
          "array": [
           -0.0038735726023299
          ],
          "type": "data"
         },
         "marker": {
          "color": "#FB00D1"
         },
         "mode": "markers",
         "name": "calibrated equal odds using weighted cost1 outcome",
         "showlegend": false,
         "type": "scatter",
         "x": [
          0.06829081163739964
         ],
         "xaxis": "x12",
         "y": [
          0.9508882555332084
         ],
         "yaxis": "y12"
        },
        {
         "error_x": {
          "array": [
           -0.017161535511095935
          ],
          "type": "data"
         },
         "error_y": {
          "array": [
           -0.0033056860947885403
          ],
          "type": "data"
         },
         "marker": {
          "color": "#FC0080"
         },
         "mode": "markers",
         "name": "equal odds1 outcome",
         "showlegend": false,
         "type": "scatter",
         "x": [
          0.06484613527683707
         ],
         "xaxis": "x12",
         "y": [
          0.9470605001495882
         ],
         "yaxis": "y12"
        },
        {
         "line": {
          "color": "#2E91E5"
         },
         "mode": "lines+markers+text",
         "name": "fairea baseline",
         "showlegend": false,
         "text": [
          "F_0",
          "F_10",
          "F_20",
          "F_30",
          "F_40",
          "F_50",
          "F_60",
          "F_70",
          "F_80",
          "F_90",
          "F_100"
         ],
         "textposition": "bottom right",
         "type": "scatter",
         "x": [
          0.08447361056413193,
          0.09287042020233229,
          0.10241481794777955,
          0.1114273380347503,
          0.12097984274861938,
          0.13016040704528734,
          0.1386660871150868,
          0.1470059289013044,
          0.15651007545989506,
          0.16525117799240463,
          0.17393512145889978
         ],
         "xaxis": "x12",
         "y": [
          0.9489344591877763,
          0.9539815038198632,
          0.9591877764374749,
          0.964421391234419,
          0.9696550060313629,
          0.9740281463610776,
          0.9793968636911943,
          0.984617611580217,
          0.9897145154804986,
          0.9948709288299158,
          1
         ],
         "yaxis": "y12"
        },
        {
         "line": {
          "color": "#E15F99"
         },
         "mode": "lines+markers+text",
         "name": "fairea baseline",
         "showlegend": false,
         "text": [
          "F_0",
          "F_10",
          "F_20",
          "F_30",
          "F_40",
          "F_50",
          "F_60",
          "F_70",
          "F_80",
          "F_90",
          "F_100"
         ],
         "textposition": "bottom right",
         "type": "scatter",
         "x": [
          0.08447361056413193,
          0.09287042020233229,
          0.10241481794777955,
          0.1114273380347503,
          0.12097984274861938,
          0.13016040704528734,
          0.1386660871150868,
          0.1470059289013044,
          0.15651007545989506,
          0.16525117799240463,
          0.17393512145889978
         ],
         "xaxis": "x12",
         "y": [
          0.9489344591877763,
          0.9539815038198632,
          0.9591877764374749,
          0.964421391234419,
          0.9696550060313629,
          0.9740281463610776,
          0.9793968636911943,
          0.984617611580217,
          0.9897145154804986,
          0.9948709288299158,
          1
         ],
         "yaxis": "y12"
        },
        {
         "error_x": {
          "array": [
           -0.014669125690659417
          ],
          "type": "data"
         },
         "error_y": {
          "array": [
           -0.008790420679187672
          ],
          "type": "data"
         },
         "marker": {
          "color": "#1CA71C"
         },
         "mode": "markers",
         "name": "reweighing outcome",
         "showlegend": false,
         "type": "scatter",
         "x": [
          0.12499537772027708
         ],
         "xaxis": "x13",
         "y": [
          0.7647693698927464
         ],
         "yaxis": "y13"
        },
        {
         "error_x": {
          "array": [
           -0.0058110928811675455
          ],
          "type": "data"
         },
         "error_y": {
          "array": [
           -0.007303115672532612
          ],
          "type": "data"
         },
         "marker": {
          "color": "#FB0D0D"
         },
         "mode": "markers",
         "name": "calibrated equal odds using fpr cost outcome",
         "showlegend": false,
         "type": "scatter",
         "x": [
          0.18629912946334568
         ],
         "xaxis": "x13",
         "y": [
          0.764287578815799
         ],
         "yaxis": "y13"
        },
        {
         "error_x": {
          "array": [
           -0.015798763472345344
          ],
          "type": "data"
         },
         "error_y": {
          "array": [
           -0.008622544834948842
          ],
          "type": "data"
         },
         "marker": {
          "color": "#DA16FF"
         },
         "mode": "markers",
         "name": "calibrated equal odds using fnr cost outcome",
         "showlegend": false,
         "type": "scatter",
         "x": [
          0.1305233025677107
         ],
         "xaxis": "x13",
         "y": [
          0.7675707258008468
         ],
         "yaxis": "y13"
        },
        {
         "error_x": {
          "array": [
           -0.006067306794178967
          ],
          "type": "data"
         },
         "error_y": {
          "array": [
           -0.007538124240132338
          ],
          "type": "data"
         },
         "marker": {
          "color": "#222A2A"
         },
         "mode": "markers",
         "name": "calibrated equal odds using weighted cost outcome",
         "showlegend": false,
         "type": "scatter",
         "x": [
          0.18611984863480757
         ],
         "xaxis": "x13",
         "y": [
          0.7651993671486659
         ],
         "yaxis": "y13"
        },
        {
         "error_x": {
          "array": [
           -0.01593644325685055
          ],
          "type": "data"
         },
         "error_y": {
          "array": [
           -0.008244625895690527
          ],
          "type": "data"
         },
         "marker": {
          "color": "#B68100"
         },
         "mode": "markers",
         "name": "equal odds outcome",
         "showlegend": false,
         "type": "scatter",
         "x": [
          0.10850568277284957
         ],
         "xaxis": "x13",
         "y": [
          0.7686107849840562
         ],
         "yaxis": "y13"
        },
        {
         "error_x": {
          "array": [
           -0.01452861216709151
          ],
          "type": "data"
         },
         "error_y": {
          "array": [
           -0.007599676253391308
          ],
          "type": "data"
         },
         "marker": {
          "color": "#750D86"
         },
         "mode": "markers",
         "name": "no debiasing1 outcome",
         "showlegend": false,
         "type": "scatter",
         "x": [
          0.13198511125782697
         ],
         "xaxis": "x13",
         "y": [
          0.7690321421639139
         ],
         "yaxis": "y13"
        },
        {
         "error_x": {
          "array": [
           -0.014669125690659417
          ],
          "type": "data"
         },
         "error_y": {
          "array": [
           -0.008790420679187672
          ],
          "type": "data"
         },
         "marker": {
          "color": "#EB663B"
         },
         "mode": "markers",
         "name": "reweighing1 outcome",
         "showlegend": false,
         "type": "scatter",
         "x": [
          0.12499537772027708
         ],
         "xaxis": "x13",
         "y": [
          0.7647693698927464
         ],
         "yaxis": "y13"
        },
        {
         "error_x": {
          "array": [
           -0.0058110928811675455
          ],
          "type": "data"
         },
         "error_y": {
          "array": [
           -0.007303115672532612
          ],
          "type": "data"
         },
         "marker": {
          "color": "#511CFB"
         },
         "mode": "markers",
         "name": "calibrated equal odds using fpr cost1 outcome",
         "showlegend": false,
         "type": "scatter",
         "x": [
          0.18629912946334568
         ],
         "xaxis": "x13",
         "y": [
          0.764287578815799
         ],
         "yaxis": "y13"
        },
        {
         "error_x": {
          "array": [
           -0.015798763472345344
          ],
          "type": "data"
         },
         "error_y": {
          "array": [
           -0.008622544834948842
          ],
          "type": "data"
         },
         "marker": {
          "color": "#00A08B"
         },
         "mode": "markers",
         "name": "calibrated equal odds using fnr cost1 outcome",
         "showlegend": false,
         "type": "scatter",
         "x": [
          0.1305233025677107
         ],
         "xaxis": "x13",
         "y": [
          0.7675707258008468
         ],
         "yaxis": "y13"
        },
        {
         "error_x": {
          "array": [
           -0.006067306794178967
          ],
          "type": "data"
         },
         "error_y": {
          "array": [
           -0.007538124240132338
          ],
          "type": "data"
         },
         "marker": {
          "color": "#FB00D1"
         },
         "mode": "markers",
         "name": "calibrated equal odds using weighted cost1 outcome",
         "showlegend": false,
         "type": "scatter",
         "x": [
          0.18611984863480757
         ],
         "xaxis": "x13",
         "y": [
          0.7651993671486659
         ],
         "yaxis": "y13"
        },
        {
         "error_x": {
          "array": [
           -0.01593644325685055
          ],
          "type": "data"
         },
         "error_y": {
          "array": [
           -0.008244625895690527
          ],
          "type": "data"
         },
         "marker": {
          "color": "#FC0080"
         },
         "mode": "markers",
         "name": "equal odds1 outcome",
         "showlegend": false,
         "type": "scatter",
         "x": [
          0.10850568277284957
         ],
         "xaxis": "x13",
         "y": [
          0.7686107849840562
         ],
         "yaxis": "y13"
        },
        {
         "line": {
          "color": "#2E91E5"
         },
         "mode": "lines+markers+text",
         "name": "fairea baseline",
         "showlegend": false,
         "text": [
          "F_0",
          "F_10",
          "F_20",
          "F_30",
          "F_40",
          "F_50",
          "F_60",
          "F_70",
          "F_80",
          "F_90",
          "F_100"
         ],
         "textposition": "bottom right",
         "type": "scatter",
         "x": [
          0.13153366316698556,
          0.11865561466447005,
          0.10478255925418929,
          0.09185034906058193,
          0.07936776663277154,
          0.06552709097609065,
          0.052922554518159644,
          0.04006550536855555,
          0.02595754795230033,
          0.013092827447697897,
          0
         ],
         "xaxis": "x13",
         "y": [
          0.7690590132652351,
          0.7424093686546014,
          0.7147784956030329,
          0.6883755422110732,
          0.6622507999475588,
          0.6343099650162122,
          0.6065133044405008,
          0.5799869129143935,
          0.5539472213387931,
          0.5268608414300384,
          0.5
         ],
         "yaxis": "y13"
        },
        {
         "line": {
          "color": "#E15F99"
         },
         "mode": "lines+markers+text",
         "name": "fairea baseline",
         "showlegend": false,
         "text": [
          "F_0",
          "F_10",
          "F_20",
          "F_30",
          "F_40",
          "F_50",
          "F_60",
          "F_70",
          "F_80",
          "F_90",
          "F_100"
         ],
         "textposition": "bottom right",
         "type": "scatter",
         "x": [
          0.13153366316698556,
          0.11865561466447005,
          0.10478255925418929,
          0.09185034906058193,
          0.07936776663277154,
          0.06552709097609065,
          0.052922554518159644,
          0.04006550536855555,
          0.02595754795230033,
          0.013092827447697897,
          0
         ],
         "xaxis": "x13",
         "y": [
          0.7690590132652351,
          0.7424093686546014,
          0.7147784956030329,
          0.6883755422110732,
          0.6622507999475588,
          0.6343099650162122,
          0.6065133044405008,
          0.5799869129143935,
          0.5539472213387931,
          0.5268608414300384,
          0.5
         ],
         "yaxis": "y13"
        },
        {
         "error_x": {
          "array": [
           -0.05119168246872774
          ],
          "type": "data"
         },
         "error_y": {
          "array": [
           -0.008790420679187672
          ],
          "type": "data"
         },
         "marker": {
          "color": "#1CA71C"
         },
         "mode": "markers",
         "name": "reweighing outcome",
         "showlegend": false,
         "type": "scatter",
         "x": [
          0.05342657562783528
         ],
         "xaxis": "x14",
         "y": [
          0.7647693698927464
         ],
         "yaxis": "y14"
        },
        {
         "error_x": {
          "array": [
           -0.007515199373606174
          ],
          "type": "data"
         },
         "error_y": {
          "array": [
           -0.007303115672532612
          ],
          "type": "data"
         },
         "marker": {
          "color": "#FB0D0D"
         },
         "mode": "markers",
         "name": "calibrated equal odds using fpr cost outcome",
         "showlegend": false,
         "type": "scatter",
         "x": [
          0.3215720657854554
         ],
         "xaxis": "x14",
         "y": [
          0.764287578815799
         ],
         "yaxis": "y14"
        },
        {
         "error_x": {
          "array": [
           -0.05750649047104506
          ],
          "type": "data"
         },
         "error_y": {
          "array": [
           -0.008622544834948842
          ],
          "type": "data"
         },
         "marker": {
          "color": "#DA16FF"
         },
         "mode": "markers",
         "name": "calibrated equal odds using fnr cost outcome",
         "showlegend": false,
         "type": "scatter",
         "x": [
          0.06632829996391733
         ],
         "xaxis": "x14",
         "y": [
          0.7675707258008468
         ],
         "yaxis": "y14"
        },
        {
         "error_x": {
          "array": [
           -0.0081686742075181
          ],
          "type": "data"
         },
         "error_y": {
          "array": [
           -0.007538124240132338
          ],
          "type": "data"
         },
         "marker": {
          "color": "#222A2A"
         },
         "mode": "markers",
         "name": "calibrated equal odds using weighted cost outcome",
         "showlegend": false,
         "type": "scatter",
         "x": [
          0.32217538473254104
         ],
         "xaxis": "x14",
         "y": [
          0.7651993671486659
         ],
         "yaxis": "y14"
        },
        {
         "error_x": {
          "array": [
           -0.05116030035124883
          ],
          "type": "data"
         },
         "error_y": {
          "array": [
           -0.008244625895690527
          ],
          "type": "data"
         },
         "marker": {
          "color": "#B68100"
         },
         "mode": "markers",
         "name": "equal odds outcome",
         "showlegend": false,
         "type": "scatter",
         "x": [
          0.04713176194826316
         ],
         "xaxis": "x14",
         "y": [
          0.7686107849840562
         ],
         "yaxis": "y14"
        },
        {
         "error_x": {
          "array": [
           -0.054902255237186975
          ],
          "type": "data"
         },
         "error_y": {
          "array": [
           -0.007599676253391308
          ],
          "type": "data"
         },
         "marker": {
          "color": "#750D86"
         },
         "mode": "markers",
         "name": "no debiasing1 outcome",
         "showlegend": false,
         "type": "scatter",
         "x": [
          0.06987733249735525
         ],
         "xaxis": "x14",
         "y": [
          0.7690321421639139
         ],
         "yaxis": "y14"
        },
        {
         "error_x": {
          "array": [
           -0.05119168246872774
          ],
          "type": "data"
         },
         "error_y": {
          "array": [
           -0.008790420679187672
          ],
          "type": "data"
         },
         "marker": {
          "color": "#EB663B"
         },
         "mode": "markers",
         "name": "reweighing1 outcome",
         "showlegend": false,
         "type": "scatter",
         "x": [
          0.05342657562783528
         ],
         "xaxis": "x14",
         "y": [
          0.7647693698927464
         ],
         "yaxis": "y14"
        },
        {
         "error_x": {
          "array": [
           -0.007515199373606174
          ],
          "type": "data"
         },
         "error_y": {
          "array": [
           -0.007303115672532612
          ],
          "type": "data"
         },
         "marker": {
          "color": "#511CFB"
         },
         "mode": "markers",
         "name": "calibrated equal odds using fpr cost1 outcome",
         "showlegend": false,
         "type": "scatter",
         "x": [
          0.3215720657854554
         ],
         "xaxis": "x14",
         "y": [
          0.764287578815799
         ],
         "yaxis": "y14"
        },
        {
         "error_x": {
          "array": [
           -0.05750649047104506
          ],
          "type": "data"
         },
         "error_y": {
          "array": [
           -0.008622544834948842
          ],
          "type": "data"
         },
         "marker": {
          "color": "#00A08B"
         },
         "mode": "markers",
         "name": "calibrated equal odds using fnr cost1 outcome",
         "showlegend": false,
         "type": "scatter",
         "x": [
          0.06632829996391733
         ],
         "xaxis": "x14",
         "y": [
          0.7675707258008468
         ],
         "yaxis": "y14"
        },
        {
         "error_x": {
          "array": [
           -0.0081686742075181
          ],
          "type": "data"
         },
         "error_y": {
          "array": [
           -0.007538124240132338
          ],
          "type": "data"
         },
         "marker": {
          "color": "#FB00D1"
         },
         "mode": "markers",
         "name": "calibrated equal odds using weighted cost1 outcome",
         "showlegend": false,
         "type": "scatter",
         "x": [
          0.32217538473254104
         ],
         "xaxis": "x14",
         "y": [
          0.7651993671486659
         ],
         "yaxis": "y14"
        },
        {
         "error_x": {
          "array": [
           -0.05116030035124883
          ],
          "type": "data"
         },
         "error_y": {
          "array": [
           -0.008244625895690527
          ],
          "type": "data"
         },
         "marker": {
          "color": "#FC0080"
         },
         "mode": "markers",
         "name": "equal odds1 outcome",
         "showlegend": false,
         "type": "scatter",
         "x": [
          0.04713176194826316
         ],
         "xaxis": "x14",
         "y": [
          0.7686107849840562
         ],
         "yaxis": "y14"
        },
        {
         "line": {
          "color": "#2E91E5"
         },
         "mode": "lines+markers+text",
         "name": "fairea baseline",
         "showlegend": false,
         "text": [
          "F_0",
          "F_10",
          "F_20",
          "F_30",
          "F_40",
          "F_50",
          "F_60",
          "F_70",
          "F_80",
          "F_90",
          "F_100"
         ],
         "textposition": "bottom right",
         "type": "scatter",
         "x": [
          0.0685830084977357,
          0.06369214478216093,
          0.05425564155486756,
          0.047239814974495246,
          0.039782283016360095,
          0.0326926823253849,
          0.03263965157390147,
          0.026984230604227673,
          0.019297769082038327,
          0.011059326583565933,
          0
         ],
         "xaxis": "x14",
         "y": [
          0.7690590132652351,
          0.7424093686546014,
          0.7147784956030329,
          0.6883755422110732,
          0.6622507999475588,
          0.6343099650162122,
          0.6065133044405008,
          0.5799869129143935,
          0.5539472213387931,
          0.5268608414300384,
          0.5
         ],
         "yaxis": "y14"
        },
        {
         "line": {
          "color": "#E15F99"
         },
         "mode": "lines+markers+text",
         "name": "fairea baseline",
         "showlegend": false,
         "text": [
          "F_0",
          "F_10",
          "F_20",
          "F_30",
          "F_40",
          "F_50",
          "F_60",
          "F_70",
          "F_80",
          "F_90",
          "F_100"
         ],
         "textposition": "bottom right",
         "type": "scatter",
         "x": [
          0.0685830084977357,
          0.06369214478216093,
          0.05425564155486756,
          0.047239814974495246,
          0.039782283016360095,
          0.0326926823253849,
          0.03263965157390147,
          0.026984230604227673,
          0.019297769082038327,
          0.011059326583565933,
          0
         ],
         "xaxis": "x14",
         "y": [
          0.7690590132652351,
          0.7424093686546014,
          0.7147784956030329,
          0.6883755422110732,
          0.6622507999475588,
          0.6343099650162122,
          0.6065133044405008,
          0.5799869129143935,
          0.5539472213387931,
          0.5268608414300384,
          0.5
         ],
         "yaxis": "y14"
        },
        {
         "error_x": {
          "array": [
           -0.1014136852908333
          ],
          "type": "data"
         },
         "error_y": {
          "array": [
           -0.008790420679187672
          ],
          "type": "data"
         },
         "marker": {
          "color": "#1CA71C"
         },
         "mode": "markers",
         "name": "reweighing outcome",
         "showlegend": false,
         "type": "scatter",
         "x": [
          0.07628445237040411
         ],
         "xaxis": "x15",
         "y": [
          0.7647693698927464
         ],
         "yaxis": "y15"
        },
        {
         "error_x": {
          "array": [
           -0.014474828632257575
          ],
          "type": "data"
         },
         "error_y": {
          "array": [
           -0.007303115672532612
          ],
          "type": "data"
         },
         "marker": {
          "color": "#FB0D0D"
         },
         "mode": "markers",
         "name": "calibrated equal odds using fpr cost outcome",
         "showlegend": false,
         "type": "scatter",
         "x": [
          0.5896589324327605
         ],
         "xaxis": "x15",
         "y": [
          0.764287578815799
         ],
         "yaxis": "y15"
        },
        {
         "error_x": {
          "array": [
           -0.11537876468176798
          ],
          "type": "data"
         },
         "error_y": {
          "array": [
           -0.008622544834948842
          ],
          "type": "data"
         },
         "marker": {
          "color": "#DA16FF"
         },
         "mode": "markers",
         "name": "calibrated equal odds using fnr cost outcome",
         "showlegend": false,
         "type": "scatter",
         "x": [
          0.1001192439079641
         ],
         "xaxis": "x15",
         "y": [
          0.7675707258008468
         ],
         "yaxis": "y15"
        },
        {
         "error_x": {
          "array": [
           -0.015375522322629398
          ],
          "type": "data"
         },
         "error_y": {
          "array": [
           -0.007538124240132338
          ],
          "type": "data"
         },
         "marker": {
          "color": "#222A2A"
         },
         "mode": "markers",
         "name": "calibrated equal odds using weighted cost outcome",
         "showlegend": false,
         "type": "scatter",
         "x": [
          0.5911256890019798
         ],
         "xaxis": "x15",
         "y": [
          0.7651993671486659
         ],
         "yaxis": "y15"
        },
        {
         "error_x": {
          "array": [
           -0.10168023853468197
          ],
          "type": "data"
         },
         "error_y": {
          "array": [
           -0.008244625895690527
          ],
          "type": "data"
         },
         "marker": {
          "color": "#B68100"
         },
         "mode": "markers",
         "name": "equal odds outcome",
         "showlegend": false,
         "type": "scatter",
         "x": [
          0.08342364473014083
         ],
         "xaxis": "x15",
         "y": [
          0.7686107849840562
         ],
         "yaxis": "y15"
        },
        {
         "error_x": {
          "array": [
           -0.10947160334109615
          ],
          "type": "data"
         },
         "error_y": {
          "array": [
           -0.007599676253391308
          ],
          "type": "data"
         },
         "marker": {
          "color": "#750D86"
         },
         "mode": "markers",
         "name": "no debiasing1 outcome",
         "showlegend": false,
         "type": "scatter",
         "x": [
          0.10654127028663493
         ],
         "xaxis": "x15",
         "y": [
          0.7690321421639139
         ],
         "yaxis": "y15"
        },
        {
         "error_x": {
          "array": [
           -0.1014136852908333
          ],
          "type": "data"
         },
         "error_y": {
          "array": [
           -0.008790420679187672
          ],
          "type": "data"
         },
         "marker": {
          "color": "#EB663B"
         },
         "mode": "markers",
         "name": "reweighing1 outcome",
         "showlegend": false,
         "type": "scatter",
         "x": [
          0.07628445237040411
         ],
         "xaxis": "x15",
         "y": [
          0.7647693698927464
         ],
         "yaxis": "y15"
        },
        {
         "error_x": {
          "array": [
           -0.014474828632257575
          ],
          "type": "data"
         },
         "error_y": {
          "array": [
           -0.007303115672532612
          ],
          "type": "data"
         },
         "marker": {
          "color": "#511CFB"
         },
         "mode": "markers",
         "name": "calibrated equal odds using fpr cost1 outcome",
         "showlegend": false,
         "type": "scatter",
         "x": [
          0.5896589324327605
         ],
         "xaxis": "x15",
         "y": [
          0.764287578815799
         ],
         "yaxis": "y15"
        },
        {
         "error_x": {
          "array": [
           -0.11537876468176798
          ],
          "type": "data"
         },
         "error_y": {
          "array": [
           -0.008622544834948842
          ],
          "type": "data"
         },
         "marker": {
          "color": "#00A08B"
         },
         "mode": "markers",
         "name": "calibrated equal odds using fnr cost1 outcome",
         "showlegend": false,
         "type": "scatter",
         "x": [
          0.1001192439079641
         ],
         "xaxis": "x15",
         "y": [
          0.7675707258008468
         ],
         "yaxis": "y15"
        },
        {
         "error_x": {
          "array": [
           -0.015375522322629398
          ],
          "type": "data"
         },
         "error_y": {
          "array": [
           -0.007538124240132338
          ],
          "type": "data"
         },
         "marker": {
          "color": "#FB00D1"
         },
         "mode": "markers",
         "name": "calibrated equal odds using weighted cost1 outcome",
         "showlegend": false,
         "type": "scatter",
         "x": [
          0.5911256890019798
         ],
         "xaxis": "x15",
         "y": [
          0.7651993671486659
         ],
         "yaxis": "y15"
        },
        {
         "error_x": {
          "array": [
           -0.10168023853468197
          ],
          "type": "data"
         },
         "error_y": {
          "array": [
           -0.008244625895690527
          ],
          "type": "data"
         },
         "marker": {
          "color": "#FC0080"
         },
         "mode": "markers",
         "name": "equal odds1 outcome",
         "showlegend": false,
         "type": "scatter",
         "x": [
          0.08342364473014083
         ],
         "xaxis": "x15",
         "y": [
          0.7686107849840562
         ],
         "yaxis": "y15"
        },
        {
         "line": {
          "color": "#2E91E5"
         },
         "mode": "lines+markers+text",
         "name": "fairea baseline",
         "showlegend": false,
         "text": [
          "F_0",
          "F_10",
          "F_20",
          "F_30",
          "F_40",
          "F_50",
          "F_60",
          "F_70",
          "F_80",
          "F_90",
          "F_100"
         ],
         "textposition": "bottom right",
         "type": "scatter",
         "x": [
          0.10440457908697472,
          0.09803769370375542,
          0.08252631578947367,
          0.07163758201870724,
          0.05932360742705571,
          0.04852882870305738,
          0.051689515566103586,
          0.04384629345246404,
          0.03196481920982829,
          0.018721485411140586,
          0
         ],
         "xaxis": "x15",
         "y": [
          0.7690590132652351,
          0.7424093686546014,
          0.7147784956030329,
          0.6883755422110732,
          0.6622507999475588,
          0.6343099650162122,
          0.6065133044405008,
          0.5799869129143935,
          0.5539472213387931,
          0.5268608414300384,
          0.5
         ],
         "yaxis": "y15"
        },
        {
         "line": {
          "color": "#E15F99"
         },
         "mode": "lines+markers+text",
         "name": "fairea baseline",
         "showlegend": false,
         "text": [
          "F_0",
          "F_10",
          "F_20",
          "F_30",
          "F_40",
          "F_50",
          "F_60",
          "F_70",
          "F_80",
          "F_90",
          "F_100"
         ],
         "textposition": "bottom right",
         "type": "scatter",
         "x": [
          0.10440457908697472,
          0.09803769370375542,
          0.08252631578947367,
          0.07163758201870724,
          0.05932360742705571,
          0.04852882870305738,
          0.051689515566103586,
          0.04384629345246404,
          0.03196481920982829,
          0.018721485411140586,
          0
         ],
         "xaxis": "x15",
         "y": [
          0.7690590132652351,
          0.7424093686546014,
          0.7147784956030329,
          0.6883755422110732,
          0.6622507999475588,
          0.6343099650162122,
          0.6065133044405008,
          0.5799869129143935,
          0.5539472213387931,
          0.5268608414300384,
          0.5
         ],
         "yaxis": "y15"
        },
        {
         "error_x": {
          "array": [
           -0.012954617921213399
          ],
          "type": "data"
         },
         "error_y": {
          "array": [
           -0.008790420679187672
          ],
          "type": "data"
         },
         "marker": {
          "color": "#1CA71C"
         },
         "mode": "markers",
         "name": "reweighing outcome",
         "showlegend": false,
         "type": "scatter",
         "x": [
          0.08512966543149375
         ],
         "xaxis": "x16",
         "y": [
          0.7647693698927464
         ],
         "yaxis": "y16"
        },
        {
         "error_x": {
          "array": [
           -0.01673170986549556
          ],
          "type": "data"
         },
         "error_y": {
          "array": [
           -0.007303115672532612
          ],
          "type": "data"
         },
         "marker": {
          "color": "#FB0D0D"
         },
         "mode": "markers",
         "name": "calibrated equal odds using fpr cost outcome",
         "showlegend": false,
         "type": "scatter",
         "x": [
          0.06786599402009061
         ],
         "xaxis": "x16",
         "y": [
          0.764287578815799
         ],
         "yaxis": "y16"
        },
        {
         "error_x": {
          "array": [
           -0.01484884783771774
          ],
          "type": "data"
         },
         "error_y": {
          "array": [
           -0.008622544834948842
          ],
          "type": "data"
         },
         "marker": {
          "color": "#DA16FF"
         },
         "mode": "markers",
         "name": "calibrated equal odds using fnr cost outcome",
         "showlegend": false,
         "type": "scatter",
         "x": [
          0.08550626235703675
         ],
         "xaxis": "x16",
         "y": [
          0.7675707258008468
         ],
         "yaxis": "y16"
        },
        {
         "error_x": {
          "array": [
           -0.018091225193089536
          ],
          "type": "data"
         },
         "error_y": {
          "array": [
           -0.007538124240132338
          ],
          "type": "data"
         },
         "marker": {
          "color": "#222A2A"
         },
         "mode": "markers",
         "name": "calibrated equal odds using weighted cost outcome",
         "showlegend": false,
         "type": "scatter",
         "x": [
          0.06829081163739964
         ],
         "xaxis": "x16",
         "y": [
          0.7651993671486659
         ],
         "yaxis": "y16"
        },
        {
         "error_x": {
          "array": [
           -0.017161535511095935
          ],
          "type": "data"
         },
         "error_y": {
          "array": [
           -0.008244625895690527
          ],
          "type": "data"
         },
         "marker": {
          "color": "#B68100"
         },
         "mode": "markers",
         "name": "equal odds outcome",
         "showlegend": false,
         "type": "scatter",
         "x": [
          0.06484613527683707
         ],
         "xaxis": "x16",
         "y": [
          0.7686107849840562
         ],
         "yaxis": "y16"
        },
        {
         "error_x": {
          "array": [
           -0.015400651985634853
          ],
          "type": "data"
         },
         "error_y": {
          "array": [
           -0.007599676253391308
          ],
          "type": "data"
         },
         "marker": {
          "color": "#750D86"
         },
         "mode": "markers",
         "name": "no debiasing1 outcome",
         "showlegend": false,
         "type": "scatter",
         "x": [
          0.08496780546821205
         ],
         "xaxis": "x16",
         "y": [
          0.7690321421639139
         ],
         "yaxis": "y16"
        },
        {
         "error_x": {
          "array": [
           -0.012954617921213399
          ],
          "type": "data"
         },
         "error_y": {
          "array": [
           -0.008790420679187672
          ],
          "type": "data"
         },
         "marker": {
          "color": "#EB663B"
         },
         "mode": "markers",
         "name": "reweighing1 outcome",
         "showlegend": false,
         "type": "scatter",
         "x": [
          0.08512966543149375
         ],
         "xaxis": "x16",
         "y": [
          0.7647693698927464
         ],
         "yaxis": "y16"
        },
        {
         "error_x": {
          "array": [
           -0.01673170986549556
          ],
          "type": "data"
         },
         "error_y": {
          "array": [
           -0.007303115672532612
          ],
          "type": "data"
         },
         "marker": {
          "color": "#511CFB"
         },
         "mode": "markers",
         "name": "calibrated equal odds using fpr cost1 outcome",
         "showlegend": false,
         "type": "scatter",
         "x": [
          0.06786599402009061
         ],
         "xaxis": "x16",
         "y": [
          0.764287578815799
         ],
         "yaxis": "y16"
        },
        {
         "error_x": {
          "array": [
           -0.01484884783771774
          ],
          "type": "data"
         },
         "error_y": {
          "array": [
           -0.008622544834948842
          ],
          "type": "data"
         },
         "marker": {
          "color": "#00A08B"
         },
         "mode": "markers",
         "name": "calibrated equal odds using fnr cost1 outcome",
         "showlegend": false,
         "type": "scatter",
         "x": [
          0.08550626235703675
         ],
         "xaxis": "x16",
         "y": [
          0.7675707258008468
         ],
         "yaxis": "y16"
        },
        {
         "error_x": {
          "array": [
           -0.018091225193089536
          ],
          "type": "data"
         },
         "error_y": {
          "array": [
           -0.007538124240132338
          ],
          "type": "data"
         },
         "marker": {
          "color": "#FB00D1"
         },
         "mode": "markers",
         "name": "calibrated equal odds using weighted cost1 outcome",
         "showlegend": false,
         "type": "scatter",
         "x": [
          0.06829081163739964
         ],
         "xaxis": "x16",
         "y": [
          0.7651993671486659
         ],
         "yaxis": "y16"
        },
        {
         "error_x": {
          "array": [
           -0.017161535511095935
          ],
          "type": "data"
         },
         "error_y": {
          "array": [
           -0.008244625895690527
          ],
          "type": "data"
         },
         "marker": {
          "color": "#FC0080"
         },
         "mode": "markers",
         "name": "equal odds1 outcome",
         "showlegend": false,
         "type": "scatter",
         "x": [
          0.06484613527683707
         ],
         "xaxis": "x16",
         "y": [
          0.7686107849840562
         ],
         "yaxis": "y16"
        },
        {
         "line": {
          "color": "#2E91E5"
         },
         "mode": "lines+markers+text",
         "name": "fairea baseline",
         "showlegend": false,
         "text": [
          "F_0",
          "F_10",
          "F_20",
          "F_30",
          "F_40",
          "F_50",
          "F_60",
          "F_70",
          "F_80",
          "F_90",
          "F_100"
         ],
         "textposition": "bottom right",
         "type": "scatter",
         "x": [
          0.08447361056413193,
          0.09287042020233229,
          0.10241481794777955,
          0.1114273380347503,
          0.12097984274861938,
          0.13016040704528734,
          0.1386660871150868,
          0.1470059289013044,
          0.15651007545989506,
          0.16525117799240463,
          0.17393512145889978
         ],
         "xaxis": "x16",
         "y": [
          0.7690590132652351,
          0.7424093686546014,
          0.7147784956030329,
          0.6883755422110732,
          0.6622507999475588,
          0.6343099650162122,
          0.6065133044405008,
          0.5799869129143935,
          0.5539472213387931,
          0.5268608414300384,
          0.5
         ],
         "yaxis": "y16"
        },
        {
         "line": {
          "color": "#E15F99"
         },
         "mode": "lines+markers+text",
         "name": "fairea baseline",
         "showlegend": false,
         "text": [
          "F_0",
          "F_10",
          "F_20",
          "F_30",
          "F_40",
          "F_50",
          "F_60",
          "F_70",
          "F_80",
          "F_90",
          "F_100"
         ],
         "textposition": "bottom right",
         "type": "scatter",
         "x": [
          0.08447361056413193,
          0.09287042020233229,
          0.10241481794777955,
          0.1114273380347503,
          0.12097984274861938,
          0.13016040704528734,
          0.1386660871150868,
          0.1470059289013044,
          0.15651007545989506,
          0.16525117799240463,
          0.17393512145889978
         ],
         "xaxis": "x16",
         "y": [
          0.7690590132652351,
          0.7424093686546014,
          0.7147784956030329,
          0.6883755422110732,
          0.6622507999475588,
          0.6343099650162122,
          0.6065133044405008,
          0.5799869129143935,
          0.5539472213387931,
          0.5268608414300384,
          0.5
         ],
         "yaxis": "y16"
        },
        {
         "error_x": {
          "array": [
           -0.014669125690659417
          ],
          "type": "data"
         },
         "error_y": {
          "array": [
           -0.017005555020220497
          ],
          "type": "data"
         },
         "marker": {
          "color": "#1CA71C"
         },
         "mode": "markers",
         "name": "reweighing outcome",
         "showlegend": false,
         "type": "scatter",
         "x": [
          0.12499537772027708
         ],
         "xaxis": "x17",
         "y": [
          0.7726170287604233
         ],
         "yaxis": "y17"
        },
        {
         "error_x": {
          "array": [
           -0.0058110928811675455
          ],
          "type": "data"
         },
         "error_y": {
          "array": [
           -0.013790345391033187
          ],
          "type": "data"
         },
         "marker": {
          "color": "#FB0D0D"
         },
         "mode": "markers",
         "name": "calibrated equal odds using fpr cost outcome",
         "showlegend": false,
         "type": "scatter",
         "x": [
          0.18629912946334568
         ],
         "xaxis": "x17",
         "y": [
          0.7840263804979353
         ],
         "yaxis": "y17"
        },
        {
         "error_x": {
          "array": [
           -0.015798763472345344
          ],
          "type": "data"
         },
         "error_y": {
          "array": [
           -0.013672003752571715
          ],
          "type": "data"
         },
         "marker": {
          "color": "#DA16FF"
         },
         "mode": "markers",
         "name": "calibrated equal odds using fnr cost outcome",
         "showlegend": false,
         "type": "scatter",
         "x": [
          0.1305233025677107
         ],
         "xaxis": "x17",
         "y": [
          0.7809947380851539
         ],
         "yaxis": "y17"
        },
        {
         "error_x": {
          "array": [
           -0.006067306794178967
          ],
          "type": "data"
         },
         "error_y": {
          "array": [
           -0.015623196547865259
          ],
          "type": "data"
         },
         "marker": {
          "color": "#222A2A"
         },
         "mode": "markers",
         "name": "calibrated equal odds using weighted cost outcome",
         "showlegend": false,
         "type": "scatter",
         "x": [
          0.18611984863480757
         ],
         "xaxis": "x17",
         "y": [
          0.7846802294378064
         ],
         "yaxis": "y17"
        },
        {
         "error_x": {
          "array": [
           -0.01593644325685055
          ],
          "type": "data"
         },
         "error_y": {
          "array": [
           -0.013400769964713732
          ],
          "type": "data"
         },
         "marker": {
          "color": "#B68100"
         },
         "mode": "markers",
         "name": "equal odds outcome",
         "showlegend": false,
         "type": "scatter",
         "x": [
          0.10850568277284957
         ],
         "xaxis": "x17",
         "y": [
          0.7750248808933482
         ],
         "yaxis": "y17"
        },
        {
         "error_x": {
          "array": [
           -0.01452861216709151
          ],
          "type": "data"
         },
         "error_y": {
          "array": [
           -0.014866077292916446
          ],
          "type": "data"
         },
         "marker": {
          "color": "#750D86"
         },
         "mode": "markers",
         "name": "no debiasing1 outcome",
         "showlegend": false,
         "type": "scatter",
         "x": [
          0.13198511125782697
         ],
         "xaxis": "x17",
         "y": [
          0.7815827442584669
         ],
         "yaxis": "y17"
        },
        {
         "error_x": {
          "array": [
           -0.014669125690659417
          ],
          "type": "data"
         },
         "error_y": {
          "array": [
           -0.017005555020220497
          ],
          "type": "data"
         },
         "marker": {
          "color": "#EB663B"
         },
         "mode": "markers",
         "name": "reweighing1 outcome",
         "showlegend": false,
         "type": "scatter",
         "x": [
          0.12499537772027708
         ],
         "xaxis": "x17",
         "y": [
          0.7726170287604233
         ],
         "yaxis": "y17"
        },
        {
         "error_x": {
          "array": [
           -0.0058110928811675455
          ],
          "type": "data"
         },
         "error_y": {
          "array": [
           -0.013790345391033187
          ],
          "type": "data"
         },
         "marker": {
          "color": "#511CFB"
         },
         "mode": "markers",
         "name": "calibrated equal odds using fpr cost1 outcome",
         "showlegend": false,
         "type": "scatter",
         "x": [
          0.18629912946334568
         ],
         "xaxis": "x17",
         "y": [
          0.7840263804979353
         ],
         "yaxis": "y17"
        },
        {
         "error_x": {
          "array": [
           -0.015798763472345344
          ],
          "type": "data"
         },
         "error_y": {
          "array": [
           -0.013672003752571715
          ],
          "type": "data"
         },
         "marker": {
          "color": "#00A08B"
         },
         "mode": "markers",
         "name": "calibrated equal odds using fnr cost1 outcome",
         "showlegend": false,
         "type": "scatter",
         "x": [
          0.1305233025677107
         ],
         "xaxis": "x17",
         "y": [
          0.7809947380851539
         ],
         "yaxis": "y17"
        },
        {
         "error_x": {
          "array": [
           -0.006067306794178967
          ],
          "type": "data"
         },
         "error_y": {
          "array": [
           -0.015623196547865259
          ],
          "type": "data"
         },
         "marker": {
          "color": "#FB00D1"
         },
         "mode": "markers",
         "name": "calibrated equal odds using weighted cost1 outcome",
         "showlegend": false,
         "type": "scatter",
         "x": [
          0.18611984863480757
         ],
         "xaxis": "x17",
         "y": [
          0.7846802294378064
         ],
         "yaxis": "y17"
        },
        {
         "error_x": {
          "array": [
           -0.01593644325685055
          ],
          "type": "data"
         },
         "error_y": {
          "array": [
           -0.013400769964713732
          ],
          "type": "data"
         },
         "marker": {
          "color": "#FC0080"
         },
         "mode": "markers",
         "name": "equal odds1 outcome",
         "showlegend": false,
         "type": "scatter",
         "x": [
          0.10850568277284957
         ],
         "xaxis": "x17",
         "y": [
          0.7750248808933482
         ],
         "yaxis": "y17"
        },
        {
         "line": {
          "color": "#2E91E5"
         },
         "mode": "lines+markers+text",
         "name": "fairea baseline",
         "showlegend": false,
         "text": [
          "F_0",
          "F_10",
          "F_20",
          "F_30",
          "F_40",
          "F_50",
          "F_60",
          "F_70",
          "F_80",
          "F_90",
          "F_100"
         ],
         "textposition": "bottom right",
         "type": "scatter",
         "x": [
          0.13153366316698556,
          0.11865561466447005,
          0.10478255925418929,
          0.09185034906058193,
          0.07936776663277154,
          0.06552709097609065,
          0.052922554518159644,
          0.04006550536855555,
          0.02595754795230033,
          0.013092827447697897,
          0
         ],
         "xaxis": "x17",
         "y": [
          0.7811099620820408,
          0.781074667943182,
          0.7809159724118144,
          0.781879792895792,
          0.7834081126541951,
          0.7781747263209123,
          0.778185896824194,
          0.7790975704203756,
          0.7804995143681144,
          0.7804087118662586,
          0
         ],
         "yaxis": "y17"
        },
        {
         "line": {
          "color": "#E15F99"
         },
         "mode": "lines+markers+text",
         "name": "fairea baseline",
         "showlegend": false,
         "text": [
          "F_0",
          "F_10",
          "F_20",
          "F_30",
          "F_40",
          "F_50",
          "F_60",
          "F_70",
          "F_80",
          "F_90",
          "F_100"
         ],
         "textposition": "bottom right",
         "type": "scatter",
         "x": [
          0.13153366316698556,
          0.11865561466447005,
          0.10478255925418929,
          0.09185034906058193,
          0.07936776663277154,
          0.06552709097609065,
          0.052922554518159644,
          0.04006550536855555,
          0.02595754795230033,
          0.013092827447697897,
          0
         ],
         "xaxis": "x17",
         "y": [
          0.7811099620820408,
          0.781074667943182,
          0.7809159724118144,
          0.781879792895792,
          0.7834081126541951,
          0.7781747263209123,
          0.778185896824194,
          0.7790975704203756,
          0.7804995143681144,
          0.7804087118662586,
          0
         ],
         "yaxis": "y17"
        },
        {
         "error_x": {
          "array": [
           -0.05119168246872774
          ],
          "type": "data"
         },
         "error_y": {
          "array": [
           -0.017005555020220497
          ],
          "type": "data"
         },
         "marker": {
          "color": "#1CA71C"
         },
         "mode": "markers",
         "name": "reweighing outcome",
         "showlegend": false,
         "type": "scatter",
         "x": [
          0.05342657562783528
         ],
         "xaxis": "x18",
         "y": [
          0.7726170287604233
         ],
         "yaxis": "y18"
        },
        {
         "error_x": {
          "array": [
           -0.007515199373606174
          ],
          "type": "data"
         },
         "error_y": {
          "array": [
           -0.013790345391033187
          ],
          "type": "data"
         },
         "marker": {
          "color": "#FB0D0D"
         },
         "mode": "markers",
         "name": "calibrated equal odds using fpr cost outcome",
         "showlegend": false,
         "type": "scatter",
         "x": [
          0.3215720657854554
         ],
         "xaxis": "x18",
         "y": [
          0.7840263804979353
         ],
         "yaxis": "y18"
        },
        {
         "error_x": {
          "array": [
           -0.05750649047104506
          ],
          "type": "data"
         },
         "error_y": {
          "array": [
           -0.013672003752571715
          ],
          "type": "data"
         },
         "marker": {
          "color": "#DA16FF"
         },
         "mode": "markers",
         "name": "calibrated equal odds using fnr cost outcome",
         "showlegend": false,
         "type": "scatter",
         "x": [
          0.06632829996391733
         ],
         "xaxis": "x18",
         "y": [
          0.7809947380851539
         ],
         "yaxis": "y18"
        },
        {
         "error_x": {
          "array": [
           -0.0081686742075181
          ],
          "type": "data"
         },
         "error_y": {
          "array": [
           -0.015623196547865259
          ],
          "type": "data"
         },
         "marker": {
          "color": "#222A2A"
         },
         "mode": "markers",
         "name": "calibrated equal odds using weighted cost outcome",
         "showlegend": false,
         "type": "scatter",
         "x": [
          0.32217538473254104
         ],
         "xaxis": "x18",
         "y": [
          0.7846802294378064
         ],
         "yaxis": "y18"
        },
        {
         "error_x": {
          "array": [
           -0.05116030035124883
          ],
          "type": "data"
         },
         "error_y": {
          "array": [
           -0.013400769964713732
          ],
          "type": "data"
         },
         "marker": {
          "color": "#B68100"
         },
         "mode": "markers",
         "name": "equal odds outcome",
         "showlegend": false,
         "type": "scatter",
         "x": [
          0.04713176194826316
         ],
         "xaxis": "x18",
         "y": [
          0.7750248808933482
         ],
         "yaxis": "y18"
        },
        {
         "error_x": {
          "array": [
           -0.054902255237186975
          ],
          "type": "data"
         },
         "error_y": {
          "array": [
           -0.014866077292916446
          ],
          "type": "data"
         },
         "marker": {
          "color": "#750D86"
         },
         "mode": "markers",
         "name": "no debiasing1 outcome",
         "showlegend": false,
         "type": "scatter",
         "x": [
          0.06987733249735525
         ],
         "xaxis": "x18",
         "y": [
          0.7815827442584669
         ],
         "yaxis": "y18"
        },
        {
         "error_x": {
          "array": [
           -0.05119168246872774
          ],
          "type": "data"
         },
         "error_y": {
          "array": [
           -0.017005555020220497
          ],
          "type": "data"
         },
         "marker": {
          "color": "#EB663B"
         },
         "mode": "markers",
         "name": "reweighing1 outcome",
         "showlegend": false,
         "type": "scatter",
         "x": [
          0.05342657562783528
         ],
         "xaxis": "x18",
         "y": [
          0.7726170287604233
         ],
         "yaxis": "y18"
        },
        {
         "error_x": {
          "array": [
           -0.007515199373606174
          ],
          "type": "data"
         },
         "error_y": {
          "array": [
           -0.013790345391033187
          ],
          "type": "data"
         },
         "marker": {
          "color": "#511CFB"
         },
         "mode": "markers",
         "name": "calibrated equal odds using fpr cost1 outcome",
         "showlegend": false,
         "type": "scatter",
         "x": [
          0.3215720657854554
         ],
         "xaxis": "x18",
         "y": [
          0.7840263804979353
         ],
         "yaxis": "y18"
        },
        {
         "error_x": {
          "array": [
           -0.05750649047104506
          ],
          "type": "data"
         },
         "error_y": {
          "array": [
           -0.013672003752571715
          ],
          "type": "data"
         },
         "marker": {
          "color": "#00A08B"
         },
         "mode": "markers",
         "name": "calibrated equal odds using fnr cost1 outcome",
         "showlegend": false,
         "type": "scatter",
         "x": [
          0.06632829996391733
         ],
         "xaxis": "x18",
         "y": [
          0.7809947380851539
         ],
         "yaxis": "y18"
        },
        {
         "error_x": {
          "array": [
           -0.0081686742075181
          ],
          "type": "data"
         },
         "error_y": {
          "array": [
           -0.015623196547865259
          ],
          "type": "data"
         },
         "marker": {
          "color": "#FB00D1"
         },
         "mode": "markers",
         "name": "calibrated equal odds using weighted cost1 outcome",
         "showlegend": false,
         "type": "scatter",
         "x": [
          0.32217538473254104
         ],
         "xaxis": "x18",
         "y": [
          0.7846802294378064
         ],
         "yaxis": "y18"
        },
        {
         "error_x": {
          "array": [
           -0.05116030035124883
          ],
          "type": "data"
         },
         "error_y": {
          "array": [
           -0.013400769964713732
          ],
          "type": "data"
         },
         "marker": {
          "color": "#FC0080"
         },
         "mode": "markers",
         "name": "equal odds1 outcome",
         "showlegend": false,
         "type": "scatter",
         "x": [
          0.04713176194826316
         ],
         "xaxis": "x18",
         "y": [
          0.7750248808933482
         ],
         "yaxis": "y18"
        },
        {
         "line": {
          "color": "#2E91E5"
         },
         "mode": "lines+markers+text",
         "name": "fairea baseline",
         "showlegend": false,
         "text": [
          "F_0",
          "F_10",
          "F_20",
          "F_30",
          "F_40",
          "F_50",
          "F_60",
          "F_70",
          "F_80",
          "F_90",
          "F_100"
         ],
         "textposition": "bottom right",
         "type": "scatter",
         "x": [
          0.0685830084977357,
          0.06369214478216093,
          0.05425564155486756,
          0.047239814974495246,
          0.039782283016360095,
          0.0326926823253849,
          0.03263965157390147,
          0.026984230604227673,
          0.019297769082038327,
          0.011059326583565933,
          0
         ],
         "xaxis": "x18",
         "y": [
          0.7811099620820408,
          0.781074667943182,
          0.7809159724118144,
          0.781879792895792,
          0.7834081126541951,
          0.7781747263209123,
          0.778185896824194,
          0.7790975704203756,
          0.7804995143681144,
          0.7804087118662586,
          0
         ],
         "yaxis": "y18"
        },
        {
         "line": {
          "color": "#E15F99"
         },
         "mode": "lines+markers+text",
         "name": "fairea baseline",
         "showlegend": false,
         "text": [
          "F_0",
          "F_10",
          "F_20",
          "F_30",
          "F_40",
          "F_50",
          "F_60",
          "F_70",
          "F_80",
          "F_90",
          "F_100"
         ],
         "textposition": "bottom right",
         "type": "scatter",
         "x": [
          0.0685830084977357,
          0.06369214478216093,
          0.05425564155486756,
          0.047239814974495246,
          0.039782283016360095,
          0.0326926823253849,
          0.03263965157390147,
          0.026984230604227673,
          0.019297769082038327,
          0.011059326583565933,
          0
         ],
         "xaxis": "x18",
         "y": [
          0.7811099620820408,
          0.781074667943182,
          0.7809159724118144,
          0.781879792895792,
          0.7834081126541951,
          0.7781747263209123,
          0.778185896824194,
          0.7790975704203756,
          0.7804995143681144,
          0.7804087118662586,
          0
         ],
         "yaxis": "y18"
        },
        {
         "error_x": {
          "array": [
           -0.1014136852908333
          ],
          "type": "data"
         },
         "error_y": {
          "array": [
           -0.017005555020220497
          ],
          "type": "data"
         },
         "marker": {
          "color": "#1CA71C"
         },
         "mode": "markers",
         "name": "reweighing outcome",
         "showlegend": false,
         "type": "scatter",
         "x": [
          0.07628445237040411
         ],
         "xaxis": "x19",
         "y": [
          0.7726170287604233
         ],
         "yaxis": "y19"
        },
        {
         "error_x": {
          "array": [
           -0.014474828632257575
          ],
          "type": "data"
         },
         "error_y": {
          "array": [
           -0.013790345391033187
          ],
          "type": "data"
         },
         "marker": {
          "color": "#FB0D0D"
         },
         "mode": "markers",
         "name": "calibrated equal odds using fpr cost outcome",
         "showlegend": false,
         "type": "scatter",
         "x": [
          0.5896589324327605
         ],
         "xaxis": "x19",
         "y": [
          0.7840263804979353
         ],
         "yaxis": "y19"
        },
        {
         "error_x": {
          "array": [
           -0.11537876468176798
          ],
          "type": "data"
         },
         "error_y": {
          "array": [
           -0.013672003752571715
          ],
          "type": "data"
         },
         "marker": {
          "color": "#DA16FF"
         },
         "mode": "markers",
         "name": "calibrated equal odds using fnr cost outcome",
         "showlegend": false,
         "type": "scatter",
         "x": [
          0.1001192439079641
         ],
         "xaxis": "x19",
         "y": [
          0.7809947380851539
         ],
         "yaxis": "y19"
        },
        {
         "error_x": {
          "array": [
           -0.015375522322629398
          ],
          "type": "data"
         },
         "error_y": {
          "array": [
           -0.015623196547865259
          ],
          "type": "data"
         },
         "marker": {
          "color": "#222A2A"
         },
         "mode": "markers",
         "name": "calibrated equal odds using weighted cost outcome",
         "showlegend": false,
         "type": "scatter",
         "x": [
          0.5911256890019798
         ],
         "xaxis": "x19",
         "y": [
          0.7846802294378064
         ],
         "yaxis": "y19"
        },
        {
         "error_x": {
          "array": [
           -0.10168023853468197
          ],
          "type": "data"
         },
         "error_y": {
          "array": [
           -0.013400769964713732
          ],
          "type": "data"
         },
         "marker": {
          "color": "#B68100"
         },
         "mode": "markers",
         "name": "equal odds outcome",
         "showlegend": false,
         "type": "scatter",
         "x": [
          0.08342364473014083
         ],
         "xaxis": "x19",
         "y": [
          0.7750248808933482
         ],
         "yaxis": "y19"
        },
        {
         "error_x": {
          "array": [
           -0.10947160334109615
          ],
          "type": "data"
         },
         "error_y": {
          "array": [
           -0.014866077292916446
          ],
          "type": "data"
         },
         "marker": {
          "color": "#750D86"
         },
         "mode": "markers",
         "name": "no debiasing1 outcome",
         "showlegend": false,
         "type": "scatter",
         "x": [
          0.10654127028663493
         ],
         "xaxis": "x19",
         "y": [
          0.7815827442584669
         ],
         "yaxis": "y19"
        },
        {
         "error_x": {
          "array": [
           -0.1014136852908333
          ],
          "type": "data"
         },
         "error_y": {
          "array": [
           -0.017005555020220497
          ],
          "type": "data"
         },
         "marker": {
          "color": "#EB663B"
         },
         "mode": "markers",
         "name": "reweighing1 outcome",
         "showlegend": false,
         "type": "scatter",
         "x": [
          0.07628445237040411
         ],
         "xaxis": "x19",
         "y": [
          0.7726170287604233
         ],
         "yaxis": "y19"
        },
        {
         "error_x": {
          "array": [
           -0.014474828632257575
          ],
          "type": "data"
         },
         "error_y": {
          "array": [
           -0.013790345391033187
          ],
          "type": "data"
         },
         "marker": {
          "color": "#511CFB"
         },
         "mode": "markers",
         "name": "calibrated equal odds using fpr cost1 outcome",
         "showlegend": false,
         "type": "scatter",
         "x": [
          0.5896589324327605
         ],
         "xaxis": "x19",
         "y": [
          0.7840263804979353
         ],
         "yaxis": "y19"
        },
        {
         "error_x": {
          "array": [
           -0.11537876468176798
          ],
          "type": "data"
         },
         "error_y": {
          "array": [
           -0.013672003752571715
          ],
          "type": "data"
         },
         "marker": {
          "color": "#00A08B"
         },
         "mode": "markers",
         "name": "calibrated equal odds using fnr cost1 outcome",
         "showlegend": false,
         "type": "scatter",
         "x": [
          0.1001192439079641
         ],
         "xaxis": "x19",
         "y": [
          0.7809947380851539
         ],
         "yaxis": "y19"
        },
        {
         "error_x": {
          "array": [
           -0.015375522322629398
          ],
          "type": "data"
         },
         "error_y": {
          "array": [
           -0.015623196547865259
          ],
          "type": "data"
         },
         "marker": {
          "color": "#FB00D1"
         },
         "mode": "markers",
         "name": "calibrated equal odds using weighted cost1 outcome",
         "showlegend": false,
         "type": "scatter",
         "x": [
          0.5911256890019798
         ],
         "xaxis": "x19",
         "y": [
          0.7846802294378064
         ],
         "yaxis": "y19"
        },
        {
         "error_x": {
          "array": [
           -0.10168023853468197
          ],
          "type": "data"
         },
         "error_y": {
          "array": [
           -0.013400769964713732
          ],
          "type": "data"
         },
         "marker": {
          "color": "#FC0080"
         },
         "mode": "markers",
         "name": "equal odds1 outcome",
         "showlegend": false,
         "type": "scatter",
         "x": [
          0.08342364473014083
         ],
         "xaxis": "x19",
         "y": [
          0.7750248808933482
         ],
         "yaxis": "y19"
        },
        {
         "line": {
          "color": "#2E91E5"
         },
         "mode": "lines+markers+text",
         "name": "fairea baseline",
         "showlegend": false,
         "text": [
          "F_0",
          "F_10",
          "F_20",
          "F_30",
          "F_40",
          "F_50",
          "F_60",
          "F_70",
          "F_80",
          "F_90",
          "F_100"
         ],
         "textposition": "bottom right",
         "type": "scatter",
         "x": [
          0.10440457908697472,
          0.09803769370375542,
          0.08252631578947367,
          0.07163758201870724,
          0.05932360742705571,
          0.04852882870305738,
          0.051689515566103586,
          0.04384629345246404,
          0.03196481920982829,
          0.018721485411140586,
          0
         ],
         "xaxis": "x19",
         "y": [
          0.7811099620820408,
          0.781074667943182,
          0.7809159724118144,
          0.781879792895792,
          0.7834081126541951,
          0.7781747263209123,
          0.778185896824194,
          0.7790975704203756,
          0.7804995143681144,
          0.7804087118662586,
          0
         ],
         "yaxis": "y19"
        },
        {
         "line": {
          "color": "#E15F99"
         },
         "mode": "lines+markers+text",
         "name": "fairea baseline",
         "showlegend": false,
         "text": [
          "F_0",
          "F_10",
          "F_20",
          "F_30",
          "F_40",
          "F_50",
          "F_60",
          "F_70",
          "F_80",
          "F_90",
          "F_100"
         ],
         "textposition": "bottom right",
         "type": "scatter",
         "x": [
          0.10440457908697472,
          0.09803769370375542,
          0.08252631578947367,
          0.07163758201870724,
          0.05932360742705571,
          0.04852882870305738,
          0.051689515566103586,
          0.04384629345246404,
          0.03196481920982829,
          0.018721485411140586,
          0
         ],
         "xaxis": "x19",
         "y": [
          0.7811099620820408,
          0.781074667943182,
          0.7809159724118144,
          0.781879792895792,
          0.7834081126541951,
          0.7781747263209123,
          0.778185896824194,
          0.7790975704203756,
          0.7804995143681144,
          0.7804087118662586,
          0
         ],
         "yaxis": "y19"
        },
        {
         "error_x": {
          "array": [
           -0.012954617921213399
          ],
          "type": "data"
         },
         "error_y": {
          "array": [
           -0.017005555020220497
          ],
          "type": "data"
         },
         "marker": {
          "color": "#1CA71C"
         },
         "mode": "markers",
         "name": "reweighing outcome",
         "showlegend": false,
         "type": "scatter",
         "x": [
          0.08512966543149375
         ],
         "xaxis": "x20",
         "y": [
          0.7726170287604233
         ],
         "yaxis": "y20"
        },
        {
         "error_x": {
          "array": [
           -0.01673170986549556
          ],
          "type": "data"
         },
         "error_y": {
          "array": [
           -0.013790345391033187
          ],
          "type": "data"
         },
         "marker": {
          "color": "#FB0D0D"
         },
         "mode": "markers",
         "name": "calibrated equal odds using fpr cost outcome",
         "showlegend": false,
         "type": "scatter",
         "x": [
          0.06786599402009061
         ],
         "xaxis": "x20",
         "y": [
          0.7840263804979353
         ],
         "yaxis": "y20"
        },
        {
         "error_x": {
          "array": [
           -0.01484884783771774
          ],
          "type": "data"
         },
         "error_y": {
          "array": [
           -0.013672003752571715
          ],
          "type": "data"
         },
         "marker": {
          "color": "#DA16FF"
         },
         "mode": "markers",
         "name": "calibrated equal odds using fnr cost outcome",
         "showlegend": false,
         "type": "scatter",
         "x": [
          0.08550626235703675
         ],
         "xaxis": "x20",
         "y": [
          0.7809947380851539
         ],
         "yaxis": "y20"
        },
        {
         "error_x": {
          "array": [
           -0.018091225193089536
          ],
          "type": "data"
         },
         "error_y": {
          "array": [
           -0.015623196547865259
          ],
          "type": "data"
         },
         "marker": {
          "color": "#222A2A"
         },
         "mode": "markers",
         "name": "calibrated equal odds using weighted cost outcome",
         "showlegend": false,
         "type": "scatter",
         "x": [
          0.06829081163739964
         ],
         "xaxis": "x20",
         "y": [
          0.7846802294378064
         ],
         "yaxis": "y20"
        },
        {
         "error_x": {
          "array": [
           -0.017161535511095935
          ],
          "type": "data"
         },
         "error_y": {
          "array": [
           -0.013400769964713732
          ],
          "type": "data"
         },
         "marker": {
          "color": "#B68100"
         },
         "mode": "markers",
         "name": "equal odds outcome",
         "showlegend": false,
         "type": "scatter",
         "x": [
          0.06484613527683707
         ],
         "xaxis": "x20",
         "y": [
          0.7750248808933482
         ],
         "yaxis": "y20"
        },
        {
         "error_x": {
          "array": [
           -0.015400651985634853
          ],
          "type": "data"
         },
         "error_y": {
          "array": [
           -0.014866077292916446
          ],
          "type": "data"
         },
         "marker": {
          "color": "#750D86"
         },
         "mode": "markers",
         "name": "no debiasing1 outcome",
         "showlegend": false,
         "type": "scatter",
         "x": [
          0.08496780546821205
         ],
         "xaxis": "x20",
         "y": [
          0.7815827442584669
         ],
         "yaxis": "y20"
        },
        {
         "error_x": {
          "array": [
           -0.012954617921213399
          ],
          "type": "data"
         },
         "error_y": {
          "array": [
           -0.017005555020220497
          ],
          "type": "data"
         },
         "marker": {
          "color": "#EB663B"
         },
         "mode": "markers",
         "name": "reweighing1 outcome",
         "showlegend": false,
         "type": "scatter",
         "x": [
          0.08512966543149375
         ],
         "xaxis": "x20",
         "y": [
          0.7726170287604233
         ],
         "yaxis": "y20"
        },
        {
         "error_x": {
          "array": [
           -0.01673170986549556
          ],
          "type": "data"
         },
         "error_y": {
          "array": [
           -0.013790345391033187
          ],
          "type": "data"
         },
         "marker": {
          "color": "#511CFB"
         },
         "mode": "markers",
         "name": "calibrated equal odds using fpr cost1 outcome",
         "showlegend": false,
         "type": "scatter",
         "x": [
          0.06786599402009061
         ],
         "xaxis": "x20",
         "y": [
          0.7840263804979353
         ],
         "yaxis": "y20"
        },
        {
         "error_x": {
          "array": [
           -0.01484884783771774
          ],
          "type": "data"
         },
         "error_y": {
          "array": [
           -0.013672003752571715
          ],
          "type": "data"
         },
         "marker": {
          "color": "#00A08B"
         },
         "mode": "markers",
         "name": "calibrated equal odds using fnr cost1 outcome",
         "showlegend": false,
         "type": "scatter",
         "x": [
          0.08550626235703675
         ],
         "xaxis": "x20",
         "y": [
          0.7809947380851539
         ],
         "yaxis": "y20"
        },
        {
         "error_x": {
          "array": [
           -0.018091225193089536
          ],
          "type": "data"
         },
         "error_y": {
          "array": [
           -0.015623196547865259
          ],
          "type": "data"
         },
         "marker": {
          "color": "#FB00D1"
         },
         "mode": "markers",
         "name": "calibrated equal odds using weighted cost1 outcome",
         "showlegend": false,
         "type": "scatter",
         "x": [
          0.06829081163739964
         ],
         "xaxis": "x20",
         "y": [
          0.7846802294378064
         ],
         "yaxis": "y20"
        },
        {
         "error_x": {
          "array": [
           -0.017161535511095935
          ],
          "type": "data"
         },
         "error_y": {
          "array": [
           -0.013400769964713732
          ],
          "type": "data"
         },
         "marker": {
          "color": "#FC0080"
         },
         "mode": "markers",
         "name": "equal odds1 outcome",
         "showlegend": false,
         "type": "scatter",
         "x": [
          0.06484613527683707
         ],
         "xaxis": "x20",
         "y": [
          0.7750248808933482
         ],
         "yaxis": "y20"
        },
        {
         "line": {
          "color": "#2E91E5"
         },
         "mode": "lines+markers+text",
         "name": "fairea baseline",
         "showlegend": false,
         "text": [
          "F_0",
          "F_10",
          "F_20",
          "F_30",
          "F_40",
          "F_50",
          "F_60",
          "F_70",
          "F_80",
          "F_90",
          "F_100"
         ],
         "textposition": "bottom right",
         "type": "scatter",
         "x": [
          0.08447361056413193,
          0.09287042020233229,
          0.10241481794777955,
          0.1114273380347503,
          0.12097984274861938,
          0.13016040704528734,
          0.1386660871150868,
          0.1470059289013044,
          0.15651007545989506,
          0.16525117799240463,
          0.17393512145889978
         ],
         "xaxis": "x20",
         "y": [
          0.7811099620820408,
          0.781074667943182,
          0.7809159724118144,
          0.781879792895792,
          0.7834081126541951,
          0.7781747263209123,
          0.778185896824194,
          0.7790975704203756,
          0.7804995143681144,
          0.7804087118662586,
          0
         ],
         "yaxis": "y20"
        },
        {
         "line": {
          "color": "#E15F99"
         },
         "mode": "lines+markers+text",
         "name": "fairea baseline",
         "showlegend": false,
         "text": [
          "F_0",
          "F_10",
          "F_20",
          "F_30",
          "F_40",
          "F_50",
          "F_60",
          "F_70",
          "F_80",
          "F_90",
          "F_100"
         ],
         "textposition": "bottom right",
         "type": "scatter",
         "x": [
          0.08447361056413193,
          0.09287042020233229,
          0.10241481794777955,
          0.1114273380347503,
          0.12097984274861938,
          0.13016040704528734,
          0.1386660871150868,
          0.1470059289013044,
          0.15651007545989506,
          0.16525117799240463,
          0.17393512145889978
         ],
         "xaxis": "x20",
         "y": [
          0.7811099620820408,
          0.781074667943182,
          0.7809159724118144,
          0.781879792895792,
          0.7834081126541951,
          0.7781747263209123,
          0.778185896824194,
          0.7790975704203756,
          0.7804995143681144,
          0.7804087118662586,
          0
         ],
         "yaxis": "y20"
        },
        {
         "error_x": {
          "array": [
           -0.014669125690659417
          ],
          "type": "data"
         },
         "error_y": {
          "array": [
           -0.005230024934693045
          ],
          "type": "data"
         },
         "marker": {
          "color": "#1CA71C"
         },
         "mode": "markers",
         "name": "reweighing outcome",
         "showlegend": false,
         "type": "scatter",
         "x": [
          0.12499537772027708
         ],
         "xaxis": "x21",
         "y": [
          0.8798650442084799
         ],
         "yaxis": "y21"
        },
        {
         "error_x": {
          "array": [
           -0.0058110928811675455
          ],
          "type": "data"
         },
         "error_y": {
          "array": [
           -0.005284167359875802
          ],
          "type": "data"
         },
         "marker": {
          "color": "#FB0D0D"
         },
         "mode": "markers",
         "name": "calibrated equal odds using fpr cost outcome",
         "showlegend": false,
         "type": "scatter",
         "x": [
          0.18629912946334568
         ],
         "xaxis": "x21",
         "y": [
          0.8789945067006486
         ],
         "yaxis": "y21"
        },
        {
         "error_x": {
          "array": [
           -0.015798763472345344
          ],
          "type": "data"
         },
         "error_y": {
          "array": [
           -0.006011651430477993
          ],
          "type": "data"
         },
         "marker": {
          "color": "#DA16FF"
         },
         "mode": "markers",
         "name": "calibrated equal odds using fnr cost outcome",
         "showlegend": false,
         "type": "scatter",
         "x": [
          0.1305233025677107
         ],
         "xaxis": "x21",
         "y": [
          0.8811706968215224
         ],
         "yaxis": "y21"
        },
        {
         "error_x": {
          "array": [
           -0.006067306794178967
          ],
          "type": "data"
         },
         "error_y": {
          "array": [
           -0.005294777312494503
          ],
          "type": "data"
         },
         "marker": {
          "color": "#222A2A"
         },
         "mode": "markers",
         "name": "calibrated equal odds using weighted cost outcome",
         "showlegend": false,
         "type": "scatter",
         "x": [
          0.18611984863480757
         ],
         "xaxis": "x21",
         "y": [
          0.8798399322761109
         ],
         "yaxis": "y21"
        },
        {
         "error_x": {
          "array": [
           -0.01593644325685055
          ],
          "type": "data"
         },
         "error_y": {
          "array": [
           -0.006245041402902385
          ],
          "type": "data"
         },
         "marker": {
          "color": "#B68100"
         },
         "mode": "markers",
         "name": "equal odds outcome",
         "showlegend": false,
         "type": "scatter",
         "x": [
          0.10850568277284957
         ],
         "xaxis": "x21",
         "y": [
          0.8820267424817818
         ],
         "yaxis": "y21"
        },
        {
         "error_x": {
          "array": [
           -0.01452861216709151
          ],
          "type": "data"
         },
         "error_y": {
          "array": [
           -0.005876107127872121
          ],
          "type": "data"
         },
         "marker": {
          "color": "#750D86"
         },
         "mode": "markers",
         "name": "no debiasing1 outcome",
         "showlegend": false,
         "type": "scatter",
         "x": [
          0.13198511125782697
         ],
         "xaxis": "x21",
         "y": [
          0.88195358822673
         ],
         "yaxis": "y21"
        },
        {
         "error_x": {
          "array": [
           -0.014669125690659417
          ],
          "type": "data"
         },
         "error_y": {
          "array": [
           -0.005230024934693045
          ],
          "type": "data"
         },
         "marker": {
          "color": "#EB663B"
         },
         "mode": "markers",
         "name": "reweighing1 outcome",
         "showlegend": false,
         "type": "scatter",
         "x": [
          0.12499537772027708
         ],
         "xaxis": "x21",
         "y": [
          0.8798650442084799
         ],
         "yaxis": "y21"
        },
        {
         "error_x": {
          "array": [
           -0.0058110928811675455
          ],
          "type": "data"
         },
         "error_y": {
          "array": [
           -0.005284167359875802
          ],
          "type": "data"
         },
         "marker": {
          "color": "#511CFB"
         },
         "mode": "markers",
         "name": "calibrated equal odds using fpr cost1 outcome",
         "showlegend": false,
         "type": "scatter",
         "x": [
          0.18629912946334568
         ],
         "xaxis": "x21",
         "y": [
          0.8789945067006486
         ],
         "yaxis": "y21"
        },
        {
         "error_x": {
          "array": [
           -0.015798763472345344
          ],
          "type": "data"
         },
         "error_y": {
          "array": [
           -0.006011651430477993
          ],
          "type": "data"
         },
         "marker": {
          "color": "#00A08B"
         },
         "mode": "markers",
         "name": "calibrated equal odds using fnr cost1 outcome",
         "showlegend": false,
         "type": "scatter",
         "x": [
          0.1305233025677107
         ],
         "xaxis": "x21",
         "y": [
          0.8811706968215224
         ],
         "yaxis": "y21"
        },
        {
         "error_x": {
          "array": [
           -0.006067306794178967
          ],
          "type": "data"
         },
         "error_y": {
          "array": [
           -0.005294777312494503
          ],
          "type": "data"
         },
         "marker": {
          "color": "#FB00D1"
         },
         "mode": "markers",
         "name": "calibrated equal odds using weighted cost1 outcome",
         "showlegend": false,
         "type": "scatter",
         "x": [
          0.18611984863480757
         ],
         "xaxis": "x21",
         "y": [
          0.8798399322761109
         ],
         "yaxis": "y21"
        },
        {
         "error_x": {
          "array": [
           -0.01593644325685055
          ],
          "type": "data"
         },
         "error_y": {
          "array": [
           -0.006245041402902385
          ],
          "type": "data"
         },
         "marker": {
          "color": "#FC0080"
         },
         "mode": "markers",
         "name": "equal odds1 outcome",
         "showlegend": false,
         "type": "scatter",
         "x": [
          0.10850568277284957
         ],
         "xaxis": "x21",
         "y": [
          0.8820267424817818
         ],
         "yaxis": "y21"
        },
        {
         "line": {
          "color": "#2E91E5"
         },
         "mode": "lines+markers+text",
         "name": "fairea baseline",
         "showlegend": false,
         "text": [
          "F_0",
          "F_10",
          "F_20",
          "F_30",
          "F_40",
          "F_50",
          "F_60",
          "F_70",
          "F_80",
          "F_90",
          "F_100"
         ],
         "textposition": "bottom right",
         "type": "scatter",
         "x": [
          0.13153366316698556,
          0.11865561466447005,
          0.10478255925418929,
          0.09185034906058193,
          0.07936776663277154,
          0.06552709097609065,
          0.052922554518159644,
          0.04006550536855555,
          0.02595754795230033,
          0.013092827447697897,
          0
         ],
         "xaxis": "x21",
         "y": [
          0.8819133034379673,
          0.8679760750570739,
          0.8541341890692842,
          0.8414224436628674,
          0.8293384797851661,
          0.8170007806038805,
          0.8051436165412952,
          0.7942590597120405,
          0.7839634872444948,
          0.773642646749517,
          0.7637737239727288
         ],
         "yaxis": "y21"
        },
        {
         "line": {
          "color": "#E15F99"
         },
         "mode": "lines+markers+text",
         "name": "fairea baseline",
         "showlegend": false,
         "text": [
          "F_0",
          "F_10",
          "F_20",
          "F_30",
          "F_40",
          "F_50",
          "F_60",
          "F_70",
          "F_80",
          "F_90",
          "F_100"
         ],
         "textposition": "bottom right",
         "type": "scatter",
         "x": [
          0.13153366316698556,
          0.11865561466447005,
          0.10478255925418929,
          0.09185034906058193,
          0.07936776663277154,
          0.06552709097609065,
          0.052922554518159644,
          0.04006550536855555,
          0.02595754795230033,
          0.013092827447697897,
          0
         ],
         "xaxis": "x21",
         "y": [
          0.8819133034379673,
          0.8679760750570739,
          0.8541341890692842,
          0.8414224436628674,
          0.8293384797851661,
          0.8170007806038805,
          0.8051436165412952,
          0.7942590597120405,
          0.7839634872444948,
          0.773642646749517,
          0.7637737239727288
         ],
         "yaxis": "y21"
        },
        {
         "error_x": {
          "array": [
           -0.05119168246872774
          ],
          "type": "data"
         },
         "error_y": {
          "array": [
           -0.005230024934693045
          ],
          "type": "data"
         },
         "marker": {
          "color": "#1CA71C"
         },
         "mode": "markers",
         "name": "reweighing outcome",
         "showlegend": false,
         "type": "scatter",
         "x": [
          0.05342657562783528
         ],
         "xaxis": "x22",
         "y": [
          0.8798650442084799
         ],
         "yaxis": "y22"
        },
        {
         "error_x": {
          "array": [
           -0.007515199373606174
          ],
          "type": "data"
         },
         "error_y": {
          "array": [
           -0.005284167359875802
          ],
          "type": "data"
         },
         "marker": {
          "color": "#FB0D0D"
         },
         "mode": "markers",
         "name": "calibrated equal odds using fpr cost outcome",
         "showlegend": false,
         "type": "scatter",
         "x": [
          0.3215720657854554
         ],
         "xaxis": "x22",
         "y": [
          0.8789945067006486
         ],
         "yaxis": "y22"
        },
        {
         "error_x": {
          "array": [
           -0.05750649047104506
          ],
          "type": "data"
         },
         "error_y": {
          "array": [
           -0.006011651430477993
          ],
          "type": "data"
         },
         "marker": {
          "color": "#DA16FF"
         },
         "mode": "markers",
         "name": "calibrated equal odds using fnr cost outcome",
         "showlegend": false,
         "type": "scatter",
         "x": [
          0.06632829996391733
         ],
         "xaxis": "x22",
         "y": [
          0.8811706968215224
         ],
         "yaxis": "y22"
        },
        {
         "error_x": {
          "array": [
           -0.0081686742075181
          ],
          "type": "data"
         },
         "error_y": {
          "array": [
           -0.005294777312494503
          ],
          "type": "data"
         },
         "marker": {
          "color": "#222A2A"
         },
         "mode": "markers",
         "name": "calibrated equal odds using weighted cost outcome",
         "showlegend": false,
         "type": "scatter",
         "x": [
          0.32217538473254104
         ],
         "xaxis": "x22",
         "y": [
          0.8798399322761109
         ],
         "yaxis": "y22"
        },
        {
         "error_x": {
          "array": [
           -0.05116030035124883
          ],
          "type": "data"
         },
         "error_y": {
          "array": [
           -0.006245041402902385
          ],
          "type": "data"
         },
         "marker": {
          "color": "#B68100"
         },
         "mode": "markers",
         "name": "equal odds outcome",
         "showlegend": false,
         "type": "scatter",
         "x": [
          0.04713176194826316
         ],
         "xaxis": "x22",
         "y": [
          0.8820267424817818
         ],
         "yaxis": "y22"
        },
        {
         "error_x": {
          "array": [
           -0.054902255237186975
          ],
          "type": "data"
         },
         "error_y": {
          "array": [
           -0.005876107127872121
          ],
          "type": "data"
         },
         "marker": {
          "color": "#750D86"
         },
         "mode": "markers",
         "name": "no debiasing1 outcome",
         "showlegend": false,
         "type": "scatter",
         "x": [
          0.06987733249735525
         ],
         "xaxis": "x22",
         "y": [
          0.88195358822673
         ],
         "yaxis": "y22"
        },
        {
         "error_x": {
          "array": [
           -0.05119168246872774
          ],
          "type": "data"
         },
         "error_y": {
          "array": [
           -0.005230024934693045
          ],
          "type": "data"
         },
         "marker": {
          "color": "#EB663B"
         },
         "mode": "markers",
         "name": "reweighing1 outcome",
         "showlegend": false,
         "type": "scatter",
         "x": [
          0.05342657562783528
         ],
         "xaxis": "x22",
         "y": [
          0.8798650442084799
         ],
         "yaxis": "y22"
        },
        {
         "error_x": {
          "array": [
           -0.007515199373606174
          ],
          "type": "data"
         },
         "error_y": {
          "array": [
           -0.005284167359875802
          ],
          "type": "data"
         },
         "marker": {
          "color": "#511CFB"
         },
         "mode": "markers",
         "name": "calibrated equal odds using fpr cost1 outcome",
         "showlegend": false,
         "type": "scatter",
         "x": [
          0.3215720657854554
         ],
         "xaxis": "x22",
         "y": [
          0.8789945067006486
         ],
         "yaxis": "y22"
        },
        {
         "error_x": {
          "array": [
           -0.05750649047104506
          ],
          "type": "data"
         },
         "error_y": {
          "array": [
           -0.006011651430477993
          ],
          "type": "data"
         },
         "marker": {
          "color": "#00A08B"
         },
         "mode": "markers",
         "name": "calibrated equal odds using fnr cost1 outcome",
         "showlegend": false,
         "type": "scatter",
         "x": [
          0.06632829996391733
         ],
         "xaxis": "x22",
         "y": [
          0.8811706968215224
         ],
         "yaxis": "y22"
        },
        {
         "error_x": {
          "array": [
           -0.0081686742075181
          ],
          "type": "data"
         },
         "error_y": {
          "array": [
           -0.005294777312494503
          ],
          "type": "data"
         },
         "marker": {
          "color": "#FB00D1"
         },
         "mode": "markers",
         "name": "calibrated equal odds using weighted cost1 outcome",
         "showlegend": false,
         "type": "scatter",
         "x": [
          0.32217538473254104
         ],
         "xaxis": "x22",
         "y": [
          0.8798399322761109
         ],
         "yaxis": "y22"
        },
        {
         "error_x": {
          "array": [
           -0.05116030035124883
          ],
          "type": "data"
         },
         "error_y": {
          "array": [
           -0.006245041402902385
          ],
          "type": "data"
         },
         "marker": {
          "color": "#FC0080"
         },
         "mode": "markers",
         "name": "equal odds1 outcome",
         "showlegend": false,
         "type": "scatter",
         "x": [
          0.04713176194826316
         ],
         "xaxis": "x22",
         "y": [
          0.8820267424817818
         ],
         "yaxis": "y22"
        },
        {
         "line": {
          "color": "#2E91E5"
         },
         "mode": "lines+markers+text",
         "name": "fairea baseline",
         "showlegend": false,
         "text": [
          "F_0",
          "F_10",
          "F_20",
          "F_30",
          "F_40",
          "F_50",
          "F_60",
          "F_70",
          "F_80",
          "F_90",
          "F_100"
         ],
         "textposition": "bottom right",
         "type": "scatter",
         "x": [
          0.0685830084977357,
          0.06369214478216093,
          0.05425564155486756,
          0.047239814974495246,
          0.039782283016360095,
          0.0326926823253849,
          0.03263965157390147,
          0.026984230604227673,
          0.019297769082038327,
          0.011059326583565933,
          0
         ],
         "xaxis": "x22",
         "y": [
          0.8819133034379673,
          0.8679760750570739,
          0.8541341890692842,
          0.8414224436628674,
          0.8293384797851661,
          0.8170007806038805,
          0.8051436165412952,
          0.7942590597120405,
          0.7839634872444948,
          0.773642646749517,
          0.7637737239727288
         ],
         "yaxis": "y22"
        },
        {
         "line": {
          "color": "#E15F99"
         },
         "mode": "lines+markers+text",
         "name": "fairea baseline",
         "showlegend": false,
         "text": [
          "F_0",
          "F_10",
          "F_20",
          "F_30",
          "F_40",
          "F_50",
          "F_60",
          "F_70",
          "F_80",
          "F_90",
          "F_100"
         ],
         "textposition": "bottom right",
         "type": "scatter",
         "x": [
          0.0685830084977357,
          0.06369214478216093,
          0.05425564155486756,
          0.047239814974495246,
          0.039782283016360095,
          0.0326926823253849,
          0.03263965157390147,
          0.026984230604227673,
          0.019297769082038327,
          0.011059326583565933,
          0
         ],
         "xaxis": "x22",
         "y": [
          0.8819133034379673,
          0.8679760750570739,
          0.8541341890692842,
          0.8414224436628674,
          0.8293384797851661,
          0.8170007806038805,
          0.8051436165412952,
          0.7942590597120405,
          0.7839634872444948,
          0.773642646749517,
          0.7637737239727288
         ],
         "yaxis": "y22"
        },
        {
         "error_x": {
          "array": [
           -0.1014136852908333
          ],
          "type": "data"
         },
         "error_y": {
          "array": [
           -0.005230024934693045
          ],
          "type": "data"
         },
         "marker": {
          "color": "#1CA71C"
         },
         "mode": "markers",
         "name": "reweighing outcome",
         "showlegend": false,
         "type": "scatter",
         "x": [
          0.07628445237040411
         ],
         "xaxis": "x23",
         "y": [
          0.8798650442084799
         ],
         "yaxis": "y23"
        },
        {
         "error_x": {
          "array": [
           -0.014474828632257575
          ],
          "type": "data"
         },
         "error_y": {
          "array": [
           -0.005284167359875802
          ],
          "type": "data"
         },
         "marker": {
          "color": "#FB0D0D"
         },
         "mode": "markers",
         "name": "calibrated equal odds using fpr cost outcome",
         "showlegend": false,
         "type": "scatter",
         "x": [
          0.5896589324327605
         ],
         "xaxis": "x23",
         "y": [
          0.8789945067006486
         ],
         "yaxis": "y23"
        },
        {
         "error_x": {
          "array": [
           -0.11537876468176798
          ],
          "type": "data"
         },
         "error_y": {
          "array": [
           -0.006011651430477993
          ],
          "type": "data"
         },
         "marker": {
          "color": "#DA16FF"
         },
         "mode": "markers",
         "name": "calibrated equal odds using fnr cost outcome",
         "showlegend": false,
         "type": "scatter",
         "x": [
          0.1001192439079641
         ],
         "xaxis": "x23",
         "y": [
          0.8811706968215224
         ],
         "yaxis": "y23"
        },
        {
         "error_x": {
          "array": [
           -0.015375522322629398
          ],
          "type": "data"
         },
         "error_y": {
          "array": [
           -0.005294777312494503
          ],
          "type": "data"
         },
         "marker": {
          "color": "#222A2A"
         },
         "mode": "markers",
         "name": "calibrated equal odds using weighted cost outcome",
         "showlegend": false,
         "type": "scatter",
         "x": [
          0.5911256890019798
         ],
         "xaxis": "x23",
         "y": [
          0.8798399322761109
         ],
         "yaxis": "y23"
        },
        {
         "error_x": {
          "array": [
           -0.10168023853468197
          ],
          "type": "data"
         },
         "error_y": {
          "array": [
           -0.006245041402902385
          ],
          "type": "data"
         },
         "marker": {
          "color": "#B68100"
         },
         "mode": "markers",
         "name": "equal odds outcome",
         "showlegend": false,
         "type": "scatter",
         "x": [
          0.08342364473014083
         ],
         "xaxis": "x23",
         "y": [
          0.8820267424817818
         ],
         "yaxis": "y23"
        },
        {
         "error_x": {
          "array": [
           -0.10947160334109615
          ],
          "type": "data"
         },
         "error_y": {
          "array": [
           -0.005876107127872121
          ],
          "type": "data"
         },
         "marker": {
          "color": "#750D86"
         },
         "mode": "markers",
         "name": "no debiasing1 outcome",
         "showlegend": false,
         "type": "scatter",
         "x": [
          0.10654127028663493
         ],
         "xaxis": "x23",
         "y": [
          0.88195358822673
         ],
         "yaxis": "y23"
        },
        {
         "error_x": {
          "array": [
           -0.1014136852908333
          ],
          "type": "data"
         },
         "error_y": {
          "array": [
           -0.005230024934693045
          ],
          "type": "data"
         },
         "marker": {
          "color": "#EB663B"
         },
         "mode": "markers",
         "name": "reweighing1 outcome",
         "showlegend": false,
         "type": "scatter",
         "x": [
          0.07628445237040411
         ],
         "xaxis": "x23",
         "y": [
          0.8798650442084799
         ],
         "yaxis": "y23"
        },
        {
         "error_x": {
          "array": [
           -0.014474828632257575
          ],
          "type": "data"
         },
         "error_y": {
          "array": [
           -0.005284167359875802
          ],
          "type": "data"
         },
         "marker": {
          "color": "#511CFB"
         },
         "mode": "markers",
         "name": "calibrated equal odds using fpr cost1 outcome",
         "showlegend": false,
         "type": "scatter",
         "x": [
          0.5896589324327605
         ],
         "xaxis": "x23",
         "y": [
          0.8789945067006486
         ],
         "yaxis": "y23"
        },
        {
         "error_x": {
          "array": [
           -0.11537876468176798
          ],
          "type": "data"
         },
         "error_y": {
          "array": [
           -0.006011651430477993
          ],
          "type": "data"
         },
         "marker": {
          "color": "#00A08B"
         },
         "mode": "markers",
         "name": "calibrated equal odds using fnr cost1 outcome",
         "showlegend": false,
         "type": "scatter",
         "x": [
          0.1001192439079641
         ],
         "xaxis": "x23",
         "y": [
          0.8811706968215224
         ],
         "yaxis": "y23"
        },
        {
         "error_x": {
          "array": [
           -0.015375522322629398
          ],
          "type": "data"
         },
         "error_y": {
          "array": [
           -0.005294777312494503
          ],
          "type": "data"
         },
         "marker": {
          "color": "#FB00D1"
         },
         "mode": "markers",
         "name": "calibrated equal odds using weighted cost1 outcome",
         "showlegend": false,
         "type": "scatter",
         "x": [
          0.5911256890019798
         ],
         "xaxis": "x23",
         "y": [
          0.8798399322761109
         ],
         "yaxis": "y23"
        },
        {
         "error_x": {
          "array": [
           -0.10168023853468197
          ],
          "type": "data"
         },
         "error_y": {
          "array": [
           -0.006245041402902385
          ],
          "type": "data"
         },
         "marker": {
          "color": "#FC0080"
         },
         "mode": "markers",
         "name": "equal odds1 outcome",
         "showlegend": false,
         "type": "scatter",
         "x": [
          0.08342364473014083
         ],
         "xaxis": "x23",
         "y": [
          0.8820267424817818
         ],
         "yaxis": "y23"
        },
        {
         "line": {
          "color": "#2E91E5"
         },
         "mode": "lines+markers+text",
         "name": "fairea baseline",
         "showlegend": false,
         "text": [
          "F_0",
          "F_10",
          "F_20",
          "F_30",
          "F_40",
          "F_50",
          "F_60",
          "F_70",
          "F_80",
          "F_90",
          "F_100"
         ],
         "textposition": "bottom right",
         "type": "scatter",
         "x": [
          0.10440457908697472,
          0.09803769370375542,
          0.08252631578947367,
          0.07163758201870724,
          0.05932360742705571,
          0.04852882870305738,
          0.051689515566103586,
          0.04384629345246404,
          0.03196481920982829,
          0.018721485411140586,
          0
         ],
         "xaxis": "x23",
         "y": [
          0.8819133034379673,
          0.8679760750570739,
          0.8541341890692842,
          0.8414224436628674,
          0.8293384797851661,
          0.8170007806038805,
          0.8051436165412952,
          0.7942590597120405,
          0.7839634872444948,
          0.773642646749517,
          0.7637737239727288
         ],
         "yaxis": "y23"
        },
        {
         "line": {
          "color": "#E15F99"
         },
         "mode": "lines+markers+text",
         "name": "fairea baseline",
         "showlegend": false,
         "text": [
          "F_0",
          "F_10",
          "F_20",
          "F_30",
          "F_40",
          "F_50",
          "F_60",
          "F_70",
          "F_80",
          "F_90",
          "F_100"
         ],
         "textposition": "bottom right",
         "type": "scatter",
         "x": [
          0.10440457908697472,
          0.09803769370375542,
          0.08252631578947367,
          0.07163758201870724,
          0.05932360742705571,
          0.04852882870305738,
          0.051689515566103586,
          0.04384629345246404,
          0.03196481920982829,
          0.018721485411140586,
          0
         ],
         "xaxis": "x23",
         "y": [
          0.8819133034379673,
          0.8679760750570739,
          0.8541341890692842,
          0.8414224436628674,
          0.8293384797851661,
          0.8170007806038805,
          0.8051436165412952,
          0.7942590597120405,
          0.7839634872444948,
          0.773642646749517,
          0.7637737239727288
         ],
         "yaxis": "y23"
        },
        {
         "error_x": {
          "array": [
           -0.012954617921213399
          ],
          "type": "data"
         },
         "error_y": {
          "array": [
           -0.005230024934693045
          ],
          "type": "data"
         },
         "marker": {
          "color": "#1CA71C"
         },
         "mode": "markers",
         "name": "reweighing outcome",
         "showlegend": false,
         "type": "scatter",
         "x": [
          0.08512966543149375
         ],
         "xaxis": "x24",
         "y": [
          0.8798650442084799
         ],
         "yaxis": "y24"
        },
        {
         "error_x": {
          "array": [
           -0.01673170986549556
          ],
          "type": "data"
         },
         "error_y": {
          "array": [
           -0.005284167359875802
          ],
          "type": "data"
         },
         "marker": {
          "color": "#FB0D0D"
         },
         "mode": "markers",
         "name": "calibrated equal odds using fpr cost outcome",
         "showlegend": false,
         "type": "scatter",
         "x": [
          0.06786599402009061
         ],
         "xaxis": "x24",
         "y": [
          0.8789945067006486
         ],
         "yaxis": "y24"
        },
        {
         "error_x": {
          "array": [
           -0.01484884783771774
          ],
          "type": "data"
         },
         "error_y": {
          "array": [
           -0.006011651430477993
          ],
          "type": "data"
         },
         "marker": {
          "color": "#DA16FF"
         },
         "mode": "markers",
         "name": "calibrated equal odds using fnr cost outcome",
         "showlegend": false,
         "type": "scatter",
         "x": [
          0.08550626235703675
         ],
         "xaxis": "x24",
         "y": [
          0.8811706968215224
         ],
         "yaxis": "y24"
        },
        {
         "error_x": {
          "array": [
           -0.018091225193089536
          ],
          "type": "data"
         },
         "error_y": {
          "array": [
           -0.005294777312494503
          ],
          "type": "data"
         },
         "marker": {
          "color": "#222A2A"
         },
         "mode": "markers",
         "name": "calibrated equal odds using weighted cost outcome",
         "showlegend": false,
         "type": "scatter",
         "x": [
          0.06829081163739964
         ],
         "xaxis": "x24",
         "y": [
          0.8798399322761109
         ],
         "yaxis": "y24"
        },
        {
         "error_x": {
          "array": [
           -0.017161535511095935
          ],
          "type": "data"
         },
         "error_y": {
          "array": [
           -0.006245041402902385
          ],
          "type": "data"
         },
         "marker": {
          "color": "#B68100"
         },
         "mode": "markers",
         "name": "equal odds outcome",
         "showlegend": false,
         "type": "scatter",
         "x": [
          0.06484613527683707
         ],
         "xaxis": "x24",
         "y": [
          0.8820267424817818
         ],
         "yaxis": "y24"
        },
        {
         "error_x": {
          "array": [
           -0.015400651985634853
          ],
          "type": "data"
         },
         "error_y": {
          "array": [
           -0.005876107127872121
          ],
          "type": "data"
         },
         "marker": {
          "color": "#750D86"
         },
         "mode": "markers",
         "name": "no debiasing1 outcome",
         "showlegend": false,
         "type": "scatter",
         "x": [
          0.08496780546821205
         ],
         "xaxis": "x24",
         "y": [
          0.88195358822673
         ],
         "yaxis": "y24"
        },
        {
         "error_x": {
          "array": [
           -0.012954617921213399
          ],
          "type": "data"
         },
         "error_y": {
          "array": [
           -0.005230024934693045
          ],
          "type": "data"
         },
         "marker": {
          "color": "#EB663B"
         },
         "mode": "markers",
         "name": "reweighing1 outcome",
         "showlegend": false,
         "type": "scatter",
         "x": [
          0.08512966543149375
         ],
         "xaxis": "x24",
         "y": [
          0.8798650442084799
         ],
         "yaxis": "y24"
        },
        {
         "error_x": {
          "array": [
           -0.01673170986549556
          ],
          "type": "data"
         },
         "error_y": {
          "array": [
           -0.005284167359875802
          ],
          "type": "data"
         },
         "marker": {
          "color": "#511CFB"
         },
         "mode": "markers",
         "name": "calibrated equal odds using fpr cost1 outcome",
         "showlegend": false,
         "type": "scatter",
         "x": [
          0.06786599402009061
         ],
         "xaxis": "x24",
         "y": [
          0.8789945067006486
         ],
         "yaxis": "y24"
        },
        {
         "error_x": {
          "array": [
           -0.01484884783771774
          ],
          "type": "data"
         },
         "error_y": {
          "array": [
           -0.006011651430477993
          ],
          "type": "data"
         },
         "marker": {
          "color": "#00A08B"
         },
         "mode": "markers",
         "name": "calibrated equal odds using fnr cost1 outcome",
         "showlegend": false,
         "type": "scatter",
         "x": [
          0.08550626235703675
         ],
         "xaxis": "x24",
         "y": [
          0.8811706968215224
         ],
         "yaxis": "y24"
        },
        {
         "error_x": {
          "array": [
           -0.018091225193089536
          ],
          "type": "data"
         },
         "error_y": {
          "array": [
           -0.005294777312494503
          ],
          "type": "data"
         },
         "marker": {
          "color": "#FB00D1"
         },
         "mode": "markers",
         "name": "calibrated equal odds using weighted cost1 outcome",
         "showlegend": false,
         "type": "scatter",
         "x": [
          0.06829081163739964
         ],
         "xaxis": "x24",
         "y": [
          0.8798399322761109
         ],
         "yaxis": "y24"
        },
        {
         "error_x": {
          "array": [
           -0.017161535511095935
          ],
          "type": "data"
         },
         "error_y": {
          "array": [
           -0.006245041402902385
          ],
          "type": "data"
         },
         "marker": {
          "color": "#FC0080"
         },
         "mode": "markers",
         "name": "equal odds1 outcome",
         "showlegend": false,
         "type": "scatter",
         "x": [
          0.06484613527683707
         ],
         "xaxis": "x24",
         "y": [
          0.8820267424817818
         ],
         "yaxis": "y24"
        },
        {
         "line": {
          "color": "#2E91E5"
         },
         "mode": "lines+markers+text",
         "name": "fairea baseline",
         "showlegend": false,
         "text": [
          "F_0",
          "F_10",
          "F_20",
          "F_30",
          "F_40",
          "F_50",
          "F_60",
          "F_70",
          "F_80",
          "F_90",
          "F_100"
         ],
         "textposition": "bottom right",
         "type": "scatter",
         "x": [
          0.08447361056413193,
          0.09287042020233229,
          0.10241481794777955,
          0.1114273380347503,
          0.12097984274861938,
          0.13016040704528734,
          0.1386660871150868,
          0.1470059289013044,
          0.15651007545989506,
          0.16525117799240463,
          0.17393512145889978
         ],
         "xaxis": "x24",
         "y": [
          0.8819133034379673,
          0.8679760750570739,
          0.8541341890692842,
          0.8414224436628674,
          0.8293384797851661,
          0.8170007806038805,
          0.8051436165412952,
          0.7942590597120405,
          0.7839634872444948,
          0.773642646749517,
          0.7637737239727288
         ],
         "yaxis": "y24"
        },
        {
         "line": {
          "color": "#E15F99"
         },
         "mode": "lines+markers+text",
         "name": "fairea baseline",
         "showlegend": false,
         "text": [
          "F_0",
          "F_10",
          "F_20",
          "F_30",
          "F_40",
          "F_50",
          "F_60",
          "F_70",
          "F_80",
          "F_90",
          "F_100"
         ],
         "textposition": "bottom right",
         "type": "scatter",
         "x": [
          0.08447361056413193,
          0.09287042020233229,
          0.10241481794777955,
          0.1114273380347503,
          0.12097984274861938,
          0.13016040704528734,
          0.1386660871150868,
          0.1470059289013044,
          0.15651007545989506,
          0.16525117799240463,
          0.17393512145889978
         ],
         "xaxis": "x24",
         "y": [
          0.8819133034379673,
          0.8679760750570739,
          0.8541341890692842,
          0.8414224436628674,
          0.8293384797851661,
          0.8170007806038805,
          0.8051436165412952,
          0.7942590597120405,
          0.7839634872444948,
          0.773642646749517,
          0.7637737239727288
         ],
         "yaxis": "y24"
        },
        {
         "error_x": {
          "array": [
           -0.014669125690659417
          ],
          "type": "data"
         },
         "error_y": {
          "array": [
           -0.008978089432364667
          ],
          "type": "data"
         },
         "marker": {
          "color": "#1CA71C"
         },
         "mode": "markers",
         "name": "reweighing outcome",
         "showlegend": false,
         "type": "scatter",
         "x": [
          0.12499537772027708
         ],
         "xaxis": "x25",
         "y": [
          0.8262410364844519
         ],
         "yaxis": "y25"
        },
        {
         "error_x": {
          "array": [
           -0.0058110928811675455
          ],
          "type": "data"
         },
         "error_y": {
          "array": [
           -0.007287676431501744
          ],
          "type": "data"
         },
         "marker": {
          "color": "#FB0D0D"
         },
         "mode": "markers",
         "name": "calibrated equal odds using fpr cost outcome",
         "showlegend": false,
         "type": "scatter",
         "x": [
          0.18629912946334568
         ],
         "xaxis": "x25",
         "y": [
          0.8315104435992918
         ],
         "yaxis": "y25"
        },
        {
         "error_x": {
          "array": [
           -0.015798763472345344
          ],
          "type": "data"
         },
         "error_y": {
          "array": [
           -0.007873696877627068
          ],
          "type": "data"
         },
         "marker": {
          "color": "#DA16FF"
         },
         "mode": "markers",
         "name": "calibrated equal odds using fnr cost outcome",
         "showlegend": false,
         "type": "scatter",
         "x": [
          0.1305233025677107
         ],
         "xaxis": "x25",
         "y": [
          0.8310827174533381
         ],
         "yaxis": "y25"
        },
        {
         "error_x": {
          "array": [
           -0.006067306794178967
          ],
          "type": "data"
         },
         "error_y": {
          "array": [
           -0.007827728947601087
          ],
          "type": "data"
         },
         "marker": {
          "color": "#222A2A"
         },
         "mode": "markers",
         "name": "calibrated equal odds using weighted cost outcome",
         "showlegend": false,
         "type": "scatter",
         "x": [
          0.18611984863480757
         ],
         "xaxis": "x25",
         "y": [
          0.8322600808569587
         ],
         "yaxis": "y25"
        },
        {
         "error_x": {
          "array": [
           -0.01593644325685055
          ],
          "type": "data"
         },
         "error_y": {
          "array": [
           -0.007477352066678433
          ],
          "type": "data"
         },
         "marker": {
          "color": "#B68100"
         },
         "mode": "markers",
         "name": "equal odds outcome",
         "showlegend": false,
         "type": "scatter",
         "x": [
          0.10850568277284957
         ],
         "xaxis": "x25",
         "y": [
          0.8285258116875651
         ],
         "yaxis": "y25"
        },
        {
         "error_x": {
          "array": [
           -0.01452861216709151
          ],
          "type": "data"
         },
         "error_y": {
          "array": [
           -0.007751433982924438
          ],
          "type": "data"
         },
         "marker": {
          "color": "#750D86"
         },
         "mode": "markers",
         "name": "no debiasing1 outcome",
         "showlegend": false,
         "type": "scatter",
         "x": [
          0.13198511125782697
         ],
         "xaxis": "x25",
         "y": [
          0.8317681662425983
         ],
         "yaxis": "y25"
        },
        {
         "error_x": {
          "array": [
           -0.014669125690659417
          ],
          "type": "data"
         },
         "error_y": {
          "array": [
           -0.008978089432364667
          ],
          "type": "data"
         },
         "marker": {
          "color": "#EB663B"
         },
         "mode": "markers",
         "name": "reweighing1 outcome",
         "showlegend": false,
         "type": "scatter",
         "x": [
          0.12499537772027708
         ],
         "xaxis": "x25",
         "y": [
          0.8262410364844519
         ],
         "yaxis": "y25"
        },
        {
         "error_x": {
          "array": [
           -0.0058110928811675455
          ],
          "type": "data"
         },
         "error_y": {
          "array": [
           -0.007287676431501744
          ],
          "type": "data"
         },
         "marker": {
          "color": "#511CFB"
         },
         "mode": "markers",
         "name": "calibrated equal odds using fpr cost1 outcome",
         "showlegend": false,
         "type": "scatter",
         "x": [
          0.18629912946334568
         ],
         "xaxis": "x25",
         "y": [
          0.8315104435992918
         ],
         "yaxis": "y25"
        },
        {
         "error_x": {
          "array": [
           -0.015798763472345344
          ],
          "type": "data"
         },
         "error_y": {
          "array": [
           -0.007873696877627068
          ],
          "type": "data"
         },
         "marker": {
          "color": "#00A08B"
         },
         "mode": "markers",
         "name": "calibrated equal odds using fnr cost1 outcome",
         "showlegend": false,
         "type": "scatter",
         "x": [
          0.1305233025677107
         ],
         "xaxis": "x25",
         "y": [
          0.8310827174533381
         ],
         "yaxis": "y25"
        },
        {
         "error_x": {
          "array": [
           -0.006067306794178967
          ],
          "type": "data"
         },
         "error_y": {
          "array": [
           -0.007827728947601087
          ],
          "type": "data"
         },
         "marker": {
          "color": "#FB00D1"
         },
         "mode": "markers",
         "name": "calibrated equal odds using weighted cost1 outcome",
         "showlegend": false,
         "type": "scatter",
         "x": [
          0.18611984863480757
         ],
         "xaxis": "x25",
         "y": [
          0.8322600808569587
         ],
         "yaxis": "y25"
        },
        {
         "error_x": {
          "array": [
           -0.01593644325685055
          ],
          "type": "data"
         },
         "error_y": {
          "array": [
           -0.007477352066678433
          ],
          "type": "data"
         },
         "marker": {
          "color": "#FC0080"
         },
         "mode": "markers",
         "name": "equal odds1 outcome",
         "showlegend": false,
         "type": "scatter",
         "x": [
          0.10850568277284957
         ],
         "xaxis": "x25",
         "y": [
          0.8285258116875651
         ],
         "yaxis": "y25"
        },
        {
         "line": {
          "color": "#2E91E5"
         },
         "mode": "lines+markers+text",
         "name": "fairea baseline",
         "showlegend": false,
         "text": [
          "F_0",
          "F_10",
          "F_20",
          "F_30",
          "F_40",
          "F_50",
          "F_60",
          "F_70",
          "F_80",
          "F_90",
          "F_100"
         ],
         "textposition": "bottom right",
         "type": "scatter",
         "x": [
          0.13153366316698556,
          0.11865561466447005,
          0.10478255925418929,
          0.09185034906058193,
          0.07936776663277154,
          0.06552709097609065,
          0.052922554518159644,
          0.04006550536855555,
          0.02595754795230033,
          0.013092827447697897,
          0
         ],
         "xaxis": "x25",
         "y": [
          0.8315116327600037,
          0.8245253715001281,
          0.8175250807405493,
          0.8116511182793296,
          0.8063732962196805,
          0.7975877534623966,
          0.7916647566827446,
          0.786678315066208,
          0.7822315008063047,
          0.7770256793078878,
          0.3818868619863644
         ],
         "yaxis": "y25"
        },
        {
         "line": {
          "color": "#E15F99"
         },
         "mode": "lines+markers+text",
         "name": "fairea baseline",
         "showlegend": false,
         "text": [
          "F_0",
          "F_10",
          "F_20",
          "F_30",
          "F_40",
          "F_50",
          "F_60",
          "F_70",
          "F_80",
          "F_90",
          "F_100"
         ],
         "textposition": "bottom right",
         "type": "scatter",
         "x": [
          0.13153366316698556,
          0.11865561466447005,
          0.10478255925418929,
          0.09185034906058193,
          0.07936776663277154,
          0.06552709097609065,
          0.052922554518159644,
          0.04006550536855555,
          0.02595754795230033,
          0.013092827447697897,
          0
         ],
         "xaxis": "x25",
         "y": [
          0.8315116327600037,
          0.8245253715001281,
          0.8175250807405493,
          0.8116511182793296,
          0.8063732962196805,
          0.7975877534623966,
          0.7916647566827446,
          0.786678315066208,
          0.7822315008063047,
          0.7770256793078878,
          0.3818868619863644
         ],
         "yaxis": "y25"
        },
        {
         "error_x": {
          "array": [
           -0.05119168246872774
          ],
          "type": "data"
         },
         "error_y": {
          "array": [
           -0.008978089432364667
          ],
          "type": "data"
         },
         "marker": {
          "color": "#1CA71C"
         },
         "mode": "markers",
         "name": "reweighing outcome",
         "showlegend": false,
         "type": "scatter",
         "x": [
          0.05342657562783528
         ],
         "xaxis": "x26",
         "y": [
          0.8262410364844519
         ],
         "yaxis": "y26"
        },
        {
         "error_x": {
          "array": [
           -0.007515199373606174
          ],
          "type": "data"
         },
         "error_y": {
          "array": [
           -0.007287676431501744
          ],
          "type": "data"
         },
         "marker": {
          "color": "#FB0D0D"
         },
         "mode": "markers",
         "name": "calibrated equal odds using fpr cost outcome",
         "showlegend": false,
         "type": "scatter",
         "x": [
          0.3215720657854554
         ],
         "xaxis": "x26",
         "y": [
          0.8315104435992918
         ],
         "yaxis": "y26"
        },
        {
         "error_x": {
          "array": [
           -0.05750649047104506
          ],
          "type": "data"
         },
         "error_y": {
          "array": [
           -0.007873696877627068
          ],
          "type": "data"
         },
         "marker": {
          "color": "#DA16FF"
         },
         "mode": "markers",
         "name": "calibrated equal odds using fnr cost outcome",
         "showlegend": false,
         "type": "scatter",
         "x": [
          0.06632829996391733
         ],
         "xaxis": "x26",
         "y": [
          0.8310827174533381
         ],
         "yaxis": "y26"
        },
        {
         "error_x": {
          "array": [
           -0.0081686742075181
          ],
          "type": "data"
         },
         "error_y": {
          "array": [
           -0.007827728947601087
          ],
          "type": "data"
         },
         "marker": {
          "color": "#222A2A"
         },
         "mode": "markers",
         "name": "calibrated equal odds using weighted cost outcome",
         "showlegend": false,
         "type": "scatter",
         "x": [
          0.32217538473254104
         ],
         "xaxis": "x26",
         "y": [
          0.8322600808569587
         ],
         "yaxis": "y26"
        },
        {
         "error_x": {
          "array": [
           -0.05116030035124883
          ],
          "type": "data"
         },
         "error_y": {
          "array": [
           -0.007477352066678433
          ],
          "type": "data"
         },
         "marker": {
          "color": "#B68100"
         },
         "mode": "markers",
         "name": "equal odds outcome",
         "showlegend": false,
         "type": "scatter",
         "x": [
          0.04713176194826316
         ],
         "xaxis": "x26",
         "y": [
          0.8285258116875651
         ],
         "yaxis": "y26"
        },
        {
         "error_x": {
          "array": [
           -0.054902255237186975
          ],
          "type": "data"
         },
         "error_y": {
          "array": [
           -0.007751433982924438
          ],
          "type": "data"
         },
         "marker": {
          "color": "#750D86"
         },
         "mode": "markers",
         "name": "no debiasing1 outcome",
         "showlegend": false,
         "type": "scatter",
         "x": [
          0.06987733249735525
         ],
         "xaxis": "x26",
         "y": [
          0.8317681662425983
         ],
         "yaxis": "y26"
        },
        {
         "error_x": {
          "array": [
           -0.05119168246872774
          ],
          "type": "data"
         },
         "error_y": {
          "array": [
           -0.008978089432364667
          ],
          "type": "data"
         },
         "marker": {
          "color": "#EB663B"
         },
         "mode": "markers",
         "name": "reweighing1 outcome",
         "showlegend": false,
         "type": "scatter",
         "x": [
          0.05342657562783528
         ],
         "xaxis": "x26",
         "y": [
          0.8262410364844519
         ],
         "yaxis": "y26"
        },
        {
         "error_x": {
          "array": [
           -0.007515199373606174
          ],
          "type": "data"
         },
         "error_y": {
          "array": [
           -0.007287676431501744
          ],
          "type": "data"
         },
         "marker": {
          "color": "#511CFB"
         },
         "mode": "markers",
         "name": "calibrated equal odds using fpr cost1 outcome",
         "showlegend": false,
         "type": "scatter",
         "x": [
          0.3215720657854554
         ],
         "xaxis": "x26",
         "y": [
          0.8315104435992918
         ],
         "yaxis": "y26"
        },
        {
         "error_x": {
          "array": [
           -0.05750649047104506
          ],
          "type": "data"
         },
         "error_y": {
          "array": [
           -0.007873696877627068
          ],
          "type": "data"
         },
         "marker": {
          "color": "#00A08B"
         },
         "mode": "markers",
         "name": "calibrated equal odds using fnr cost1 outcome",
         "showlegend": false,
         "type": "scatter",
         "x": [
          0.06632829996391733
         ],
         "xaxis": "x26",
         "y": [
          0.8310827174533381
         ],
         "yaxis": "y26"
        },
        {
         "error_x": {
          "array": [
           -0.0081686742075181
          ],
          "type": "data"
         },
         "error_y": {
          "array": [
           -0.007827728947601087
          ],
          "type": "data"
         },
         "marker": {
          "color": "#FB00D1"
         },
         "mode": "markers",
         "name": "calibrated equal odds using weighted cost1 outcome",
         "showlegend": false,
         "type": "scatter",
         "x": [
          0.32217538473254104
         ],
         "xaxis": "x26",
         "y": [
          0.8322600808569587
         ],
         "yaxis": "y26"
        },
        {
         "error_x": {
          "array": [
           -0.05116030035124883
          ],
          "type": "data"
         },
         "error_y": {
          "array": [
           -0.007477352066678433
          ],
          "type": "data"
         },
         "marker": {
          "color": "#FC0080"
         },
         "mode": "markers",
         "name": "equal odds1 outcome",
         "showlegend": false,
         "type": "scatter",
         "x": [
          0.04713176194826316
         ],
         "xaxis": "x26",
         "y": [
          0.8285258116875651
         ],
         "yaxis": "y26"
        },
        {
         "line": {
          "color": "#2E91E5"
         },
         "mode": "lines+markers+text",
         "name": "fairea baseline",
         "showlegend": false,
         "text": [
          "F_0",
          "F_10",
          "F_20",
          "F_30",
          "F_40",
          "F_50",
          "F_60",
          "F_70",
          "F_80",
          "F_90",
          "F_100"
         ],
         "textposition": "bottom right",
         "type": "scatter",
         "x": [
          0.0685830084977357,
          0.06369214478216093,
          0.05425564155486756,
          0.047239814974495246,
          0.039782283016360095,
          0.0326926823253849,
          0.03263965157390147,
          0.026984230604227673,
          0.019297769082038327,
          0.011059326583565933,
          0
         ],
         "xaxis": "x26",
         "y": [
          0.8315116327600037,
          0.8245253715001281,
          0.8175250807405493,
          0.8116511182793296,
          0.8063732962196805,
          0.7975877534623966,
          0.7916647566827446,
          0.786678315066208,
          0.7822315008063047,
          0.7770256793078878,
          0.3818868619863644
         ],
         "yaxis": "y26"
        },
        {
         "line": {
          "color": "#E15F99"
         },
         "mode": "lines+markers+text",
         "name": "fairea baseline",
         "showlegend": false,
         "text": [
          "F_0",
          "F_10",
          "F_20",
          "F_30",
          "F_40",
          "F_50",
          "F_60",
          "F_70",
          "F_80",
          "F_90",
          "F_100"
         ],
         "textposition": "bottom right",
         "type": "scatter",
         "x": [
          0.0685830084977357,
          0.06369214478216093,
          0.05425564155486756,
          0.047239814974495246,
          0.039782283016360095,
          0.0326926823253849,
          0.03263965157390147,
          0.026984230604227673,
          0.019297769082038327,
          0.011059326583565933,
          0
         ],
         "xaxis": "x26",
         "y": [
          0.8315116327600037,
          0.8245253715001281,
          0.8175250807405493,
          0.8116511182793296,
          0.8063732962196805,
          0.7975877534623966,
          0.7916647566827446,
          0.786678315066208,
          0.7822315008063047,
          0.7770256793078878,
          0.3818868619863644
         ],
         "yaxis": "y26"
        },
        {
         "error_x": {
          "array": [
           -0.1014136852908333
          ],
          "type": "data"
         },
         "error_y": {
          "array": [
           -0.008978089432364667
          ],
          "type": "data"
         },
         "marker": {
          "color": "#1CA71C"
         },
         "mode": "markers",
         "name": "reweighing outcome",
         "showlegend": false,
         "type": "scatter",
         "x": [
          0.07628445237040411
         ],
         "xaxis": "x27",
         "y": [
          0.8262410364844519
         ],
         "yaxis": "y27"
        },
        {
         "error_x": {
          "array": [
           -0.014474828632257575
          ],
          "type": "data"
         },
         "error_y": {
          "array": [
           -0.007287676431501744
          ],
          "type": "data"
         },
         "marker": {
          "color": "#FB0D0D"
         },
         "mode": "markers",
         "name": "calibrated equal odds using fpr cost outcome",
         "showlegend": false,
         "type": "scatter",
         "x": [
          0.5896589324327605
         ],
         "xaxis": "x27",
         "y": [
          0.8315104435992918
         ],
         "yaxis": "y27"
        },
        {
         "error_x": {
          "array": [
           -0.11537876468176798
          ],
          "type": "data"
         },
         "error_y": {
          "array": [
           -0.007873696877627068
          ],
          "type": "data"
         },
         "marker": {
          "color": "#DA16FF"
         },
         "mode": "markers",
         "name": "calibrated equal odds using fnr cost outcome",
         "showlegend": false,
         "type": "scatter",
         "x": [
          0.1001192439079641
         ],
         "xaxis": "x27",
         "y": [
          0.8310827174533381
         ],
         "yaxis": "y27"
        },
        {
         "error_x": {
          "array": [
           -0.015375522322629398
          ],
          "type": "data"
         },
         "error_y": {
          "array": [
           -0.007827728947601087
          ],
          "type": "data"
         },
         "marker": {
          "color": "#222A2A"
         },
         "mode": "markers",
         "name": "calibrated equal odds using weighted cost outcome",
         "showlegend": false,
         "type": "scatter",
         "x": [
          0.5911256890019798
         ],
         "xaxis": "x27",
         "y": [
          0.8322600808569587
         ],
         "yaxis": "y27"
        },
        {
         "error_x": {
          "array": [
           -0.10168023853468197
          ],
          "type": "data"
         },
         "error_y": {
          "array": [
           -0.007477352066678433
          ],
          "type": "data"
         },
         "marker": {
          "color": "#B68100"
         },
         "mode": "markers",
         "name": "equal odds outcome",
         "showlegend": false,
         "type": "scatter",
         "x": [
          0.08342364473014083
         ],
         "xaxis": "x27",
         "y": [
          0.8285258116875651
         ],
         "yaxis": "y27"
        },
        {
         "error_x": {
          "array": [
           -0.10947160334109615
          ],
          "type": "data"
         },
         "error_y": {
          "array": [
           -0.007751433982924438
          ],
          "type": "data"
         },
         "marker": {
          "color": "#750D86"
         },
         "mode": "markers",
         "name": "no debiasing1 outcome",
         "showlegend": false,
         "type": "scatter",
         "x": [
          0.10654127028663493
         ],
         "xaxis": "x27",
         "y": [
          0.8317681662425983
         ],
         "yaxis": "y27"
        },
        {
         "error_x": {
          "array": [
           -0.1014136852908333
          ],
          "type": "data"
         },
         "error_y": {
          "array": [
           -0.008978089432364667
          ],
          "type": "data"
         },
         "marker": {
          "color": "#EB663B"
         },
         "mode": "markers",
         "name": "reweighing1 outcome",
         "showlegend": false,
         "type": "scatter",
         "x": [
          0.07628445237040411
         ],
         "xaxis": "x27",
         "y": [
          0.8262410364844519
         ],
         "yaxis": "y27"
        },
        {
         "error_x": {
          "array": [
           -0.014474828632257575
          ],
          "type": "data"
         },
         "error_y": {
          "array": [
           -0.007287676431501744
          ],
          "type": "data"
         },
         "marker": {
          "color": "#511CFB"
         },
         "mode": "markers",
         "name": "calibrated equal odds using fpr cost1 outcome",
         "showlegend": false,
         "type": "scatter",
         "x": [
          0.5896589324327605
         ],
         "xaxis": "x27",
         "y": [
          0.8315104435992918
         ],
         "yaxis": "y27"
        },
        {
         "error_x": {
          "array": [
           -0.11537876468176798
          ],
          "type": "data"
         },
         "error_y": {
          "array": [
           -0.007873696877627068
          ],
          "type": "data"
         },
         "marker": {
          "color": "#00A08B"
         },
         "mode": "markers",
         "name": "calibrated equal odds using fnr cost1 outcome",
         "showlegend": false,
         "type": "scatter",
         "x": [
          0.1001192439079641
         ],
         "xaxis": "x27",
         "y": [
          0.8310827174533381
         ],
         "yaxis": "y27"
        },
        {
         "error_x": {
          "array": [
           -0.015375522322629398
          ],
          "type": "data"
         },
         "error_y": {
          "array": [
           -0.007827728947601087
          ],
          "type": "data"
         },
         "marker": {
          "color": "#FB00D1"
         },
         "mode": "markers",
         "name": "calibrated equal odds using weighted cost1 outcome",
         "showlegend": false,
         "type": "scatter",
         "x": [
          0.5911256890019798
         ],
         "xaxis": "x27",
         "y": [
          0.8322600808569587
         ],
         "yaxis": "y27"
        },
        {
         "error_x": {
          "array": [
           -0.10168023853468197
          ],
          "type": "data"
         },
         "error_y": {
          "array": [
           -0.007477352066678433
          ],
          "type": "data"
         },
         "marker": {
          "color": "#FC0080"
         },
         "mode": "markers",
         "name": "equal odds1 outcome",
         "showlegend": false,
         "type": "scatter",
         "x": [
          0.08342364473014083
         ],
         "xaxis": "x27",
         "y": [
          0.8285258116875651
         ],
         "yaxis": "y27"
        },
        {
         "line": {
          "color": "#2E91E5"
         },
         "mode": "lines+markers+text",
         "name": "fairea baseline",
         "showlegend": false,
         "text": [
          "F_0",
          "F_10",
          "F_20",
          "F_30",
          "F_40",
          "F_50",
          "F_60",
          "F_70",
          "F_80",
          "F_90",
          "F_100"
         ],
         "textposition": "bottom right",
         "type": "scatter",
         "x": [
          0.10440457908697472,
          0.09803769370375542,
          0.08252631578947367,
          0.07163758201870724,
          0.05932360742705571,
          0.04852882870305738,
          0.051689515566103586,
          0.04384629345246404,
          0.03196481920982829,
          0.018721485411140586,
          0
         ],
         "xaxis": "x27",
         "y": [
          0.8315116327600037,
          0.8245253715001281,
          0.8175250807405493,
          0.8116511182793296,
          0.8063732962196805,
          0.7975877534623966,
          0.7916647566827446,
          0.786678315066208,
          0.7822315008063047,
          0.7770256793078878,
          0.3818868619863644
         ],
         "yaxis": "y27"
        },
        {
         "line": {
          "color": "#E15F99"
         },
         "mode": "lines+markers+text",
         "name": "fairea baseline",
         "showlegend": false,
         "text": [
          "F_0",
          "F_10",
          "F_20",
          "F_30",
          "F_40",
          "F_50",
          "F_60",
          "F_70",
          "F_80",
          "F_90",
          "F_100"
         ],
         "textposition": "bottom right",
         "type": "scatter",
         "x": [
          0.10440457908697472,
          0.09803769370375542,
          0.08252631578947367,
          0.07163758201870724,
          0.05932360742705571,
          0.04852882870305738,
          0.051689515566103586,
          0.04384629345246404,
          0.03196481920982829,
          0.018721485411140586,
          0
         ],
         "xaxis": "x27",
         "y": [
          0.8315116327600037,
          0.8245253715001281,
          0.8175250807405493,
          0.8116511182793296,
          0.8063732962196805,
          0.7975877534623966,
          0.7916647566827446,
          0.786678315066208,
          0.7822315008063047,
          0.7770256793078878,
          0.3818868619863644
         ],
         "yaxis": "y27"
        },
        {
         "error_x": {
          "array": [
           -0.012954617921213399
          ],
          "type": "data"
         },
         "error_y": {
          "array": [
           -0.008978089432364667
          ],
          "type": "data"
         },
         "marker": {
          "color": "#1CA71C"
         },
         "mode": "markers",
         "name": "reweighing outcome",
         "showlegend": false,
         "type": "scatter",
         "x": [
          0.08512966543149375
         ],
         "xaxis": "x28",
         "y": [
          0.8262410364844519
         ],
         "yaxis": "y28"
        },
        {
         "error_x": {
          "array": [
           -0.01673170986549556
          ],
          "type": "data"
         },
         "error_y": {
          "array": [
           -0.007287676431501744
          ],
          "type": "data"
         },
         "marker": {
          "color": "#FB0D0D"
         },
         "mode": "markers",
         "name": "calibrated equal odds using fpr cost outcome",
         "showlegend": false,
         "type": "scatter",
         "x": [
          0.06786599402009061
         ],
         "xaxis": "x28",
         "y": [
          0.8315104435992918
         ],
         "yaxis": "y28"
        },
        {
         "error_x": {
          "array": [
           -0.01484884783771774
          ],
          "type": "data"
         },
         "error_y": {
          "array": [
           -0.007873696877627068
          ],
          "type": "data"
         },
         "marker": {
          "color": "#DA16FF"
         },
         "mode": "markers",
         "name": "calibrated equal odds using fnr cost outcome",
         "showlegend": false,
         "type": "scatter",
         "x": [
          0.08550626235703675
         ],
         "xaxis": "x28",
         "y": [
          0.8310827174533381
         ],
         "yaxis": "y28"
        },
        {
         "error_x": {
          "array": [
           -0.018091225193089536
          ],
          "type": "data"
         },
         "error_y": {
          "array": [
           -0.007827728947601087
          ],
          "type": "data"
         },
         "marker": {
          "color": "#222A2A"
         },
         "mode": "markers",
         "name": "calibrated equal odds using weighted cost outcome",
         "showlegend": false,
         "type": "scatter",
         "x": [
          0.06829081163739964
         ],
         "xaxis": "x28",
         "y": [
          0.8322600808569587
         ],
         "yaxis": "y28"
        },
        {
         "error_x": {
          "array": [
           -0.017161535511095935
          ],
          "type": "data"
         },
         "error_y": {
          "array": [
           -0.007477352066678433
          ],
          "type": "data"
         },
         "marker": {
          "color": "#B68100"
         },
         "mode": "markers",
         "name": "equal odds outcome",
         "showlegend": false,
         "type": "scatter",
         "x": [
          0.06484613527683707
         ],
         "xaxis": "x28",
         "y": [
          0.8285258116875651
         ],
         "yaxis": "y28"
        },
        {
         "error_x": {
          "array": [
           -0.015400651985634853
          ],
          "type": "data"
         },
         "error_y": {
          "array": [
           -0.007751433982924438
          ],
          "type": "data"
         },
         "marker": {
          "color": "#750D86"
         },
         "mode": "markers",
         "name": "no debiasing1 outcome",
         "showlegend": false,
         "type": "scatter",
         "x": [
          0.08496780546821205
         ],
         "xaxis": "x28",
         "y": [
          0.8317681662425983
         ],
         "yaxis": "y28"
        },
        {
         "error_x": {
          "array": [
           -0.012954617921213399
          ],
          "type": "data"
         },
         "error_y": {
          "array": [
           -0.008978089432364667
          ],
          "type": "data"
         },
         "marker": {
          "color": "#EB663B"
         },
         "mode": "markers",
         "name": "reweighing1 outcome",
         "showlegend": false,
         "type": "scatter",
         "x": [
          0.08512966543149375
         ],
         "xaxis": "x28",
         "y": [
          0.8262410364844519
         ],
         "yaxis": "y28"
        },
        {
         "error_x": {
          "array": [
           -0.01673170986549556
          ],
          "type": "data"
         },
         "error_y": {
          "array": [
           -0.007287676431501744
          ],
          "type": "data"
         },
         "marker": {
          "color": "#511CFB"
         },
         "mode": "markers",
         "name": "calibrated equal odds using fpr cost1 outcome",
         "showlegend": false,
         "type": "scatter",
         "x": [
          0.06786599402009061
         ],
         "xaxis": "x28",
         "y": [
          0.8315104435992918
         ],
         "yaxis": "y28"
        },
        {
         "error_x": {
          "array": [
           -0.01484884783771774
          ],
          "type": "data"
         },
         "error_y": {
          "array": [
           -0.007873696877627068
          ],
          "type": "data"
         },
         "marker": {
          "color": "#00A08B"
         },
         "mode": "markers",
         "name": "calibrated equal odds using fnr cost1 outcome",
         "showlegend": false,
         "type": "scatter",
         "x": [
          0.08550626235703675
         ],
         "xaxis": "x28",
         "y": [
          0.8310827174533381
         ],
         "yaxis": "y28"
        },
        {
         "error_x": {
          "array": [
           -0.018091225193089536
          ],
          "type": "data"
         },
         "error_y": {
          "array": [
           -0.007827728947601087
          ],
          "type": "data"
         },
         "marker": {
          "color": "#FB00D1"
         },
         "mode": "markers",
         "name": "calibrated equal odds using weighted cost1 outcome",
         "showlegend": false,
         "type": "scatter",
         "x": [
          0.06829081163739964
         ],
         "xaxis": "x28",
         "y": [
          0.8322600808569587
         ],
         "yaxis": "y28"
        },
        {
         "error_x": {
          "array": [
           -0.017161535511095935
          ],
          "type": "data"
         },
         "error_y": {
          "array": [
           -0.007477352066678433
          ],
          "type": "data"
         },
         "marker": {
          "color": "#FC0080"
         },
         "mode": "markers",
         "name": "equal odds1 outcome",
         "showlegend": false,
         "type": "scatter",
         "x": [
          0.06484613527683707
         ],
         "xaxis": "x28",
         "y": [
          0.8285258116875651
         ],
         "yaxis": "y28"
        },
        {
         "line": {
          "color": "#2E91E5"
         },
         "mode": "lines+markers+text",
         "name": "fairea baseline",
         "showlegend": false,
         "text": [
          "F_0",
          "F_10",
          "F_20",
          "F_30",
          "F_40",
          "F_50",
          "F_60",
          "F_70",
          "F_80",
          "F_90",
          "F_100"
         ],
         "textposition": "bottom right",
         "type": "scatter",
         "x": [
          0.08447361056413193,
          0.09287042020233229,
          0.10241481794777955,
          0.1114273380347503,
          0.12097984274861938,
          0.13016040704528734,
          0.1386660871150868,
          0.1470059289013044,
          0.15651007545989506,
          0.16525117799240463,
          0.17393512145889978
         ],
         "xaxis": "x28",
         "y": [
          0.8315116327600037,
          0.8245253715001281,
          0.8175250807405493,
          0.8116511182793296,
          0.8063732962196805,
          0.7975877534623966,
          0.7916647566827446,
          0.786678315066208,
          0.7822315008063047,
          0.7770256793078878,
          0.3818868619863644
         ],
         "yaxis": "y28"
        },
        {
         "line": {
          "color": "#E15F99"
         },
         "mode": "lines+markers+text",
         "name": "fairea baseline",
         "showlegend": false,
         "text": [
          "F_0",
          "F_10",
          "F_20",
          "F_30",
          "F_40",
          "F_50",
          "F_60",
          "F_70",
          "F_80",
          "F_90",
          "F_100"
         ],
         "textposition": "bottom right",
         "type": "scatter",
         "x": [
          0.08447361056413193,
          0.09287042020233229,
          0.10241481794777955,
          0.1114273380347503,
          0.12097984274861938,
          0.13016040704528734,
          0.1386660871150868,
          0.1470059289013044,
          0.15651007545989506,
          0.16525117799240463,
          0.17393512145889978
         ],
         "xaxis": "x28",
         "y": [
          0.8315116327600037,
          0.8245253715001281,
          0.8175250807405493,
          0.8116511182793296,
          0.8063732962196805,
          0.7975877534623966,
          0.7916647566827446,
          0.786678315066208,
          0.7822315008063047,
          0.7770256793078878,
          0.3818868619863644
         ],
         "yaxis": "y28"
        },
        {
         "error_x": {
          "array": [
           -0.014669125690659417
          ],
          "type": "data"
         },
         "error_y": {
          "array": [
           -0.01463211506586648
          ],
          "type": "data"
         },
         "marker": {
          "color": "#1CA71C"
         },
         "mode": "markers",
         "name": "reweighing outcome",
         "showlegend": false,
         "type": "scatter",
         "x": [
          0.12499537772027708
         ],
         "xaxis": "x29",
         "y": [
          0.6642906204826555
         ],
         "yaxis": "y29"
        },
        {
         "error_x": {
          "array": [
           -0.0058110928811675455
          ],
          "type": "data"
         },
         "error_y": {
          "array": [
           -0.011788610294312218
          ],
          "type": "data"
         },
         "marker": {
          "color": "#FB0D0D"
         },
         "mode": "markers",
         "name": "calibrated equal odds using fpr cost outcome",
         "showlegend": false,
         "type": "scatter",
         "x": [
          0.18629912946334568
         ],
         "xaxis": "x29",
         "y": [
          0.6653612712372285
         ],
         "yaxis": "y29"
        },
        {
         "error_x": {
          "array": [
           -0.015798763472345344
          ],
          "type": "data"
         },
         "error_y": {
          "array": [
           -0.0134980465964466
          ],
          "type": "data"
         },
         "marker": {
          "color": "#DA16FF"
         },
         "mode": "markers",
         "name": "calibrated equal odds using fnr cost outcome",
         "showlegend": false,
         "type": "scatter",
         "x": [
          0.1305233025677107
         ],
         "xaxis": "x29",
         "y": [
          0.6695146110242622
         ],
         "yaxis": "y29"
        },
        {
         "error_x": {
          "array": [
           -0.006067306794178967
          ],
          "type": "data"
         },
         "error_y": {
          "array": [
           -0.01230315957037642
          ],
          "type": "data"
         },
         "marker": {
          "color": "#222A2A"
         },
         "mode": "markers",
         "name": "calibrated equal odds using weighted cost outcome",
         "showlegend": false,
         "type": "scatter",
         "x": [
          0.18611984863480757
         ],
         "xaxis": "x29",
         "y": [
          0.6666297701290236
         ],
         "yaxis": "y29"
        },
        {
         "error_x": {
          "array": [
           -0.01593644325685055
          ],
          "type": "data"
         },
         "error_y": {
          "array": [
           -0.01287875084017398
          ],
          "type": "data"
         },
         "marker": {
          "color": "#B68100"
         },
         "mode": "markers",
         "name": "equal odds outcome",
         "showlegend": false,
         "type": "scatter",
         "x": [
          0.10850568277284957
         ],
         "xaxis": "x29",
         "y": [
          0.6700484252717156
         ],
         "yaxis": "y29"
        },
        {
         "error_x": {
          "array": [
           -0.01452861216709151
          ],
          "type": "data"
         },
         "error_y": {
          "array": [
           -0.012203571929269907
          ],
          "type": "data"
         },
         "marker": {
          "color": "#750D86"
         },
         "mode": "markers",
         "name": "no debiasing1 outcome",
         "showlegend": false,
         "type": "scatter",
         "x": [
          0.13198511125782697
         ],
         "xaxis": "x29",
         "y": [
          0.6716781283500715
         ],
         "yaxis": "y29"
        },
        {
         "error_x": {
          "array": [
           -0.014669125690659417
          ],
          "type": "data"
         },
         "error_y": {
          "array": [
           -0.01463211506586648
          ],
          "type": "data"
         },
         "marker": {
          "color": "#EB663B"
         },
         "mode": "markers",
         "name": "reweighing1 outcome",
         "showlegend": false,
         "type": "scatter",
         "x": [
          0.12499537772027708
         ],
         "xaxis": "x29",
         "y": [
          0.6642906204826555
         ],
         "yaxis": "y29"
        },
        {
         "error_x": {
          "array": [
           -0.0058110928811675455
          ],
          "type": "data"
         },
         "error_y": {
          "array": [
           -0.011788610294312218
          ],
          "type": "data"
         },
         "marker": {
          "color": "#511CFB"
         },
         "mode": "markers",
         "name": "calibrated equal odds using fpr cost1 outcome",
         "showlegend": false,
         "type": "scatter",
         "x": [
          0.18629912946334568
         ],
         "xaxis": "x29",
         "y": [
          0.6653612712372285
         ],
         "yaxis": "y29"
        },
        {
         "error_x": {
          "array": [
           -0.015798763472345344
          ],
          "type": "data"
         },
         "error_y": {
          "array": [
           -0.0134980465964466
          ],
          "type": "data"
         },
         "marker": {
          "color": "#00A08B"
         },
         "mode": "markers",
         "name": "calibrated equal odds using fnr cost1 outcome",
         "showlegend": false,
         "type": "scatter",
         "x": [
          0.1305233025677107
         ],
         "xaxis": "x29",
         "y": [
          0.6695146110242622
         ],
         "yaxis": "y29"
        },
        {
         "error_x": {
          "array": [
           -0.006067306794178967
          ],
          "type": "data"
         },
         "error_y": {
          "array": [
           -0.01230315957037642
          ],
          "type": "data"
         },
         "marker": {
          "color": "#FB00D1"
         },
         "mode": "markers",
         "name": "calibrated equal odds using weighted cost1 outcome",
         "showlegend": false,
         "type": "scatter",
         "x": [
          0.18611984863480757
         ],
         "xaxis": "x29",
         "y": [
          0.6666297701290236
         ],
         "yaxis": "y29"
        },
        {
         "error_x": {
          "array": [
           -0.01593644325685055
          ],
          "type": "data"
         },
         "error_y": {
          "array": [
           -0.01287875084017398
          ],
          "type": "data"
         },
         "marker": {
          "color": "#FC0080"
         },
         "mode": "markers",
         "name": "equal odds1 outcome",
         "showlegend": false,
         "type": "scatter",
         "x": [
          0.10850568277284957
         ],
         "xaxis": "x29",
         "y": [
          0.6700484252717156
         ],
         "yaxis": "y29"
        },
        {
         "line": {
          "color": "#2E91E5"
         },
         "mode": "lines+markers+text",
         "name": "fairea baseline",
         "showlegend": false,
         "text": [
          "F_0",
          "F_10",
          "F_20",
          "F_30",
          "F_40",
          "F_50",
          "F_60",
          "F_70",
          "F_80",
          "F_90",
          "F_100"
         ],
         "textposition": "bottom right",
         "type": "scatter",
         "x": [
          0.13153366316698556,
          0.11865561466447005,
          0.10478255925418929,
          0.09185034906058193,
          0.07936776663277154,
          0.06552709097609065,
          0.052922554518159644,
          0.04006550536855555,
          0.02595754795230033,
          0.013092827447697897,
          0
         ],
         "xaxis": "x29",
         "y": [
          0.6717059433822439,
          0.6320864058707465,
          0.5870952565854328,
          0.5399156387883233,
          0.4884258965282055,
          0.42735980679073443,
          0.3593482098847355,
          0.2862407409820835,
          0.20524725832018528,
          0.10942838141935214,
          0
         ],
         "yaxis": "y29"
        },
        {
         "line": {
          "color": "#E15F99"
         },
         "mode": "lines+markers+text",
         "name": "fairea baseline",
         "showlegend": false,
         "text": [
          "F_0",
          "F_10",
          "F_20",
          "F_30",
          "F_40",
          "F_50",
          "F_60",
          "F_70",
          "F_80",
          "F_90",
          "F_100"
         ],
         "textposition": "bottom right",
         "type": "scatter",
         "x": [
          0.13153366316698556,
          0.11865561466447005,
          0.10478255925418929,
          0.09185034906058193,
          0.07936776663277154,
          0.06552709097609065,
          0.052922554518159644,
          0.04006550536855555,
          0.02595754795230033,
          0.013092827447697897,
          0
         ],
         "xaxis": "x29",
         "y": [
          0.6717059433822439,
          0.6320864058707465,
          0.5870952565854328,
          0.5399156387883233,
          0.4884258965282055,
          0.42735980679073443,
          0.3593482098847355,
          0.2862407409820835,
          0.20524725832018528,
          0.10942838141935214,
          0
         ],
         "yaxis": "y29"
        },
        {
         "error_x": {
          "array": [
           -0.05119168246872774
          ],
          "type": "data"
         },
         "error_y": {
          "array": [
           -0.01463211506586648
          ],
          "type": "data"
         },
         "marker": {
          "color": "#1CA71C"
         },
         "mode": "markers",
         "name": "reweighing outcome",
         "showlegend": false,
         "type": "scatter",
         "x": [
          0.05342657562783528
         ],
         "xaxis": "x30",
         "y": [
          0.6642906204826555
         ],
         "yaxis": "y30"
        },
        {
         "error_x": {
          "array": [
           -0.007515199373606174
          ],
          "type": "data"
         },
         "error_y": {
          "array": [
           -0.011788610294312218
          ],
          "type": "data"
         },
         "marker": {
          "color": "#FB0D0D"
         },
         "mode": "markers",
         "name": "calibrated equal odds using fpr cost outcome",
         "showlegend": false,
         "type": "scatter",
         "x": [
          0.3215720657854554
         ],
         "xaxis": "x30",
         "y": [
          0.6653612712372285
         ],
         "yaxis": "y30"
        },
        {
         "error_x": {
          "array": [
           -0.05750649047104506
          ],
          "type": "data"
         },
         "error_y": {
          "array": [
           -0.0134980465964466
          ],
          "type": "data"
         },
         "marker": {
          "color": "#DA16FF"
         },
         "mode": "markers",
         "name": "calibrated equal odds using fnr cost outcome",
         "showlegend": false,
         "type": "scatter",
         "x": [
          0.06632829996391733
         ],
         "xaxis": "x30",
         "y": [
          0.6695146110242622
         ],
         "yaxis": "y30"
        },
        {
         "error_x": {
          "array": [
           -0.0081686742075181
          ],
          "type": "data"
         },
         "error_y": {
          "array": [
           -0.01230315957037642
          ],
          "type": "data"
         },
         "marker": {
          "color": "#222A2A"
         },
         "mode": "markers",
         "name": "calibrated equal odds using weighted cost outcome",
         "showlegend": false,
         "type": "scatter",
         "x": [
          0.32217538473254104
         ],
         "xaxis": "x30",
         "y": [
          0.6666297701290236
         ],
         "yaxis": "y30"
        },
        {
         "error_x": {
          "array": [
           -0.05116030035124883
          ],
          "type": "data"
         },
         "error_y": {
          "array": [
           -0.01287875084017398
          ],
          "type": "data"
         },
         "marker": {
          "color": "#B68100"
         },
         "mode": "markers",
         "name": "equal odds outcome",
         "showlegend": false,
         "type": "scatter",
         "x": [
          0.04713176194826316
         ],
         "xaxis": "x30",
         "y": [
          0.6700484252717156
         ],
         "yaxis": "y30"
        },
        {
         "error_x": {
          "array": [
           -0.054902255237186975
          ],
          "type": "data"
         },
         "error_y": {
          "array": [
           -0.012203571929269907
          ],
          "type": "data"
         },
         "marker": {
          "color": "#750D86"
         },
         "mode": "markers",
         "name": "no debiasing1 outcome",
         "showlegend": false,
         "type": "scatter",
         "x": [
          0.06987733249735525
         ],
         "xaxis": "x30",
         "y": [
          0.6716781283500715
         ],
         "yaxis": "y30"
        },
        {
         "error_x": {
          "array": [
           -0.05119168246872774
          ],
          "type": "data"
         },
         "error_y": {
          "array": [
           -0.01463211506586648
          ],
          "type": "data"
         },
         "marker": {
          "color": "#EB663B"
         },
         "mode": "markers",
         "name": "reweighing1 outcome",
         "showlegend": false,
         "type": "scatter",
         "x": [
          0.05342657562783528
         ],
         "xaxis": "x30",
         "y": [
          0.6642906204826555
         ],
         "yaxis": "y30"
        },
        {
         "error_x": {
          "array": [
           -0.007515199373606174
          ],
          "type": "data"
         },
         "error_y": {
          "array": [
           -0.011788610294312218
          ],
          "type": "data"
         },
         "marker": {
          "color": "#511CFB"
         },
         "mode": "markers",
         "name": "calibrated equal odds using fpr cost1 outcome",
         "showlegend": false,
         "type": "scatter",
         "x": [
          0.3215720657854554
         ],
         "xaxis": "x30",
         "y": [
          0.6653612712372285
         ],
         "yaxis": "y30"
        },
        {
         "error_x": {
          "array": [
           -0.05750649047104506
          ],
          "type": "data"
         },
         "error_y": {
          "array": [
           -0.0134980465964466
          ],
          "type": "data"
         },
         "marker": {
          "color": "#00A08B"
         },
         "mode": "markers",
         "name": "calibrated equal odds using fnr cost1 outcome",
         "showlegend": false,
         "type": "scatter",
         "x": [
          0.06632829996391733
         ],
         "xaxis": "x30",
         "y": [
          0.6695146110242622
         ],
         "yaxis": "y30"
        },
        {
         "error_x": {
          "array": [
           -0.0081686742075181
          ],
          "type": "data"
         },
         "error_y": {
          "array": [
           -0.01230315957037642
          ],
          "type": "data"
         },
         "marker": {
          "color": "#FB00D1"
         },
         "mode": "markers",
         "name": "calibrated equal odds using weighted cost1 outcome",
         "showlegend": false,
         "type": "scatter",
         "x": [
          0.32217538473254104
         ],
         "xaxis": "x30",
         "y": [
          0.6666297701290236
         ],
         "yaxis": "y30"
        },
        {
         "error_x": {
          "array": [
           -0.05116030035124883
          ],
          "type": "data"
         },
         "error_y": {
          "array": [
           -0.01287875084017398
          ],
          "type": "data"
         },
         "marker": {
          "color": "#FC0080"
         },
         "mode": "markers",
         "name": "equal odds1 outcome",
         "showlegend": false,
         "type": "scatter",
         "x": [
          0.04713176194826316
         ],
         "xaxis": "x30",
         "y": [
          0.6700484252717156
         ],
         "yaxis": "y30"
        },
        {
         "line": {
          "color": "#2E91E5"
         },
         "mode": "lines+markers+text",
         "name": "fairea baseline",
         "showlegend": false,
         "text": [
          "F_0",
          "F_10",
          "F_20",
          "F_30",
          "F_40",
          "F_50",
          "F_60",
          "F_70",
          "F_80",
          "F_90",
          "F_100"
         ],
         "textposition": "bottom right",
         "type": "scatter",
         "x": [
          0.0685830084977357,
          0.06369214478216093,
          0.05425564155486756,
          0.047239814974495246,
          0.039782283016360095,
          0.0326926823253849,
          0.03263965157390147,
          0.026984230604227673,
          0.019297769082038327,
          0.011059326583565933,
          0
         ],
         "xaxis": "x30",
         "y": [
          0.6717059433822439,
          0.6320864058707465,
          0.5870952565854328,
          0.5399156387883233,
          0.4884258965282055,
          0.42735980679073443,
          0.3593482098847355,
          0.2862407409820835,
          0.20524725832018528,
          0.10942838141935214,
          0
         ],
         "yaxis": "y30"
        },
        {
         "line": {
          "color": "#E15F99"
         },
         "mode": "lines+markers+text",
         "name": "fairea baseline",
         "showlegend": false,
         "text": [
          "F_0",
          "F_10",
          "F_20",
          "F_30",
          "F_40",
          "F_50",
          "F_60",
          "F_70",
          "F_80",
          "F_90",
          "F_100"
         ],
         "textposition": "bottom right",
         "type": "scatter",
         "x": [
          0.0685830084977357,
          0.06369214478216093,
          0.05425564155486756,
          0.047239814974495246,
          0.039782283016360095,
          0.0326926823253849,
          0.03263965157390147,
          0.026984230604227673,
          0.019297769082038327,
          0.011059326583565933,
          0
         ],
         "xaxis": "x30",
         "y": [
          0.6717059433822439,
          0.6320864058707465,
          0.5870952565854328,
          0.5399156387883233,
          0.4884258965282055,
          0.42735980679073443,
          0.3593482098847355,
          0.2862407409820835,
          0.20524725832018528,
          0.10942838141935214,
          0
         ],
         "yaxis": "y30"
        },
        {
         "error_x": {
          "array": [
           -0.1014136852908333
          ],
          "type": "data"
         },
         "error_y": {
          "array": [
           -0.01463211506586648
          ],
          "type": "data"
         },
         "marker": {
          "color": "#1CA71C"
         },
         "mode": "markers",
         "name": "reweighing outcome",
         "showlegend": false,
         "type": "scatter",
         "x": [
          0.07628445237040411
         ],
         "xaxis": "x31",
         "y": [
          0.6642906204826555
         ],
         "yaxis": "y31"
        },
        {
         "error_x": {
          "array": [
           -0.014474828632257575
          ],
          "type": "data"
         },
         "error_y": {
          "array": [
           -0.011788610294312218
          ],
          "type": "data"
         },
         "marker": {
          "color": "#FB0D0D"
         },
         "mode": "markers",
         "name": "calibrated equal odds using fpr cost outcome",
         "showlegend": false,
         "type": "scatter",
         "x": [
          0.5896589324327605
         ],
         "xaxis": "x31",
         "y": [
          0.6653612712372285
         ],
         "yaxis": "y31"
        },
        {
         "error_x": {
          "array": [
           -0.11537876468176798
          ],
          "type": "data"
         },
         "error_y": {
          "array": [
           -0.0134980465964466
          ],
          "type": "data"
         },
         "marker": {
          "color": "#DA16FF"
         },
         "mode": "markers",
         "name": "calibrated equal odds using fnr cost outcome",
         "showlegend": false,
         "type": "scatter",
         "x": [
          0.1001192439079641
         ],
         "xaxis": "x31",
         "y": [
          0.6695146110242622
         ],
         "yaxis": "y31"
        },
        {
         "error_x": {
          "array": [
           -0.015375522322629398
          ],
          "type": "data"
         },
         "error_y": {
          "array": [
           -0.01230315957037642
          ],
          "type": "data"
         },
         "marker": {
          "color": "#222A2A"
         },
         "mode": "markers",
         "name": "calibrated equal odds using weighted cost outcome",
         "showlegend": false,
         "type": "scatter",
         "x": [
          0.5911256890019798
         ],
         "xaxis": "x31",
         "y": [
          0.6666297701290236
         ],
         "yaxis": "y31"
        },
        {
         "error_x": {
          "array": [
           -0.10168023853468197
          ],
          "type": "data"
         },
         "error_y": {
          "array": [
           -0.01287875084017398
          ],
          "type": "data"
         },
         "marker": {
          "color": "#B68100"
         },
         "mode": "markers",
         "name": "equal odds outcome",
         "showlegend": false,
         "type": "scatter",
         "x": [
          0.08342364473014083
         ],
         "xaxis": "x31",
         "y": [
          0.6700484252717156
         ],
         "yaxis": "y31"
        },
        {
         "error_x": {
          "array": [
           -0.10947160334109615
          ],
          "type": "data"
         },
         "error_y": {
          "array": [
           -0.012203571929269907
          ],
          "type": "data"
         },
         "marker": {
          "color": "#750D86"
         },
         "mode": "markers",
         "name": "no debiasing1 outcome",
         "showlegend": false,
         "type": "scatter",
         "x": [
          0.10654127028663493
         ],
         "xaxis": "x31",
         "y": [
          0.6716781283500715
         ],
         "yaxis": "y31"
        },
        {
         "error_x": {
          "array": [
           -0.1014136852908333
          ],
          "type": "data"
         },
         "error_y": {
          "array": [
           -0.01463211506586648
          ],
          "type": "data"
         },
         "marker": {
          "color": "#EB663B"
         },
         "mode": "markers",
         "name": "reweighing1 outcome",
         "showlegend": false,
         "type": "scatter",
         "x": [
          0.07628445237040411
         ],
         "xaxis": "x31",
         "y": [
          0.6642906204826555
         ],
         "yaxis": "y31"
        },
        {
         "error_x": {
          "array": [
           -0.014474828632257575
          ],
          "type": "data"
         },
         "error_y": {
          "array": [
           -0.011788610294312218
          ],
          "type": "data"
         },
         "marker": {
          "color": "#511CFB"
         },
         "mode": "markers",
         "name": "calibrated equal odds using fpr cost1 outcome",
         "showlegend": false,
         "type": "scatter",
         "x": [
          0.5896589324327605
         ],
         "xaxis": "x31",
         "y": [
          0.6653612712372285
         ],
         "yaxis": "y31"
        },
        {
         "error_x": {
          "array": [
           -0.11537876468176798
          ],
          "type": "data"
         },
         "error_y": {
          "array": [
           -0.0134980465964466
          ],
          "type": "data"
         },
         "marker": {
          "color": "#00A08B"
         },
         "mode": "markers",
         "name": "calibrated equal odds using fnr cost1 outcome",
         "showlegend": false,
         "type": "scatter",
         "x": [
          0.1001192439079641
         ],
         "xaxis": "x31",
         "y": [
          0.6695146110242622
         ],
         "yaxis": "y31"
        },
        {
         "error_x": {
          "array": [
           -0.015375522322629398
          ],
          "type": "data"
         },
         "error_y": {
          "array": [
           -0.01230315957037642
          ],
          "type": "data"
         },
         "marker": {
          "color": "#FB00D1"
         },
         "mode": "markers",
         "name": "calibrated equal odds using weighted cost1 outcome",
         "showlegend": false,
         "type": "scatter",
         "x": [
          0.5911256890019798
         ],
         "xaxis": "x31",
         "y": [
          0.6666297701290236
         ],
         "yaxis": "y31"
        },
        {
         "error_x": {
          "array": [
           -0.10168023853468197
          ],
          "type": "data"
         },
         "error_y": {
          "array": [
           -0.01287875084017398
          ],
          "type": "data"
         },
         "marker": {
          "color": "#FC0080"
         },
         "mode": "markers",
         "name": "equal odds1 outcome",
         "showlegend": false,
         "type": "scatter",
         "x": [
          0.08342364473014083
         ],
         "xaxis": "x31",
         "y": [
          0.6700484252717156
         ],
         "yaxis": "y31"
        },
        {
         "line": {
          "color": "#2E91E5"
         },
         "mode": "lines+markers+text",
         "name": "fairea baseline",
         "showlegend": false,
         "text": [
          "F_0",
          "F_10",
          "F_20",
          "F_30",
          "F_40",
          "F_50",
          "F_60",
          "F_70",
          "F_80",
          "F_90",
          "F_100"
         ],
         "textposition": "bottom right",
         "type": "scatter",
         "x": [
          0.10440457908697472,
          0.09803769370375542,
          0.08252631578947367,
          0.07163758201870724,
          0.05932360742705571,
          0.04852882870305738,
          0.051689515566103586,
          0.04384629345246404,
          0.03196481920982829,
          0.018721485411140586,
          0
         ],
         "xaxis": "x31",
         "y": [
          0.6717059433822439,
          0.6320864058707465,
          0.5870952565854328,
          0.5399156387883233,
          0.4884258965282055,
          0.42735980679073443,
          0.3593482098847355,
          0.2862407409820835,
          0.20524725832018528,
          0.10942838141935214,
          0
         ],
         "yaxis": "y31"
        },
        {
         "line": {
          "color": "#E15F99"
         },
         "mode": "lines+markers+text",
         "name": "fairea baseline",
         "showlegend": false,
         "text": [
          "F_0",
          "F_10",
          "F_20",
          "F_30",
          "F_40",
          "F_50",
          "F_60",
          "F_70",
          "F_80",
          "F_90",
          "F_100"
         ],
         "textposition": "bottom right",
         "type": "scatter",
         "x": [
          0.10440457908697472,
          0.09803769370375542,
          0.08252631578947367,
          0.07163758201870724,
          0.05932360742705571,
          0.04852882870305738,
          0.051689515566103586,
          0.04384629345246404,
          0.03196481920982829,
          0.018721485411140586,
          0
         ],
         "xaxis": "x31",
         "y": [
          0.6717059433822439,
          0.6320864058707465,
          0.5870952565854328,
          0.5399156387883233,
          0.4884258965282055,
          0.42735980679073443,
          0.3593482098847355,
          0.2862407409820835,
          0.20524725832018528,
          0.10942838141935214,
          0
         ],
         "yaxis": "y31"
        },
        {
         "error_x": {
          "array": [
           -0.012954617921213399
          ],
          "type": "data"
         },
         "error_y": {
          "array": [
           -0.01463211506586648
          ],
          "type": "data"
         },
         "marker": {
          "color": "#1CA71C"
         },
         "mode": "markers",
         "name": "reweighing outcome",
         "showlegend": false,
         "type": "scatter",
         "x": [
          0.08512966543149375
         ],
         "xaxis": "x32",
         "y": [
          0.6642906204826555
         ],
         "yaxis": "y32"
        },
        {
         "error_x": {
          "array": [
           -0.01673170986549556
          ],
          "type": "data"
         },
         "error_y": {
          "array": [
           -0.011788610294312218
          ],
          "type": "data"
         },
         "marker": {
          "color": "#FB0D0D"
         },
         "mode": "markers",
         "name": "calibrated equal odds using fpr cost outcome",
         "showlegend": false,
         "type": "scatter",
         "x": [
          0.06786599402009061
         ],
         "xaxis": "x32",
         "y": [
          0.6653612712372285
         ],
         "yaxis": "y32"
        },
        {
         "error_x": {
          "array": [
           -0.01484884783771774
          ],
          "type": "data"
         },
         "error_y": {
          "array": [
           -0.0134980465964466
          ],
          "type": "data"
         },
         "marker": {
          "color": "#DA16FF"
         },
         "mode": "markers",
         "name": "calibrated equal odds using fnr cost outcome",
         "showlegend": false,
         "type": "scatter",
         "x": [
          0.08550626235703675
         ],
         "xaxis": "x32",
         "y": [
          0.6695146110242622
         ],
         "yaxis": "y32"
        },
        {
         "error_x": {
          "array": [
           -0.018091225193089536
          ],
          "type": "data"
         },
         "error_y": {
          "array": [
           -0.01230315957037642
          ],
          "type": "data"
         },
         "marker": {
          "color": "#222A2A"
         },
         "mode": "markers",
         "name": "calibrated equal odds using weighted cost outcome",
         "showlegend": false,
         "type": "scatter",
         "x": [
          0.06829081163739964
         ],
         "xaxis": "x32",
         "y": [
          0.6666297701290236
         ],
         "yaxis": "y32"
        },
        {
         "error_x": {
          "array": [
           -0.017161535511095935
          ],
          "type": "data"
         },
         "error_y": {
          "array": [
           -0.01287875084017398
          ],
          "type": "data"
         },
         "marker": {
          "color": "#B68100"
         },
         "mode": "markers",
         "name": "equal odds outcome",
         "showlegend": false,
         "type": "scatter",
         "x": [
          0.06484613527683707
         ],
         "xaxis": "x32",
         "y": [
          0.6700484252717156
         ],
         "yaxis": "y32"
        },
        {
         "error_x": {
          "array": [
           -0.015400651985634853
          ],
          "type": "data"
         },
         "error_y": {
          "array": [
           -0.012203571929269907
          ],
          "type": "data"
         },
         "marker": {
          "color": "#750D86"
         },
         "mode": "markers",
         "name": "no debiasing1 outcome",
         "showlegend": false,
         "type": "scatter",
         "x": [
          0.08496780546821205
         ],
         "xaxis": "x32",
         "y": [
          0.6716781283500715
         ],
         "yaxis": "y32"
        },
        {
         "error_x": {
          "array": [
           -0.012954617921213399
          ],
          "type": "data"
         },
         "error_y": {
          "array": [
           -0.01463211506586648
          ],
          "type": "data"
         },
         "marker": {
          "color": "#EB663B"
         },
         "mode": "markers",
         "name": "reweighing1 outcome",
         "showlegend": false,
         "type": "scatter",
         "x": [
          0.08512966543149375
         ],
         "xaxis": "x32",
         "y": [
          0.6642906204826555
         ],
         "yaxis": "y32"
        },
        {
         "error_x": {
          "array": [
           -0.01673170986549556
          ],
          "type": "data"
         },
         "error_y": {
          "array": [
           -0.011788610294312218
          ],
          "type": "data"
         },
         "marker": {
          "color": "#511CFB"
         },
         "mode": "markers",
         "name": "calibrated equal odds using fpr cost1 outcome",
         "showlegend": false,
         "type": "scatter",
         "x": [
          0.06786599402009061
         ],
         "xaxis": "x32",
         "y": [
          0.6653612712372285
         ],
         "yaxis": "y32"
        },
        {
         "error_x": {
          "array": [
           -0.01484884783771774
          ],
          "type": "data"
         },
         "error_y": {
          "array": [
           -0.0134980465964466
          ],
          "type": "data"
         },
         "marker": {
          "color": "#00A08B"
         },
         "mode": "markers",
         "name": "calibrated equal odds using fnr cost1 outcome",
         "showlegend": false,
         "type": "scatter",
         "x": [
          0.08550626235703675
         ],
         "xaxis": "x32",
         "y": [
          0.6695146110242622
         ],
         "yaxis": "y32"
        },
        {
         "error_x": {
          "array": [
           -0.018091225193089536
          ],
          "type": "data"
         },
         "error_y": {
          "array": [
           -0.01230315957037642
          ],
          "type": "data"
         },
         "marker": {
          "color": "#FB00D1"
         },
         "mode": "markers",
         "name": "calibrated equal odds using weighted cost1 outcome",
         "showlegend": false,
         "type": "scatter",
         "x": [
          0.06829081163739964
         ],
         "xaxis": "x32",
         "y": [
          0.6666297701290236
         ],
         "yaxis": "y32"
        },
        {
         "error_x": {
          "array": [
           -0.017161535511095935
          ],
          "type": "data"
         },
         "error_y": {
          "array": [
           -0.01287875084017398
          ],
          "type": "data"
         },
         "marker": {
          "color": "#FC0080"
         },
         "mode": "markers",
         "name": "equal odds1 outcome",
         "showlegend": false,
         "type": "scatter",
         "x": [
          0.06484613527683707
         ],
         "xaxis": "x32",
         "y": [
          0.6700484252717156
         ],
         "yaxis": "y32"
        },
        {
         "line": {
          "color": "#2E91E5"
         },
         "mode": "lines+markers+text",
         "name": "fairea baseline",
         "showlegend": false,
         "text": [
          "F_0",
          "F_10",
          "F_20",
          "F_30",
          "F_40",
          "F_50",
          "F_60",
          "F_70",
          "F_80",
          "F_90",
          "F_100"
         ],
         "textposition": "bottom right",
         "type": "scatter",
         "x": [
          0.08447361056413193,
          0.09287042020233229,
          0.10241481794777955,
          0.1114273380347503,
          0.12097984274861938,
          0.13016040704528734,
          0.1386660871150868,
          0.1470059289013044,
          0.15651007545989506,
          0.16525117799240463,
          0.17393512145889978
         ],
         "xaxis": "x32",
         "y": [
          0.6717059433822439,
          0.6320864058707465,
          0.5870952565854328,
          0.5399156387883233,
          0.4884258965282055,
          0.42735980679073443,
          0.3593482098847355,
          0.2862407409820835,
          0.20524725832018528,
          0.10942838141935214,
          0
         ],
         "yaxis": "y32"
        },
        {
         "line": {
          "color": "#E15F99"
         },
         "mode": "lines+markers+text",
         "name": "fairea baseline",
         "showlegend": false,
         "text": [
          "F_0",
          "F_10",
          "F_20",
          "F_30",
          "F_40",
          "F_50",
          "F_60",
          "F_70",
          "F_80",
          "F_90",
          "F_100"
         ],
         "textposition": "bottom right",
         "type": "scatter",
         "x": [
          0.08447361056413193,
          0.09287042020233229,
          0.10241481794777955,
          0.1114273380347503,
          0.12097984274861938,
          0.13016040704528734,
          0.1386660871150868,
          0.1470059289013044,
          0.15651007545989506,
          0.16525117799240463,
          0.17393512145889978
         ],
         "xaxis": "x32",
         "y": [
          0.6717059433822439,
          0.6320864058707465,
          0.5870952565854328,
          0.5399156387883233,
          0.4884258965282055,
          0.42735980679073443,
          0.3593482098847355,
          0.2862407409820835,
          0.20524725832018528,
          0.10942838141935214,
          0
         ],
         "yaxis": "y32"
        },
        {
         "error_x": {
          "array": [
           -0.014669125690659417
          ],
          "type": "data"
         },
         "error_y": {
          "array": [
           -0.00345576808400061
          ],
          "type": "data"
         },
         "marker": {
          "color": "#1CA71C"
         },
         "mode": "markers",
         "name": "reweighing outcome",
         "showlegend": false,
         "type": "scatter",
         "x": [
          0.12499537772027708
         ],
         "xaxis": "x33",
         "y": [
          0.9121403172697766
         ],
         "yaxis": "y33"
        },
        {
         "error_x": {
          "array": [
           -0.0058110928811675455
          ],
          "type": "data"
         },
         "error_y": {
          "array": [
           -0.003390255268262865
          ],
          "type": "data"
         },
         "marker": {
          "color": "#FB0D0D"
         },
         "mode": "markers",
         "name": "calibrated equal odds using fpr cost outcome",
         "showlegend": false,
         "type": "scatter",
         "x": [
          0.18629912946334568
         ],
         "xaxis": "x33",
         "y": [
          0.9134096188259346
         ],
         "yaxis": "y33"
        },
        {
         "error_x": {
          "array": [
           -0.015798763472345344
          ],
          "type": "data"
         },
         "error_y": {
          "array": [
           -0.003949912444660697
          ],
          "type": "data"
         },
         "marker": {
          "color": "#DA16FF"
         },
         "mode": "markers",
         "name": "calibrated equal odds using fnr cost outcome",
         "showlegend": false,
         "type": "scatter",
         "x": [
          0.1305233025677107
         ],
         "xaxis": "x33",
         "y": [
          0.9139214180006019
         ],
         "yaxis": "y33"
        },
        {
         "error_x": {
          "array": [
           -0.006067306794178967
          ],
          "type": "data"
         },
         "error_y": {
          "array": [
           -0.0032094535734297214
          ],
          "type": "data"
         },
         "marker": {
          "color": "#222A2A"
         },
         "mode": "markers",
         "name": "calibrated equal odds using weighted cost outcome",
         "showlegend": false,
         "type": "scatter",
         "x": [
          0.18611984863480757
         ],
         "xaxis": "x33",
         "y": [
          0.9139819985661023
         ],
         "yaxis": "y33"
        },
        {
         "error_x": {
          "array": [
           -0.01593644325685055
          ],
          "type": "data"
         },
         "error_y": {
          "array": [
           -0.003961479950802982
          ],
          "type": "data"
         },
         "marker": {
          "color": "#B68100"
         },
         "mode": "markers",
         "name": "equal odds outcome",
         "showlegend": false,
         "type": "scatter",
         "x": [
          0.10850568277284957
         ],
         "xaxis": "x33",
         "y": [
          0.9133843760759498
         ],
         "yaxis": "y33"
        },
        {
         "error_x": {
          "array": [
           -0.01452861216709151
          ],
          "type": "data"
         },
         "error_y": {
          "array": [
           -0.0036938277267219988
          ],
          "type": "data"
         },
         "marker": {
          "color": "#750D86"
         },
         "mode": "markers",
         "name": "no debiasing1 outcome",
         "showlegend": false,
         "type": "scatter",
         "x": [
          0.13198511125782697
         ],
         "xaxis": "x33",
         "y": [
          0.9143142652118048
         ],
         "yaxis": "y33"
        },
        {
         "error_x": {
          "array": [
           -0.014669125690659417
          ],
          "type": "data"
         },
         "error_y": {
          "array": [
           -0.00345576808400061
          ],
          "type": "data"
         },
         "marker": {
          "color": "#EB663B"
         },
         "mode": "markers",
         "name": "reweighing1 outcome",
         "showlegend": false,
         "type": "scatter",
         "x": [
          0.12499537772027708
         ],
         "xaxis": "x33",
         "y": [
          0.9121403172697766
         ],
         "yaxis": "y33"
        },
        {
         "error_x": {
          "array": [
           -0.0058110928811675455
          ],
          "type": "data"
         },
         "error_y": {
          "array": [
           -0.003390255268262865
          ],
          "type": "data"
         },
         "marker": {
          "color": "#511CFB"
         },
         "mode": "markers",
         "name": "calibrated equal odds using fpr cost1 outcome",
         "showlegend": false,
         "type": "scatter",
         "x": [
          0.18629912946334568
         ],
         "xaxis": "x33",
         "y": [
          0.9134096188259346
         ],
         "yaxis": "y33"
        },
        {
         "error_x": {
          "array": [
           -0.015798763472345344
          ],
          "type": "data"
         },
         "error_y": {
          "array": [
           -0.003949912444660697
          ],
          "type": "data"
         },
         "marker": {
          "color": "#00A08B"
         },
         "mode": "markers",
         "name": "calibrated equal odds using fnr cost1 outcome",
         "showlegend": false,
         "type": "scatter",
         "x": [
          0.1305233025677107
         ],
         "xaxis": "x33",
         "y": [
          0.9139214180006019
         ],
         "yaxis": "y33"
        },
        {
         "error_x": {
          "array": [
           -0.006067306794178967
          ],
          "type": "data"
         },
         "error_y": {
          "array": [
           -0.0032094535734297214
          ],
          "type": "data"
         },
         "marker": {
          "color": "#FB00D1"
         },
         "mode": "markers",
         "name": "calibrated equal odds using weighted cost1 outcome",
         "showlegend": false,
         "type": "scatter",
         "x": [
          0.18611984863480757
         ],
         "xaxis": "x33",
         "y": [
          0.9139819985661023
         ],
         "yaxis": "y33"
        },
        {
         "error_x": {
          "array": [
           -0.01593644325685055
          ],
          "type": "data"
         },
         "error_y": {
          "array": [
           -0.003961479950802982
          ],
          "type": "data"
         },
         "marker": {
          "color": "#FC0080"
         },
         "mode": "markers",
         "name": "equal odds1 outcome",
         "showlegend": false,
         "type": "scatter",
         "x": [
          0.10850568277284957
         ],
         "xaxis": "x33",
         "y": [
          0.9133843760759498
         ],
         "yaxis": "y33"
        },
        {
         "line": {
          "color": "#2E91E5"
         },
         "mode": "lines+markers+text",
         "name": "fairea baseline",
         "showlegend": false,
         "text": [
          "F_0",
          "F_10",
          "F_20",
          "F_30",
          "F_40",
          "F_50",
          "F_60",
          "F_70",
          "F_80",
          "F_90",
          "F_100"
         ],
         "textposition": "bottom right",
         "type": "scatter",
         "x": [
          0.13153366316698556,
          0.11865561466447005,
          0.10478255925418929,
          0.09185034906058193,
          0.07936776663277154,
          0.06552709097609065,
          0.052922554518159644,
          0.04006550536855555,
          0.02595754795230033,
          0.013092827447697897,
          0
         ],
         "xaxis": "x33",
         "y": [
          0.914197172186713,
          0.9089486260164346,
          0.903617372725874,
          0.8987327113101401,
          0.8940238894764652,
          0.8886301135301197,
          0.883762268481464,
          0.8792525551993681,
          0.8749048034578242,
          0.8704195640288899,
          0.8660676974508985
         ],
         "yaxis": "y33"
        },
        {
         "line": {
          "color": "#E15F99"
         },
         "mode": "lines+markers+text",
         "name": "fairea baseline",
         "showlegend": false,
         "text": [
          "F_0",
          "F_10",
          "F_20",
          "F_30",
          "F_40",
          "F_50",
          "F_60",
          "F_70",
          "F_80",
          "F_90",
          "F_100"
         ],
         "textposition": "bottom right",
         "type": "scatter",
         "x": [
          0.13153366316698556,
          0.11865561466447005,
          0.10478255925418929,
          0.09185034906058193,
          0.07936776663277154,
          0.06552709097609065,
          0.052922554518159644,
          0.04006550536855555,
          0.02595754795230033,
          0.013092827447697897,
          0
         ],
         "xaxis": "x33",
         "y": [
          0.914197172186713,
          0.9089486260164346,
          0.903617372725874,
          0.8987327113101401,
          0.8940238894764652,
          0.8886301135301197,
          0.883762268481464,
          0.8792525551993681,
          0.8749048034578242,
          0.8704195640288899,
          0.8660676974508985
         ],
         "yaxis": "y33"
        },
        {
         "error_x": {
          "array": [
           -0.05119168246872774
          ],
          "type": "data"
         },
         "error_y": {
          "array": [
           -0.00345576808400061
          ],
          "type": "data"
         },
         "marker": {
          "color": "#1CA71C"
         },
         "mode": "markers",
         "name": "reweighing outcome",
         "showlegend": false,
         "type": "scatter",
         "x": [
          0.05342657562783528
         ],
         "xaxis": "x34",
         "y": [
          0.9121403172697766
         ],
         "yaxis": "y34"
        },
        {
         "error_x": {
          "array": [
           -0.007515199373606174
          ],
          "type": "data"
         },
         "error_y": {
          "array": [
           -0.003390255268262865
          ],
          "type": "data"
         },
         "marker": {
          "color": "#FB0D0D"
         },
         "mode": "markers",
         "name": "calibrated equal odds using fpr cost outcome",
         "showlegend": false,
         "type": "scatter",
         "x": [
          0.3215720657854554
         ],
         "xaxis": "x34",
         "y": [
          0.9134096188259346
         ],
         "yaxis": "y34"
        },
        {
         "error_x": {
          "array": [
           -0.05750649047104506
          ],
          "type": "data"
         },
         "error_y": {
          "array": [
           -0.003949912444660697
          ],
          "type": "data"
         },
         "marker": {
          "color": "#DA16FF"
         },
         "mode": "markers",
         "name": "calibrated equal odds using fnr cost outcome",
         "showlegend": false,
         "type": "scatter",
         "x": [
          0.06632829996391733
         ],
         "xaxis": "x34",
         "y": [
          0.9139214180006019
         ],
         "yaxis": "y34"
        },
        {
         "error_x": {
          "array": [
           -0.0081686742075181
          ],
          "type": "data"
         },
         "error_y": {
          "array": [
           -0.0032094535734297214
          ],
          "type": "data"
         },
         "marker": {
          "color": "#222A2A"
         },
         "mode": "markers",
         "name": "calibrated equal odds using weighted cost outcome",
         "showlegend": false,
         "type": "scatter",
         "x": [
          0.32217538473254104
         ],
         "xaxis": "x34",
         "y": [
          0.9139819985661023
         ],
         "yaxis": "y34"
        },
        {
         "error_x": {
          "array": [
           -0.05116030035124883
          ],
          "type": "data"
         },
         "error_y": {
          "array": [
           -0.003961479950802982
          ],
          "type": "data"
         },
         "marker": {
          "color": "#B68100"
         },
         "mode": "markers",
         "name": "equal odds outcome",
         "showlegend": false,
         "type": "scatter",
         "x": [
          0.04713176194826316
         ],
         "xaxis": "x34",
         "y": [
          0.9133843760759498
         ],
         "yaxis": "y34"
        },
        {
         "error_x": {
          "array": [
           -0.054902255237186975
          ],
          "type": "data"
         },
         "error_y": {
          "array": [
           -0.0036938277267219988
          ],
          "type": "data"
         },
         "marker": {
          "color": "#750D86"
         },
         "mode": "markers",
         "name": "no debiasing1 outcome",
         "showlegend": false,
         "type": "scatter",
         "x": [
          0.06987733249735525
         ],
         "xaxis": "x34",
         "y": [
          0.9143142652118048
         ],
         "yaxis": "y34"
        },
        {
         "error_x": {
          "array": [
           -0.05119168246872774
          ],
          "type": "data"
         },
         "error_y": {
          "array": [
           -0.00345576808400061
          ],
          "type": "data"
         },
         "marker": {
          "color": "#EB663B"
         },
         "mode": "markers",
         "name": "reweighing1 outcome",
         "showlegend": false,
         "type": "scatter",
         "x": [
          0.05342657562783528
         ],
         "xaxis": "x34",
         "y": [
          0.9121403172697766
         ],
         "yaxis": "y34"
        },
        {
         "error_x": {
          "array": [
           -0.007515199373606174
          ],
          "type": "data"
         },
         "error_y": {
          "array": [
           -0.003390255268262865
          ],
          "type": "data"
         },
         "marker": {
          "color": "#511CFB"
         },
         "mode": "markers",
         "name": "calibrated equal odds using fpr cost1 outcome",
         "showlegend": false,
         "type": "scatter",
         "x": [
          0.3215720657854554
         ],
         "xaxis": "x34",
         "y": [
          0.9134096188259346
         ],
         "yaxis": "y34"
        },
        {
         "error_x": {
          "array": [
           -0.05750649047104506
          ],
          "type": "data"
         },
         "error_y": {
          "array": [
           -0.003949912444660697
          ],
          "type": "data"
         },
         "marker": {
          "color": "#00A08B"
         },
         "mode": "markers",
         "name": "calibrated equal odds using fnr cost1 outcome",
         "showlegend": false,
         "type": "scatter",
         "x": [
          0.06632829996391733
         ],
         "xaxis": "x34",
         "y": [
          0.9139214180006019
         ],
         "yaxis": "y34"
        },
        {
         "error_x": {
          "array": [
           -0.0081686742075181
          ],
          "type": "data"
         },
         "error_y": {
          "array": [
           -0.0032094535734297214
          ],
          "type": "data"
         },
         "marker": {
          "color": "#FB00D1"
         },
         "mode": "markers",
         "name": "calibrated equal odds using weighted cost1 outcome",
         "showlegend": false,
         "type": "scatter",
         "x": [
          0.32217538473254104
         ],
         "xaxis": "x34",
         "y": [
          0.9139819985661023
         ],
         "yaxis": "y34"
        },
        {
         "error_x": {
          "array": [
           -0.05116030035124883
          ],
          "type": "data"
         },
         "error_y": {
          "array": [
           -0.003961479950802982
          ],
          "type": "data"
         },
         "marker": {
          "color": "#FC0080"
         },
         "mode": "markers",
         "name": "equal odds1 outcome",
         "showlegend": false,
         "type": "scatter",
         "x": [
          0.04713176194826316
         ],
         "xaxis": "x34",
         "y": [
          0.9133843760759498
         ],
         "yaxis": "y34"
        },
        {
         "line": {
          "color": "#2E91E5"
         },
         "mode": "lines+markers+text",
         "name": "fairea baseline",
         "showlegend": false,
         "text": [
          "F_0",
          "F_10",
          "F_20",
          "F_30",
          "F_40",
          "F_50",
          "F_60",
          "F_70",
          "F_80",
          "F_90",
          "F_100"
         ],
         "textposition": "bottom right",
         "type": "scatter",
         "x": [
          0.0685830084977357,
          0.06369214478216093,
          0.05425564155486756,
          0.047239814974495246,
          0.039782283016360095,
          0.0326926823253849,
          0.03263965157390147,
          0.026984230604227673,
          0.019297769082038327,
          0.011059326583565933,
          0
         ],
         "xaxis": "x34",
         "y": [
          0.914197172186713,
          0.9089486260164346,
          0.903617372725874,
          0.8987327113101401,
          0.8940238894764652,
          0.8886301135301197,
          0.883762268481464,
          0.8792525551993681,
          0.8749048034578242,
          0.8704195640288899,
          0.8660676974508985
         ],
         "yaxis": "y34"
        },
        {
         "line": {
          "color": "#E15F99"
         },
         "mode": "lines+markers+text",
         "name": "fairea baseline",
         "showlegend": false,
         "text": [
          "F_0",
          "F_10",
          "F_20",
          "F_30",
          "F_40",
          "F_50",
          "F_60",
          "F_70",
          "F_80",
          "F_90",
          "F_100"
         ],
         "textposition": "bottom right",
         "type": "scatter",
         "x": [
          0.0685830084977357,
          0.06369214478216093,
          0.05425564155486756,
          0.047239814974495246,
          0.039782283016360095,
          0.0326926823253849,
          0.03263965157390147,
          0.026984230604227673,
          0.019297769082038327,
          0.011059326583565933,
          0
         ],
         "xaxis": "x34",
         "y": [
          0.914197172186713,
          0.9089486260164346,
          0.903617372725874,
          0.8987327113101401,
          0.8940238894764652,
          0.8886301135301197,
          0.883762268481464,
          0.8792525551993681,
          0.8749048034578242,
          0.8704195640288899,
          0.8660676974508985
         ],
         "yaxis": "y34"
        },
        {
         "error_x": {
          "array": [
           -0.1014136852908333
          ],
          "type": "data"
         },
         "error_y": {
          "array": [
           -0.00345576808400061
          ],
          "type": "data"
         },
         "marker": {
          "color": "#1CA71C"
         },
         "mode": "markers",
         "name": "reweighing outcome",
         "showlegend": false,
         "type": "scatter",
         "x": [
          0.07628445237040411
         ],
         "xaxis": "x35",
         "y": [
          0.9121403172697766
         ],
         "yaxis": "y35"
        },
        {
         "error_x": {
          "array": [
           -0.014474828632257575
          ],
          "type": "data"
         },
         "error_y": {
          "array": [
           -0.003390255268262865
          ],
          "type": "data"
         },
         "marker": {
          "color": "#FB0D0D"
         },
         "mode": "markers",
         "name": "calibrated equal odds using fpr cost outcome",
         "showlegend": false,
         "type": "scatter",
         "x": [
          0.5896589324327605
         ],
         "xaxis": "x35",
         "y": [
          0.9134096188259346
         ],
         "yaxis": "y35"
        },
        {
         "error_x": {
          "array": [
           -0.11537876468176798
          ],
          "type": "data"
         },
         "error_y": {
          "array": [
           -0.003949912444660697
          ],
          "type": "data"
         },
         "marker": {
          "color": "#DA16FF"
         },
         "mode": "markers",
         "name": "calibrated equal odds using fnr cost outcome",
         "showlegend": false,
         "type": "scatter",
         "x": [
          0.1001192439079641
         ],
         "xaxis": "x35",
         "y": [
          0.9139214180006019
         ],
         "yaxis": "y35"
        },
        {
         "error_x": {
          "array": [
           -0.015375522322629398
          ],
          "type": "data"
         },
         "error_y": {
          "array": [
           -0.0032094535734297214
          ],
          "type": "data"
         },
         "marker": {
          "color": "#222A2A"
         },
         "mode": "markers",
         "name": "calibrated equal odds using weighted cost outcome",
         "showlegend": false,
         "type": "scatter",
         "x": [
          0.5911256890019798
         ],
         "xaxis": "x35",
         "y": [
          0.9139819985661023
         ],
         "yaxis": "y35"
        },
        {
         "error_x": {
          "array": [
           -0.10168023853468197
          ],
          "type": "data"
         },
         "error_y": {
          "array": [
           -0.003961479950802982
          ],
          "type": "data"
         },
         "marker": {
          "color": "#B68100"
         },
         "mode": "markers",
         "name": "equal odds outcome",
         "showlegend": false,
         "type": "scatter",
         "x": [
          0.08342364473014083
         ],
         "xaxis": "x35",
         "y": [
          0.9133843760759498
         ],
         "yaxis": "y35"
        },
        {
         "error_x": {
          "array": [
           -0.10947160334109615
          ],
          "type": "data"
         },
         "error_y": {
          "array": [
           -0.0036938277267219988
          ],
          "type": "data"
         },
         "marker": {
          "color": "#750D86"
         },
         "mode": "markers",
         "name": "no debiasing1 outcome",
         "showlegend": false,
         "type": "scatter",
         "x": [
          0.10654127028663493
         ],
         "xaxis": "x35",
         "y": [
          0.9143142652118048
         ],
         "yaxis": "y35"
        },
        {
         "error_x": {
          "array": [
           -0.1014136852908333
          ],
          "type": "data"
         },
         "error_y": {
          "array": [
           -0.00345576808400061
          ],
          "type": "data"
         },
         "marker": {
          "color": "#EB663B"
         },
         "mode": "markers",
         "name": "reweighing1 outcome",
         "showlegend": false,
         "type": "scatter",
         "x": [
          0.07628445237040411
         ],
         "xaxis": "x35",
         "y": [
          0.9121403172697766
         ],
         "yaxis": "y35"
        },
        {
         "error_x": {
          "array": [
           -0.014474828632257575
          ],
          "type": "data"
         },
         "error_y": {
          "array": [
           -0.003390255268262865
          ],
          "type": "data"
         },
         "marker": {
          "color": "#511CFB"
         },
         "mode": "markers",
         "name": "calibrated equal odds using fpr cost1 outcome",
         "showlegend": false,
         "type": "scatter",
         "x": [
          0.5896589324327605
         ],
         "xaxis": "x35",
         "y": [
          0.9134096188259346
         ],
         "yaxis": "y35"
        },
        {
         "error_x": {
          "array": [
           -0.11537876468176798
          ],
          "type": "data"
         },
         "error_y": {
          "array": [
           -0.003949912444660697
          ],
          "type": "data"
         },
         "marker": {
          "color": "#00A08B"
         },
         "mode": "markers",
         "name": "calibrated equal odds using fnr cost1 outcome",
         "showlegend": false,
         "type": "scatter",
         "x": [
          0.1001192439079641
         ],
         "xaxis": "x35",
         "y": [
          0.9139214180006019
         ],
         "yaxis": "y35"
        },
        {
         "error_x": {
          "array": [
           -0.015375522322629398
          ],
          "type": "data"
         },
         "error_y": {
          "array": [
           -0.0032094535734297214
          ],
          "type": "data"
         },
         "marker": {
          "color": "#FB00D1"
         },
         "mode": "markers",
         "name": "calibrated equal odds using weighted cost1 outcome",
         "showlegend": false,
         "type": "scatter",
         "x": [
          0.5911256890019798
         ],
         "xaxis": "x35",
         "y": [
          0.9139819985661023
         ],
         "yaxis": "y35"
        },
        {
         "error_x": {
          "array": [
           -0.10168023853468197
          ],
          "type": "data"
         },
         "error_y": {
          "array": [
           -0.003961479950802982
          ],
          "type": "data"
         },
         "marker": {
          "color": "#FC0080"
         },
         "mode": "markers",
         "name": "equal odds1 outcome",
         "showlegend": false,
         "type": "scatter",
         "x": [
          0.08342364473014083
         ],
         "xaxis": "x35",
         "y": [
          0.9133843760759498
         ],
         "yaxis": "y35"
        },
        {
         "line": {
          "color": "#2E91E5"
         },
         "mode": "lines+markers+text",
         "name": "fairea baseline",
         "showlegend": false,
         "text": [
          "F_0",
          "F_10",
          "F_20",
          "F_30",
          "F_40",
          "F_50",
          "F_60",
          "F_70",
          "F_80",
          "F_90",
          "F_100"
         ],
         "textposition": "bottom right",
         "type": "scatter",
         "x": [
          0.10440457908697472,
          0.09803769370375542,
          0.08252631578947367,
          0.07163758201870724,
          0.05932360742705571,
          0.04852882870305738,
          0.051689515566103586,
          0.04384629345246404,
          0.03196481920982829,
          0.018721485411140586,
          0
         ],
         "xaxis": "x35",
         "y": [
          0.914197172186713,
          0.9089486260164346,
          0.903617372725874,
          0.8987327113101401,
          0.8940238894764652,
          0.8886301135301197,
          0.883762268481464,
          0.8792525551993681,
          0.8749048034578242,
          0.8704195640288899,
          0.8660676974508985
         ],
         "yaxis": "y35"
        },
        {
         "line": {
          "color": "#E15F99"
         },
         "mode": "lines+markers+text",
         "name": "fairea baseline",
         "showlegend": false,
         "text": [
          "F_0",
          "F_10",
          "F_20",
          "F_30",
          "F_40",
          "F_50",
          "F_60",
          "F_70",
          "F_80",
          "F_90",
          "F_100"
         ],
         "textposition": "bottom right",
         "type": "scatter",
         "x": [
          0.10440457908697472,
          0.09803769370375542,
          0.08252631578947367,
          0.07163758201870724,
          0.05932360742705571,
          0.04852882870305738,
          0.051689515566103586,
          0.04384629345246404,
          0.03196481920982829,
          0.018721485411140586,
          0
         ],
         "xaxis": "x35",
         "y": [
          0.914197172186713,
          0.9089486260164346,
          0.903617372725874,
          0.8987327113101401,
          0.8940238894764652,
          0.8886301135301197,
          0.883762268481464,
          0.8792525551993681,
          0.8749048034578242,
          0.8704195640288899,
          0.8660676974508985
         ],
         "yaxis": "y35"
        },
        {
         "error_x": {
          "array": [
           -0.012954617921213399
          ],
          "type": "data"
         },
         "error_y": {
          "array": [
           -0.00345576808400061
          ],
          "type": "data"
         },
         "marker": {
          "color": "#1CA71C"
         },
         "mode": "markers",
         "name": "reweighing outcome",
         "showlegend": false,
         "type": "scatter",
         "x": [
          0.08512966543149375
         ],
         "xaxis": "x36",
         "y": [
          0.9121403172697766
         ],
         "yaxis": "y36"
        },
        {
         "error_x": {
          "array": [
           -0.01673170986549556
          ],
          "type": "data"
         },
         "error_y": {
          "array": [
           -0.003390255268262865
          ],
          "type": "data"
         },
         "marker": {
          "color": "#FB0D0D"
         },
         "mode": "markers",
         "name": "calibrated equal odds using fpr cost outcome",
         "showlegend": false,
         "type": "scatter",
         "x": [
          0.06786599402009061
         ],
         "xaxis": "x36",
         "y": [
          0.9134096188259346
         ],
         "yaxis": "y36"
        },
        {
         "error_x": {
          "array": [
           -0.01484884783771774
          ],
          "type": "data"
         },
         "error_y": {
          "array": [
           -0.003949912444660697
          ],
          "type": "data"
         },
         "marker": {
          "color": "#DA16FF"
         },
         "mode": "markers",
         "name": "calibrated equal odds using fnr cost outcome",
         "showlegend": false,
         "type": "scatter",
         "x": [
          0.08550626235703675
         ],
         "xaxis": "x36",
         "y": [
          0.9139214180006019
         ],
         "yaxis": "y36"
        },
        {
         "error_x": {
          "array": [
           -0.018091225193089536
          ],
          "type": "data"
         },
         "error_y": {
          "array": [
           -0.0032094535734297214
          ],
          "type": "data"
         },
         "marker": {
          "color": "#222A2A"
         },
         "mode": "markers",
         "name": "calibrated equal odds using weighted cost outcome",
         "showlegend": false,
         "type": "scatter",
         "x": [
          0.06829081163739964
         ],
         "xaxis": "x36",
         "y": [
          0.9139819985661023
         ],
         "yaxis": "y36"
        },
        {
         "error_x": {
          "array": [
           -0.017161535511095935
          ],
          "type": "data"
         },
         "error_y": {
          "array": [
           -0.003961479950802982
          ],
          "type": "data"
         },
         "marker": {
          "color": "#B68100"
         },
         "mode": "markers",
         "name": "equal odds outcome",
         "showlegend": false,
         "type": "scatter",
         "x": [
          0.06484613527683707
         ],
         "xaxis": "x36",
         "y": [
          0.9133843760759498
         ],
         "yaxis": "y36"
        },
        {
         "error_x": {
          "array": [
           -0.015400651985634853
          ],
          "type": "data"
         },
         "error_y": {
          "array": [
           -0.0036938277267219988
          ],
          "type": "data"
         },
         "marker": {
          "color": "#750D86"
         },
         "mode": "markers",
         "name": "no debiasing1 outcome",
         "showlegend": false,
         "type": "scatter",
         "x": [
          0.08496780546821205
         ],
         "xaxis": "x36",
         "y": [
          0.9143142652118048
         ],
         "yaxis": "y36"
        },
        {
         "error_x": {
          "array": [
           -0.012954617921213399
          ],
          "type": "data"
         },
         "error_y": {
          "array": [
           -0.00345576808400061
          ],
          "type": "data"
         },
         "marker": {
          "color": "#EB663B"
         },
         "mode": "markers",
         "name": "reweighing1 outcome",
         "showlegend": false,
         "type": "scatter",
         "x": [
          0.08512966543149375
         ],
         "xaxis": "x36",
         "y": [
          0.9121403172697766
         ],
         "yaxis": "y36"
        },
        {
         "error_x": {
          "array": [
           -0.01673170986549556
          ],
          "type": "data"
         },
         "error_y": {
          "array": [
           -0.003390255268262865
          ],
          "type": "data"
         },
         "marker": {
          "color": "#511CFB"
         },
         "mode": "markers",
         "name": "calibrated equal odds using fpr cost1 outcome",
         "showlegend": false,
         "type": "scatter",
         "x": [
          0.06786599402009061
         ],
         "xaxis": "x36",
         "y": [
          0.9134096188259346
         ],
         "yaxis": "y36"
        },
        {
         "error_x": {
          "array": [
           -0.01484884783771774
          ],
          "type": "data"
         },
         "error_y": {
          "array": [
           -0.003949912444660697
          ],
          "type": "data"
         },
         "marker": {
          "color": "#00A08B"
         },
         "mode": "markers",
         "name": "calibrated equal odds using fnr cost1 outcome",
         "showlegend": false,
         "type": "scatter",
         "x": [
          0.08550626235703675
         ],
         "xaxis": "x36",
         "y": [
          0.9139214180006019
         ],
         "yaxis": "y36"
        },
        {
         "error_x": {
          "array": [
           -0.018091225193089536
          ],
          "type": "data"
         },
         "error_y": {
          "array": [
           -0.0032094535734297214
          ],
          "type": "data"
         },
         "marker": {
          "color": "#FB00D1"
         },
         "mode": "markers",
         "name": "calibrated equal odds using weighted cost1 outcome",
         "showlegend": false,
         "type": "scatter",
         "x": [
          0.06829081163739964
         ],
         "xaxis": "x36",
         "y": [
          0.9139819985661023
         ],
         "yaxis": "y36"
        },
        {
         "error_x": {
          "array": [
           -0.017161535511095935
          ],
          "type": "data"
         },
         "error_y": {
          "array": [
           -0.003961479950802982
          ],
          "type": "data"
         },
         "marker": {
          "color": "#FC0080"
         },
         "mode": "markers",
         "name": "equal odds1 outcome",
         "showlegend": false,
         "type": "scatter",
         "x": [
          0.06484613527683707
         ],
         "xaxis": "x36",
         "y": [
          0.9133843760759498
         ],
         "yaxis": "y36"
        },
        {
         "line": {
          "color": "#2E91E5"
         },
         "mode": "lines+markers+text",
         "name": "fairea baseline",
         "showlegend": false,
         "text": [
          "F_0",
          "F_10",
          "F_20",
          "F_30",
          "F_40",
          "F_50",
          "F_60",
          "F_70",
          "F_80",
          "F_90",
          "F_100"
         ],
         "textposition": "bottom right",
         "type": "scatter",
         "x": [
          0.08447361056413193,
          0.09287042020233229,
          0.10241481794777955,
          0.1114273380347503,
          0.12097984274861938,
          0.13016040704528734,
          0.1386660871150868,
          0.1470059289013044,
          0.15651007545989506,
          0.16525117799240463,
          0.17393512145889978
         ],
         "xaxis": "x36",
         "y": [
          0.914197172186713,
          0.9089486260164346,
          0.903617372725874,
          0.8987327113101401,
          0.8940238894764652,
          0.8886301135301197,
          0.883762268481464,
          0.8792525551993681,
          0.8749048034578242,
          0.8704195640288899,
          0.8660676974508985
         ],
         "yaxis": "y36"
        },
        {
         "line": {
          "color": "#E15F99"
         },
         "mode": "lines+markers+text",
         "name": "fairea baseline",
         "showlegend": false,
         "text": [
          "F_0",
          "F_10",
          "F_20",
          "F_30",
          "F_40",
          "F_50",
          "F_60",
          "F_70",
          "F_80",
          "F_90",
          "F_100"
         ],
         "textposition": "bottom right",
         "type": "scatter",
         "x": [
          0.08447361056413193,
          0.09287042020233229,
          0.10241481794777955,
          0.1114273380347503,
          0.12097984274861938,
          0.13016040704528734,
          0.1386660871150868,
          0.1470059289013044,
          0.15651007545989506,
          0.16525117799240463,
          0.17393512145889978
         ],
         "xaxis": "x36",
         "y": [
          0.914197172186713,
          0.9089486260164346,
          0.903617372725874,
          0.8987327113101401,
          0.8940238894764652,
          0.8886301135301197,
          0.883762268481464,
          0.8792525551993681,
          0.8749048034578242,
          0.8704195640288899,
          0.8660676974508985
         ],
         "yaxis": "y36"
        },
        {
         "error_x": {
          "array": [
           -0.014669125690659417
          ],
          "type": "data"
         },
         "error_y": {
          "array": [
           -0.008571358725543154
          ],
          "type": "data"
         },
         "marker": {
          "color": "#1CA71C"
         },
         "mode": "markers",
         "name": "reweighing outcome",
         "showlegend": false,
         "type": "scatter",
         "x": [
          0.12499537772027708
         ],
         "xaxis": "x37",
         "y": [
          0.7882154688762161
         ],
         "yaxis": "y37"
        },
        {
         "error_x": {
          "array": [
           -0.0058110928811675455
          ],
          "type": "data"
         },
         "error_y": {
          "array": [
           -0.0070709205917428575
          ],
          "type": "data"
         },
         "marker": {
          "color": "#FB0D0D"
         },
         "mode": "markers",
         "name": "calibrated equal odds using fpr cost outcome",
         "showlegend": false,
         "type": "scatter",
         "x": [
          0.18629912946334568
         ],
         "xaxis": "x37",
         "y": [
          0.7893854450315816
         ],
         "yaxis": "y37"
        },
        {
         "error_x": {
          "array": [
           -0.015798763472345344
          ],
          "type": "data"
         },
         "error_y": {
          "array": [
           -0.008280131222414333
          ],
          "type": "data"
         },
         "marker": {
          "color": "#DA16FF"
         },
         "mode": "markers",
         "name": "calibrated equal odds using fnr cost outcome",
         "showlegend": false,
         "type": "scatter",
         "x": [
          0.1305233025677107
         ],
         "xaxis": "x37",
         "y": [
          0.7917180145124323
         ],
         "yaxis": "y37"
        },
        {
         "error_x": {
          "array": [
           -0.006067306794178967
          ],
          "type": "data"
         },
         "error_y": {
          "array": [
           -0.007252402635355093
          ],
          "type": "data"
         },
         "marker": {
          "color": "#222A2A"
         },
         "mode": "markers",
         "name": "calibrated equal odds using weighted cost outcome",
         "showlegend": false,
         "type": "scatter",
         "x": [
          0.18611984863480757
         ],
         "xaxis": "x37",
         "y": [
          0.790305884347563
         ],
         "yaxis": "y37"
        },
        {
         "error_x": {
          "array": [
           -0.01593644325685055
          ],
          "type": "data"
         },
         "error_y": {
          "array": [
           -0.007915428806947955
          ],
          "type": "data"
         },
         "marker": {
          "color": "#B68100"
         },
         "mode": "markers",
         "name": "equal odds outcome",
         "showlegend": false,
         "type": "scatter",
         "x": [
          0.10850568277284957
         ],
         "xaxis": "x37",
         "y": [
          0.7917164006738326
         ],
         "yaxis": "y37"
        },
        {
         "error_x": {
          "array": [
           -0.01452861216709151
          ],
          "type": "data"
         },
         "error_y": {
          "array": [
           -0.007424464933905139
          ],
          "type": "data"
         },
         "marker": {
          "color": "#750D86"
         },
         "mode": "markers",
         "name": "no debiasing1 outcome",
         "showlegend": false,
         "type": "scatter",
         "x": [
          0.13198511125782697
         ],
         "xaxis": "x37",
         "y": [
          0.792996196780938
         ],
         "yaxis": "y37"
        },
        {
         "error_x": {
          "array": [
           -0.014669125690659417
          ],
          "type": "data"
         },
         "error_y": {
          "array": [
           -0.008571358725543154
          ],
          "type": "data"
         },
         "marker": {
          "color": "#EB663B"
         },
         "mode": "markers",
         "name": "reweighing1 outcome",
         "showlegend": false,
         "type": "scatter",
         "x": [
          0.12499537772027708
         ],
         "xaxis": "x37",
         "y": [
          0.7882154688762161
         ],
         "yaxis": "y37"
        },
        {
         "error_x": {
          "array": [
           -0.0058110928811675455
          ],
          "type": "data"
         },
         "error_y": {
          "array": [
           -0.0070709205917428575
          ],
          "type": "data"
         },
         "marker": {
          "color": "#511CFB"
         },
         "mode": "markers",
         "name": "calibrated equal odds using fpr cost1 outcome",
         "showlegend": false,
         "type": "scatter",
         "x": [
          0.18629912946334568
         ],
         "xaxis": "x37",
         "y": [
          0.7893854450315816
         ],
         "yaxis": "y37"
        },
        {
         "error_x": {
          "array": [
           -0.015798763472345344
          ],
          "type": "data"
         },
         "error_y": {
          "array": [
           -0.008280131222414333
          ],
          "type": "data"
         },
         "marker": {
          "color": "#00A08B"
         },
         "mode": "markers",
         "name": "calibrated equal odds using fnr cost1 outcome",
         "showlegend": false,
         "type": "scatter",
         "x": [
          0.1305233025677107
         ],
         "xaxis": "x37",
         "y": [
          0.7917180145124323
         ],
         "yaxis": "y37"
        },
        {
         "error_x": {
          "array": [
           -0.006067306794178967
          ],
          "type": "data"
         },
         "error_y": {
          "array": [
           -0.007252402635355093
          ],
          "type": "data"
         },
         "marker": {
          "color": "#FB00D1"
         },
         "mode": "markers",
         "name": "calibrated equal odds using weighted cost1 outcome",
         "showlegend": false,
         "type": "scatter",
         "x": [
          0.18611984863480757
         ],
         "xaxis": "x37",
         "y": [
          0.790305884347563
         ],
         "yaxis": "y37"
        },
        {
         "error_x": {
          "array": [
           -0.01593644325685055
          ],
          "type": "data"
         },
         "error_y": {
          "array": [
           -0.007915428806947955
          ],
          "type": "data"
         },
         "marker": {
          "color": "#FC0080"
         },
         "mode": "markers",
         "name": "equal odds1 outcome",
         "showlegend": false,
         "type": "scatter",
         "x": [
          0.10850568277284957
         ],
         "xaxis": "x37",
         "y": [
          0.7917164006738326
         ],
         "yaxis": "y37"
        },
        {
         "line": {
          "color": "#2E91E5"
         },
         "mode": "lines+markers+text",
         "name": "fairea baseline",
         "showlegend": false,
         "text": [
          "F_0",
          "F_10",
          "F_20",
          "F_30",
          "F_40",
          "F_50",
          "F_60",
          "F_70",
          "F_80",
          "F_90",
          "F_100"
         ],
         "textposition": "bottom right",
         "type": "scatter",
         "x": [
          0.13153366316698556,
          0.11865561466447005,
          0.10478255925418929,
          0.09185034906058193,
          0.07936776663277154,
          0.06552709097609065,
          0.052922554518159644,
          0.04006550536855555,
          0.02595754795230033,
          0.013092827447697897,
          0
         ],
         "xaxis": "x37",
         "y": [
          0.7929515577844785,
          0.7705175159435903,
          0.7453563146556534,
          0.7193241750492315,
          0.6912248930023354,
          0.6579949601604272,
          0.6215552391830997,
          0.5827466480907258,
          0.5400760308890047,
          0.48992397272412097,
          0.43303384872544926
         ],
         "yaxis": "y37"
        },
        {
         "line": {
          "color": "#E15F99"
         },
         "mode": "lines+markers+text",
         "name": "fairea baseline",
         "showlegend": false,
         "text": [
          "F_0",
          "F_10",
          "F_20",
          "F_30",
          "F_40",
          "F_50",
          "F_60",
          "F_70",
          "F_80",
          "F_90",
          "F_100"
         ],
         "textposition": "bottom right",
         "type": "scatter",
         "x": [
          0.13153366316698556,
          0.11865561466447005,
          0.10478255925418929,
          0.09185034906058193,
          0.07936776663277154,
          0.06552709097609065,
          0.052922554518159644,
          0.04006550536855555,
          0.02595754795230033,
          0.013092827447697897,
          0
         ],
         "xaxis": "x37",
         "y": [
          0.7929515577844785,
          0.7705175159435903,
          0.7453563146556534,
          0.7193241750492315,
          0.6912248930023354,
          0.6579949601604272,
          0.6215552391830997,
          0.5827466480907258,
          0.5400760308890047,
          0.48992397272412097,
          0.43303384872544926
         ],
         "yaxis": "y37"
        },
        {
         "error_x": {
          "array": [
           -0.05119168246872774
          ],
          "type": "data"
         },
         "error_y": {
          "array": [
           -0.008571358725543154
          ],
          "type": "data"
         },
         "marker": {
          "color": "#1CA71C"
         },
         "mode": "markers",
         "name": "reweighing outcome",
         "showlegend": false,
         "type": "scatter",
         "x": [
          0.05342657562783528
         ],
         "xaxis": "x38",
         "y": [
          0.7882154688762161
         ],
         "yaxis": "y38"
        },
        {
         "error_x": {
          "array": [
           -0.007515199373606174
          ],
          "type": "data"
         },
         "error_y": {
          "array": [
           -0.0070709205917428575
          ],
          "type": "data"
         },
         "marker": {
          "color": "#FB0D0D"
         },
         "mode": "markers",
         "name": "calibrated equal odds using fpr cost outcome",
         "showlegend": false,
         "type": "scatter",
         "x": [
          0.3215720657854554
         ],
         "xaxis": "x38",
         "y": [
          0.7893854450315816
         ],
         "yaxis": "y38"
        },
        {
         "error_x": {
          "array": [
           -0.05750649047104506
          ],
          "type": "data"
         },
         "error_y": {
          "array": [
           -0.008280131222414333
          ],
          "type": "data"
         },
         "marker": {
          "color": "#DA16FF"
         },
         "mode": "markers",
         "name": "calibrated equal odds using fnr cost outcome",
         "showlegend": false,
         "type": "scatter",
         "x": [
          0.06632829996391733
         ],
         "xaxis": "x38",
         "y": [
          0.7917180145124323
         ],
         "yaxis": "y38"
        },
        {
         "error_x": {
          "array": [
           -0.0081686742075181
          ],
          "type": "data"
         },
         "error_y": {
          "array": [
           -0.007252402635355093
          ],
          "type": "data"
         },
         "marker": {
          "color": "#222A2A"
         },
         "mode": "markers",
         "name": "calibrated equal odds using weighted cost outcome",
         "showlegend": false,
         "type": "scatter",
         "x": [
          0.32217538473254104
         ],
         "xaxis": "x38",
         "y": [
          0.790305884347563
         ],
         "yaxis": "y38"
        },
        {
         "error_x": {
          "array": [
           -0.05116030035124883
          ],
          "type": "data"
         },
         "error_y": {
          "array": [
           -0.007915428806947955
          ],
          "type": "data"
         },
         "marker": {
          "color": "#B68100"
         },
         "mode": "markers",
         "name": "equal odds outcome",
         "showlegend": false,
         "type": "scatter",
         "x": [
          0.04713176194826316
         ],
         "xaxis": "x38",
         "y": [
          0.7917164006738326
         ],
         "yaxis": "y38"
        },
        {
         "error_x": {
          "array": [
           -0.054902255237186975
          ],
          "type": "data"
         },
         "error_y": {
          "array": [
           -0.007424464933905139
          ],
          "type": "data"
         },
         "marker": {
          "color": "#750D86"
         },
         "mode": "markers",
         "name": "no debiasing1 outcome",
         "showlegend": false,
         "type": "scatter",
         "x": [
          0.06987733249735525
         ],
         "xaxis": "x38",
         "y": [
          0.792996196780938
         ],
         "yaxis": "y38"
        },
        {
         "error_x": {
          "array": [
           -0.05119168246872774
          ],
          "type": "data"
         },
         "error_y": {
          "array": [
           -0.008571358725543154
          ],
          "type": "data"
         },
         "marker": {
          "color": "#EB663B"
         },
         "mode": "markers",
         "name": "reweighing1 outcome",
         "showlegend": false,
         "type": "scatter",
         "x": [
          0.05342657562783528
         ],
         "xaxis": "x38",
         "y": [
          0.7882154688762161
         ],
         "yaxis": "y38"
        },
        {
         "error_x": {
          "array": [
           -0.007515199373606174
          ],
          "type": "data"
         },
         "error_y": {
          "array": [
           -0.0070709205917428575
          ],
          "type": "data"
         },
         "marker": {
          "color": "#511CFB"
         },
         "mode": "markers",
         "name": "calibrated equal odds using fpr cost1 outcome",
         "showlegend": false,
         "type": "scatter",
         "x": [
          0.3215720657854554
         ],
         "xaxis": "x38",
         "y": [
          0.7893854450315816
         ],
         "yaxis": "y38"
        },
        {
         "error_x": {
          "array": [
           -0.05750649047104506
          ],
          "type": "data"
         },
         "error_y": {
          "array": [
           -0.008280131222414333
          ],
          "type": "data"
         },
         "marker": {
          "color": "#00A08B"
         },
         "mode": "markers",
         "name": "calibrated equal odds using fnr cost1 outcome",
         "showlegend": false,
         "type": "scatter",
         "x": [
          0.06632829996391733
         ],
         "xaxis": "x38",
         "y": [
          0.7917180145124323
         ],
         "yaxis": "y38"
        },
        {
         "error_x": {
          "array": [
           -0.0081686742075181
          ],
          "type": "data"
         },
         "error_y": {
          "array": [
           -0.007252402635355093
          ],
          "type": "data"
         },
         "marker": {
          "color": "#FB00D1"
         },
         "mode": "markers",
         "name": "calibrated equal odds using weighted cost1 outcome",
         "showlegend": false,
         "type": "scatter",
         "x": [
          0.32217538473254104
         ],
         "xaxis": "x38",
         "y": [
          0.790305884347563
         ],
         "yaxis": "y38"
        },
        {
         "error_x": {
          "array": [
           -0.05116030035124883
          ],
          "type": "data"
         },
         "error_y": {
          "array": [
           -0.007915428806947955
          ],
          "type": "data"
         },
         "marker": {
          "color": "#FC0080"
         },
         "mode": "markers",
         "name": "equal odds1 outcome",
         "showlegend": false,
         "type": "scatter",
         "x": [
          0.04713176194826316
         ],
         "xaxis": "x38",
         "y": [
          0.7917164006738326
         ],
         "yaxis": "y38"
        },
        {
         "line": {
          "color": "#2E91E5"
         },
         "mode": "lines+markers+text",
         "name": "fairea baseline",
         "showlegend": false,
         "text": [
          "F_0",
          "F_10",
          "F_20",
          "F_30",
          "F_40",
          "F_50",
          "F_60",
          "F_70",
          "F_80",
          "F_90",
          "F_100"
         ],
         "textposition": "bottom right",
         "type": "scatter",
         "x": [
          0.0685830084977357,
          0.06369214478216093,
          0.05425564155486756,
          0.047239814974495246,
          0.039782283016360095,
          0.0326926823253849,
          0.03263965157390147,
          0.026984230604227673,
          0.019297769082038327,
          0.011059326583565933,
          0
         ],
         "xaxis": "x38",
         "y": [
          0.7929515577844785,
          0.7705175159435903,
          0.7453563146556534,
          0.7193241750492315,
          0.6912248930023354,
          0.6579949601604272,
          0.6215552391830997,
          0.5827466480907258,
          0.5400760308890047,
          0.48992397272412097,
          0.43303384872544926
         ],
         "yaxis": "y38"
        },
        {
         "line": {
          "color": "#E15F99"
         },
         "mode": "lines+markers+text",
         "name": "fairea baseline",
         "showlegend": false,
         "text": [
          "F_0",
          "F_10",
          "F_20",
          "F_30",
          "F_40",
          "F_50",
          "F_60",
          "F_70",
          "F_80",
          "F_90",
          "F_100"
         ],
         "textposition": "bottom right",
         "type": "scatter",
         "x": [
          0.0685830084977357,
          0.06369214478216093,
          0.05425564155486756,
          0.047239814974495246,
          0.039782283016360095,
          0.0326926823253849,
          0.03263965157390147,
          0.026984230604227673,
          0.019297769082038327,
          0.011059326583565933,
          0
         ],
         "xaxis": "x38",
         "y": [
          0.7929515577844785,
          0.7705175159435903,
          0.7453563146556534,
          0.7193241750492315,
          0.6912248930023354,
          0.6579949601604272,
          0.6215552391830997,
          0.5827466480907258,
          0.5400760308890047,
          0.48992397272412097,
          0.43303384872544926
         ],
         "yaxis": "y38"
        },
        {
         "error_x": {
          "array": [
           -0.1014136852908333
          ],
          "type": "data"
         },
         "error_y": {
          "array": [
           -0.008571358725543154
          ],
          "type": "data"
         },
         "marker": {
          "color": "#1CA71C"
         },
         "mode": "markers",
         "name": "reweighing outcome",
         "showlegend": false,
         "type": "scatter",
         "x": [
          0.07628445237040411
         ],
         "xaxis": "x39",
         "y": [
          0.7882154688762161
         ],
         "yaxis": "y39"
        },
        {
         "error_x": {
          "array": [
           -0.014474828632257575
          ],
          "type": "data"
         },
         "error_y": {
          "array": [
           -0.0070709205917428575
          ],
          "type": "data"
         },
         "marker": {
          "color": "#FB0D0D"
         },
         "mode": "markers",
         "name": "calibrated equal odds using fpr cost outcome",
         "showlegend": false,
         "type": "scatter",
         "x": [
          0.5896589324327605
         ],
         "xaxis": "x39",
         "y": [
          0.7893854450315816
         ],
         "yaxis": "y39"
        },
        {
         "error_x": {
          "array": [
           -0.11537876468176798
          ],
          "type": "data"
         },
         "error_y": {
          "array": [
           -0.008280131222414333
          ],
          "type": "data"
         },
         "marker": {
          "color": "#DA16FF"
         },
         "mode": "markers",
         "name": "calibrated equal odds using fnr cost outcome",
         "showlegend": false,
         "type": "scatter",
         "x": [
          0.1001192439079641
         ],
         "xaxis": "x39",
         "y": [
          0.7917180145124323
         ],
         "yaxis": "y39"
        },
        {
         "error_x": {
          "array": [
           -0.015375522322629398
          ],
          "type": "data"
         },
         "error_y": {
          "array": [
           -0.007252402635355093
          ],
          "type": "data"
         },
         "marker": {
          "color": "#222A2A"
         },
         "mode": "markers",
         "name": "calibrated equal odds using weighted cost outcome",
         "showlegend": false,
         "type": "scatter",
         "x": [
          0.5911256890019798
         ],
         "xaxis": "x39",
         "y": [
          0.790305884347563
         ],
         "yaxis": "y39"
        },
        {
         "error_x": {
          "array": [
           -0.10168023853468197
          ],
          "type": "data"
         },
         "error_y": {
          "array": [
           -0.007915428806947955
          ],
          "type": "data"
         },
         "marker": {
          "color": "#B68100"
         },
         "mode": "markers",
         "name": "equal odds outcome",
         "showlegend": false,
         "type": "scatter",
         "x": [
          0.08342364473014083
         ],
         "xaxis": "x39",
         "y": [
          0.7917164006738326
         ],
         "yaxis": "y39"
        },
        {
         "error_x": {
          "array": [
           -0.10947160334109615
          ],
          "type": "data"
         },
         "error_y": {
          "array": [
           -0.007424464933905139
          ],
          "type": "data"
         },
         "marker": {
          "color": "#750D86"
         },
         "mode": "markers",
         "name": "no debiasing1 outcome",
         "showlegend": false,
         "type": "scatter",
         "x": [
          0.10654127028663493
         ],
         "xaxis": "x39",
         "y": [
          0.792996196780938
         ],
         "yaxis": "y39"
        },
        {
         "error_x": {
          "array": [
           -0.1014136852908333
          ],
          "type": "data"
         },
         "error_y": {
          "array": [
           -0.008571358725543154
          ],
          "type": "data"
         },
         "marker": {
          "color": "#EB663B"
         },
         "mode": "markers",
         "name": "reweighing1 outcome",
         "showlegend": false,
         "type": "scatter",
         "x": [
          0.07628445237040411
         ],
         "xaxis": "x39",
         "y": [
          0.7882154688762161
         ],
         "yaxis": "y39"
        },
        {
         "error_x": {
          "array": [
           -0.014474828632257575
          ],
          "type": "data"
         },
         "error_y": {
          "array": [
           -0.0070709205917428575
          ],
          "type": "data"
         },
         "marker": {
          "color": "#511CFB"
         },
         "mode": "markers",
         "name": "calibrated equal odds using fpr cost1 outcome",
         "showlegend": false,
         "type": "scatter",
         "x": [
          0.5896589324327605
         ],
         "xaxis": "x39",
         "y": [
          0.7893854450315816
         ],
         "yaxis": "y39"
        },
        {
         "error_x": {
          "array": [
           -0.11537876468176798
          ],
          "type": "data"
         },
         "error_y": {
          "array": [
           -0.008280131222414333
          ],
          "type": "data"
         },
         "marker": {
          "color": "#00A08B"
         },
         "mode": "markers",
         "name": "calibrated equal odds using fnr cost1 outcome",
         "showlegend": false,
         "type": "scatter",
         "x": [
          0.1001192439079641
         ],
         "xaxis": "x39",
         "y": [
          0.7917180145124323
         ],
         "yaxis": "y39"
        },
        {
         "error_x": {
          "array": [
           -0.015375522322629398
          ],
          "type": "data"
         },
         "error_y": {
          "array": [
           -0.007252402635355093
          ],
          "type": "data"
         },
         "marker": {
          "color": "#FB00D1"
         },
         "mode": "markers",
         "name": "calibrated equal odds using weighted cost1 outcome",
         "showlegend": false,
         "type": "scatter",
         "x": [
          0.5911256890019798
         ],
         "xaxis": "x39",
         "y": [
          0.790305884347563
         ],
         "yaxis": "y39"
        },
        {
         "error_x": {
          "array": [
           -0.10168023853468197
          ],
          "type": "data"
         },
         "error_y": {
          "array": [
           -0.007915428806947955
          ],
          "type": "data"
         },
         "marker": {
          "color": "#FC0080"
         },
         "mode": "markers",
         "name": "equal odds1 outcome",
         "showlegend": false,
         "type": "scatter",
         "x": [
          0.08342364473014083
         ],
         "xaxis": "x39",
         "y": [
          0.7917164006738326
         ],
         "yaxis": "y39"
        },
        {
         "line": {
          "color": "#2E91E5"
         },
         "mode": "lines+markers+text",
         "name": "fairea baseline",
         "showlegend": false,
         "text": [
          "F_0",
          "F_10",
          "F_20",
          "F_30",
          "F_40",
          "F_50",
          "F_60",
          "F_70",
          "F_80",
          "F_90",
          "F_100"
         ],
         "textposition": "bottom right",
         "type": "scatter",
         "x": [
          0.10440457908697472,
          0.09803769370375542,
          0.08252631578947367,
          0.07163758201870724,
          0.05932360742705571,
          0.04852882870305738,
          0.051689515566103586,
          0.04384629345246404,
          0.03196481920982829,
          0.018721485411140586,
          0
         ],
         "xaxis": "x39",
         "y": [
          0.7929515577844785,
          0.7705175159435903,
          0.7453563146556534,
          0.7193241750492315,
          0.6912248930023354,
          0.6579949601604272,
          0.6215552391830997,
          0.5827466480907258,
          0.5400760308890047,
          0.48992397272412097,
          0.43303384872544926
         ],
         "yaxis": "y39"
        },
        {
         "line": {
          "color": "#E15F99"
         },
         "mode": "lines+markers+text",
         "name": "fairea baseline",
         "showlegend": false,
         "text": [
          "F_0",
          "F_10",
          "F_20",
          "F_30",
          "F_40",
          "F_50",
          "F_60",
          "F_70",
          "F_80",
          "F_90",
          "F_100"
         ],
         "textposition": "bottom right",
         "type": "scatter",
         "x": [
          0.10440457908697472,
          0.09803769370375542,
          0.08252631578947367,
          0.07163758201870724,
          0.05932360742705571,
          0.04852882870305738,
          0.051689515566103586,
          0.04384629345246404,
          0.03196481920982829,
          0.018721485411140586,
          0
         ],
         "xaxis": "x39",
         "y": [
          0.7929515577844785,
          0.7705175159435903,
          0.7453563146556534,
          0.7193241750492315,
          0.6912248930023354,
          0.6579949601604272,
          0.6215552391830997,
          0.5827466480907258,
          0.5400760308890047,
          0.48992397272412097,
          0.43303384872544926
         ],
         "yaxis": "y39"
        },
        {
         "error_x": {
          "array": [
           -0.012954617921213399
          ],
          "type": "data"
         },
         "error_y": {
          "array": [
           -0.008571358725543154
          ],
          "type": "data"
         },
         "marker": {
          "color": "#1CA71C"
         },
         "mode": "markers",
         "name": "reweighing outcome",
         "showlegend": false,
         "type": "scatter",
         "x": [
          0.08512966543149375
         ],
         "xaxis": "x40",
         "y": [
          0.7882154688762161
         ],
         "yaxis": "y40"
        },
        {
         "error_x": {
          "array": [
           -0.01673170986549556
          ],
          "type": "data"
         },
         "error_y": {
          "array": [
           -0.0070709205917428575
          ],
          "type": "data"
         },
         "marker": {
          "color": "#FB0D0D"
         },
         "mode": "markers",
         "name": "calibrated equal odds using fpr cost outcome",
         "showlegend": false,
         "type": "scatter",
         "x": [
          0.06786599402009061
         ],
         "xaxis": "x40",
         "y": [
          0.7893854450315816
         ],
         "yaxis": "y40"
        },
        {
         "error_x": {
          "array": [
           -0.01484884783771774
          ],
          "type": "data"
         },
         "error_y": {
          "array": [
           -0.008280131222414333
          ],
          "type": "data"
         },
         "marker": {
          "color": "#DA16FF"
         },
         "mode": "markers",
         "name": "calibrated equal odds using fnr cost outcome",
         "showlegend": false,
         "type": "scatter",
         "x": [
          0.08550626235703675
         ],
         "xaxis": "x40",
         "y": [
          0.7917180145124323
         ],
         "yaxis": "y40"
        },
        {
         "error_x": {
          "array": [
           -0.018091225193089536
          ],
          "type": "data"
         },
         "error_y": {
          "array": [
           -0.007252402635355093
          ],
          "type": "data"
         },
         "marker": {
          "color": "#222A2A"
         },
         "mode": "markers",
         "name": "calibrated equal odds using weighted cost outcome",
         "showlegend": false,
         "type": "scatter",
         "x": [
          0.06829081163739964
         ],
         "xaxis": "x40",
         "y": [
          0.790305884347563
         ],
         "yaxis": "y40"
        },
        {
         "error_x": {
          "array": [
           -0.017161535511095935
          ],
          "type": "data"
         },
         "error_y": {
          "array": [
           -0.007915428806947955
          ],
          "type": "data"
         },
         "marker": {
          "color": "#B68100"
         },
         "mode": "markers",
         "name": "equal odds outcome",
         "showlegend": false,
         "type": "scatter",
         "x": [
          0.06484613527683707
         ],
         "xaxis": "x40",
         "y": [
          0.7917164006738326
         ],
         "yaxis": "y40"
        },
        {
         "error_x": {
          "array": [
           -0.015400651985634853
          ],
          "type": "data"
         },
         "error_y": {
          "array": [
           -0.007424464933905139
          ],
          "type": "data"
         },
         "marker": {
          "color": "#750D86"
         },
         "mode": "markers",
         "name": "no debiasing1 outcome",
         "showlegend": false,
         "type": "scatter",
         "x": [
          0.08496780546821205
         ],
         "xaxis": "x40",
         "y": [
          0.792996196780938
         ],
         "yaxis": "y40"
        },
        {
         "error_x": {
          "array": [
           -0.012954617921213399
          ],
          "type": "data"
         },
         "error_y": {
          "array": [
           -0.008571358725543154
          ],
          "type": "data"
         },
         "marker": {
          "color": "#EB663B"
         },
         "mode": "markers",
         "name": "reweighing1 outcome",
         "showlegend": false,
         "type": "scatter",
         "x": [
          0.08512966543149375
         ],
         "xaxis": "x40",
         "y": [
          0.7882154688762161
         ],
         "yaxis": "y40"
        },
        {
         "error_x": {
          "array": [
           -0.01673170986549556
          ],
          "type": "data"
         },
         "error_y": {
          "array": [
           -0.0070709205917428575
          ],
          "type": "data"
         },
         "marker": {
          "color": "#511CFB"
         },
         "mode": "markers",
         "name": "calibrated equal odds using fpr cost1 outcome",
         "showlegend": false,
         "type": "scatter",
         "x": [
          0.06786599402009061
         ],
         "xaxis": "x40",
         "y": [
          0.7893854450315816
         ],
         "yaxis": "y40"
        },
        {
         "error_x": {
          "array": [
           -0.01484884783771774
          ],
          "type": "data"
         },
         "error_y": {
          "array": [
           -0.008280131222414333
          ],
          "type": "data"
         },
         "marker": {
          "color": "#00A08B"
         },
         "mode": "markers",
         "name": "calibrated equal odds using fnr cost1 outcome",
         "showlegend": false,
         "type": "scatter",
         "x": [
          0.08550626235703675
         ],
         "xaxis": "x40",
         "y": [
          0.7917180145124323
         ],
         "yaxis": "y40"
        },
        {
         "error_x": {
          "array": [
           -0.018091225193089536
          ],
          "type": "data"
         },
         "error_y": {
          "array": [
           -0.007252402635355093
          ],
          "type": "data"
         },
         "marker": {
          "color": "#FB00D1"
         },
         "mode": "markers",
         "name": "calibrated equal odds using weighted cost1 outcome",
         "showlegend": false,
         "type": "scatter",
         "x": [
          0.06829081163739964
         ],
         "xaxis": "x40",
         "y": [
          0.790305884347563
         ],
         "yaxis": "y40"
        },
        {
         "error_x": {
          "array": [
           -0.017161535511095935
          ],
          "type": "data"
         },
         "error_y": {
          "array": [
           -0.007915428806947955
          ],
          "type": "data"
         },
         "marker": {
          "color": "#FC0080"
         },
         "mode": "markers",
         "name": "equal odds1 outcome",
         "showlegend": false,
         "type": "scatter",
         "x": [
          0.06484613527683707
         ],
         "xaxis": "x40",
         "y": [
          0.7917164006738326
         ],
         "yaxis": "y40"
        },
        {
         "line": {
          "color": "#2E91E5"
         },
         "mode": "lines+markers+text",
         "name": "fairea baseline",
         "showlegend": false,
         "text": [
          "F_0",
          "F_10",
          "F_20",
          "F_30",
          "F_40",
          "F_50",
          "F_60",
          "F_70",
          "F_80",
          "F_90",
          "F_100"
         ],
         "textposition": "bottom right",
         "type": "scatter",
         "x": [
          0.08447361056413193,
          0.09287042020233229,
          0.10241481794777955,
          0.1114273380347503,
          0.12097984274861938,
          0.13016040704528734,
          0.1386660871150868,
          0.1470059289013044,
          0.15651007545989506,
          0.16525117799240463,
          0.17393512145889978
         ],
         "xaxis": "x40",
         "y": [
          0.7929515577844785,
          0.7705175159435903,
          0.7453563146556534,
          0.7193241750492315,
          0.6912248930023354,
          0.6579949601604272,
          0.6215552391830997,
          0.5827466480907258,
          0.5400760308890047,
          0.48992397272412097,
          0.43303384872544926
         ],
         "yaxis": "y40"
        },
        {
         "line": {
          "color": "#E15F99"
         },
         "mode": "lines+markers+text",
         "name": "fairea baseline",
         "showlegend": false,
         "text": [
          "F_0",
          "F_10",
          "F_20",
          "F_30",
          "F_40",
          "F_50",
          "F_60",
          "F_70",
          "F_80",
          "F_90",
          "F_100"
         ],
         "textposition": "bottom right",
         "type": "scatter",
         "x": [
          0.08447361056413193,
          0.09287042020233229,
          0.10241481794777955,
          0.1114273380347503,
          0.12097984274861938,
          0.13016040704528734,
          0.1386660871150868,
          0.1470059289013044,
          0.15651007545989506,
          0.16525117799240463,
          0.17393512145889978
         ],
         "xaxis": "x40",
         "y": [
          0.7929515577844785,
          0.7705175159435903,
          0.7453563146556534,
          0.7193241750492315,
          0.6912248930023354,
          0.6579949601604272,
          0.6215552391830997,
          0.5827466480907258,
          0.5400760308890047,
          0.48992397272412097,
          0.43303384872544926
         ],
         "yaxis": "y40"
        },
        {
         "error_x": {
          "array": [
           -0.014669125690659417
          ],
          "type": "data"
         },
         "error_y": {
          "array": [
           -0.01671695646667959
          ],
          "type": "data"
         },
         "marker": {
          "color": "#1CA71C"
         },
         "mode": "markers",
         "name": "reweighing outcome",
         "showlegend": false,
         "type": "scatter",
         "x": [
          0.12499537772027708
         ],
         "xaxis": "x41",
         "y": [
          0.5877956643830798
         ],
         "yaxis": "y41"
        },
        {
         "error_x": {
          "array": [
           -0.0058110928811675455
          ],
          "type": "data"
         },
         "error_y": {
          "array": [
           -0.013512656635746856
          ],
          "type": "data"
         },
         "marker": {
          "color": "#FB0D0D"
         },
         "mode": "markers",
         "name": "calibrated equal odds using fpr cost outcome",
         "showlegend": false,
         "type": "scatter",
         "x": [
          0.18629912946334568
         ],
         "xaxis": "x41",
         "y": [
          0.5919856425597415
         ],
         "yaxis": "y41"
        },
        {
         "error_x": {
          "array": [
           -0.015798763472345344
          ],
          "type": "data"
         },
         "error_y": {
          "array": [
           -0.0156536264512408
          ],
          "type": "data"
         },
         "marker": {
          "color": "#DA16FF"
         },
         "mode": "markers",
         "name": "calibrated equal odds using fnr cost outcome",
         "showlegend": false,
         "type": "scatter",
         "x": [
          0.1305233025677107
         ],
         "xaxis": "x41",
         "y": [
          0.5952663104336503
         ],
         "yaxis": "y41"
        },
        {
         "error_x": {
          "array": [
           -0.006067306794178967
          ],
          "type": "data"
         },
         "error_y": {
          "array": [
           -0.013980038148015184
          ],
          "type": "data"
         },
         "marker": {
          "color": "#222A2A"
         },
         "mode": "markers",
         "name": "calibrated equal odds using weighted cost outcome",
         "showlegend": false,
         "type": "scatter",
         "x": [
          0.18611984863480757
         ],
         "xaxis": "x41",
         "y": [
          0.5936741279379202
         ],
         "yaxis": "y41"
        },
        {
         "error_x": {
          "array": [
           -0.01593644325685055
          ],
          "type": "data"
         },
         "error_y": {
          "array": [
           -0.015030126758064033
          ],
          "type": "data"
         },
         "marker": {
          "color": "#B68100"
         },
         "mode": "markers",
         "name": "equal odds outcome",
         "showlegend": false,
         "type": "scatter",
         "x": [
          0.10850568277284957
         ],
         "xaxis": "x41",
         "y": [
          0.5941161716165024
         ],
         "yaxis": "y41"
        },
        {
         "error_x": {
          "array": [
           -0.01452861216709151
          ],
          "type": "data"
         },
         "error_y": {
          "array": [
           -0.014357377251053016
          ],
          "type": "data"
         },
         "marker": {
          "color": "#750D86"
         },
         "mode": "markers",
         "name": "no debiasing1 outcome",
         "showlegend": false,
         "type": "scatter",
         "x": [
          0.13198511125782697
         ],
         "xaxis": "x41",
         "y": [
          0.5975085429733131
         ],
         "yaxis": "y41"
        },
        {
         "error_x": {
          "array": [
           -0.014669125690659417
          ],
          "type": "data"
         },
         "error_y": {
          "array": [
           -0.01671695646667959
          ],
          "type": "data"
         },
         "marker": {
          "color": "#EB663B"
         },
         "mode": "markers",
         "name": "reweighing1 outcome",
         "showlegend": false,
         "type": "scatter",
         "x": [
          0.12499537772027708
         ],
         "xaxis": "x41",
         "y": [
          0.5877956643830798
         ],
         "yaxis": "y41"
        },
        {
         "error_x": {
          "array": [
           -0.0058110928811675455
          ],
          "type": "data"
         },
         "error_y": {
          "array": [
           -0.013512656635746856
          ],
          "type": "data"
         },
         "marker": {
          "color": "#511CFB"
         },
         "mode": "markers",
         "name": "calibrated equal odds using fpr cost1 outcome",
         "showlegend": false,
         "type": "scatter",
         "x": [
          0.18629912946334568
         ],
         "xaxis": "x41",
         "y": [
          0.5919856425597415
         ],
         "yaxis": "y41"
        },
        {
         "error_x": {
          "array": [
           -0.015798763472345344
          ],
          "type": "data"
         },
         "error_y": {
          "array": [
           -0.0156536264512408
          ],
          "type": "data"
         },
         "marker": {
          "color": "#00A08B"
         },
         "mode": "markers",
         "name": "calibrated equal odds using fnr cost1 outcome",
         "showlegend": false,
         "type": "scatter",
         "x": [
          0.1305233025677107
         ],
         "xaxis": "x41",
         "y": [
          0.5952663104336503
         ],
         "yaxis": "y41"
        },
        {
         "error_x": {
          "array": [
           -0.006067306794178967
          ],
          "type": "data"
         },
         "error_y": {
          "array": [
           -0.013980038148015184
          ],
          "type": "data"
         },
         "marker": {
          "color": "#FB00D1"
         },
         "mode": "markers",
         "name": "calibrated equal odds using weighted cost1 outcome",
         "showlegend": false,
         "type": "scatter",
         "x": [
          0.18611984863480757
         ],
         "xaxis": "x41",
         "y": [
          0.5936741279379202
         ],
         "yaxis": "y41"
        },
        {
         "error_x": {
          "array": [
           -0.01593644325685055
          ],
          "type": "data"
         },
         "error_y": {
          "array": [
           -0.015030126758064033
          ],
          "type": "data"
         },
         "marker": {
          "color": "#FC0080"
         },
         "mode": "markers",
         "name": "equal odds1 outcome",
         "showlegend": false,
         "type": "scatter",
         "x": [
          0.10850568277284957
         ],
         "xaxis": "x41",
         "y": [
          0.5941161716165024
         ],
         "yaxis": "y41"
        },
        {
         "line": {
          "color": "#2E91E5"
         },
         "mode": "lines+markers+text",
         "name": "fairea baseline",
         "showlegend": false,
         "text": [
          "F_0",
          "F_10",
          "F_20",
          "F_30",
          "F_40",
          "F_50",
          "F_60",
          "F_70",
          "F_80",
          "F_90",
          "F_100"
         ],
         "textposition": "bottom right",
         "type": "scatter",
         "x": [
          0.13153366316698556,
          0.11865561466447005,
          0.10478255925418929,
          0.09185034906058193,
          0.07936776663277154,
          0.06552709097609065,
          0.052922554518159644,
          0.04006550536855555,
          0.02595754795230033,
          0.013092827447697897,
          0
         ],
         "xaxis": "x41",
         "y": [
          0.5973146333260341,
          0.56095506285642,
          0.5222895396660925,
          0.48458869223921724,
          0.4459021644505174,
          0.3998314245133483,
          0.35249996974595754,
          0.30282705322051995,
          0.24674687586430377,
          0.17246684254216935,
          0
         ],
         "yaxis": "y41"
        },
        {
         "line": {
          "color": "#E15F99"
         },
         "mode": "lines+markers+text",
         "name": "fairea baseline",
         "showlegend": false,
         "text": [
          "F_0",
          "F_10",
          "F_20",
          "F_30",
          "F_40",
          "F_50",
          "F_60",
          "F_70",
          "F_80",
          "F_90",
          "F_100"
         ],
         "textposition": "bottom right",
         "type": "scatter",
         "x": [
          0.13153366316698556,
          0.11865561466447005,
          0.10478255925418929,
          0.09185034906058193,
          0.07936776663277154,
          0.06552709097609065,
          0.052922554518159644,
          0.04006550536855555,
          0.02595754795230033,
          0.013092827447697897,
          0
         ],
         "xaxis": "x41",
         "y": [
          0.5973146333260341,
          0.56095506285642,
          0.5222895396660925,
          0.48458869223921724,
          0.4459021644505174,
          0.3998314245133483,
          0.35249996974595754,
          0.30282705322051995,
          0.24674687586430377,
          0.17246684254216935,
          0
         ],
         "yaxis": "y41"
        },
        {
         "error_x": {
          "array": [
           -0.05119168246872774
          ],
          "type": "data"
         },
         "error_y": {
          "array": [
           -0.01671695646667959
          ],
          "type": "data"
         },
         "marker": {
          "color": "#1CA71C"
         },
         "mode": "markers",
         "name": "reweighing outcome",
         "showlegend": false,
         "type": "scatter",
         "x": [
          0.05342657562783528
         ],
         "xaxis": "x42",
         "y": [
          0.5877956643830798
         ],
         "yaxis": "y42"
        },
        {
         "error_x": {
          "array": [
           -0.007515199373606174
          ],
          "type": "data"
         },
         "error_y": {
          "array": [
           -0.013512656635746856
          ],
          "type": "data"
         },
         "marker": {
          "color": "#FB0D0D"
         },
         "mode": "markers",
         "name": "calibrated equal odds using fpr cost outcome",
         "showlegend": false,
         "type": "scatter",
         "x": [
          0.3215720657854554
         ],
         "xaxis": "x42",
         "y": [
          0.5919856425597415
         ],
         "yaxis": "y42"
        },
        {
         "error_x": {
          "array": [
           -0.05750649047104506
          ],
          "type": "data"
         },
         "error_y": {
          "array": [
           -0.0156536264512408
          ],
          "type": "data"
         },
         "marker": {
          "color": "#DA16FF"
         },
         "mode": "markers",
         "name": "calibrated equal odds using fnr cost outcome",
         "showlegend": false,
         "type": "scatter",
         "x": [
          0.06632829996391733
         ],
         "xaxis": "x42",
         "y": [
          0.5952663104336503
         ],
         "yaxis": "y42"
        },
        {
         "error_x": {
          "array": [
           -0.0081686742075181
          ],
          "type": "data"
         },
         "error_y": {
          "array": [
           -0.013980038148015184
          ],
          "type": "data"
         },
         "marker": {
          "color": "#222A2A"
         },
         "mode": "markers",
         "name": "calibrated equal odds using weighted cost outcome",
         "showlegend": false,
         "type": "scatter",
         "x": [
          0.32217538473254104
         ],
         "xaxis": "x42",
         "y": [
          0.5936741279379202
         ],
         "yaxis": "y42"
        },
        {
         "error_x": {
          "array": [
           -0.05116030035124883
          ],
          "type": "data"
         },
         "error_y": {
          "array": [
           -0.015030126758064033
          ],
          "type": "data"
         },
         "marker": {
          "color": "#B68100"
         },
         "mode": "markers",
         "name": "equal odds outcome",
         "showlegend": false,
         "type": "scatter",
         "x": [
          0.04713176194826316
         ],
         "xaxis": "x42",
         "y": [
          0.5941161716165024
         ],
         "yaxis": "y42"
        },
        {
         "error_x": {
          "array": [
           -0.054902255237186975
          ],
          "type": "data"
         },
         "error_y": {
          "array": [
           -0.014357377251053016
          ],
          "type": "data"
         },
         "marker": {
          "color": "#750D86"
         },
         "mode": "markers",
         "name": "no debiasing1 outcome",
         "showlegend": false,
         "type": "scatter",
         "x": [
          0.06987733249735525
         ],
         "xaxis": "x42",
         "y": [
          0.5975085429733131
         ],
         "yaxis": "y42"
        },
        {
         "error_x": {
          "array": [
           -0.05119168246872774
          ],
          "type": "data"
         },
         "error_y": {
          "array": [
           -0.01671695646667959
          ],
          "type": "data"
         },
         "marker": {
          "color": "#EB663B"
         },
         "mode": "markers",
         "name": "reweighing1 outcome",
         "showlegend": false,
         "type": "scatter",
         "x": [
          0.05342657562783528
         ],
         "xaxis": "x42",
         "y": [
          0.5877956643830798
         ],
         "yaxis": "y42"
        },
        {
         "error_x": {
          "array": [
           -0.007515199373606174
          ],
          "type": "data"
         },
         "error_y": {
          "array": [
           -0.013512656635746856
          ],
          "type": "data"
         },
         "marker": {
          "color": "#511CFB"
         },
         "mode": "markers",
         "name": "calibrated equal odds using fpr cost1 outcome",
         "showlegend": false,
         "type": "scatter",
         "x": [
          0.3215720657854554
         ],
         "xaxis": "x42",
         "y": [
          0.5919856425597415
         ],
         "yaxis": "y42"
        },
        {
         "error_x": {
          "array": [
           -0.05750649047104506
          ],
          "type": "data"
         },
         "error_y": {
          "array": [
           -0.0156536264512408
          ],
          "type": "data"
         },
         "marker": {
          "color": "#00A08B"
         },
         "mode": "markers",
         "name": "calibrated equal odds using fnr cost1 outcome",
         "showlegend": false,
         "type": "scatter",
         "x": [
          0.06632829996391733
         ],
         "xaxis": "x42",
         "y": [
          0.5952663104336503
         ],
         "yaxis": "y42"
        },
        {
         "error_x": {
          "array": [
           -0.0081686742075181
          ],
          "type": "data"
         },
         "error_y": {
          "array": [
           -0.013980038148015184
          ],
          "type": "data"
         },
         "marker": {
          "color": "#FB00D1"
         },
         "mode": "markers",
         "name": "calibrated equal odds using weighted cost1 outcome",
         "showlegend": false,
         "type": "scatter",
         "x": [
          0.32217538473254104
         ],
         "xaxis": "x42",
         "y": [
          0.5936741279379202
         ],
         "yaxis": "y42"
        },
        {
         "error_x": {
          "array": [
           -0.05116030035124883
          ],
          "type": "data"
         },
         "error_y": {
          "array": [
           -0.015030126758064033
          ],
          "type": "data"
         },
         "marker": {
          "color": "#FC0080"
         },
         "mode": "markers",
         "name": "equal odds1 outcome",
         "showlegend": false,
         "type": "scatter",
         "x": [
          0.04713176194826316
         ],
         "xaxis": "x42",
         "y": [
          0.5941161716165024
         ],
         "yaxis": "y42"
        },
        {
         "line": {
          "color": "#2E91E5"
         },
         "mode": "lines+markers+text",
         "name": "fairea baseline",
         "showlegend": false,
         "text": [
          "F_0",
          "F_10",
          "F_20",
          "F_30",
          "F_40",
          "F_50",
          "F_60",
          "F_70",
          "F_80",
          "F_90",
          "F_100"
         ],
         "textposition": "bottom right",
         "type": "scatter",
         "x": [
          0.0685830084977357,
          0.06369214478216093,
          0.05425564155486756,
          0.047239814974495246,
          0.039782283016360095,
          0.0326926823253849,
          0.03263965157390147,
          0.026984230604227673,
          0.019297769082038327,
          0.011059326583565933,
          0
         ],
         "xaxis": "x42",
         "y": [
          0.5973146333260341,
          0.56095506285642,
          0.5222895396660925,
          0.48458869223921724,
          0.4459021644505174,
          0.3998314245133483,
          0.35249996974595754,
          0.30282705322051995,
          0.24674687586430377,
          0.17246684254216935,
          0
         ],
         "yaxis": "y42"
        },
        {
         "line": {
          "color": "#E15F99"
         },
         "mode": "lines+markers+text",
         "name": "fairea baseline",
         "showlegend": false,
         "text": [
          "F_0",
          "F_10",
          "F_20",
          "F_30",
          "F_40",
          "F_50",
          "F_60",
          "F_70",
          "F_80",
          "F_90",
          "F_100"
         ],
         "textposition": "bottom right",
         "type": "scatter",
         "x": [
          0.0685830084977357,
          0.06369214478216093,
          0.05425564155486756,
          0.047239814974495246,
          0.039782283016360095,
          0.0326926823253849,
          0.03263965157390147,
          0.026984230604227673,
          0.019297769082038327,
          0.011059326583565933,
          0
         ],
         "xaxis": "x42",
         "y": [
          0.5973146333260341,
          0.56095506285642,
          0.5222895396660925,
          0.48458869223921724,
          0.4459021644505174,
          0.3998314245133483,
          0.35249996974595754,
          0.30282705322051995,
          0.24674687586430377,
          0.17246684254216935,
          0
         ],
         "yaxis": "y42"
        },
        {
         "error_x": {
          "array": [
           -0.1014136852908333
          ],
          "type": "data"
         },
         "error_y": {
          "array": [
           -0.01671695646667959
          ],
          "type": "data"
         },
         "marker": {
          "color": "#1CA71C"
         },
         "mode": "markers",
         "name": "reweighing outcome",
         "showlegend": false,
         "type": "scatter",
         "x": [
          0.07628445237040411
         ],
         "xaxis": "x43",
         "y": [
          0.5877956643830798
         ],
         "yaxis": "y43"
        },
        {
         "error_x": {
          "array": [
           -0.014474828632257575
          ],
          "type": "data"
         },
         "error_y": {
          "array": [
           -0.013512656635746856
          ],
          "type": "data"
         },
         "marker": {
          "color": "#FB0D0D"
         },
         "mode": "markers",
         "name": "calibrated equal odds using fpr cost outcome",
         "showlegend": false,
         "type": "scatter",
         "x": [
          0.5896589324327605
         ],
         "xaxis": "x43",
         "y": [
          0.5919856425597415
         ],
         "yaxis": "y43"
        },
        {
         "error_x": {
          "array": [
           -0.11537876468176798
          ],
          "type": "data"
         },
         "error_y": {
          "array": [
           -0.0156536264512408
          ],
          "type": "data"
         },
         "marker": {
          "color": "#DA16FF"
         },
         "mode": "markers",
         "name": "calibrated equal odds using fnr cost outcome",
         "showlegend": false,
         "type": "scatter",
         "x": [
          0.1001192439079641
         ],
         "xaxis": "x43",
         "y": [
          0.5952663104336503
         ],
         "yaxis": "y43"
        },
        {
         "error_x": {
          "array": [
           -0.015375522322629398
          ],
          "type": "data"
         },
         "error_y": {
          "array": [
           -0.013980038148015184
          ],
          "type": "data"
         },
         "marker": {
          "color": "#222A2A"
         },
         "mode": "markers",
         "name": "calibrated equal odds using weighted cost outcome",
         "showlegend": false,
         "type": "scatter",
         "x": [
          0.5911256890019798
         ],
         "xaxis": "x43",
         "y": [
          0.5936741279379202
         ],
         "yaxis": "y43"
        },
        {
         "error_x": {
          "array": [
           -0.10168023853468197
          ],
          "type": "data"
         },
         "error_y": {
          "array": [
           -0.015030126758064033
          ],
          "type": "data"
         },
         "marker": {
          "color": "#B68100"
         },
         "mode": "markers",
         "name": "equal odds outcome",
         "showlegend": false,
         "type": "scatter",
         "x": [
          0.08342364473014083
         ],
         "xaxis": "x43",
         "y": [
          0.5941161716165024
         ],
         "yaxis": "y43"
        },
        {
         "error_x": {
          "array": [
           -0.10947160334109615
          ],
          "type": "data"
         },
         "error_y": {
          "array": [
           -0.014357377251053016
          ],
          "type": "data"
         },
         "marker": {
          "color": "#750D86"
         },
         "mode": "markers",
         "name": "no debiasing1 outcome",
         "showlegend": false,
         "type": "scatter",
         "x": [
          0.10654127028663493
         ],
         "xaxis": "x43",
         "y": [
          0.5975085429733131
         ],
         "yaxis": "y43"
        },
        {
         "error_x": {
          "array": [
           -0.1014136852908333
          ],
          "type": "data"
         },
         "error_y": {
          "array": [
           -0.01671695646667959
          ],
          "type": "data"
         },
         "marker": {
          "color": "#EB663B"
         },
         "mode": "markers",
         "name": "reweighing1 outcome",
         "showlegend": false,
         "type": "scatter",
         "x": [
          0.07628445237040411
         ],
         "xaxis": "x43",
         "y": [
          0.5877956643830798
         ],
         "yaxis": "y43"
        },
        {
         "error_x": {
          "array": [
           -0.014474828632257575
          ],
          "type": "data"
         },
         "error_y": {
          "array": [
           -0.013512656635746856
          ],
          "type": "data"
         },
         "marker": {
          "color": "#511CFB"
         },
         "mode": "markers",
         "name": "calibrated equal odds using fpr cost1 outcome",
         "showlegend": false,
         "type": "scatter",
         "x": [
          0.5896589324327605
         ],
         "xaxis": "x43",
         "y": [
          0.5919856425597415
         ],
         "yaxis": "y43"
        },
        {
         "error_x": {
          "array": [
           -0.11537876468176798
          ],
          "type": "data"
         },
         "error_y": {
          "array": [
           -0.0156536264512408
          ],
          "type": "data"
         },
         "marker": {
          "color": "#00A08B"
         },
         "mode": "markers",
         "name": "calibrated equal odds using fnr cost1 outcome",
         "showlegend": false,
         "type": "scatter",
         "x": [
          0.1001192439079641
         ],
         "xaxis": "x43",
         "y": [
          0.5952663104336503
         ],
         "yaxis": "y43"
        },
        {
         "error_x": {
          "array": [
           -0.015375522322629398
          ],
          "type": "data"
         },
         "error_y": {
          "array": [
           -0.013980038148015184
          ],
          "type": "data"
         },
         "marker": {
          "color": "#FB00D1"
         },
         "mode": "markers",
         "name": "calibrated equal odds using weighted cost1 outcome",
         "showlegend": false,
         "type": "scatter",
         "x": [
          0.5911256890019798
         ],
         "xaxis": "x43",
         "y": [
          0.5936741279379202
         ],
         "yaxis": "y43"
        },
        {
         "error_x": {
          "array": [
           -0.10168023853468197
          ],
          "type": "data"
         },
         "error_y": {
          "array": [
           -0.015030126758064033
          ],
          "type": "data"
         },
         "marker": {
          "color": "#FC0080"
         },
         "mode": "markers",
         "name": "equal odds1 outcome",
         "showlegend": false,
         "type": "scatter",
         "x": [
          0.08342364473014083
         ],
         "xaxis": "x43",
         "y": [
          0.5941161716165024
         ],
         "yaxis": "y43"
        },
        {
         "line": {
          "color": "#2E91E5"
         },
         "mode": "lines+markers+text",
         "name": "fairea baseline",
         "showlegend": false,
         "text": [
          "F_0",
          "F_10",
          "F_20",
          "F_30",
          "F_40",
          "F_50",
          "F_60",
          "F_70",
          "F_80",
          "F_90",
          "F_100"
         ],
         "textposition": "bottom right",
         "type": "scatter",
         "x": [
          0.10440457908697472,
          0.09803769370375542,
          0.08252631578947367,
          0.07163758201870724,
          0.05932360742705571,
          0.04852882870305738,
          0.051689515566103586,
          0.04384629345246404,
          0.03196481920982829,
          0.018721485411140586,
          0
         ],
         "xaxis": "x43",
         "y": [
          0.5973146333260341,
          0.56095506285642,
          0.5222895396660925,
          0.48458869223921724,
          0.4459021644505174,
          0.3998314245133483,
          0.35249996974595754,
          0.30282705322051995,
          0.24674687586430377,
          0.17246684254216935,
          0
         ],
         "yaxis": "y43"
        },
        {
         "line": {
          "color": "#E15F99"
         },
         "mode": "lines+markers+text",
         "name": "fairea baseline",
         "showlegend": false,
         "text": [
          "F_0",
          "F_10",
          "F_20",
          "F_30",
          "F_40",
          "F_50",
          "F_60",
          "F_70",
          "F_80",
          "F_90",
          "F_100"
         ],
         "textposition": "bottom right",
         "type": "scatter",
         "x": [
          0.10440457908697472,
          0.09803769370375542,
          0.08252631578947367,
          0.07163758201870724,
          0.05932360742705571,
          0.04852882870305738,
          0.051689515566103586,
          0.04384629345246404,
          0.03196481920982829,
          0.018721485411140586,
          0
         ],
         "xaxis": "x43",
         "y": [
          0.5973146333260341,
          0.56095506285642,
          0.5222895396660925,
          0.48458869223921724,
          0.4459021644505174,
          0.3998314245133483,
          0.35249996974595754,
          0.30282705322051995,
          0.24674687586430377,
          0.17246684254216935,
          0
         ],
         "yaxis": "y43"
        },
        {
         "error_x": {
          "array": [
           -0.012954617921213399
          ],
          "type": "data"
         },
         "error_y": {
          "array": [
           -0.01671695646667959
          ],
          "type": "data"
         },
         "marker": {
          "color": "#1CA71C"
         },
         "mode": "markers",
         "name": "reweighing outcome",
         "showlegend": false,
         "type": "scatter",
         "x": [
          0.08512966543149375
         ],
         "xaxis": "x44",
         "y": [
          0.5877956643830798
         ],
         "yaxis": "y44"
        },
        {
         "error_x": {
          "array": [
           -0.01673170986549556
          ],
          "type": "data"
         },
         "error_y": {
          "array": [
           -0.013512656635746856
          ],
          "type": "data"
         },
         "marker": {
          "color": "#FB0D0D"
         },
         "mode": "markers",
         "name": "calibrated equal odds using fpr cost outcome",
         "showlegend": false,
         "type": "scatter",
         "x": [
          0.06786599402009061
         ],
         "xaxis": "x44",
         "y": [
          0.5919856425597415
         ],
         "yaxis": "y44"
        },
        {
         "error_x": {
          "array": [
           -0.01484884783771774
          ],
          "type": "data"
         },
         "error_y": {
          "array": [
           -0.0156536264512408
          ],
          "type": "data"
         },
         "marker": {
          "color": "#DA16FF"
         },
         "mode": "markers",
         "name": "calibrated equal odds using fnr cost outcome",
         "showlegend": false,
         "type": "scatter",
         "x": [
          0.08550626235703675
         ],
         "xaxis": "x44",
         "y": [
          0.5952663104336503
         ],
         "yaxis": "y44"
        },
        {
         "error_x": {
          "array": [
           -0.018091225193089536
          ],
          "type": "data"
         },
         "error_y": {
          "array": [
           -0.013980038148015184
          ],
          "type": "data"
         },
         "marker": {
          "color": "#222A2A"
         },
         "mode": "markers",
         "name": "calibrated equal odds using weighted cost outcome",
         "showlegend": false,
         "type": "scatter",
         "x": [
          0.06829081163739964
         ],
         "xaxis": "x44",
         "y": [
          0.5936741279379202
         ],
         "yaxis": "y44"
        },
        {
         "error_x": {
          "array": [
           -0.017161535511095935
          ],
          "type": "data"
         },
         "error_y": {
          "array": [
           -0.015030126758064033
          ],
          "type": "data"
         },
         "marker": {
          "color": "#B68100"
         },
         "mode": "markers",
         "name": "equal odds outcome",
         "showlegend": false,
         "type": "scatter",
         "x": [
          0.06484613527683707
         ],
         "xaxis": "x44",
         "y": [
          0.5941161716165024
         ],
         "yaxis": "y44"
        },
        {
         "error_x": {
          "array": [
           -0.015400651985634853
          ],
          "type": "data"
         },
         "error_y": {
          "array": [
           -0.014357377251053016
          ],
          "type": "data"
         },
         "marker": {
          "color": "#750D86"
         },
         "mode": "markers",
         "name": "no debiasing1 outcome",
         "showlegend": false,
         "type": "scatter",
         "x": [
          0.08496780546821205
         ],
         "xaxis": "x44",
         "y": [
          0.5975085429733131
         ],
         "yaxis": "y44"
        },
        {
         "error_x": {
          "array": [
           -0.012954617921213399
          ],
          "type": "data"
         },
         "error_y": {
          "array": [
           -0.01671695646667959
          ],
          "type": "data"
         },
         "marker": {
          "color": "#EB663B"
         },
         "mode": "markers",
         "name": "reweighing1 outcome",
         "showlegend": false,
         "type": "scatter",
         "x": [
          0.08512966543149375
         ],
         "xaxis": "x44",
         "y": [
          0.5877956643830798
         ],
         "yaxis": "y44"
        },
        {
         "error_x": {
          "array": [
           -0.01673170986549556
          ],
          "type": "data"
         },
         "error_y": {
          "array": [
           -0.013512656635746856
          ],
          "type": "data"
         },
         "marker": {
          "color": "#511CFB"
         },
         "mode": "markers",
         "name": "calibrated equal odds using fpr cost1 outcome",
         "showlegend": false,
         "type": "scatter",
         "x": [
          0.06786599402009061
         ],
         "xaxis": "x44",
         "y": [
          0.5919856425597415
         ],
         "yaxis": "y44"
        },
        {
         "error_x": {
          "array": [
           -0.01484884783771774
          ],
          "type": "data"
         },
         "error_y": {
          "array": [
           -0.0156536264512408
          ],
          "type": "data"
         },
         "marker": {
          "color": "#00A08B"
         },
         "mode": "markers",
         "name": "calibrated equal odds using fnr cost1 outcome",
         "showlegend": false,
         "type": "scatter",
         "x": [
          0.08550626235703675
         ],
         "xaxis": "x44",
         "y": [
          0.5952663104336503
         ],
         "yaxis": "y44"
        },
        {
         "error_x": {
          "array": [
           -0.018091225193089536
          ],
          "type": "data"
         },
         "error_y": {
          "array": [
           -0.013980038148015184
          ],
          "type": "data"
         },
         "marker": {
          "color": "#FB00D1"
         },
         "mode": "markers",
         "name": "calibrated equal odds using weighted cost1 outcome",
         "showlegend": false,
         "type": "scatter",
         "x": [
          0.06829081163739964
         ],
         "xaxis": "x44",
         "y": [
          0.5936741279379202
         ],
         "yaxis": "y44"
        },
        {
         "error_x": {
          "array": [
           -0.017161535511095935
          ],
          "type": "data"
         },
         "error_y": {
          "array": [
           -0.015030126758064033
          ],
          "type": "data"
         },
         "marker": {
          "color": "#FC0080"
         },
         "mode": "markers",
         "name": "equal odds1 outcome",
         "showlegend": false,
         "type": "scatter",
         "x": [
          0.06484613527683707
         ],
         "xaxis": "x44",
         "y": [
          0.5941161716165024
         ],
         "yaxis": "y44"
        },
        {
         "line": {
          "color": "#2E91E5"
         },
         "mode": "lines+markers+text",
         "name": "fairea baseline",
         "showlegend": false,
         "text": [
          "F_0",
          "F_10",
          "F_20",
          "F_30",
          "F_40",
          "F_50",
          "F_60",
          "F_70",
          "F_80",
          "F_90",
          "F_100"
         ],
         "textposition": "bottom right",
         "type": "scatter",
         "x": [
          0.08447361056413193,
          0.09287042020233229,
          0.10241481794777955,
          0.1114273380347503,
          0.12097984274861938,
          0.13016040704528734,
          0.1386660871150868,
          0.1470059289013044,
          0.15651007545989506,
          0.16525117799240463,
          0.17393512145889978
         ],
         "xaxis": "x44",
         "y": [
          0.5973146333260341,
          0.56095506285642,
          0.5222895396660925,
          0.48458869223921724,
          0.4459021644505174,
          0.3998314245133483,
          0.35249996974595754,
          0.30282705322051995,
          0.24674687586430377,
          0.17246684254216935,
          0
         ],
         "yaxis": "y44"
        },
        {
         "line": {
          "color": "#E15F99"
         },
         "mode": "lines+markers+text",
         "name": "fairea baseline",
         "showlegend": false,
         "text": [
          "F_0",
          "F_10",
          "F_20",
          "F_30",
          "F_40",
          "F_50",
          "F_60",
          "F_70",
          "F_80",
          "F_90",
          "F_100"
         ],
         "textposition": "bottom right",
         "type": "scatter",
         "x": [
          0.08447361056413193,
          0.09287042020233229,
          0.10241481794777955,
          0.1114273380347503,
          0.12097984274861938,
          0.13016040704528734,
          0.1386660871150868,
          0.1470059289013044,
          0.15651007545989506,
          0.16525117799240463,
          0.17393512145889978
         ],
         "xaxis": "x44",
         "y": [
          0.5973146333260341,
          0.56095506285642,
          0.5222895396660925,
          0.48458869223921724,
          0.4459021644505174,
          0.3998314245133483,
          0.35249996974595754,
          0.30282705322051995,
          0.24674687586430377,
          0.17246684254216935,
          0
         ],
         "yaxis": "y44"
        }
       ],
       "layout": {
        "height": 3200,
        "template": {
         "data": {
          "bar": [
           {
            "error_x": {
             "color": "#2a3f5f"
            },
            "error_y": {
             "color": "#2a3f5f"
            },
            "marker": {
             "line": {
              "color": "#E5ECF6",
              "width": 0.5
             },
             "pattern": {
              "fillmode": "overlay",
              "size": 10,
              "solidity": 0.2
             }
            },
            "type": "bar"
           }
          ],
          "barpolar": [
           {
            "marker": {
             "line": {
              "color": "#E5ECF6",
              "width": 0.5
             },
             "pattern": {
              "fillmode": "overlay",
              "size": 10,
              "solidity": 0.2
             }
            },
            "type": "barpolar"
           }
          ],
          "carpet": [
           {
            "aaxis": {
             "endlinecolor": "#2a3f5f",
             "gridcolor": "white",
             "linecolor": "white",
             "minorgridcolor": "white",
             "startlinecolor": "#2a3f5f"
            },
            "baxis": {
             "endlinecolor": "#2a3f5f",
             "gridcolor": "white",
             "linecolor": "white",
             "minorgridcolor": "white",
             "startlinecolor": "#2a3f5f"
            },
            "type": "carpet"
           }
          ],
          "choropleth": [
           {
            "colorbar": {
             "outlinewidth": 0,
             "ticks": ""
            },
            "type": "choropleth"
           }
          ],
          "contour": [
           {
            "colorbar": {
             "outlinewidth": 0,
             "ticks": ""
            },
            "colorscale": [
             [
              0,
              "#0d0887"
             ],
             [
              0.1111111111111111,
              "#46039f"
             ],
             [
              0.2222222222222222,
              "#7201a8"
             ],
             [
              0.3333333333333333,
              "#9c179e"
             ],
             [
              0.4444444444444444,
              "#bd3786"
             ],
             [
              0.5555555555555556,
              "#d8576b"
             ],
             [
              0.6666666666666666,
              "#ed7953"
             ],
             [
              0.7777777777777778,
              "#fb9f3a"
             ],
             [
              0.8888888888888888,
              "#fdca26"
             ],
             [
              1,
              "#f0f921"
             ]
            ],
            "type": "contour"
           }
          ],
          "contourcarpet": [
           {
            "colorbar": {
             "outlinewidth": 0,
             "ticks": ""
            },
            "type": "contourcarpet"
           }
          ],
          "heatmap": [
           {
            "colorbar": {
             "outlinewidth": 0,
             "ticks": ""
            },
            "colorscale": [
             [
              0,
              "#0d0887"
             ],
             [
              0.1111111111111111,
              "#46039f"
             ],
             [
              0.2222222222222222,
              "#7201a8"
             ],
             [
              0.3333333333333333,
              "#9c179e"
             ],
             [
              0.4444444444444444,
              "#bd3786"
             ],
             [
              0.5555555555555556,
              "#d8576b"
             ],
             [
              0.6666666666666666,
              "#ed7953"
             ],
             [
              0.7777777777777778,
              "#fb9f3a"
             ],
             [
              0.8888888888888888,
              "#fdca26"
             ],
             [
              1,
              "#f0f921"
             ]
            ],
            "type": "heatmap"
           }
          ],
          "heatmapgl": [
           {
            "colorbar": {
             "outlinewidth": 0,
             "ticks": ""
            },
            "colorscale": [
             [
              0,
              "#0d0887"
             ],
             [
              0.1111111111111111,
              "#46039f"
             ],
             [
              0.2222222222222222,
              "#7201a8"
             ],
             [
              0.3333333333333333,
              "#9c179e"
             ],
             [
              0.4444444444444444,
              "#bd3786"
             ],
             [
              0.5555555555555556,
              "#d8576b"
             ],
             [
              0.6666666666666666,
              "#ed7953"
             ],
             [
              0.7777777777777778,
              "#fb9f3a"
             ],
             [
              0.8888888888888888,
              "#fdca26"
             ],
             [
              1,
              "#f0f921"
             ]
            ],
            "type": "heatmapgl"
           }
          ],
          "histogram": [
           {
            "marker": {
             "pattern": {
              "fillmode": "overlay",
              "size": 10,
              "solidity": 0.2
             }
            },
            "type": "histogram"
           }
          ],
          "histogram2d": [
           {
            "colorbar": {
             "outlinewidth": 0,
             "ticks": ""
            },
            "colorscale": [
             [
              0,
              "#0d0887"
             ],
             [
              0.1111111111111111,
              "#46039f"
             ],
             [
              0.2222222222222222,
              "#7201a8"
             ],
             [
              0.3333333333333333,
              "#9c179e"
             ],
             [
              0.4444444444444444,
              "#bd3786"
             ],
             [
              0.5555555555555556,
              "#d8576b"
             ],
             [
              0.6666666666666666,
              "#ed7953"
             ],
             [
              0.7777777777777778,
              "#fb9f3a"
             ],
             [
              0.8888888888888888,
              "#fdca26"
             ],
             [
              1,
              "#f0f921"
             ]
            ],
            "type": "histogram2d"
           }
          ],
          "histogram2dcontour": [
           {
            "colorbar": {
             "outlinewidth": 0,
             "ticks": ""
            },
            "colorscale": [
             [
              0,
              "#0d0887"
             ],
             [
              0.1111111111111111,
              "#46039f"
             ],
             [
              0.2222222222222222,
              "#7201a8"
             ],
             [
              0.3333333333333333,
              "#9c179e"
             ],
             [
              0.4444444444444444,
              "#bd3786"
             ],
             [
              0.5555555555555556,
              "#d8576b"
             ],
             [
              0.6666666666666666,
              "#ed7953"
             ],
             [
              0.7777777777777778,
              "#fb9f3a"
             ],
             [
              0.8888888888888888,
              "#fdca26"
             ],
             [
              1,
              "#f0f921"
             ]
            ],
            "type": "histogram2dcontour"
           }
          ],
          "mesh3d": [
           {
            "colorbar": {
             "outlinewidth": 0,
             "ticks": ""
            },
            "type": "mesh3d"
           }
          ],
          "parcoords": [
           {
            "line": {
             "colorbar": {
              "outlinewidth": 0,
              "ticks": ""
             }
            },
            "type": "parcoords"
           }
          ],
          "pie": [
           {
            "automargin": true,
            "type": "pie"
           }
          ],
          "scatter": [
           {
            "fillpattern": {
             "fillmode": "overlay",
             "size": 10,
             "solidity": 0.2
            },
            "type": "scatter"
           }
          ],
          "scatter3d": [
           {
            "line": {
             "colorbar": {
              "outlinewidth": 0,
              "ticks": ""
             }
            },
            "marker": {
             "colorbar": {
              "outlinewidth": 0,
              "ticks": ""
             }
            },
            "type": "scatter3d"
           }
          ],
          "scattercarpet": [
           {
            "marker": {
             "colorbar": {
              "outlinewidth": 0,
              "ticks": ""
             }
            },
            "type": "scattercarpet"
           }
          ],
          "scattergeo": [
           {
            "marker": {
             "colorbar": {
              "outlinewidth": 0,
              "ticks": ""
             }
            },
            "type": "scattergeo"
           }
          ],
          "scattergl": [
           {
            "marker": {
             "colorbar": {
              "outlinewidth": 0,
              "ticks": ""
             }
            },
            "type": "scattergl"
           }
          ],
          "scattermapbox": [
           {
            "marker": {
             "colorbar": {
              "outlinewidth": 0,
              "ticks": ""
             }
            },
            "type": "scattermapbox"
           }
          ],
          "scatterpolar": [
           {
            "marker": {
             "colorbar": {
              "outlinewidth": 0,
              "ticks": ""
             }
            },
            "type": "scatterpolar"
           }
          ],
          "scatterpolargl": [
           {
            "marker": {
             "colorbar": {
              "outlinewidth": 0,
              "ticks": ""
             }
            },
            "type": "scatterpolargl"
           }
          ],
          "scatterternary": [
           {
            "marker": {
             "colorbar": {
              "outlinewidth": 0,
              "ticks": ""
             }
            },
            "type": "scatterternary"
           }
          ],
          "surface": [
           {
            "colorbar": {
             "outlinewidth": 0,
             "ticks": ""
            },
            "colorscale": [
             [
              0,
              "#0d0887"
             ],
             [
              0.1111111111111111,
              "#46039f"
             ],
             [
              0.2222222222222222,
              "#7201a8"
             ],
             [
              0.3333333333333333,
              "#9c179e"
             ],
             [
              0.4444444444444444,
              "#bd3786"
             ],
             [
              0.5555555555555556,
              "#d8576b"
             ],
             [
              0.6666666666666666,
              "#ed7953"
             ],
             [
              0.7777777777777778,
              "#fb9f3a"
             ],
             [
              0.8888888888888888,
              "#fdca26"
             ],
             [
              1,
              "#f0f921"
             ]
            ],
            "type": "surface"
           }
          ],
          "table": [
           {
            "cells": {
             "fill": {
              "color": "#EBF0F8"
             },
             "line": {
              "color": "white"
             }
            },
            "header": {
             "fill": {
              "color": "#C8D4E3"
             },
             "line": {
              "color": "white"
             }
            },
            "type": "table"
           }
          ]
         },
         "layout": {
          "annotationdefaults": {
           "arrowcolor": "#2a3f5f",
           "arrowhead": 0,
           "arrowwidth": 1
          },
          "autotypenumbers": "strict",
          "coloraxis": {
           "colorbar": {
            "outlinewidth": 0,
            "ticks": ""
           }
          },
          "colorscale": {
           "diverging": [
            [
             0,
             "#8e0152"
            ],
            [
             0.1,
             "#c51b7d"
            ],
            [
             0.2,
             "#de77ae"
            ],
            [
             0.3,
             "#f1b6da"
            ],
            [
             0.4,
             "#fde0ef"
            ],
            [
             0.5,
             "#f7f7f7"
            ],
            [
             0.6,
             "#e6f5d0"
            ],
            [
             0.7,
             "#b8e186"
            ],
            [
             0.8,
             "#7fbc41"
            ],
            [
             0.9,
             "#4d9221"
            ],
            [
             1,
             "#276419"
            ]
           ],
           "sequential": [
            [
             0,
             "#0d0887"
            ],
            [
             0.1111111111111111,
             "#46039f"
            ],
            [
             0.2222222222222222,
             "#7201a8"
            ],
            [
             0.3333333333333333,
             "#9c179e"
            ],
            [
             0.4444444444444444,
             "#bd3786"
            ],
            [
             0.5555555555555556,
             "#d8576b"
            ],
            [
             0.6666666666666666,
             "#ed7953"
            ],
            [
             0.7777777777777778,
             "#fb9f3a"
            ],
            [
             0.8888888888888888,
             "#fdca26"
            ],
            [
             1,
             "#f0f921"
            ]
           ],
           "sequentialminus": [
            [
             0,
             "#0d0887"
            ],
            [
             0.1111111111111111,
             "#46039f"
            ],
            [
             0.2222222222222222,
             "#7201a8"
            ],
            [
             0.3333333333333333,
             "#9c179e"
            ],
            [
             0.4444444444444444,
             "#bd3786"
            ],
            [
             0.5555555555555556,
             "#d8576b"
            ],
            [
             0.6666666666666666,
             "#ed7953"
            ],
            [
             0.7777777777777778,
             "#fb9f3a"
            ],
            [
             0.8888888888888888,
             "#fdca26"
            ],
            [
             1,
             "#f0f921"
            ]
           ]
          },
          "colorway": [
           "#636efa",
           "#EF553B",
           "#00cc96",
           "#ab63fa",
           "#FFA15A",
           "#19d3f3",
           "#FF6692",
           "#B6E880",
           "#FF97FF",
           "#FECB52"
          ],
          "font": {
           "color": "#2a3f5f"
          },
          "geo": {
           "bgcolor": "white",
           "lakecolor": "white",
           "landcolor": "#E5ECF6",
           "showlakes": true,
           "showland": true,
           "subunitcolor": "white"
          },
          "hoverlabel": {
           "align": "left"
          },
          "hovermode": "closest",
          "mapbox": {
           "style": "light"
          },
          "paper_bgcolor": "white",
          "plot_bgcolor": "#E5ECF6",
          "polar": {
           "angularaxis": {
            "gridcolor": "white",
            "linecolor": "white",
            "ticks": ""
           },
           "bgcolor": "#E5ECF6",
           "radialaxis": {
            "gridcolor": "white",
            "linecolor": "white",
            "ticks": ""
           }
          },
          "scene": {
           "xaxis": {
            "backgroundcolor": "#E5ECF6",
            "gridcolor": "white",
            "gridwidth": 2,
            "linecolor": "white",
            "showbackground": true,
            "ticks": "",
            "zerolinecolor": "white"
           },
           "yaxis": {
            "backgroundcolor": "#E5ECF6",
            "gridcolor": "white",
            "gridwidth": 2,
            "linecolor": "white",
            "showbackground": true,
            "ticks": "",
            "zerolinecolor": "white"
           },
           "zaxis": {
            "backgroundcolor": "#E5ECF6",
            "gridcolor": "white",
            "gridwidth": 2,
            "linecolor": "white",
            "showbackground": true,
            "ticks": "",
            "zerolinecolor": "white"
           }
          },
          "shapedefaults": {
           "line": {
            "color": "#2a3f5f"
           }
          },
          "ternary": {
           "aaxis": {
            "gridcolor": "white",
            "linecolor": "white",
            "ticks": ""
           },
           "baxis": {
            "gridcolor": "white",
            "linecolor": "white",
            "ticks": ""
           },
           "bgcolor": "#E5ECF6",
           "caxis": {
            "gridcolor": "white",
            "linecolor": "white",
            "ticks": ""
           }
          },
          "title": {
           "x": 0.05
          },
          "xaxis": {
           "automargin": true,
           "gridcolor": "white",
           "linecolor": "white",
           "ticks": "",
           "title": {
            "standoff": 15
           },
           "zerolinecolor": "white",
           "zerolinewidth": 2
          },
          "yaxis": {
           "automargin": true,
           "gridcolor": "white",
           "linecolor": "white",
           "ticks": "",
           "title": {
            "standoff": 15
           },
           "zerolinecolor": "white",
           "zerolinewidth": 2
          }
         }
        },
        "width": 2200,
        "xaxis": {
         "anchor": "y",
         "domain": [
          0,
          0.2125
         ],
         "dtick": 0.1,
         "tick0": 0
        },
        "xaxis10": {
         "anchor": "y10",
         "domain": [
          0.2625,
          0.475
         ],
         "dtick": 0.1,
         "tick0": 0
        },
        "xaxis11": {
         "anchor": "y11",
         "domain": [
          0.525,
          0.7375
         ],
         "dtick": 0.1,
         "tick0": 0
        },
        "xaxis12": {
         "anchor": "y12",
         "domain": [
          0.7875,
          1
         ],
         "dtick": 0.1,
         "tick0": 0
        },
        "xaxis13": {
         "anchor": "y13",
         "domain": [
          0,
          0.2125
         ],
         "dtick": 0.1,
         "tick0": 0
        },
        "xaxis14": {
         "anchor": "y14",
         "domain": [
          0.2625,
          0.475
         ],
         "dtick": 0.1,
         "tick0": 0
        },
        "xaxis15": {
         "anchor": "y15",
         "domain": [
          0.525,
          0.7375
         ],
         "dtick": 0.1,
         "tick0": 0
        },
        "xaxis16": {
         "anchor": "y16",
         "domain": [
          0.7875,
          1
         ],
         "dtick": 0.1,
         "tick0": 0
        },
        "xaxis17": {
         "anchor": "y17",
         "domain": [
          0,
          0.2125
         ],
         "dtick": 0.1,
         "tick0": 0
        },
        "xaxis18": {
         "anchor": "y18",
         "domain": [
          0.2625,
          0.475
         ],
         "dtick": 0.1,
         "tick0": 0
        },
        "xaxis19": {
         "anchor": "y19",
         "domain": [
          0.525,
          0.7375
         ],
         "dtick": 0.1,
         "tick0": 0
        },
        "xaxis2": {
         "anchor": "y2",
         "domain": [
          0.2625,
          0.475
         ],
         "dtick": 0.1,
         "tick0": 0
        },
        "xaxis20": {
         "anchor": "y20",
         "domain": [
          0.7875,
          1
         ],
         "dtick": 0.1,
         "tick0": 0
        },
        "xaxis21": {
         "anchor": "y21",
         "domain": [
          0,
          0.2125
         ],
         "dtick": 0.1,
         "tick0": 0
        },
        "xaxis22": {
         "anchor": "y22",
         "domain": [
          0.2625,
          0.475
         ],
         "dtick": 0.1,
         "tick0": 0
        },
        "xaxis23": {
         "anchor": "y23",
         "domain": [
          0.525,
          0.7375
         ],
         "dtick": 0.1,
         "tick0": 0
        },
        "xaxis24": {
         "anchor": "y24",
         "domain": [
          0.7875,
          1
         ],
         "dtick": 0.1,
         "tick0": 0
        },
        "xaxis25": {
         "anchor": "y25",
         "domain": [
          0,
          0.2125
         ],
         "dtick": 0.1,
         "tick0": 0
        },
        "xaxis26": {
         "anchor": "y26",
         "domain": [
          0.2625,
          0.475
         ],
         "dtick": 0.1,
         "tick0": 0
        },
        "xaxis27": {
         "anchor": "y27",
         "domain": [
          0.525,
          0.7375
         ],
         "dtick": 0.1,
         "tick0": 0
        },
        "xaxis28": {
         "anchor": "y28",
         "domain": [
          0.7875,
          1
         ],
         "dtick": 0.1,
         "tick0": 0
        },
        "xaxis29": {
         "anchor": "y29",
         "domain": [
          0,
          0.2125
         ],
         "dtick": 0.1,
         "tick0": 0
        },
        "xaxis3": {
         "anchor": "y3",
         "domain": [
          0.525,
          0.7375
         ],
         "dtick": 0.1,
         "tick0": 0
        },
        "xaxis30": {
         "anchor": "y30",
         "domain": [
          0.2625,
          0.475
         ],
         "dtick": 0.1,
         "tick0": 0
        },
        "xaxis31": {
         "anchor": "y31",
         "domain": [
          0.525,
          0.7375
         ],
         "dtick": 0.1,
         "tick0": 0
        },
        "xaxis32": {
         "anchor": "y32",
         "domain": [
          0.7875,
          1
         ],
         "dtick": 0.1,
         "tick0": 0
        },
        "xaxis33": {
         "anchor": "y33",
         "domain": [
          0,
          0.2125
         ],
         "dtick": 0.1,
         "tick0": 0
        },
        "xaxis34": {
         "anchor": "y34",
         "domain": [
          0.2625,
          0.475
         ],
         "dtick": 0.1,
         "tick0": 0
        },
        "xaxis35": {
         "anchor": "y35",
         "domain": [
          0.525,
          0.7375
         ],
         "dtick": 0.1,
         "tick0": 0
        },
        "xaxis36": {
         "anchor": "y36",
         "domain": [
          0.7875,
          1
         ],
         "dtick": 0.1,
         "tick0": 0
        },
        "xaxis37": {
         "anchor": "y37",
         "domain": [
          0,
          0.2125
         ],
         "dtick": 0.1,
         "tick0": 0
        },
        "xaxis38": {
         "anchor": "y38",
         "domain": [
          0.2625,
          0.475
         ],
         "dtick": 0.1,
         "tick0": 0
        },
        "xaxis39": {
         "anchor": "y39",
         "domain": [
          0.525,
          0.7375
         ],
         "dtick": 0.1,
         "tick0": 0
        },
        "xaxis4": {
         "anchor": "y4",
         "domain": [
          0.7875,
          1
         ],
         "dtick": 0.1,
         "tick0": 0
        },
        "xaxis40": {
         "anchor": "y40",
         "domain": [
          0.7875,
          1
         ],
         "dtick": 0.1,
         "tick0": 0
        },
        "xaxis41": {
         "anchor": "y41",
         "domain": [
          0,
          0.2125
         ],
         "dtick": 0.1,
         "tick0": 0,
         "title": {
          "text": "Bias (statistical parity difference)"
         }
        },
        "xaxis42": {
         "anchor": "y42",
         "domain": [
          0.2625,
          0.475
         ],
         "dtick": 0.1,
         "tick0": 0,
         "title": {
          "text": "Bias (average odds difference)"
         }
        },
        "xaxis43": {
         "anchor": "y43",
         "domain": [
          0.525,
          0.7375
         ],
         "dtick": 0.1,
         "tick0": 0,
         "title": {
          "text": "Bias (equal opportunity difference)"
         }
        },
        "xaxis44": {
         "anchor": "y44",
         "domain": [
          0.7875,
          1
         ],
         "dtick": 0.1,
         "tick0": 0,
         "title": {
          "text": "Bias (error rate difference)"
         }
        },
        "xaxis5": {
         "anchor": "y5",
         "domain": [
          0,
          0.2125
         ],
         "dtick": 0.1,
         "tick0": 0
        },
        "xaxis6": {
         "anchor": "y6",
         "domain": [
          0.2625,
          0.475
         ],
         "dtick": 0.1,
         "tick0": 0
        },
        "xaxis7": {
         "anchor": "y7",
         "domain": [
          0.525,
          0.7375
         ],
         "dtick": 0.1,
         "tick0": 0
        },
        "xaxis8": {
         "anchor": "y8",
         "domain": [
          0.7875,
          1
         ],
         "dtick": 0.1,
         "tick0": 0
        },
        "xaxis9": {
         "anchor": "y9",
         "domain": [
          0,
          0.2125
         ],
         "dtick": 0.1,
         "tick0": 0
        },
        "yaxis": {
         "anchor": "x",
         "domain": [
          0.9338842975206612,
          1
         ],
         "dtick": 0.1,
         "tick0": 0,
         "title": {
          "text": "Performance (accuracy)"
         }
        },
        "yaxis10": {
         "anchor": "x10",
         "domain": [
          0.7471074380165289,
          0.8132231404958677
         ],
         "dtick": 0.1,
         "tick0": 0
        },
        "yaxis11": {
         "anchor": "x11",
         "domain": [
          0.7471074380165289,
          0.8132231404958677
         ],
         "dtick": 0.1,
         "tick0": 0
        },
        "yaxis12": {
         "anchor": "x12",
         "domain": [
          0.7471074380165289,
          0.8132231404958677
         ],
         "dtick": 0.1,
         "tick0": 0
        },
        "yaxis13": {
         "anchor": "x13",
         "domain": [
          0.6537190082644628,
          0.7198347107438017
         ],
         "dtick": 0.1,
         "tick0": 0,
         "title": {
          "text": "Performance (recall macro average)"
         }
        },
        "yaxis14": {
         "anchor": "x14",
         "domain": [
          0.6537190082644628,
          0.7198347107438017
         ],
         "dtick": 0.1,
         "tick0": 0
        },
        "yaxis15": {
         "anchor": "x15",
         "domain": [
          0.6537190082644628,
          0.7198347107438017
         ],
         "dtick": 0.1,
         "tick0": 0
        },
        "yaxis16": {
         "anchor": "x16",
         "domain": [
          0.6537190082644628,
          0.7198347107438017
         ],
         "dtick": 0.1,
         "tick0": 0
        },
        "yaxis17": {
         "anchor": "x17",
         "domain": [
          0.5603305785123966,
          0.6264462809917355
         ],
         "dtick": 0.1,
         "tick0": 0,
         "title": {
          "text": "Performance (precision positive class)"
         }
        },
        "yaxis18": {
         "anchor": "x18",
         "domain": [
          0.5603305785123966,
          0.6264462809917355
         ],
         "dtick": 0.1,
         "tick0": 0
        },
        "yaxis19": {
         "anchor": "x19",
         "domain": [
          0.5603305785123966,
          0.6264462809917355
         ],
         "dtick": 0.1,
         "tick0": 0
        },
        "yaxis2": {
         "anchor": "x2",
         "domain": [
          0.9338842975206612,
          1
         ],
         "dtick": 0.1,
         "tick0": 0
        },
        "yaxis20": {
         "anchor": "x20",
         "domain": [
          0.5603305785123966,
          0.6264462809917355
         ],
         "dtick": 0.1,
         "tick0": 0
        },
        "yaxis21": {
         "anchor": "x21",
         "domain": [
          0.4669421487603306,
          0.5330578512396694
         ],
         "dtick": 0.1,
         "tick0": 0,
         "title": {
          "text": "Performance (precision negative class)"
         }
        },
        "yaxis22": {
         "anchor": "x22",
         "domain": [
          0.4669421487603306,
          0.5330578512396694
         ],
         "dtick": 0.1,
         "tick0": 0
        },
        "yaxis23": {
         "anchor": "x23",
         "domain": [
          0.4669421487603306,
          0.5330578512396694
         ],
         "dtick": 0.1,
         "tick0": 0
        },
        "yaxis24": {
         "anchor": "x24",
         "domain": [
          0.4669421487603306,
          0.5330578512396694
         ],
         "dtick": 0.1,
         "tick0": 0
        },
        "yaxis25": {
         "anchor": "x25",
         "domain": [
          0.37355371900826445,
          0.4396694214876033
         ],
         "dtick": 0.1,
         "tick0": 0,
         "title": {
          "text": "Performance (precision macro average)"
         }
        },
        "yaxis26": {
         "anchor": "x26",
         "domain": [
          0.37355371900826445,
          0.4396694214876033
         ],
         "dtick": 0.1,
         "tick0": 0
        },
        "yaxis27": {
         "anchor": "x27",
         "domain": [
          0.37355371900826445,
          0.4396694214876033
         ],
         "dtick": 0.1,
         "tick0": 0
        },
        "yaxis28": {
         "anchor": "x28",
         "domain": [
          0.37355371900826445,
          0.4396694214876033
         ],
         "dtick": 0.1,
         "tick0": 0
        },
        "yaxis29": {
         "anchor": "x29",
         "domain": [
          0.2801652892561983,
          0.34628099173553717
         ],
         "dtick": 0.1,
         "tick0": 0,
         "title": {
          "text": "Performance (f1 score positive class)"
         }
        },
        "yaxis3": {
         "anchor": "x3",
         "domain": [
          0.9338842975206612,
          1
         ],
         "dtick": 0.1,
         "tick0": 0
        },
        "yaxis30": {
         "anchor": "x30",
         "domain": [
          0.2801652892561983,
          0.34628099173553717
         ],
         "dtick": 0.1,
         "tick0": 0
        },
        "yaxis31": {
         "anchor": "x31",
         "domain": [
          0.2801652892561983,
          0.34628099173553717
         ],
         "dtick": 0.1,
         "tick0": 0
        },
        "yaxis32": {
         "anchor": "x32",
         "domain": [
          0.2801652892561983,
          0.34628099173553717
         ],
         "dtick": 0.1,
         "tick0": 0
        },
        "yaxis33": {
         "anchor": "x33",
         "domain": [
          0.18677685950413223,
          0.2528925619834711
         ],
         "dtick": 0.1,
         "tick0": 0,
         "title": {
          "text": "Performance (f1 score negative class)"
         }
        },
        "yaxis34": {
         "anchor": "x34",
         "domain": [
          0.18677685950413223,
          0.2528925619834711
         ],
         "dtick": 0.1,
         "tick0": 0
        },
        "yaxis35": {
         "anchor": "x35",
         "domain": [
          0.18677685950413223,
          0.2528925619834711
         ],
         "dtick": 0.1,
         "tick0": 0
        },
        "yaxis36": {
         "anchor": "x36",
         "domain": [
          0.18677685950413223,
          0.2528925619834711
         ],
         "dtick": 0.1,
         "tick0": 0
        },
        "yaxis37": {
         "anchor": "x37",
         "domain": [
          0.09338842975206611,
          0.15950413223140497
         ],
         "dtick": 0.1,
         "tick0": 0,
         "title": {
          "text": "Performance (f1 score macro average)"
         }
        },
        "yaxis38": {
         "anchor": "x38",
         "domain": [
          0.09338842975206611,
          0.15950413223140497
         ],
         "dtick": 0.1,
         "tick0": 0
        },
        "yaxis39": {
         "anchor": "x39",
         "domain": [
          0.09338842975206611,
          0.15950413223140497
         ],
         "dtick": 0.1,
         "tick0": 0
        },
        "yaxis4": {
         "anchor": "x4",
         "domain": [
          0.9338842975206612,
          1
         ],
         "dtick": 0.1,
         "tick0": 0
        },
        "yaxis40": {
         "anchor": "x40",
         "domain": [
          0.09338842975206611,
          0.15950413223140497
         ],
         "dtick": 0.1,
         "tick0": 0
        },
        "yaxis41": {
         "anchor": "x41",
         "domain": [
          0,
          0.06611570247933884
         ],
         "dtick": 0.1,
         "tick0": 0,
         "title": {
          "text": "Performance (Matthews correlation coefficient)"
         }
        },
        "yaxis42": {
         "anchor": "x42",
         "domain": [
          0,
          0.06611570247933884
         ],
         "dtick": 0.1,
         "tick0": 0
        },
        "yaxis43": {
         "anchor": "x43",
         "domain": [
          0,
          0.06611570247933884
         ],
         "dtick": 0.1,
         "tick0": 0
        },
        "yaxis44": {
         "anchor": "x44",
         "domain": [
          0,
          0.06611570247933884
         ],
         "dtick": 0.1,
         "tick0": 0
        },
        "yaxis5": {
         "anchor": "x5",
         "domain": [
          0.8404958677685951,
          0.9066115702479339
         ],
         "dtick": 0.1,
         "tick0": 0,
         "title": {
          "text": "Performance (recall positive class)"
         }
        },
        "yaxis6": {
         "anchor": "x6",
         "domain": [
          0.8404958677685951,
          0.9066115702479339
         ],
         "dtick": 0.1,
         "tick0": 0
        },
        "yaxis7": {
         "anchor": "x7",
         "domain": [
          0.8404958677685951,
          0.9066115702479339
         ],
         "dtick": 0.1,
         "tick0": 0
        },
        "yaxis8": {
         "anchor": "x8",
         "domain": [
          0.8404958677685951,
          0.9066115702479339
         ],
         "dtick": 0.1,
         "tick0": 0
        },
        "yaxis9": {
         "anchor": "x9",
         "domain": [
          0.7471074380165289,
          0.8132231404958677
         ],
         "dtick": 0.1,
         "tick0": 0,
         "title": {
          "text": "Performance (recall negative class)"
         }
        }
       }
      }
     },
     "metadata": {},
     "output_type": "display_data"
    }
   ],
   "source": [
    "graph_3.show_all_subplots()"
   ]
  }
 ],
 "metadata": {
  "kernelspec": {
   "display_name": "bias_framework-lO12qBfZ",
   "language": "python",
   "name": "python3"
  },
  "language_info": {
   "codemirror_mode": {
    "name": "ipython",
    "version": 3
   },
   "file_extension": ".py",
   "mimetype": "text/x-python",
   "name": "python",
   "nbconvert_exporter": "python",
   "pygments_lexer": "ipython3",
   "version": "3.11.8"
  },
  "orig_nbformat": 4
 },
 "nbformat": 4,
 "nbformat_minor": 2
}
