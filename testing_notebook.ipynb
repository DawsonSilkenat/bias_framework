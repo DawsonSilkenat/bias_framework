{
 "cells": [
  {
   "cell_type": "code",
   "execution_count": 1,
   "metadata": {},
   "outputs": [
    {
     "name": "stderr",
     "output_type": "stream",
     "text": [
      "WARNING:root:No module named 'tensorflow': AdversarialDebiasing will be unavailable. To install, run:\n",
      "pip install 'aif360[AdversarialDebiasing]'\n",
      "WARNING:root:No module named 'tensorflow': AdversarialDebiasing will be unavailable. To install, run:\n",
      "pip install 'aif360[AdversarialDebiasing]'\n",
      "WARNING:root:No module named 'fairlearn': ExponentiatedGradientReduction will be unavailable. To install, run:\n",
      "pip install 'aif360[Reductions]'\n",
      "WARNING:root:No module named 'fairlearn': GridSearchReduction will be unavailable. To install, run:\n",
      "pip install 'aif360[Reductions]'\n",
      "WARNING:root:No module named 'inFairness': SenSeI and SenSR will be unavailable. To install, run:\n",
      "pip install 'aif360[inFairness]'\n",
      "WARNING:root:No module named 'fairlearn': GridSearchReduction will be unavailable. To install, run:\n",
      "pip install 'aif360[Reductions]'\n"
     ]
    }
   ],
   "source": [
    "from bias_framework import Bias_Framework\n",
    "import pandas as pd\n",
    "from sklearn.ensemble import RandomForestClassifier\n"
   ]
  },
  {
   "cell_type": "markdown",
   "metadata": {},
   "source": [
    "Download data from https://archive.ics.uci.edu/dataset/2/adult and unzip in this directory"
   ]
  },
  {
   "cell_type": "code",
   "execution_count": 2,
   "metadata": {},
   "outputs": [],
   "source": [
    "# Data appears not to include column names, but these can be found in adult.names. fnlwgt isn't a very good name, but it isn't mine\n",
    "df_census_income_train = pd.read_csv(\"./adult/adult.data\", names=[\"age\", \"workclass\", \"fnlwgt\", \"education\", \"education-num\", \"marital-status\", \"occupation\", \"relationship\", \"race\", \"sex\", \"capital-gain\", \"capital-loss\", \"hours-per-week\", \"native-country\", \"income\"])\n",
    "\n",
    "df_census_income_validation = pd.read_csv(\"./adult/adult.test\", skiprows=1, names=[\"age\", \"workclass\", \"fnlwgt\", \"education\", \"education-num\", \"marital-status\", \"occupation\", \"relationship\", \"race\", \"sex\", \"capital-gain\", \"capital-loss\", \"hours-per-week\", \"native-country\", \"income\"])\n",
    "\n"
   ]
  },
  {
   "cell_type": "code",
   "execution_count": 3,
   "metadata": {},
   "outputs": [
    {
     "data": {
      "text/html": [
       "<div>\n",
       "<style scoped>\n",
       "    .dataframe tbody tr th:only-of-type {\n",
       "        vertical-align: middle;\n",
       "    }\n",
       "\n",
       "    .dataframe tbody tr th {\n",
       "        vertical-align: top;\n",
       "    }\n",
       "\n",
       "    .dataframe thead th {\n",
       "        text-align: right;\n",
       "    }\n",
       "</style>\n",
       "<table border=\"1\" class=\"dataframe\">\n",
       "  <thead>\n",
       "    <tr style=\"text-align: right;\">\n",
       "      <th></th>\n",
       "      <th>age</th>\n",
       "      <th>workclass</th>\n",
       "      <th>fnlwgt</th>\n",
       "      <th>education</th>\n",
       "      <th>education-num</th>\n",
       "      <th>marital-status</th>\n",
       "      <th>occupation</th>\n",
       "      <th>relationship</th>\n",
       "      <th>race</th>\n",
       "      <th>sex</th>\n",
       "      <th>capital-gain</th>\n",
       "      <th>capital-loss</th>\n",
       "      <th>hours-per-week</th>\n",
       "      <th>native-country</th>\n",
       "      <th>income</th>\n",
       "    </tr>\n",
       "  </thead>\n",
       "  <tbody>\n",
       "    <tr>\n",
       "      <th>0</th>\n",
       "      <td>39</td>\n",
       "      <td>State-gov</td>\n",
       "      <td>77516</td>\n",
       "      <td>Bachelors</td>\n",
       "      <td>13</td>\n",
       "      <td>Never-married</td>\n",
       "      <td>Adm-clerical</td>\n",
       "      <td>Not-in-family</td>\n",
       "      <td>White</td>\n",
       "      <td>Male</td>\n",
       "      <td>2174</td>\n",
       "      <td>0</td>\n",
       "      <td>40</td>\n",
       "      <td>United-States</td>\n",
       "      <td>&lt;=50K</td>\n",
       "    </tr>\n",
       "    <tr>\n",
       "      <th>1</th>\n",
       "      <td>50</td>\n",
       "      <td>Self-emp-not-inc</td>\n",
       "      <td>83311</td>\n",
       "      <td>Bachelors</td>\n",
       "      <td>13</td>\n",
       "      <td>Married-civ-spouse</td>\n",
       "      <td>Exec-managerial</td>\n",
       "      <td>Husband</td>\n",
       "      <td>White</td>\n",
       "      <td>Male</td>\n",
       "      <td>0</td>\n",
       "      <td>0</td>\n",
       "      <td>13</td>\n",
       "      <td>United-States</td>\n",
       "      <td>&lt;=50K</td>\n",
       "    </tr>\n",
       "    <tr>\n",
       "      <th>2</th>\n",
       "      <td>38</td>\n",
       "      <td>Private</td>\n",
       "      <td>215646</td>\n",
       "      <td>HS-grad</td>\n",
       "      <td>9</td>\n",
       "      <td>Divorced</td>\n",
       "      <td>Handlers-cleaners</td>\n",
       "      <td>Not-in-family</td>\n",
       "      <td>White</td>\n",
       "      <td>Male</td>\n",
       "      <td>0</td>\n",
       "      <td>0</td>\n",
       "      <td>40</td>\n",
       "      <td>United-States</td>\n",
       "      <td>&lt;=50K</td>\n",
       "    </tr>\n",
       "    <tr>\n",
       "      <th>3</th>\n",
       "      <td>53</td>\n",
       "      <td>Private</td>\n",
       "      <td>234721</td>\n",
       "      <td>11th</td>\n",
       "      <td>7</td>\n",
       "      <td>Married-civ-spouse</td>\n",
       "      <td>Handlers-cleaners</td>\n",
       "      <td>Husband</td>\n",
       "      <td>Black</td>\n",
       "      <td>Male</td>\n",
       "      <td>0</td>\n",
       "      <td>0</td>\n",
       "      <td>40</td>\n",
       "      <td>United-States</td>\n",
       "      <td>&lt;=50K</td>\n",
       "    </tr>\n",
       "    <tr>\n",
       "      <th>4</th>\n",
       "      <td>28</td>\n",
       "      <td>Private</td>\n",
       "      <td>338409</td>\n",
       "      <td>Bachelors</td>\n",
       "      <td>13</td>\n",
       "      <td>Married-civ-spouse</td>\n",
       "      <td>Prof-specialty</td>\n",
       "      <td>Wife</td>\n",
       "      <td>Black</td>\n",
       "      <td>Female</td>\n",
       "      <td>0</td>\n",
       "      <td>0</td>\n",
       "      <td>40</td>\n",
       "      <td>Cuba</td>\n",
       "      <td>&lt;=50K</td>\n",
       "    </tr>\n",
       "  </tbody>\n",
       "</table>\n",
       "</div>"
      ],
      "text/plain": [
       "   age          workclass  fnlwgt   education  education-num  \\\n",
       "0   39          State-gov   77516   Bachelors             13   \n",
       "1   50   Self-emp-not-inc   83311   Bachelors             13   \n",
       "2   38            Private  215646     HS-grad              9   \n",
       "3   53            Private  234721        11th              7   \n",
       "4   28            Private  338409   Bachelors             13   \n",
       "\n",
       "        marital-status          occupation    relationship    race      sex  \\\n",
       "0        Never-married        Adm-clerical   Not-in-family   White     Male   \n",
       "1   Married-civ-spouse     Exec-managerial         Husband   White     Male   \n",
       "2             Divorced   Handlers-cleaners   Not-in-family   White     Male   \n",
       "3   Married-civ-spouse   Handlers-cleaners         Husband   Black     Male   \n",
       "4   Married-civ-spouse      Prof-specialty            Wife   Black   Female   \n",
       "\n",
       "   capital-gain  capital-loss  hours-per-week  native-country  income  \n",
       "0          2174             0              40   United-States   <=50K  \n",
       "1             0             0              13   United-States   <=50K  \n",
       "2             0             0              40   United-States   <=50K  \n",
       "3             0             0              40   United-States   <=50K  \n",
       "4             0             0              40            Cuba   <=50K  "
      ]
     },
     "execution_count": 3,
     "metadata": {},
     "output_type": "execute_result"
    }
   ],
   "source": [
    "df_census_income_train.head()"
   ]
  },
  {
   "cell_type": "code",
   "execution_count": 4,
   "metadata": {},
   "outputs": [
    {
     "data": {
      "text/html": [
       "<div>\n",
       "<style scoped>\n",
       "    .dataframe tbody tr th:only-of-type {\n",
       "        vertical-align: middle;\n",
       "    }\n",
       "\n",
       "    .dataframe tbody tr th {\n",
       "        vertical-align: top;\n",
       "    }\n",
       "\n",
       "    .dataframe thead th {\n",
       "        text-align: right;\n",
       "    }\n",
       "</style>\n",
       "<table border=\"1\" class=\"dataframe\">\n",
       "  <thead>\n",
       "    <tr style=\"text-align: right;\">\n",
       "      <th></th>\n",
       "      <th>age</th>\n",
       "      <th>workclass</th>\n",
       "      <th>fnlwgt</th>\n",
       "      <th>education</th>\n",
       "      <th>education-num</th>\n",
       "      <th>marital-status</th>\n",
       "      <th>occupation</th>\n",
       "      <th>relationship</th>\n",
       "      <th>race</th>\n",
       "      <th>sex</th>\n",
       "      <th>capital-gain</th>\n",
       "      <th>capital-loss</th>\n",
       "      <th>hours-per-week</th>\n",
       "      <th>native-country</th>\n",
       "      <th>income</th>\n",
       "    </tr>\n",
       "  </thead>\n",
       "  <tbody>\n",
       "    <tr>\n",
       "      <th>0</th>\n",
       "      <td>25</td>\n",
       "      <td>Private</td>\n",
       "      <td>226802</td>\n",
       "      <td>11th</td>\n",
       "      <td>7</td>\n",
       "      <td>Never-married</td>\n",
       "      <td>Machine-op-inspct</td>\n",
       "      <td>Own-child</td>\n",
       "      <td>Black</td>\n",
       "      <td>Male</td>\n",
       "      <td>0</td>\n",
       "      <td>0</td>\n",
       "      <td>40</td>\n",
       "      <td>United-States</td>\n",
       "      <td>&lt;=50K.</td>\n",
       "    </tr>\n",
       "    <tr>\n",
       "      <th>1</th>\n",
       "      <td>38</td>\n",
       "      <td>Private</td>\n",
       "      <td>89814</td>\n",
       "      <td>HS-grad</td>\n",
       "      <td>9</td>\n",
       "      <td>Married-civ-spouse</td>\n",
       "      <td>Farming-fishing</td>\n",
       "      <td>Husband</td>\n",
       "      <td>White</td>\n",
       "      <td>Male</td>\n",
       "      <td>0</td>\n",
       "      <td>0</td>\n",
       "      <td>50</td>\n",
       "      <td>United-States</td>\n",
       "      <td>&lt;=50K.</td>\n",
       "    </tr>\n",
       "    <tr>\n",
       "      <th>2</th>\n",
       "      <td>28</td>\n",
       "      <td>Local-gov</td>\n",
       "      <td>336951</td>\n",
       "      <td>Assoc-acdm</td>\n",
       "      <td>12</td>\n",
       "      <td>Married-civ-spouse</td>\n",
       "      <td>Protective-serv</td>\n",
       "      <td>Husband</td>\n",
       "      <td>White</td>\n",
       "      <td>Male</td>\n",
       "      <td>0</td>\n",
       "      <td>0</td>\n",
       "      <td>40</td>\n",
       "      <td>United-States</td>\n",
       "      <td>&gt;50K.</td>\n",
       "    </tr>\n",
       "    <tr>\n",
       "      <th>3</th>\n",
       "      <td>44</td>\n",
       "      <td>Private</td>\n",
       "      <td>160323</td>\n",
       "      <td>Some-college</td>\n",
       "      <td>10</td>\n",
       "      <td>Married-civ-spouse</td>\n",
       "      <td>Machine-op-inspct</td>\n",
       "      <td>Husband</td>\n",
       "      <td>Black</td>\n",
       "      <td>Male</td>\n",
       "      <td>7688</td>\n",
       "      <td>0</td>\n",
       "      <td>40</td>\n",
       "      <td>United-States</td>\n",
       "      <td>&gt;50K.</td>\n",
       "    </tr>\n",
       "    <tr>\n",
       "      <th>4</th>\n",
       "      <td>18</td>\n",
       "      <td>?</td>\n",
       "      <td>103497</td>\n",
       "      <td>Some-college</td>\n",
       "      <td>10</td>\n",
       "      <td>Never-married</td>\n",
       "      <td>?</td>\n",
       "      <td>Own-child</td>\n",
       "      <td>White</td>\n",
       "      <td>Female</td>\n",
       "      <td>0</td>\n",
       "      <td>0</td>\n",
       "      <td>30</td>\n",
       "      <td>United-States</td>\n",
       "      <td>&lt;=50K.</td>\n",
       "    </tr>\n",
       "  </tbody>\n",
       "</table>\n",
       "</div>"
      ],
      "text/plain": [
       "   age   workclass  fnlwgt      education  education-num       marital-status  \\\n",
       "0   25     Private  226802           11th              7        Never-married   \n",
       "1   38     Private   89814        HS-grad              9   Married-civ-spouse   \n",
       "2   28   Local-gov  336951     Assoc-acdm             12   Married-civ-spouse   \n",
       "3   44     Private  160323   Some-college             10   Married-civ-spouse   \n",
       "4   18           ?  103497   Some-college             10        Never-married   \n",
       "\n",
       "           occupation relationship    race      sex  capital-gain  \\\n",
       "0   Machine-op-inspct    Own-child   Black     Male             0   \n",
       "1     Farming-fishing      Husband   White     Male             0   \n",
       "2     Protective-serv      Husband   White     Male             0   \n",
       "3   Machine-op-inspct      Husband   Black     Male          7688   \n",
       "4                   ?    Own-child   White   Female             0   \n",
       "\n",
       "   capital-loss  hours-per-week  native-country   income  \n",
       "0             0              40   United-States   <=50K.  \n",
       "1             0              50   United-States   <=50K.  \n",
       "2             0              40   United-States    >50K.  \n",
       "3             0              40   United-States    >50K.  \n",
       "4             0              30   United-States   <=50K.  "
      ]
     },
     "execution_count": 4,
     "metadata": {},
     "output_type": "execute_result"
    }
   ],
   "source": [
    "df_census_income_validation.head()"
   ]
  },
  {
   "cell_type": "code",
   "execution_count": 5,
   "metadata": {},
   "outputs": [
    {
     "name": "stdout",
     "output_type": "stream",
     "text": [
      "<class 'pandas.core.frame.DataFrame'>\n",
      "RangeIndex: 32561 entries, 0 to 32560\n",
      "Data columns (total 15 columns):\n",
      " #   Column          Non-Null Count  Dtype \n",
      "---  ------          --------------  ----- \n",
      " 0   age             32561 non-null  int64 \n",
      " 1   workclass       32561 non-null  object\n",
      " 2   fnlwgt          32561 non-null  int64 \n",
      " 3   education       32561 non-null  object\n",
      " 4   education-num   32561 non-null  int64 \n",
      " 5   marital-status  32561 non-null  object\n",
      " 6   occupation      32561 non-null  object\n",
      " 7   relationship    32561 non-null  object\n",
      " 8   race            32561 non-null  object\n",
      " 9   sex             32561 non-null  object\n",
      " 10  capital-gain    32561 non-null  int64 \n",
      " 11  capital-loss    32561 non-null  int64 \n",
      " 12  hours-per-week  32561 non-null  int64 \n",
      " 13  native-country  32561 non-null  object\n",
      " 14  income          32561 non-null  object\n",
      "dtypes: int64(6), object(9)\n",
      "memory usage: 3.7+ MB\n"
     ]
    }
   ],
   "source": [
    "df_census_income_train.info()"
   ]
  },
  {
   "cell_type": "code",
   "execution_count": 6,
   "metadata": {},
   "outputs": [
    {
     "data": {
      "text/html": [
       "<div>\n",
       "<style scoped>\n",
       "    .dataframe tbody tr th:only-of-type {\n",
       "        vertical-align: middle;\n",
       "    }\n",
       "\n",
       "    .dataframe tbody tr th {\n",
       "        vertical-align: top;\n",
       "    }\n",
       "\n",
       "    .dataframe thead th {\n",
       "        text-align: right;\n",
       "    }\n",
       "</style>\n",
       "<table border=\"1\" class=\"dataframe\">\n",
       "  <thead>\n",
       "    <tr style=\"text-align: right;\">\n",
       "      <th></th>\n",
       "      <th>age</th>\n",
       "      <th>fnlwgt</th>\n",
       "      <th>education-num</th>\n",
       "      <th>capital-gain</th>\n",
       "      <th>capital-loss</th>\n",
       "      <th>hours-per-week</th>\n",
       "    </tr>\n",
       "  </thead>\n",
       "  <tbody>\n",
       "    <tr>\n",
       "      <th>count</th>\n",
       "      <td>32561.000000</td>\n",
       "      <td>3.256100e+04</td>\n",
       "      <td>32561.000000</td>\n",
       "      <td>32561.000000</td>\n",
       "      <td>32561.000000</td>\n",
       "      <td>32561.000000</td>\n",
       "    </tr>\n",
       "    <tr>\n",
       "      <th>mean</th>\n",
       "      <td>38.581647</td>\n",
       "      <td>1.897784e+05</td>\n",
       "      <td>10.080679</td>\n",
       "      <td>1077.648844</td>\n",
       "      <td>87.303830</td>\n",
       "      <td>40.437456</td>\n",
       "    </tr>\n",
       "    <tr>\n",
       "      <th>std</th>\n",
       "      <td>13.640433</td>\n",
       "      <td>1.055500e+05</td>\n",
       "      <td>2.572720</td>\n",
       "      <td>7385.292085</td>\n",
       "      <td>402.960219</td>\n",
       "      <td>12.347429</td>\n",
       "    </tr>\n",
       "    <tr>\n",
       "      <th>min</th>\n",
       "      <td>17.000000</td>\n",
       "      <td>1.228500e+04</td>\n",
       "      <td>1.000000</td>\n",
       "      <td>0.000000</td>\n",
       "      <td>0.000000</td>\n",
       "      <td>1.000000</td>\n",
       "    </tr>\n",
       "    <tr>\n",
       "      <th>25%</th>\n",
       "      <td>28.000000</td>\n",
       "      <td>1.178270e+05</td>\n",
       "      <td>9.000000</td>\n",
       "      <td>0.000000</td>\n",
       "      <td>0.000000</td>\n",
       "      <td>40.000000</td>\n",
       "    </tr>\n",
       "    <tr>\n",
       "      <th>50%</th>\n",
       "      <td>37.000000</td>\n",
       "      <td>1.783560e+05</td>\n",
       "      <td>10.000000</td>\n",
       "      <td>0.000000</td>\n",
       "      <td>0.000000</td>\n",
       "      <td>40.000000</td>\n",
       "    </tr>\n",
       "    <tr>\n",
       "      <th>75%</th>\n",
       "      <td>48.000000</td>\n",
       "      <td>2.370510e+05</td>\n",
       "      <td>12.000000</td>\n",
       "      <td>0.000000</td>\n",
       "      <td>0.000000</td>\n",
       "      <td>45.000000</td>\n",
       "    </tr>\n",
       "    <tr>\n",
       "      <th>max</th>\n",
       "      <td>90.000000</td>\n",
       "      <td>1.484705e+06</td>\n",
       "      <td>16.000000</td>\n",
       "      <td>99999.000000</td>\n",
       "      <td>4356.000000</td>\n",
       "      <td>99.000000</td>\n",
       "    </tr>\n",
       "  </tbody>\n",
       "</table>\n",
       "</div>"
      ],
      "text/plain": [
       "                age        fnlwgt  education-num  capital-gain  capital-loss  \\\n",
       "count  32561.000000  3.256100e+04   32561.000000  32561.000000  32561.000000   \n",
       "mean      38.581647  1.897784e+05      10.080679   1077.648844     87.303830   \n",
       "std       13.640433  1.055500e+05       2.572720   7385.292085    402.960219   \n",
       "min       17.000000  1.228500e+04       1.000000      0.000000      0.000000   \n",
       "25%       28.000000  1.178270e+05       9.000000      0.000000      0.000000   \n",
       "50%       37.000000  1.783560e+05      10.000000      0.000000      0.000000   \n",
       "75%       48.000000  2.370510e+05      12.000000      0.000000      0.000000   \n",
       "max       90.000000  1.484705e+06      16.000000  99999.000000   4356.000000   \n",
       "\n",
       "       hours-per-week  \n",
       "count    32561.000000  \n",
       "mean        40.437456  \n",
       "std         12.347429  \n",
       "min          1.000000  \n",
       "25%         40.000000  \n",
       "50%         40.000000  \n",
       "75%         45.000000  \n",
       "max         99.000000  "
      ]
     },
     "execution_count": 6,
     "metadata": {},
     "output_type": "execute_result"
    }
   ],
   "source": [
    "\n",
    "\n",
    "df_census_income_train.describe()\n",
    "\n"
   ]
  },
  {
   "cell_type": "code",
   "execution_count": 7,
   "metadata": {},
   "outputs": [
    {
     "name": "stdout",
     "output_type": "stream",
     "text": [
      "age, 73 unique values,\n",
      "workclass, 9 unique values,\n",
      "fnlwgt, 21648 unique values,\n",
      "education, 16 unique values,\n",
      "education-num, 16 unique values,\n",
      "marital-status, 7 unique values,\n",
      "occupation, 15 unique values,\n",
      "relationship, 6 unique values,\n",
      "race, 5 unique values,\n",
      "sex, 2 unique values,\n",
      "capital-gain, 119 unique values,\n",
      "capital-loss, 92 unique values,\n",
      "hours-per-week, 94 unique values,\n",
      "native-country, 42 unique values,\n",
      "income, 2 unique values,\n"
     ]
    }
   ],
   "source": [
    "for column in df_census_income_train.columns:\n",
    "    print(column + \",\", df_census_income_train[column].nunique(), \"unique values,\")"
   ]
  },
  {
   "cell_type": "markdown",
   "metadata": {},
   "source": [
    "We will partly adapt https://www.kaggle.com/code/yashhvyass/adult-census-income-logistic-reg-explained-86-2 in order to save dev time. This will be useful to return to for further modelling, but right now I am just going to do the bare minimum to test the bias framework"
   ]
  },
  {
   "cell_type": "code",
   "execution_count": 8,
   "metadata": {},
   "outputs": [],
   "source": [
    "df_census_income_train[\"sex\"] = df_census_income_train[\"sex\"].apply(lambda x: 1 if x.strip().lower() == \"male\" else 0)\n",
    "# According to the graphs in the link provided (and verified below more simply) the dataset is overwhelming white, so group all other races together\n",
    "# This is also useful since it makes it simpler to compare fairness\n",
    "df_census_income_train[\"race\"] = df_census_income_train[\"race\"].apply(lambda x: 1 if x.strip().lower() == \"white\" else 0)\n",
    "# Similar to race\n",
    "df_census_income_train[\"native-country\"] = df_census_income_train[\"native-country\"].apply(lambda x: 1 if x.strip().lower() == \"united-states\" else 0)\n",
    "df_census_income_train[\"income\"] = df_census_income_train[\"income\"].apply(lambda x: 1 if x.strip().lower() == \">50k\" else 0)\n",
    "\n",
    "# Everything we do to the training data we need to do to the validation data\n",
    "df_census_income_validation[\"sex\"] = df_census_income_validation[\"sex\"].apply(lambda x: 1 if x.strip().lower() == \"male\" else 0)\n",
    "df_census_income_validation[\"race\"] = df_census_income_validation[\"race\"].apply(lambda x: 1 if x.strip().lower() == \"white\" else 0)\n",
    "df_census_income_validation[\"native-country\"] = df_census_income_validation[\"native-country\"].apply(lambda x: 1 if x.strip().lower() == \"united-states\" else 0)\n",
    "# Turns out this is ever so slightly different from the training set\n",
    "df_census_income_validation[\"income\"] = df_census_income_validation[\"income\"].apply(lambda x: 1 if x.strip().lower() == \">50k.\" else 0)\n"
   ]
  },
  {
   "cell_type": "code",
   "execution_count": 9,
   "metadata": {},
   "outputs": [
    {
     "data": {
      "text/plain": [
       "race\n",
       "1    27816\n",
       "0     4745\n",
       "Name: count, dtype: int64"
      ]
     },
     "execution_count": 9,
     "metadata": {},
     "output_type": "execute_result"
    }
   ],
   "source": [
    "df_census_income_train[\"race\"].value_counts()"
   ]
  },
  {
   "cell_type": "code",
   "execution_count": 10,
   "metadata": {},
   "outputs": [
    {
     "data": {
      "text/plain": [
       "native-country\n",
       "1    29170\n",
       "0     3391\n",
       "Name: count, dtype: int64"
      ]
     },
     "execution_count": 10,
     "metadata": {},
     "output_type": "execute_result"
    }
   ],
   "source": [
    "df_census_income_train[\"native-country\"].value_counts()"
   ]
  },
  {
   "cell_type": "code",
   "execution_count": 11,
   "metadata": {},
   "outputs": [
    {
     "data": {
      "text/plain": [
       "income\n",
       "0    24720\n",
       "1     7841\n",
       "Name: count, dtype: int64"
      ]
     },
     "execution_count": 11,
     "metadata": {},
     "output_type": "execute_result"
    }
   ],
   "source": [
    "df_census_income_train[\"income\"].value_counts()"
   ]
  },
  {
   "cell_type": "code",
   "execution_count": 12,
   "metadata": {},
   "outputs": [
    {
     "name": "stdout",
     "output_type": "stream",
     "text": [
      "Training data percent belonging to class 0:\n",
      "0.7591904425539756\n",
      "Validation data percent belonging to class 0:\n",
      "0.7637737239727289\n"
     ]
    }
   ],
   "source": [
    "print(\"Training data percent belonging to class 0:\")\n",
    "print(len(df_census_income_train[df_census_income_train[\"income\"] == 0]) / len(df_census_income_train))\n",
    "print(\"Validation data percent belonging to class 0:\")\n",
    "print(len(df_census_income_validation[df_census_income_validation[\"income\"] == 0]) / len(df_census_income_validation))"
   ]
  },
  {
   "cell_type": "code",
   "execution_count": 13,
   "metadata": {},
   "outputs": [
    {
     "name": "stdout",
     "output_type": "stream",
     "text": [
      "Training data size 32561\n",
      "Validation data size 16281\n"
     ]
    }
   ],
   "source": [
    "print(\"Training data size\", len(df_census_income_train))\n",
    "print(\"Validation data size\", len(df_census_income_validation))"
   ]
  },
  {
   "cell_type": "code",
   "execution_count": 14,
   "metadata": {},
   "outputs": [],
   "source": [
    "# Getting rid of fnlwgt because the discription in the kaggle link does not make it sound useful\n",
    "# Getting rid of education-num since it duplicates education, which we can 1 hot encode\n",
    "df_census_income_train.drop(columns=[\"fnlwgt\", \"education-num\"], inplace=True)\n",
    "df_census_income_validation.drop(columns=[\"fnlwgt\", \"education-num\"], inplace=True)\n"
   ]
  },
  {
   "cell_type": "code",
   "execution_count": 15,
   "metadata": {},
   "outputs": [],
   "source": [
    "df_census_income_train = pd.get_dummies(df_census_income_train, columns=df_census_income_train.select_dtypes(include=['object']).columns.tolist())\n",
    "df_census_income_validation = pd.get_dummies(df_census_income_validation, columns=df_census_income_validation.select_dtypes(include=['object']).columns.tolist())"
   ]
  },
  {
   "cell_type": "code",
   "execution_count": 16,
   "metadata": {},
   "outputs": [
    {
     "data": {
      "text/html": [
       "<div>\n",
       "<style scoped>\n",
       "    .dataframe tbody tr th:only-of-type {\n",
       "        vertical-align: middle;\n",
       "    }\n",
       "\n",
       "    .dataframe tbody tr th {\n",
       "        vertical-align: top;\n",
       "    }\n",
       "\n",
       "    .dataframe thead th {\n",
       "        text-align: right;\n",
       "    }\n",
       "</style>\n",
       "<table border=\"1\" class=\"dataframe\">\n",
       "  <thead>\n",
       "    <tr style=\"text-align: right;\">\n",
       "      <th></th>\n",
       "      <th>age</th>\n",
       "      <th>race</th>\n",
       "      <th>sex</th>\n",
       "      <th>capital-gain</th>\n",
       "      <th>capital-loss</th>\n",
       "      <th>hours-per-week</th>\n",
       "      <th>native-country</th>\n",
       "      <th>income</th>\n",
       "      <th>workclass_ ?</th>\n",
       "      <th>workclass_ Federal-gov</th>\n",
       "      <th>...</th>\n",
       "      <th>occupation_ Protective-serv</th>\n",
       "      <th>occupation_ Sales</th>\n",
       "      <th>occupation_ Tech-support</th>\n",
       "      <th>occupation_ Transport-moving</th>\n",
       "      <th>relationship_ Husband</th>\n",
       "      <th>relationship_ Not-in-family</th>\n",
       "      <th>relationship_ Other-relative</th>\n",
       "      <th>relationship_ Own-child</th>\n",
       "      <th>relationship_ Unmarried</th>\n",
       "      <th>relationship_ Wife</th>\n",
       "    </tr>\n",
       "  </thead>\n",
       "  <tbody>\n",
       "    <tr>\n",
       "      <th>0</th>\n",
       "      <td>39</td>\n",
       "      <td>1</td>\n",
       "      <td>1</td>\n",
       "      <td>2174</td>\n",
       "      <td>0</td>\n",
       "      <td>40</td>\n",
       "      <td>1</td>\n",
       "      <td>0</td>\n",
       "      <td>False</td>\n",
       "      <td>False</td>\n",
       "      <td>...</td>\n",
       "      <td>False</td>\n",
       "      <td>False</td>\n",
       "      <td>False</td>\n",
       "      <td>False</td>\n",
       "      <td>False</td>\n",
       "      <td>True</td>\n",
       "      <td>False</td>\n",
       "      <td>False</td>\n",
       "      <td>False</td>\n",
       "      <td>False</td>\n",
       "    </tr>\n",
       "    <tr>\n",
       "      <th>1</th>\n",
       "      <td>50</td>\n",
       "      <td>1</td>\n",
       "      <td>1</td>\n",
       "      <td>0</td>\n",
       "      <td>0</td>\n",
       "      <td>13</td>\n",
       "      <td>1</td>\n",
       "      <td>0</td>\n",
       "      <td>False</td>\n",
       "      <td>False</td>\n",
       "      <td>...</td>\n",
       "      <td>False</td>\n",
       "      <td>False</td>\n",
       "      <td>False</td>\n",
       "      <td>False</td>\n",
       "      <td>True</td>\n",
       "      <td>False</td>\n",
       "      <td>False</td>\n",
       "      <td>False</td>\n",
       "      <td>False</td>\n",
       "      <td>False</td>\n",
       "    </tr>\n",
       "    <tr>\n",
       "      <th>2</th>\n",
       "      <td>38</td>\n",
       "      <td>1</td>\n",
       "      <td>1</td>\n",
       "      <td>0</td>\n",
       "      <td>0</td>\n",
       "      <td>40</td>\n",
       "      <td>1</td>\n",
       "      <td>0</td>\n",
       "      <td>False</td>\n",
       "      <td>False</td>\n",
       "      <td>...</td>\n",
       "      <td>False</td>\n",
       "      <td>False</td>\n",
       "      <td>False</td>\n",
       "      <td>False</td>\n",
       "      <td>False</td>\n",
       "      <td>True</td>\n",
       "      <td>False</td>\n",
       "      <td>False</td>\n",
       "      <td>False</td>\n",
       "      <td>False</td>\n",
       "    </tr>\n",
       "    <tr>\n",
       "      <th>3</th>\n",
       "      <td>53</td>\n",
       "      <td>0</td>\n",
       "      <td>1</td>\n",
       "      <td>0</td>\n",
       "      <td>0</td>\n",
       "      <td>40</td>\n",
       "      <td>1</td>\n",
       "      <td>0</td>\n",
       "      <td>False</td>\n",
       "      <td>False</td>\n",
       "      <td>...</td>\n",
       "      <td>False</td>\n",
       "      <td>False</td>\n",
       "      <td>False</td>\n",
       "      <td>False</td>\n",
       "      <td>True</td>\n",
       "      <td>False</td>\n",
       "      <td>False</td>\n",
       "      <td>False</td>\n",
       "      <td>False</td>\n",
       "      <td>False</td>\n",
       "    </tr>\n",
       "    <tr>\n",
       "      <th>4</th>\n",
       "      <td>28</td>\n",
       "      <td>0</td>\n",
       "      <td>0</td>\n",
       "      <td>0</td>\n",
       "      <td>0</td>\n",
       "      <td>40</td>\n",
       "      <td>0</td>\n",
       "      <td>0</td>\n",
       "      <td>False</td>\n",
       "      <td>False</td>\n",
       "      <td>...</td>\n",
       "      <td>False</td>\n",
       "      <td>False</td>\n",
       "      <td>False</td>\n",
       "      <td>False</td>\n",
       "      <td>False</td>\n",
       "      <td>False</td>\n",
       "      <td>False</td>\n",
       "      <td>False</td>\n",
       "      <td>False</td>\n",
       "      <td>True</td>\n",
       "    </tr>\n",
       "  </tbody>\n",
       "</table>\n",
       "<p>5 rows × 61 columns</p>\n",
       "</div>"
      ],
      "text/plain": [
       "   age  race  sex  capital-gain  capital-loss  hours-per-week  native-country  \\\n",
       "0   39     1    1          2174             0              40               1   \n",
       "1   50     1    1             0             0              13               1   \n",
       "2   38     1    1             0             0              40               1   \n",
       "3   53     0    1             0             0              40               1   \n",
       "4   28     0    0             0             0              40               0   \n",
       "\n",
       "   income  workclass_ ?  workclass_ Federal-gov  ...  \\\n",
       "0       0         False                   False  ...   \n",
       "1       0         False                   False  ...   \n",
       "2       0         False                   False  ...   \n",
       "3       0         False                   False  ...   \n",
       "4       0         False                   False  ...   \n",
       "\n",
       "   occupation_ Protective-serv  occupation_ Sales  occupation_ Tech-support  \\\n",
       "0                        False              False                     False   \n",
       "1                        False              False                     False   \n",
       "2                        False              False                     False   \n",
       "3                        False              False                     False   \n",
       "4                        False              False                     False   \n",
       "\n",
       "   occupation_ Transport-moving  relationship_ Husband  \\\n",
       "0                         False                  False   \n",
       "1                         False                   True   \n",
       "2                         False                  False   \n",
       "3                         False                   True   \n",
       "4                         False                  False   \n",
       "\n",
       "   relationship_ Not-in-family  relationship_ Other-relative  \\\n",
       "0                         True                         False   \n",
       "1                        False                         False   \n",
       "2                         True                         False   \n",
       "3                        False                         False   \n",
       "4                        False                         False   \n",
       "\n",
       "   relationship_ Own-child  relationship_ Unmarried  relationship_ Wife  \n",
       "0                    False                    False               False  \n",
       "1                    False                    False               False  \n",
       "2                    False                    False               False  \n",
       "3                    False                    False               False  \n",
       "4                    False                    False                True  \n",
       "\n",
       "[5 rows x 61 columns]"
      ]
     },
     "execution_count": 16,
     "metadata": {},
     "output_type": "execute_result"
    }
   ],
   "source": [
    "df_census_income_train.head()"
   ]
  },
  {
   "cell_type": "code",
   "execution_count": 17,
   "metadata": {},
   "outputs": [],
   "source": [
    "df_census_income_train_x = df_census_income_train.drop(columns=[\"income\"])\n",
    "df_census_income_train_y = df_census_income_train[\"income\"]\n",
    "\n",
    "df_census_income_validation_x = df_census_income_validation.drop(columns=[\"income\"])\n",
    "df_census_income_validation_y = df_census_income_validation[\"income\"]\n",
    "\n"
   ]
  },
  {
   "cell_type": "code",
   "execution_count": 18,
   "metadata": {},
   "outputs": [
    {
     "data": {
      "text/html": [
       "<div>\n",
       "<style scoped>\n",
       "    .dataframe tbody tr th:only-of-type {\n",
       "        vertical-align: middle;\n",
       "    }\n",
       "\n",
       "    .dataframe tbody tr th {\n",
       "        vertical-align: top;\n",
       "    }\n",
       "\n",
       "    .dataframe thead th {\n",
       "        text-align: right;\n",
       "    }\n",
       "</style>\n",
       "<table border=\"1\" class=\"dataframe\">\n",
       "  <thead>\n",
       "    <tr style=\"text-align: right;\">\n",
       "      <th></th>\n",
       "      <th>age</th>\n",
       "      <th>race</th>\n",
       "      <th>sex</th>\n",
       "      <th>capital-gain</th>\n",
       "      <th>capital-loss</th>\n",
       "      <th>hours-per-week</th>\n",
       "      <th>native-country</th>\n",
       "      <th>income</th>\n",
       "      <th>workclass_ ?</th>\n",
       "      <th>workclass_ Federal-gov</th>\n",
       "      <th>...</th>\n",
       "      <th>occupation_ Protective-serv</th>\n",
       "      <th>occupation_ Sales</th>\n",
       "      <th>occupation_ Tech-support</th>\n",
       "      <th>occupation_ Transport-moving</th>\n",
       "      <th>relationship_ Husband</th>\n",
       "      <th>relationship_ Not-in-family</th>\n",
       "      <th>relationship_ Other-relative</th>\n",
       "      <th>relationship_ Own-child</th>\n",
       "      <th>relationship_ Unmarried</th>\n",
       "      <th>relationship_ Wife</th>\n",
       "    </tr>\n",
       "  </thead>\n",
       "  <tbody>\n",
       "    <tr>\n",
       "      <th>0</th>\n",
       "      <td>39</td>\n",
       "      <td>1</td>\n",
       "      <td>1</td>\n",
       "      <td>2174</td>\n",
       "      <td>0</td>\n",
       "      <td>40</td>\n",
       "      <td>1</td>\n",
       "      <td>0</td>\n",
       "      <td>False</td>\n",
       "      <td>False</td>\n",
       "      <td>...</td>\n",
       "      <td>False</td>\n",
       "      <td>False</td>\n",
       "      <td>False</td>\n",
       "      <td>False</td>\n",
       "      <td>False</td>\n",
       "      <td>True</td>\n",
       "      <td>False</td>\n",
       "      <td>False</td>\n",
       "      <td>False</td>\n",
       "      <td>False</td>\n",
       "    </tr>\n",
       "    <tr>\n",
       "      <th>1</th>\n",
       "      <td>50</td>\n",
       "      <td>1</td>\n",
       "      <td>1</td>\n",
       "      <td>0</td>\n",
       "      <td>0</td>\n",
       "      <td>13</td>\n",
       "      <td>1</td>\n",
       "      <td>0</td>\n",
       "      <td>False</td>\n",
       "      <td>False</td>\n",
       "      <td>...</td>\n",
       "      <td>False</td>\n",
       "      <td>False</td>\n",
       "      <td>False</td>\n",
       "      <td>False</td>\n",
       "      <td>True</td>\n",
       "      <td>False</td>\n",
       "      <td>False</td>\n",
       "      <td>False</td>\n",
       "      <td>False</td>\n",
       "      <td>False</td>\n",
       "    </tr>\n",
       "    <tr>\n",
       "      <th>2</th>\n",
       "      <td>38</td>\n",
       "      <td>1</td>\n",
       "      <td>1</td>\n",
       "      <td>0</td>\n",
       "      <td>0</td>\n",
       "      <td>40</td>\n",
       "      <td>1</td>\n",
       "      <td>0</td>\n",
       "      <td>False</td>\n",
       "      <td>False</td>\n",
       "      <td>...</td>\n",
       "      <td>False</td>\n",
       "      <td>False</td>\n",
       "      <td>False</td>\n",
       "      <td>False</td>\n",
       "      <td>False</td>\n",
       "      <td>True</td>\n",
       "      <td>False</td>\n",
       "      <td>False</td>\n",
       "      <td>False</td>\n",
       "      <td>False</td>\n",
       "    </tr>\n",
       "    <tr>\n",
       "      <th>3</th>\n",
       "      <td>53</td>\n",
       "      <td>0</td>\n",
       "      <td>1</td>\n",
       "      <td>0</td>\n",
       "      <td>0</td>\n",
       "      <td>40</td>\n",
       "      <td>1</td>\n",
       "      <td>0</td>\n",
       "      <td>False</td>\n",
       "      <td>False</td>\n",
       "      <td>...</td>\n",
       "      <td>False</td>\n",
       "      <td>False</td>\n",
       "      <td>False</td>\n",
       "      <td>False</td>\n",
       "      <td>True</td>\n",
       "      <td>False</td>\n",
       "      <td>False</td>\n",
       "      <td>False</td>\n",
       "      <td>False</td>\n",
       "      <td>False</td>\n",
       "    </tr>\n",
       "    <tr>\n",
       "      <th>4</th>\n",
       "      <td>28</td>\n",
       "      <td>0</td>\n",
       "      <td>0</td>\n",
       "      <td>0</td>\n",
       "      <td>0</td>\n",
       "      <td>40</td>\n",
       "      <td>0</td>\n",
       "      <td>0</td>\n",
       "      <td>False</td>\n",
       "      <td>False</td>\n",
       "      <td>...</td>\n",
       "      <td>False</td>\n",
       "      <td>False</td>\n",
       "      <td>False</td>\n",
       "      <td>False</td>\n",
       "      <td>False</td>\n",
       "      <td>False</td>\n",
       "      <td>False</td>\n",
       "      <td>False</td>\n",
       "      <td>False</td>\n",
       "      <td>True</td>\n",
       "    </tr>\n",
       "  </tbody>\n",
       "</table>\n",
       "<p>5 rows × 61 columns</p>\n",
       "</div>"
      ],
      "text/plain": [
       "   age  race  sex  capital-gain  capital-loss  hours-per-week  native-country  \\\n",
       "0   39     1    1          2174             0              40               1   \n",
       "1   50     1    1             0             0              13               1   \n",
       "2   38     1    1             0             0              40               1   \n",
       "3   53     0    1             0             0              40               1   \n",
       "4   28     0    0             0             0              40               0   \n",
       "\n",
       "   income  workclass_ ?  workclass_ Federal-gov  ...  \\\n",
       "0       0         False                   False  ...   \n",
       "1       0         False                   False  ...   \n",
       "2       0         False                   False  ...   \n",
       "3       0         False                   False  ...   \n",
       "4       0         False                   False  ...   \n",
       "\n",
       "   occupation_ Protective-serv  occupation_ Sales  occupation_ Tech-support  \\\n",
       "0                        False              False                     False   \n",
       "1                        False              False                     False   \n",
       "2                        False              False                     False   \n",
       "3                        False              False                     False   \n",
       "4                        False              False                     False   \n",
       "\n",
       "   occupation_ Transport-moving  relationship_ Husband  \\\n",
       "0                         False                  False   \n",
       "1                         False                   True   \n",
       "2                         False                  False   \n",
       "3                         False                   True   \n",
       "4                         False                  False   \n",
       "\n",
       "   relationship_ Not-in-family  relationship_ Other-relative  \\\n",
       "0                         True                         False   \n",
       "1                        False                         False   \n",
       "2                         True                         False   \n",
       "3                        False                         False   \n",
       "4                        False                         False   \n",
       "\n",
       "   relationship_ Own-child  relationship_ Unmarried  relationship_ Wife  \n",
       "0                    False                    False               False  \n",
       "1                    False                    False               False  \n",
       "2                    False                    False               False  \n",
       "3                    False                    False               False  \n",
       "4                    False                    False                True  \n",
       "\n",
       "[5 rows x 61 columns]"
      ]
     },
     "execution_count": 18,
     "metadata": {},
     "output_type": "execute_result"
    }
   ],
   "source": [
    "df_census_income_train.head()"
   ]
  },
  {
   "cell_type": "code",
   "execution_count": 19,
   "metadata": {},
   "outputs": [],
   "source": [
    "random_forest_classifier = RandomForestClassifier(n_estimators=10, max_depth=20, random_state=0)\n",
    "\n",
    "\n",
    "random_forest_bias = Bias_Framework(random_forest_classifier, df_census_income_train_x, df_census_income_validation_x, df_census_income_train_y, df_census_income_validation_y)"
   ]
  },
  {
   "cell_type": "code",
   "execution_count": 20,
   "metadata": {},
   "outputs": [],
   "source": [
    "random_forest_bias.set_privilege_function(lambda x: x[\"sex\"] == 1 or x[\"race\"] == 1)"
   ]
  },
  {
   "cell_type": "code",
   "execution_count": 21,
   "metadata": {},
   "outputs": [
    {
     "name": "stdout",
     "output_type": "stream",
     "text": [
      "5.452547073364258 seconds to run with no debiasing\n",
      "23.441330909729004 seconds to get fairea baseline\n"
     ]
    },
    {
     "name": "stderr",
     "output_type": "stream",
     "text": [
      "/Users/daws/Project/bias_framework/bias_framework/metrics.py:139: RuntimeWarning: Precision loss occurred in moment calculation due to catastrophic cancellation. This occurs when the data are nearly identical. Results may be unreliable.\n",
      "  \"skew\": scipy.stats.skew(metric_results),\n",
      "/Users/daws/Project/bias_framework/bias_framework/metrics.py:140: RuntimeWarning: Precision loss occurred in moment calculation due to catastrophic cancellation. This occurs when the data are nearly identical. Results may be unreliable.\n",
      "  \"kurtosis\": scipy.stats.kurtosis(metric_results),\n"
     ]
    },
    {
     "name": "stdout",
     "output_type": "stream",
     "text": [
      "77.99386405944824 seconds to run learning fair representation\n",
      "5.595704793930054 seconds to run reweighing\n",
      "111.25393390655518 seconds to run reject option classification\n",
      "15.495606899261475 seconds to run calibrated equal odds\n",
      "5.064831018447876 seconds to run equal odds\n"
     ]
    }
   ],
   "source": [
    "random_forest_bias.run_framework()\n",
    "\n"
   ]
  },
  {
   "cell_type": "code",
   "execution_count": 22,
   "metadata": {},
   "outputs": [
    {
     "data": {
      "application/vnd.plotly.v1+json": {
       "config": {
        "plotlyServerURL": "https://plot.ly"
       },
       "data": [
        {
         "error_x": {
          "array": [
           0
          ],
          "type": "data"
         },
         "error_y": {
          "array": [
           -0.006696050914705931
          ],
          "type": "data"
         },
         "marker": {
          "color": "#E15F99"
         },
         "mode": "markers",
         "name": "learning fair representation with 5 prototypes outcome",
         "showlegend": true,
         "type": "scatter",
         "x": [
          0
         ],
         "y": [
          0.7635280388182545
         ]
        },
        {
         "error_x": {
          "array": [
           -0.015938609730275263
          ],
          "type": "data"
         },
         "error_y": {
          "array": [
           -0.005391613373116666
          ],
          "type": "data"
         },
         "marker": {
          "color": "#1CA71C"
         },
         "mode": "markers",
         "name": "reweighing outcome",
         "showlegend": true,
         "type": "scatter",
         "x": [
          0.12466468717444094
         ],
         "y": [
          0.8607499539340335
         ]
        },
        {
         "error_x": {
          "array": [
           -0.029104527655856503
          ],
          "type": "data"
         },
         "error_y": {
          "array": [
           -0.005594741907474665
          ],
          "type": "data"
         },
         "marker": {
          "color": "#FB0D0D"
         },
         "mode": "markers",
         "name": "reject option classification statistical parity difference optimised outcome",
         "showlegend": true,
         "type": "scatter",
         "x": [
          0.04867880663772825
         ],
         "y": [
          0.8146772311283091
         ]
        },
        {
         "error_x": {
          "array": [
           -0.020007685017355364
          ],
          "type": "data"
         },
         "error_y": {
          "array": [
           -0.005275910456433053
          ],
          "type": "data"
         },
         "marker": {
          "color": "#DA16FF"
         },
         "mode": "markers",
         "name": "reject option classification average odds difference optimised outcome",
         "showlegend": true,
         "type": "scatter",
         "x": [
          0.21629004778376473
         ],
         "y": [
          0.8293028683741784
         ]
        },
        {
         "error_x": {
          "array": [
           -0.019225976855226506
          ],
          "type": "data"
         },
         "error_y": {
          "array": [
           -0.006406959430259596
          ],
          "type": "data"
         },
         "marker": {
          "color": "#222A2A"
         },
         "mode": "markers",
         "name": "reject option classification equal opportunity difference optimised outcome",
         "showlegend": true,
         "type": "scatter",
         "x": [
          0.2297068024524393
         ],
         "y": [
          0.8222590749953933
         ]
        },
        {
         "error_x": {
          "array": [
           -0.006020752007086905
          ],
          "type": "data"
         },
         "error_y": {
          "array": [
           -0.00508603163207777
          ],
          "type": "data"
         },
         "marker": {
          "color": "#B68100"
         },
         "mode": "markers",
         "name": "calibrated equal odds using fpr cost outcome",
         "showlegend": true,
         "type": "scatter",
         "x": [
          0.1866537866520477
         ],
         "y": [
          0.8630249984644678
         ]
        },
        {
         "error_x": {
          "array": [
           -0.013850866322104166
          ],
          "type": "data"
         },
         "error_y": {
          "array": [
           -0.005411192067177439
          ],
          "type": "data"
         },
         "marker": {
          "color": "#750D86"
         },
         "mode": "markers",
         "name": "calibrated equal odds using fnr cost outcome",
         "showlegend": true,
         "type": "scatter",
         "x": [
          0.12990398258694552
         ],
         "y": [
          0.8628984706099133
         ]
        },
        {
         "error_x": {
          "array": [
           -0.006535179901391547
          ],
          "type": "data"
         },
         "error_y": {
          "array": [
           -0.00527686009800532
          ],
          "type": "data"
         },
         "marker": {
          "color": "#EB663B"
         },
         "mode": "markers",
         "name": "calibrated equal odds using weighted cost outcome",
         "showlegend": true,
         "type": "scatter",
         "x": [
          0.18660770302748475
         ],
         "y": [
          0.862676125545114
         ]
        },
        {
         "error_x": {
          "array": [
           -0.018809449513496036
          ],
          "type": "data"
         },
         "error_y": {
          "array": [
           -0.004884066264292275
          ],
          "type": "data"
         },
         "marker": {
          "color": "#511CFB"
         },
         "mode": "markers",
         "name": "equal odds outcome",
         "showlegend": true,
         "type": "scatter",
         "x": [
          0.10857944908483542
         ],
         "y": [
          0.8623997297463304
         ]
        },
        {
         "line": {
          "color": "#2E91E5"
         },
         "mode": "lines+markers+text",
         "name": "fairea baseline",
         "showlegend": true,
         "text": [
          "F_0",
          "F_10",
          "F_20",
          "F_30",
          "F_40",
          "F_50",
          "F_60",
          "F_70",
          "F_80",
          "F_90",
          "F_100"
         ],
         "textposition": "bottom right",
         "type": "scatter",
         "x": [
          0.13153366316698556,
          0.11849801251375537,
          0.10472988295421881,
          0.09195415421981508,
          0.07922831335294438,
          0.06532000997858656,
          0.05309684674132034,
          0.0394512980393597,
          0.02618397829024264,
          0.013510404702598865,
          0
         ],
         "y": [
          0.8639518457097229,
          0.8540003685277316,
          0.843744241754192,
          0.8341477796204163,
          0.8241017136539526,
          0.8139070081690312,
          0.803951845709723,
          0.7937841655917943,
          0.7839235919169583,
          0.7740089675081383,
          0.7637737239727288
         ]
        }
       ],
       "layout": {
        "template": {
         "data": {
          "bar": [
           {
            "error_x": {
             "color": "#2a3f5f"
            },
            "error_y": {
             "color": "#2a3f5f"
            },
            "marker": {
             "line": {
              "color": "#E5ECF6",
              "width": 0.5
             },
             "pattern": {
              "fillmode": "overlay",
              "size": 10,
              "solidity": 0.2
             }
            },
            "type": "bar"
           }
          ],
          "barpolar": [
           {
            "marker": {
             "line": {
              "color": "#E5ECF6",
              "width": 0.5
             },
             "pattern": {
              "fillmode": "overlay",
              "size": 10,
              "solidity": 0.2
             }
            },
            "type": "barpolar"
           }
          ],
          "carpet": [
           {
            "aaxis": {
             "endlinecolor": "#2a3f5f",
             "gridcolor": "white",
             "linecolor": "white",
             "minorgridcolor": "white",
             "startlinecolor": "#2a3f5f"
            },
            "baxis": {
             "endlinecolor": "#2a3f5f",
             "gridcolor": "white",
             "linecolor": "white",
             "minorgridcolor": "white",
             "startlinecolor": "#2a3f5f"
            },
            "type": "carpet"
           }
          ],
          "choropleth": [
           {
            "colorbar": {
             "outlinewidth": 0,
             "ticks": ""
            },
            "type": "choropleth"
           }
          ],
          "contour": [
           {
            "colorbar": {
             "outlinewidth": 0,
             "ticks": ""
            },
            "colorscale": [
             [
              0,
              "#0d0887"
             ],
             [
              0.1111111111111111,
              "#46039f"
             ],
             [
              0.2222222222222222,
              "#7201a8"
             ],
             [
              0.3333333333333333,
              "#9c179e"
             ],
             [
              0.4444444444444444,
              "#bd3786"
             ],
             [
              0.5555555555555556,
              "#d8576b"
             ],
             [
              0.6666666666666666,
              "#ed7953"
             ],
             [
              0.7777777777777778,
              "#fb9f3a"
             ],
             [
              0.8888888888888888,
              "#fdca26"
             ],
             [
              1,
              "#f0f921"
             ]
            ],
            "type": "contour"
           }
          ],
          "contourcarpet": [
           {
            "colorbar": {
             "outlinewidth": 0,
             "ticks": ""
            },
            "type": "contourcarpet"
           }
          ],
          "heatmap": [
           {
            "colorbar": {
             "outlinewidth": 0,
             "ticks": ""
            },
            "colorscale": [
             [
              0,
              "#0d0887"
             ],
             [
              0.1111111111111111,
              "#46039f"
             ],
             [
              0.2222222222222222,
              "#7201a8"
             ],
             [
              0.3333333333333333,
              "#9c179e"
             ],
             [
              0.4444444444444444,
              "#bd3786"
             ],
             [
              0.5555555555555556,
              "#d8576b"
             ],
             [
              0.6666666666666666,
              "#ed7953"
             ],
             [
              0.7777777777777778,
              "#fb9f3a"
             ],
             [
              0.8888888888888888,
              "#fdca26"
             ],
             [
              1,
              "#f0f921"
             ]
            ],
            "type": "heatmap"
           }
          ],
          "heatmapgl": [
           {
            "colorbar": {
             "outlinewidth": 0,
             "ticks": ""
            },
            "colorscale": [
             [
              0,
              "#0d0887"
             ],
             [
              0.1111111111111111,
              "#46039f"
             ],
             [
              0.2222222222222222,
              "#7201a8"
             ],
             [
              0.3333333333333333,
              "#9c179e"
             ],
             [
              0.4444444444444444,
              "#bd3786"
             ],
             [
              0.5555555555555556,
              "#d8576b"
             ],
             [
              0.6666666666666666,
              "#ed7953"
             ],
             [
              0.7777777777777778,
              "#fb9f3a"
             ],
             [
              0.8888888888888888,
              "#fdca26"
             ],
             [
              1,
              "#f0f921"
             ]
            ],
            "type": "heatmapgl"
           }
          ],
          "histogram": [
           {
            "marker": {
             "pattern": {
              "fillmode": "overlay",
              "size": 10,
              "solidity": 0.2
             }
            },
            "type": "histogram"
           }
          ],
          "histogram2d": [
           {
            "colorbar": {
             "outlinewidth": 0,
             "ticks": ""
            },
            "colorscale": [
             [
              0,
              "#0d0887"
             ],
             [
              0.1111111111111111,
              "#46039f"
             ],
             [
              0.2222222222222222,
              "#7201a8"
             ],
             [
              0.3333333333333333,
              "#9c179e"
             ],
             [
              0.4444444444444444,
              "#bd3786"
             ],
             [
              0.5555555555555556,
              "#d8576b"
             ],
             [
              0.6666666666666666,
              "#ed7953"
             ],
             [
              0.7777777777777778,
              "#fb9f3a"
             ],
             [
              0.8888888888888888,
              "#fdca26"
             ],
             [
              1,
              "#f0f921"
             ]
            ],
            "type": "histogram2d"
           }
          ],
          "histogram2dcontour": [
           {
            "colorbar": {
             "outlinewidth": 0,
             "ticks": ""
            },
            "colorscale": [
             [
              0,
              "#0d0887"
             ],
             [
              0.1111111111111111,
              "#46039f"
             ],
             [
              0.2222222222222222,
              "#7201a8"
             ],
             [
              0.3333333333333333,
              "#9c179e"
             ],
             [
              0.4444444444444444,
              "#bd3786"
             ],
             [
              0.5555555555555556,
              "#d8576b"
             ],
             [
              0.6666666666666666,
              "#ed7953"
             ],
             [
              0.7777777777777778,
              "#fb9f3a"
             ],
             [
              0.8888888888888888,
              "#fdca26"
             ],
             [
              1,
              "#f0f921"
             ]
            ],
            "type": "histogram2dcontour"
           }
          ],
          "mesh3d": [
           {
            "colorbar": {
             "outlinewidth": 0,
             "ticks": ""
            },
            "type": "mesh3d"
           }
          ],
          "parcoords": [
           {
            "line": {
             "colorbar": {
              "outlinewidth": 0,
              "ticks": ""
             }
            },
            "type": "parcoords"
           }
          ],
          "pie": [
           {
            "automargin": true,
            "type": "pie"
           }
          ],
          "scatter": [
           {
            "fillpattern": {
             "fillmode": "overlay",
             "size": 10,
             "solidity": 0.2
            },
            "type": "scatter"
           }
          ],
          "scatter3d": [
           {
            "line": {
             "colorbar": {
              "outlinewidth": 0,
              "ticks": ""
             }
            },
            "marker": {
             "colorbar": {
              "outlinewidth": 0,
              "ticks": ""
             }
            },
            "type": "scatter3d"
           }
          ],
          "scattercarpet": [
           {
            "marker": {
             "colorbar": {
              "outlinewidth": 0,
              "ticks": ""
             }
            },
            "type": "scattercarpet"
           }
          ],
          "scattergeo": [
           {
            "marker": {
             "colorbar": {
              "outlinewidth": 0,
              "ticks": ""
             }
            },
            "type": "scattergeo"
           }
          ],
          "scattergl": [
           {
            "marker": {
             "colorbar": {
              "outlinewidth": 0,
              "ticks": ""
             }
            },
            "type": "scattergl"
           }
          ],
          "scattermapbox": [
           {
            "marker": {
             "colorbar": {
              "outlinewidth": 0,
              "ticks": ""
             }
            },
            "type": "scattermapbox"
           }
          ],
          "scatterpolar": [
           {
            "marker": {
             "colorbar": {
              "outlinewidth": 0,
              "ticks": ""
             }
            },
            "type": "scatterpolar"
           }
          ],
          "scatterpolargl": [
           {
            "marker": {
             "colorbar": {
              "outlinewidth": 0,
              "ticks": ""
             }
            },
            "type": "scatterpolargl"
           }
          ],
          "scatterternary": [
           {
            "marker": {
             "colorbar": {
              "outlinewidth": 0,
              "ticks": ""
             }
            },
            "type": "scatterternary"
           }
          ],
          "surface": [
           {
            "colorbar": {
             "outlinewidth": 0,
             "ticks": ""
            },
            "colorscale": [
             [
              0,
              "#0d0887"
             ],
             [
              0.1111111111111111,
              "#46039f"
             ],
             [
              0.2222222222222222,
              "#7201a8"
             ],
             [
              0.3333333333333333,
              "#9c179e"
             ],
             [
              0.4444444444444444,
              "#bd3786"
             ],
             [
              0.5555555555555556,
              "#d8576b"
             ],
             [
              0.6666666666666666,
              "#ed7953"
             ],
             [
              0.7777777777777778,
              "#fb9f3a"
             ],
             [
              0.8888888888888888,
              "#fdca26"
             ],
             [
              1,
              "#f0f921"
             ]
            ],
            "type": "surface"
           }
          ],
          "table": [
           {
            "cells": {
             "fill": {
              "color": "#EBF0F8"
             },
             "line": {
              "color": "white"
             }
            },
            "header": {
             "fill": {
              "color": "#C8D4E3"
             },
             "line": {
              "color": "white"
             }
            },
            "type": "table"
           }
          ]
         },
         "layout": {
          "annotationdefaults": {
           "arrowcolor": "#2a3f5f",
           "arrowhead": 0,
           "arrowwidth": 1
          },
          "autotypenumbers": "strict",
          "coloraxis": {
           "colorbar": {
            "outlinewidth": 0,
            "ticks": ""
           }
          },
          "colorscale": {
           "diverging": [
            [
             0,
             "#8e0152"
            ],
            [
             0.1,
             "#c51b7d"
            ],
            [
             0.2,
             "#de77ae"
            ],
            [
             0.3,
             "#f1b6da"
            ],
            [
             0.4,
             "#fde0ef"
            ],
            [
             0.5,
             "#f7f7f7"
            ],
            [
             0.6,
             "#e6f5d0"
            ],
            [
             0.7,
             "#b8e186"
            ],
            [
             0.8,
             "#7fbc41"
            ],
            [
             0.9,
             "#4d9221"
            ],
            [
             1,
             "#276419"
            ]
           ],
           "sequential": [
            [
             0,
             "#0d0887"
            ],
            [
             0.1111111111111111,
             "#46039f"
            ],
            [
             0.2222222222222222,
             "#7201a8"
            ],
            [
             0.3333333333333333,
             "#9c179e"
            ],
            [
             0.4444444444444444,
             "#bd3786"
            ],
            [
             0.5555555555555556,
             "#d8576b"
            ],
            [
             0.6666666666666666,
             "#ed7953"
            ],
            [
             0.7777777777777778,
             "#fb9f3a"
            ],
            [
             0.8888888888888888,
             "#fdca26"
            ],
            [
             1,
             "#f0f921"
            ]
           ],
           "sequentialminus": [
            [
             0,
             "#0d0887"
            ],
            [
             0.1111111111111111,
             "#46039f"
            ],
            [
             0.2222222222222222,
             "#7201a8"
            ],
            [
             0.3333333333333333,
             "#9c179e"
            ],
            [
             0.4444444444444444,
             "#bd3786"
            ],
            [
             0.5555555555555556,
             "#d8576b"
            ],
            [
             0.6666666666666666,
             "#ed7953"
            ],
            [
             0.7777777777777778,
             "#fb9f3a"
            ],
            [
             0.8888888888888888,
             "#fdca26"
            ],
            [
             1,
             "#f0f921"
            ]
           ]
          },
          "colorway": [
           "#636efa",
           "#EF553B",
           "#00cc96",
           "#ab63fa",
           "#FFA15A",
           "#19d3f3",
           "#FF6692",
           "#B6E880",
           "#FF97FF",
           "#FECB52"
          ],
          "font": {
           "color": "#2a3f5f"
          },
          "geo": {
           "bgcolor": "white",
           "lakecolor": "white",
           "landcolor": "#E5ECF6",
           "showlakes": true,
           "showland": true,
           "subunitcolor": "white"
          },
          "hoverlabel": {
           "align": "left"
          },
          "hovermode": "closest",
          "mapbox": {
           "style": "light"
          },
          "paper_bgcolor": "white",
          "plot_bgcolor": "#E5ECF6",
          "polar": {
           "angularaxis": {
            "gridcolor": "white",
            "linecolor": "white",
            "ticks": ""
           },
           "bgcolor": "#E5ECF6",
           "radialaxis": {
            "gridcolor": "white",
            "linecolor": "white",
            "ticks": ""
           }
          },
          "scene": {
           "xaxis": {
            "backgroundcolor": "#E5ECF6",
            "gridcolor": "white",
            "gridwidth": 2,
            "linecolor": "white",
            "showbackground": true,
            "ticks": "",
            "zerolinecolor": "white"
           },
           "yaxis": {
            "backgroundcolor": "#E5ECF6",
            "gridcolor": "white",
            "gridwidth": 2,
            "linecolor": "white",
            "showbackground": true,
            "ticks": "",
            "zerolinecolor": "white"
           },
           "zaxis": {
            "backgroundcolor": "#E5ECF6",
            "gridcolor": "white",
            "gridwidth": 2,
            "linecolor": "white",
            "showbackground": true,
            "ticks": "",
            "zerolinecolor": "white"
           }
          },
          "shapedefaults": {
           "line": {
            "color": "#2a3f5f"
           }
          },
          "ternary": {
           "aaxis": {
            "gridcolor": "white",
            "linecolor": "white",
            "ticks": ""
           },
           "baxis": {
            "gridcolor": "white",
            "linecolor": "white",
            "ticks": ""
           },
           "bgcolor": "#E5ECF6",
           "caxis": {
            "gridcolor": "white",
            "linecolor": "white",
            "ticks": ""
           }
          },
          "title": {
           "x": 0.05
          },
          "xaxis": {
           "automargin": true,
           "gridcolor": "white",
           "linecolor": "white",
           "ticks": "",
           "title": {
            "standoff": 15
           },
           "zerolinecolor": "white",
           "zerolinewidth": 2
          },
          "yaxis": {
           "automargin": true,
           "gridcolor": "white",
           "linecolor": "white",
           "ticks": "",
           "title": {
            "standoff": 15
           },
           "zerolinecolor": "white",
           "zerolinewidth": 2
          }
         }
        },
        "title": {
         "text": "Debias Methodologies impact on accuracy and statistical parity difference"
        },
        "xaxis": {
         "dtick": 0.1,
         "tick0": 0,
         "title": {
          "text": "Bias (statistical parity difference)"
         }
        },
        "yaxis": {
         "dtick": 0.1,
         "tick0": 0,
         "title": {
          "text": "Error (accuracy)"
         }
        }
       }
      }
     },
     "metadata": {},
     "output_type": "display_data"
    }
   ],
   "source": [
    "random_forest_bias.show_fairea_graph(\"accuracy\", \"statistical parity difference\")"
   ]
  },
  {
   "cell_type": "code",
   "execution_count": 23,
   "metadata": {},
   "outputs": [
    {
     "data": {
      "application/vnd.plotly.v1+json": {
       "config": {
        "plotlyServerURL": "https://plot.ly"
       },
       "data": [
        {
         "error_x": {
          "array": [
           0
          ],
          "type": "data"
         },
         "error_y": {
          "array": [
           -0.006696050914705931
          ],
          "type": "data"
         },
         "marker": {
          "color": "#E15F99"
         },
         "mode": "markers",
         "name": "learning fair representation with 5 prototypes outcome",
         "showlegend": true,
         "type": "scatter",
         "x": [
          0
         ],
         "xaxis": "x",
         "y": [
          0.7635280388182545
         ],
         "yaxis": "y"
        },
        {
         "error_x": {
          "array": [
           -0.015938609730275263
          ],
          "type": "data"
         },
         "error_y": {
          "array": [
           -0.005391613373116666
          ],
          "type": "data"
         },
         "marker": {
          "color": "#1CA71C"
         },
         "mode": "markers",
         "name": "reweighing outcome",
         "showlegend": true,
         "type": "scatter",
         "x": [
          0.12466468717444094
         ],
         "xaxis": "x",
         "y": [
          0.8607499539340335
         ],
         "yaxis": "y"
        },
        {
         "error_x": {
          "array": [
           -0.029104527655856503
          ],
          "type": "data"
         },
         "error_y": {
          "array": [
           -0.005594741907474665
          ],
          "type": "data"
         },
         "marker": {
          "color": "#FB0D0D"
         },
         "mode": "markers",
         "name": "reject option classification statistical parity difference optimised outcome",
         "showlegend": true,
         "type": "scatter",
         "x": [
          0.04867880663772825
         ],
         "xaxis": "x",
         "y": [
          0.8146772311283091
         ],
         "yaxis": "y"
        },
        {
         "error_x": {
          "array": [
           -0.020007685017355364
          ],
          "type": "data"
         },
         "error_y": {
          "array": [
           -0.005275910456433053
          ],
          "type": "data"
         },
         "marker": {
          "color": "#DA16FF"
         },
         "mode": "markers",
         "name": "reject option classification average odds difference optimised outcome",
         "showlegend": true,
         "type": "scatter",
         "x": [
          0.21629004778376473
         ],
         "xaxis": "x",
         "y": [
          0.8293028683741784
         ],
         "yaxis": "y"
        },
        {
         "error_x": {
          "array": [
           -0.019225976855226506
          ],
          "type": "data"
         },
         "error_y": {
          "array": [
           -0.006406959430259596
          ],
          "type": "data"
         },
         "marker": {
          "color": "#222A2A"
         },
         "mode": "markers",
         "name": "reject option classification equal opportunity difference optimised outcome",
         "showlegend": true,
         "type": "scatter",
         "x": [
          0.2297068024524393
         ],
         "xaxis": "x",
         "y": [
          0.8222590749953933
         ],
         "yaxis": "y"
        },
        {
         "error_x": {
          "array": [
           -0.006020752007086905
          ],
          "type": "data"
         },
         "error_y": {
          "array": [
           -0.00508603163207777
          ],
          "type": "data"
         },
         "marker": {
          "color": "#B68100"
         },
         "mode": "markers",
         "name": "calibrated equal odds using fpr cost outcome",
         "showlegend": true,
         "type": "scatter",
         "x": [
          0.1866537866520477
         ],
         "xaxis": "x",
         "y": [
          0.8630249984644678
         ],
         "yaxis": "y"
        },
        {
         "error_x": {
          "array": [
           -0.013850866322104166
          ],
          "type": "data"
         },
         "error_y": {
          "array": [
           -0.005411192067177439
          ],
          "type": "data"
         },
         "marker": {
          "color": "#750D86"
         },
         "mode": "markers",
         "name": "calibrated equal odds using fnr cost outcome",
         "showlegend": true,
         "type": "scatter",
         "x": [
          0.12990398258694552
         ],
         "xaxis": "x",
         "y": [
          0.8628984706099133
         ],
         "yaxis": "y"
        },
        {
         "error_x": {
          "array": [
           -0.006535179901391547
          ],
          "type": "data"
         },
         "error_y": {
          "array": [
           -0.00527686009800532
          ],
          "type": "data"
         },
         "marker": {
          "color": "#EB663B"
         },
         "mode": "markers",
         "name": "calibrated equal odds using weighted cost outcome",
         "showlegend": true,
         "type": "scatter",
         "x": [
          0.18660770302748475
         ],
         "xaxis": "x",
         "y": [
          0.862676125545114
         ],
         "yaxis": "y"
        },
        {
         "error_x": {
          "array": [
           -0.018809449513496036
          ],
          "type": "data"
         },
         "error_y": {
          "array": [
           -0.004884066264292275
          ],
          "type": "data"
         },
         "marker": {
          "color": "#511CFB"
         },
         "mode": "markers",
         "name": "equal odds outcome",
         "showlegend": true,
         "type": "scatter",
         "x": [
          0.10857944908483542
         ],
         "xaxis": "x",
         "y": [
          0.8623997297463304
         ],
         "yaxis": "y"
        },
        {
         "line": {
          "color": "#2E91E5"
         },
         "mode": "lines+markers+text",
         "name": "fairea baseline",
         "showlegend": true,
         "text": [
          "F_0",
          "F_10",
          "F_20",
          "F_30",
          "F_40",
          "F_50",
          "F_60",
          "F_70",
          "F_80",
          "F_90",
          "F_100"
         ],
         "textposition": "bottom right",
         "type": "scatter",
         "x": [
          0.13153366316698556,
          0.11849801251375537,
          0.10472988295421881,
          0.09195415421981508,
          0.07922831335294438,
          0.06532000997858656,
          0.05309684674132034,
          0.0394512980393597,
          0.02618397829024264,
          0.013510404702598865,
          0
         ],
         "xaxis": "x",
         "y": [
          0.8639518457097229,
          0.8540003685277316,
          0.843744241754192,
          0.8341477796204163,
          0.8241017136539526,
          0.8139070081690312,
          0.803951845709723,
          0.7937841655917943,
          0.7839235919169583,
          0.7740089675081383,
          0.7637737239727288
         ],
         "yaxis": "y"
        },
        {
         "error_x": {
          "array": [
           0
          ],
          "type": "data"
         },
         "error_y": {
          "array": [
           -0.006696050914705931
          ],
          "type": "data"
         },
         "marker": {
          "color": "#E15F99"
         },
         "mode": "markers",
         "name": "learning fair representation with 5 prototypes outcome",
         "showlegend": false,
         "type": "scatter",
         "x": [
          0
         ],
         "xaxis": "x2",
         "y": [
          0.7635280388182545
         ],
         "yaxis": "y2"
        },
        {
         "error_x": {
          "array": [
           -0.04796858726008239
          ],
          "type": "data"
         },
         "error_y": {
          "array": [
           -0.005391613373116666
          ],
          "type": "data"
         },
         "marker": {
          "color": "#1CA71C"
         },
         "mode": "markers",
         "name": "reweighing outcome",
         "showlegend": false,
         "type": "scatter",
         "x": [
          0.05334373633933181
         ],
         "xaxis": "x2",
         "y": [
          0.8607499539340335
         ],
         "yaxis": "y2"
        },
        {
         "error_x": {
          "array": [
           -0.023736001941321028
          ],
          "type": "data"
         },
         "error_y": {
          "array": [
           -0.005594741907474665
          ],
          "type": "data"
         },
         "marker": {
          "color": "#FB0D0D"
         },
         "mode": "markers",
         "name": "reject option classification statistical parity difference optimised outcome",
         "showlegend": false,
         "type": "scatter",
         "x": [
          0.16123113746705228
         ],
         "xaxis": "x2",
         "y": [
          0.8146772311283091
         ],
         "yaxis": "y2"
        },
        {
         "error_x": {
          "array": [
           -0.05274790257535417
          ],
          "type": "data"
         },
         "error_y": {
          "array": [
           -0.005275910456433053
          ],
          "type": "data"
         },
         "marker": {
          "color": "#DA16FF"
         },
         "mode": "markers",
         "name": "reject option classification average odds difference optimised outcome",
         "showlegend": false,
         "type": "scatter",
         "x": [
          0.11155351732595487
         ],
         "xaxis": "x2",
         "y": [
          0.8293028683741784
         ],
         "yaxis": "y2"
        },
        {
         "error_x": {
          "array": [
           -0.048846904112639866
          ],
          "type": "data"
         },
         "error_y": {
          "array": [
           -0.006406959430259596
          ],
          "type": "data"
         },
         "marker": {
          "color": "#222A2A"
         },
         "mode": "markers",
         "name": "reject option classification equal opportunity difference optimised outcome",
         "showlegend": false,
         "type": "scatter",
         "x": [
          0.12766130546644605
         ],
         "xaxis": "x2",
         "y": [
          0.8222590749953933
         ],
         "yaxis": "y2"
        },
        {
         "error_x": {
          "array": [
           -0.00789085379544563
          ],
          "type": "data"
         },
         "error_y": {
          "array": [
           -0.00508603163207777
          ],
          "type": "data"
         },
         "marker": {
          "color": "#B68100"
         },
         "mode": "markers",
         "name": "calibrated equal odds using fpr cost outcome",
         "showlegend": false,
         "type": "scatter",
         "x": [
          0.32254305318105053
         ],
         "xaxis": "x2",
         "y": [
          0.8630249984644678
         ],
         "yaxis": "y2"
        },
        {
         "error_x": {
          "array": [
           -0.05512203567953092
          ],
          "type": "data"
         },
         "error_y": {
          "array": [
           -0.005411192067177439
          ],
          "type": "data"
         },
         "marker": {
          "color": "#750D86"
         },
         "mode": "markers",
         "name": "calibrated equal odds using fnr cost outcome",
         "showlegend": false,
         "type": "scatter",
         "x": [
          0.06622240815118527
         ],
         "xaxis": "x2",
         "y": [
          0.8628984706099133
         ],
         "yaxis": "y2"
        },
        {
         "error_x": {
          "array": [
           -0.00774260117421155
          ],
          "type": "data"
         },
         "error_y": {
          "array": [
           -0.00527686009800532
          ],
          "type": "data"
         },
         "marker": {
          "color": "#EB663B"
         },
         "mode": "markers",
         "name": "calibrated equal odds using weighted cost outcome",
         "showlegend": false,
         "type": "scatter",
         "x": [
          0.32228034899004826
         ],
         "xaxis": "x2",
         "y": [
          0.862676125545114
         ],
         "yaxis": "y2"
        },
        {
         "error_x": {
          "array": [
           -0.05634983952666767
          ],
          "type": "data"
         },
         "error_y": {
          "array": [
           -0.004884066264292275
          ],
          "type": "data"
         },
         "marker": {
          "color": "#511CFB"
         },
         "mode": "markers",
         "name": "equal odds outcome",
         "showlegend": false,
         "type": "scatter",
         "x": [
          0.06199656312502988
         ],
         "xaxis": "x2",
         "y": [
          0.8623997297463304
         ],
         "yaxis": "y2"
        },
        {
         "line": {
          "color": "#2E91E5"
         },
         "mode": "lines+markers+text",
         "name": "fairea baseline",
         "showlegend": false,
         "text": [
          "F_0",
          "F_10",
          "F_20",
          "F_30",
          "F_40",
          "F_50",
          "F_60",
          "F_70",
          "F_80",
          "F_90",
          "F_100"
         ],
         "textposition": "bottom right",
         "type": "scatter",
         "x": [
          0.0685830084977357,
          0.06229958436327204,
          0.053508791903183785,
          0.04724105989817864,
          0.04038699939047703,
          0.03586420723651894,
          0.03151529848110464,
          0.026498498658076165,
          0.01929714725606687,
          0.012592030215261374,
          0
         ],
         "xaxis": "x2",
         "y": [
          0.8639518457097229,
          0.8540003685277316,
          0.843744241754192,
          0.8341477796204163,
          0.8241017136539526,
          0.8139070081690312,
          0.803951845709723,
          0.7937841655917943,
          0.7839235919169583,
          0.7740089675081383,
          0.7637737239727288
         ],
         "yaxis": "y2"
        },
        {
         "error_x": {
          "array": [
           0
          ],
          "type": "data"
         },
         "error_y": {
          "array": [
           -0.006696050914705931
          ],
          "type": "data"
         },
         "marker": {
          "color": "#E15F99"
         },
         "mode": "markers",
         "name": "learning fair representation with 5 prototypes outcome",
         "showlegend": false,
         "type": "scatter",
         "x": [
          0
         ],
         "xaxis": "x3",
         "y": [
          0.7635280388182545
         ],
         "yaxis": "y3"
        },
        {
         "error_x": {
          "array": [
           -0.09623452897324174
          ],
          "type": "data"
         },
         "error_y": {
          "array": [
           -0.005391613373116666
          ],
          "type": "data"
         },
         "marker": {
          "color": "#1CA71C"
         },
         "mode": "markers",
         "name": "reweighing outcome",
         "showlegend": false,
         "type": "scatter",
         "x": [
          0.07646030647845349
         ],
         "xaxis": "x3",
         "y": [
          0.8607499539340335
         ],
         "yaxis": "y3"
        },
        {
         "error_x": {
          "array": [
           -0.03516158785169987
          ],
          "type": "data"
         },
         "error_y": {
          "array": [
           -0.005594741907474665
          ],
          "type": "data"
         },
         "marker": {
          "color": "#FB0D0D"
         },
         "mode": "markers",
         "name": "reject option classification statistical parity difference optimised outcome",
         "showlegend": false,
         "type": "scatter",
         "x": [
          0.1627143347445763
         ],
         "xaxis": "x3",
         "y": [
          0.8146772311283091
         ],
         "yaxis": "y3"
        },
        {
         "error_x": {
          "array": [
           -0.10705080611687709
          ],
          "type": "data"
         },
         "error_y": {
          "array": [
           -0.005275910456433053
          ],
          "type": "data"
         },
         "marker": {
          "color": "#DA16FF"
         },
         "mode": "markers",
         "name": "reject option classification average odds difference optimised outcome",
         "showlegend": false,
         "type": "scatter",
         "x": [
          0.11779777527493598
         ],
         "xaxis": "x3",
         "y": [
          0.8293028683741784
         ],
         "yaxis": "y3"
        },
        {
         "error_x": {
          "array": [
           -0.09663811335666511
          ],
          "type": "data"
         },
         "error_y": {
          "array": [
           -0.006406959430259596
          ],
          "type": "data"
         },
         "marker": {
          "color": "#222A2A"
         },
         "mode": "markers",
         "name": "reject option classification equal opportunity difference optimised outcome",
         "showlegend": false,
         "type": "scatter",
         "x": [
          0.13845785374280573
         ],
         "xaxis": "x3",
         "y": [
          0.8222590749953933
         ],
         "yaxis": "y3"
        },
        {
         "error_x": {
          "array": [
           -0.015371587748105653
          ],
          "type": "data"
         },
         "error_y": {
          "array": [
           -0.00508603163207777
          ],
          "type": "data"
         },
         "marker": {
          "color": "#B68100"
         },
         "mode": "markers",
         "name": "calibrated equal odds using fpr cost outcome",
         "showlegend": false,
         "type": "scatter",
         "x": [
          0.591585365067916
         ],
         "xaxis": "x3",
         "y": [
          0.8630249984644678
         ],
         "yaxis": "y3"
        },
        {
         "error_x": {
          "array": [
           -0.11062439098387514
          ],
          "type": "data"
         },
         "error_y": {
          "array": [
           -0.005411192067177439
          ],
          "type": "data"
         },
         "marker": {
          "color": "#750D86"
         },
         "mode": "markers",
         "name": "calibrated equal odds using fnr cost outcome",
         "showlegend": false,
         "type": "scatter",
         "x": [
          0.10013287478253682
         ],
         "xaxis": "x3",
         "y": [
          0.8628984706099133
         ],
         "yaxis": "y3"
        },
        {
         "error_x": {
          "array": [
           -0.014414772583860924
          ],
          "type": "data"
         },
         "error_y": {
          "array": [
           -0.00527686009800532
          ],
          "type": "data"
         },
         "marker": {
          "color": "#EB663B"
         },
         "mode": "markers",
         "name": "calibrated equal odds using weighted cost outcome",
         "showlegend": false,
         "type": "scatter",
         "x": [
          0.5909145316019755
         ],
         "xaxis": "x3",
         "y": [
          0.862676125545114
         ],
         "yaxis": "y3"
        },
        {
         "error_x": {
          "array": [
           -0.11139601683646101
          ],
          "type": "data"
         },
         "error_y": {
          "array": [
           -0.004884066264292275
          ],
          "type": "data"
         },
         "marker": {
          "color": "#511CFB"
         },
         "mode": "markers",
         "name": "equal odds outcome",
         "showlegend": false,
         "type": "scatter",
         "x": [
          0.11437749905666379
         ],
         "xaxis": "x3",
         "y": [
          0.8623997297463304
         ],
         "yaxis": "y3"
        },
        {
         "line": {
          "color": "#2E91E5"
         },
         "mode": "lines+markers+text",
         "name": "fairea baseline",
         "showlegend": false,
         "text": [
          "F_0",
          "F_10",
          "F_20",
          "F_30",
          "F_40",
          "F_50",
          "F_60",
          "F_70",
          "F_80",
          "F_90",
          "F_100"
         ],
         "textposition": "bottom right",
         "type": "scatter",
         "x": [
          0.10440457908697472,
          0.09506240402066174,
          0.08101842803294708,
          0.07172092698589977,
          0.0604919726371632,
          0.05584461817674158,
          0.04939173530643584,
          0.04318092977802597,
          0.03205137512215552,
          0.02196872818651403,
          0
         ],
         "xaxis": "x3",
         "y": [
          0.8639518457097229,
          0.8540003685277316,
          0.843744241754192,
          0.8341477796204163,
          0.8241017136539526,
          0.8139070081690312,
          0.803951845709723,
          0.7937841655917943,
          0.7839235919169583,
          0.7740089675081383,
          0.7637737239727288
         ],
         "yaxis": "y3"
        },
        {
         "error_x": {
          "array": [
           -0.01646829993570728
          ],
          "type": "data"
         },
         "error_y": {
          "array": [
           -0.006696050914705931
          ],
          "type": "data"
         },
         "marker": {
          "color": "#E15F99"
         },
         "mode": "markers",
         "name": "learning fair representation with 5 prototypes outcome",
         "showlegend": false,
         "type": "scatter",
         "x": [
          0.17598671115564543
         ],
         "xaxis": "x4",
         "y": [
          0.7635280388182545
         ],
         "yaxis": "y4"
        },
        {
         "error_x": {
          "array": [
           -0.015403051539933502
          ],
          "type": "data"
         },
         "error_y": {
          "array": [
           -0.005391613373116666
          ],
          "type": "data"
         },
         "marker": {
          "color": "#1CA71C"
         },
         "mode": "markers",
         "name": "reweighing outcome",
         "showlegend": false,
         "type": "scatter",
         "x": [
          0.08495389282141413
         ],
         "xaxis": "x4",
         "y": [
          0.8607499539340335
         ],
         "yaxis": "y4"
        },
        {
         "error_x": {
          "array": [
           -0.029198803488258956
          ],
          "type": "data"
         },
         "error_y": {
          "array": [
           -0.005594741907474665
          ],
          "type": "data"
         },
         "marker": {
          "color": "#FB0D0D"
         },
         "mode": "markers",
         "name": "reject option classification statistical parity difference optimised outcome",
         "showlegend": false,
         "type": "scatter",
         "x": [
          0.13348472724587312
         ],
         "xaxis": "x4",
         "y": [
          0.8146772311283091
         ],
         "yaxis": "y4"
        },
        {
         "error_x": {
          "array": [
           -0.018692495916675517
          ],
          "type": "data"
         },
         "error_y": {
          "array": [
           -0.005275910456433053
          ],
          "type": "data"
         },
         "marker": {
          "color": "#DA16FF"
         },
         "mode": "markers",
         "name": "reject option classification average odds difference optimised outcome",
         "showlegend": false,
         "type": "scatter",
         "x": [
          0.0949133621132277
         ],
         "xaxis": "x4",
         "y": [
          0.8293028683741784
         ],
         "yaxis": "y4"
        },
        {
         "error_x": {
          "array": [
           -0.017846119060077756
          ],
          "type": "data"
         },
         "error_y": {
          "array": [
           -0.006406959430259596
          ],
          "type": "data"
         },
         "marker": {
          "color": "#222A2A"
         },
         "mode": "markers",
         "name": "reject option classification equal opportunity difference optimised outcome",
         "showlegend": false,
         "type": "scatter",
         "x": [
          0.09507999866023782
         ],
         "xaxis": "x4",
         "y": [
          0.8222590749953933
         ],
         "yaxis": "y4"
        },
        {
         "error_x": {
          "array": [
           -0.01750430651598603
          ],
          "type": "data"
         },
         "error_y": {
          "array": [
           -0.00508603163207777
          ],
          "type": "data"
         },
         "marker": {
          "color": "#B68100"
         },
         "mode": "markers",
         "name": "calibrated equal odds using fpr cost outcome",
         "showlegend": false,
         "type": "scatter",
         "x": [
          0.06828734070803566
         ],
         "xaxis": "x4",
         "y": [
          0.8630249984644678
         ],
         "yaxis": "y4"
        },
        {
         "error_x": {
          "array": [
           -0.015190155790662643
          ],
          "type": "data"
         },
         "error_y": {
          "array": [
           -0.005411192067177439
          ],
          "type": "data"
         },
         "marker": {
          "color": "#750D86"
         },
         "mode": "markers",
         "name": "calibrated equal odds using fnr cost outcome",
         "showlegend": false,
         "type": "scatter",
         "x": [
          0.0856879005066105
         ],
         "xaxis": "x4",
         "y": [
          0.8628984706099133
         ],
         "yaxis": "y4"
        },
        {
         "error_x": {
          "array": [
           -0.016093657016393287
          ],
          "type": "data"
         },
         "error_y": {
          "array": [
           -0.00527686009800532
          ],
          "type": "data"
         },
         "marker": {
          "color": "#EB663B"
         },
         "mode": "markers",
         "name": "calibrated equal odds using weighted cost outcome",
         "showlegend": false,
         "type": "scatter",
         "x": [
          0.06749526891036203
         ],
         "xaxis": "x4",
         "y": [
          0.862676125545114
         ],
         "yaxis": "y4"
        },
        {
         "error_x": {
          "array": [
           -0.017955624343013687
          ],
          "type": "data"
         },
         "error_y": {
          "array": [
           -0.004884066264292275
          ],
          "type": "data"
         },
         "marker": {
          "color": "#511CFB"
         },
         "mode": "markers",
         "name": "equal odds outcome",
         "showlegend": false,
         "type": "scatter",
         "x": [
          0.06048546530038641
         ],
         "xaxis": "x4",
         "y": [
          0.8623997297463304
         ],
         "yaxis": "y4"
        },
        {
         "line": {
          "color": "#2E91E5"
         },
         "mode": "lines+markers+text",
         "name": "fairea baseline",
         "showlegend": false,
         "text": [
          "F_0",
          "F_10",
          "F_20",
          "F_30",
          "F_40",
          "F_50",
          "F_60",
          "F_70",
          "F_80",
          "F_90",
          "F_100"
         ],
         "textposition": "bottom right",
         "type": "scatter",
         "x": [
          0.08447361056413193,
          0.09345200337853665,
          0.10246711181968643,
          0.1111075977819172,
          0.1210941520164216,
          0.12876541583986648,
          0.1386961229138992,
          0.14710135103477182,
          0.15620944901233522,
          0.16450935999017338,
          0.17393512145889978
         ],
         "xaxis": "x4",
         "y": [
          0.8639518457097229,
          0.8540003685277316,
          0.843744241754192,
          0.8341477796204163,
          0.8241017136539526,
          0.8139070081690312,
          0.803951845709723,
          0.7937841655917943,
          0.7839235919169583,
          0.7740089675081383,
          0.7637737239727288
         ],
         "yaxis": "y4"
        },
        {
         "error_x": {
          "array": [
           0
          ],
          "type": "data"
         },
         "error_y": {
          "array": [
           0
          ],
          "type": "data"
         },
         "marker": {
          "color": "#E15F99"
         },
         "mode": "markers",
         "name": "learning fair representation with 5 prototypes outcome",
         "showlegend": false,
         "type": "scatter",
         "x": [
          0
         ],
         "xaxis": "x5",
         "y": [
          0
         ],
         "yaxis": "y5"
        },
        {
         "error_x": {
          "array": [
           -0.015938609730275263
          ],
          "type": "data"
         },
         "error_y": {
          "array": [
           -0.014339458015000361
          ],
          "type": "data"
         },
         "marker": {
          "color": "#1CA71C"
         },
         "mode": "markers",
         "name": "reweighing outcome",
         "showlegend": false,
         "type": "scatter",
         "x": [
          0.12466468717444094
         ],
         "xaxis": "x5",
         "y": [
          0.582413683299427
         ],
         "yaxis": "y5"
        },
        {
         "error_x": {
          "array": [
           -0.029104527655856503
          ],
          "type": "data"
         },
         "error_y": {
          "array": [
           -0.009403672731446933
          ],
          "type": "data"
         },
         "marker": {
          "color": "#FB0D0D"
         },
         "mode": "markers",
         "name": "reject option classification statistical parity difference optimised outcome",
         "showlegend": false,
         "type": "scatter",
         "x": [
          0.04867880663772825
         ],
         "xaxis": "x5",
         "y": [
          0.8142187098233892
         ],
         "yaxis": "y5"
        },
        {
         "error_x": {
          "array": [
           -0.020007685017355364
          ],
          "type": "data"
         },
         "error_y": {
          "array": [
           -0.011656971546061157
          ],
          "type": "data"
         },
         "marker": {
          "color": "#DA16FF"
         },
         "mode": "markers",
         "name": "reject option classification average odds difference optimised outcome",
         "showlegend": false,
         "type": "scatter",
         "x": [
          0.21629004778376473
         ],
         "xaxis": "x5",
         "y": [
          0.7962391790891091
         ],
         "yaxis": "y5"
        },
        {
         "error_x": {
          "array": [
           -0.019225976855226506
          ],
          "type": "data"
         },
         "error_y": {
          "array": [
           -0.011851142984008689
          ],
          "type": "data"
         },
         "marker": {
          "color": "#222A2A"
         },
         "mode": "markers",
         "name": "reject option classification equal opportunity difference optimised outcome",
         "showlegend": false,
         "type": "scatter",
         "x": [
          0.2297068024524393
         ],
         "xaxis": "x5",
         "y": [
          0.8263933869512714
         ],
         "yaxis": "y5"
        },
        {
         "error_x": {
          "array": [
           -0.006020752007086905
          ],
          "type": "data"
         },
         "error_y": {
          "array": [
           -0.015406038176238868
          ],
          "type": "data"
         },
         "marker": {
          "color": "#B68100"
         },
         "mode": "markers",
         "name": "calibrated equal odds using fpr cost outcome",
         "showlegend": false,
         "type": "scatter",
         "x": [
          0.1866537866520477
         ],
         "xaxis": "x5",
         "y": [
          0.5799443644493807
         ],
         "yaxis": "y5"
        },
        {
         "error_x": {
          "array": [
           -0.013850866322104166
          ],
          "type": "data"
         },
         "error_y": {
          "array": [
           -0.014481763910128786
          ],
          "type": "data"
         },
         "marker": {
          "color": "#750D86"
         },
         "mode": "markers",
         "name": "calibrated equal odds using fnr cost outcome",
         "showlegend": false,
         "type": "scatter",
         "x": [
          0.12990398258694552
         ],
         "xaxis": "x5",
         "y": [
          0.5843339477436438
         ],
         "yaxis": "y5"
        },
        {
         "error_x": {
          "array": [
           -0.006535179901391547
          ],
          "type": "data"
         },
         "error_y": {
          "array": [
           -0.014407683535350158
          ],
          "type": "data"
         },
         "marker": {
          "color": "#EB663B"
         },
         "mode": "markers",
         "name": "calibrated equal odds using weighted cost outcome",
         "showlegend": false,
         "type": "scatter",
         "x": [
          0.18660770302748475
         ],
         "xaxis": "x5",
         "y": [
          0.5791420395252497
         ],
         "yaxis": "y5"
        },
        {
         "error_x": {
          "array": [
           -0.018809449513496036
          ],
          "type": "data"
         },
         "error_y": {
          "array": [
           -0.015229371440143025
          ],
          "type": "data"
         },
         "marker": {
          "color": "#511CFB"
         },
         "mode": "markers",
         "name": "equal odds outcome",
         "showlegend": false,
         "type": "scatter",
         "x": [
          0.10857944908483542
         ],
         "xaxis": "x5",
         "y": [
          0.5879800763451631
         ],
         "yaxis": "y5"
        },
        {
         "line": {
          "color": "#2E91E5"
         },
         "mode": "lines+markers+text",
         "name": "fairea baseline",
         "showlegend": false,
         "text": [
          "F_0",
          "F_10",
          "F_20",
          "F_30",
          "F_40",
          "F_50",
          "F_60",
          "F_70",
          "F_80",
          "F_90",
          "F_100"
         ],
         "textposition": "bottom right",
         "type": "scatter",
         "x": [
          0.13153366316698556,
          0.11849801251375537,
          0.10472988295421881,
          0.09195415421981508,
          0.07922831335294438,
          0.06532000997858656,
          0.05309684674132034,
          0.0394512980393597,
          0.02618397829024264,
          0.013510404702598865,
          0
         ],
         "xaxis": "x5",
         "y": [
          0.5891835673426938,
          0.5300260010400416,
          0.47073322932917316,
          0.4135777431097244,
          0.3544253770150806,
          0.2945761830473219,
          0.2356318252730109,
          0.17640145605824234,
          0.11775351014040564,
          0.059677587103484135,
          0
         ],
         "yaxis": "y5"
        },
        {
         "error_x": {
          "array": [
           0
          ],
          "type": "data"
         },
         "error_y": {
          "array": [
           0
          ],
          "type": "data"
         },
         "marker": {
          "color": "#E15F99"
         },
         "mode": "markers",
         "name": "learning fair representation with 5 prototypes outcome",
         "showlegend": false,
         "type": "scatter",
         "x": [
          0
         ],
         "xaxis": "x6",
         "y": [
          0
         ],
         "yaxis": "y6"
        },
        {
         "error_x": {
          "array": [
           -0.04796858726008239
          ],
          "type": "data"
         },
         "error_y": {
          "array": [
           -0.014339458015000361
          ],
          "type": "data"
         },
         "marker": {
          "color": "#1CA71C"
         },
         "mode": "markers",
         "name": "reweighing outcome",
         "showlegend": false,
         "type": "scatter",
         "x": [
          0.05334373633933181
         ],
         "xaxis": "x6",
         "y": [
          0.582413683299427
         ],
         "yaxis": "y6"
        },
        {
         "error_x": {
          "array": [
           -0.023736001941321028
          ],
          "type": "data"
         },
         "error_y": {
          "array": [
           -0.009403672731446933
          ],
          "type": "data"
         },
         "marker": {
          "color": "#FB0D0D"
         },
         "mode": "markers",
         "name": "reject option classification statistical parity difference optimised outcome",
         "showlegend": false,
         "type": "scatter",
         "x": [
          0.16123113746705228
         ],
         "xaxis": "x6",
         "y": [
          0.8142187098233892
         ],
         "yaxis": "y6"
        },
        {
         "error_x": {
          "array": [
           -0.05274790257535417
          ],
          "type": "data"
         },
         "error_y": {
          "array": [
           -0.011656971546061157
          ],
          "type": "data"
         },
         "marker": {
          "color": "#DA16FF"
         },
         "mode": "markers",
         "name": "reject option classification average odds difference optimised outcome",
         "showlegend": false,
         "type": "scatter",
         "x": [
          0.11155351732595487
         ],
         "xaxis": "x6",
         "y": [
          0.7962391790891091
         ],
         "yaxis": "y6"
        },
        {
         "error_x": {
          "array": [
           -0.048846904112639866
          ],
          "type": "data"
         },
         "error_y": {
          "array": [
           -0.011851142984008689
          ],
          "type": "data"
         },
         "marker": {
          "color": "#222A2A"
         },
         "mode": "markers",
         "name": "reject option classification equal opportunity difference optimised outcome",
         "showlegend": false,
         "type": "scatter",
         "x": [
          0.12766130546644605
         ],
         "xaxis": "x6",
         "y": [
          0.8263933869512714
         ],
         "yaxis": "y6"
        },
        {
         "error_x": {
          "array": [
           -0.00789085379544563
          ],
          "type": "data"
         },
         "error_y": {
          "array": [
           -0.015406038176238868
          ],
          "type": "data"
         },
         "marker": {
          "color": "#B68100"
         },
         "mode": "markers",
         "name": "calibrated equal odds using fpr cost outcome",
         "showlegend": false,
         "type": "scatter",
         "x": [
          0.32254305318105053
         ],
         "xaxis": "x6",
         "y": [
          0.5799443644493807
         ],
         "yaxis": "y6"
        },
        {
         "error_x": {
          "array": [
           -0.05512203567953092
          ],
          "type": "data"
         },
         "error_y": {
          "array": [
           -0.014481763910128786
          ],
          "type": "data"
         },
         "marker": {
          "color": "#750D86"
         },
         "mode": "markers",
         "name": "calibrated equal odds using fnr cost outcome",
         "showlegend": false,
         "type": "scatter",
         "x": [
          0.06622240815118527
         ],
         "xaxis": "x6",
         "y": [
          0.5843339477436438
         ],
         "yaxis": "y6"
        },
        {
         "error_x": {
          "array": [
           -0.00774260117421155
          ],
          "type": "data"
         },
         "error_y": {
          "array": [
           -0.014407683535350158
          ],
          "type": "data"
         },
         "marker": {
          "color": "#EB663B"
         },
         "mode": "markers",
         "name": "calibrated equal odds using weighted cost outcome",
         "showlegend": false,
         "type": "scatter",
         "x": [
          0.32228034899004826
         ],
         "xaxis": "x6",
         "y": [
          0.5791420395252497
         ],
         "yaxis": "y6"
        },
        {
         "error_x": {
          "array": [
           -0.05634983952666767
          ],
          "type": "data"
         },
         "error_y": {
          "array": [
           -0.015229371440143025
          ],
          "type": "data"
         },
         "marker": {
          "color": "#511CFB"
         },
         "mode": "markers",
         "name": "equal odds outcome",
         "showlegend": false,
         "type": "scatter",
         "x": [
          0.06199656312502988
         ],
         "xaxis": "x6",
         "y": [
          0.5879800763451631
         ],
         "yaxis": "y6"
        },
        {
         "line": {
          "color": "#2E91E5"
         },
         "mode": "lines+markers+text",
         "name": "fairea baseline",
         "showlegend": false,
         "text": [
          "F_0",
          "F_10",
          "F_20",
          "F_30",
          "F_40",
          "F_50",
          "F_60",
          "F_70",
          "F_80",
          "F_90",
          "F_100"
         ],
         "textposition": "bottom right",
         "type": "scatter",
         "x": [
          0.0685830084977357,
          0.06229958436327204,
          0.053508791903183785,
          0.04724105989817864,
          0.04038699939047703,
          0.03586420723651894,
          0.03151529848110464,
          0.026498498658076165,
          0.01929714725606687,
          0.012592030215261374,
          0
         ],
         "xaxis": "x6",
         "y": [
          0.5891835673426938,
          0.5300260010400416,
          0.47073322932917316,
          0.4135777431097244,
          0.3544253770150806,
          0.2945761830473219,
          0.2356318252730109,
          0.17640145605824234,
          0.11775351014040564,
          0.059677587103484135,
          0
         ],
         "yaxis": "y6"
        },
        {
         "error_x": {
          "array": [
           0
          ],
          "type": "data"
         },
         "error_y": {
          "array": [
           0
          ],
          "type": "data"
         },
         "marker": {
          "color": "#E15F99"
         },
         "mode": "markers",
         "name": "learning fair representation with 5 prototypes outcome",
         "showlegend": false,
         "type": "scatter",
         "x": [
          0
         ],
         "xaxis": "x7",
         "y": [
          0
         ],
         "yaxis": "y7"
        },
        {
         "error_x": {
          "array": [
           -0.09623452897324174
          ],
          "type": "data"
         },
         "error_y": {
          "array": [
           -0.014339458015000361
          ],
          "type": "data"
         },
         "marker": {
          "color": "#1CA71C"
         },
         "mode": "markers",
         "name": "reweighing outcome",
         "showlegend": false,
         "type": "scatter",
         "x": [
          0.07646030647845349
         ],
         "xaxis": "x7",
         "y": [
          0.582413683299427
         ],
         "yaxis": "y7"
        },
        {
         "error_x": {
          "array": [
           -0.03516158785169987
          ],
          "type": "data"
         },
         "error_y": {
          "array": [
           -0.009403672731446933
          ],
          "type": "data"
         },
         "marker": {
          "color": "#FB0D0D"
         },
         "mode": "markers",
         "name": "reject option classification statistical parity difference optimised outcome",
         "showlegend": false,
         "type": "scatter",
         "x": [
          0.1627143347445763
         ],
         "xaxis": "x7",
         "y": [
          0.8142187098233892
         ],
         "yaxis": "y7"
        },
        {
         "error_x": {
          "array": [
           -0.10705080611687709
          ],
          "type": "data"
         },
         "error_y": {
          "array": [
           -0.011656971546061157
          ],
          "type": "data"
         },
         "marker": {
          "color": "#DA16FF"
         },
         "mode": "markers",
         "name": "reject option classification average odds difference optimised outcome",
         "showlegend": false,
         "type": "scatter",
         "x": [
          0.11779777527493598
         ],
         "xaxis": "x7",
         "y": [
          0.7962391790891091
         ],
         "yaxis": "y7"
        },
        {
         "error_x": {
          "array": [
           -0.09663811335666511
          ],
          "type": "data"
         },
         "error_y": {
          "array": [
           -0.011851142984008689
          ],
          "type": "data"
         },
         "marker": {
          "color": "#222A2A"
         },
         "mode": "markers",
         "name": "reject option classification equal opportunity difference optimised outcome",
         "showlegend": false,
         "type": "scatter",
         "x": [
          0.13845785374280573
         ],
         "xaxis": "x7",
         "y": [
          0.8263933869512714
         ],
         "yaxis": "y7"
        },
        {
         "error_x": {
          "array": [
           -0.015371587748105653
          ],
          "type": "data"
         },
         "error_y": {
          "array": [
           -0.015406038176238868
          ],
          "type": "data"
         },
         "marker": {
          "color": "#B68100"
         },
         "mode": "markers",
         "name": "calibrated equal odds using fpr cost outcome",
         "showlegend": false,
         "type": "scatter",
         "x": [
          0.591585365067916
         ],
         "xaxis": "x7",
         "y": [
          0.5799443644493807
         ],
         "yaxis": "y7"
        },
        {
         "error_x": {
          "array": [
           -0.11062439098387514
          ],
          "type": "data"
         },
         "error_y": {
          "array": [
           -0.014481763910128786
          ],
          "type": "data"
         },
         "marker": {
          "color": "#750D86"
         },
         "mode": "markers",
         "name": "calibrated equal odds using fnr cost outcome",
         "showlegend": false,
         "type": "scatter",
         "x": [
          0.10013287478253682
         ],
         "xaxis": "x7",
         "y": [
          0.5843339477436438
         ],
         "yaxis": "y7"
        },
        {
         "error_x": {
          "array": [
           -0.014414772583860924
          ],
          "type": "data"
         },
         "error_y": {
          "array": [
           -0.014407683535350158
          ],
          "type": "data"
         },
         "marker": {
          "color": "#EB663B"
         },
         "mode": "markers",
         "name": "calibrated equal odds using weighted cost outcome",
         "showlegend": false,
         "type": "scatter",
         "x": [
          0.5909145316019755
         ],
         "xaxis": "x7",
         "y": [
          0.5791420395252497
         ],
         "yaxis": "y7"
        },
        {
         "error_x": {
          "array": [
           -0.11139601683646101
          ],
          "type": "data"
         },
         "error_y": {
          "array": [
           -0.015229371440143025
          ],
          "type": "data"
         },
         "marker": {
          "color": "#511CFB"
         },
         "mode": "markers",
         "name": "equal odds outcome",
         "showlegend": false,
         "type": "scatter",
         "x": [
          0.11437749905666379
         ],
         "xaxis": "x7",
         "y": [
          0.5879800763451631
         ],
         "yaxis": "y7"
        },
        {
         "line": {
          "color": "#2E91E5"
         },
         "mode": "lines+markers+text",
         "name": "fairea baseline",
         "showlegend": false,
         "text": [
          "F_0",
          "F_10",
          "F_20",
          "F_30",
          "F_40",
          "F_50",
          "F_60",
          "F_70",
          "F_80",
          "F_90",
          "F_100"
         ],
         "textposition": "bottom right",
         "type": "scatter",
         "x": [
          0.10440457908697472,
          0.09506240402066174,
          0.08101842803294708,
          0.07172092698589977,
          0.0604919726371632,
          0.05584461817674158,
          0.04939173530643584,
          0.04318092977802597,
          0.03205137512215552,
          0.02196872818651403,
          0
         ],
         "xaxis": "x7",
         "y": [
          0.5891835673426938,
          0.5300260010400416,
          0.47073322932917316,
          0.4135777431097244,
          0.3544253770150806,
          0.2945761830473219,
          0.2356318252730109,
          0.17640145605824234,
          0.11775351014040564,
          0.059677587103484135,
          0
         ],
         "yaxis": "y7"
        },
        {
         "error_x": {
          "array": [
           -0.01646829993570728
          ],
          "type": "data"
         },
         "error_y": {
          "array": [
           0
          ],
          "type": "data"
         },
         "marker": {
          "color": "#E15F99"
         },
         "mode": "markers",
         "name": "learning fair representation with 5 prototypes outcome",
         "showlegend": false,
         "type": "scatter",
         "x": [
          0.17598671115564543
         ],
         "xaxis": "x8",
         "y": [
          0
         ],
         "yaxis": "y8"
        },
        {
         "error_x": {
          "array": [
           -0.015403051539933502
          ],
          "type": "data"
         },
         "error_y": {
          "array": [
           -0.014339458015000361
          ],
          "type": "data"
         },
         "marker": {
          "color": "#1CA71C"
         },
         "mode": "markers",
         "name": "reweighing outcome",
         "showlegend": false,
         "type": "scatter",
         "x": [
          0.08495389282141413
         ],
         "xaxis": "x8",
         "y": [
          0.582413683299427
         ],
         "yaxis": "y8"
        },
        {
         "error_x": {
          "array": [
           -0.029198803488258956
          ],
          "type": "data"
         },
         "error_y": {
          "array": [
           -0.009403672731446933
          ],
          "type": "data"
         },
         "marker": {
          "color": "#FB0D0D"
         },
         "mode": "markers",
         "name": "reject option classification statistical parity difference optimised outcome",
         "showlegend": false,
         "type": "scatter",
         "x": [
          0.13348472724587312
         ],
         "xaxis": "x8",
         "y": [
          0.8142187098233892
         ],
         "yaxis": "y8"
        },
        {
         "error_x": {
          "array": [
           -0.018692495916675517
          ],
          "type": "data"
         },
         "error_y": {
          "array": [
           -0.011656971546061157
          ],
          "type": "data"
         },
         "marker": {
          "color": "#DA16FF"
         },
         "mode": "markers",
         "name": "reject option classification average odds difference optimised outcome",
         "showlegend": false,
         "type": "scatter",
         "x": [
          0.0949133621132277
         ],
         "xaxis": "x8",
         "y": [
          0.7962391790891091
         ],
         "yaxis": "y8"
        },
        {
         "error_x": {
          "array": [
           -0.017846119060077756
          ],
          "type": "data"
         },
         "error_y": {
          "array": [
           -0.011851142984008689
          ],
          "type": "data"
         },
         "marker": {
          "color": "#222A2A"
         },
         "mode": "markers",
         "name": "reject option classification equal opportunity difference optimised outcome",
         "showlegend": false,
         "type": "scatter",
         "x": [
          0.09507999866023782
         ],
         "xaxis": "x8",
         "y": [
          0.8263933869512714
         ],
         "yaxis": "y8"
        },
        {
         "error_x": {
          "array": [
           -0.01750430651598603
          ],
          "type": "data"
         },
         "error_y": {
          "array": [
           -0.015406038176238868
          ],
          "type": "data"
         },
         "marker": {
          "color": "#B68100"
         },
         "mode": "markers",
         "name": "calibrated equal odds using fpr cost outcome",
         "showlegend": false,
         "type": "scatter",
         "x": [
          0.06828734070803566
         ],
         "xaxis": "x8",
         "y": [
          0.5799443644493807
         ],
         "yaxis": "y8"
        },
        {
         "error_x": {
          "array": [
           -0.015190155790662643
          ],
          "type": "data"
         },
         "error_y": {
          "array": [
           -0.014481763910128786
          ],
          "type": "data"
         },
         "marker": {
          "color": "#750D86"
         },
         "mode": "markers",
         "name": "calibrated equal odds using fnr cost outcome",
         "showlegend": false,
         "type": "scatter",
         "x": [
          0.0856879005066105
         ],
         "xaxis": "x8",
         "y": [
          0.5843339477436438
         ],
         "yaxis": "y8"
        },
        {
         "error_x": {
          "array": [
           -0.016093657016393287
          ],
          "type": "data"
         },
         "error_y": {
          "array": [
           -0.014407683535350158
          ],
          "type": "data"
         },
         "marker": {
          "color": "#EB663B"
         },
         "mode": "markers",
         "name": "calibrated equal odds using weighted cost outcome",
         "showlegend": false,
         "type": "scatter",
         "x": [
          0.06749526891036203
         ],
         "xaxis": "x8",
         "y": [
          0.5791420395252497
         ],
         "yaxis": "y8"
        },
        {
         "error_x": {
          "array": [
           -0.017955624343013687
          ],
          "type": "data"
         },
         "error_y": {
          "array": [
           -0.015229371440143025
          ],
          "type": "data"
         },
         "marker": {
          "color": "#511CFB"
         },
         "mode": "markers",
         "name": "equal odds outcome",
         "showlegend": false,
         "type": "scatter",
         "x": [
          0.06048546530038641
         ],
         "xaxis": "x8",
         "y": [
          0.5879800763451631
         ],
         "yaxis": "y8"
        },
        {
         "line": {
          "color": "#2E91E5"
         },
         "mode": "lines+markers+text",
         "name": "fairea baseline",
         "showlegend": false,
         "text": [
          "F_0",
          "F_10",
          "F_20",
          "F_30",
          "F_40",
          "F_50",
          "F_60",
          "F_70",
          "F_80",
          "F_90",
          "F_100"
         ],
         "textposition": "bottom right",
         "type": "scatter",
         "x": [
          0.08447361056413193,
          0.09345200337853665,
          0.10246711181968643,
          0.1111075977819172,
          0.1210941520164216,
          0.12876541583986648,
          0.1386961229138992,
          0.14710135103477182,
          0.15620944901233522,
          0.16450935999017338,
          0.17393512145889978
         ],
         "xaxis": "x8",
         "y": [
          0.5891835673426938,
          0.5300260010400416,
          0.47073322932917316,
          0.4135777431097244,
          0.3544253770150806,
          0.2945761830473219,
          0.2356318252730109,
          0.17640145605824234,
          0.11775351014040564,
          0.059677587103484135,
          0
         ],
         "yaxis": "y8"
        },
        {
         "error_x": {
          "array": [
           0
          ],
          "type": "data"
         },
         "error_y": {
          "array": [
           0
          ],
          "type": "data"
         },
         "marker": {
          "color": "#E15F99"
         },
         "mode": "markers",
         "name": "learning fair representation with 5 prototypes outcome",
         "showlegend": false,
         "type": "scatter",
         "x": [
          0
         ],
         "xaxis": "x9",
         "y": [
          1
         ],
         "yaxis": "y9"
        },
        {
         "error_x": {
          "array": [
           -0.015938609730275263
          ],
          "type": "data"
         },
         "error_y": {
          "array": [
           -0.0041859299281380435
          ],
          "type": "data"
         },
         "marker": {
          "color": "#1CA71C"
         },
         "mode": "markers",
         "name": "reweighing outcome",
         "showlegend": false,
         "type": "scatter",
         "x": [
          0.12466468717444094
         ],
         "xaxis": "x9",
         "y": [
          0.946903266561693
         ],
         "yaxis": "y9"
        },
        {
         "error_x": {
          "array": [
           -0.029104527655856503
          ],
          "type": "data"
         },
         "error_y": {
          "array": [
           -0.006872018180209882
          ],
          "type": "data"
         },
         "marker": {
          "color": "#FB0D0D"
         },
         "mode": "markers",
         "name": "reject option classification statistical parity difference optimised outcome",
         "showlegend": false,
         "type": "scatter",
         "x": [
          0.04867880663772825
         ],
         "xaxis": "x9",
         "y": [
          0.8148188477230324
         ],
         "yaxis": "y9"
        },
        {
         "error_x": {
          "array": [
           -0.020007685017355364
          ],
          "type": "data"
         },
         "error_y": {
          "array": [
           -0.0056208479020043445
          ],
          "type": "data"
         },
         "marker": {
          "color": "#DA16FF"
         },
         "mode": "markers",
         "name": "reject option classification average odds difference optimised outcome",
         "showlegend": false,
         "type": "scatter",
         "x": [
          0.21629004778376473
         ],
         "xaxis": "x9",
         "y": [
          0.8395232597776605
         ],
         "yaxis": "y9"
        },
        {
         "error_x": {
          "array": [
           -0.019225976855226506
          ],
          "type": "data"
         },
         "error_y": {
          "array": [
           -0.007024099771782533
          ],
          "type": "data"
         },
         "marker": {
          "color": "#222A2A"
         },
         "mode": "markers",
         "name": "reject option classification equal opportunity difference optimised outcome",
         "showlegend": false,
         "type": "scatter",
         "x": [
          0.2297068024524393
         ],
         "xaxis": "x9",
         "y": [
          0.820979827396091
         ],
         "yaxis": "y9"
        },
        {
         "error_x": {
          "array": [
           -0.006020752007086905
          ],
          "type": "data"
         },
         "error_y": {
          "array": [
           -0.0034129806220917214
          ],
          "type": "data"
         },
         "marker": {
          "color": "#B68100"
         },
         "mode": "markers",
         "name": "calibrated equal odds using fpr cost outcome",
         "showlegend": false,
         "type": "scatter",
         "x": [
          0.1866537866520477
         ],
         "xaxis": "x9",
         "y": [
          0.9506360121515014
         ],
         "yaxis": "y9"
        },
        {
         "error_x": {
          "array": [
           -0.013850866322104166
          ],
          "type": "data"
         },
         "error_y": {
          "array": [
           -0.003950391430344702
          ],
          "type": "data"
         },
         "marker": {
          "color": "#750D86"
         },
         "mode": "markers",
         "name": "calibrated equal odds using fnr cost outcome",
         "showlegend": false,
         "type": "scatter",
         "x": [
          0.12990398258694552
         ],
         "xaxis": "x9",
         "y": [
          0.9492815145514389
         ],
         "yaxis": "y9"
        },
        {
         "error_x": {
          "array": [
           -0.006535179901391547
          ],
          "type": "data"
         },
         "error_y": {
          "array": [
           -0.003992858752766559
          ],
          "type": "data"
         },
         "marker": {
          "color": "#EB663B"
         },
         "mode": "markers",
         "name": "calibrated equal odds using weighted cost outcome",
         "showlegend": false,
         "type": "scatter",
         "x": [
          0.18660770302748475
         ],
         "xaxis": "x9",
         "y": [
          0.9504875365773957
         ],
         "yaxis": "y9"
        },
        {
         "error_x": {
          "array": [
           -0.018809449513496036
          ],
          "type": "data"
         },
         "error_y": {
          "array": [
           -0.004178620296721669
          ],
          "type": "data"
         },
         "marker": {
          "color": "#511CFB"
         },
         "mode": "markers",
         "name": "equal odds outcome",
         "showlegend": false,
         "type": "scatter",
         "x": [
          0.10857944908483542
         ],
         "xaxis": "x9",
         "y": [
          0.9470954575833117
         ],
         "yaxis": "y9"
        },
        {
         "line": {
          "color": "#2E91E5"
         },
         "mode": "lines+markers+text",
         "name": "fairea baseline",
         "showlegend": false,
         "text": [
          "F_0",
          "F_10",
          "F_20",
          "F_30",
          "F_40",
          "F_50",
          "F_60",
          "F_70",
          "F_80",
          "F_90",
          "F_100"
         ],
         "textposition": "bottom right",
         "type": "scatter",
         "x": [
          0.13153366316698556,
          0.11849801251375537,
          0.10472988295421881,
          0.09195415421981508,
          0.07922831335294438,
          0.06532000997858656,
          0.05309684674132034,
          0.0394512980393597,
          0.02618397829024264,
          0.013510404702598865,
          0
         ],
         "xaxis": "x9",
         "y": [
          0.9489344591877763,
          0.9542018496180137,
          0.9591121833534381,
          0.9642251708886208,
          0.9693671089666265,
          0.9745299557700041,
          0.9797265782066746,
          0.9847334137515079,
          0.9899622034579815,
          0.9949433051869723,
          1
         ],
         "yaxis": "y9"
        },
        {
         "error_x": {
          "array": [
           0
          ],
          "type": "data"
         },
         "error_y": {
          "array": [
           0
          ],
          "type": "data"
         },
         "marker": {
          "color": "#E15F99"
         },
         "mode": "markers",
         "name": "learning fair representation with 5 prototypes outcome",
         "showlegend": false,
         "type": "scatter",
         "x": [
          0
         ],
         "xaxis": "x10",
         "y": [
          1
         ],
         "yaxis": "y10"
        },
        {
         "error_x": {
          "array": [
           -0.04796858726008239
          ],
          "type": "data"
         },
         "error_y": {
          "array": [
           -0.0041859299281380435
          ],
          "type": "data"
         },
         "marker": {
          "color": "#1CA71C"
         },
         "mode": "markers",
         "name": "reweighing outcome",
         "showlegend": false,
         "type": "scatter",
         "x": [
          0.05334373633933181
         ],
         "xaxis": "x10",
         "y": [
          0.946903266561693
         ],
         "yaxis": "y10"
        },
        {
         "error_x": {
          "array": [
           -0.023736001941321028
          ],
          "type": "data"
         },
         "error_y": {
          "array": [
           -0.006872018180209882
          ],
          "type": "data"
         },
         "marker": {
          "color": "#FB0D0D"
         },
         "mode": "markers",
         "name": "reject option classification statistical parity difference optimised outcome",
         "showlegend": false,
         "type": "scatter",
         "x": [
          0.16123113746705228
         ],
         "xaxis": "x10",
         "y": [
          0.8148188477230324
         ],
         "yaxis": "y10"
        },
        {
         "error_x": {
          "array": [
           -0.05274790257535417
          ],
          "type": "data"
         },
         "error_y": {
          "array": [
           -0.0056208479020043445
          ],
          "type": "data"
         },
         "marker": {
          "color": "#DA16FF"
         },
         "mode": "markers",
         "name": "reject option classification average odds difference optimised outcome",
         "showlegend": false,
         "type": "scatter",
         "x": [
          0.11155351732595487
         ],
         "xaxis": "x10",
         "y": [
          0.8395232597776605
         ],
         "yaxis": "y10"
        },
        {
         "error_x": {
          "array": [
           -0.048846904112639866
          ],
          "type": "data"
         },
         "error_y": {
          "array": [
           -0.007024099771782533
          ],
          "type": "data"
         },
         "marker": {
          "color": "#222A2A"
         },
         "mode": "markers",
         "name": "reject option classification equal opportunity difference optimised outcome",
         "showlegend": false,
         "type": "scatter",
         "x": [
          0.12766130546644605
         ],
         "xaxis": "x10",
         "y": [
          0.820979827396091
         ],
         "yaxis": "y10"
        },
        {
         "error_x": {
          "array": [
           -0.00789085379544563
          ],
          "type": "data"
         },
         "error_y": {
          "array": [
           -0.0034129806220917214
          ],
          "type": "data"
         },
         "marker": {
          "color": "#B68100"
         },
         "mode": "markers",
         "name": "calibrated equal odds using fpr cost outcome",
         "showlegend": false,
         "type": "scatter",
         "x": [
          0.32254305318105053
         ],
         "xaxis": "x10",
         "y": [
          0.9506360121515014
         ],
         "yaxis": "y10"
        },
        {
         "error_x": {
          "array": [
           -0.05512203567953092
          ],
          "type": "data"
         },
         "error_y": {
          "array": [
           -0.003950391430344702
          ],
          "type": "data"
         },
         "marker": {
          "color": "#750D86"
         },
         "mode": "markers",
         "name": "calibrated equal odds using fnr cost outcome",
         "showlegend": false,
         "type": "scatter",
         "x": [
          0.06622240815118527
         ],
         "xaxis": "x10",
         "y": [
          0.9492815145514389
         ],
         "yaxis": "y10"
        },
        {
         "error_x": {
          "array": [
           -0.00774260117421155
          ],
          "type": "data"
         },
         "error_y": {
          "array": [
           -0.003992858752766559
          ],
          "type": "data"
         },
         "marker": {
          "color": "#EB663B"
         },
         "mode": "markers",
         "name": "calibrated equal odds using weighted cost outcome",
         "showlegend": false,
         "type": "scatter",
         "x": [
          0.32228034899004826
         ],
         "xaxis": "x10",
         "y": [
          0.9504875365773957
         ],
         "yaxis": "y10"
        },
        {
         "error_x": {
          "array": [
           -0.05634983952666767
          ],
          "type": "data"
         },
         "error_y": {
          "array": [
           -0.004178620296721669
          ],
          "type": "data"
         },
         "marker": {
          "color": "#511CFB"
         },
         "mode": "markers",
         "name": "equal odds outcome",
         "showlegend": false,
         "type": "scatter",
         "x": [
          0.06199656312502988
         ],
         "xaxis": "x10",
         "y": [
          0.9470954575833117
         ],
         "yaxis": "y10"
        },
        {
         "line": {
          "color": "#2E91E5"
         },
         "mode": "lines+markers+text",
         "name": "fairea baseline",
         "showlegend": false,
         "text": [
          "F_0",
          "F_10",
          "F_20",
          "F_30",
          "F_40",
          "F_50",
          "F_60",
          "F_70",
          "F_80",
          "F_90",
          "F_100"
         ],
         "textposition": "bottom right",
         "type": "scatter",
         "x": [
          0.0685830084977357,
          0.06229958436327204,
          0.053508791903183785,
          0.04724105989817864,
          0.04038699939047703,
          0.03586420723651894,
          0.03151529848110464,
          0.026498498658076165,
          0.01929714725606687,
          0.012592030215261374,
          0
         ],
         "xaxis": "x10",
         "y": [
          0.9489344591877763,
          0.9542018496180137,
          0.9591121833534381,
          0.9642251708886208,
          0.9693671089666265,
          0.9745299557700041,
          0.9797265782066746,
          0.9847334137515079,
          0.9899622034579815,
          0.9949433051869723,
          1
         ],
         "yaxis": "y10"
        },
        {
         "error_x": {
          "array": [
           0
          ],
          "type": "data"
         },
         "error_y": {
          "array": [
           0
          ],
          "type": "data"
         },
         "marker": {
          "color": "#E15F99"
         },
         "mode": "markers",
         "name": "learning fair representation with 5 prototypes outcome",
         "showlegend": false,
         "type": "scatter",
         "x": [
          0
         ],
         "xaxis": "x11",
         "y": [
          1
         ],
         "yaxis": "y11"
        },
        {
         "error_x": {
          "array": [
           -0.09623452897324174
          ],
          "type": "data"
         },
         "error_y": {
          "array": [
           -0.0041859299281380435
          ],
          "type": "data"
         },
         "marker": {
          "color": "#1CA71C"
         },
         "mode": "markers",
         "name": "reweighing outcome",
         "showlegend": false,
         "type": "scatter",
         "x": [
          0.07646030647845349
         ],
         "xaxis": "x11",
         "y": [
          0.946903266561693
         ],
         "yaxis": "y11"
        },
        {
         "error_x": {
          "array": [
           -0.03516158785169987
          ],
          "type": "data"
         },
         "error_y": {
          "array": [
           -0.006872018180209882
          ],
          "type": "data"
         },
         "marker": {
          "color": "#FB0D0D"
         },
         "mode": "markers",
         "name": "reject option classification statistical parity difference optimised outcome",
         "showlegend": false,
         "type": "scatter",
         "x": [
          0.1627143347445763
         ],
         "xaxis": "x11",
         "y": [
          0.8148188477230324
         ],
         "yaxis": "y11"
        },
        {
         "error_x": {
          "array": [
           -0.10705080611687709
          ],
          "type": "data"
         },
         "error_y": {
          "array": [
           -0.0056208479020043445
          ],
          "type": "data"
         },
         "marker": {
          "color": "#DA16FF"
         },
         "mode": "markers",
         "name": "reject option classification average odds difference optimised outcome",
         "showlegend": false,
         "type": "scatter",
         "x": [
          0.11779777527493598
         ],
         "xaxis": "x11",
         "y": [
          0.8395232597776605
         ],
         "yaxis": "y11"
        },
        {
         "error_x": {
          "array": [
           -0.09663811335666511
          ],
          "type": "data"
         },
         "error_y": {
          "array": [
           -0.007024099771782533
          ],
          "type": "data"
         },
         "marker": {
          "color": "#222A2A"
         },
         "mode": "markers",
         "name": "reject option classification equal opportunity difference optimised outcome",
         "showlegend": false,
         "type": "scatter",
         "x": [
          0.13845785374280573
         ],
         "xaxis": "x11",
         "y": [
          0.820979827396091
         ],
         "yaxis": "y11"
        },
        {
         "error_x": {
          "array": [
           -0.015371587748105653
          ],
          "type": "data"
         },
         "error_y": {
          "array": [
           -0.0034129806220917214
          ],
          "type": "data"
         },
         "marker": {
          "color": "#B68100"
         },
         "mode": "markers",
         "name": "calibrated equal odds using fpr cost outcome",
         "showlegend": false,
         "type": "scatter",
         "x": [
          0.591585365067916
         ],
         "xaxis": "x11",
         "y": [
          0.9506360121515014
         ],
         "yaxis": "y11"
        },
        {
         "error_x": {
          "array": [
           -0.11062439098387514
          ],
          "type": "data"
         },
         "error_y": {
          "array": [
           -0.003950391430344702
          ],
          "type": "data"
         },
         "marker": {
          "color": "#750D86"
         },
         "mode": "markers",
         "name": "calibrated equal odds using fnr cost outcome",
         "showlegend": false,
         "type": "scatter",
         "x": [
          0.10013287478253682
         ],
         "xaxis": "x11",
         "y": [
          0.9492815145514389
         ],
         "yaxis": "y11"
        },
        {
         "error_x": {
          "array": [
           -0.014414772583860924
          ],
          "type": "data"
         },
         "error_y": {
          "array": [
           -0.003992858752766559
          ],
          "type": "data"
         },
         "marker": {
          "color": "#EB663B"
         },
         "mode": "markers",
         "name": "calibrated equal odds using weighted cost outcome",
         "showlegend": false,
         "type": "scatter",
         "x": [
          0.5909145316019755
         ],
         "xaxis": "x11",
         "y": [
          0.9504875365773957
         ],
         "yaxis": "y11"
        },
        {
         "error_x": {
          "array": [
           -0.11139601683646101
          ],
          "type": "data"
         },
         "error_y": {
          "array": [
           -0.004178620296721669
          ],
          "type": "data"
         },
         "marker": {
          "color": "#511CFB"
         },
         "mode": "markers",
         "name": "equal odds outcome",
         "showlegend": false,
         "type": "scatter",
         "x": [
          0.11437749905666379
         ],
         "xaxis": "x11",
         "y": [
          0.9470954575833117
         ],
         "yaxis": "y11"
        },
        {
         "line": {
          "color": "#2E91E5"
         },
         "mode": "lines+markers+text",
         "name": "fairea baseline",
         "showlegend": false,
         "text": [
          "F_0",
          "F_10",
          "F_20",
          "F_30",
          "F_40",
          "F_50",
          "F_60",
          "F_70",
          "F_80",
          "F_90",
          "F_100"
         ],
         "textposition": "bottom right",
         "type": "scatter",
         "x": [
          0.10440457908697472,
          0.09506240402066174,
          0.08101842803294708,
          0.07172092698589977,
          0.0604919726371632,
          0.05584461817674158,
          0.04939173530643584,
          0.04318092977802597,
          0.03205137512215552,
          0.02196872818651403,
          0
         ],
         "xaxis": "x11",
         "y": [
          0.9489344591877763,
          0.9542018496180137,
          0.9591121833534381,
          0.9642251708886208,
          0.9693671089666265,
          0.9745299557700041,
          0.9797265782066746,
          0.9847334137515079,
          0.9899622034579815,
          0.9949433051869723,
          1
         ],
         "yaxis": "y11"
        },
        {
         "error_x": {
          "array": [
           -0.01646829993570728
          ],
          "type": "data"
         },
         "error_y": {
          "array": [
           0
          ],
          "type": "data"
         },
         "marker": {
          "color": "#E15F99"
         },
         "mode": "markers",
         "name": "learning fair representation with 5 prototypes outcome",
         "showlegend": false,
         "type": "scatter",
         "x": [
          0.17598671115564543
         ],
         "xaxis": "x12",
         "y": [
          1
         ],
         "yaxis": "y12"
        },
        {
         "error_x": {
          "array": [
           -0.015403051539933502
          ],
          "type": "data"
         },
         "error_y": {
          "array": [
           -0.0041859299281380435
          ],
          "type": "data"
         },
         "marker": {
          "color": "#1CA71C"
         },
         "mode": "markers",
         "name": "reweighing outcome",
         "showlegend": false,
         "type": "scatter",
         "x": [
          0.08495389282141413
         ],
         "xaxis": "x12",
         "y": [
          0.946903266561693
         ],
         "yaxis": "y12"
        },
        {
         "error_x": {
          "array": [
           -0.029198803488258956
          ],
          "type": "data"
         },
         "error_y": {
          "array": [
           -0.006872018180209882
          ],
          "type": "data"
         },
         "marker": {
          "color": "#FB0D0D"
         },
         "mode": "markers",
         "name": "reject option classification statistical parity difference optimised outcome",
         "showlegend": false,
         "type": "scatter",
         "x": [
          0.13348472724587312
         ],
         "xaxis": "x12",
         "y": [
          0.8148188477230324
         ],
         "yaxis": "y12"
        },
        {
         "error_x": {
          "array": [
           -0.018692495916675517
          ],
          "type": "data"
         },
         "error_y": {
          "array": [
           -0.0056208479020043445
          ],
          "type": "data"
         },
         "marker": {
          "color": "#DA16FF"
         },
         "mode": "markers",
         "name": "reject option classification average odds difference optimised outcome",
         "showlegend": false,
         "type": "scatter",
         "x": [
          0.0949133621132277
         ],
         "xaxis": "x12",
         "y": [
          0.8395232597776605
         ],
         "yaxis": "y12"
        },
        {
         "error_x": {
          "array": [
           -0.017846119060077756
          ],
          "type": "data"
         },
         "error_y": {
          "array": [
           -0.007024099771782533
          ],
          "type": "data"
         },
         "marker": {
          "color": "#222A2A"
         },
         "mode": "markers",
         "name": "reject option classification equal opportunity difference optimised outcome",
         "showlegend": false,
         "type": "scatter",
         "x": [
          0.09507999866023782
         ],
         "xaxis": "x12",
         "y": [
          0.820979827396091
         ],
         "yaxis": "y12"
        },
        {
         "error_x": {
          "array": [
           -0.01750430651598603
          ],
          "type": "data"
         },
         "error_y": {
          "array": [
           -0.0034129806220917214
          ],
          "type": "data"
         },
         "marker": {
          "color": "#B68100"
         },
         "mode": "markers",
         "name": "calibrated equal odds using fpr cost outcome",
         "showlegend": false,
         "type": "scatter",
         "x": [
          0.06828734070803566
         ],
         "xaxis": "x12",
         "y": [
          0.9506360121515014
         ],
         "yaxis": "y12"
        },
        {
         "error_x": {
          "array": [
           -0.015190155790662643
          ],
          "type": "data"
         },
         "error_y": {
          "array": [
           -0.003950391430344702
          ],
          "type": "data"
         },
         "marker": {
          "color": "#750D86"
         },
         "mode": "markers",
         "name": "calibrated equal odds using fnr cost outcome",
         "showlegend": false,
         "type": "scatter",
         "x": [
          0.0856879005066105
         ],
         "xaxis": "x12",
         "y": [
          0.9492815145514389
         ],
         "yaxis": "y12"
        },
        {
         "error_x": {
          "array": [
           -0.016093657016393287
          ],
          "type": "data"
         },
         "error_y": {
          "array": [
           -0.003992858752766559
          ],
          "type": "data"
         },
         "marker": {
          "color": "#EB663B"
         },
         "mode": "markers",
         "name": "calibrated equal odds using weighted cost outcome",
         "showlegend": false,
         "type": "scatter",
         "x": [
          0.06749526891036203
         ],
         "xaxis": "x12",
         "y": [
          0.9504875365773957
         ],
         "yaxis": "y12"
        },
        {
         "error_x": {
          "array": [
           -0.017955624343013687
          ],
          "type": "data"
         },
         "error_y": {
          "array": [
           -0.004178620296721669
          ],
          "type": "data"
         },
         "marker": {
          "color": "#511CFB"
         },
         "mode": "markers",
         "name": "equal odds outcome",
         "showlegend": false,
         "type": "scatter",
         "x": [
          0.06048546530038641
         ],
         "xaxis": "x12",
         "y": [
          0.9470954575833117
         ],
         "yaxis": "y12"
        },
        {
         "line": {
          "color": "#2E91E5"
         },
         "mode": "lines+markers+text",
         "name": "fairea baseline",
         "showlegend": false,
         "text": [
          "F_0",
          "F_10",
          "F_20",
          "F_30",
          "F_40",
          "F_50",
          "F_60",
          "F_70",
          "F_80",
          "F_90",
          "F_100"
         ],
         "textposition": "bottom right",
         "type": "scatter",
         "x": [
          0.08447361056413193,
          0.09345200337853665,
          0.10246711181968643,
          0.1111075977819172,
          0.1210941520164216,
          0.12876541583986648,
          0.1386961229138992,
          0.14710135103477182,
          0.15620944901233522,
          0.16450935999017338,
          0.17393512145889978
         ],
         "xaxis": "x12",
         "y": [
          0.9489344591877763,
          0.9542018496180137,
          0.9591121833534381,
          0.9642251708886208,
          0.9693671089666265,
          0.9745299557700041,
          0.9797265782066746,
          0.9847334137515079,
          0.9899622034579815,
          0.9949433051869723,
          1
         ],
         "yaxis": "y12"
        },
        {
         "error_x": {
          "array": [
           0
          ],
          "type": "data"
         },
         "error_y": {
          "array": [
           0
          ],
          "type": "data"
         },
         "marker": {
          "color": "#E15F99"
         },
         "mode": "markers",
         "name": "learning fair representation with 5 prototypes outcome",
         "showlegend": false,
         "type": "scatter",
         "x": [
          0
         ],
         "xaxis": "x13",
         "y": [
          0.5
         ],
         "yaxis": "y13"
        },
        {
         "error_x": {
          "array": [
           -0.015938609730275263
          ],
          "type": "data"
         },
         "error_y": {
          "array": [
           -0.007702452082530287
          ],
          "type": "data"
         },
         "marker": {
          "color": "#1CA71C"
         },
         "mode": "markers",
         "name": "reweighing outcome",
         "showlegend": false,
         "type": "scatter",
         "x": [
          0.12466468717444094
         ],
         "xaxis": "x13",
         "y": [
          0.7646584749305602
         ],
         "yaxis": "y13"
        },
        {
         "error_x": {
          "array": [
           -0.029104527655856503
          ],
          "type": "data"
         },
         "error_y": {
          "array": [
           -0.005688108497123645
          ],
          "type": "data"
         },
         "marker": {
          "color": "#FB0D0D"
         },
         "mode": "markers",
         "name": "reject option classification statistical parity difference optimised outcome",
         "showlegend": false,
         "type": "scatter",
         "x": [
          0.04867880663772825
         ],
         "xaxis": "x13",
         "y": [
          0.8145187787732108
         ],
         "yaxis": "y13"
        },
        {
         "error_x": {
          "array": [
           -0.020007685017355364
          ],
          "type": "data"
         },
         "error_y": {
          "array": [
           -0.006686447234885318
          ],
          "type": "data"
         },
         "marker": {
          "color": "#DA16FF"
         },
         "mode": "markers",
         "name": "reject option classification average odds difference optimised outcome",
         "showlegend": false,
         "type": "scatter",
         "x": [
          0.21629004778376473
         ],
         "xaxis": "x13",
         "y": [
          0.8178812194333848
         ],
         "yaxis": "y13"
        },
        {
         "error_x": {
          "array": [
           -0.019225976855226506
          ],
          "type": "data"
         },
         "error_y": {
          "array": [
           -0.0073253024036931125
          ],
          "type": "data"
         },
         "marker": {
          "color": "#222A2A"
         },
         "mode": "markers",
         "name": "reject option classification equal opportunity difference optimised outcome",
         "showlegend": false,
         "type": "scatter",
         "x": [
          0.2297068024524393
         ],
         "xaxis": "x13",
         "y": [
          0.8236866071736811
         ],
         "yaxis": "y13"
        },
        {
         "error_x": {
          "array": [
           -0.006020752007086905
          ],
          "type": "data"
         },
         "error_y": {
          "array": [
           -0.007866015110190583
          ],
          "type": "data"
         },
         "marker": {
          "color": "#B68100"
         },
         "mode": "markers",
         "name": "calibrated equal odds using fpr cost outcome",
         "showlegend": false,
         "type": "scatter",
         "x": [
          0.1866537866520477
         ],
         "xaxis": "x13",
         "y": [
          0.7652901883004413
         ],
         "yaxis": "y13"
        },
        {
         "error_x": {
          "array": [
           -0.013850866322104166
          ],
          "type": "data"
         },
         "error_y": {
          "array": [
           -0.007866701568728485
          ],
          "type": "data"
         },
         "marker": {
          "color": "#750D86"
         },
         "mode": "markers",
         "name": "calibrated equal odds using fnr cost outcome",
         "showlegend": false,
         "type": "scatter",
         "x": [
          0.12990398258694552
         ],
         "xaxis": "x13",
         "y": [
          0.7668077311475414
         ],
         "yaxis": "y13"
        },
        {
         "error_x": {
          "array": [
           -0.006535179901391547
          ],
          "type": "data"
         },
         "error_y": {
          "array": [
           -0.007286655895747618
          ],
          "type": "data"
         },
         "marker": {
          "color": "#EB663B"
         },
         "mode": "markers",
         "name": "calibrated equal odds using weighted cost outcome",
         "showlegend": false,
         "type": "scatter",
         "x": [
          0.18660770302748475
         ],
         "xaxis": "x13",
         "y": [
          0.7648147880513225
         ],
         "yaxis": "y13"
        },
        {
         "error_x": {
          "array": [
           -0.018809449513496036
          ],
          "type": "data"
         },
         "error_y": {
          "array": [
           -0.007698761135708665
          ],
          "type": "data"
         },
         "marker": {
          "color": "#511CFB"
         },
         "mode": "markers",
         "name": "equal odds outcome",
         "showlegend": false,
         "type": "scatter",
         "x": [
          0.10857944908483542
         ],
         "xaxis": "x13",
         "y": [
          0.7675377669642374
         ],
         "yaxis": "y13"
        },
        {
         "line": {
          "color": "#2E91E5"
         },
         "mode": "lines+markers+text",
         "name": "fairea baseline",
         "showlegend": false,
         "text": [
          "F_0",
          "F_10",
          "F_20",
          "F_30",
          "F_40",
          "F_50",
          "F_60",
          "F_70",
          "F_80",
          "F_90",
          "F_100"
         ],
         "textposition": "bottom right",
         "type": "scatter",
         "x": [
          0.13153366316698556,
          0.11849801251375537,
          0.10472988295421881,
          0.09195415421981508,
          0.07922831335294438,
          0.06532000997858656,
          0.05309684674132034,
          0.0394512980393597,
          0.02618397829024264,
          0.013510404702598865,
          0
         ],
         "xaxis": "x13",
         "y": [
          0.7690590132652351,
          0.7421139253290276,
          0.7149227063413056,
          0.6889014569991726,
          0.6618962429908535,
          0.634553069408663,
          0.6076792017398428,
          0.5805674349048751,
          0.5538578567991936,
          0.5273104461452283,
          0.5
         ],
         "yaxis": "y13"
        },
        {
         "error_x": {
          "array": [
           0
          ],
          "type": "data"
         },
         "error_y": {
          "array": [
           0
          ],
          "type": "data"
         },
         "marker": {
          "color": "#E15F99"
         },
         "mode": "markers",
         "name": "learning fair representation with 5 prototypes outcome",
         "showlegend": false,
         "type": "scatter",
         "x": [
          0
         ],
         "xaxis": "x14",
         "y": [
          0.5
         ],
         "yaxis": "y14"
        },
        {
         "error_x": {
          "array": [
           -0.04796858726008239
          ],
          "type": "data"
         },
         "error_y": {
          "array": [
           -0.007702452082530287
          ],
          "type": "data"
         },
         "marker": {
          "color": "#1CA71C"
         },
         "mode": "markers",
         "name": "reweighing outcome",
         "showlegend": false,
         "type": "scatter",
         "x": [
          0.05334373633933181
         ],
         "xaxis": "x14",
         "y": [
          0.7646584749305602
         ],
         "yaxis": "y14"
        },
        {
         "error_x": {
          "array": [
           -0.023736001941321028
          ],
          "type": "data"
         },
         "error_y": {
          "array": [
           -0.005688108497123645
          ],
          "type": "data"
         },
         "marker": {
          "color": "#FB0D0D"
         },
         "mode": "markers",
         "name": "reject option classification statistical parity difference optimised outcome",
         "showlegend": false,
         "type": "scatter",
         "x": [
          0.16123113746705228
         ],
         "xaxis": "x14",
         "y": [
          0.8145187787732108
         ],
         "yaxis": "y14"
        },
        {
         "error_x": {
          "array": [
           -0.05274790257535417
          ],
          "type": "data"
         },
         "error_y": {
          "array": [
           -0.006686447234885318
          ],
          "type": "data"
         },
         "marker": {
          "color": "#DA16FF"
         },
         "mode": "markers",
         "name": "reject option classification average odds difference optimised outcome",
         "showlegend": false,
         "type": "scatter",
         "x": [
          0.11155351732595487
         ],
         "xaxis": "x14",
         "y": [
          0.8178812194333848
         ],
         "yaxis": "y14"
        },
        {
         "error_x": {
          "array": [
           -0.048846904112639866
          ],
          "type": "data"
         },
         "error_y": {
          "array": [
           -0.0073253024036931125
          ],
          "type": "data"
         },
         "marker": {
          "color": "#222A2A"
         },
         "mode": "markers",
         "name": "reject option classification equal opportunity difference optimised outcome",
         "showlegend": false,
         "type": "scatter",
         "x": [
          0.12766130546644605
         ],
         "xaxis": "x14",
         "y": [
          0.8236866071736811
         ],
         "yaxis": "y14"
        },
        {
         "error_x": {
          "array": [
           -0.00789085379544563
          ],
          "type": "data"
         },
         "error_y": {
          "array": [
           -0.007866015110190583
          ],
          "type": "data"
         },
         "marker": {
          "color": "#B68100"
         },
         "mode": "markers",
         "name": "calibrated equal odds using fpr cost outcome",
         "showlegend": false,
         "type": "scatter",
         "x": [
          0.32254305318105053
         ],
         "xaxis": "x14",
         "y": [
          0.7652901883004413
         ],
         "yaxis": "y14"
        },
        {
         "error_x": {
          "array": [
           -0.05512203567953092
          ],
          "type": "data"
         },
         "error_y": {
          "array": [
           -0.007866701568728485
          ],
          "type": "data"
         },
         "marker": {
          "color": "#750D86"
         },
         "mode": "markers",
         "name": "calibrated equal odds using fnr cost outcome",
         "showlegend": false,
         "type": "scatter",
         "x": [
          0.06622240815118527
         ],
         "xaxis": "x14",
         "y": [
          0.7668077311475414
         ],
         "yaxis": "y14"
        },
        {
         "error_x": {
          "array": [
           -0.00774260117421155
          ],
          "type": "data"
         },
         "error_y": {
          "array": [
           -0.007286655895747618
          ],
          "type": "data"
         },
         "marker": {
          "color": "#EB663B"
         },
         "mode": "markers",
         "name": "calibrated equal odds using weighted cost outcome",
         "showlegend": false,
         "type": "scatter",
         "x": [
          0.32228034899004826
         ],
         "xaxis": "x14",
         "y": [
          0.7648147880513225
         ],
         "yaxis": "y14"
        },
        {
         "error_x": {
          "array": [
           -0.05634983952666767
          ],
          "type": "data"
         },
         "error_y": {
          "array": [
           -0.007698761135708665
          ],
          "type": "data"
         },
         "marker": {
          "color": "#511CFB"
         },
         "mode": "markers",
         "name": "equal odds outcome",
         "showlegend": false,
         "type": "scatter",
         "x": [
          0.06199656312502988
         ],
         "xaxis": "x14",
         "y": [
          0.7675377669642374
         ],
         "yaxis": "y14"
        },
        {
         "line": {
          "color": "#2E91E5"
         },
         "mode": "lines+markers+text",
         "name": "fairea baseline",
         "showlegend": false,
         "text": [
          "F_0",
          "F_10",
          "F_20",
          "F_30",
          "F_40",
          "F_50",
          "F_60",
          "F_70",
          "F_80",
          "F_90",
          "F_100"
         ],
         "textposition": "bottom right",
         "type": "scatter",
         "x": [
          0.0685830084977357,
          0.06229958436327204,
          0.053508791903183785,
          0.04724105989817864,
          0.04038699939047703,
          0.03586420723651894,
          0.03151529848110464,
          0.026498498658076165,
          0.01929714725606687,
          0.012592030215261374,
          0
         ],
         "xaxis": "x14",
         "y": [
          0.7690590132652351,
          0.7421139253290276,
          0.7149227063413056,
          0.6889014569991726,
          0.6618962429908535,
          0.634553069408663,
          0.6076792017398428,
          0.5805674349048751,
          0.5538578567991936,
          0.5273104461452283,
          0.5
         ],
         "yaxis": "y14"
        },
        {
         "error_x": {
          "array": [
           0
          ],
          "type": "data"
         },
         "error_y": {
          "array": [
           0
          ],
          "type": "data"
         },
         "marker": {
          "color": "#E15F99"
         },
         "mode": "markers",
         "name": "learning fair representation with 5 prototypes outcome",
         "showlegend": false,
         "type": "scatter",
         "x": [
          0
         ],
         "xaxis": "x15",
         "y": [
          0.5
         ],
         "yaxis": "y15"
        },
        {
         "error_x": {
          "array": [
           -0.09623452897324174
          ],
          "type": "data"
         },
         "error_y": {
          "array": [
           -0.007702452082530287
          ],
          "type": "data"
         },
         "marker": {
          "color": "#1CA71C"
         },
         "mode": "markers",
         "name": "reweighing outcome",
         "showlegend": false,
         "type": "scatter",
         "x": [
          0.07646030647845349
         ],
         "xaxis": "x15",
         "y": [
          0.7646584749305602
         ],
         "yaxis": "y15"
        },
        {
         "error_x": {
          "array": [
           -0.03516158785169987
          ],
          "type": "data"
         },
         "error_y": {
          "array": [
           -0.005688108497123645
          ],
          "type": "data"
         },
         "marker": {
          "color": "#FB0D0D"
         },
         "mode": "markers",
         "name": "reject option classification statistical parity difference optimised outcome",
         "showlegend": false,
         "type": "scatter",
         "x": [
          0.1627143347445763
         ],
         "xaxis": "x15",
         "y": [
          0.8145187787732108
         ],
         "yaxis": "y15"
        },
        {
         "error_x": {
          "array": [
           -0.10705080611687709
          ],
          "type": "data"
         },
         "error_y": {
          "array": [
           -0.006686447234885318
          ],
          "type": "data"
         },
         "marker": {
          "color": "#DA16FF"
         },
         "mode": "markers",
         "name": "reject option classification average odds difference optimised outcome",
         "showlegend": false,
         "type": "scatter",
         "x": [
          0.11779777527493598
         ],
         "xaxis": "x15",
         "y": [
          0.8178812194333848
         ],
         "yaxis": "y15"
        },
        {
         "error_x": {
          "array": [
           -0.09663811335666511
          ],
          "type": "data"
         },
         "error_y": {
          "array": [
           -0.0073253024036931125
          ],
          "type": "data"
         },
         "marker": {
          "color": "#222A2A"
         },
         "mode": "markers",
         "name": "reject option classification equal opportunity difference optimised outcome",
         "showlegend": false,
         "type": "scatter",
         "x": [
          0.13845785374280573
         ],
         "xaxis": "x15",
         "y": [
          0.8236866071736811
         ],
         "yaxis": "y15"
        },
        {
         "error_x": {
          "array": [
           -0.015371587748105653
          ],
          "type": "data"
         },
         "error_y": {
          "array": [
           -0.007866015110190583
          ],
          "type": "data"
         },
         "marker": {
          "color": "#B68100"
         },
         "mode": "markers",
         "name": "calibrated equal odds using fpr cost outcome",
         "showlegend": false,
         "type": "scatter",
         "x": [
          0.591585365067916
         ],
         "xaxis": "x15",
         "y": [
          0.7652901883004413
         ],
         "yaxis": "y15"
        },
        {
         "error_x": {
          "array": [
           -0.11062439098387514
          ],
          "type": "data"
         },
         "error_y": {
          "array": [
           -0.007866701568728485
          ],
          "type": "data"
         },
         "marker": {
          "color": "#750D86"
         },
         "mode": "markers",
         "name": "calibrated equal odds using fnr cost outcome",
         "showlegend": false,
         "type": "scatter",
         "x": [
          0.10013287478253682
         ],
         "xaxis": "x15",
         "y": [
          0.7668077311475414
         ],
         "yaxis": "y15"
        },
        {
         "error_x": {
          "array": [
           -0.014414772583860924
          ],
          "type": "data"
         },
         "error_y": {
          "array": [
           -0.007286655895747618
          ],
          "type": "data"
         },
         "marker": {
          "color": "#EB663B"
         },
         "mode": "markers",
         "name": "calibrated equal odds using weighted cost outcome",
         "showlegend": false,
         "type": "scatter",
         "x": [
          0.5909145316019755
         ],
         "xaxis": "x15",
         "y": [
          0.7648147880513225
         ],
         "yaxis": "y15"
        },
        {
         "error_x": {
          "array": [
           -0.11139601683646101
          ],
          "type": "data"
         },
         "error_y": {
          "array": [
           -0.007698761135708665
          ],
          "type": "data"
         },
         "marker": {
          "color": "#511CFB"
         },
         "mode": "markers",
         "name": "equal odds outcome",
         "showlegend": false,
         "type": "scatter",
         "x": [
          0.11437749905666379
         ],
         "xaxis": "x15",
         "y": [
          0.7675377669642374
         ],
         "yaxis": "y15"
        },
        {
         "line": {
          "color": "#2E91E5"
         },
         "mode": "lines+markers+text",
         "name": "fairea baseline",
         "showlegend": false,
         "text": [
          "F_0",
          "F_10",
          "F_20",
          "F_30",
          "F_40",
          "F_50",
          "F_60",
          "F_70",
          "F_80",
          "F_90",
          "F_100"
         ],
         "textposition": "bottom right",
         "type": "scatter",
         "x": [
          0.10440457908697472,
          0.09506240402066174,
          0.08101842803294708,
          0.07172092698589977,
          0.0604919726371632,
          0.05584461817674158,
          0.04939173530643584,
          0.04318092977802597,
          0.03205137512215552,
          0.02196872818651403,
          0
         ],
         "xaxis": "x15",
         "y": [
          0.7690590132652351,
          0.7421139253290276,
          0.7149227063413056,
          0.6889014569991726,
          0.6618962429908535,
          0.634553069408663,
          0.6076792017398428,
          0.5805674349048751,
          0.5538578567991936,
          0.5273104461452283,
          0.5
         ],
         "yaxis": "y15"
        },
        {
         "error_x": {
          "array": [
           -0.01646829993570728
          ],
          "type": "data"
         },
         "error_y": {
          "array": [
           0
          ],
          "type": "data"
         },
         "marker": {
          "color": "#E15F99"
         },
         "mode": "markers",
         "name": "learning fair representation with 5 prototypes outcome",
         "showlegend": false,
         "type": "scatter",
         "x": [
          0.17598671115564543
         ],
         "xaxis": "x16",
         "y": [
          0.5
         ],
         "yaxis": "y16"
        },
        {
         "error_x": {
          "array": [
           -0.015403051539933502
          ],
          "type": "data"
         },
         "error_y": {
          "array": [
           -0.007702452082530287
          ],
          "type": "data"
         },
         "marker": {
          "color": "#1CA71C"
         },
         "mode": "markers",
         "name": "reweighing outcome",
         "showlegend": false,
         "type": "scatter",
         "x": [
          0.08495389282141413
         ],
         "xaxis": "x16",
         "y": [
          0.7646584749305602
         ],
         "yaxis": "y16"
        },
        {
         "error_x": {
          "array": [
           -0.029198803488258956
          ],
          "type": "data"
         },
         "error_y": {
          "array": [
           -0.005688108497123645
          ],
          "type": "data"
         },
         "marker": {
          "color": "#FB0D0D"
         },
         "mode": "markers",
         "name": "reject option classification statistical parity difference optimised outcome",
         "showlegend": false,
         "type": "scatter",
         "x": [
          0.13348472724587312
         ],
         "xaxis": "x16",
         "y": [
          0.8145187787732108
         ],
         "yaxis": "y16"
        },
        {
         "error_x": {
          "array": [
           -0.018692495916675517
          ],
          "type": "data"
         },
         "error_y": {
          "array": [
           -0.006686447234885318
          ],
          "type": "data"
         },
         "marker": {
          "color": "#DA16FF"
         },
         "mode": "markers",
         "name": "reject option classification average odds difference optimised outcome",
         "showlegend": false,
         "type": "scatter",
         "x": [
          0.0949133621132277
         ],
         "xaxis": "x16",
         "y": [
          0.8178812194333848
         ],
         "yaxis": "y16"
        },
        {
         "error_x": {
          "array": [
           -0.017846119060077756
          ],
          "type": "data"
         },
         "error_y": {
          "array": [
           -0.0073253024036931125
          ],
          "type": "data"
         },
         "marker": {
          "color": "#222A2A"
         },
         "mode": "markers",
         "name": "reject option classification equal opportunity difference optimised outcome",
         "showlegend": false,
         "type": "scatter",
         "x": [
          0.09507999866023782
         ],
         "xaxis": "x16",
         "y": [
          0.8236866071736811
         ],
         "yaxis": "y16"
        },
        {
         "error_x": {
          "array": [
           -0.01750430651598603
          ],
          "type": "data"
         },
         "error_y": {
          "array": [
           -0.007866015110190583
          ],
          "type": "data"
         },
         "marker": {
          "color": "#B68100"
         },
         "mode": "markers",
         "name": "calibrated equal odds using fpr cost outcome",
         "showlegend": false,
         "type": "scatter",
         "x": [
          0.06828734070803566
         ],
         "xaxis": "x16",
         "y": [
          0.7652901883004413
         ],
         "yaxis": "y16"
        },
        {
         "error_x": {
          "array": [
           -0.015190155790662643
          ],
          "type": "data"
         },
         "error_y": {
          "array": [
           -0.007866701568728485
          ],
          "type": "data"
         },
         "marker": {
          "color": "#750D86"
         },
         "mode": "markers",
         "name": "calibrated equal odds using fnr cost outcome",
         "showlegend": false,
         "type": "scatter",
         "x": [
          0.0856879005066105
         ],
         "xaxis": "x16",
         "y": [
          0.7668077311475414
         ],
         "yaxis": "y16"
        },
        {
         "error_x": {
          "array": [
           -0.016093657016393287
          ],
          "type": "data"
         },
         "error_y": {
          "array": [
           -0.007286655895747618
          ],
          "type": "data"
         },
         "marker": {
          "color": "#EB663B"
         },
         "mode": "markers",
         "name": "calibrated equal odds using weighted cost outcome",
         "showlegend": false,
         "type": "scatter",
         "x": [
          0.06749526891036203
         ],
         "xaxis": "x16",
         "y": [
          0.7648147880513225
         ],
         "yaxis": "y16"
        },
        {
         "error_x": {
          "array": [
           -0.017955624343013687
          ],
          "type": "data"
         },
         "error_y": {
          "array": [
           -0.007698761135708665
          ],
          "type": "data"
         },
         "marker": {
          "color": "#511CFB"
         },
         "mode": "markers",
         "name": "equal odds outcome",
         "showlegend": false,
         "type": "scatter",
         "x": [
          0.06048546530038641
         ],
         "xaxis": "x16",
         "y": [
          0.7675377669642374
         ],
         "yaxis": "y16"
        },
        {
         "line": {
          "color": "#2E91E5"
         },
         "mode": "lines+markers+text",
         "name": "fairea baseline",
         "showlegend": false,
         "text": [
          "F_0",
          "F_10",
          "F_20",
          "F_30",
          "F_40",
          "F_50",
          "F_60",
          "F_70",
          "F_80",
          "F_90",
          "F_100"
         ],
         "textposition": "bottom right",
         "type": "scatter",
         "x": [
          0.08447361056413193,
          0.09345200337853665,
          0.10246711181968643,
          0.1111075977819172,
          0.1210941520164216,
          0.12876541583986648,
          0.1386961229138992,
          0.14710135103477182,
          0.15620944901233522,
          0.16450935999017338,
          0.17393512145889978
         ],
         "xaxis": "x16",
         "y": [
          0.7690590132652351,
          0.7421139253290276,
          0.7149227063413056,
          0.6889014569991726,
          0.6618962429908535,
          0.634553069408663,
          0.6076792017398428,
          0.5805674349048751,
          0.5538578567991936,
          0.5273104461452283,
          0.5
         ],
         "yaxis": "y16"
        },
        {
         "error_x": {
          "array": [
           0
          ],
          "type": "data"
         },
         "error_y": {
          "array": [
           0
          ],
          "type": "data"
         },
         "marker": {
          "color": "#E15F99"
         },
         "mode": "markers",
         "name": "learning fair representation with 5 prototypes outcome",
         "showlegend": false,
         "type": "scatter",
         "x": [
          0
         ],
         "xaxis": "x17",
         "y": [
          0
         ],
         "yaxis": "y17"
        },
        {
         "error_x": {
          "array": [
           -0.015938609730275263
          ],
          "type": "data"
         },
         "error_y": {
          "array": [
           -0.015856109369904003
          ],
          "type": "data"
         },
         "marker": {
          "color": "#1CA71C"
         },
         "mode": "markers",
         "name": "reweighing outcome",
         "showlegend": false,
         "type": "scatter",
         "x": [
          0.12466468717444094
         ],
         "xaxis": "x17",
         "y": [
          0.7724961942065676
         ],
         "yaxis": "y17"
        },
        {
         "error_x": {
          "array": [
           -0.029104527655856503
          ],
          "type": "data"
         },
         "error_y": {
          "array": [
           -0.012926437916601419
          ],
          "type": "data"
         },
         "marker": {
          "color": "#FB0D0D"
         },
         "mode": "markers",
         "name": "reject option classification statistical parity difference optimised outcome",
         "showlegend": false,
         "type": "scatter",
         "x": [
          0.04867880663772825
         ],
         "xaxis": "x17",
         "y": [
          0.5759162547667178
         ],
         "yaxis": "y17"
        },
        {
         "error_x": {
          "array": [
           -0.020007685017355364
          ],
          "type": "data"
         },
         "error_y": {
          "array": [
           -0.013357151270510847
          ],
          "type": "data"
         },
         "marker": {
          "color": "#DA16FF"
         },
         "mode": "markers",
         "name": "reject option classification average odds difference optimised outcome",
         "showlegend": false,
         "type": "scatter",
         "x": [
          0.21629004778376473
         ],
         "xaxis": "x17",
         "y": [
          0.6054663341334952
         ],
         "yaxis": "y17"
        },
        {
         "error_x": {
          "array": [
           -0.019225976855226506
          ],
          "type": "data"
         },
         "error_y": {
          "array": [
           -0.013431546409105044
          ],
          "type": "data"
         },
         "marker": {
          "color": "#222A2A"
         },
         "mode": "markers",
         "name": "reject option classification equal opportunity difference optimised outcome",
         "showlegend": false,
         "type": "scatter",
         "x": [
          0.2297068024524393
         ],
         "xaxis": "x17",
         "y": [
          0.5878685646763068
         ],
         "yaxis": "y17"
        },
        {
         "error_x": {
          "array": [
           -0.006020752007086905
          ],
          "type": "data"
         },
         "error_y": {
          "array": [
           -0.014144462913497358
          ],
          "type": "data"
         },
         "marker": {
          "color": "#B68100"
         },
         "mode": "markers",
         "name": "calibrated equal odds using fpr cost outcome",
         "showlegend": false,
         "type": "scatter",
         "x": [
          0.1866537866520477
         ],
         "xaxis": "x17",
         "y": [
          0.7842821189717606
         ],
         "yaxis": "y17"
        },
        {
         "error_x": {
          "array": [
           -0.013850866322104166
          ],
          "type": "data"
         },
         "error_y": {
          "array": [
           -0.015575079052381202
          ],
          "type": "data"
         },
         "marker": {
          "color": "#750D86"
         },
         "mode": "markers",
         "name": "calibrated equal odds using fnr cost outcome",
         "showlegend": false,
         "type": "scatter",
         "x": [
          0.12990398258694552
         ],
         "xaxis": "x17",
         "y": [
          0.7813225466406477
         ],
         "yaxis": "y17"
        },
        {
         "error_x": {
          "array": [
           -0.006535179901391547
          ],
          "type": "data"
         },
         "error_y": {
          "array": [
           -0.014562530906674365
          ],
          "type": "data"
         },
         "marker": {
          "color": "#EB663B"
         },
         "mode": "markers",
         "name": "calibrated equal odds using weighted cost outcome",
         "showlegend": false,
         "type": "scatter",
         "x": [
          0.18660770302748475
         ],
         "xaxis": "x17",
         "y": [
          0.7836900365312576
         ],
         "yaxis": "y17"
        },
        {
         "error_x": {
          "array": [
           -0.018809449513496036
          ],
          "type": "data"
         },
         "error_y": {
          "array": [
           -0.016446239559293363
          ],
          "type": "data"
         },
         "marker": {
          "color": "#511CFB"
         },
         "mode": "markers",
         "name": "equal odds outcome",
         "showlegend": false,
         "type": "scatter",
         "x": [
          0.10857944908483542
         ],
         "xaxis": "x17",
         "y": [
          0.7742765728416146
         ],
         "yaxis": "y17"
        },
        {
         "line": {
          "color": "#2E91E5"
         },
         "mode": "lines+markers+text",
         "name": "fairea baseline",
         "showlegend": false,
         "text": [
          "F_0",
          "F_10",
          "F_20",
          "F_30",
          "F_40",
          "F_50",
          "F_60",
          "F_70",
          "F_80",
          "F_90",
          "F_100"
         ],
         "textposition": "bottom right",
         "type": "scatter",
         "x": [
          0.13153366316698556,
          0.11849801251375537,
          0.10472988295421881,
          0.09195415421981508,
          0.07922831335294438,
          0.06532000997858656,
          0.05309684674132034,
          0.0394512980393597,
          0.02618397829024264,
          0.013510404702598865,
          0
         ],
         "xaxis": "x17",
         "y": [
          0.7811099620820408,
          0.7816335261373659,
          0.7807201612963917,
          0.7814469339267253,
          0.7815779684805141,
          0.7815154006864699,
          0.7823430008237652,
          0.7813174041128,
          0.7839423579481517,
          0.7848951311533285,
          0
         ],
         "yaxis": "y17"
        },
        {
         "error_x": {
          "array": [
           0
          ],
          "type": "data"
         },
         "error_y": {
          "array": [
           0
          ],
          "type": "data"
         },
         "marker": {
          "color": "#E15F99"
         },
         "mode": "markers",
         "name": "learning fair representation with 5 prototypes outcome",
         "showlegend": false,
         "type": "scatter",
         "x": [
          0
         ],
         "xaxis": "x18",
         "y": [
          0
         ],
         "yaxis": "y18"
        },
        {
         "error_x": {
          "array": [
           -0.04796858726008239
          ],
          "type": "data"
         },
         "error_y": {
          "array": [
           -0.015856109369904003
          ],
          "type": "data"
         },
         "marker": {
          "color": "#1CA71C"
         },
         "mode": "markers",
         "name": "reweighing outcome",
         "showlegend": false,
         "type": "scatter",
         "x": [
          0.05334373633933181
         ],
         "xaxis": "x18",
         "y": [
          0.7724961942065676
         ],
         "yaxis": "y18"
        },
        {
         "error_x": {
          "array": [
           -0.023736001941321028
          ],
          "type": "data"
         },
         "error_y": {
          "array": [
           -0.012926437916601419
          ],
          "type": "data"
         },
         "marker": {
          "color": "#FB0D0D"
         },
         "mode": "markers",
         "name": "reject option classification statistical parity difference optimised outcome",
         "showlegend": false,
         "type": "scatter",
         "x": [
          0.16123113746705228
         ],
         "xaxis": "x18",
         "y": [
          0.5759162547667178
         ],
         "yaxis": "y18"
        },
        {
         "error_x": {
          "array": [
           -0.05274790257535417
          ],
          "type": "data"
         },
         "error_y": {
          "array": [
           -0.013357151270510847
          ],
          "type": "data"
         },
         "marker": {
          "color": "#DA16FF"
         },
         "mode": "markers",
         "name": "reject option classification average odds difference optimised outcome",
         "showlegend": false,
         "type": "scatter",
         "x": [
          0.11155351732595487
         ],
         "xaxis": "x18",
         "y": [
          0.6054663341334952
         ],
         "yaxis": "y18"
        },
        {
         "error_x": {
          "array": [
           -0.048846904112639866
          ],
          "type": "data"
         },
         "error_y": {
          "array": [
           -0.013431546409105044
          ],
          "type": "data"
         },
         "marker": {
          "color": "#222A2A"
         },
         "mode": "markers",
         "name": "reject option classification equal opportunity difference optimised outcome",
         "showlegend": false,
         "type": "scatter",
         "x": [
          0.12766130546644605
         ],
         "xaxis": "x18",
         "y": [
          0.5878685646763068
         ],
         "yaxis": "y18"
        },
        {
         "error_x": {
          "array": [
           -0.00789085379544563
          ],
          "type": "data"
         },
         "error_y": {
          "array": [
           -0.014144462913497358
          ],
          "type": "data"
         },
         "marker": {
          "color": "#B68100"
         },
         "mode": "markers",
         "name": "calibrated equal odds using fpr cost outcome",
         "showlegend": false,
         "type": "scatter",
         "x": [
          0.32254305318105053
         ],
         "xaxis": "x18",
         "y": [
          0.7842821189717606
         ],
         "yaxis": "y18"
        },
        {
         "error_x": {
          "array": [
           -0.05512203567953092
          ],
          "type": "data"
         },
         "error_y": {
          "array": [
           -0.015575079052381202
          ],
          "type": "data"
         },
         "marker": {
          "color": "#750D86"
         },
         "mode": "markers",
         "name": "calibrated equal odds using fnr cost outcome",
         "showlegend": false,
         "type": "scatter",
         "x": [
          0.06622240815118527
         ],
         "xaxis": "x18",
         "y": [
          0.7813225466406477
         ],
         "yaxis": "y18"
        },
        {
         "error_x": {
          "array": [
           -0.00774260117421155
          ],
          "type": "data"
         },
         "error_y": {
          "array": [
           -0.014562530906674365
          ],
          "type": "data"
         },
         "marker": {
          "color": "#EB663B"
         },
         "mode": "markers",
         "name": "calibrated equal odds using weighted cost outcome",
         "showlegend": false,
         "type": "scatter",
         "x": [
          0.32228034899004826
         ],
         "xaxis": "x18",
         "y": [
          0.7836900365312576
         ],
         "yaxis": "y18"
        },
        {
         "error_x": {
          "array": [
           -0.05634983952666767
          ],
          "type": "data"
         },
         "error_y": {
          "array": [
           -0.016446239559293363
          ],
          "type": "data"
         },
         "marker": {
          "color": "#511CFB"
         },
         "mode": "markers",
         "name": "equal odds outcome",
         "showlegend": false,
         "type": "scatter",
         "x": [
          0.06199656312502988
         ],
         "xaxis": "x18",
         "y": [
          0.7742765728416146
         ],
         "yaxis": "y18"
        },
        {
         "line": {
          "color": "#2E91E5"
         },
         "mode": "lines+markers+text",
         "name": "fairea baseline",
         "showlegend": false,
         "text": [
          "F_0",
          "F_10",
          "F_20",
          "F_30",
          "F_40",
          "F_50",
          "F_60",
          "F_70",
          "F_80",
          "F_90",
          "F_100"
         ],
         "textposition": "bottom right",
         "type": "scatter",
         "x": [
          0.0685830084977357,
          0.06229958436327204,
          0.053508791903183785,
          0.04724105989817864,
          0.04038699939047703,
          0.03586420723651894,
          0.03151529848110464,
          0.026498498658076165,
          0.01929714725606687,
          0.012592030215261374,
          0
         ],
         "xaxis": "x18",
         "y": [
          0.7811099620820408,
          0.7816335261373659,
          0.7807201612963917,
          0.7814469339267253,
          0.7815779684805141,
          0.7815154006864699,
          0.7823430008237652,
          0.7813174041128,
          0.7839423579481517,
          0.7848951311533285,
          0
         ],
         "yaxis": "y18"
        },
        {
         "error_x": {
          "array": [
           0
          ],
          "type": "data"
         },
         "error_y": {
          "array": [
           0
          ],
          "type": "data"
         },
         "marker": {
          "color": "#E15F99"
         },
         "mode": "markers",
         "name": "learning fair representation with 5 prototypes outcome",
         "showlegend": false,
         "type": "scatter",
         "x": [
          0
         ],
         "xaxis": "x19",
         "y": [
          0
         ],
         "yaxis": "y19"
        },
        {
         "error_x": {
          "array": [
           -0.09623452897324174
          ],
          "type": "data"
         },
         "error_y": {
          "array": [
           -0.015856109369904003
          ],
          "type": "data"
         },
         "marker": {
          "color": "#1CA71C"
         },
         "mode": "markers",
         "name": "reweighing outcome",
         "showlegend": false,
         "type": "scatter",
         "x": [
          0.07646030647845349
         ],
         "xaxis": "x19",
         "y": [
          0.7724961942065676
         ],
         "yaxis": "y19"
        },
        {
         "error_x": {
          "array": [
           -0.03516158785169987
          ],
          "type": "data"
         },
         "error_y": {
          "array": [
           -0.012926437916601419
          ],
          "type": "data"
         },
         "marker": {
          "color": "#FB0D0D"
         },
         "mode": "markers",
         "name": "reject option classification statistical parity difference optimised outcome",
         "showlegend": false,
         "type": "scatter",
         "x": [
          0.1627143347445763
         ],
         "xaxis": "x19",
         "y": [
          0.5759162547667178
         ],
         "yaxis": "y19"
        },
        {
         "error_x": {
          "array": [
           -0.10705080611687709
          ],
          "type": "data"
         },
         "error_y": {
          "array": [
           -0.013357151270510847
          ],
          "type": "data"
         },
         "marker": {
          "color": "#DA16FF"
         },
         "mode": "markers",
         "name": "reject option classification average odds difference optimised outcome",
         "showlegend": false,
         "type": "scatter",
         "x": [
          0.11779777527493598
         ],
         "xaxis": "x19",
         "y": [
          0.6054663341334952
         ],
         "yaxis": "y19"
        },
        {
         "error_x": {
          "array": [
           -0.09663811335666511
          ],
          "type": "data"
         },
         "error_y": {
          "array": [
           -0.013431546409105044
          ],
          "type": "data"
         },
         "marker": {
          "color": "#222A2A"
         },
         "mode": "markers",
         "name": "reject option classification equal opportunity difference optimised outcome",
         "showlegend": false,
         "type": "scatter",
         "x": [
          0.13845785374280573
         ],
         "xaxis": "x19",
         "y": [
          0.5878685646763068
         ],
         "yaxis": "y19"
        },
        {
         "error_x": {
          "array": [
           -0.015371587748105653
          ],
          "type": "data"
         },
         "error_y": {
          "array": [
           -0.014144462913497358
          ],
          "type": "data"
         },
         "marker": {
          "color": "#B68100"
         },
         "mode": "markers",
         "name": "calibrated equal odds using fpr cost outcome",
         "showlegend": false,
         "type": "scatter",
         "x": [
          0.591585365067916
         ],
         "xaxis": "x19",
         "y": [
          0.7842821189717606
         ],
         "yaxis": "y19"
        },
        {
         "error_x": {
          "array": [
           -0.11062439098387514
          ],
          "type": "data"
         },
         "error_y": {
          "array": [
           -0.015575079052381202
          ],
          "type": "data"
         },
         "marker": {
          "color": "#750D86"
         },
         "mode": "markers",
         "name": "calibrated equal odds using fnr cost outcome",
         "showlegend": false,
         "type": "scatter",
         "x": [
          0.10013287478253682
         ],
         "xaxis": "x19",
         "y": [
          0.7813225466406477
         ],
         "yaxis": "y19"
        },
        {
         "error_x": {
          "array": [
           -0.014414772583860924
          ],
          "type": "data"
         },
         "error_y": {
          "array": [
           -0.014562530906674365
          ],
          "type": "data"
         },
         "marker": {
          "color": "#EB663B"
         },
         "mode": "markers",
         "name": "calibrated equal odds using weighted cost outcome",
         "showlegend": false,
         "type": "scatter",
         "x": [
          0.5909145316019755
         ],
         "xaxis": "x19",
         "y": [
          0.7836900365312576
         ],
         "yaxis": "y19"
        },
        {
         "error_x": {
          "array": [
           -0.11139601683646101
          ],
          "type": "data"
         },
         "error_y": {
          "array": [
           -0.016446239559293363
          ],
          "type": "data"
         },
         "marker": {
          "color": "#511CFB"
         },
         "mode": "markers",
         "name": "equal odds outcome",
         "showlegend": false,
         "type": "scatter",
         "x": [
          0.11437749905666379
         ],
         "xaxis": "x19",
         "y": [
          0.7742765728416146
         ],
         "yaxis": "y19"
        },
        {
         "line": {
          "color": "#2E91E5"
         },
         "mode": "lines+markers+text",
         "name": "fairea baseline",
         "showlegend": false,
         "text": [
          "F_0",
          "F_10",
          "F_20",
          "F_30",
          "F_40",
          "F_50",
          "F_60",
          "F_70",
          "F_80",
          "F_90",
          "F_100"
         ],
         "textposition": "bottom right",
         "type": "scatter",
         "x": [
          0.10440457908697472,
          0.09506240402066174,
          0.08101842803294708,
          0.07172092698589977,
          0.0604919726371632,
          0.05584461817674158,
          0.04939173530643584,
          0.04318092977802597,
          0.03205137512215552,
          0.02196872818651403,
          0
         ],
         "xaxis": "x19",
         "y": [
          0.7811099620820408,
          0.7816335261373659,
          0.7807201612963917,
          0.7814469339267253,
          0.7815779684805141,
          0.7815154006864699,
          0.7823430008237652,
          0.7813174041128,
          0.7839423579481517,
          0.7848951311533285,
          0
         ],
         "yaxis": "y19"
        },
        {
         "error_x": {
          "array": [
           -0.01646829993570728
          ],
          "type": "data"
         },
         "error_y": {
          "array": [
           0
          ],
          "type": "data"
         },
         "marker": {
          "color": "#E15F99"
         },
         "mode": "markers",
         "name": "learning fair representation with 5 prototypes outcome",
         "showlegend": false,
         "type": "scatter",
         "x": [
          0.17598671115564543
         ],
         "xaxis": "x20",
         "y": [
          0
         ],
         "yaxis": "y20"
        },
        {
         "error_x": {
          "array": [
           -0.015403051539933502
          ],
          "type": "data"
         },
         "error_y": {
          "array": [
           -0.015856109369904003
          ],
          "type": "data"
         },
         "marker": {
          "color": "#1CA71C"
         },
         "mode": "markers",
         "name": "reweighing outcome",
         "showlegend": false,
         "type": "scatter",
         "x": [
          0.08495389282141413
         ],
         "xaxis": "x20",
         "y": [
          0.7724961942065676
         ],
         "yaxis": "y20"
        },
        {
         "error_x": {
          "array": [
           -0.029198803488258956
          ],
          "type": "data"
         },
         "error_y": {
          "array": [
           -0.012926437916601419
          ],
          "type": "data"
         },
         "marker": {
          "color": "#FB0D0D"
         },
         "mode": "markers",
         "name": "reject option classification statistical parity difference optimised outcome",
         "showlegend": false,
         "type": "scatter",
         "x": [
          0.13348472724587312
         ],
         "xaxis": "x20",
         "y": [
          0.5759162547667178
         ],
         "yaxis": "y20"
        },
        {
         "error_x": {
          "array": [
           -0.018692495916675517
          ],
          "type": "data"
         },
         "error_y": {
          "array": [
           -0.013357151270510847
          ],
          "type": "data"
         },
         "marker": {
          "color": "#DA16FF"
         },
         "mode": "markers",
         "name": "reject option classification average odds difference optimised outcome",
         "showlegend": false,
         "type": "scatter",
         "x": [
          0.0949133621132277
         ],
         "xaxis": "x20",
         "y": [
          0.6054663341334952
         ],
         "yaxis": "y20"
        },
        {
         "error_x": {
          "array": [
           -0.017846119060077756
          ],
          "type": "data"
         },
         "error_y": {
          "array": [
           -0.013431546409105044
          ],
          "type": "data"
         },
         "marker": {
          "color": "#222A2A"
         },
         "mode": "markers",
         "name": "reject option classification equal opportunity difference optimised outcome",
         "showlegend": false,
         "type": "scatter",
         "x": [
          0.09507999866023782
         ],
         "xaxis": "x20",
         "y": [
          0.5878685646763068
         ],
         "yaxis": "y20"
        },
        {
         "error_x": {
          "array": [
           -0.01750430651598603
          ],
          "type": "data"
         },
         "error_y": {
          "array": [
           -0.014144462913497358
          ],
          "type": "data"
         },
         "marker": {
          "color": "#B68100"
         },
         "mode": "markers",
         "name": "calibrated equal odds using fpr cost outcome",
         "showlegend": false,
         "type": "scatter",
         "x": [
          0.06828734070803566
         ],
         "xaxis": "x20",
         "y": [
          0.7842821189717606
         ],
         "yaxis": "y20"
        },
        {
         "error_x": {
          "array": [
           -0.015190155790662643
          ],
          "type": "data"
         },
         "error_y": {
          "array": [
           -0.015575079052381202
          ],
          "type": "data"
         },
         "marker": {
          "color": "#750D86"
         },
         "mode": "markers",
         "name": "calibrated equal odds using fnr cost outcome",
         "showlegend": false,
         "type": "scatter",
         "x": [
          0.0856879005066105
         ],
         "xaxis": "x20",
         "y": [
          0.7813225466406477
         ],
         "yaxis": "y20"
        },
        {
         "error_x": {
          "array": [
           -0.016093657016393287
          ],
          "type": "data"
         },
         "error_y": {
          "array": [
           -0.014562530906674365
          ],
          "type": "data"
         },
         "marker": {
          "color": "#EB663B"
         },
         "mode": "markers",
         "name": "calibrated equal odds using weighted cost outcome",
         "showlegend": false,
         "type": "scatter",
         "x": [
          0.06749526891036203
         ],
         "xaxis": "x20",
         "y": [
          0.7836900365312576
         ],
         "yaxis": "y20"
        },
        {
         "error_x": {
          "array": [
           -0.017955624343013687
          ],
          "type": "data"
         },
         "error_y": {
          "array": [
           -0.016446239559293363
          ],
          "type": "data"
         },
         "marker": {
          "color": "#511CFB"
         },
         "mode": "markers",
         "name": "equal odds outcome",
         "showlegend": false,
         "type": "scatter",
         "x": [
          0.06048546530038641
         ],
         "xaxis": "x20",
         "y": [
          0.7742765728416146
         ],
         "yaxis": "y20"
        },
        {
         "line": {
          "color": "#2E91E5"
         },
         "mode": "lines+markers+text",
         "name": "fairea baseline",
         "showlegend": false,
         "text": [
          "F_0",
          "F_10",
          "F_20",
          "F_30",
          "F_40",
          "F_50",
          "F_60",
          "F_70",
          "F_80",
          "F_90",
          "F_100"
         ],
         "textposition": "bottom right",
         "type": "scatter",
         "x": [
          0.08447361056413193,
          0.09345200337853665,
          0.10246711181968643,
          0.1111075977819172,
          0.1210941520164216,
          0.12876541583986648,
          0.1386961229138992,
          0.14710135103477182,
          0.15620944901233522,
          0.16450935999017338,
          0.17393512145889978
         ],
         "xaxis": "x20",
         "y": [
          0.7811099620820408,
          0.7816335261373659,
          0.7807201612963917,
          0.7814469339267253,
          0.7815779684805141,
          0.7815154006864699,
          0.7823430008237652,
          0.7813174041128,
          0.7839423579481517,
          0.7848951311533285,
          0
         ],
         "yaxis": "y20"
        },
        {
         "error_x": {
          "array": [
           0
          ],
          "type": "data"
         },
         "error_y": {
          "array": [
           -0.006696050914705931
          ],
          "type": "data"
         },
         "marker": {
          "color": "#E15F99"
         },
         "mode": "markers",
         "name": "learning fair representation with 5 prototypes outcome",
         "showlegend": false,
         "type": "scatter",
         "x": [
          0
         ],
         "xaxis": "x21",
         "y": [
          0.7635280388182545
         ],
         "yaxis": "y21"
        },
        {
         "error_x": {
          "array": [
           -0.015938609730275263
          ],
          "type": "data"
         },
         "error_y": {
          "array": [
           -0.004994439039511467
          ],
          "type": "data"
         },
         "marker": {
          "color": "#1CA71C"
         },
         "mode": "markers",
         "name": "reweighing outcome",
         "showlegend": false,
         "type": "scatter",
         "x": [
          0.12466468717444094
         ],
         "xaxis": "x21",
         "y": [
          0.8798909194035782
         ],
         "yaxis": "y21"
        },
        {
         "error_x": {
          "array": [
           -0.029104527655856503
          ],
          "type": "data"
         },
         "error_y": {
          "array": [
           -0.0035997257820785666
          ],
          "type": "data"
         },
         "marker": {
          "color": "#FB0D0D"
         },
         "mode": "markers",
         "name": "reject option classification statistical parity difference optimised outcome",
         "showlegend": false,
         "type": "scatter",
         "x": [
          0.04867880663772825
         ],
         "xaxis": "x21",
         "y": [
          0.934214137466443
         ],
         "yaxis": "y21"
        },
        {
         "error_x": {
          "array": [
           -0.020007685017355364
          ],
          "type": "data"
         },
         "error_y": {
          "array": [
           -0.003987478001635791
          ],
          "type": "data"
         },
         "marker": {
          "color": "#DA16FF"
         },
         "mode": "markers",
         "name": "reject option classification average odds difference optimised outcome",
         "showlegend": false,
         "type": "scatter",
         "x": [
          0.21629004778376473
         ],
         "xaxis": "x21",
         "y": [
          0.9301753788684622
         ],
         "yaxis": "y21"
        },
        {
         "error_x": {
          "array": [
           -0.019225976855226506
          ],
          "type": "data"
         },
         "error_y": {
          "array": [
           -0.004496384257726804
          ],
          "type": "data"
         },
         "marker": {
          "color": "#222A2A"
         },
         "mode": "markers",
         "name": "reject option classification equal opportunity difference optimised outcome",
         "showlegend": false,
         "type": "scatter",
         "x": [
          0.2297068024524393
         ],
         "xaxis": "x21",
         "y": [
          0.9386658204981854
         ],
         "yaxis": "y21"
        },
        {
         "error_x": {
          "array": [
           -0.006020752007086905
          ],
          "type": "data"
         },
         "error_y": {
          "array": [
           -0.0055867050194210455
          ],
          "type": "data"
         },
         "marker": {
          "color": "#B68100"
         },
         "mode": "markers",
         "name": "calibrated equal odds using fpr cost outcome",
         "showlegend": false,
         "type": "scatter",
         "x": [
          0.1866537866520477
         ],
         "xaxis": "x21",
         "y": [
          0.8796977317539435
         ],
         "yaxis": "y21"
        },
        {
         "error_x": {
          "array": [
           -0.013850866322104166
          ],
          "type": "data"
         },
         "error_y": {
          "array": [
           -0.004938021935828929
          ],
          "type": "data"
         },
         "marker": {
          "color": "#750D86"
         },
         "mode": "markers",
         "name": "calibrated equal odds using fnr cost outcome",
         "showlegend": false,
         "type": "scatter",
         "x": [
          0.12990398258694552
         ],
         "xaxis": "x21",
         "y": [
          0.8804456519786825
         ],
         "yaxis": "y21"
        },
        {
         "error_x": {
          "array": [
           -0.006535179901391547
          ],
          "type": "data"
         },
         "error_y": {
          "array": [
           -0.005549853796683379
          ],
          "type": "data"
         },
         "marker": {
          "color": "#EB663B"
         },
         "mode": "markers",
         "name": "calibrated equal odds using weighted cost outcome",
         "showlegend": false,
         "type": "scatter",
         "x": [
          0.18660770302748475
         ],
         "xaxis": "x21",
         "y": [
          0.8794045194222404
         ],
         "yaxis": "y21"
        },
        {
         "error_x": {
          "array": [
           -0.018809449513496036
          ],
          "type": "data"
         },
         "error_y": {
          "array": [
           -0.005302472635904998
          ],
          "type": "data"
         },
         "marker": {
          "color": "#511CFB"
         },
         "mode": "markers",
         "name": "equal odds outcome",
         "showlegend": false,
         "type": "scatter",
         "x": [
          0.10857944908483542
         ],
         "xaxis": "x21",
         "y": [
          0.8816270678948179
         ],
         "yaxis": "y21"
        },
        {
         "line": {
          "color": "#2E91E5"
         },
         "mode": "lines+markers+text",
         "name": "fairea baseline",
         "showlegend": false,
         "text": [
          "F_0",
          "F_10",
          "F_20",
          "F_30",
          "F_40",
          "F_50",
          "F_60",
          "F_70",
          "F_80",
          "F_90",
          "F_100"
         ],
         "textposition": "bottom right",
         "type": "scatter",
         "x": [
          0.13153366316698556,
          0.11849801251375537,
          0.10472988295421881,
          0.09195415421981508,
          0.07922831335294438,
          0.06532000997858656,
          0.05309684674132034,
          0.0394512980393597,
          0.02618397829024264,
          0.013510404702598865,
          0
         ],
         "xaxis": "x21",
         "y": [
          0.8819133034379673,
          0.8678046048626606,
          0.854210420667614,
          0.8416794865033677,
          0.8292035711241256,
          0.8170740155672738,
          0.805607212037384,
          0.7944849554609112,
          0.7839237381543991,
          0.7738094695025788,
          0.7637737239727288
         ],
         "yaxis": "y21"
        },
        {
         "error_x": {
          "array": [
           0
          ],
          "type": "data"
         },
         "error_y": {
          "array": [
           -0.006696050914705931
          ],
          "type": "data"
         },
         "marker": {
          "color": "#E15F99"
         },
         "mode": "markers",
         "name": "learning fair representation with 5 prototypes outcome",
         "showlegend": false,
         "type": "scatter",
         "x": [
          0
         ],
         "xaxis": "x22",
         "y": [
          0.7635280388182545
         ],
         "yaxis": "y22"
        },
        {
         "error_x": {
          "array": [
           -0.04796858726008239
          ],
          "type": "data"
         },
         "error_y": {
          "array": [
           -0.004994439039511467
          ],
          "type": "data"
         },
         "marker": {
          "color": "#1CA71C"
         },
         "mode": "markers",
         "name": "reweighing outcome",
         "showlegend": false,
         "type": "scatter",
         "x": [
          0.05334373633933181
         ],
         "xaxis": "x22",
         "y": [
          0.8798909194035782
         ],
         "yaxis": "y22"
        },
        {
         "error_x": {
          "array": [
           -0.023736001941321028
          ],
          "type": "data"
         },
         "error_y": {
          "array": [
           -0.0035997257820785666
          ],
          "type": "data"
         },
         "marker": {
          "color": "#FB0D0D"
         },
         "mode": "markers",
         "name": "reject option classification statistical parity difference optimised outcome",
         "showlegend": false,
         "type": "scatter",
         "x": [
          0.16123113746705228
         ],
         "xaxis": "x22",
         "y": [
          0.934214137466443
         ],
         "yaxis": "y22"
        },
        {
         "error_x": {
          "array": [
           -0.05274790257535417
          ],
          "type": "data"
         },
         "error_y": {
          "array": [
           -0.003987478001635791
          ],
          "type": "data"
         },
         "marker": {
          "color": "#DA16FF"
         },
         "mode": "markers",
         "name": "reject option classification average odds difference optimised outcome",
         "showlegend": false,
         "type": "scatter",
         "x": [
          0.11155351732595487
         ],
         "xaxis": "x22",
         "y": [
          0.9301753788684622
         ],
         "yaxis": "y22"
        },
        {
         "error_x": {
          "array": [
           -0.048846904112639866
          ],
          "type": "data"
         },
         "error_y": {
          "array": [
           -0.004496384257726804
          ],
          "type": "data"
         },
         "marker": {
          "color": "#222A2A"
         },
         "mode": "markers",
         "name": "reject option classification equal opportunity difference optimised outcome",
         "showlegend": false,
         "type": "scatter",
         "x": [
          0.12766130546644605
         ],
         "xaxis": "x22",
         "y": [
          0.9386658204981854
         ],
         "yaxis": "y22"
        },
        {
         "error_x": {
          "array": [
           -0.00789085379544563
          ],
          "type": "data"
         },
         "error_y": {
          "array": [
           -0.0055867050194210455
          ],
          "type": "data"
         },
         "marker": {
          "color": "#B68100"
         },
         "mode": "markers",
         "name": "calibrated equal odds using fpr cost outcome",
         "showlegend": false,
         "type": "scatter",
         "x": [
          0.32254305318105053
         ],
         "xaxis": "x22",
         "y": [
          0.8796977317539435
         ],
         "yaxis": "y22"
        },
        {
         "error_x": {
          "array": [
           -0.05512203567953092
          ],
          "type": "data"
         },
         "error_y": {
          "array": [
           -0.004938021935828929
          ],
          "type": "data"
         },
         "marker": {
          "color": "#750D86"
         },
         "mode": "markers",
         "name": "calibrated equal odds using fnr cost outcome",
         "showlegend": false,
         "type": "scatter",
         "x": [
          0.06622240815118527
         ],
         "xaxis": "x22",
         "y": [
          0.8804456519786825
         ],
         "yaxis": "y22"
        },
        {
         "error_x": {
          "array": [
           -0.00774260117421155
          ],
          "type": "data"
         },
         "error_y": {
          "array": [
           -0.005549853796683379
          ],
          "type": "data"
         },
         "marker": {
          "color": "#EB663B"
         },
         "mode": "markers",
         "name": "calibrated equal odds using weighted cost outcome",
         "showlegend": false,
         "type": "scatter",
         "x": [
          0.32228034899004826
         ],
         "xaxis": "x22",
         "y": [
          0.8794045194222404
         ],
         "yaxis": "y22"
        },
        {
         "error_x": {
          "array": [
           -0.05634983952666767
          ],
          "type": "data"
         },
         "error_y": {
          "array": [
           -0.005302472635904998
          ],
          "type": "data"
         },
         "marker": {
          "color": "#511CFB"
         },
         "mode": "markers",
         "name": "equal odds outcome",
         "showlegend": false,
         "type": "scatter",
         "x": [
          0.06199656312502988
         ],
         "xaxis": "x22",
         "y": [
          0.8816270678948179
         ],
         "yaxis": "y22"
        },
        {
         "line": {
          "color": "#2E91E5"
         },
         "mode": "lines+markers+text",
         "name": "fairea baseline",
         "showlegend": false,
         "text": [
          "F_0",
          "F_10",
          "F_20",
          "F_30",
          "F_40",
          "F_50",
          "F_60",
          "F_70",
          "F_80",
          "F_90",
          "F_100"
         ],
         "textposition": "bottom right",
         "type": "scatter",
         "x": [
          0.0685830084977357,
          0.06229958436327204,
          0.053508791903183785,
          0.04724105989817864,
          0.04038699939047703,
          0.03586420723651894,
          0.03151529848110464,
          0.026498498658076165,
          0.01929714725606687,
          0.012592030215261374,
          0
         ],
         "xaxis": "x22",
         "y": [
          0.8819133034379673,
          0.8678046048626606,
          0.854210420667614,
          0.8416794865033677,
          0.8292035711241256,
          0.8170740155672738,
          0.805607212037384,
          0.7944849554609112,
          0.7839237381543991,
          0.7738094695025788,
          0.7637737239727288
         ],
         "yaxis": "y22"
        },
        {
         "error_x": {
          "array": [
           0
          ],
          "type": "data"
         },
         "error_y": {
          "array": [
           -0.006696050914705931
          ],
          "type": "data"
         },
         "marker": {
          "color": "#E15F99"
         },
         "mode": "markers",
         "name": "learning fair representation with 5 prototypes outcome",
         "showlegend": false,
         "type": "scatter",
         "x": [
          0
         ],
         "xaxis": "x23",
         "y": [
          0.7635280388182545
         ],
         "yaxis": "y23"
        },
        {
         "error_x": {
          "array": [
           -0.09623452897324174
          ],
          "type": "data"
         },
         "error_y": {
          "array": [
           -0.004994439039511467
          ],
          "type": "data"
         },
         "marker": {
          "color": "#1CA71C"
         },
         "mode": "markers",
         "name": "reweighing outcome",
         "showlegend": false,
         "type": "scatter",
         "x": [
          0.07646030647845349
         ],
         "xaxis": "x23",
         "y": [
          0.8798909194035782
         ],
         "yaxis": "y23"
        },
        {
         "error_x": {
          "array": [
           -0.03516158785169987
          ],
          "type": "data"
         },
         "error_y": {
          "array": [
           -0.0035997257820785666
          ],
          "type": "data"
         },
         "marker": {
          "color": "#FB0D0D"
         },
         "mode": "markers",
         "name": "reject option classification statistical parity difference optimised outcome",
         "showlegend": false,
         "type": "scatter",
         "x": [
          0.1627143347445763
         ],
         "xaxis": "x23",
         "y": [
          0.934214137466443
         ],
         "yaxis": "y23"
        },
        {
         "error_x": {
          "array": [
           -0.10705080611687709
          ],
          "type": "data"
         },
         "error_y": {
          "array": [
           -0.003987478001635791
          ],
          "type": "data"
         },
         "marker": {
          "color": "#DA16FF"
         },
         "mode": "markers",
         "name": "reject option classification average odds difference optimised outcome",
         "showlegend": false,
         "type": "scatter",
         "x": [
          0.11779777527493598
         ],
         "xaxis": "x23",
         "y": [
          0.9301753788684622
         ],
         "yaxis": "y23"
        },
        {
         "error_x": {
          "array": [
           -0.09663811335666511
          ],
          "type": "data"
         },
         "error_y": {
          "array": [
           -0.004496384257726804
          ],
          "type": "data"
         },
         "marker": {
          "color": "#222A2A"
         },
         "mode": "markers",
         "name": "reject option classification equal opportunity difference optimised outcome",
         "showlegend": false,
         "type": "scatter",
         "x": [
          0.13845785374280573
         ],
         "xaxis": "x23",
         "y": [
          0.9386658204981854
         ],
         "yaxis": "y23"
        },
        {
         "error_x": {
          "array": [
           -0.015371587748105653
          ],
          "type": "data"
         },
         "error_y": {
          "array": [
           -0.0055867050194210455
          ],
          "type": "data"
         },
         "marker": {
          "color": "#B68100"
         },
         "mode": "markers",
         "name": "calibrated equal odds using fpr cost outcome",
         "showlegend": false,
         "type": "scatter",
         "x": [
          0.591585365067916
         ],
         "xaxis": "x23",
         "y": [
          0.8796977317539435
         ],
         "yaxis": "y23"
        },
        {
         "error_x": {
          "array": [
           -0.11062439098387514
          ],
          "type": "data"
         },
         "error_y": {
          "array": [
           -0.004938021935828929
          ],
          "type": "data"
         },
         "marker": {
          "color": "#750D86"
         },
         "mode": "markers",
         "name": "calibrated equal odds using fnr cost outcome",
         "showlegend": false,
         "type": "scatter",
         "x": [
          0.10013287478253682
         ],
         "xaxis": "x23",
         "y": [
          0.8804456519786825
         ],
         "yaxis": "y23"
        },
        {
         "error_x": {
          "array": [
           -0.014414772583860924
          ],
          "type": "data"
         },
         "error_y": {
          "array": [
           -0.005549853796683379
          ],
          "type": "data"
         },
         "marker": {
          "color": "#EB663B"
         },
         "mode": "markers",
         "name": "calibrated equal odds using weighted cost outcome",
         "showlegend": false,
         "type": "scatter",
         "x": [
          0.5909145316019755
         ],
         "xaxis": "x23",
         "y": [
          0.8794045194222404
         ],
         "yaxis": "y23"
        },
        {
         "error_x": {
          "array": [
           -0.11139601683646101
          ],
          "type": "data"
         },
         "error_y": {
          "array": [
           -0.005302472635904998
          ],
          "type": "data"
         },
         "marker": {
          "color": "#511CFB"
         },
         "mode": "markers",
         "name": "equal odds outcome",
         "showlegend": false,
         "type": "scatter",
         "x": [
          0.11437749905666379
         ],
         "xaxis": "x23",
         "y": [
          0.8816270678948179
         ],
         "yaxis": "y23"
        },
        {
         "line": {
          "color": "#2E91E5"
         },
         "mode": "lines+markers+text",
         "name": "fairea baseline",
         "showlegend": false,
         "text": [
          "F_0",
          "F_10",
          "F_20",
          "F_30",
          "F_40",
          "F_50",
          "F_60",
          "F_70",
          "F_80",
          "F_90",
          "F_100"
         ],
         "textposition": "bottom right",
         "type": "scatter",
         "x": [
          0.10440457908697472,
          0.09506240402066174,
          0.08101842803294708,
          0.07172092698589977,
          0.0604919726371632,
          0.05584461817674158,
          0.04939173530643584,
          0.04318092977802597,
          0.03205137512215552,
          0.02196872818651403,
          0
         ],
         "xaxis": "x23",
         "y": [
          0.8819133034379673,
          0.8678046048626606,
          0.854210420667614,
          0.8416794865033677,
          0.8292035711241256,
          0.8170740155672738,
          0.805607212037384,
          0.7944849554609112,
          0.7839237381543991,
          0.7738094695025788,
          0.7637737239727288
         ],
         "yaxis": "y23"
        },
        {
         "error_x": {
          "array": [
           -0.01646829993570728
          ],
          "type": "data"
         },
         "error_y": {
          "array": [
           -0.006696050914705931
          ],
          "type": "data"
         },
         "marker": {
          "color": "#E15F99"
         },
         "mode": "markers",
         "name": "learning fair representation with 5 prototypes outcome",
         "showlegend": false,
         "type": "scatter",
         "x": [
          0.17598671115564543
         ],
         "xaxis": "x24",
         "y": [
          0.7635280388182545
         ],
         "yaxis": "y24"
        },
        {
         "error_x": {
          "array": [
           -0.015403051539933502
          ],
          "type": "data"
         },
         "error_y": {
          "array": [
           -0.004994439039511467
          ],
          "type": "data"
         },
         "marker": {
          "color": "#1CA71C"
         },
         "mode": "markers",
         "name": "reweighing outcome",
         "showlegend": false,
         "type": "scatter",
         "x": [
          0.08495389282141413
         ],
         "xaxis": "x24",
         "y": [
          0.8798909194035782
         ],
         "yaxis": "y24"
        },
        {
         "error_x": {
          "array": [
           -0.029198803488258956
          ],
          "type": "data"
         },
         "error_y": {
          "array": [
           -0.0035997257820785666
          ],
          "type": "data"
         },
         "marker": {
          "color": "#FB0D0D"
         },
         "mode": "markers",
         "name": "reject option classification statistical parity difference optimised outcome",
         "showlegend": false,
         "type": "scatter",
         "x": [
          0.13348472724587312
         ],
         "xaxis": "x24",
         "y": [
          0.934214137466443
         ],
         "yaxis": "y24"
        },
        {
         "error_x": {
          "array": [
           -0.018692495916675517
          ],
          "type": "data"
         },
         "error_y": {
          "array": [
           -0.003987478001635791
          ],
          "type": "data"
         },
         "marker": {
          "color": "#DA16FF"
         },
         "mode": "markers",
         "name": "reject option classification average odds difference optimised outcome",
         "showlegend": false,
         "type": "scatter",
         "x": [
          0.0949133621132277
         ],
         "xaxis": "x24",
         "y": [
          0.9301753788684622
         ],
         "yaxis": "y24"
        },
        {
         "error_x": {
          "array": [
           -0.017846119060077756
          ],
          "type": "data"
         },
         "error_y": {
          "array": [
           -0.004496384257726804
          ],
          "type": "data"
         },
         "marker": {
          "color": "#222A2A"
         },
         "mode": "markers",
         "name": "reject option classification equal opportunity difference optimised outcome",
         "showlegend": false,
         "type": "scatter",
         "x": [
          0.09507999866023782
         ],
         "xaxis": "x24",
         "y": [
          0.9386658204981854
         ],
         "yaxis": "y24"
        },
        {
         "error_x": {
          "array": [
           -0.01750430651598603
          ],
          "type": "data"
         },
         "error_y": {
          "array": [
           -0.0055867050194210455
          ],
          "type": "data"
         },
         "marker": {
          "color": "#B68100"
         },
         "mode": "markers",
         "name": "calibrated equal odds using fpr cost outcome",
         "showlegend": false,
         "type": "scatter",
         "x": [
          0.06828734070803566
         ],
         "xaxis": "x24",
         "y": [
          0.8796977317539435
         ],
         "yaxis": "y24"
        },
        {
         "error_x": {
          "array": [
           -0.015190155790662643
          ],
          "type": "data"
         },
         "error_y": {
          "array": [
           -0.004938021935828929
          ],
          "type": "data"
         },
         "marker": {
          "color": "#750D86"
         },
         "mode": "markers",
         "name": "calibrated equal odds using fnr cost outcome",
         "showlegend": false,
         "type": "scatter",
         "x": [
          0.0856879005066105
         ],
         "xaxis": "x24",
         "y": [
          0.8804456519786825
         ],
         "yaxis": "y24"
        },
        {
         "error_x": {
          "array": [
           -0.016093657016393287
          ],
          "type": "data"
         },
         "error_y": {
          "array": [
           -0.005549853796683379
          ],
          "type": "data"
         },
         "marker": {
          "color": "#EB663B"
         },
         "mode": "markers",
         "name": "calibrated equal odds using weighted cost outcome",
         "showlegend": false,
         "type": "scatter",
         "x": [
          0.06749526891036203
         ],
         "xaxis": "x24",
         "y": [
          0.8794045194222404
         ],
         "yaxis": "y24"
        },
        {
         "error_x": {
          "array": [
           -0.017955624343013687
          ],
          "type": "data"
         },
         "error_y": {
          "array": [
           -0.005302472635904998
          ],
          "type": "data"
         },
         "marker": {
          "color": "#511CFB"
         },
         "mode": "markers",
         "name": "equal odds outcome",
         "showlegend": false,
         "type": "scatter",
         "x": [
          0.06048546530038641
         ],
         "xaxis": "x24",
         "y": [
          0.8816270678948179
         ],
         "yaxis": "y24"
        },
        {
         "line": {
          "color": "#2E91E5"
         },
         "mode": "lines+markers+text",
         "name": "fairea baseline",
         "showlegend": false,
         "text": [
          "F_0",
          "F_10",
          "F_20",
          "F_30",
          "F_40",
          "F_50",
          "F_60",
          "F_70",
          "F_80",
          "F_90",
          "F_100"
         ],
         "textposition": "bottom right",
         "type": "scatter",
         "x": [
          0.08447361056413193,
          0.09345200337853665,
          0.10246711181968643,
          0.1111075977819172,
          0.1210941520164216,
          0.12876541583986648,
          0.1386961229138992,
          0.14710135103477182,
          0.15620944901233522,
          0.16450935999017338,
          0.17393512145889978
         ],
         "xaxis": "x24",
         "y": [
          0.8819133034379673,
          0.8678046048626606,
          0.854210420667614,
          0.8416794865033677,
          0.8292035711241256,
          0.8170740155672738,
          0.805607212037384,
          0.7944849554609112,
          0.7839237381543991,
          0.7738094695025788,
          0.7637737239727288
         ],
         "yaxis": "y24"
        },
        {
         "error_x": {
          "array": [
           0
          ],
          "type": "data"
         },
         "error_y": {
          "array": [
           -0.0033480254573529655
          ],
          "type": "data"
         },
         "marker": {
          "color": "#E15F99"
         },
         "mode": "markers",
         "name": "learning fair representation with 5 prototypes outcome",
         "showlegend": false,
         "type": "scatter",
         "x": [
          0
         ],
         "xaxis": "x25",
         "y": [
          0.38176401940912724
         ],
         "yaxis": "y25"
        },
        {
         "error_x": {
          "array": [
           -0.015938609730275263
          ],
          "type": "data"
         },
         "error_y": {
          "array": [
           -0.008651339118995627
          ],
          "type": "data"
         },
         "marker": {
          "color": "#1CA71C"
         },
         "mode": "markers",
         "name": "reweighing outcome",
         "showlegend": false,
         "type": "scatter",
         "x": [
          0.12466468717444094
         ],
         "xaxis": "x25",
         "y": [
          0.826193556805073
         ],
         "yaxis": "y25"
        },
        {
         "error_x": {
          "array": [
           -0.029104527655856503
          ],
          "type": "data"
         },
         "error_y": {
          "array": [
           -0.0065436923569202055
          ],
          "type": "data"
         },
         "marker": {
          "color": "#FB0D0D"
         },
         "mode": "markers",
         "name": "reject option classification statistical parity difference optimised outcome",
         "showlegend": false,
         "type": "scatter",
         "x": [
          0.04867880663772825
         ],
         "xaxis": "x25",
         "y": [
          0.7550651961165804
         ],
         "yaxis": "y25"
        },
        {
         "error_x": {
          "array": [
           -0.020007685017355364
          ],
          "type": "data"
         },
         "error_y": {
          "array": [
           -0.007110928313104448
          ],
          "type": "data"
         },
         "marker": {
          "color": "#DA16FF"
         },
         "mode": "markers",
         "name": "reject option classification average odds difference optimised outcome",
         "showlegend": false,
         "type": "scatter",
         "x": [
          0.21629004778376473
         ],
         "xaxis": "x25",
         "y": [
          0.7678208565009789
         ],
         "yaxis": "y25"
        },
        {
         "error_x": {
          "array": [
           -0.019225976855226506
          ],
          "type": "data"
         },
         "error_y": {
          "array": [
           -0.007348342387285323
          ],
          "type": "data"
         },
         "marker": {
          "color": "#222A2A"
         },
         "mode": "markers",
         "name": "reject option classification equal opportunity difference optimised outcome",
         "showlegend": false,
         "type": "scatter",
         "x": [
          0.2297068024524393
         ],
         "xaxis": "x25",
         "y": [
          0.763267192587246
         ],
         "yaxis": "y25"
        },
        {
         "error_x": {
          "array": [
           -0.006020752007086905
          ],
          "type": "data"
         },
         "error_y": {
          "array": [
           -0.007427214021435424
          ],
          "type": "data"
         },
         "marker": {
          "color": "#B68100"
         },
         "mode": "markers",
         "name": "calibrated equal odds using fpr cost outcome",
         "showlegend": false,
         "type": "scatter",
         "x": [
          0.1866537866520477
         ],
         "xaxis": "x25",
         "y": [
          0.831989925362852
         ],
         "yaxis": "y25"
        },
        {
         "error_x": {
          "array": [
           -0.013850866322104166
          ],
          "type": "data"
         },
         "error_y": {
          "array": [
           -0.0086251373168168
          ],
          "type": "data"
         },
         "marker": {
          "color": "#750D86"
         },
         "mode": "markers",
         "name": "calibrated equal odds using fnr cost outcome",
         "showlegend": false,
         "type": "scatter",
         "x": [
          0.12990398258694552
         ],
         "xaxis": "x25",
         "y": [
          0.8308840993096652
         ],
         "yaxis": "y25"
        },
        {
         "error_x": {
          "array": [
           -0.006535179901391547
          ],
          "type": "data"
         },
         "error_y": {
          "array": [
           -0.007675372268405645
          ],
          "type": "data"
         },
         "marker": {
          "color": "#EB663B"
         },
         "mode": "markers",
         "name": "calibrated equal odds using weighted cost outcome",
         "showlegend": false,
         "type": "scatter",
         "x": [
          0.18660770302748475
         ],
         "xaxis": "x25",
         "y": [
          0.831547277976749
         ],
         "yaxis": "y25"
        },
        {
         "error_x": {
          "array": [
           -0.018809449513496036
          ],
          "type": "data"
         },
         "error_y": {
          "array": [
           -0.008223671649794095
          ],
          "type": "data"
         },
         "marker": {
          "color": "#511CFB"
         },
         "mode": "markers",
         "name": "equal odds outcome",
         "showlegend": false,
         "type": "scatter",
         "x": [
          0.10857944908483542
         ],
         "xaxis": "x25",
         "y": [
          0.8279518203682161
         ],
         "yaxis": "y25"
        },
        {
         "line": {
          "color": "#2E91E5"
         },
         "mode": "lines+markers+text",
         "name": "fairea baseline",
         "showlegend": false,
         "text": [
          "F_0",
          "F_10",
          "F_20",
          "F_30",
          "F_40",
          "F_50",
          "F_60",
          "F_70",
          "F_80",
          "F_90",
          "F_100"
         ],
         "textposition": "bottom right",
         "type": "scatter",
         "x": [
          0.13153366316698556,
          0.11849801251375537,
          0.10472988295421881,
          0.09195415421981508,
          0.07922831335294438,
          0.06532000997858656,
          0.05309684674132034,
          0.0394512980393597,
          0.02618397829024264,
          0.013510404702598865,
          0
         ],
         "xaxis": "x25",
         "y": [
          0.8315116327600037,
          0.8247190655000134,
          0.8174652909820028,
          0.8115632102150464,
          0.8053907698023195,
          0.7992947081268719,
          0.7939751064305745,
          0.7879011797868556,
          0.7839330480512754,
          0.7793523003279538,
          0.3818868619863644
         ],
         "yaxis": "y25"
        },
        {
         "error_x": {
          "array": [
           0
          ],
          "type": "data"
         },
         "error_y": {
          "array": [
           -0.0033480254573529655
          ],
          "type": "data"
         },
         "marker": {
          "color": "#E15F99"
         },
         "mode": "markers",
         "name": "learning fair representation with 5 prototypes outcome",
         "showlegend": false,
         "type": "scatter",
         "x": [
          0
         ],
         "xaxis": "x26",
         "y": [
          0.38176401940912724
         ],
         "yaxis": "y26"
        },
        {
         "error_x": {
          "array": [
           -0.04796858726008239
          ],
          "type": "data"
         },
         "error_y": {
          "array": [
           -0.008651339118995627
          ],
          "type": "data"
         },
         "marker": {
          "color": "#1CA71C"
         },
         "mode": "markers",
         "name": "reweighing outcome",
         "showlegend": false,
         "type": "scatter",
         "x": [
          0.05334373633933181
         ],
         "xaxis": "x26",
         "y": [
          0.826193556805073
         ],
         "yaxis": "y26"
        },
        {
         "error_x": {
          "array": [
           -0.023736001941321028
          ],
          "type": "data"
         },
         "error_y": {
          "array": [
           -0.0065436923569202055
          ],
          "type": "data"
         },
         "marker": {
          "color": "#FB0D0D"
         },
         "mode": "markers",
         "name": "reject option classification statistical parity difference optimised outcome",
         "showlegend": false,
         "type": "scatter",
         "x": [
          0.16123113746705228
         ],
         "xaxis": "x26",
         "y": [
          0.7550651961165804
         ],
         "yaxis": "y26"
        },
        {
         "error_x": {
          "array": [
           -0.05274790257535417
          ],
          "type": "data"
         },
         "error_y": {
          "array": [
           -0.007110928313104448
          ],
          "type": "data"
         },
         "marker": {
          "color": "#DA16FF"
         },
         "mode": "markers",
         "name": "reject option classification average odds difference optimised outcome",
         "showlegend": false,
         "type": "scatter",
         "x": [
          0.11155351732595487
         ],
         "xaxis": "x26",
         "y": [
          0.7678208565009789
         ],
         "yaxis": "y26"
        },
        {
         "error_x": {
          "array": [
           -0.048846904112639866
          ],
          "type": "data"
         },
         "error_y": {
          "array": [
           -0.007348342387285323
          ],
          "type": "data"
         },
         "marker": {
          "color": "#222A2A"
         },
         "mode": "markers",
         "name": "reject option classification equal opportunity difference optimised outcome",
         "showlegend": false,
         "type": "scatter",
         "x": [
          0.12766130546644605
         ],
         "xaxis": "x26",
         "y": [
          0.763267192587246
         ],
         "yaxis": "y26"
        },
        {
         "error_x": {
          "array": [
           -0.00789085379544563
          ],
          "type": "data"
         },
         "error_y": {
          "array": [
           -0.007427214021435424
          ],
          "type": "data"
         },
         "marker": {
          "color": "#B68100"
         },
         "mode": "markers",
         "name": "calibrated equal odds using fpr cost outcome",
         "showlegend": false,
         "type": "scatter",
         "x": [
          0.32254305318105053
         ],
         "xaxis": "x26",
         "y": [
          0.831989925362852
         ],
         "yaxis": "y26"
        },
        {
         "error_x": {
          "array": [
           -0.05512203567953092
          ],
          "type": "data"
         },
         "error_y": {
          "array": [
           -0.0086251373168168
          ],
          "type": "data"
         },
         "marker": {
          "color": "#750D86"
         },
         "mode": "markers",
         "name": "calibrated equal odds using fnr cost outcome",
         "showlegend": false,
         "type": "scatter",
         "x": [
          0.06622240815118527
         ],
         "xaxis": "x26",
         "y": [
          0.8308840993096652
         ],
         "yaxis": "y26"
        },
        {
         "error_x": {
          "array": [
           -0.00774260117421155
          ],
          "type": "data"
         },
         "error_y": {
          "array": [
           -0.007675372268405645
          ],
          "type": "data"
         },
         "marker": {
          "color": "#EB663B"
         },
         "mode": "markers",
         "name": "calibrated equal odds using weighted cost outcome",
         "showlegend": false,
         "type": "scatter",
         "x": [
          0.32228034899004826
         ],
         "xaxis": "x26",
         "y": [
          0.831547277976749
         ],
         "yaxis": "y26"
        },
        {
         "error_x": {
          "array": [
           -0.05634983952666767
          ],
          "type": "data"
         },
         "error_y": {
          "array": [
           -0.008223671649794095
          ],
          "type": "data"
         },
         "marker": {
          "color": "#511CFB"
         },
         "mode": "markers",
         "name": "equal odds outcome",
         "showlegend": false,
         "type": "scatter",
         "x": [
          0.06199656312502988
         ],
         "xaxis": "x26",
         "y": [
          0.8279518203682161
         ],
         "yaxis": "y26"
        },
        {
         "line": {
          "color": "#2E91E5"
         },
         "mode": "lines+markers+text",
         "name": "fairea baseline",
         "showlegend": false,
         "text": [
          "F_0",
          "F_10",
          "F_20",
          "F_30",
          "F_40",
          "F_50",
          "F_60",
          "F_70",
          "F_80",
          "F_90",
          "F_100"
         ],
         "textposition": "bottom right",
         "type": "scatter",
         "x": [
          0.0685830084977357,
          0.06229958436327204,
          0.053508791903183785,
          0.04724105989817864,
          0.04038699939047703,
          0.03586420723651894,
          0.03151529848110464,
          0.026498498658076165,
          0.01929714725606687,
          0.012592030215261374,
          0
         ],
         "xaxis": "x26",
         "y": [
          0.8315116327600037,
          0.8247190655000134,
          0.8174652909820028,
          0.8115632102150464,
          0.8053907698023195,
          0.7992947081268719,
          0.7939751064305745,
          0.7879011797868556,
          0.7839330480512754,
          0.7793523003279538,
          0.3818868619863644
         ],
         "yaxis": "y26"
        },
        {
         "error_x": {
          "array": [
           0
          ],
          "type": "data"
         },
         "error_y": {
          "array": [
           -0.0033480254573529655
          ],
          "type": "data"
         },
         "marker": {
          "color": "#E15F99"
         },
         "mode": "markers",
         "name": "learning fair representation with 5 prototypes outcome",
         "showlegend": false,
         "type": "scatter",
         "x": [
          0
         ],
         "xaxis": "x27",
         "y": [
          0.38176401940912724
         ],
         "yaxis": "y27"
        },
        {
         "error_x": {
          "array": [
           -0.09623452897324174
          ],
          "type": "data"
         },
         "error_y": {
          "array": [
           -0.008651339118995627
          ],
          "type": "data"
         },
         "marker": {
          "color": "#1CA71C"
         },
         "mode": "markers",
         "name": "reweighing outcome",
         "showlegend": false,
         "type": "scatter",
         "x": [
          0.07646030647845349
         ],
         "xaxis": "x27",
         "y": [
          0.826193556805073
         ],
         "yaxis": "y27"
        },
        {
         "error_x": {
          "array": [
           -0.03516158785169987
          ],
          "type": "data"
         },
         "error_y": {
          "array": [
           -0.0065436923569202055
          ],
          "type": "data"
         },
         "marker": {
          "color": "#FB0D0D"
         },
         "mode": "markers",
         "name": "reject option classification statistical parity difference optimised outcome",
         "showlegend": false,
         "type": "scatter",
         "x": [
          0.1627143347445763
         ],
         "xaxis": "x27",
         "y": [
          0.7550651961165804
         ],
         "yaxis": "y27"
        },
        {
         "error_x": {
          "array": [
           -0.10705080611687709
          ],
          "type": "data"
         },
         "error_y": {
          "array": [
           -0.007110928313104448
          ],
          "type": "data"
         },
         "marker": {
          "color": "#DA16FF"
         },
         "mode": "markers",
         "name": "reject option classification average odds difference optimised outcome",
         "showlegend": false,
         "type": "scatter",
         "x": [
          0.11779777527493598
         ],
         "xaxis": "x27",
         "y": [
          0.7678208565009789
         ],
         "yaxis": "y27"
        },
        {
         "error_x": {
          "array": [
           -0.09663811335666511
          ],
          "type": "data"
         },
         "error_y": {
          "array": [
           -0.007348342387285323
          ],
          "type": "data"
         },
         "marker": {
          "color": "#222A2A"
         },
         "mode": "markers",
         "name": "reject option classification equal opportunity difference optimised outcome",
         "showlegend": false,
         "type": "scatter",
         "x": [
          0.13845785374280573
         ],
         "xaxis": "x27",
         "y": [
          0.763267192587246
         ],
         "yaxis": "y27"
        },
        {
         "error_x": {
          "array": [
           -0.015371587748105653
          ],
          "type": "data"
         },
         "error_y": {
          "array": [
           -0.007427214021435424
          ],
          "type": "data"
         },
         "marker": {
          "color": "#B68100"
         },
         "mode": "markers",
         "name": "calibrated equal odds using fpr cost outcome",
         "showlegend": false,
         "type": "scatter",
         "x": [
          0.591585365067916
         ],
         "xaxis": "x27",
         "y": [
          0.831989925362852
         ],
         "yaxis": "y27"
        },
        {
         "error_x": {
          "array": [
           -0.11062439098387514
          ],
          "type": "data"
         },
         "error_y": {
          "array": [
           -0.0086251373168168
          ],
          "type": "data"
         },
         "marker": {
          "color": "#750D86"
         },
         "mode": "markers",
         "name": "calibrated equal odds using fnr cost outcome",
         "showlegend": false,
         "type": "scatter",
         "x": [
          0.10013287478253682
         ],
         "xaxis": "x27",
         "y": [
          0.8308840993096652
         ],
         "yaxis": "y27"
        },
        {
         "error_x": {
          "array": [
           -0.014414772583860924
          ],
          "type": "data"
         },
         "error_y": {
          "array": [
           -0.007675372268405645
          ],
          "type": "data"
         },
         "marker": {
          "color": "#EB663B"
         },
         "mode": "markers",
         "name": "calibrated equal odds using weighted cost outcome",
         "showlegend": false,
         "type": "scatter",
         "x": [
          0.5909145316019755
         ],
         "xaxis": "x27",
         "y": [
          0.831547277976749
         ],
         "yaxis": "y27"
        },
        {
         "error_x": {
          "array": [
           -0.11139601683646101
          ],
          "type": "data"
         },
         "error_y": {
          "array": [
           -0.008223671649794095
          ],
          "type": "data"
         },
         "marker": {
          "color": "#511CFB"
         },
         "mode": "markers",
         "name": "equal odds outcome",
         "showlegend": false,
         "type": "scatter",
         "x": [
          0.11437749905666379
         ],
         "xaxis": "x27",
         "y": [
          0.8279518203682161
         ],
         "yaxis": "y27"
        },
        {
         "line": {
          "color": "#2E91E5"
         },
         "mode": "lines+markers+text",
         "name": "fairea baseline",
         "showlegend": false,
         "text": [
          "F_0",
          "F_10",
          "F_20",
          "F_30",
          "F_40",
          "F_50",
          "F_60",
          "F_70",
          "F_80",
          "F_90",
          "F_100"
         ],
         "textposition": "bottom right",
         "type": "scatter",
         "x": [
          0.10440457908697472,
          0.09506240402066174,
          0.08101842803294708,
          0.07172092698589977,
          0.0604919726371632,
          0.05584461817674158,
          0.04939173530643584,
          0.04318092977802597,
          0.03205137512215552,
          0.02196872818651403,
          0
         ],
         "xaxis": "x27",
         "y": [
          0.8315116327600037,
          0.8247190655000134,
          0.8174652909820028,
          0.8115632102150464,
          0.8053907698023195,
          0.7992947081268719,
          0.7939751064305745,
          0.7879011797868556,
          0.7839330480512754,
          0.7793523003279538,
          0.3818868619863644
         ],
         "yaxis": "y27"
        },
        {
         "error_x": {
          "array": [
           -0.01646829993570728
          ],
          "type": "data"
         },
         "error_y": {
          "array": [
           -0.0033480254573529655
          ],
          "type": "data"
         },
         "marker": {
          "color": "#E15F99"
         },
         "mode": "markers",
         "name": "learning fair representation with 5 prototypes outcome",
         "showlegend": false,
         "type": "scatter",
         "x": [
          0.17598671115564543
         ],
         "xaxis": "x28",
         "y": [
          0.38176401940912724
         ],
         "yaxis": "y28"
        },
        {
         "error_x": {
          "array": [
           -0.015403051539933502
          ],
          "type": "data"
         },
         "error_y": {
          "array": [
           -0.008651339118995627
          ],
          "type": "data"
         },
         "marker": {
          "color": "#1CA71C"
         },
         "mode": "markers",
         "name": "reweighing outcome",
         "showlegend": false,
         "type": "scatter",
         "x": [
          0.08495389282141413
         ],
         "xaxis": "x28",
         "y": [
          0.826193556805073
         ],
         "yaxis": "y28"
        },
        {
         "error_x": {
          "array": [
           -0.029198803488258956
          ],
          "type": "data"
         },
         "error_y": {
          "array": [
           -0.0065436923569202055
          ],
          "type": "data"
         },
         "marker": {
          "color": "#FB0D0D"
         },
         "mode": "markers",
         "name": "reject option classification statistical parity difference optimised outcome",
         "showlegend": false,
         "type": "scatter",
         "x": [
          0.13348472724587312
         ],
         "xaxis": "x28",
         "y": [
          0.7550651961165804
         ],
         "yaxis": "y28"
        },
        {
         "error_x": {
          "array": [
           -0.018692495916675517
          ],
          "type": "data"
         },
         "error_y": {
          "array": [
           -0.007110928313104448
          ],
          "type": "data"
         },
         "marker": {
          "color": "#DA16FF"
         },
         "mode": "markers",
         "name": "reject option classification average odds difference optimised outcome",
         "showlegend": false,
         "type": "scatter",
         "x": [
          0.0949133621132277
         ],
         "xaxis": "x28",
         "y": [
          0.7678208565009789
         ],
         "yaxis": "y28"
        },
        {
         "error_x": {
          "array": [
           -0.017846119060077756
          ],
          "type": "data"
         },
         "error_y": {
          "array": [
           -0.007348342387285323
          ],
          "type": "data"
         },
         "marker": {
          "color": "#222A2A"
         },
         "mode": "markers",
         "name": "reject option classification equal opportunity difference optimised outcome",
         "showlegend": false,
         "type": "scatter",
         "x": [
          0.09507999866023782
         ],
         "xaxis": "x28",
         "y": [
          0.763267192587246
         ],
         "yaxis": "y28"
        },
        {
         "error_x": {
          "array": [
           -0.01750430651598603
          ],
          "type": "data"
         },
         "error_y": {
          "array": [
           -0.007427214021435424
          ],
          "type": "data"
         },
         "marker": {
          "color": "#B68100"
         },
         "mode": "markers",
         "name": "calibrated equal odds using fpr cost outcome",
         "showlegend": false,
         "type": "scatter",
         "x": [
          0.06828734070803566
         ],
         "xaxis": "x28",
         "y": [
          0.831989925362852
         ],
         "yaxis": "y28"
        },
        {
         "error_x": {
          "array": [
           -0.015190155790662643
          ],
          "type": "data"
         },
         "error_y": {
          "array": [
           -0.0086251373168168
          ],
          "type": "data"
         },
         "marker": {
          "color": "#750D86"
         },
         "mode": "markers",
         "name": "calibrated equal odds using fnr cost outcome",
         "showlegend": false,
         "type": "scatter",
         "x": [
          0.0856879005066105
         ],
         "xaxis": "x28",
         "y": [
          0.8308840993096652
         ],
         "yaxis": "y28"
        },
        {
         "error_x": {
          "array": [
           -0.016093657016393287
          ],
          "type": "data"
         },
         "error_y": {
          "array": [
           -0.007675372268405645
          ],
          "type": "data"
         },
         "marker": {
          "color": "#EB663B"
         },
         "mode": "markers",
         "name": "calibrated equal odds using weighted cost outcome",
         "showlegend": false,
         "type": "scatter",
         "x": [
          0.06749526891036203
         ],
         "xaxis": "x28",
         "y": [
          0.831547277976749
         ],
         "yaxis": "y28"
        },
        {
         "error_x": {
          "array": [
           -0.017955624343013687
          ],
          "type": "data"
         },
         "error_y": {
          "array": [
           -0.008223671649794095
          ],
          "type": "data"
         },
         "marker": {
          "color": "#511CFB"
         },
         "mode": "markers",
         "name": "equal odds outcome",
         "showlegend": false,
         "type": "scatter",
         "x": [
          0.06048546530038641
         ],
         "xaxis": "x28",
         "y": [
          0.8279518203682161
         ],
         "yaxis": "y28"
        },
        {
         "line": {
          "color": "#2E91E5"
         },
         "mode": "lines+markers+text",
         "name": "fairea baseline",
         "showlegend": false,
         "text": [
          "F_0",
          "F_10",
          "F_20",
          "F_30",
          "F_40",
          "F_50",
          "F_60",
          "F_70",
          "F_80",
          "F_90",
          "F_100"
         ],
         "textposition": "bottom right",
         "type": "scatter",
         "x": [
          0.08447361056413193,
          0.09345200337853665,
          0.10246711181968643,
          0.1111075977819172,
          0.1210941520164216,
          0.12876541583986648,
          0.1386961229138992,
          0.14710135103477182,
          0.15620944901233522,
          0.16450935999017338,
          0.17393512145889978
         ],
         "xaxis": "x28",
         "y": [
          0.8315116327600037,
          0.8247190655000134,
          0.8174652909820028,
          0.8115632102150464,
          0.8053907698023195,
          0.7992947081268719,
          0.7939751064305745,
          0.7879011797868556,
          0.7839330480512754,
          0.7793523003279538,
          0.3818868619863644
         ],
         "yaxis": "y28"
        },
        {
         "error_x": {
          "array": [
           0
          ],
          "type": "data"
         },
         "error_y": {
          "array": [
           0
          ],
          "type": "data"
         },
         "marker": {
          "color": "#E15F99"
         },
         "mode": "markers",
         "name": "learning fair representation with 5 prototypes outcome",
         "showlegend": false,
         "type": "scatter",
         "x": [
          0
         ],
         "xaxis": "x29",
         "y": [
          0
         ],
         "yaxis": "y29"
        },
        {
         "error_x": {
          "array": [
           -0.015938609730275263
          ],
          "type": "data"
         },
         "error_y": {
          "array": [
           -0.012783571271987704
          ],
          "type": "data"
         },
         "marker": {
          "color": "#1CA71C"
         },
         "mode": "markers",
         "name": "reweighing outcome",
         "showlegend": false,
         "type": "scatter",
         "x": [
          0.12466468717444094
         ],
         "xaxis": "x29",
         "y": [
          0.664094413086707
         ],
         "yaxis": "y29"
        },
        {
         "error_x": {
          "array": [
           -0.029104527655856503
          ],
          "type": "data"
         },
         "error_y": {
          "array": [
           -0.010085609333431167
          ],
          "type": "data"
         },
         "marker": {
          "color": "#FB0D0D"
         },
         "mode": "markers",
         "name": "reject option classification statistical parity difference optimised outcome",
         "showlegend": false,
         "type": "scatter",
         "x": [
          0.04867880663772825
         ],
         "xaxis": "x29",
         "y": [
          0.6746198456709723
         ],
         "yaxis": "y29"
        },
        {
         "error_x": {
          "array": [
           -0.020007685017355364
          ],
          "type": "data"
         },
         "error_y": {
          "array": [
           -0.011358570706535565
          ],
          "type": "data"
         },
         "marker": {
          "color": "#DA16FF"
         },
         "mode": "markers",
         "name": "reject option classification average odds difference optimised outcome",
         "showlegend": false,
         "type": "scatter",
         "x": [
          0.21629004778376473
         ],
         "xaxis": "x29",
         "y": [
          0.6878532746889987
         ],
         "yaxis": "y29"
        },
        {
         "error_x": {
          "array": [
           -0.019225976855226506
          ],
          "type": "data"
         },
         "error_y": {
          "array": [
           -0.011394375488204433
          ],
          "type": "data"
         },
         "marker": {
          "color": "#222A2A"
         },
         "mode": "markers",
         "name": "reject option classification equal opportunity difference optimised outcome",
         "showlegend": false,
         "type": "scatter",
         "x": [
          0.2297068024524393
         ],
         "xaxis": "x29",
         "y": [
          0.6869958774057742
         ],
         "yaxis": "y29"
        },
        {
         "error_x": {
          "array": [
           -0.006020752007086905
          ],
          "type": "data"
         },
         "error_y": {
          "array": [
           -0.012692077432449267
          ],
          "type": "data"
         },
         "marker": {
          "color": "#B68100"
         },
         "mode": "markers",
         "name": "calibrated equal odds using fpr cost outcome",
         "showlegend": false,
         "type": "scatter",
         "x": [
          0.1866537866520477
         ],
         "xaxis": "x29",
         "y": [
          0.6667787470785183
         ],
         "yaxis": "y29"
        },
        {
         "error_x": {
          "array": [
           -0.013850866322104166
          ],
          "type": "data"
         },
         "error_y": {
          "array": [
           -0.013151141514724518
          ],
          "type": "data"
         },
         "marker": {
          "color": "#750D86"
         },
         "mode": "markers",
         "name": "calibrated equal odds using fnr cost outcome",
         "showlegend": false,
         "type": "scatter",
         "x": [
          0.12990398258694552
         ],
         "xaxis": "x29",
         "y": [
          0.6685977407646584
         ],
         "yaxis": "y29"
        },
        {
         "error_x": {
          "array": [
           -0.006535179901391547
          ],
          "type": "data"
         },
         "error_y": {
          "array": [
           -0.011668440877549369
          ],
          "type": "data"
         },
         "marker": {
          "color": "#EB663B"
         },
         "mode": "markers",
         "name": "calibrated equal odds using weighted cost outcome",
         "showlegend": false,
         "type": "scatter",
         "x": [
          0.18660770302748475
         ],
         "xaxis": "x29",
         "y": [
          0.666031664185427
         ],
         "yaxis": "y29"
        },
        {
         "error_x": {
          "array": [
           -0.018809449513496036
          ],
          "type": "data"
         },
         "error_y": {
          "array": [
           -0.012668149141263685
          ],
          "type": "data"
         },
         "marker": {
          "color": "#511CFB"
         },
         "mode": "markers",
         "name": "equal odds outcome",
         "showlegend": false,
         "type": "scatter",
         "x": [
          0.10857944908483542
         ],
         "xaxis": "x29",
         "y": [
          0.6683519882030631
         ],
         "yaxis": "y29"
        },
        {
         "line": {
          "color": "#2E91E5"
         },
         "mode": "lines+markers+text",
         "name": "fairea baseline",
         "showlegend": false,
         "text": [
          "F_0",
          "F_10",
          "F_20",
          "F_30",
          "F_40",
          "F_50",
          "F_60",
          "F_70",
          "F_80",
          "F_90",
          "F_100"
         ],
         "textposition": "bottom right",
         "type": "scatter",
         "x": [
          0.13153366316698556,
          0.11849801251375537,
          0.10472988295421881,
          0.09195415421981508,
          0.07922831335294438,
          0.06532000997858656,
          0.05309684674132034,
          0.0394512980393597,
          0.02618397829024264,
          0.013510404702598865,
          0
         ],
         "xaxis": "x29",
         "y": [
          0.6717059433822439,
          0.6316926191659575,
          0.5873226662857922,
          0.5408762089050029,
          0.48768009829879877,
          0.42785228714857104,
          0.36215210588640223,
          0.2878019244103387,
          0.20473307740749092,
          0.11089772549186842,
          0
         ],
         "yaxis": "y29"
        },
        {
         "error_x": {
          "array": [
           0
          ],
          "type": "data"
         },
         "error_y": {
          "array": [
           0
          ],
          "type": "data"
         },
         "marker": {
          "color": "#E15F99"
         },
         "mode": "markers",
         "name": "learning fair representation with 5 prototypes outcome",
         "showlegend": false,
         "type": "scatter",
         "x": [
          0
         ],
         "xaxis": "x30",
         "y": [
          0
         ],
         "yaxis": "y30"
        },
        {
         "error_x": {
          "array": [
           -0.04796858726008239
          ],
          "type": "data"
         },
         "error_y": {
          "array": [
           -0.012783571271987704
          ],
          "type": "data"
         },
         "marker": {
          "color": "#1CA71C"
         },
         "mode": "markers",
         "name": "reweighing outcome",
         "showlegend": false,
         "type": "scatter",
         "x": [
          0.05334373633933181
         ],
         "xaxis": "x30",
         "y": [
          0.664094413086707
         ],
         "yaxis": "y30"
        },
        {
         "error_x": {
          "array": [
           -0.023736001941321028
          ],
          "type": "data"
         },
         "error_y": {
          "array": [
           -0.010085609333431167
          ],
          "type": "data"
         },
         "marker": {
          "color": "#FB0D0D"
         },
         "mode": "markers",
         "name": "reject option classification statistical parity difference optimised outcome",
         "showlegend": false,
         "type": "scatter",
         "x": [
          0.16123113746705228
         ],
         "xaxis": "x30",
         "y": [
          0.6746198456709723
         ],
         "yaxis": "y30"
        },
        {
         "error_x": {
          "array": [
           -0.05274790257535417
          ],
          "type": "data"
         },
         "error_y": {
          "array": [
           -0.011358570706535565
          ],
          "type": "data"
         },
         "marker": {
          "color": "#DA16FF"
         },
         "mode": "markers",
         "name": "reject option classification average odds difference optimised outcome",
         "showlegend": false,
         "type": "scatter",
         "x": [
          0.11155351732595487
         ],
         "xaxis": "x30",
         "y": [
          0.6878532746889987
         ],
         "yaxis": "y30"
        },
        {
         "error_x": {
          "array": [
           -0.048846904112639866
          ],
          "type": "data"
         },
         "error_y": {
          "array": [
           -0.011394375488204433
          ],
          "type": "data"
         },
         "marker": {
          "color": "#222A2A"
         },
         "mode": "markers",
         "name": "reject option classification equal opportunity difference optimised outcome",
         "showlegend": false,
         "type": "scatter",
         "x": [
          0.12766130546644605
         ],
         "xaxis": "x30",
         "y": [
          0.6869958774057742
         ],
         "yaxis": "y30"
        },
        {
         "error_x": {
          "array": [
           -0.00789085379544563
          ],
          "type": "data"
         },
         "error_y": {
          "array": [
           -0.012692077432449267
          ],
          "type": "data"
         },
         "marker": {
          "color": "#B68100"
         },
         "mode": "markers",
         "name": "calibrated equal odds using fpr cost outcome",
         "showlegend": false,
         "type": "scatter",
         "x": [
          0.32254305318105053
         ],
         "xaxis": "x30",
         "y": [
          0.6667787470785183
         ],
         "yaxis": "y30"
        },
        {
         "error_x": {
          "array": [
           -0.05512203567953092
          ],
          "type": "data"
         },
         "error_y": {
          "array": [
           -0.013151141514724518
          ],
          "type": "data"
         },
         "marker": {
          "color": "#750D86"
         },
         "mode": "markers",
         "name": "calibrated equal odds using fnr cost outcome",
         "showlegend": false,
         "type": "scatter",
         "x": [
          0.06622240815118527
         ],
         "xaxis": "x30",
         "y": [
          0.6685977407646584
         ],
         "yaxis": "y30"
        },
        {
         "error_x": {
          "array": [
           -0.00774260117421155
          ],
          "type": "data"
         },
         "error_y": {
          "array": [
           -0.011668440877549369
          ],
          "type": "data"
         },
         "marker": {
          "color": "#EB663B"
         },
         "mode": "markers",
         "name": "calibrated equal odds using weighted cost outcome",
         "showlegend": false,
         "type": "scatter",
         "x": [
          0.32228034899004826
         ],
         "xaxis": "x30",
         "y": [
          0.666031664185427
         ],
         "yaxis": "y30"
        },
        {
         "error_x": {
          "array": [
           -0.05634983952666767
          ],
          "type": "data"
         },
         "error_y": {
          "array": [
           -0.012668149141263685
          ],
          "type": "data"
         },
         "marker": {
          "color": "#511CFB"
         },
         "mode": "markers",
         "name": "equal odds outcome",
         "showlegend": false,
         "type": "scatter",
         "x": [
          0.06199656312502988
         ],
         "xaxis": "x30",
         "y": [
          0.6683519882030631
         ],
         "yaxis": "y30"
        },
        {
         "line": {
          "color": "#2E91E5"
         },
         "mode": "lines+markers+text",
         "name": "fairea baseline",
         "showlegend": false,
         "text": [
          "F_0",
          "F_10",
          "F_20",
          "F_30",
          "F_40",
          "F_50",
          "F_60",
          "F_70",
          "F_80",
          "F_90",
          "F_100"
         ],
         "textposition": "bottom right",
         "type": "scatter",
         "x": [
          0.0685830084977357,
          0.06229958436327204,
          0.053508791903183785,
          0.04724105989817864,
          0.04038699939047703,
          0.03586420723651894,
          0.03151529848110464,
          0.026498498658076165,
          0.01929714725606687,
          0.012592030215261374,
          0
         ],
         "xaxis": "x30",
         "y": [
          0.6717059433822439,
          0.6316926191659575,
          0.5873226662857922,
          0.5408762089050029,
          0.48768009829879877,
          0.42785228714857104,
          0.36215210588640223,
          0.2878019244103387,
          0.20473307740749092,
          0.11089772549186842,
          0
         ],
         "yaxis": "y30"
        },
        {
         "error_x": {
          "array": [
           0
          ],
          "type": "data"
         },
         "error_y": {
          "array": [
           0
          ],
          "type": "data"
         },
         "marker": {
          "color": "#E15F99"
         },
         "mode": "markers",
         "name": "learning fair representation with 5 prototypes outcome",
         "showlegend": false,
         "type": "scatter",
         "x": [
          0
         ],
         "xaxis": "x31",
         "y": [
          0
         ],
         "yaxis": "y31"
        },
        {
         "error_x": {
          "array": [
           -0.09623452897324174
          ],
          "type": "data"
         },
         "error_y": {
          "array": [
           -0.012783571271987704
          ],
          "type": "data"
         },
         "marker": {
          "color": "#1CA71C"
         },
         "mode": "markers",
         "name": "reweighing outcome",
         "showlegend": false,
         "type": "scatter",
         "x": [
          0.07646030647845349
         ],
         "xaxis": "x31",
         "y": [
          0.664094413086707
         ],
         "yaxis": "y31"
        },
        {
         "error_x": {
          "array": [
           -0.03516158785169987
          ],
          "type": "data"
         },
         "error_y": {
          "array": [
           -0.010085609333431167
          ],
          "type": "data"
         },
         "marker": {
          "color": "#FB0D0D"
         },
         "mode": "markers",
         "name": "reject option classification statistical parity difference optimised outcome",
         "showlegend": false,
         "type": "scatter",
         "x": [
          0.1627143347445763
         ],
         "xaxis": "x31",
         "y": [
          0.6746198456709723
         ],
         "yaxis": "y31"
        },
        {
         "error_x": {
          "array": [
           -0.10705080611687709
          ],
          "type": "data"
         },
         "error_y": {
          "array": [
           -0.011358570706535565
          ],
          "type": "data"
         },
         "marker": {
          "color": "#DA16FF"
         },
         "mode": "markers",
         "name": "reject option classification average odds difference optimised outcome",
         "showlegend": false,
         "type": "scatter",
         "x": [
          0.11779777527493598
         ],
         "xaxis": "x31",
         "y": [
          0.6878532746889987
         ],
         "yaxis": "y31"
        },
        {
         "error_x": {
          "array": [
           -0.09663811335666511
          ],
          "type": "data"
         },
         "error_y": {
          "array": [
           -0.011394375488204433
          ],
          "type": "data"
         },
         "marker": {
          "color": "#222A2A"
         },
         "mode": "markers",
         "name": "reject option classification equal opportunity difference optimised outcome",
         "showlegend": false,
         "type": "scatter",
         "x": [
          0.13845785374280573
         ],
         "xaxis": "x31",
         "y": [
          0.6869958774057742
         ],
         "yaxis": "y31"
        },
        {
         "error_x": {
          "array": [
           -0.015371587748105653
          ],
          "type": "data"
         },
         "error_y": {
          "array": [
           -0.012692077432449267
          ],
          "type": "data"
         },
         "marker": {
          "color": "#B68100"
         },
         "mode": "markers",
         "name": "calibrated equal odds using fpr cost outcome",
         "showlegend": false,
         "type": "scatter",
         "x": [
          0.591585365067916
         ],
         "xaxis": "x31",
         "y": [
          0.6667787470785183
         ],
         "yaxis": "y31"
        },
        {
         "error_x": {
          "array": [
           -0.11062439098387514
          ],
          "type": "data"
         },
         "error_y": {
          "array": [
           -0.013151141514724518
          ],
          "type": "data"
         },
         "marker": {
          "color": "#750D86"
         },
         "mode": "markers",
         "name": "calibrated equal odds using fnr cost outcome",
         "showlegend": false,
         "type": "scatter",
         "x": [
          0.10013287478253682
         ],
         "xaxis": "x31",
         "y": [
          0.6685977407646584
         ],
         "yaxis": "y31"
        },
        {
         "error_x": {
          "array": [
           -0.014414772583860924
          ],
          "type": "data"
         },
         "error_y": {
          "array": [
           -0.011668440877549369
          ],
          "type": "data"
         },
         "marker": {
          "color": "#EB663B"
         },
         "mode": "markers",
         "name": "calibrated equal odds using weighted cost outcome",
         "showlegend": false,
         "type": "scatter",
         "x": [
          0.5909145316019755
         ],
         "xaxis": "x31",
         "y": [
          0.666031664185427
         ],
         "yaxis": "y31"
        },
        {
         "error_x": {
          "array": [
           -0.11139601683646101
          ],
          "type": "data"
         },
         "error_y": {
          "array": [
           -0.012668149141263685
          ],
          "type": "data"
         },
         "marker": {
          "color": "#511CFB"
         },
         "mode": "markers",
         "name": "equal odds outcome",
         "showlegend": false,
         "type": "scatter",
         "x": [
          0.11437749905666379
         ],
         "xaxis": "x31",
         "y": [
          0.6683519882030631
         ],
         "yaxis": "y31"
        },
        {
         "line": {
          "color": "#2E91E5"
         },
         "mode": "lines+markers+text",
         "name": "fairea baseline",
         "showlegend": false,
         "text": [
          "F_0",
          "F_10",
          "F_20",
          "F_30",
          "F_40",
          "F_50",
          "F_60",
          "F_70",
          "F_80",
          "F_90",
          "F_100"
         ],
         "textposition": "bottom right",
         "type": "scatter",
         "x": [
          0.10440457908697472,
          0.09506240402066174,
          0.08101842803294708,
          0.07172092698589977,
          0.0604919726371632,
          0.05584461817674158,
          0.04939173530643584,
          0.04318092977802597,
          0.03205137512215552,
          0.02196872818651403,
          0
         ],
         "xaxis": "x31",
         "y": [
          0.6717059433822439,
          0.6316926191659575,
          0.5873226662857922,
          0.5408762089050029,
          0.48768009829879877,
          0.42785228714857104,
          0.36215210588640223,
          0.2878019244103387,
          0.20473307740749092,
          0.11089772549186842,
          0
         ],
         "yaxis": "y31"
        },
        {
         "error_x": {
          "array": [
           -0.01646829993570728
          ],
          "type": "data"
         },
         "error_y": {
          "array": [
           0
          ],
          "type": "data"
         },
         "marker": {
          "color": "#E15F99"
         },
         "mode": "markers",
         "name": "learning fair representation with 5 prototypes outcome",
         "showlegend": false,
         "type": "scatter",
         "x": [
          0.17598671115564543
         ],
         "xaxis": "x32",
         "y": [
          0
         ],
         "yaxis": "y32"
        },
        {
         "error_x": {
          "array": [
           -0.015403051539933502
          ],
          "type": "data"
         },
         "error_y": {
          "array": [
           -0.012783571271987704
          ],
          "type": "data"
         },
         "marker": {
          "color": "#1CA71C"
         },
         "mode": "markers",
         "name": "reweighing outcome",
         "showlegend": false,
         "type": "scatter",
         "x": [
          0.08495389282141413
         ],
         "xaxis": "x32",
         "y": [
          0.664094413086707
         ],
         "yaxis": "y32"
        },
        {
         "error_x": {
          "array": [
           -0.029198803488258956
          ],
          "type": "data"
         },
         "error_y": {
          "array": [
           -0.010085609333431167
          ],
          "type": "data"
         },
         "marker": {
          "color": "#FB0D0D"
         },
         "mode": "markers",
         "name": "reject option classification statistical parity difference optimised outcome",
         "showlegend": false,
         "type": "scatter",
         "x": [
          0.13348472724587312
         ],
         "xaxis": "x32",
         "y": [
          0.6746198456709723
         ],
         "yaxis": "y32"
        },
        {
         "error_x": {
          "array": [
           -0.018692495916675517
          ],
          "type": "data"
         },
         "error_y": {
          "array": [
           -0.011358570706535565
          ],
          "type": "data"
         },
         "marker": {
          "color": "#DA16FF"
         },
         "mode": "markers",
         "name": "reject option classification average odds difference optimised outcome",
         "showlegend": false,
         "type": "scatter",
         "x": [
          0.0949133621132277
         ],
         "xaxis": "x32",
         "y": [
          0.6878532746889987
         ],
         "yaxis": "y32"
        },
        {
         "error_x": {
          "array": [
           -0.017846119060077756
          ],
          "type": "data"
         },
         "error_y": {
          "array": [
           -0.011394375488204433
          ],
          "type": "data"
         },
         "marker": {
          "color": "#222A2A"
         },
         "mode": "markers",
         "name": "reject option classification equal opportunity difference optimised outcome",
         "showlegend": false,
         "type": "scatter",
         "x": [
          0.09507999866023782
         ],
         "xaxis": "x32",
         "y": [
          0.6869958774057742
         ],
         "yaxis": "y32"
        },
        {
         "error_x": {
          "array": [
           -0.01750430651598603
          ],
          "type": "data"
         },
         "error_y": {
          "array": [
           -0.012692077432449267
          ],
          "type": "data"
         },
         "marker": {
          "color": "#B68100"
         },
         "mode": "markers",
         "name": "calibrated equal odds using fpr cost outcome",
         "showlegend": false,
         "type": "scatter",
         "x": [
          0.06828734070803566
         ],
         "xaxis": "x32",
         "y": [
          0.6667787470785183
         ],
         "yaxis": "y32"
        },
        {
         "error_x": {
          "array": [
           -0.015190155790662643
          ],
          "type": "data"
         },
         "error_y": {
          "array": [
           -0.013151141514724518
          ],
          "type": "data"
         },
         "marker": {
          "color": "#750D86"
         },
         "mode": "markers",
         "name": "calibrated equal odds using fnr cost outcome",
         "showlegend": false,
         "type": "scatter",
         "x": [
          0.0856879005066105
         ],
         "xaxis": "x32",
         "y": [
          0.6685977407646584
         ],
         "yaxis": "y32"
        },
        {
         "error_x": {
          "array": [
           -0.016093657016393287
          ],
          "type": "data"
         },
         "error_y": {
          "array": [
           -0.011668440877549369
          ],
          "type": "data"
         },
         "marker": {
          "color": "#EB663B"
         },
         "mode": "markers",
         "name": "calibrated equal odds using weighted cost outcome",
         "showlegend": false,
         "type": "scatter",
         "x": [
          0.06749526891036203
         ],
         "xaxis": "x32",
         "y": [
          0.666031664185427
         ],
         "yaxis": "y32"
        },
        {
         "error_x": {
          "array": [
           -0.017955624343013687
          ],
          "type": "data"
         },
         "error_y": {
          "array": [
           -0.012668149141263685
          ],
          "type": "data"
         },
         "marker": {
          "color": "#511CFB"
         },
         "mode": "markers",
         "name": "equal odds outcome",
         "showlegend": false,
         "type": "scatter",
         "x": [
          0.06048546530038641
         ],
         "xaxis": "x32",
         "y": [
          0.6683519882030631
         ],
         "yaxis": "y32"
        },
        {
         "line": {
          "color": "#2E91E5"
         },
         "mode": "lines+markers+text",
         "name": "fairea baseline",
         "showlegend": false,
         "text": [
          "F_0",
          "F_10",
          "F_20",
          "F_30",
          "F_40",
          "F_50",
          "F_60",
          "F_70",
          "F_80",
          "F_90",
          "F_100"
         ],
         "textposition": "bottom right",
         "type": "scatter",
         "x": [
          0.08447361056413193,
          0.09345200337853665,
          0.10246711181968643,
          0.1111075977819172,
          0.1210941520164216,
          0.12876541583986648,
          0.1386961229138992,
          0.14710135103477182,
          0.15620944901233522,
          0.16450935999017338,
          0.17393512145889978
         ],
         "xaxis": "x32",
         "y": [
          0.6717059433822439,
          0.6316926191659575,
          0.5873226662857922,
          0.5408762089050029,
          0.48768009829879877,
          0.42785228714857104,
          0.36215210588640223,
          0.2878019244103387,
          0.20473307740749092,
          0.11089772549186842,
          0
         ],
         "yaxis": "y32"
        },
        {
         "error_x": {
          "array": [
           0
          ],
          "type": "data"
         },
         "error_y": {
          "array": [
           -0.00430520537757817
          ],
          "type": "data"
         },
         "marker": {
          "color": "#E15F99"
         },
         "mode": "markers",
         "name": "learning fair representation with 5 prototypes outcome",
         "showlegend": false,
         "type": "scatter",
         "x": [
          0
         ],
         "xaxis": "x33",
         "y": [
          0.8659054688312032
         ],
         "yaxis": "y33"
        },
        {
         "error_x": {
          "array": [
           -0.015938609730275263
          ],
          "type": "data"
         },
         "error_y": {
          "array": [
           -0.0036271817956609054
          ],
          "type": "data"
         },
         "marker": {
          "color": "#1CA71C"
         },
         "mode": "markers",
         "name": "reweighing outcome",
         "showlegend": false,
         "type": "scatter",
         "x": [
          0.12466468717444094
         ],
         "xaxis": "x33",
         "y": [
          0.9121655366333463
         ],
         "yaxis": "y33"
        },
        {
         "error_x": {
          "array": [
           -0.029104527655856503
          ],
          "type": "data"
         },
         "error_y": {
          "array": [
           -0.004300122892964553
          ],
          "type": "data"
         },
         "marker": {
          "color": "#FB0D0D"
         },
         "mode": "markers",
         "name": "reject option classification statistical parity difference optimised outcome",
         "showlegend": false,
         "type": "scatter",
         "x": [
          0.04867880663772825
         ],
         "xaxis": "x33",
         "y": [
          0.8704366681373196
         ],
         "yaxis": "y33"
        },
        {
         "error_x": {
          "array": [
           -0.020007685017355364
          ],
          "type": "data"
         },
         "error_y": {
          "array": [
           -0.0038913914514921988
          ],
          "type": "data"
         },
         "marker": {
          "color": "#DA16FF"
         },
         "mode": "markers",
         "name": "reject option classification average odds difference optimised outcome",
         "showlegend": false,
         "type": "scatter",
         "x": [
          0.21629004778376473
         ],
         "xaxis": "x33",
         "y": [
          0.8825245566556594
         ],
         "yaxis": "y33"
        },
        {
         "error_x": {
          "array": [
           -0.019225976855226506
          ],
          "type": "data"
         },
         "error_y": {
          "array": [
           -0.004897294010049236
          ],
          "type": "data"
         },
         "marker": {
          "color": "#222A2A"
         },
         "mode": "markers",
         "name": "reject option classification equal opportunity difference optimised outcome",
         "showlegend": false,
         "type": "scatter",
         "x": [
          0.2297068024524393
         ],
         "xaxis": "x33",
         "y": [
          0.8758831497135376
         ],
         "yaxis": "y33"
        },
        {
         "error_x": {
          "array": [
           -0.006020752007086905
          ],
          "type": "data"
         },
         "error_y": {
          "array": [
           -0.0034527994088573433
          ],
          "type": "data"
         },
         "marker": {
          "color": "#B68100"
         },
         "mode": "markers",
         "name": "calibrated equal odds using fpr cost outcome",
         "showlegend": false,
         "type": "scatter",
         "x": [
          0.1866537866520477
         ],
         "xaxis": "x33",
         "y": [
          0.9137891314290495
         ],
         "yaxis": "y33"
        },
        {
         "error_x": {
          "array": [
           -0.013850866322104166
          ],
          "type": "data"
         },
         "error_y": {
          "array": [
           -0.0036323008957548364
          ],
          "type": "data"
         },
         "marker": {
          "color": "#750D86"
         },
         "mode": "markers",
         "name": "calibrated equal odds using fnr cost outcome",
         "showlegend": false,
         "type": "scatter",
         "x": [
          0.12990398258694552
         ],
         "xaxis": "x33",
         "y": [
          0.913566650240371
         ],
         "yaxis": "y33"
        },
        {
         "error_x": {
          "array": [
           -0.006535179901391547
          ],
          "type": "data"
         },
         "error_y": {
          "array": [
           -0.0036709963993605266
          ],
          "type": "data"
         },
         "marker": {
          "color": "#EB663B"
         },
         "mode": "markers",
         "name": "calibrated equal odds using weighted cost outcome",
         "showlegend": false,
         "type": "scatter",
         "x": [
          0.18660770302748475
         ],
         "xaxis": "x33",
         "y": [
          0.9135623084490532
         ],
         "yaxis": "y33"
        },
        {
         "error_x": {
          "array": [
           -0.018809449513496036
          ],
          "type": "data"
         },
         "error_y": {
          "array": [
           -0.0033133897217411112
          ],
          "type": "data"
         },
         "marker": {
          "color": "#511CFB"
         },
         "mode": "markers",
         "name": "equal odds outcome",
         "showlegend": false,
         "type": "scatter",
         "x": [
          0.10857944908483542
         ],
         "xaxis": "x33",
         "y": [
          0.9131858212070074
         ],
         "yaxis": "y33"
        },
        {
         "line": {
          "color": "#2E91E5"
         },
         "mode": "lines+markers+text",
         "name": "fairea baseline",
         "showlegend": false,
         "text": [
          "F_0",
          "F_10",
          "F_20",
          "F_30",
          "F_40",
          "F_50",
          "F_60",
          "F_70",
          "F_80",
          "F_90",
          "F_100"
         ],
         "textposition": "bottom right",
         "type": "scatter",
         "x": [
          0.13153366316698556,
          0.11849801251375537,
          0.10472988295421881,
          0.09195415421981508,
          0.07922831335294438,
          0.06532000997858656,
          0.05309684674132034,
          0.0394512980393597,
          0.02618397829024264,
          0.013510404702598865,
          0
         ],
         "xaxis": "x33",
         "y": [
          0.914197172186713,
          0.9089545325708166,
          0.9036264505023374,
          0.8987939037198691,
          0.8938234037233748,
          0.8888824029694495,
          0.8841756201383996,
          0.8794374338801713,
          0.8749769564259274,
          0.8705528043998823,
          0.8660676974508985
         ],
         "yaxis": "y33"
        },
        {
         "error_x": {
          "array": [
           0
          ],
          "type": "data"
         },
         "error_y": {
          "array": [
           -0.00430520537757817
          ],
          "type": "data"
         },
         "marker": {
          "color": "#E15F99"
         },
         "mode": "markers",
         "name": "learning fair representation with 5 prototypes outcome",
         "showlegend": false,
         "type": "scatter",
         "x": [
          0
         ],
         "xaxis": "x34",
         "y": [
          0.8659054688312032
         ],
         "yaxis": "y34"
        },
        {
         "error_x": {
          "array": [
           -0.04796858726008239
          ],
          "type": "data"
         },
         "error_y": {
          "array": [
           -0.0036271817956609054
          ],
          "type": "data"
         },
         "marker": {
          "color": "#1CA71C"
         },
         "mode": "markers",
         "name": "reweighing outcome",
         "showlegend": false,
         "type": "scatter",
         "x": [
          0.05334373633933181
         ],
         "xaxis": "x34",
         "y": [
          0.9121655366333463
         ],
         "yaxis": "y34"
        },
        {
         "error_x": {
          "array": [
           -0.023736001941321028
          ],
          "type": "data"
         },
         "error_y": {
          "array": [
           -0.004300122892964553
          ],
          "type": "data"
         },
         "marker": {
          "color": "#FB0D0D"
         },
         "mode": "markers",
         "name": "reject option classification statistical parity difference optimised outcome",
         "showlegend": false,
         "type": "scatter",
         "x": [
          0.16123113746705228
         ],
         "xaxis": "x34",
         "y": [
          0.8704366681373196
         ],
         "yaxis": "y34"
        },
        {
         "error_x": {
          "array": [
           -0.05274790257535417
          ],
          "type": "data"
         },
         "error_y": {
          "array": [
           -0.0038913914514921988
          ],
          "type": "data"
         },
         "marker": {
          "color": "#DA16FF"
         },
         "mode": "markers",
         "name": "reject option classification average odds difference optimised outcome",
         "showlegend": false,
         "type": "scatter",
         "x": [
          0.11155351732595487
         ],
         "xaxis": "x34",
         "y": [
          0.8825245566556594
         ],
         "yaxis": "y34"
        },
        {
         "error_x": {
          "array": [
           -0.048846904112639866
          ],
          "type": "data"
         },
         "error_y": {
          "array": [
           -0.004897294010049236
          ],
          "type": "data"
         },
         "marker": {
          "color": "#222A2A"
         },
         "mode": "markers",
         "name": "reject option classification equal opportunity difference optimised outcome",
         "showlegend": false,
         "type": "scatter",
         "x": [
          0.12766130546644605
         ],
         "xaxis": "x34",
         "y": [
          0.8758831497135376
         ],
         "yaxis": "y34"
        },
        {
         "error_x": {
          "array": [
           -0.00789085379544563
          ],
          "type": "data"
         },
         "error_y": {
          "array": [
           -0.0034527994088573433
          ],
          "type": "data"
         },
         "marker": {
          "color": "#B68100"
         },
         "mode": "markers",
         "name": "calibrated equal odds using fpr cost outcome",
         "showlegend": false,
         "type": "scatter",
         "x": [
          0.32254305318105053
         ],
         "xaxis": "x34",
         "y": [
          0.9137891314290495
         ],
         "yaxis": "y34"
        },
        {
         "error_x": {
          "array": [
           -0.05512203567953092
          ],
          "type": "data"
         },
         "error_y": {
          "array": [
           -0.0036323008957548364
          ],
          "type": "data"
         },
         "marker": {
          "color": "#750D86"
         },
         "mode": "markers",
         "name": "calibrated equal odds using fnr cost outcome",
         "showlegend": false,
         "type": "scatter",
         "x": [
          0.06622240815118527
         ],
         "xaxis": "x34",
         "y": [
          0.913566650240371
         ],
         "yaxis": "y34"
        },
        {
         "error_x": {
          "array": [
           -0.00774260117421155
          ],
          "type": "data"
         },
         "error_y": {
          "array": [
           -0.0036709963993605266
          ],
          "type": "data"
         },
         "marker": {
          "color": "#EB663B"
         },
         "mode": "markers",
         "name": "calibrated equal odds using weighted cost outcome",
         "showlegend": false,
         "type": "scatter",
         "x": [
          0.32228034899004826
         ],
         "xaxis": "x34",
         "y": [
          0.9135623084490532
         ],
         "yaxis": "y34"
        },
        {
         "error_x": {
          "array": [
           -0.05634983952666767
          ],
          "type": "data"
         },
         "error_y": {
          "array": [
           -0.0033133897217411112
          ],
          "type": "data"
         },
         "marker": {
          "color": "#511CFB"
         },
         "mode": "markers",
         "name": "equal odds outcome",
         "showlegend": false,
         "type": "scatter",
         "x": [
          0.06199656312502988
         ],
         "xaxis": "x34",
         "y": [
          0.9131858212070074
         ],
         "yaxis": "y34"
        },
        {
         "line": {
          "color": "#2E91E5"
         },
         "mode": "lines+markers+text",
         "name": "fairea baseline",
         "showlegend": false,
         "text": [
          "F_0",
          "F_10",
          "F_20",
          "F_30",
          "F_40",
          "F_50",
          "F_60",
          "F_70",
          "F_80",
          "F_90",
          "F_100"
         ],
         "textposition": "bottom right",
         "type": "scatter",
         "x": [
          0.0685830084977357,
          0.06229958436327204,
          0.053508791903183785,
          0.04724105989817864,
          0.04038699939047703,
          0.03586420723651894,
          0.03151529848110464,
          0.026498498658076165,
          0.01929714725606687,
          0.012592030215261374,
          0
         ],
         "xaxis": "x34",
         "y": [
          0.914197172186713,
          0.9089545325708166,
          0.9036264505023374,
          0.8987939037198691,
          0.8938234037233748,
          0.8888824029694495,
          0.8841756201383996,
          0.8794374338801713,
          0.8749769564259274,
          0.8705528043998823,
          0.8660676974508985
         ],
         "yaxis": "y34"
        },
        {
         "error_x": {
          "array": [
           0
          ],
          "type": "data"
         },
         "error_y": {
          "array": [
           -0.00430520537757817
          ],
          "type": "data"
         },
         "marker": {
          "color": "#E15F99"
         },
         "mode": "markers",
         "name": "learning fair representation with 5 prototypes outcome",
         "showlegend": false,
         "type": "scatter",
         "x": [
          0
         ],
         "xaxis": "x35",
         "y": [
          0.8659054688312032
         ],
         "yaxis": "y35"
        },
        {
         "error_x": {
          "array": [
           -0.09623452897324174
          ],
          "type": "data"
         },
         "error_y": {
          "array": [
           -0.0036271817956609054
          ],
          "type": "data"
         },
         "marker": {
          "color": "#1CA71C"
         },
         "mode": "markers",
         "name": "reweighing outcome",
         "showlegend": false,
         "type": "scatter",
         "x": [
          0.07646030647845349
         ],
         "xaxis": "x35",
         "y": [
          0.9121655366333463
         ],
         "yaxis": "y35"
        },
        {
         "error_x": {
          "array": [
           -0.03516158785169987
          ],
          "type": "data"
         },
         "error_y": {
          "array": [
           -0.004300122892964553
          ],
          "type": "data"
         },
         "marker": {
          "color": "#FB0D0D"
         },
         "mode": "markers",
         "name": "reject option classification statistical parity difference optimised outcome",
         "showlegend": false,
         "type": "scatter",
         "x": [
          0.1627143347445763
         ],
         "xaxis": "x35",
         "y": [
          0.8704366681373196
         ],
         "yaxis": "y35"
        },
        {
         "error_x": {
          "array": [
           -0.10705080611687709
          ],
          "type": "data"
         },
         "error_y": {
          "array": [
           -0.0038913914514921988
          ],
          "type": "data"
         },
         "marker": {
          "color": "#DA16FF"
         },
         "mode": "markers",
         "name": "reject option classification average odds difference optimised outcome",
         "showlegend": false,
         "type": "scatter",
         "x": [
          0.11779777527493598
         ],
         "xaxis": "x35",
         "y": [
          0.8825245566556594
         ],
         "yaxis": "y35"
        },
        {
         "error_x": {
          "array": [
           -0.09663811335666511
          ],
          "type": "data"
         },
         "error_y": {
          "array": [
           -0.004897294010049236
          ],
          "type": "data"
         },
         "marker": {
          "color": "#222A2A"
         },
         "mode": "markers",
         "name": "reject option classification equal opportunity difference optimised outcome",
         "showlegend": false,
         "type": "scatter",
         "x": [
          0.13845785374280573
         ],
         "xaxis": "x35",
         "y": [
          0.8758831497135376
         ],
         "yaxis": "y35"
        },
        {
         "error_x": {
          "array": [
           -0.015371587748105653
          ],
          "type": "data"
         },
         "error_y": {
          "array": [
           -0.0034527994088573433
          ],
          "type": "data"
         },
         "marker": {
          "color": "#B68100"
         },
         "mode": "markers",
         "name": "calibrated equal odds using fpr cost outcome",
         "showlegend": false,
         "type": "scatter",
         "x": [
          0.591585365067916
         ],
         "xaxis": "x35",
         "y": [
          0.9137891314290495
         ],
         "yaxis": "y35"
        },
        {
         "error_x": {
          "array": [
           -0.11062439098387514
          ],
          "type": "data"
         },
         "error_y": {
          "array": [
           -0.0036323008957548364
          ],
          "type": "data"
         },
         "marker": {
          "color": "#750D86"
         },
         "mode": "markers",
         "name": "calibrated equal odds using fnr cost outcome",
         "showlegend": false,
         "type": "scatter",
         "x": [
          0.10013287478253682
         ],
         "xaxis": "x35",
         "y": [
          0.913566650240371
         ],
         "yaxis": "y35"
        },
        {
         "error_x": {
          "array": [
           -0.014414772583860924
          ],
          "type": "data"
         },
         "error_y": {
          "array": [
           -0.0036709963993605266
          ],
          "type": "data"
         },
         "marker": {
          "color": "#EB663B"
         },
         "mode": "markers",
         "name": "calibrated equal odds using weighted cost outcome",
         "showlegend": false,
         "type": "scatter",
         "x": [
          0.5909145316019755
         ],
         "xaxis": "x35",
         "y": [
          0.9135623084490532
         ],
         "yaxis": "y35"
        },
        {
         "error_x": {
          "array": [
           -0.11139601683646101
          ],
          "type": "data"
         },
         "error_y": {
          "array": [
           -0.0033133897217411112
          ],
          "type": "data"
         },
         "marker": {
          "color": "#511CFB"
         },
         "mode": "markers",
         "name": "equal odds outcome",
         "showlegend": false,
         "type": "scatter",
         "x": [
          0.11437749905666379
         ],
         "xaxis": "x35",
         "y": [
          0.9131858212070074
         ],
         "yaxis": "y35"
        },
        {
         "line": {
          "color": "#2E91E5"
         },
         "mode": "lines+markers+text",
         "name": "fairea baseline",
         "showlegend": false,
         "text": [
          "F_0",
          "F_10",
          "F_20",
          "F_30",
          "F_40",
          "F_50",
          "F_60",
          "F_70",
          "F_80",
          "F_90",
          "F_100"
         ],
         "textposition": "bottom right",
         "type": "scatter",
         "x": [
          0.10440457908697472,
          0.09506240402066174,
          0.08101842803294708,
          0.07172092698589977,
          0.0604919726371632,
          0.05584461817674158,
          0.04939173530643584,
          0.04318092977802597,
          0.03205137512215552,
          0.02196872818651403,
          0
         ],
         "xaxis": "x35",
         "y": [
          0.914197172186713,
          0.9089545325708166,
          0.9036264505023374,
          0.8987939037198691,
          0.8938234037233748,
          0.8888824029694495,
          0.8841756201383996,
          0.8794374338801713,
          0.8749769564259274,
          0.8705528043998823,
          0.8660676974508985
         ],
         "yaxis": "y35"
        },
        {
         "error_x": {
          "array": [
           -0.01646829993570728
          ],
          "type": "data"
         },
         "error_y": {
          "array": [
           -0.00430520537757817
          ],
          "type": "data"
         },
         "marker": {
          "color": "#E15F99"
         },
         "mode": "markers",
         "name": "learning fair representation with 5 prototypes outcome",
         "showlegend": false,
         "type": "scatter",
         "x": [
          0.17598671115564543
         ],
         "xaxis": "x36",
         "y": [
          0.8659054688312032
         ],
         "yaxis": "y36"
        },
        {
         "error_x": {
          "array": [
           -0.015403051539933502
          ],
          "type": "data"
         },
         "error_y": {
          "array": [
           -0.0036271817956609054
          ],
          "type": "data"
         },
         "marker": {
          "color": "#1CA71C"
         },
         "mode": "markers",
         "name": "reweighing outcome",
         "showlegend": false,
         "type": "scatter",
         "x": [
          0.08495389282141413
         ],
         "xaxis": "x36",
         "y": [
          0.9121655366333463
         ],
         "yaxis": "y36"
        },
        {
         "error_x": {
          "array": [
           -0.029198803488258956
          ],
          "type": "data"
         },
         "error_y": {
          "array": [
           -0.004300122892964553
          ],
          "type": "data"
         },
         "marker": {
          "color": "#FB0D0D"
         },
         "mode": "markers",
         "name": "reject option classification statistical parity difference optimised outcome",
         "showlegend": false,
         "type": "scatter",
         "x": [
          0.13348472724587312
         ],
         "xaxis": "x36",
         "y": [
          0.8704366681373196
         ],
         "yaxis": "y36"
        },
        {
         "error_x": {
          "array": [
           -0.018692495916675517
          ],
          "type": "data"
         },
         "error_y": {
          "array": [
           -0.0038913914514921988
          ],
          "type": "data"
         },
         "marker": {
          "color": "#DA16FF"
         },
         "mode": "markers",
         "name": "reject option classification average odds difference optimised outcome",
         "showlegend": false,
         "type": "scatter",
         "x": [
          0.0949133621132277
         ],
         "xaxis": "x36",
         "y": [
          0.8825245566556594
         ],
         "yaxis": "y36"
        },
        {
         "error_x": {
          "array": [
           -0.017846119060077756
          ],
          "type": "data"
         },
         "error_y": {
          "array": [
           -0.004897294010049236
          ],
          "type": "data"
         },
         "marker": {
          "color": "#222A2A"
         },
         "mode": "markers",
         "name": "reject option classification equal opportunity difference optimised outcome",
         "showlegend": false,
         "type": "scatter",
         "x": [
          0.09507999866023782
         ],
         "xaxis": "x36",
         "y": [
          0.8758831497135376
         ],
         "yaxis": "y36"
        },
        {
         "error_x": {
          "array": [
           -0.01750430651598603
          ],
          "type": "data"
         },
         "error_y": {
          "array": [
           -0.0034527994088573433
          ],
          "type": "data"
         },
         "marker": {
          "color": "#B68100"
         },
         "mode": "markers",
         "name": "calibrated equal odds using fpr cost outcome",
         "showlegend": false,
         "type": "scatter",
         "x": [
          0.06828734070803566
         ],
         "xaxis": "x36",
         "y": [
          0.9137891314290495
         ],
         "yaxis": "y36"
        },
        {
         "error_x": {
          "array": [
           -0.015190155790662643
          ],
          "type": "data"
         },
         "error_y": {
          "array": [
           -0.0036323008957548364
          ],
          "type": "data"
         },
         "marker": {
          "color": "#750D86"
         },
         "mode": "markers",
         "name": "calibrated equal odds using fnr cost outcome",
         "showlegend": false,
         "type": "scatter",
         "x": [
          0.0856879005066105
         ],
         "xaxis": "x36",
         "y": [
          0.913566650240371
         ],
         "yaxis": "y36"
        },
        {
         "error_x": {
          "array": [
           -0.016093657016393287
          ],
          "type": "data"
         },
         "error_y": {
          "array": [
           -0.0036709963993605266
          ],
          "type": "data"
         },
         "marker": {
          "color": "#EB663B"
         },
         "mode": "markers",
         "name": "calibrated equal odds using weighted cost outcome",
         "showlegend": false,
         "type": "scatter",
         "x": [
          0.06749526891036203
         ],
         "xaxis": "x36",
         "y": [
          0.9135623084490532
         ],
         "yaxis": "y36"
        },
        {
         "error_x": {
          "array": [
           -0.017955624343013687
          ],
          "type": "data"
         },
         "error_y": {
          "array": [
           -0.0033133897217411112
          ],
          "type": "data"
         },
         "marker": {
          "color": "#511CFB"
         },
         "mode": "markers",
         "name": "equal odds outcome",
         "showlegend": false,
         "type": "scatter",
         "x": [
          0.06048546530038641
         ],
         "xaxis": "x36",
         "y": [
          0.9131858212070074
         ],
         "yaxis": "y36"
        },
        {
         "line": {
          "color": "#2E91E5"
         },
         "mode": "lines+markers+text",
         "name": "fairea baseline",
         "showlegend": false,
         "text": [
          "F_0",
          "F_10",
          "F_20",
          "F_30",
          "F_40",
          "F_50",
          "F_60",
          "F_70",
          "F_80",
          "F_90",
          "F_100"
         ],
         "textposition": "bottom right",
         "type": "scatter",
         "x": [
          0.08447361056413193,
          0.09345200337853665,
          0.10246711181968643,
          0.1111075977819172,
          0.1210941520164216,
          0.12876541583986648,
          0.1386961229138992,
          0.14710135103477182,
          0.15620944901233522,
          0.16450935999017338,
          0.17393512145889978
         ],
         "xaxis": "x36",
         "y": [
          0.914197172186713,
          0.9089545325708166,
          0.9036264505023374,
          0.8987939037198691,
          0.8938234037233748,
          0.8888824029694495,
          0.8841756201383996,
          0.8794374338801713,
          0.8749769564259274,
          0.8705528043998823,
          0.8660676974508985
         ],
         "yaxis": "y36"
        },
        {
         "error_x": {
          "array": [
           0
          ],
          "type": "data"
         },
         "error_y": {
          "array": [
           -0.002152602688789085
          ],
          "type": "data"
         },
         "marker": {
          "color": "#E15F99"
         },
         "mode": "markers",
         "name": "learning fair representation with 5 prototypes outcome",
         "showlegend": false,
         "type": "scatter",
         "x": [
          0
         ],
         "xaxis": "x37",
         "y": [
          0.4329527344156016
         ],
         "yaxis": "y37"
        },
        {
         "error_x": {
          "array": [
           -0.015938609730275263
          ],
          "type": "data"
         },
         "error_y": {
          "array": [
           -0.0077788399212921355
          ],
          "type": "data"
         },
         "marker": {
          "color": "#1CA71C"
         },
         "mode": "markers",
         "name": "reweighing outcome",
         "showlegend": false,
         "type": "scatter",
         "x": [
          0.12466468717444094
         ],
         "xaxis": "x37",
         "y": [
          0.7881299748600267
         ],
         "yaxis": "y37"
        },
        {
         "error_x": {
          "array": [
           -0.029104527655856503
          ],
          "type": "data"
         },
         "error_y": {
          "array": [
           -0.006635547906478356
          ],
          "type": "data"
         },
         "marker": {
          "color": "#FB0D0D"
         },
         "mode": "markers",
         "name": "reject option classification statistical parity difference optimised outcome",
         "showlegend": false,
         "type": "scatter",
         "x": [
          0.04867880663772825
         ],
         "xaxis": "x37",
         "y": [
          0.772528256904146
         ],
         "yaxis": "y37"
        },
        {
         "error_x": {
          "array": [
           -0.020007685017355364
          ],
          "type": "data"
         },
         "error_y": {
          "array": [
           -0.006988544157140453
          ],
          "type": "data"
         },
         "marker": {
          "color": "#DA16FF"
         },
         "mode": "markers",
         "name": "reject option classification average odds difference optimised outcome",
         "showlegend": false,
         "type": "scatter",
         "x": [
          0.21629004778376473
         ],
         "xaxis": "x37",
         "y": [
          0.7851889156723292
         ],
         "yaxis": "y37"
        },
        {
         "error_x": {
          "array": [
           -0.019225976855226506
          ],
          "type": "data"
         },
         "error_y": {
          "array": [
           -0.00756928922596356
          ],
          "type": "data"
         },
         "marker": {
          "color": "#222A2A"
         },
         "mode": "markers",
         "name": "reject option classification equal opportunity difference optimised outcome",
         "showlegend": false,
         "type": "scatter",
         "x": [
          0.2297068024524393
         ],
         "xaxis": "x37",
         "y": [
          0.7814395135596558
         ],
         "yaxis": "y37"
        },
        {
         "error_x": {
          "array": [
           -0.006020752007086905
          ],
          "type": "data"
         },
         "error_y": {
          "array": [
           -0.0075302639239546165
          ],
          "type": "data"
         },
         "marker": {
          "color": "#B68100"
         },
         "mode": "markers",
         "name": "calibrated equal odds using fpr cost outcome",
         "showlegend": false,
         "type": "scatter",
         "x": [
          0.1866537866520477
         ],
         "xaxis": "x37",
         "y": [
          0.7902839392537838
         ],
         "yaxis": "y37"
        },
        {
         "error_x": {
          "array": [
           -0.013850866322104166
          ],
          "type": "data"
         },
         "error_y": {
          "array": [
           -0.007943801433894948
          ],
          "type": "data"
         },
         "marker": {
          "color": "#750D86"
         },
         "mode": "markers",
         "name": "calibrated equal odds using fnr cost outcome",
         "showlegend": false,
         "type": "scatter",
         "x": [
          0.12990398258694552
         ],
         "xaxis": "x37",
         "y": [
          0.7910821955025148
         ],
         "yaxis": "y37"
        },
        {
         "error_x": {
          "array": [
           -0.006535179901391547
          ],
          "type": "data"
         },
         "error_y": {
          "array": [
           -0.007076736740286083
          ],
          "type": "data"
         },
         "marker": {
          "color": "#EB663B"
         },
         "mode": "markers",
         "name": "calibrated equal odds using weighted cost outcome",
         "showlegend": false,
         "type": "scatter",
         "x": [
          0.18660770302748475
         ],
         "xaxis": "x37",
         "y": [
          0.7897969863172402
         ],
         "yaxis": "y37"
        },
        {
         "error_x": {
          "array": [
           -0.018809449513496036
          ],
          "type": "data"
         },
         "error_y": {
          "array": [
           -0.0074258351301023096
          ],
          "type": "data"
         },
         "marker": {
          "color": "#511CFB"
         },
         "mode": "markers",
         "name": "equal odds outcome",
         "showlegend": false,
         "type": "scatter",
         "x": [
          0.10857944908483542
         ],
         "xaxis": "x37",
         "y": [
          0.7907689047050351
         ],
         "yaxis": "y37"
        },
        {
         "line": {
          "color": "#2E91E5"
         },
         "mode": "lines+markers+text",
         "name": "fairea baseline",
         "showlegend": false,
         "text": [
          "F_0",
          "F_10",
          "F_20",
          "F_30",
          "F_40",
          "F_50",
          "F_60",
          "F_70",
          "F_80",
          "F_90",
          "F_100"
         ],
         "textposition": "bottom right",
         "type": "scatter",
         "x": [
          0.13153366316698556,
          0.11849801251375537,
          0.10472988295421881,
          0.09195415421981508,
          0.07922831335294438,
          0.06532000997858656,
          0.05309684674132034,
          0.0394512980393597,
          0.02618397829024264,
          0.013510404702598865,
          0
         ],
         "xaxis": "x37",
         "y": [
          0.7929515577844785,
          0.770323575868387,
          0.7454745583940646,
          0.7198350563124358,
          0.6907517510110867,
          0.6583673450590104,
          0.6231638630124009,
          0.5836196791452549,
          0.5398550169167092,
          0.49072526494587526,
          0.43303384872544926
         ],
         "yaxis": "y37"
        },
        {
         "error_x": {
          "array": [
           0
          ],
          "type": "data"
         },
         "error_y": {
          "array": [
           -0.002152602688789085
          ],
          "type": "data"
         },
         "marker": {
          "color": "#E15F99"
         },
         "mode": "markers",
         "name": "learning fair representation with 5 prototypes outcome",
         "showlegend": false,
         "type": "scatter",
         "x": [
          0
         ],
         "xaxis": "x38",
         "y": [
          0.4329527344156016
         ],
         "yaxis": "y38"
        },
        {
         "error_x": {
          "array": [
           -0.04796858726008239
          ],
          "type": "data"
         },
         "error_y": {
          "array": [
           -0.0077788399212921355
          ],
          "type": "data"
         },
         "marker": {
          "color": "#1CA71C"
         },
         "mode": "markers",
         "name": "reweighing outcome",
         "showlegend": false,
         "type": "scatter",
         "x": [
          0.05334373633933181
         ],
         "xaxis": "x38",
         "y": [
          0.7881299748600267
         ],
         "yaxis": "y38"
        },
        {
         "error_x": {
          "array": [
           -0.023736001941321028
          ],
          "type": "data"
         },
         "error_y": {
          "array": [
           -0.006635547906478356
          ],
          "type": "data"
         },
         "marker": {
          "color": "#FB0D0D"
         },
         "mode": "markers",
         "name": "reject option classification statistical parity difference optimised outcome",
         "showlegend": false,
         "type": "scatter",
         "x": [
          0.16123113746705228
         ],
         "xaxis": "x38",
         "y": [
          0.772528256904146
         ],
         "yaxis": "y38"
        },
        {
         "error_x": {
          "array": [
           -0.05274790257535417
          ],
          "type": "data"
         },
         "error_y": {
          "array": [
           -0.006988544157140453
          ],
          "type": "data"
         },
         "marker": {
          "color": "#DA16FF"
         },
         "mode": "markers",
         "name": "reject option classification average odds difference optimised outcome",
         "showlegend": false,
         "type": "scatter",
         "x": [
          0.11155351732595487
         ],
         "xaxis": "x38",
         "y": [
          0.7851889156723292
         ],
         "yaxis": "y38"
        },
        {
         "error_x": {
          "array": [
           -0.048846904112639866
          ],
          "type": "data"
         },
         "error_y": {
          "array": [
           -0.00756928922596356
          ],
          "type": "data"
         },
         "marker": {
          "color": "#222A2A"
         },
         "mode": "markers",
         "name": "reject option classification equal opportunity difference optimised outcome",
         "showlegend": false,
         "type": "scatter",
         "x": [
          0.12766130546644605
         ],
         "xaxis": "x38",
         "y": [
          0.7814395135596558
         ],
         "yaxis": "y38"
        },
        {
         "error_x": {
          "array": [
           -0.00789085379544563
          ],
          "type": "data"
         },
         "error_y": {
          "array": [
           -0.0075302639239546165
          ],
          "type": "data"
         },
         "marker": {
          "color": "#B68100"
         },
         "mode": "markers",
         "name": "calibrated equal odds using fpr cost outcome",
         "showlegend": false,
         "type": "scatter",
         "x": [
          0.32254305318105053
         ],
         "xaxis": "x38",
         "y": [
          0.7902839392537838
         ],
         "yaxis": "y38"
        },
        {
         "error_x": {
          "array": [
           -0.05512203567953092
          ],
          "type": "data"
         },
         "error_y": {
          "array": [
           -0.007943801433894948
          ],
          "type": "data"
         },
         "marker": {
          "color": "#750D86"
         },
         "mode": "markers",
         "name": "calibrated equal odds using fnr cost outcome",
         "showlegend": false,
         "type": "scatter",
         "x": [
          0.06622240815118527
         ],
         "xaxis": "x38",
         "y": [
          0.7910821955025148
         ],
         "yaxis": "y38"
        },
        {
         "error_x": {
          "array": [
           -0.00774260117421155
          ],
          "type": "data"
         },
         "error_y": {
          "array": [
           -0.007076736740286083
          ],
          "type": "data"
         },
         "marker": {
          "color": "#EB663B"
         },
         "mode": "markers",
         "name": "calibrated equal odds using weighted cost outcome",
         "showlegend": false,
         "type": "scatter",
         "x": [
          0.32228034899004826
         ],
         "xaxis": "x38",
         "y": [
          0.7897969863172402
         ],
         "yaxis": "y38"
        },
        {
         "error_x": {
          "array": [
           -0.05634983952666767
          ],
          "type": "data"
         },
         "error_y": {
          "array": [
           -0.0074258351301023096
          ],
          "type": "data"
         },
         "marker": {
          "color": "#511CFB"
         },
         "mode": "markers",
         "name": "equal odds outcome",
         "showlegend": false,
         "type": "scatter",
         "x": [
          0.06199656312502988
         ],
         "xaxis": "x38",
         "y": [
          0.7907689047050351
         ],
         "yaxis": "y38"
        },
        {
         "line": {
          "color": "#2E91E5"
         },
         "mode": "lines+markers+text",
         "name": "fairea baseline",
         "showlegend": false,
         "text": [
          "F_0",
          "F_10",
          "F_20",
          "F_30",
          "F_40",
          "F_50",
          "F_60",
          "F_70",
          "F_80",
          "F_90",
          "F_100"
         ],
         "textposition": "bottom right",
         "type": "scatter",
         "x": [
          0.0685830084977357,
          0.06229958436327204,
          0.053508791903183785,
          0.04724105989817864,
          0.04038699939047703,
          0.03586420723651894,
          0.03151529848110464,
          0.026498498658076165,
          0.01929714725606687,
          0.012592030215261374,
          0
         ],
         "xaxis": "x38",
         "y": [
          0.7929515577844785,
          0.770323575868387,
          0.7454745583940646,
          0.7198350563124358,
          0.6907517510110867,
          0.6583673450590104,
          0.6231638630124009,
          0.5836196791452549,
          0.5398550169167092,
          0.49072526494587526,
          0.43303384872544926
         ],
         "yaxis": "y38"
        },
        {
         "error_x": {
          "array": [
           0
          ],
          "type": "data"
         },
         "error_y": {
          "array": [
           -0.002152602688789085
          ],
          "type": "data"
         },
         "marker": {
          "color": "#E15F99"
         },
         "mode": "markers",
         "name": "learning fair representation with 5 prototypes outcome",
         "showlegend": false,
         "type": "scatter",
         "x": [
          0
         ],
         "xaxis": "x39",
         "y": [
          0.4329527344156016
         ],
         "yaxis": "y39"
        },
        {
         "error_x": {
          "array": [
           -0.09623452897324174
          ],
          "type": "data"
         },
         "error_y": {
          "array": [
           -0.0077788399212921355
          ],
          "type": "data"
         },
         "marker": {
          "color": "#1CA71C"
         },
         "mode": "markers",
         "name": "reweighing outcome",
         "showlegend": false,
         "type": "scatter",
         "x": [
          0.07646030647845349
         ],
         "xaxis": "x39",
         "y": [
          0.7881299748600267
         ],
         "yaxis": "y39"
        },
        {
         "error_x": {
          "array": [
           -0.03516158785169987
          ],
          "type": "data"
         },
         "error_y": {
          "array": [
           -0.006635547906478356
          ],
          "type": "data"
         },
         "marker": {
          "color": "#FB0D0D"
         },
         "mode": "markers",
         "name": "reject option classification statistical parity difference optimised outcome",
         "showlegend": false,
         "type": "scatter",
         "x": [
          0.1627143347445763
         ],
         "xaxis": "x39",
         "y": [
          0.772528256904146
         ],
         "yaxis": "y39"
        },
        {
         "error_x": {
          "array": [
           -0.10705080611687709
          ],
          "type": "data"
         },
         "error_y": {
          "array": [
           -0.006988544157140453
          ],
          "type": "data"
         },
         "marker": {
          "color": "#DA16FF"
         },
         "mode": "markers",
         "name": "reject option classification average odds difference optimised outcome",
         "showlegend": false,
         "type": "scatter",
         "x": [
          0.11779777527493598
         ],
         "xaxis": "x39",
         "y": [
          0.7851889156723292
         ],
         "yaxis": "y39"
        },
        {
         "error_x": {
          "array": [
           -0.09663811335666511
          ],
          "type": "data"
         },
         "error_y": {
          "array": [
           -0.00756928922596356
          ],
          "type": "data"
         },
         "marker": {
          "color": "#222A2A"
         },
         "mode": "markers",
         "name": "reject option classification equal opportunity difference optimised outcome",
         "showlegend": false,
         "type": "scatter",
         "x": [
          0.13845785374280573
         ],
         "xaxis": "x39",
         "y": [
          0.7814395135596558
         ],
         "yaxis": "y39"
        },
        {
         "error_x": {
          "array": [
           -0.015371587748105653
          ],
          "type": "data"
         },
         "error_y": {
          "array": [
           -0.0075302639239546165
          ],
          "type": "data"
         },
         "marker": {
          "color": "#B68100"
         },
         "mode": "markers",
         "name": "calibrated equal odds using fpr cost outcome",
         "showlegend": false,
         "type": "scatter",
         "x": [
          0.591585365067916
         ],
         "xaxis": "x39",
         "y": [
          0.7902839392537838
         ],
         "yaxis": "y39"
        },
        {
         "error_x": {
          "array": [
           -0.11062439098387514
          ],
          "type": "data"
         },
         "error_y": {
          "array": [
           -0.007943801433894948
          ],
          "type": "data"
         },
         "marker": {
          "color": "#750D86"
         },
         "mode": "markers",
         "name": "calibrated equal odds using fnr cost outcome",
         "showlegend": false,
         "type": "scatter",
         "x": [
          0.10013287478253682
         ],
         "xaxis": "x39",
         "y": [
          0.7910821955025148
         ],
         "yaxis": "y39"
        },
        {
         "error_x": {
          "array": [
           -0.014414772583860924
          ],
          "type": "data"
         },
         "error_y": {
          "array": [
           -0.007076736740286083
          ],
          "type": "data"
         },
         "marker": {
          "color": "#EB663B"
         },
         "mode": "markers",
         "name": "calibrated equal odds using weighted cost outcome",
         "showlegend": false,
         "type": "scatter",
         "x": [
          0.5909145316019755
         ],
         "xaxis": "x39",
         "y": [
          0.7897969863172402
         ],
         "yaxis": "y39"
        },
        {
         "error_x": {
          "array": [
           -0.11139601683646101
          ],
          "type": "data"
         },
         "error_y": {
          "array": [
           -0.0074258351301023096
          ],
          "type": "data"
         },
         "marker": {
          "color": "#511CFB"
         },
         "mode": "markers",
         "name": "equal odds outcome",
         "showlegend": false,
         "type": "scatter",
         "x": [
          0.11437749905666379
         ],
         "xaxis": "x39",
         "y": [
          0.7907689047050351
         ],
         "yaxis": "y39"
        },
        {
         "line": {
          "color": "#2E91E5"
         },
         "mode": "lines+markers+text",
         "name": "fairea baseline",
         "showlegend": false,
         "text": [
          "F_0",
          "F_10",
          "F_20",
          "F_30",
          "F_40",
          "F_50",
          "F_60",
          "F_70",
          "F_80",
          "F_90",
          "F_100"
         ],
         "textposition": "bottom right",
         "type": "scatter",
         "x": [
          0.10440457908697472,
          0.09506240402066174,
          0.08101842803294708,
          0.07172092698589977,
          0.0604919726371632,
          0.05584461817674158,
          0.04939173530643584,
          0.04318092977802597,
          0.03205137512215552,
          0.02196872818651403,
          0
         ],
         "xaxis": "x39",
         "y": [
          0.7929515577844785,
          0.770323575868387,
          0.7454745583940646,
          0.7198350563124358,
          0.6907517510110867,
          0.6583673450590104,
          0.6231638630124009,
          0.5836196791452549,
          0.5398550169167092,
          0.49072526494587526,
          0.43303384872544926
         ],
         "yaxis": "y39"
        },
        {
         "error_x": {
          "array": [
           -0.01646829993570728
          ],
          "type": "data"
         },
         "error_y": {
          "array": [
           -0.002152602688789085
          ],
          "type": "data"
         },
         "marker": {
          "color": "#E15F99"
         },
         "mode": "markers",
         "name": "learning fair representation with 5 prototypes outcome",
         "showlegend": false,
         "type": "scatter",
         "x": [
          0.17598671115564543
         ],
         "xaxis": "x40",
         "y": [
          0.4329527344156016
         ],
         "yaxis": "y40"
        },
        {
         "error_x": {
          "array": [
           -0.015403051539933502
          ],
          "type": "data"
         },
         "error_y": {
          "array": [
           -0.0077788399212921355
          ],
          "type": "data"
         },
         "marker": {
          "color": "#1CA71C"
         },
         "mode": "markers",
         "name": "reweighing outcome",
         "showlegend": false,
         "type": "scatter",
         "x": [
          0.08495389282141413
         ],
         "xaxis": "x40",
         "y": [
          0.7881299748600267
         ],
         "yaxis": "y40"
        },
        {
         "error_x": {
          "array": [
           -0.029198803488258956
          ],
          "type": "data"
         },
         "error_y": {
          "array": [
           -0.006635547906478356
          ],
          "type": "data"
         },
         "marker": {
          "color": "#FB0D0D"
         },
         "mode": "markers",
         "name": "reject option classification statistical parity difference optimised outcome",
         "showlegend": false,
         "type": "scatter",
         "x": [
          0.13348472724587312
         ],
         "xaxis": "x40",
         "y": [
          0.772528256904146
         ],
         "yaxis": "y40"
        },
        {
         "error_x": {
          "array": [
           -0.018692495916675517
          ],
          "type": "data"
         },
         "error_y": {
          "array": [
           -0.006988544157140453
          ],
          "type": "data"
         },
         "marker": {
          "color": "#DA16FF"
         },
         "mode": "markers",
         "name": "reject option classification average odds difference optimised outcome",
         "showlegend": false,
         "type": "scatter",
         "x": [
          0.0949133621132277
         ],
         "xaxis": "x40",
         "y": [
          0.7851889156723292
         ],
         "yaxis": "y40"
        },
        {
         "error_x": {
          "array": [
           -0.017846119060077756
          ],
          "type": "data"
         },
         "error_y": {
          "array": [
           -0.00756928922596356
          ],
          "type": "data"
         },
         "marker": {
          "color": "#222A2A"
         },
         "mode": "markers",
         "name": "reject option classification equal opportunity difference optimised outcome",
         "showlegend": false,
         "type": "scatter",
         "x": [
          0.09507999866023782
         ],
         "xaxis": "x40",
         "y": [
          0.7814395135596558
         ],
         "yaxis": "y40"
        },
        {
         "error_x": {
          "array": [
           -0.01750430651598603
          ],
          "type": "data"
         },
         "error_y": {
          "array": [
           -0.0075302639239546165
          ],
          "type": "data"
         },
         "marker": {
          "color": "#B68100"
         },
         "mode": "markers",
         "name": "calibrated equal odds using fpr cost outcome",
         "showlegend": false,
         "type": "scatter",
         "x": [
          0.06828734070803566
         ],
         "xaxis": "x40",
         "y": [
          0.7902839392537838
         ],
         "yaxis": "y40"
        },
        {
         "error_x": {
          "array": [
           -0.015190155790662643
          ],
          "type": "data"
         },
         "error_y": {
          "array": [
           -0.007943801433894948
          ],
          "type": "data"
         },
         "marker": {
          "color": "#750D86"
         },
         "mode": "markers",
         "name": "calibrated equal odds using fnr cost outcome",
         "showlegend": false,
         "type": "scatter",
         "x": [
          0.0856879005066105
         ],
         "xaxis": "x40",
         "y": [
          0.7910821955025148
         ],
         "yaxis": "y40"
        },
        {
         "error_x": {
          "array": [
           -0.016093657016393287
          ],
          "type": "data"
         },
         "error_y": {
          "array": [
           -0.007076736740286083
          ],
          "type": "data"
         },
         "marker": {
          "color": "#EB663B"
         },
         "mode": "markers",
         "name": "calibrated equal odds using weighted cost outcome",
         "showlegend": false,
         "type": "scatter",
         "x": [
          0.06749526891036203
         ],
         "xaxis": "x40",
         "y": [
          0.7897969863172402
         ],
         "yaxis": "y40"
        },
        {
         "error_x": {
          "array": [
           -0.017955624343013687
          ],
          "type": "data"
         },
         "error_y": {
          "array": [
           -0.0074258351301023096
          ],
          "type": "data"
         },
         "marker": {
          "color": "#511CFB"
         },
         "mode": "markers",
         "name": "equal odds outcome",
         "showlegend": false,
         "type": "scatter",
         "x": [
          0.06048546530038641
         ],
         "xaxis": "x40",
         "y": [
          0.7907689047050351
         ],
         "yaxis": "y40"
        },
        {
         "line": {
          "color": "#2E91E5"
         },
         "mode": "lines+markers+text",
         "name": "fairea baseline",
         "showlegend": false,
         "text": [
          "F_0",
          "F_10",
          "F_20",
          "F_30",
          "F_40",
          "F_50",
          "F_60",
          "F_70",
          "F_80",
          "F_90",
          "F_100"
         ],
         "textposition": "bottom right",
         "type": "scatter",
         "x": [
          0.08447361056413193,
          0.09345200337853665,
          0.10246711181968643,
          0.1111075977819172,
          0.1210941520164216,
          0.12876541583986648,
          0.1386961229138992,
          0.14710135103477182,
          0.15620944901233522,
          0.16450935999017338,
          0.17393512145889978
         ],
         "xaxis": "x40",
         "y": [
          0.7929515577844785,
          0.770323575868387,
          0.7454745583940646,
          0.7198350563124358,
          0.6907517510110867,
          0.6583673450590104,
          0.6231638630124009,
          0.5836196791452549,
          0.5398550169167092,
          0.49072526494587526,
          0.43303384872544926
         ],
         "yaxis": "y40"
        },
        {
         "error_x": {
          "array": [
           0
          ],
          "type": "data"
         },
         "error_y": {
          "array": [
           0
          ],
          "type": "data"
         },
         "marker": {
          "color": "#E15F99"
         },
         "mode": "markers",
         "name": "learning fair representation with 5 prototypes outcome",
         "showlegend": false,
         "type": "scatter",
         "x": [
          0
         ],
         "xaxis": "x41",
         "y": [
          0
         ],
         "yaxis": "y41"
        },
        {
         "error_x": {
          "array": [
           -0.015938609730275263
          ],
          "type": "data"
         },
         "error_y": {
          "array": [
           -0.015343528142815144
          ],
          "type": "data"
         },
         "marker": {
          "color": "#1CA71C"
         },
         "mode": "markers",
         "name": "reweighing outcome",
         "showlegend": false,
         "type": "scatter",
         "x": [
          0.12466468717444094
         ],
         "xaxis": "x41",
         "y": [
          0.5876318106459393
         ],
         "yaxis": "y41"
        },
        {
         "error_x": {
          "array": [
           -0.029104527655856503
          ],
          "type": "data"
         },
         "error_y": {
          "array": [
           -0.011831133475147193
          ],
          "type": "data"
         },
         "marker": {
          "color": "#FB0D0D"
         },
         "mode": "markers",
         "name": "reject option classification statistical parity difference optimised outcome",
         "showlegend": false,
         "type": "scatter",
         "x": [
          0.04867880663772825
         ],
         "xaxis": "x41",
         "y": [
          0.5664684135877307
         ],
         "yaxis": "y41"
        },
        {
         "error_x": {
          "array": [
           -0.020007685017355364
          ],
          "type": "data"
         },
         "error_y": {
          "array": [
           -0.01339042181193717
          ],
          "type": "data"
         },
         "marker": {
          "color": "#DA16FF"
         },
         "mode": "markers",
         "name": "reject option classification average odds difference optimised outcome",
         "showlegend": false,
         "type": "scatter",
         "x": [
          0.21629004778376473
         ],
         "xaxis": "x41",
         "y": [
          0.5835552093902067
         ],
         "yaxis": "y41"
        },
        {
         "error_x": {
          "array": [
           -0.019225976855226506
          ],
          "type": "data"
         },
         "error_y": {
          "array": [
           -0.014194987919818991
          ],
          "type": "data"
         },
         "marker": {
          "color": "#222A2A"
         },
         "mode": "markers",
         "name": "reject option classification equal opportunity difference optimised outcome",
         "showlegend": false,
         "type": "scatter",
         "x": [
          0.2297068024524393
         ],
         "xaxis": "x41",
         "y": [
          0.5838316670068975
         ],
         "yaxis": "y41"
        },
        {
         "error_x": {
          "array": [
           -0.006020752007086905
          ],
          "type": "data"
         },
         "error_y": {
          "array": [
           -0.014323403996052142
          ],
          "type": "data"
         },
         "marker": {
          "color": "#B68100"
         },
         "mode": "markers",
         "name": "calibrated equal odds using fpr cost outcome",
         "showlegend": false,
         "type": "scatter",
         "x": [
          0.1866537866520477
         ],
         "xaxis": "x41",
         "y": [
          0.5935359007242882
         ],
         "yaxis": "y41"
        },
        {
         "error_x": {
          "array": [
           -0.013850866322104166
          ],
          "type": "data"
         },
         "error_y": {
          "array": [
           -0.01563723285079166
          ],
          "type": "data"
         },
         "marker": {
          "color": "#750D86"
         },
         "mode": "markers",
         "name": "calibrated equal odds using fnr cost outcome",
         "showlegend": false,
         "type": "scatter",
         "x": [
          0.12990398258694552
         ],
         "xaxis": "x41",
         "y": [
          0.5942409126948115
         ],
         "yaxis": "y41"
        },
        {
         "error_x": {
          "array": [
           -0.006535179901391547
          ],
          "type": "data"
         },
         "error_y": {
          "array": [
           -0.013610079365397376
          ],
          "type": "data"
         },
         "marker": {
          "color": "#EB663B"
         },
         "mode": "markers",
         "name": "calibrated equal odds using weighted cost outcome",
         "showlegend": false,
         "type": "scatter",
         "x": [
          0.18660770302748475
         ],
         "xaxis": "x41",
         "y": [
          0.5926074488238458
         ],
         "yaxis": "y41"
        },
        {
         "error_x": {
          "array": [
           -0.018809449513496036
          ],
          "type": "data"
         },
         "error_y": {
          "array": [
           -0.014524080362348868
          ],
          "type": "data"
         },
         "marker": {
          "color": "#511CFB"
         },
         "mode": "markers",
         "name": "equal odds outcome",
         "showlegend": false,
         "type": "scatter",
         "x": [
          0.10857944908483542
         ],
         "xaxis": "x41",
         "y": [
          0.5924072568587078
         ],
         "yaxis": "y41"
        },
        {
         "line": {
          "color": "#2E91E5"
         },
         "mode": "lines+markers+text",
         "name": "fairea baseline",
         "showlegend": false,
         "text": [
          "F_0",
          "F_10",
          "F_20",
          "F_30",
          "F_40",
          "F_50",
          "F_60",
          "F_70",
          "F_80",
          "F_90",
          "F_100"
         ],
         "textposition": "bottom right",
         "type": "scatter",
         "x": [
          0.13153366316698556,
          0.11849801251375537,
          0.10472988295421881,
          0.09195415421981508,
          0.07922831335294438,
          0.06532000997858656,
          0.05309684674132034,
          0.0394512980393597,
          0.02618397829024264,
          0.013510404702598865,
          0
         ],
         "xaxis": "x41",
         "y": [
          0.5973146333260341,
          0.5607801193821375,
          0.5224154494227243,
          0.4851945397839941,
          0.44470366930468885,
          0.40134238251336574,
          0.35582083665986197,
          0.3045866417835748,
          0.2472987037585174,
          0.1746223142209402,
          0
         ],
         "yaxis": "y41"
        },
        {
         "error_x": {
          "array": [
           0
          ],
          "type": "data"
         },
         "error_y": {
          "array": [
           0
          ],
          "type": "data"
         },
         "marker": {
          "color": "#E15F99"
         },
         "mode": "markers",
         "name": "learning fair representation with 5 prototypes outcome",
         "showlegend": false,
         "type": "scatter",
         "x": [
          0
         ],
         "xaxis": "x42",
         "y": [
          0
         ],
         "yaxis": "y42"
        },
        {
         "error_x": {
          "array": [
           -0.04796858726008239
          ],
          "type": "data"
         },
         "error_y": {
          "array": [
           -0.015343528142815144
          ],
          "type": "data"
         },
         "marker": {
          "color": "#1CA71C"
         },
         "mode": "markers",
         "name": "reweighing outcome",
         "showlegend": false,
         "type": "scatter",
         "x": [
          0.05334373633933181
         ],
         "xaxis": "x42",
         "y": [
          0.5876318106459393
         ],
         "yaxis": "y42"
        },
        {
         "error_x": {
          "array": [
           -0.023736001941321028
          ],
          "type": "data"
         },
         "error_y": {
          "array": [
           -0.011831133475147193
          ],
          "type": "data"
         },
         "marker": {
          "color": "#FB0D0D"
         },
         "mode": "markers",
         "name": "reject option classification statistical parity difference optimised outcome",
         "showlegend": false,
         "type": "scatter",
         "x": [
          0.16123113746705228
         ],
         "xaxis": "x42",
         "y": [
          0.5664684135877307
         ],
         "yaxis": "y42"
        },
        {
         "error_x": {
          "array": [
           -0.05274790257535417
          ],
          "type": "data"
         },
         "error_y": {
          "array": [
           -0.01339042181193717
          ],
          "type": "data"
         },
         "marker": {
          "color": "#DA16FF"
         },
         "mode": "markers",
         "name": "reject option classification average odds difference optimised outcome",
         "showlegend": false,
         "type": "scatter",
         "x": [
          0.11155351732595487
         ],
         "xaxis": "x42",
         "y": [
          0.5835552093902067
         ],
         "yaxis": "y42"
        },
        {
         "error_x": {
          "array": [
           -0.048846904112639866
          ],
          "type": "data"
         },
         "error_y": {
          "array": [
           -0.014194987919818991
          ],
          "type": "data"
         },
         "marker": {
          "color": "#222A2A"
         },
         "mode": "markers",
         "name": "reject option classification equal opportunity difference optimised outcome",
         "showlegend": false,
         "type": "scatter",
         "x": [
          0.12766130546644605
         ],
         "xaxis": "x42",
         "y": [
          0.5838316670068975
         ],
         "yaxis": "y42"
        },
        {
         "error_x": {
          "array": [
           -0.00789085379544563
          ],
          "type": "data"
         },
         "error_y": {
          "array": [
           -0.014323403996052142
          ],
          "type": "data"
         },
         "marker": {
          "color": "#B68100"
         },
         "mode": "markers",
         "name": "calibrated equal odds using fpr cost outcome",
         "showlegend": false,
         "type": "scatter",
         "x": [
          0.32254305318105053
         ],
         "xaxis": "x42",
         "y": [
          0.5935359007242882
         ],
         "yaxis": "y42"
        },
        {
         "error_x": {
          "array": [
           -0.05512203567953092
          ],
          "type": "data"
         },
         "error_y": {
          "array": [
           -0.01563723285079166
          ],
          "type": "data"
         },
         "marker": {
          "color": "#750D86"
         },
         "mode": "markers",
         "name": "calibrated equal odds using fnr cost outcome",
         "showlegend": false,
         "type": "scatter",
         "x": [
          0.06622240815118527
         ],
         "xaxis": "x42",
         "y": [
          0.5942409126948115
         ],
         "yaxis": "y42"
        },
        {
         "error_x": {
          "array": [
           -0.00774260117421155
          ],
          "type": "data"
         },
         "error_y": {
          "array": [
           -0.013610079365397376
          ],
          "type": "data"
         },
         "marker": {
          "color": "#EB663B"
         },
         "mode": "markers",
         "name": "calibrated equal odds using weighted cost outcome",
         "showlegend": false,
         "type": "scatter",
         "x": [
          0.32228034899004826
         ],
         "xaxis": "x42",
         "y": [
          0.5926074488238458
         ],
         "yaxis": "y42"
        },
        {
         "error_x": {
          "array": [
           -0.05634983952666767
          ],
          "type": "data"
         },
         "error_y": {
          "array": [
           -0.014524080362348868
          ],
          "type": "data"
         },
         "marker": {
          "color": "#511CFB"
         },
         "mode": "markers",
         "name": "equal odds outcome",
         "showlegend": false,
         "type": "scatter",
         "x": [
          0.06199656312502988
         ],
         "xaxis": "x42",
         "y": [
          0.5924072568587078
         ],
         "yaxis": "y42"
        },
        {
         "line": {
          "color": "#2E91E5"
         },
         "mode": "lines+markers+text",
         "name": "fairea baseline",
         "showlegend": false,
         "text": [
          "F_0",
          "F_10",
          "F_20",
          "F_30",
          "F_40",
          "F_50",
          "F_60",
          "F_70",
          "F_80",
          "F_90",
          "F_100"
         ],
         "textposition": "bottom right",
         "type": "scatter",
         "x": [
          0.0685830084977357,
          0.06229958436327204,
          0.053508791903183785,
          0.04724105989817864,
          0.04038699939047703,
          0.03586420723651894,
          0.03151529848110464,
          0.026498498658076165,
          0.01929714725606687,
          0.012592030215261374,
          0
         ],
         "xaxis": "x42",
         "y": [
          0.5973146333260341,
          0.5607801193821375,
          0.5224154494227243,
          0.4851945397839941,
          0.44470366930468885,
          0.40134238251336574,
          0.35582083665986197,
          0.3045866417835748,
          0.2472987037585174,
          0.1746223142209402,
          0
         ],
         "yaxis": "y42"
        },
        {
         "error_x": {
          "array": [
           0
          ],
          "type": "data"
         },
         "error_y": {
          "array": [
           0
          ],
          "type": "data"
         },
         "marker": {
          "color": "#E15F99"
         },
         "mode": "markers",
         "name": "learning fair representation with 5 prototypes outcome",
         "showlegend": false,
         "type": "scatter",
         "x": [
          0
         ],
         "xaxis": "x43",
         "y": [
          0
         ],
         "yaxis": "y43"
        },
        {
         "error_x": {
          "array": [
           -0.09623452897324174
          ],
          "type": "data"
         },
         "error_y": {
          "array": [
           -0.015343528142815144
          ],
          "type": "data"
         },
         "marker": {
          "color": "#1CA71C"
         },
         "mode": "markers",
         "name": "reweighing outcome",
         "showlegend": false,
         "type": "scatter",
         "x": [
          0.07646030647845349
         ],
         "xaxis": "x43",
         "y": [
          0.5876318106459393
         ],
         "yaxis": "y43"
        },
        {
         "error_x": {
          "array": [
           -0.03516158785169987
          ],
          "type": "data"
         },
         "error_y": {
          "array": [
           -0.011831133475147193
          ],
          "type": "data"
         },
         "marker": {
          "color": "#FB0D0D"
         },
         "mode": "markers",
         "name": "reject option classification statistical parity difference optimised outcome",
         "showlegend": false,
         "type": "scatter",
         "x": [
          0.1627143347445763
         ],
         "xaxis": "x43",
         "y": [
          0.5664684135877307
         ],
         "yaxis": "y43"
        },
        {
         "error_x": {
          "array": [
           -0.10705080611687709
          ],
          "type": "data"
         },
         "error_y": {
          "array": [
           -0.01339042181193717
          ],
          "type": "data"
         },
         "marker": {
          "color": "#DA16FF"
         },
         "mode": "markers",
         "name": "reject option classification average odds difference optimised outcome",
         "showlegend": false,
         "type": "scatter",
         "x": [
          0.11779777527493598
         ],
         "xaxis": "x43",
         "y": [
          0.5835552093902067
         ],
         "yaxis": "y43"
        },
        {
         "error_x": {
          "array": [
           -0.09663811335666511
          ],
          "type": "data"
         },
         "error_y": {
          "array": [
           -0.014194987919818991
          ],
          "type": "data"
         },
         "marker": {
          "color": "#222A2A"
         },
         "mode": "markers",
         "name": "reject option classification equal opportunity difference optimised outcome",
         "showlegend": false,
         "type": "scatter",
         "x": [
          0.13845785374280573
         ],
         "xaxis": "x43",
         "y": [
          0.5838316670068975
         ],
         "yaxis": "y43"
        },
        {
         "error_x": {
          "array": [
           -0.015371587748105653
          ],
          "type": "data"
         },
         "error_y": {
          "array": [
           -0.014323403996052142
          ],
          "type": "data"
         },
         "marker": {
          "color": "#B68100"
         },
         "mode": "markers",
         "name": "calibrated equal odds using fpr cost outcome",
         "showlegend": false,
         "type": "scatter",
         "x": [
          0.591585365067916
         ],
         "xaxis": "x43",
         "y": [
          0.5935359007242882
         ],
         "yaxis": "y43"
        },
        {
         "error_x": {
          "array": [
           -0.11062439098387514
          ],
          "type": "data"
         },
         "error_y": {
          "array": [
           -0.01563723285079166
          ],
          "type": "data"
         },
         "marker": {
          "color": "#750D86"
         },
         "mode": "markers",
         "name": "calibrated equal odds using fnr cost outcome",
         "showlegend": false,
         "type": "scatter",
         "x": [
          0.10013287478253682
         ],
         "xaxis": "x43",
         "y": [
          0.5942409126948115
         ],
         "yaxis": "y43"
        },
        {
         "error_x": {
          "array": [
           -0.014414772583860924
          ],
          "type": "data"
         },
         "error_y": {
          "array": [
           -0.013610079365397376
          ],
          "type": "data"
         },
         "marker": {
          "color": "#EB663B"
         },
         "mode": "markers",
         "name": "calibrated equal odds using weighted cost outcome",
         "showlegend": false,
         "type": "scatter",
         "x": [
          0.5909145316019755
         ],
         "xaxis": "x43",
         "y": [
          0.5926074488238458
         ],
         "yaxis": "y43"
        },
        {
         "error_x": {
          "array": [
           -0.11139601683646101
          ],
          "type": "data"
         },
         "error_y": {
          "array": [
           -0.014524080362348868
          ],
          "type": "data"
         },
         "marker": {
          "color": "#511CFB"
         },
         "mode": "markers",
         "name": "equal odds outcome",
         "showlegend": false,
         "type": "scatter",
         "x": [
          0.11437749905666379
         ],
         "xaxis": "x43",
         "y": [
          0.5924072568587078
         ],
         "yaxis": "y43"
        },
        {
         "line": {
          "color": "#2E91E5"
         },
         "mode": "lines+markers+text",
         "name": "fairea baseline",
         "showlegend": false,
         "text": [
          "F_0",
          "F_10",
          "F_20",
          "F_30",
          "F_40",
          "F_50",
          "F_60",
          "F_70",
          "F_80",
          "F_90",
          "F_100"
         ],
         "textposition": "bottom right",
         "type": "scatter",
         "x": [
          0.10440457908697472,
          0.09506240402066174,
          0.08101842803294708,
          0.07172092698589977,
          0.0604919726371632,
          0.05584461817674158,
          0.04939173530643584,
          0.04318092977802597,
          0.03205137512215552,
          0.02196872818651403,
          0
         ],
         "xaxis": "x43",
         "y": [
          0.5973146333260341,
          0.5607801193821375,
          0.5224154494227243,
          0.4851945397839941,
          0.44470366930468885,
          0.40134238251336574,
          0.35582083665986197,
          0.3045866417835748,
          0.2472987037585174,
          0.1746223142209402,
          0
         ],
         "yaxis": "y43"
        },
        {
         "error_x": {
          "array": [
           -0.01646829993570728
          ],
          "type": "data"
         },
         "error_y": {
          "array": [
           0
          ],
          "type": "data"
         },
         "marker": {
          "color": "#E15F99"
         },
         "mode": "markers",
         "name": "learning fair representation with 5 prototypes outcome",
         "showlegend": false,
         "type": "scatter",
         "x": [
          0.17598671115564543
         ],
         "xaxis": "x44",
         "y": [
          0
         ],
         "yaxis": "y44"
        },
        {
         "error_x": {
          "array": [
           -0.015403051539933502
          ],
          "type": "data"
         },
         "error_y": {
          "array": [
           -0.015343528142815144
          ],
          "type": "data"
         },
         "marker": {
          "color": "#1CA71C"
         },
         "mode": "markers",
         "name": "reweighing outcome",
         "showlegend": false,
         "type": "scatter",
         "x": [
          0.08495389282141413
         ],
         "xaxis": "x44",
         "y": [
          0.5876318106459393
         ],
         "yaxis": "y44"
        },
        {
         "error_x": {
          "array": [
           -0.029198803488258956
          ],
          "type": "data"
         },
         "error_y": {
          "array": [
           -0.011831133475147193
          ],
          "type": "data"
         },
         "marker": {
          "color": "#FB0D0D"
         },
         "mode": "markers",
         "name": "reject option classification statistical parity difference optimised outcome",
         "showlegend": false,
         "type": "scatter",
         "x": [
          0.13348472724587312
         ],
         "xaxis": "x44",
         "y": [
          0.5664684135877307
         ],
         "yaxis": "y44"
        },
        {
         "error_x": {
          "array": [
           -0.018692495916675517
          ],
          "type": "data"
         },
         "error_y": {
          "array": [
           -0.01339042181193717
          ],
          "type": "data"
         },
         "marker": {
          "color": "#DA16FF"
         },
         "mode": "markers",
         "name": "reject option classification average odds difference optimised outcome",
         "showlegend": false,
         "type": "scatter",
         "x": [
          0.0949133621132277
         ],
         "xaxis": "x44",
         "y": [
          0.5835552093902067
         ],
         "yaxis": "y44"
        },
        {
         "error_x": {
          "array": [
           -0.017846119060077756
          ],
          "type": "data"
         },
         "error_y": {
          "array": [
           -0.014194987919818991
          ],
          "type": "data"
         },
         "marker": {
          "color": "#222A2A"
         },
         "mode": "markers",
         "name": "reject option classification equal opportunity difference optimised outcome",
         "showlegend": false,
         "type": "scatter",
         "x": [
          0.09507999866023782
         ],
         "xaxis": "x44",
         "y": [
          0.5838316670068975
         ],
         "yaxis": "y44"
        },
        {
         "error_x": {
          "array": [
           -0.01750430651598603
          ],
          "type": "data"
         },
         "error_y": {
          "array": [
           -0.014323403996052142
          ],
          "type": "data"
         },
         "marker": {
          "color": "#B68100"
         },
         "mode": "markers",
         "name": "calibrated equal odds using fpr cost outcome",
         "showlegend": false,
         "type": "scatter",
         "x": [
          0.06828734070803566
         ],
         "xaxis": "x44",
         "y": [
          0.5935359007242882
         ],
         "yaxis": "y44"
        },
        {
         "error_x": {
          "array": [
           -0.015190155790662643
          ],
          "type": "data"
         },
         "error_y": {
          "array": [
           -0.01563723285079166
          ],
          "type": "data"
         },
         "marker": {
          "color": "#750D86"
         },
         "mode": "markers",
         "name": "calibrated equal odds using fnr cost outcome",
         "showlegend": false,
         "type": "scatter",
         "x": [
          0.0856879005066105
         ],
         "xaxis": "x44",
         "y": [
          0.5942409126948115
         ],
         "yaxis": "y44"
        },
        {
         "error_x": {
          "array": [
           -0.016093657016393287
          ],
          "type": "data"
         },
         "error_y": {
          "array": [
           -0.013610079365397376
          ],
          "type": "data"
         },
         "marker": {
          "color": "#EB663B"
         },
         "mode": "markers",
         "name": "calibrated equal odds using weighted cost outcome",
         "showlegend": false,
         "type": "scatter",
         "x": [
          0.06749526891036203
         ],
         "xaxis": "x44",
         "y": [
          0.5926074488238458
         ],
         "yaxis": "y44"
        },
        {
         "error_x": {
          "array": [
           -0.017955624343013687
          ],
          "type": "data"
         },
         "error_y": {
          "array": [
           -0.014524080362348868
          ],
          "type": "data"
         },
         "marker": {
          "color": "#511CFB"
         },
         "mode": "markers",
         "name": "equal odds outcome",
         "showlegend": false,
         "type": "scatter",
         "x": [
          0.06048546530038641
         ],
         "xaxis": "x44",
         "y": [
          0.5924072568587078
         ],
         "yaxis": "y44"
        },
        {
         "line": {
          "color": "#2E91E5"
         },
         "mode": "lines+markers+text",
         "name": "fairea baseline",
         "showlegend": false,
         "text": [
          "F_0",
          "F_10",
          "F_20",
          "F_30",
          "F_40",
          "F_50",
          "F_60",
          "F_70",
          "F_80",
          "F_90",
          "F_100"
         ],
         "textposition": "bottom right",
         "type": "scatter",
         "x": [
          0.08447361056413193,
          0.09345200337853665,
          0.10246711181968643,
          0.1111075977819172,
          0.1210941520164216,
          0.12876541583986648,
          0.1386961229138992,
          0.14710135103477182,
          0.15620944901233522,
          0.16450935999017338,
          0.17393512145889978
         ],
         "xaxis": "x44",
         "y": [
          0.5973146333260341,
          0.5607801193821375,
          0.5224154494227243,
          0.4851945397839941,
          0.44470366930468885,
          0.40134238251336574,
          0.35582083665986197,
          0.3045866417835748,
          0.2472987037585174,
          0.1746223142209402,
          0
         ],
         "yaxis": "y44"
        }
       ],
       "layout": {
        "height": 3200,
        "template": {
         "data": {
          "bar": [
           {
            "error_x": {
             "color": "#2a3f5f"
            },
            "error_y": {
             "color": "#2a3f5f"
            },
            "marker": {
             "line": {
              "color": "#E5ECF6",
              "width": 0.5
             },
             "pattern": {
              "fillmode": "overlay",
              "size": 10,
              "solidity": 0.2
             }
            },
            "type": "bar"
           }
          ],
          "barpolar": [
           {
            "marker": {
             "line": {
              "color": "#E5ECF6",
              "width": 0.5
             },
             "pattern": {
              "fillmode": "overlay",
              "size": 10,
              "solidity": 0.2
             }
            },
            "type": "barpolar"
           }
          ],
          "carpet": [
           {
            "aaxis": {
             "endlinecolor": "#2a3f5f",
             "gridcolor": "white",
             "linecolor": "white",
             "minorgridcolor": "white",
             "startlinecolor": "#2a3f5f"
            },
            "baxis": {
             "endlinecolor": "#2a3f5f",
             "gridcolor": "white",
             "linecolor": "white",
             "minorgridcolor": "white",
             "startlinecolor": "#2a3f5f"
            },
            "type": "carpet"
           }
          ],
          "choropleth": [
           {
            "colorbar": {
             "outlinewidth": 0,
             "ticks": ""
            },
            "type": "choropleth"
           }
          ],
          "contour": [
           {
            "colorbar": {
             "outlinewidth": 0,
             "ticks": ""
            },
            "colorscale": [
             [
              0,
              "#0d0887"
             ],
             [
              0.1111111111111111,
              "#46039f"
             ],
             [
              0.2222222222222222,
              "#7201a8"
             ],
             [
              0.3333333333333333,
              "#9c179e"
             ],
             [
              0.4444444444444444,
              "#bd3786"
             ],
             [
              0.5555555555555556,
              "#d8576b"
             ],
             [
              0.6666666666666666,
              "#ed7953"
             ],
             [
              0.7777777777777778,
              "#fb9f3a"
             ],
             [
              0.8888888888888888,
              "#fdca26"
             ],
             [
              1,
              "#f0f921"
             ]
            ],
            "type": "contour"
           }
          ],
          "contourcarpet": [
           {
            "colorbar": {
             "outlinewidth": 0,
             "ticks": ""
            },
            "type": "contourcarpet"
           }
          ],
          "heatmap": [
           {
            "colorbar": {
             "outlinewidth": 0,
             "ticks": ""
            },
            "colorscale": [
             [
              0,
              "#0d0887"
             ],
             [
              0.1111111111111111,
              "#46039f"
             ],
             [
              0.2222222222222222,
              "#7201a8"
             ],
             [
              0.3333333333333333,
              "#9c179e"
             ],
             [
              0.4444444444444444,
              "#bd3786"
             ],
             [
              0.5555555555555556,
              "#d8576b"
             ],
             [
              0.6666666666666666,
              "#ed7953"
             ],
             [
              0.7777777777777778,
              "#fb9f3a"
             ],
             [
              0.8888888888888888,
              "#fdca26"
             ],
             [
              1,
              "#f0f921"
             ]
            ],
            "type": "heatmap"
           }
          ],
          "heatmapgl": [
           {
            "colorbar": {
             "outlinewidth": 0,
             "ticks": ""
            },
            "colorscale": [
             [
              0,
              "#0d0887"
             ],
             [
              0.1111111111111111,
              "#46039f"
             ],
             [
              0.2222222222222222,
              "#7201a8"
             ],
             [
              0.3333333333333333,
              "#9c179e"
             ],
             [
              0.4444444444444444,
              "#bd3786"
             ],
             [
              0.5555555555555556,
              "#d8576b"
             ],
             [
              0.6666666666666666,
              "#ed7953"
             ],
             [
              0.7777777777777778,
              "#fb9f3a"
             ],
             [
              0.8888888888888888,
              "#fdca26"
             ],
             [
              1,
              "#f0f921"
             ]
            ],
            "type": "heatmapgl"
           }
          ],
          "histogram": [
           {
            "marker": {
             "pattern": {
              "fillmode": "overlay",
              "size": 10,
              "solidity": 0.2
             }
            },
            "type": "histogram"
           }
          ],
          "histogram2d": [
           {
            "colorbar": {
             "outlinewidth": 0,
             "ticks": ""
            },
            "colorscale": [
             [
              0,
              "#0d0887"
             ],
             [
              0.1111111111111111,
              "#46039f"
             ],
             [
              0.2222222222222222,
              "#7201a8"
             ],
             [
              0.3333333333333333,
              "#9c179e"
             ],
             [
              0.4444444444444444,
              "#bd3786"
             ],
             [
              0.5555555555555556,
              "#d8576b"
             ],
             [
              0.6666666666666666,
              "#ed7953"
             ],
             [
              0.7777777777777778,
              "#fb9f3a"
             ],
             [
              0.8888888888888888,
              "#fdca26"
             ],
             [
              1,
              "#f0f921"
             ]
            ],
            "type": "histogram2d"
           }
          ],
          "histogram2dcontour": [
           {
            "colorbar": {
             "outlinewidth": 0,
             "ticks": ""
            },
            "colorscale": [
             [
              0,
              "#0d0887"
             ],
             [
              0.1111111111111111,
              "#46039f"
             ],
             [
              0.2222222222222222,
              "#7201a8"
             ],
             [
              0.3333333333333333,
              "#9c179e"
             ],
             [
              0.4444444444444444,
              "#bd3786"
             ],
             [
              0.5555555555555556,
              "#d8576b"
             ],
             [
              0.6666666666666666,
              "#ed7953"
             ],
             [
              0.7777777777777778,
              "#fb9f3a"
             ],
             [
              0.8888888888888888,
              "#fdca26"
             ],
             [
              1,
              "#f0f921"
             ]
            ],
            "type": "histogram2dcontour"
           }
          ],
          "mesh3d": [
           {
            "colorbar": {
             "outlinewidth": 0,
             "ticks": ""
            },
            "type": "mesh3d"
           }
          ],
          "parcoords": [
           {
            "line": {
             "colorbar": {
              "outlinewidth": 0,
              "ticks": ""
             }
            },
            "type": "parcoords"
           }
          ],
          "pie": [
           {
            "automargin": true,
            "type": "pie"
           }
          ],
          "scatter": [
           {
            "fillpattern": {
             "fillmode": "overlay",
             "size": 10,
             "solidity": 0.2
            },
            "type": "scatter"
           }
          ],
          "scatter3d": [
           {
            "line": {
             "colorbar": {
              "outlinewidth": 0,
              "ticks": ""
             }
            },
            "marker": {
             "colorbar": {
              "outlinewidth": 0,
              "ticks": ""
             }
            },
            "type": "scatter3d"
           }
          ],
          "scattercarpet": [
           {
            "marker": {
             "colorbar": {
              "outlinewidth": 0,
              "ticks": ""
             }
            },
            "type": "scattercarpet"
           }
          ],
          "scattergeo": [
           {
            "marker": {
             "colorbar": {
              "outlinewidth": 0,
              "ticks": ""
             }
            },
            "type": "scattergeo"
           }
          ],
          "scattergl": [
           {
            "marker": {
             "colorbar": {
              "outlinewidth": 0,
              "ticks": ""
             }
            },
            "type": "scattergl"
           }
          ],
          "scattermapbox": [
           {
            "marker": {
             "colorbar": {
              "outlinewidth": 0,
              "ticks": ""
             }
            },
            "type": "scattermapbox"
           }
          ],
          "scatterpolar": [
           {
            "marker": {
             "colorbar": {
              "outlinewidth": 0,
              "ticks": ""
             }
            },
            "type": "scatterpolar"
           }
          ],
          "scatterpolargl": [
           {
            "marker": {
             "colorbar": {
              "outlinewidth": 0,
              "ticks": ""
             }
            },
            "type": "scatterpolargl"
           }
          ],
          "scatterternary": [
           {
            "marker": {
             "colorbar": {
              "outlinewidth": 0,
              "ticks": ""
             }
            },
            "type": "scatterternary"
           }
          ],
          "surface": [
           {
            "colorbar": {
             "outlinewidth": 0,
             "ticks": ""
            },
            "colorscale": [
             [
              0,
              "#0d0887"
             ],
             [
              0.1111111111111111,
              "#46039f"
             ],
             [
              0.2222222222222222,
              "#7201a8"
             ],
             [
              0.3333333333333333,
              "#9c179e"
             ],
             [
              0.4444444444444444,
              "#bd3786"
             ],
             [
              0.5555555555555556,
              "#d8576b"
             ],
             [
              0.6666666666666666,
              "#ed7953"
             ],
             [
              0.7777777777777778,
              "#fb9f3a"
             ],
             [
              0.8888888888888888,
              "#fdca26"
             ],
             [
              1,
              "#f0f921"
             ]
            ],
            "type": "surface"
           }
          ],
          "table": [
           {
            "cells": {
             "fill": {
              "color": "#EBF0F8"
             },
             "line": {
              "color": "white"
             }
            },
            "header": {
             "fill": {
              "color": "#C8D4E3"
             },
             "line": {
              "color": "white"
             }
            },
            "type": "table"
           }
          ]
         },
         "layout": {
          "annotationdefaults": {
           "arrowcolor": "#2a3f5f",
           "arrowhead": 0,
           "arrowwidth": 1
          },
          "autotypenumbers": "strict",
          "coloraxis": {
           "colorbar": {
            "outlinewidth": 0,
            "ticks": ""
           }
          },
          "colorscale": {
           "diverging": [
            [
             0,
             "#8e0152"
            ],
            [
             0.1,
             "#c51b7d"
            ],
            [
             0.2,
             "#de77ae"
            ],
            [
             0.3,
             "#f1b6da"
            ],
            [
             0.4,
             "#fde0ef"
            ],
            [
             0.5,
             "#f7f7f7"
            ],
            [
             0.6,
             "#e6f5d0"
            ],
            [
             0.7,
             "#b8e186"
            ],
            [
             0.8,
             "#7fbc41"
            ],
            [
             0.9,
             "#4d9221"
            ],
            [
             1,
             "#276419"
            ]
           ],
           "sequential": [
            [
             0,
             "#0d0887"
            ],
            [
             0.1111111111111111,
             "#46039f"
            ],
            [
             0.2222222222222222,
             "#7201a8"
            ],
            [
             0.3333333333333333,
             "#9c179e"
            ],
            [
             0.4444444444444444,
             "#bd3786"
            ],
            [
             0.5555555555555556,
             "#d8576b"
            ],
            [
             0.6666666666666666,
             "#ed7953"
            ],
            [
             0.7777777777777778,
             "#fb9f3a"
            ],
            [
             0.8888888888888888,
             "#fdca26"
            ],
            [
             1,
             "#f0f921"
            ]
           ],
           "sequentialminus": [
            [
             0,
             "#0d0887"
            ],
            [
             0.1111111111111111,
             "#46039f"
            ],
            [
             0.2222222222222222,
             "#7201a8"
            ],
            [
             0.3333333333333333,
             "#9c179e"
            ],
            [
             0.4444444444444444,
             "#bd3786"
            ],
            [
             0.5555555555555556,
             "#d8576b"
            ],
            [
             0.6666666666666666,
             "#ed7953"
            ],
            [
             0.7777777777777778,
             "#fb9f3a"
            ],
            [
             0.8888888888888888,
             "#fdca26"
            ],
            [
             1,
             "#f0f921"
            ]
           ]
          },
          "colorway": [
           "#636efa",
           "#EF553B",
           "#00cc96",
           "#ab63fa",
           "#FFA15A",
           "#19d3f3",
           "#FF6692",
           "#B6E880",
           "#FF97FF",
           "#FECB52"
          ],
          "font": {
           "color": "#2a3f5f"
          },
          "geo": {
           "bgcolor": "white",
           "lakecolor": "white",
           "landcolor": "#E5ECF6",
           "showlakes": true,
           "showland": true,
           "subunitcolor": "white"
          },
          "hoverlabel": {
           "align": "left"
          },
          "hovermode": "closest",
          "mapbox": {
           "style": "light"
          },
          "paper_bgcolor": "white",
          "plot_bgcolor": "#E5ECF6",
          "polar": {
           "angularaxis": {
            "gridcolor": "white",
            "linecolor": "white",
            "ticks": ""
           },
           "bgcolor": "#E5ECF6",
           "radialaxis": {
            "gridcolor": "white",
            "linecolor": "white",
            "ticks": ""
           }
          },
          "scene": {
           "xaxis": {
            "backgroundcolor": "#E5ECF6",
            "gridcolor": "white",
            "gridwidth": 2,
            "linecolor": "white",
            "showbackground": true,
            "ticks": "",
            "zerolinecolor": "white"
           },
           "yaxis": {
            "backgroundcolor": "#E5ECF6",
            "gridcolor": "white",
            "gridwidth": 2,
            "linecolor": "white",
            "showbackground": true,
            "ticks": "",
            "zerolinecolor": "white"
           },
           "zaxis": {
            "backgroundcolor": "#E5ECF6",
            "gridcolor": "white",
            "gridwidth": 2,
            "linecolor": "white",
            "showbackground": true,
            "ticks": "",
            "zerolinecolor": "white"
           }
          },
          "shapedefaults": {
           "line": {
            "color": "#2a3f5f"
           }
          },
          "ternary": {
           "aaxis": {
            "gridcolor": "white",
            "linecolor": "white",
            "ticks": ""
           },
           "baxis": {
            "gridcolor": "white",
            "linecolor": "white",
            "ticks": ""
           },
           "bgcolor": "#E5ECF6",
           "caxis": {
            "gridcolor": "white",
            "linecolor": "white",
            "ticks": ""
           }
          },
          "title": {
           "x": 0.05
          },
          "xaxis": {
           "automargin": true,
           "gridcolor": "white",
           "linecolor": "white",
           "ticks": "",
           "title": {
            "standoff": 15
           },
           "zerolinecolor": "white",
           "zerolinewidth": 2
          },
          "yaxis": {
           "automargin": true,
           "gridcolor": "white",
           "linecolor": "white",
           "ticks": "",
           "title": {
            "standoff": 15
           },
           "zerolinecolor": "white",
           "zerolinewidth": 2
          }
         }
        },
        "width": 2200,
        "xaxis": {
         "anchor": "y",
         "domain": [
          0,
          0.2125
         ],
         "dtick": 0.1,
         "tick0": 0
        },
        "xaxis10": {
         "anchor": "y10",
         "domain": [
          0.2625,
          0.475
         ],
         "dtick": 0.1,
         "tick0": 0
        },
        "xaxis11": {
         "anchor": "y11",
         "domain": [
          0.525,
          0.7375
         ],
         "dtick": 0.1,
         "tick0": 0
        },
        "xaxis12": {
         "anchor": "y12",
         "domain": [
          0.7875,
          1
         ],
         "dtick": 0.1,
         "tick0": 0
        },
        "xaxis13": {
         "anchor": "y13",
         "domain": [
          0,
          0.2125
         ],
         "dtick": 0.1,
         "tick0": 0
        },
        "xaxis14": {
         "anchor": "y14",
         "domain": [
          0.2625,
          0.475
         ],
         "dtick": 0.1,
         "tick0": 0
        },
        "xaxis15": {
         "anchor": "y15",
         "domain": [
          0.525,
          0.7375
         ],
         "dtick": 0.1,
         "tick0": 0
        },
        "xaxis16": {
         "anchor": "y16",
         "domain": [
          0.7875,
          1
         ],
         "dtick": 0.1,
         "tick0": 0
        },
        "xaxis17": {
         "anchor": "y17",
         "domain": [
          0,
          0.2125
         ],
         "dtick": 0.1,
         "tick0": 0
        },
        "xaxis18": {
         "anchor": "y18",
         "domain": [
          0.2625,
          0.475
         ],
         "dtick": 0.1,
         "tick0": 0
        },
        "xaxis19": {
         "anchor": "y19",
         "domain": [
          0.525,
          0.7375
         ],
         "dtick": 0.1,
         "tick0": 0
        },
        "xaxis2": {
         "anchor": "y2",
         "domain": [
          0.2625,
          0.475
         ],
         "dtick": 0.1,
         "tick0": 0
        },
        "xaxis20": {
         "anchor": "y20",
         "domain": [
          0.7875,
          1
         ],
         "dtick": 0.1,
         "tick0": 0
        },
        "xaxis21": {
         "anchor": "y21",
         "domain": [
          0,
          0.2125
         ],
         "dtick": 0.1,
         "tick0": 0
        },
        "xaxis22": {
         "anchor": "y22",
         "domain": [
          0.2625,
          0.475
         ],
         "dtick": 0.1,
         "tick0": 0
        },
        "xaxis23": {
         "anchor": "y23",
         "domain": [
          0.525,
          0.7375
         ],
         "dtick": 0.1,
         "tick0": 0
        },
        "xaxis24": {
         "anchor": "y24",
         "domain": [
          0.7875,
          1
         ],
         "dtick": 0.1,
         "tick0": 0
        },
        "xaxis25": {
         "anchor": "y25",
         "domain": [
          0,
          0.2125
         ],
         "dtick": 0.1,
         "tick0": 0
        },
        "xaxis26": {
         "anchor": "y26",
         "domain": [
          0.2625,
          0.475
         ],
         "dtick": 0.1,
         "tick0": 0
        },
        "xaxis27": {
         "anchor": "y27",
         "domain": [
          0.525,
          0.7375
         ],
         "dtick": 0.1,
         "tick0": 0
        },
        "xaxis28": {
         "anchor": "y28",
         "domain": [
          0.7875,
          1
         ],
         "dtick": 0.1,
         "tick0": 0
        },
        "xaxis29": {
         "anchor": "y29",
         "domain": [
          0,
          0.2125
         ],
         "dtick": 0.1,
         "tick0": 0
        },
        "xaxis3": {
         "anchor": "y3",
         "domain": [
          0.525,
          0.7375
         ],
         "dtick": 0.1,
         "tick0": 0
        },
        "xaxis30": {
         "anchor": "y30",
         "domain": [
          0.2625,
          0.475
         ],
         "dtick": 0.1,
         "tick0": 0
        },
        "xaxis31": {
         "anchor": "y31",
         "domain": [
          0.525,
          0.7375
         ],
         "dtick": 0.1,
         "tick0": 0
        },
        "xaxis32": {
         "anchor": "y32",
         "domain": [
          0.7875,
          1
         ],
         "dtick": 0.1,
         "tick0": 0
        },
        "xaxis33": {
         "anchor": "y33",
         "domain": [
          0,
          0.2125
         ],
         "dtick": 0.1,
         "tick0": 0
        },
        "xaxis34": {
         "anchor": "y34",
         "domain": [
          0.2625,
          0.475
         ],
         "dtick": 0.1,
         "tick0": 0
        },
        "xaxis35": {
         "anchor": "y35",
         "domain": [
          0.525,
          0.7375
         ],
         "dtick": 0.1,
         "tick0": 0
        },
        "xaxis36": {
         "anchor": "y36",
         "domain": [
          0.7875,
          1
         ],
         "dtick": 0.1,
         "tick0": 0
        },
        "xaxis37": {
         "anchor": "y37",
         "domain": [
          0,
          0.2125
         ],
         "dtick": 0.1,
         "tick0": 0
        },
        "xaxis38": {
         "anchor": "y38",
         "domain": [
          0.2625,
          0.475
         ],
         "dtick": 0.1,
         "tick0": 0
        },
        "xaxis39": {
         "anchor": "y39",
         "domain": [
          0.525,
          0.7375
         ],
         "dtick": 0.1,
         "tick0": 0
        },
        "xaxis4": {
         "anchor": "y4",
         "domain": [
          0.7875,
          1
         ],
         "dtick": 0.1,
         "tick0": 0
        },
        "xaxis40": {
         "anchor": "y40",
         "domain": [
          0.7875,
          1
         ],
         "dtick": 0.1,
         "tick0": 0
        },
        "xaxis41": {
         "anchor": "y41",
         "domain": [
          0,
          0.2125
         ],
         "dtick": 0.1,
         "tick0": 0,
         "title": {
          "text": "Bias (statistical parity difference)"
         }
        },
        "xaxis42": {
         "anchor": "y42",
         "domain": [
          0.2625,
          0.475
         ],
         "dtick": 0.1,
         "tick0": 0,
         "title": {
          "text": "Bias (average odds difference)"
         }
        },
        "xaxis43": {
         "anchor": "y43",
         "domain": [
          0.525,
          0.7375
         ],
         "dtick": 0.1,
         "tick0": 0,
         "title": {
          "text": "Bias (equal opportunity difference)"
         }
        },
        "xaxis44": {
         "anchor": "y44",
         "domain": [
          0.7875,
          1
         ],
         "dtick": 0.1,
         "tick0": 0,
         "title": {
          "text": "Bias (error rate difference)"
         }
        },
        "xaxis5": {
         "anchor": "y5",
         "domain": [
          0,
          0.2125
         ],
         "dtick": 0.1,
         "tick0": 0
        },
        "xaxis6": {
         "anchor": "y6",
         "domain": [
          0.2625,
          0.475
         ],
         "dtick": 0.1,
         "tick0": 0
        },
        "xaxis7": {
         "anchor": "y7",
         "domain": [
          0.525,
          0.7375
         ],
         "dtick": 0.1,
         "tick0": 0
        },
        "xaxis8": {
         "anchor": "y8",
         "domain": [
          0.7875,
          1
         ],
         "dtick": 0.1,
         "tick0": 0
        },
        "xaxis9": {
         "anchor": "y9",
         "domain": [
          0,
          0.2125
         ],
         "dtick": 0.1,
         "tick0": 0
        },
        "yaxis": {
         "anchor": "x",
         "domain": [
          0.9338842975206612,
          1
         ],
         "dtick": 0.1,
         "tick0": 0,
         "title": {
          "text": "Performance (accuracy)"
         }
        },
        "yaxis10": {
         "anchor": "x10",
         "domain": [
          0.7471074380165289,
          0.8132231404958677
         ],
         "dtick": 0.1,
         "tick0": 0
        },
        "yaxis11": {
         "anchor": "x11",
         "domain": [
          0.7471074380165289,
          0.8132231404958677
         ],
         "dtick": 0.1,
         "tick0": 0
        },
        "yaxis12": {
         "anchor": "x12",
         "domain": [
          0.7471074380165289,
          0.8132231404958677
         ],
         "dtick": 0.1,
         "tick0": 0
        },
        "yaxis13": {
         "anchor": "x13",
         "domain": [
          0.6537190082644628,
          0.7198347107438017
         ],
         "dtick": 0.1,
         "tick0": 0,
         "title": {
          "text": "Performance (recall macro average)"
         }
        },
        "yaxis14": {
         "anchor": "x14",
         "domain": [
          0.6537190082644628,
          0.7198347107438017
         ],
         "dtick": 0.1,
         "tick0": 0
        },
        "yaxis15": {
         "anchor": "x15",
         "domain": [
          0.6537190082644628,
          0.7198347107438017
         ],
         "dtick": 0.1,
         "tick0": 0
        },
        "yaxis16": {
         "anchor": "x16",
         "domain": [
          0.6537190082644628,
          0.7198347107438017
         ],
         "dtick": 0.1,
         "tick0": 0
        },
        "yaxis17": {
         "anchor": "x17",
         "domain": [
          0.5603305785123966,
          0.6264462809917355
         ],
         "dtick": 0.1,
         "tick0": 0,
         "title": {
          "text": "Performance (precision positive class)"
         }
        },
        "yaxis18": {
         "anchor": "x18",
         "domain": [
          0.5603305785123966,
          0.6264462809917355
         ],
         "dtick": 0.1,
         "tick0": 0
        },
        "yaxis19": {
         "anchor": "x19",
         "domain": [
          0.5603305785123966,
          0.6264462809917355
         ],
         "dtick": 0.1,
         "tick0": 0
        },
        "yaxis2": {
         "anchor": "x2",
         "domain": [
          0.9338842975206612,
          1
         ],
         "dtick": 0.1,
         "tick0": 0
        },
        "yaxis20": {
         "anchor": "x20",
         "domain": [
          0.5603305785123966,
          0.6264462809917355
         ],
         "dtick": 0.1,
         "tick0": 0
        },
        "yaxis21": {
         "anchor": "x21",
         "domain": [
          0.4669421487603306,
          0.5330578512396694
         ],
         "dtick": 0.1,
         "tick0": 0,
         "title": {
          "text": "Performance (precision negative class)"
         }
        },
        "yaxis22": {
         "anchor": "x22",
         "domain": [
          0.4669421487603306,
          0.5330578512396694
         ],
         "dtick": 0.1,
         "tick0": 0
        },
        "yaxis23": {
         "anchor": "x23",
         "domain": [
          0.4669421487603306,
          0.5330578512396694
         ],
         "dtick": 0.1,
         "tick0": 0
        },
        "yaxis24": {
         "anchor": "x24",
         "domain": [
          0.4669421487603306,
          0.5330578512396694
         ],
         "dtick": 0.1,
         "tick0": 0
        },
        "yaxis25": {
         "anchor": "x25",
         "domain": [
          0.37355371900826445,
          0.4396694214876033
         ],
         "dtick": 0.1,
         "tick0": 0,
         "title": {
          "text": "Performance (precision macro average)"
         }
        },
        "yaxis26": {
         "anchor": "x26",
         "domain": [
          0.37355371900826445,
          0.4396694214876033
         ],
         "dtick": 0.1,
         "tick0": 0
        },
        "yaxis27": {
         "anchor": "x27",
         "domain": [
          0.37355371900826445,
          0.4396694214876033
         ],
         "dtick": 0.1,
         "tick0": 0
        },
        "yaxis28": {
         "anchor": "x28",
         "domain": [
          0.37355371900826445,
          0.4396694214876033
         ],
         "dtick": 0.1,
         "tick0": 0
        },
        "yaxis29": {
         "anchor": "x29",
         "domain": [
          0.2801652892561983,
          0.34628099173553717
         ],
         "dtick": 0.1,
         "tick0": 0,
         "title": {
          "text": "Performance (f1 score positive class)"
         }
        },
        "yaxis3": {
         "anchor": "x3",
         "domain": [
          0.9338842975206612,
          1
         ],
         "dtick": 0.1,
         "tick0": 0
        },
        "yaxis30": {
         "anchor": "x30",
         "domain": [
          0.2801652892561983,
          0.34628099173553717
         ],
         "dtick": 0.1,
         "tick0": 0
        },
        "yaxis31": {
         "anchor": "x31",
         "domain": [
          0.2801652892561983,
          0.34628099173553717
         ],
         "dtick": 0.1,
         "tick0": 0
        },
        "yaxis32": {
         "anchor": "x32",
         "domain": [
          0.2801652892561983,
          0.34628099173553717
         ],
         "dtick": 0.1,
         "tick0": 0
        },
        "yaxis33": {
         "anchor": "x33",
         "domain": [
          0.18677685950413223,
          0.2528925619834711
         ],
         "dtick": 0.1,
         "tick0": 0,
         "title": {
          "text": "Performance (f1 score negative class)"
         }
        },
        "yaxis34": {
         "anchor": "x34",
         "domain": [
          0.18677685950413223,
          0.2528925619834711
         ],
         "dtick": 0.1,
         "tick0": 0
        },
        "yaxis35": {
         "anchor": "x35",
         "domain": [
          0.18677685950413223,
          0.2528925619834711
         ],
         "dtick": 0.1,
         "tick0": 0
        },
        "yaxis36": {
         "anchor": "x36",
         "domain": [
          0.18677685950413223,
          0.2528925619834711
         ],
         "dtick": 0.1,
         "tick0": 0
        },
        "yaxis37": {
         "anchor": "x37",
         "domain": [
          0.09338842975206611,
          0.15950413223140497
         ],
         "dtick": 0.1,
         "tick0": 0,
         "title": {
          "text": "Performance (f1 score macro average)"
         }
        },
        "yaxis38": {
         "anchor": "x38",
         "domain": [
          0.09338842975206611,
          0.15950413223140497
         ],
         "dtick": 0.1,
         "tick0": 0
        },
        "yaxis39": {
         "anchor": "x39",
         "domain": [
          0.09338842975206611,
          0.15950413223140497
         ],
         "dtick": 0.1,
         "tick0": 0
        },
        "yaxis4": {
         "anchor": "x4",
         "domain": [
          0.9338842975206612,
          1
         ],
         "dtick": 0.1,
         "tick0": 0
        },
        "yaxis40": {
         "anchor": "x40",
         "domain": [
          0.09338842975206611,
          0.15950413223140497
         ],
         "dtick": 0.1,
         "tick0": 0
        },
        "yaxis41": {
         "anchor": "x41",
         "domain": [
          0,
          0.06611570247933884
         ],
         "dtick": 0.1,
         "tick0": 0,
         "title": {
          "text": "Performance (Matthews correlation coefficient)"
         }
        },
        "yaxis42": {
         "anchor": "x42",
         "domain": [
          0,
          0.06611570247933884
         ],
         "dtick": 0.1,
         "tick0": 0
        },
        "yaxis43": {
         "anchor": "x43",
         "domain": [
          0,
          0.06611570247933884
         ],
         "dtick": 0.1,
         "tick0": 0
        },
        "yaxis44": {
         "anchor": "x44",
         "domain": [
          0,
          0.06611570247933884
         ],
         "dtick": 0.1,
         "tick0": 0
        },
        "yaxis5": {
         "anchor": "x5",
         "domain": [
          0.8404958677685951,
          0.9066115702479339
         ],
         "dtick": 0.1,
         "tick0": 0,
         "title": {
          "text": "Performance (recall positive class)"
         }
        },
        "yaxis6": {
         "anchor": "x6",
         "domain": [
          0.8404958677685951,
          0.9066115702479339
         ],
         "dtick": 0.1,
         "tick0": 0
        },
        "yaxis7": {
         "anchor": "x7",
         "domain": [
          0.8404958677685951,
          0.9066115702479339
         ],
         "dtick": 0.1,
         "tick0": 0
        },
        "yaxis8": {
         "anchor": "x8",
         "domain": [
          0.8404958677685951,
          0.9066115702479339
         ],
         "dtick": 0.1,
         "tick0": 0
        },
        "yaxis9": {
         "anchor": "x9",
         "domain": [
          0.7471074380165289,
          0.8132231404958677
         ],
         "dtick": 0.1,
         "tick0": 0,
         "title": {
          "text": "Performance (recall negative class)"
         }
        }
       }
      }
     },
     "metadata": {},
     "output_type": "display_data"
    },
    {
     "ename": "AttributeError",
     "evalue": "'NoneType' object has no attribute 'show'",
     "output_type": "error",
     "traceback": [
      "\u001b[0;31m---------------------------------------------------------------------------\u001b[0m",
      "\u001b[0;31mAttributeError\u001b[0m                            Traceback (most recent call last)",
      "\u001b[1;32m/Users/daws/Project/bias_framework/testing_notebook.ipynb Cell 25\u001b[0m line \u001b[0;36m1\n\u001b[0;32m----> <a href='vscode-notebook-cell:/Users/daws/Project/bias_framework/testing_notebook.ipynb#X36sZmlsZQ%3D%3D?line=0'>1</a>\u001b[0m random_forest_bias\u001b[39m.\u001b[39;49mshow_all_fairea_graphs()\n",
      "File \u001b[0;32m~/Project/bias_framework/bias_framework/bias_framework.py:182\u001b[0m, in \u001b[0;36mBias_Framework.show_all_fairea_graphs\u001b[0;34m(self)\u001b[0m\n\u001b[1;32m    181\u001b[0m \u001b[39mdef\u001b[39;00m \u001b[39mshow_all_fairea_graphs\u001b[39m(\u001b[39mself\u001b[39m) \u001b[39m-\u001b[39m\u001b[39m>\u001b[39m \u001b[39mNone\u001b[39;00m:\n\u001b[0;32m--> 182\u001b[0m     \u001b[39mself\u001b[39;49m\u001b[39m.\u001b[39;49m__fairea\u001b[39m.\u001b[39;49mshow_all_subplots()\n",
      "File \u001b[0;32m~/Project/bias_framework/bias_framework/debiasing_graphs.py:145\u001b[0m, in \u001b[0;36mDebiasingGraphsObject.show_all_subplots\u001b[0;34m(self)\u001b[0m\n\u001b[1;32m    143\u001b[0m \u001b[39mdef\u001b[39;00m \u001b[39mshow_all_subplots\u001b[39m(\u001b[39mself\u001b[39m) \u001b[39m-\u001b[39m\u001b[39m>\u001b[39m \u001b[39mNone\u001b[39;00m:\n\u001b[1;32m    144\u001b[0m \u001b[39m    \u001b[39m\u001b[39m\"\"\"Displays a matrix of graphs showing the impact of debiasing as measured using all available metrics\"\"\"\u001b[39;00m\n\u001b[0;32m--> 145\u001b[0m     \u001b[39mself\u001b[39;49m\u001b[39m.\u001b[39;49mget_all_subplots()\u001b[39m.\u001b[39;49mshow()\n",
      "\u001b[0;31mAttributeError\u001b[0m: 'NoneType' object has no attribute 'show'"
     ]
    }
   ],
   "source": [
    "random_forest_bias.show_all_fairea_graphs()"
   ]
  },
  {
   "cell_type": "code",
   "execution_count": 24,
   "metadata": {},
   "outputs": [
    {
     "data": {
      "application/vnd.plotly.v1+json": {
       "config": {
        "plotlyServerURL": "https://plot.ly"
       },
       "data": [
        {
         "error_x": {
          "array": [
           0
          ],
          "type": "data"
         },
         "error_y": {
          "array": [
           -0.006696050914705931
          ],
          "type": "data"
         },
         "marker": {
          "color": "#E15F99"
         },
         "mode": "markers",
         "name": "learning fair representation with 5 prototypes outcome",
         "showlegend": true,
         "type": "scatter",
         "x": [
          0
         ],
         "y": [
          0.7635280388182545
         ]
        },
        {
         "error_x": {
          "array": [
           -0.09623452897324174
          ],
          "type": "data"
         },
         "error_y": {
          "array": [
           -0.005391613373116666
          ],
          "type": "data"
         },
         "marker": {
          "color": "#1CA71C"
         },
         "mode": "markers",
         "name": "reweighing outcome",
         "showlegend": true,
         "type": "scatter",
         "x": [
          0.07646030647845349
         ],
         "y": [
          0.8607499539340335
         ]
        },
        {
         "error_x": {
          "array": [
           -0.03516158785169987
          ],
          "type": "data"
         },
         "error_y": {
          "array": [
           -0.005594741907474665
          ],
          "type": "data"
         },
         "marker": {
          "color": "#FB0D0D"
         },
         "mode": "markers",
         "name": "reject option classification statistical parity difference optimised outcome",
         "showlegend": true,
         "type": "scatter",
         "x": [
          0.1627143347445763
         ],
         "y": [
          0.8146772311283091
         ]
        },
        {
         "error_x": {
          "array": [
           -0.10705080611687709
          ],
          "type": "data"
         },
         "error_y": {
          "array": [
           -0.005275910456433053
          ],
          "type": "data"
         },
         "marker": {
          "color": "#DA16FF"
         },
         "mode": "markers",
         "name": "reject option classification average odds difference optimised outcome",
         "showlegend": true,
         "type": "scatter",
         "x": [
          0.11779777527493598
         ],
         "y": [
          0.8293028683741784
         ]
        },
        {
         "error_x": {
          "array": [
           -0.09663811335666511
          ],
          "type": "data"
         },
         "error_y": {
          "array": [
           -0.006406959430259596
          ],
          "type": "data"
         },
         "marker": {
          "color": "#222A2A"
         },
         "mode": "markers",
         "name": "reject option classification equal opportunity difference optimised outcome",
         "showlegend": true,
         "type": "scatter",
         "x": [
          0.13845785374280573
         ],
         "y": [
          0.8222590749953933
         ]
        },
        {
         "error_x": {
          "array": [
           -0.015371587748105653
          ],
          "type": "data"
         },
         "error_y": {
          "array": [
           -0.00508603163207777
          ],
          "type": "data"
         },
         "marker": {
          "color": "#B68100"
         },
         "mode": "markers",
         "name": "calibrated equal odds using fpr cost outcome",
         "showlegend": true,
         "type": "scatter",
         "x": [
          0.591585365067916
         ],
         "y": [
          0.8630249984644678
         ]
        },
        {
         "error_x": {
          "array": [
           -0.11062439098387514
          ],
          "type": "data"
         },
         "error_y": {
          "array": [
           -0.005411192067177439
          ],
          "type": "data"
         },
         "marker": {
          "color": "#750D86"
         },
         "mode": "markers",
         "name": "calibrated equal odds using fnr cost outcome",
         "showlegend": true,
         "type": "scatter",
         "x": [
          0.10013287478253682
         ],
         "y": [
          0.8628984706099133
         ]
        },
        {
         "error_x": {
          "array": [
           -0.014414772583860924
          ],
          "type": "data"
         },
         "error_y": {
          "array": [
           -0.00527686009800532
          ],
          "type": "data"
         },
         "marker": {
          "color": "#EB663B"
         },
         "mode": "markers",
         "name": "calibrated equal odds using weighted cost outcome",
         "showlegend": true,
         "type": "scatter",
         "x": [
          0.5909145316019755
         ],
         "y": [
          0.862676125545114
         ]
        },
        {
         "error_x": {
          "array": [
           -0.11139601683646101
          ],
          "type": "data"
         },
         "error_y": {
          "array": [
           -0.004884066264292275
          ],
          "type": "data"
         },
         "marker": {
          "color": "#511CFB"
         },
         "mode": "markers",
         "name": "equal odds outcome",
         "showlegend": true,
         "type": "scatter",
         "x": [
          0.11437749905666379
         ],
         "y": [
          0.8623997297463304
         ]
        },
        {
         "line": {
          "color": "#2E91E5"
         },
         "mode": "lines+markers+text",
         "name": "fairea baseline",
         "showlegend": true,
         "text": [
          "F_0",
          "F_10",
          "F_20",
          "F_30",
          "F_40",
          "F_50",
          "F_60",
          "F_70",
          "F_80",
          "F_90",
          "F_100"
         ],
         "textposition": "bottom right",
         "type": "scatter",
         "x": [
          0.10440457908697472,
          0.09506240402066174,
          0.08101842803294708,
          0.07172092698589977,
          0.0604919726371632,
          0.05584461817674158,
          0.04939173530643584,
          0.04318092977802597,
          0.03205137512215552,
          0.02196872818651403,
          0
         ],
         "y": [
          0.8639518457097229,
          0.8540003685277316,
          0.843744241754192,
          0.8341477796204163,
          0.8241017136539526,
          0.8139070081690312,
          0.803951845709723,
          0.7937841655917943,
          0.7839235919169583,
          0.7740089675081383,
          0.7637737239727288
         ]
        }
       ],
       "layout": {
        "template": {
         "data": {
          "bar": [
           {
            "error_x": {
             "color": "#2a3f5f"
            },
            "error_y": {
             "color": "#2a3f5f"
            },
            "marker": {
             "line": {
              "color": "#E5ECF6",
              "width": 0.5
             },
             "pattern": {
              "fillmode": "overlay",
              "size": 10,
              "solidity": 0.2
             }
            },
            "type": "bar"
           }
          ],
          "barpolar": [
           {
            "marker": {
             "line": {
              "color": "#E5ECF6",
              "width": 0.5
             },
             "pattern": {
              "fillmode": "overlay",
              "size": 10,
              "solidity": 0.2
             }
            },
            "type": "barpolar"
           }
          ],
          "carpet": [
           {
            "aaxis": {
             "endlinecolor": "#2a3f5f",
             "gridcolor": "white",
             "linecolor": "white",
             "minorgridcolor": "white",
             "startlinecolor": "#2a3f5f"
            },
            "baxis": {
             "endlinecolor": "#2a3f5f",
             "gridcolor": "white",
             "linecolor": "white",
             "minorgridcolor": "white",
             "startlinecolor": "#2a3f5f"
            },
            "type": "carpet"
           }
          ],
          "choropleth": [
           {
            "colorbar": {
             "outlinewidth": 0,
             "ticks": ""
            },
            "type": "choropleth"
           }
          ],
          "contour": [
           {
            "colorbar": {
             "outlinewidth": 0,
             "ticks": ""
            },
            "colorscale": [
             [
              0,
              "#0d0887"
             ],
             [
              0.1111111111111111,
              "#46039f"
             ],
             [
              0.2222222222222222,
              "#7201a8"
             ],
             [
              0.3333333333333333,
              "#9c179e"
             ],
             [
              0.4444444444444444,
              "#bd3786"
             ],
             [
              0.5555555555555556,
              "#d8576b"
             ],
             [
              0.6666666666666666,
              "#ed7953"
             ],
             [
              0.7777777777777778,
              "#fb9f3a"
             ],
             [
              0.8888888888888888,
              "#fdca26"
             ],
             [
              1,
              "#f0f921"
             ]
            ],
            "type": "contour"
           }
          ],
          "contourcarpet": [
           {
            "colorbar": {
             "outlinewidth": 0,
             "ticks": ""
            },
            "type": "contourcarpet"
           }
          ],
          "heatmap": [
           {
            "colorbar": {
             "outlinewidth": 0,
             "ticks": ""
            },
            "colorscale": [
             [
              0,
              "#0d0887"
             ],
             [
              0.1111111111111111,
              "#46039f"
             ],
             [
              0.2222222222222222,
              "#7201a8"
             ],
             [
              0.3333333333333333,
              "#9c179e"
             ],
             [
              0.4444444444444444,
              "#bd3786"
             ],
             [
              0.5555555555555556,
              "#d8576b"
             ],
             [
              0.6666666666666666,
              "#ed7953"
             ],
             [
              0.7777777777777778,
              "#fb9f3a"
             ],
             [
              0.8888888888888888,
              "#fdca26"
             ],
             [
              1,
              "#f0f921"
             ]
            ],
            "type": "heatmap"
           }
          ],
          "heatmapgl": [
           {
            "colorbar": {
             "outlinewidth": 0,
             "ticks": ""
            },
            "colorscale": [
             [
              0,
              "#0d0887"
             ],
             [
              0.1111111111111111,
              "#46039f"
             ],
             [
              0.2222222222222222,
              "#7201a8"
             ],
             [
              0.3333333333333333,
              "#9c179e"
             ],
             [
              0.4444444444444444,
              "#bd3786"
             ],
             [
              0.5555555555555556,
              "#d8576b"
             ],
             [
              0.6666666666666666,
              "#ed7953"
             ],
             [
              0.7777777777777778,
              "#fb9f3a"
             ],
             [
              0.8888888888888888,
              "#fdca26"
             ],
             [
              1,
              "#f0f921"
             ]
            ],
            "type": "heatmapgl"
           }
          ],
          "histogram": [
           {
            "marker": {
             "pattern": {
              "fillmode": "overlay",
              "size": 10,
              "solidity": 0.2
             }
            },
            "type": "histogram"
           }
          ],
          "histogram2d": [
           {
            "colorbar": {
             "outlinewidth": 0,
             "ticks": ""
            },
            "colorscale": [
             [
              0,
              "#0d0887"
             ],
             [
              0.1111111111111111,
              "#46039f"
             ],
             [
              0.2222222222222222,
              "#7201a8"
             ],
             [
              0.3333333333333333,
              "#9c179e"
             ],
             [
              0.4444444444444444,
              "#bd3786"
             ],
             [
              0.5555555555555556,
              "#d8576b"
             ],
             [
              0.6666666666666666,
              "#ed7953"
             ],
             [
              0.7777777777777778,
              "#fb9f3a"
             ],
             [
              0.8888888888888888,
              "#fdca26"
             ],
             [
              1,
              "#f0f921"
             ]
            ],
            "type": "histogram2d"
           }
          ],
          "histogram2dcontour": [
           {
            "colorbar": {
             "outlinewidth": 0,
             "ticks": ""
            },
            "colorscale": [
             [
              0,
              "#0d0887"
             ],
             [
              0.1111111111111111,
              "#46039f"
             ],
             [
              0.2222222222222222,
              "#7201a8"
             ],
             [
              0.3333333333333333,
              "#9c179e"
             ],
             [
              0.4444444444444444,
              "#bd3786"
             ],
             [
              0.5555555555555556,
              "#d8576b"
             ],
             [
              0.6666666666666666,
              "#ed7953"
             ],
             [
              0.7777777777777778,
              "#fb9f3a"
             ],
             [
              0.8888888888888888,
              "#fdca26"
             ],
             [
              1,
              "#f0f921"
             ]
            ],
            "type": "histogram2dcontour"
           }
          ],
          "mesh3d": [
           {
            "colorbar": {
             "outlinewidth": 0,
             "ticks": ""
            },
            "type": "mesh3d"
           }
          ],
          "parcoords": [
           {
            "line": {
             "colorbar": {
              "outlinewidth": 0,
              "ticks": ""
             }
            },
            "type": "parcoords"
           }
          ],
          "pie": [
           {
            "automargin": true,
            "type": "pie"
           }
          ],
          "scatter": [
           {
            "fillpattern": {
             "fillmode": "overlay",
             "size": 10,
             "solidity": 0.2
            },
            "type": "scatter"
           }
          ],
          "scatter3d": [
           {
            "line": {
             "colorbar": {
              "outlinewidth": 0,
              "ticks": ""
             }
            },
            "marker": {
             "colorbar": {
              "outlinewidth": 0,
              "ticks": ""
             }
            },
            "type": "scatter3d"
           }
          ],
          "scattercarpet": [
           {
            "marker": {
             "colorbar": {
              "outlinewidth": 0,
              "ticks": ""
             }
            },
            "type": "scattercarpet"
           }
          ],
          "scattergeo": [
           {
            "marker": {
             "colorbar": {
              "outlinewidth": 0,
              "ticks": ""
             }
            },
            "type": "scattergeo"
           }
          ],
          "scattergl": [
           {
            "marker": {
             "colorbar": {
              "outlinewidth": 0,
              "ticks": ""
             }
            },
            "type": "scattergl"
           }
          ],
          "scattermapbox": [
           {
            "marker": {
             "colorbar": {
              "outlinewidth": 0,
              "ticks": ""
             }
            },
            "type": "scattermapbox"
           }
          ],
          "scatterpolar": [
           {
            "marker": {
             "colorbar": {
              "outlinewidth": 0,
              "ticks": ""
             }
            },
            "type": "scatterpolar"
           }
          ],
          "scatterpolargl": [
           {
            "marker": {
             "colorbar": {
              "outlinewidth": 0,
              "ticks": ""
             }
            },
            "type": "scatterpolargl"
           }
          ],
          "scatterternary": [
           {
            "marker": {
             "colorbar": {
              "outlinewidth": 0,
              "ticks": ""
             }
            },
            "type": "scatterternary"
           }
          ],
          "surface": [
           {
            "colorbar": {
             "outlinewidth": 0,
             "ticks": ""
            },
            "colorscale": [
             [
              0,
              "#0d0887"
             ],
             [
              0.1111111111111111,
              "#46039f"
             ],
             [
              0.2222222222222222,
              "#7201a8"
             ],
             [
              0.3333333333333333,
              "#9c179e"
             ],
             [
              0.4444444444444444,
              "#bd3786"
             ],
             [
              0.5555555555555556,
              "#d8576b"
             ],
             [
              0.6666666666666666,
              "#ed7953"
             ],
             [
              0.7777777777777778,
              "#fb9f3a"
             ],
             [
              0.8888888888888888,
              "#fdca26"
             ],
             [
              1,
              "#f0f921"
             ]
            ],
            "type": "surface"
           }
          ],
          "table": [
           {
            "cells": {
             "fill": {
              "color": "#EBF0F8"
             },
             "line": {
              "color": "white"
             }
            },
            "header": {
             "fill": {
              "color": "#C8D4E3"
             },
             "line": {
              "color": "white"
             }
            },
            "type": "table"
           }
          ]
         },
         "layout": {
          "annotationdefaults": {
           "arrowcolor": "#2a3f5f",
           "arrowhead": 0,
           "arrowwidth": 1
          },
          "autotypenumbers": "strict",
          "coloraxis": {
           "colorbar": {
            "outlinewidth": 0,
            "ticks": ""
           }
          },
          "colorscale": {
           "diverging": [
            [
             0,
             "#8e0152"
            ],
            [
             0.1,
             "#c51b7d"
            ],
            [
             0.2,
             "#de77ae"
            ],
            [
             0.3,
             "#f1b6da"
            ],
            [
             0.4,
             "#fde0ef"
            ],
            [
             0.5,
             "#f7f7f7"
            ],
            [
             0.6,
             "#e6f5d0"
            ],
            [
             0.7,
             "#b8e186"
            ],
            [
             0.8,
             "#7fbc41"
            ],
            [
             0.9,
             "#4d9221"
            ],
            [
             1,
             "#276419"
            ]
           ],
           "sequential": [
            [
             0,
             "#0d0887"
            ],
            [
             0.1111111111111111,
             "#46039f"
            ],
            [
             0.2222222222222222,
             "#7201a8"
            ],
            [
             0.3333333333333333,
             "#9c179e"
            ],
            [
             0.4444444444444444,
             "#bd3786"
            ],
            [
             0.5555555555555556,
             "#d8576b"
            ],
            [
             0.6666666666666666,
             "#ed7953"
            ],
            [
             0.7777777777777778,
             "#fb9f3a"
            ],
            [
             0.8888888888888888,
             "#fdca26"
            ],
            [
             1,
             "#f0f921"
            ]
           ],
           "sequentialminus": [
            [
             0,
             "#0d0887"
            ],
            [
             0.1111111111111111,
             "#46039f"
            ],
            [
             0.2222222222222222,
             "#7201a8"
            ],
            [
             0.3333333333333333,
             "#9c179e"
            ],
            [
             0.4444444444444444,
             "#bd3786"
            ],
            [
             0.5555555555555556,
             "#d8576b"
            ],
            [
             0.6666666666666666,
             "#ed7953"
            ],
            [
             0.7777777777777778,
             "#fb9f3a"
            ],
            [
             0.8888888888888888,
             "#fdca26"
            ],
            [
             1,
             "#f0f921"
            ]
           ]
          },
          "colorway": [
           "#636efa",
           "#EF553B",
           "#00cc96",
           "#ab63fa",
           "#FFA15A",
           "#19d3f3",
           "#FF6692",
           "#B6E880",
           "#FF97FF",
           "#FECB52"
          ],
          "font": {
           "color": "#2a3f5f"
          },
          "geo": {
           "bgcolor": "white",
           "lakecolor": "white",
           "landcolor": "#E5ECF6",
           "showlakes": true,
           "showland": true,
           "subunitcolor": "white"
          },
          "hoverlabel": {
           "align": "left"
          },
          "hovermode": "closest",
          "mapbox": {
           "style": "light"
          },
          "paper_bgcolor": "white",
          "plot_bgcolor": "#E5ECF6",
          "polar": {
           "angularaxis": {
            "gridcolor": "white",
            "linecolor": "white",
            "ticks": ""
           },
           "bgcolor": "#E5ECF6",
           "radialaxis": {
            "gridcolor": "white",
            "linecolor": "white",
            "ticks": ""
           }
          },
          "scene": {
           "xaxis": {
            "backgroundcolor": "#E5ECF6",
            "gridcolor": "white",
            "gridwidth": 2,
            "linecolor": "white",
            "showbackground": true,
            "ticks": "",
            "zerolinecolor": "white"
           },
           "yaxis": {
            "backgroundcolor": "#E5ECF6",
            "gridcolor": "white",
            "gridwidth": 2,
            "linecolor": "white",
            "showbackground": true,
            "ticks": "",
            "zerolinecolor": "white"
           },
           "zaxis": {
            "backgroundcolor": "#E5ECF6",
            "gridcolor": "white",
            "gridwidth": 2,
            "linecolor": "white",
            "showbackground": true,
            "ticks": "",
            "zerolinecolor": "white"
           }
          },
          "shapedefaults": {
           "line": {
            "color": "#2a3f5f"
           }
          },
          "ternary": {
           "aaxis": {
            "gridcolor": "white",
            "linecolor": "white",
            "ticks": ""
           },
           "baxis": {
            "gridcolor": "white",
            "linecolor": "white",
            "ticks": ""
           },
           "bgcolor": "#E5ECF6",
           "caxis": {
            "gridcolor": "white",
            "linecolor": "white",
            "ticks": ""
           }
          },
          "title": {
           "x": 0.05
          },
          "xaxis": {
           "automargin": true,
           "gridcolor": "white",
           "linecolor": "white",
           "ticks": "",
           "title": {
            "standoff": 15
           },
           "zerolinecolor": "white",
           "zerolinewidth": 2
          },
          "yaxis": {
           "automargin": true,
           "gridcolor": "white",
           "linecolor": "white",
           "ticks": "",
           "title": {
            "standoff": 15
           },
           "zerolinecolor": "white",
           "zerolinewidth": 2
          }
         }
        },
        "title": {
         "text": "Debias Methodologies impact on accuracy and equal opportunity difference"
        },
        "xaxis": {
         "dtick": 0.1,
         "tick0": 0,
         "title": {
          "text": "Bias (equal opportunity difference)"
         }
        },
        "yaxis": {
         "dtick": 0.1,
         "tick0": 0,
         "title": {
          "text": "Error (accuracy)"
         }
        }
       }
      }
     },
     "metadata": {},
     "output_type": "display_data"
    }
   ],
   "source": [
    "\n",
    "random_forest_bias.show_fairea_graph(\"accuracy\", \"equal opportunity difference\")\n"
   ]
  },
  {
   "cell_type": "code",
   "execution_count": 25,
   "metadata": {},
   "outputs": [],
   "source": [
    "graph_1 = random_forest_bias.get_FaireaGraphsObject()"
   ]
  },
  {
   "cell_type": "code",
   "execution_count": 26,
   "metadata": {},
   "outputs": [],
   "source": [
    "graph_2 = random_forest_bias.get_FaireaGraphsObject()"
   ]
  },
  {
   "cell_type": "code",
   "execution_count": 27,
   "metadata": {},
   "outputs": [
    {
     "ename": "TypeError",
     "evalue": "DebiasingGraphsComposition() takes no arguments",
     "output_type": "error",
     "traceback": [
      "\u001b[0;31m---------------------------------------------------------------------------\u001b[0m",
      "\u001b[0;31mTypeError\u001b[0m                                 Traceback (most recent call last)",
      "\u001b[1;32m/Users/daws/Project/bias_framework/testing_notebook.ipynb Cell 29\u001b[0m line \u001b[0;36m1\n\u001b[0;32m----> <a href='vscode-notebook-cell:/Users/daws/Project/bias_framework/testing_notebook.ipynb#X43sZmlsZQ%3D%3D?line=0'>1</a>\u001b[0m graph_3 \u001b[39m=\u001b[39m graph_1 \u001b[39m+\u001b[39;49m graph_2\n",
      "File \u001b[0;32m~/Project/bias_framework/bias_framework/debiasing_graphs.py:221\u001b[0m, in \u001b[0;36mDebiasingGraphsObject.__add__\u001b[0;34m(self, other)\u001b[0m\n\u001b[1;32m    219\u001b[0m \u001b[39mdef\u001b[39;00m \u001b[39m__add__\u001b[39m(\u001b[39mself\u001b[39m, other) \u001b[39m-\u001b[39m\u001b[39m>\u001b[39m \u001b[39m\"\u001b[39m\u001b[39mDebiasingGraphsComposition\u001b[39m\u001b[39m\"\u001b[39m:\n\u001b[1;32m    220\u001b[0m     \u001b[39mif\u001b[39;00m \u001b[39misinstance\u001b[39m(other, DebiasingGraphsObject):\n\u001b[0;32m--> 221\u001b[0m         \u001b[39mreturn\u001b[39;00m DebiasingGraphsComposition(\u001b[39mself\u001b[39;49m, other)\n\u001b[1;32m    222\u001b[0m     \u001b[39mreturn\u001b[39;00m \u001b[39mNotImplemented\u001b[39m\n",
      "\u001b[0;31mTypeError\u001b[0m: DebiasingGraphsComposition() takes no arguments"
     ]
    }
   ],
   "source": [
    "graph_3 = graph_1 + graph_2"
   ]
  }
 ],
 "metadata": {
  "kernelspec": {
   "display_name": "bias_framework-lO12qBfZ",
   "language": "python",
   "name": "python3"
  },
  "language_info": {
   "codemirror_mode": {
    "name": "ipython",
    "version": 3
   },
   "file_extension": ".py",
   "mimetype": "text/x-python",
   "name": "python",
   "nbconvert_exporter": "python",
   "pygments_lexer": "ipython3",
   "version": "3.11.8"
  },
  "orig_nbformat": 4
 },
 "nbformat": 4,
 "nbformat_minor": 2
}
