{
 "cells": [
  {
   "cell_type": "code",
   "execution_count": null,
   "metadata": {},
   "outputs": [],
   "source": [
    "from bias_framework import Bias_Framework\n",
    "import pandas as pd\n",
    "from sklearn.ensemble import RandomForestClassifier\n"
   ]
  },
  {
   "cell_type": "markdown",
   "metadata": {},
   "source": [
    "Download data from https://archive.ics.uci.edu/dataset/2/adult and unzip in this directory"
   ]
  },
  {
   "cell_type": "code",
   "execution_count": null,
   "metadata": {},
   "outputs": [],
   "source": [
    "# Data appears not to include column names, but these can be found in adult.names. fnlwgt isn't a very good name, but it isn't mine\n",
    "df_census_income_train = pd.read_csv(\"./adult/adult.data\", names=[\"age\", \"workclass\", \"fnlwgt\", \"education\", \"education-num\", \"marital-status\", \"occupation\", \"relationship\", \"race\", \"sex\", \"capital-gain\", \"capital-loss\", \"hours-per-week\", \"native-country\", \"income\"])\n",
    "\n",
    "df_census_income_validation = pd.read_csv(\"./adult/adult.test\", skiprows=1, names=[\"age\", \"workclass\", \"fnlwgt\", \"education\", \"education-num\", \"marital-status\", \"occupation\", \"relationship\", \"race\", \"sex\", \"capital-gain\", \"capital-loss\", \"hours-per-week\", \"native-country\", \"income\"])\n",
    "\n"
   ]
  },
  {
   "cell_type": "code",
   "execution_count": null,
   "metadata": {},
   "outputs": [],
   "source": [
    "df_census_income_train.head()"
   ]
  },
  {
   "cell_type": "code",
   "execution_count": null,
   "metadata": {},
   "outputs": [],
   "source": [
    "df_census_income_validation.head()"
   ]
  },
  {
   "cell_type": "code",
   "execution_count": null,
   "metadata": {},
   "outputs": [],
   "source": [
    "df_census_income_train.info()"
   ]
  },
  {
   "cell_type": "code",
   "execution_count": null,
   "metadata": {},
   "outputs": [],
   "source": [
    "\n",
    "\n",
    "df_census_income_train.describe()\n",
    "\n"
   ]
  },
  {
   "cell_type": "code",
   "execution_count": null,
   "metadata": {},
   "outputs": [],
   "source": [
    "for column in df_census_income_train.columns:\n",
    "    print(column + \",\", df_census_income_train[column].nunique(), \"unique values,\")"
   ]
  },
  {
   "cell_type": "markdown",
   "metadata": {},
   "source": [
    "We will partly adapt https://www.kaggle.com/code/yashhvyass/adult-census-income-logistic-reg-explained-86-2 in order to save dev time. This will be useful to return to for further modelling, but right now I am just going to do the bare minimum to test the bias framework"
   ]
  },
  {
   "cell_type": "code",
   "execution_count": null,
   "metadata": {},
   "outputs": [],
   "source": [
    "df_census_income_train[\"sex\"] = df_census_income_train[\"sex\"].apply(lambda x: 1 if x.strip().lower() == \"male\" else 0)\n",
    "# According to the graphs in the link provided (and verified below more simply) the dataset is overwhelming white, so group all other races together\n",
    "# This is also useful since it makes it simpler to compare fairness\n",
    "df_census_income_train[\"race\"] = df_census_income_train[\"race\"].apply(lambda x: 1 if x.strip().lower() == \"white\" else 0)\n",
    "# Similar to race\n",
    "df_census_income_train[\"native-country\"] = df_census_income_train[\"native-country\"].apply(lambda x: 1 if x.strip().lower() == \"united-states\" else 0)\n",
    "df_census_income_train[\"income\"] = df_census_income_train[\"income\"].apply(lambda x: 1 if x.strip().lower() == \">50k\" else 0)\n",
    "\n",
    "# Everything we do to the training data we need to do to the validation data\n",
    "df_census_income_validation[\"sex\"] = df_census_income_validation[\"sex\"].apply(lambda x: 1 if x.strip().lower() == \"male\" else 0)\n",
    "df_census_income_validation[\"race\"] = df_census_income_validation[\"race\"].apply(lambda x: 1 if x.strip().lower() == \"white\" else 0)\n",
    "df_census_income_validation[\"native-country\"] = df_census_income_validation[\"native-country\"].apply(lambda x: 1 if x.strip().lower() == \"united-states\" else 0)\n",
    "# Turns out this is ever so slightly different from the training set\n",
    "df_census_income_validation[\"income\"] = df_census_income_validation[\"income\"].apply(lambda x: 1 if x.strip().lower() == \">50k.\" else 0)\n"
   ]
  },
  {
   "cell_type": "code",
   "execution_count": null,
   "metadata": {},
   "outputs": [],
   "source": [
    "df_census_income_train[\"race\"].value_counts()"
   ]
  },
  {
   "cell_type": "code",
   "execution_count": null,
   "metadata": {},
   "outputs": [],
   "source": [
    "df_census_income_train[\"native-country\"].value_counts()"
   ]
  },
  {
   "cell_type": "code",
   "execution_count": null,
   "metadata": {},
   "outputs": [],
   "source": [
    "df_census_income_train[\"income\"].value_counts()"
   ]
  },
  {
   "cell_type": "code",
   "execution_count": null,
   "metadata": {},
   "outputs": [],
   "source": [
    "print(\"Training data percent belonging to class 0:\")\n",
    "print(len(df_census_income_train[df_census_income_train[\"income\"] == 0]) / len(df_census_income_train))\n",
    "print(\"Validation data percent belonging to class 0:\")\n",
    "print(len(df_census_income_validation[df_census_income_validation[\"income\"] == 0]) / len(df_census_income_validation))"
   ]
  },
  {
   "cell_type": "code",
   "execution_count": null,
   "metadata": {},
   "outputs": [],
   "source": [
    "# Getting rid of fnlwgt because the discription in the kaggle link does not make it sound useful\n",
    "# Getting rid of education-num since it duplicates education, which we can 1 hot encode\n",
    "df_census_income_train.drop(columns=[\"fnlwgt\", \"education-num\"], inplace=True)\n",
    "df_census_income_validation.drop(columns=[\"fnlwgt\", \"education-num\"], inplace=True)\n"
   ]
  },
  {
   "cell_type": "code",
   "execution_count": null,
   "metadata": {},
   "outputs": [],
   "source": [
    "df_census_income_train = pd.get_dummies(df_census_income_train, columns=df_census_income_train.select_dtypes(include=['object']).columns.tolist())\n",
    "df_census_income_validation = pd.get_dummies(df_census_income_validation, columns=df_census_income_validation.select_dtypes(include=['object']).columns.tolist())"
   ]
  },
  {
   "cell_type": "code",
   "execution_count": null,
   "metadata": {},
   "outputs": [],
   "source": [
    "df_census_income_train.head()"
   ]
  },
  {
   "cell_type": "code",
   "execution_count": null,
   "metadata": {},
   "outputs": [],
   "source": [
    "# My class assumes that the target variable will be the last column of the dataframe, which is not the case here. Thise cell corrects that\n",
    "df_census_income_train = pd.concat([df_census_income_train.drop(columns=[\"income\"]), df_census_income_train[\"income\"]], axis=1)\n",
    "df_census_income_validation = pd.concat([df_census_income_validation.drop(columns=[\"income\"]), df_census_income_validation[\"income\"]], axis=1)"
   ]
  },
  {
   "cell_type": "code",
   "execution_count": null,
   "metadata": {},
   "outputs": [],
   "source": [
    "df_census_income_train.head()"
   ]
  },
  {
   "cell_type": "code",
   "execution_count": null,
   "metadata": {},
   "outputs": [],
   "source": [
    "random_forest_classifier = RandomForestClassifier(n_estimators=10, max_depth=20, random_state=0)\n",
    "\n",
    "\n",
    "random_forest_bias = Bias_Framework(random_forest_classifier, df_census_income_train, df_census_income_validation)"
   ]
  },
  {
   "cell_type": "code",
   "execution_count": null,
   "metadata": {},
   "outputs": [],
   "source": [
    "random_forest_bias.set_privilege_function(lambda x: x[\"sex\"] == 1 or x[\"race\"] == 1)"
   ]
  },
  {
   "cell_type": "code",
   "execution_count": null,
   "metadata": {},
   "outputs": [],
   "source": [
    "random_forest_bias.run_framework()\n",
    "\n"
   ]
  },
  {
   "cell_type": "code",
   "execution_count": null,
   "metadata": {},
   "outputs": [],
   "source": [
    "test = random_forest_bias.get_raw_data()"
   ]
  },
  {
   "cell_type": "code",
   "execution_count": null,
   "metadata": {},
   "outputs": [],
   "source": [
    "# test[\"reweighing\"][\"error\"][\"accuracy\"]"
   ]
  },
  {
   "cell_type": "code",
   "execution_count": null,
   "metadata": {},
   "outputs": [],
   "source": [
    "# for key in test[\"no debiasing\"][\"fairness\"].keys():\n",
    "#     print(key, test[\"no debiasing\"][\"fairness\"][key][\"value\"] - test[\"reweighing\"][\"fairness\"][key][\"value\"])\n",
    "# for key in test[\"no debiasing\"][\"error\"].keys():\n",
    "#     print(key, test[\"no debiasing\"][\"error\"][key][\"value\"] - test[\"reweighing\"][\"error\"][key][\"value\"])"
   ]
  },
  {
   "cell_type": "code",
   "execution_count": null,
   "metadata": {},
   "outputs": [],
   "source": [
    "random_forest_bias.show_fairea_graph(\"accuracy\", \"statistical parity difference\")"
   ]
  },
  {
   "cell_type": "code",
   "execution_count": null,
   "metadata": {},
   "outputs": [],
   "source": [
    "random_forest_bias.show_all_fairea_graphs()"
   ]
  },
  {
   "cell_type": "code",
   "execution_count": null,
   "metadata": {},
   "outputs": [],
   "source": [
    "\n",
    "\n"
   ]
  }
 ],
 "metadata": {
  "kernelspec": {
   "display_name": "bias_framework-lO12qBfZ",
   "language": "python",
   "name": "python3"
  },
  "language_info": {
   "codemirror_mode": {
    "name": "ipython",
    "version": 3
   },
   "file_extension": ".py",
   "mimetype": "text/x-python",
   "name": "python",
   "nbconvert_exporter": "python",
   "pygments_lexer": "ipython3",
   "version": "3.11.8"
  },
  "orig_nbformat": 4
 },
 "nbformat": 4,
 "nbformat_minor": 2
}
